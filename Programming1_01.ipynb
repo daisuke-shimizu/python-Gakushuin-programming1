{
  "nbformat": 4,
  "nbformat_minor": 0,
  "metadata": {
    "colab": {
      "name": "Programming1-01.ipynb",
      "provenance": [],
      "collapsed_sections": [],
      "include_colab_link": true
    },
    "kernelspec": {
      "display_name": "Python 3",
      "language": "python",
      "name": "python3"
    },
    "language_info": {
      "codemirror_mode": {
        "name": "ipython",
        "version": 3
      },
      "file_extension": ".py",
      "mimetype": "text/x-python",
      "name": "python",
      "nbconvert_exporter": "python",
      "pygments_lexer": "ipython3",
      "version": "3.7.5"
    }
  },
  "cells": [
    {
      "cell_type": "markdown",
      "metadata": {
        "id": "view-in-github",
        "colab_type": "text"
      },
      "source": [
        "<a href=\"https://colab.research.google.com/github/daisuke-shimizu/python-Gakushuin-programming1/blob/main/Programming1_01.ipynb\" target=\"_parent\"><img src=\"https://colab.research.google.com/assets/colab-badge.svg\" alt=\"Open In Colab\"/></a>"
      ]
    },
    {
      "cell_type": "markdown",
      "metadata": {
        "id": "eFiXJoBGtOu6"
      },
      "source": [
        "# プログラミング1：第1回 Colaboratoryの使い方とPython事始め\n",
        "\n",
        "## Colaboratoryの使い方\n",
        "Google Colaboratory（略称：Colab）は、Googleがサービスする、ブラウザから利用できるPython開発環境です。\n",
        "パソコンへのセットアップ作業が不要であるほかに、GPUを使用したハイパフォーマンスな実行環境の利用もできるという特長を備えています。\n",
        "\n",
        "### セル\n",
        "Colaboratoryの画面は複数のセルと呼ばれる矩形の領域から構成されます。\n",
        "セルには、コードセルとテキストセルの2つがあります。\n",
        "\n",
        "- テキストセル：テキストを記述するためのセル。例えば、このセル。\n",
        "- コードセル：プログラムを記述し、実行するためのセル。\n",
        "\n",
        "新規のテキストセルを作成するにはウィンドウ上部の「＋テキスト」をクリックして下さい。\n",
        "新規のコードセルを作成するにはウィンドウ上部の「＋コード」をクリックして下さい。\n",
        "\n",
        "### テキストセル\n",
        "このセルを選んで、ダブルクリックするか、Enterキーを押せば、テキストを編集できるようになります。\n",
        "次の行の下に自分の名前を入力して下さい。\n",
        "Shift＋Enterで編集モードが終わり、入力した氏名が表示されます。\n",
        "\n",
        "#### この行の下に自分の名前をタイプしてから、Shift＋Enterを押して下さい。\n",
        "\n"
      ]
    },
    {
      "cell_type": "markdown",
      "metadata": {
        "id": "pWi8GBSqwydX"
      },
      "source": [
        "## マークダウン（Markdown）記法の基本\n",
        "テキストはマークダウンと呼ばれる文法に従って記述され、表示されます。\n",
        "マークダウンは箇条書き、文字修飾、表、数式など多様な機能がサポートしていますので、その全部をここで説明することはできません。\n",
        "ここでは、マークダウンの記法のごく一部について説明します。\n",
        "詳しくは、「マークダウン 記法」といったキーワードでウェブ検索してみて下さい。\n",
        "\n",
        "### 改行\n",
        "入力しているテキスト上で改行しただけでは、表示上では改行されません。\n",
        "空行を文の間に挿入することで、改行されます。\n",
        "**ここで、ダブルクリックするか、Enterキーを押して、編集モードに移行してください。**\n",
        "\n",
        "編集テキストではこの文の後で改行していますが、表示上は改行されません。\n",
        "前の文と合わせてひとつの段落になります。\n",
        "\n",
        "けれども、この文の直前では空行が存在するので、改行されます。\n",
        "\n",
        "**Shift＋Enterを押して、表示画面に戻って下さい。**\n",
        "\n",
        "### 見出し\n",
        "文章を、章や節に構造化することで、理解し易くなります。\n",
        "\n",
        "- `# ` で始まる行は第1レベルの見出しになります。\n",
        "- `## ` で始まる行は第2レベルの見出しになります。\n",
        "- `### ` で始まる行は第3レベルの見出しになります。\n",
        "- `#### ` で始まる行は第3レベルの見出しになります。\n",
        "\n",
        "**ここで、ダブルクリックするか、Enterキーを押して、文章の構造を確認してみて下さい。**\n",
        "\n",
        "### 箇条書き\n",
        "\n",
        "文を半角ハイフン＋半角スペース（`- `）、または、半角アスタリスク＋半角スペース（`* `）で始めると箇条書きになります。\n",
        "**ここで、ダブルクリックするか、Enterキーを押して、箇条書きの記法を確認してみて下さい。**\n",
        "\n",
        "- ハイフンで始めると箇条書きになります\n",
        "* アスタリスクで始めると箇条書きになります\n",
        "\n",
        "**Shift＋Enterで表示画面に戻して下さい。**\n",
        "\n",
        "### 番号付き箇条書き\n",
        "\n",
        "半角数字＋半角ピリオド＋半角スペースで文を始めると、番号付き箇条書きになります。\n",
        "自動的に採番されますので、数字はなんでも構いません。\n",
        "**ここで、ダブルクリックするか、Enterキーを押して、番号付き箇条書きの記法を確認してみて下さい。**\n",
        "\n",
        "1. 1で始まる箇条書きになります。\n",
        "1. 2で始まる箇条書きになります。\n",
        "100. 3で始まる箇条書きになります。\n",
        "\n",
        "**Shift＋Enterで表示画面に戻して下さい。**\n",
        "\n",
        "### 文字の修飾\n",
        "文字を修飾することもできます。\n",
        "\n",
        "* `*italic 斜体*` は *italic 斜体* になります。\n",
        "* `**strong 強調**` は **strong 強調** になります。"
      ]
    },
    {
      "cell_type": "markdown",
      "metadata": {
        "id": "-FaF6Wpq8ili"
      },
      "source": [
        "このセルを編集して、見出しや箇条書きを含む文章を自由作文して下さい。\n"
      ]
    },
    {
      "cell_type": "markdown",
      "metadata": {
        "id": "pnw0CjOXmuzh"
      },
      "source": [
        "### コードセル\n",
        "コードセルにはPythonのプログラムを記述し、実行します。\n",
        "\n",
        "直下のセルはコードセルです。\n",
        "クリックすると編集可能になりますので、`print(\"Hello! World\")` と半角英文字でタイプして、Shift＋Enterを押して下さい。\n",
        "セルのプログラムの実行はShift＋Enterを押すか、左端の「再生ボタン」をクリックします。\n",
        "\n",
        "セルの下に `Hello! World` と表示されれば、成功です。\n",
        "\n",
        "`print(\"任意の文字列\")` は、基本的なPythonのプログラム（コード）で、`任意の文字列`を表示します。\n",
        "\n",
        "\n",
        "この講義では、テキストセルに例示されたサンプルプログラムを、コードセルに書き写して実行することを頻繁に要求します。\n",
        "この時、**プログラムをコピペすることはせず、必ず1行1行自分でタイプしてください**。\n",
        "プログラミングには、基本的な書き方の規則があり、\n",
        "その規則を守らないとエラーで正しくプログラムが実行されません。\n",
        "自分でタイプすることで、プログラミングの規則を身につけることができます。\n",
        "- プログラムは英語をベースにしています。**スペルミスがあるとエラーで実行されません**。\n",
        "- 基本的に**半角文字のみ使えます**。\n",
        "- 特に、**全角スペースは半角スペースと見分けがつきにくいので注意**してください。\n",
        "- **引用符`\"`で囲まれた文字列オブジェクトの中でのみ、全角文字が使えます**。\n",
        "- コードセルを実行するには、**Shift＋Enterを押してください**。\n",
        "\n",
        "また、サンプルプログラムを書き写す時に、**可能な限り1行1行その意味を理解するように努力する**ようにしてください。\n",
        "ただ、どうしても理解できなかった時には、必要以上に拘泥することは避け、機械的に書き写して先に進んで下さい。\n",
        "**動くプログラムを作成することが最重要の目標である**ということも、いつも意識して下さい。\n",
        "\n",
        "早速、直下のコードセルに、次のプログラムを書き写して、実行してみてください。\n",
        "実行結果は、セルの直下に表示されます。\n",
        "```python\n",
        "print(\"Hello! World\")\n",
        "```"
      ]
    },
    {
      "cell_type": "code",
      "metadata": {
        "id": "wR7HXX2-vy3m",
        "colab": {
          "base_uri": "https://localhost:8080/"
        },
        "outputId": "60c7cce8-a24f-4226-ce74-a9b3181a8c73"
      },
      "source": [
        "print('Hello! World')\n"
      ],
      "execution_count": 1,
      "outputs": [
        {
          "output_type": "stream",
          "text": [
            "Hello! World\n"
          ],
          "name": "stdout"
        }
      ]
    },
    {
      "cell_type": "markdown",
      "metadata": {
        "id": "DKQFPD7tk8RY"
      },
      "source": [
        "コードセルの直下に\n",
        "```\n",
        "Hello! World\n",
        "```\n",
        "と表示されたら成功です。\n",
        "\n",
        "`\"Hello! World\"`のように、引用符`\"`で囲まれた部分を文字列オブジェクト、或いは、簡単に文字列と呼びます。\n",
        "Pythonのプログラミングでは、半角文字のみを用いることが原則ですが、\n",
        "**文字列オブジェクトの中では全角文字も使用できます**。\n",
        "直下のプログラムを書き写して実行したのち、コードセルの中で編集して、自分の情報を表示するようにしてみて下さい。\n",
        "```python\n",
        "print(\"氏名　申吉浩\")\n",
        "print(\"フリガナ　シンヨシヒロ\")\n",
        "print(\"好きな日本の言葉　「なにごとののおはしますかは知らねどもかたじけなさに涙こぼるる」\")\n",
        "print(\"好きな英語の言葉　「Keep It Simple Stupid!」\")\n",
        "```"
      ]
    },
    {
      "cell_type": "code",
      "metadata": {
        "id": "-aTVegMyd_DP",
        "colab": {
          "base_uri": "https://localhost:8080/"
        },
        "outputId": "aefd3060-711e-4dbe-9894-b74910947205"
      },
      "source": [
        "print('清水太輔')\n",
        "print (\"シミズ ダイスケ\")\n",
        "print(\"好きな日本の言葉 「犬も歩けば棒に当たる」\")\n",
        "print(\"好きな英語の言葉 「I have a dream」\")"
      ],
      "execution_count": 3,
      "outputs": [
        {
          "output_type": "stream",
          "text": [
            "清水太輔\n",
            "シミズ ダイスケ\n",
            "好きな日本の言葉 「犬も歩けば棒に当たる」\n",
            "好きな英語の言葉 「I have a dream」\n"
          ],
          "name": "stdout"
        }
      ]
    },
    {
      "cell_type": "markdown",
      "metadata": {
        "id": "JzSy8NbTsk8t"
      },
      "source": [
        "## Python事始め\n",
        "Pythonは今著しい勢いで普及しているプログラミング言語です。\n",
        "プログラミング言語の「素性」としては必ずしも正統ではなく、他の「正統な」プログラミング言語に慣れたユーザから見ると奇異に感じる点が多々ありますし、また、プログラムの実行速度も遅い部類に入ります。\n",
        "それでも、もの凄いスピードでユーザが増え続け、「データサイエンティストになるのであれば、Pythonを第一番目に習得しなければならない」と言われている背景には、以下の理由があります。\n",
        "\n",
        "- 深層学習のプログラムを開発するためのライブラリ（TensorFlow、Keras、PyTorch）が、いち早く、Pythonのために提供された。\n",
        "深層学習は、一部の分野において従来の機械学習のベンチマークを塗り替える著しい成果をあげ、人工知能研究のキーテクノロジーである。\n",
        "- 機械学習や数値計算のための使いやすいライブラリ群（scikit-learn、numpy、pandasなど）が提供され、多様な領域への応用が容易である。\n",
        "- Pythonの言語仕様は直感的に設計されており、初学者にとって学習を始めるときの障壁が小さい。\n",
        "- ユーザが多いことから、Web上でサンプルコードを得ることが容易である。\n",
        "サンプルコードを土台にプログラミングを行うことで、プログラム開発の効率が著しく向上する。\n",
        "- 新しいライブラリの開発ペースが非常に速く、データサイエンスの日進月歩の進歩に追随することができる。\n",
        "\n",
        "一言でいうならば、**学びやすく、学んだ後、適用範囲が広い**、**深層学習のプログラムを開発するならPython一択** というのが、普及の原動力になっています。\n",
        "\n",
        "このことを理解すると、Pythonを効率よく習得するための秘訣が見えてきます。\n",
        "\n",
        "- Pythonのライブラリの進化は目覚しく、全てを理解することは無理。\n",
        "全部理解しようという考えを捨てる。\n",
        "- 言語仕様やライブラリを理解することより、動くプログラムを作成することを目的に学習を行う。\n",
        "- Web検索を活用して、自分が作ろうとしているプログラムと似た機能のサンプルコードを探し、得られたサンプルコードを「改造する」という感覚でプログラミングを行う。\n",
        "- サンプルコードの中の分からない部分は、「おまじない」として受け入れる。\n",
        "プログラムが動くことが一番重要。\n",
        "\n",
        "従来、プログラミングの習得は難しいものと考えられてきました。\n",
        "これは、「プログラミング言語の仕様を教科書で勉強する」ことが、学習の第一歩であるとされてきたからで、この過程で挫折する初学者が多いことは事実です。\n",
        "別の言い方をすると、多くのプログラミング言語は、多くの規則を理解しなければプログラミングができないような設計になっていました。\n",
        "その点、Pythonは、その言語仕様も、また、Pythonを取り巻く環境も、「わかっていることから始める」ことが可能となっています。\n",
        "\n",
        "この講義は、上記の考え方に基づいて、Pythonのプログラミングを勉強していけるように構成しています。\n",
        "実際、最初に取り組む課題は、変数でも、制御構造でもなく、PyPlotライブラリを使ったグラフの描画です。\n",
        "\n",
        "### グラフを描いてみよう！\n",
        "print文は、文字列を表示する原始的なPythonの関数ですが、Pythonでは非常に多様な形式の出力を行うことができます。\n",
        "例えば、下のプログラムをコードセルに書き写して、実行して下さい。\n",
        "2019年の東京の月別降雨量を示す棒グラフ（bar graph）が表示されます。\n",
        "```python\n",
        "import matplotlib.pyplot as plt\n",
        "plt.bar([1, 2, 3, 4, 5, 6, 7, 8, 9, 10, 11, 12],  [16.0, 42.0, 117.5, 90.5, 120.5, 225.0, 193.0, 110.0, 197.0, 529.5, 156.5, 76.5])\n",
        "plt.show()\n",
        "```"
      ]
    },
    {
      "cell_type": "code",
      "metadata": {
        "id": "O_LhxWObpeYN",
        "colab": {
          "base_uri": "https://localhost:8080/",
          "height": 265
        },
        "outputId": "6a9d33d0-3422-4982-ade2-52536b283462"
      },
      "source": [
        "import matplotlib.pyplot as plt\n",
        "plt.bar([1, 2, 3, 4, 5, 6, 7, 8, 9, 10, 11, 12], [16.0, 42.0, 117.5, 90.5, 120.5, 225.0, 193.0, 110.0, 197.0, 529.5, 156.5, 76.5])\n",
        "plt.show()"
      ],
      "execution_count": 4,
      "outputs": [
        {
          "output_type": "display_data",
          "data": {
            "image/png": "[encoded data removed]",
            "text/plain": [
              "<Figure size 432x288 with 1 Axes>"
            ]
          },
          "metadata": {
            "tags": [],
            "needs_background": "light"
          }
        }
      ]
    },
    {
      "cell_type": "markdown",
      "metadata": {
        "id": "1Jq7tzs8IcC8"
      },
      "source": [
        "たった3行のコード（プログラム）でグラフが描画されるのに驚いたと思います。\n",
        "このように、簡単に高度な機能を実現できる点が、Pythonの特長です。\n",
        "\n",
        "以下のプログラムも同じグラフを描画しますので、書き写して実行してみてください。\n",
        "\n",
        "```python\n",
        "import matplotlib.pyplot as plt\n",
        "month = [1, 2, 3, 4, 5, 6, 7, 8, 9, 10, 11, 12]\n",
        "precipitation = [16.0, 42.0, 117.5, 90.5, 120.5, 225.0, 193.0, 110.0, 197.0, 529.5, 156.5, 76.5]\n",
        "plt.bar(month, precipitation)\n",
        "plt.show()\n",
        "```\n",
        "\n"
      ]
    },
    {
      "cell_type": "code",
      "metadata": {
        "id": "N1vSTlLZIcC9",
        "colab": {
          "base_uri": "https://localhost:8080/",
          "height": 265
        },
        "outputId": "c042571c-a609-41d4-a0a4-314091c0a6e2"
      },
      "source": [
        "import matplotlib.pyplot as plt\n",
        "month = [1, 2, 3, 4, 5, 6, 7, 8, 9, 10, 11, 12]\n",
        "precipitation = [16.0, 42.0, 117.5, 90.5, 120.5, 225.0, 193.0, 110.0, 197.0, 529.5, 156.5, 76.5]\n",
        "plt.bar(month, precipitation)\n",
        "plt.show()"
      ],
      "execution_count": 5,
      "outputs": [
        {
          "output_type": "display_data",
          "data": {
            "image/png": "[encoded data removed]",
            "text/plain": [
              "<Figure size 432x288 with 1 Axes>"
            ]
          },
          "metadata": {
            "tags": [],
            "needs_background": "light"
          }
        }
      ]
    },
    {
      "cell_type": "markdown",
      "metadata": {
        "id": "bJ0PwmXm2Ens"
      },
      "source": [
        "プログラムの行数は5行に増えましたが、プログラムの意味は少し分かりやすくなっています。\n",
        "特に、\n",
        "\n",
        "- `[1, 2, 3, 4, 5, 6, 7, 8, 9, 10, 11, 12]`は月（month）を表す\n",
        "- `[16.0, 42.0, 117.5, 90.5, 120.5, 225.0, 193.0, 110.0, 197.0, 529.5, 156.5, 76.5]`は降水量（precipitation）を表す\n",
        "\n",
        "ことがはっきり分かります。\n",
        "プログラムを分かりやすく書くことは非常に重要で、特に、複数の人とプロジェクトで一つのプログラムを作成する時には殊更です。\n",
        "自分で書いたプログラムを、後で再利用する時にも、役に立ちます。\n",
        "\n",
        "コードの各行がどのような意味を持つかは後で解説しますが、4行目の `plt.bar(month, temparature)` が、実質的にグラフを作っている命令です。\n",
        "この `bar()` は棒グラフを描画する関数で、これを `plot()` で置き換えると、折れ線グラフになります。\n",
        "次のプログラムを、書き写して実行してみて下さい。\n",
        "```python\n",
        "plt.plot(month, precipitation)\n",
        "plt.show()\n",
        "```\n"
      ]
    },
    {
      "cell_type": "code",
      "metadata": {
        "id": "YXnw6zn4sRuX",
        "colab": {
          "base_uri": "https://localhost:8080/",
          "height": 265
        },
        "outputId": "071f2403-1d3b-4331-c4f6-ce4322024349"
      },
      "source": [
        "plt.plot(month, precipitation)\n",
        "plt.show()"
      ],
      "execution_count": 6,
      "outputs": [
        {
          "output_type": "display_data",
          "data": {
            "image/png": "[encoded data removed]",
            "text/plain": [
              "<Figure size 432x288 with 1 Axes>"
            ]
          },
          "metadata": {
            "tags": [],
            "needs_background": "light"
          }
        }
      ]
    },
    {
      "cell_type": "markdown",
      "metadata": {
        "id": "vWezBrUy31Dp"
      },
      "source": [
        "同じ内容のデータが、今度は折れ線グラフで表示されたと思います。\n",
        "- 棒グラフ（bar graph）を描画する関数`bar()`を、点をプロットし間を線分で結んで、\n",
        "折れ線グラフを描画する関数`plot()`に置き換えただけです。\n",
        "- 棒グラフを描くプログラムの冒頭3行\n",
        "```python\n",
        "import matplotlib.pyplot as plt\n",
        "month = [1, 2, 3, 4, 5, 6, 7, 8, 9, 10, 11, 12]\n",
        "precipitation = [16.0, 42.0, 117.5, 90.5, 120.5, 225.0, 193.0, 110.0, 197.0, 529.5, 156.5, 76.5]\n",
        "```\n",
        "は、直前のコードセルで実行されており、Colaboratoryはその結果を覚えているので、省略することができます。\n",
        "\n",
        "ただし、一定の時間が経過すると、**Colaboratoryはそれまでの実行結果を忘れてしまう**ので、\n",
        "最後にプログラムを実行してから、間をおいて、\n",
        "```python\n",
        "plt.plot(month, precipitation)\n",
        "plt.show()\n",
        "```\n",
        "を再実行しようとすると、エラーが出て、プログラムは実行されません。\n",
        "そのような時は、**先頭のコードセルから順番に、全てのコードセルを実行**してください。\n",
        "\n",
        "### プログラムの解説\n",
        "では、\n",
        "```python\n",
        "import matplotlib.pyplot as plt\n",
        "month = [1, 2, 3, 4, 5, 6, 7, 8, 9, 10, 11, 12]\n",
        "precipitation = [16.0, 42.0, 117.5, 90.5, 120.5, 225.0, 193.0, 110.0, 197.0, 529.5, 156.5, 76.5]\n",
        "plt.bar(month, precipitation)\n",
        "plt.show()\n",
        "```\n",
        "のプログラムを解説していきます。\n",
        "\n",
        "Pythonの魅力の一つは、**高度で多様な機能を簡単に実現できる** 点にありますが、その秘密は、「Python自体が持つ機能（言語仕様といいます）を必要最小限にして、高度な機能の実現は第三者が開発する **ライブラリ** というプログラム群に委ねる」設計思想にあります。\n",
        "Pythonでは、外部のライブラリを「取り込む」機能を標準で用意しています。\n",
        "\n",
        "棒グラフを出力するプログラムの最初の行 `import matplotlib.pyplot as plt` が、標準の取り込み機能を利用して、`matplotlib.pyplot` というライブラリを取り込んでいる部分です。\n",
        "ライブラリの中には、いろいろな機能が、関数として用意されていて、その関数を「呼び出す」ことによって機能を利用します。\n",
        "\n",
        "例えば、`matplotlib.pyplot` というライブラリには、`bar()` や `plot()` といった関数が用意されていて、それらを呼び出すことによってグラフを描画する訳です。\n",
        "\n",
        "先に述べたように、ライブラリは外部の人間が自由に開発する訳ですので、関数の名前がぶつかってしまうことがあり得ます。\n",
        "そのため、Pythonでは、ライブラリの中の関数を呼び出す時に、`\n",
        "\"ライブラリの名前\".\"関数の名前\"` とプログラム中で記述することで、\n",
        "特定のライブラリの特定の関数を一意に指定することを規則としています。\n",
        "\n",
        "次のプログラムを実行してみて下さい。\n",
        "```python\n",
        "import matplotlib\n",
        "matplotlib.pyplot.bar(month, precipitation)\n",
        "matplotlib.pyplot.show()\n",
        "```"
      ]
    },
    {
      "cell_type": "code",
      "metadata": {
        "id": "4EPhHiae2Wby",
        "colab": {
          "base_uri": "https://localhost:8080/",
          "height": 265
        },
        "outputId": "b461ead6-07c3-44f1-b3fb-51fff334cefd"
      },
      "source": [
        "import matplotlib\n",
        "matplotlib.pyplot.bar(month, precipitation)\n",
        "matplotlib.pyplot.show()"
      ],
      "execution_count": 8,
      "outputs": [
        {
          "output_type": "display_data",
          "data": {
            "image/png": "[encoded data removed]",
            "text/plain": [
              "<Figure size 432x288 with 1 Axes>"
            ]
          },
          "metadata": {
            "tags": [],
            "needs_background": "light"
          }
        }
      ]
    },
    {
      "cell_type": "markdown",
      "metadata": {
        "id": "VYa9ZQ1pGS_q"
      },
      "source": [
        "同じグラフが描画される筈です。\n",
        "\n",
        "第1行の`import matplotlib`で、`matplotlib`ライブラリを利用することを宣言します。\n",
        "`matplotlib.pyplot` は、`matplotlib`の中で、更に、`pyplot`と命名されたライブラリを指します。\n",
        "棒グラフを描画する関数`bar()`は、ライブラリ`matplotlib.pyplot`の中に定義されているので、\n",
        "この関数を呼び出すには\n",
        "```python\n",
        "matplotlib.pyplot.bar(month, precipitation)\n",
        "```\n",
        "とします。\n",
        "`bar`関数は、コンピュータのメモリ上にグラフを描画するだけなので、\n",
        "```python\n",
        "matplotlib.pyplot.show()\n",
        "```\n",
        "により画面に表示させるようにします。\n",
        "\n",
        "ところで、`matplotlib.pyplot`は、グラフの描画に関して多様な機能を持っているライブラリであり、\n",
        "1つのプログラムの中で何回も利用する可能性があります。\n",
        "その時に、都度 `matplotlib.pyplot` とタイプするのは煩雑ですから、\n",
        "```python\n",
        "import matplotlib.pyplot as plt\n",
        "``` \n",
        "の `as plt` の指定で `plt` という略語を当て、\n",
        "`matplotlib.pyplot`とタイプする代わりに、`plt`とタイプすれば良いようにしています。\n",
        "略語は自分で自由に決めて構いません。\n",
        "これで、`plt.bar()` で棒グラフを描画する関数を呼び出すことができるようになり、効率的にプログラムがかけるようになります。\n",
        "\n",
        "例えば、プログラム\n",
        "```python\n",
        "import matplotlib\n",
        "month = [1, 2, 3, 4, 5, 6, 7, 8, 9, 10, 11, 12]\n",
        "precipitation = [16.0, 42.0, 117.5, 90.5, 120.5, 225.0, 193.0, 110.0, 197.0, 529.5, 156.5, 76.5]\n",
        "matplotlib.pyplot.bar(month, precipitation)\n",
        "matplotlib.pyplot.show()\n",
        "```\n",
        "が描画する棒グラフは、$x$軸と$y$軸が何を表しているのかわかりません。\n",
        "グラフをより理解しやすくするために、$x$軸と$y$軸のラベルを追加してみます。\n",
        "グラフ中に日本語を表示させるためにはちょっと「おまじない」が必要ですので、ここでは英語のラベル表示にします。\n",
        "$x$軸のラベルは「Month」、$y$軸のラベルは「Precipitation (mm)」（降水量）とします。\n",
        "\n",
        "Pyplotライブラリには、$x$軸・$y$軸にラベルを割り当てる関数として、\n",
        "`xlabel()`、`ylabel()` という関数を提供していますので、\n",
        "```python\n",
        "matplotlab.pyplot.xlabel('Month')\n",
        "matplotlab.pyplot.ylabel('Precipitation (mm)')\n",
        "```\n",
        "を元のプログラムに追加すれば良いことになります。\n",
        "つまり、\n",
        "```python\n",
        "import matplotlib\n",
        "month = [1, 2, 3, 4, 5, 6, 7, 8, 9, 10, 11, 12]\n",
        "precipitation = [16.0, 42.0, 117.5, 90.5, 120.5, 225.0, 193.0, 110.0, 197.0, 529.5, 156.5, 76.5]\n",
        "matplotlib.pyplot.xlabel('Month')\n",
        "matplotlib.pyplot.ylabel('Precipitation (mm)')\n",
        "matplotlib.pyplot.bar(month, precipitation)\n",
        "matplotlib.pyplot.show()\n",
        "```\n",
        "で、$x$軸と$y$軸にラベルがついたグラフが描画されます。\n",
        "\n",
        "下のコードセルにプログラムを書き写して実行し、確かめてください。"
      ]
    },
    {
      "cell_type": "code",
      "metadata": {
        "id": "UYGOetu5OJ34",
        "colab": {
          "base_uri": "https://localhost:8080/",
          "height": 279
        },
        "outputId": "60d3f707-01d0-4404-de5d-80fe69fec67a"
      },
      "source": [
        "import matplotlib.pyplot as plt\n",
        "month = [1, 2, 3, 4, 5, 6, 7, 8, 9, 10, 11, 12]\n",
        "precipitation = [16.0, 42.0, 117.5, 90.5, 120.5, 225.0, 193.0, 110.0, 197.0, 529.5, 156.5, 76.5]\n",
        "\n",
        "plt.xlabel('Month')\n",
        "plt.ylabel('Precipitation (mm)')\n",
        "plt.bar(month, precipitation)\n",
        "plt.show()"
      ],
      "execution_count": 10,
      "outputs": [
        {
          "output_type": "display_data",
          "data": {
            "image/png": "[encoded data removed]",
            "text/plain": [
              "<Figure size 432x288 with 1 Axes>"
            ]
          },
          "metadata": {
            "tags": [],
            "needs_background": "light"
          }
        }
      ]
    },
    {
      "cell_type": "markdown",
      "metadata": {
        "id": "45z-weckIcDA"
      },
      "source": [
        "このプログラムでは、`matplotlib.pyplot`を4回もタイプしなければならず、煩わしいと感じると思います。\n",
        "そこで、\n",
        "```python\n",
        "import matplotllib.pyplot as plt\n",
        "```\n",
        "で、`matplotlib.pyplot` を`plt`で参照できるようにしておけば、\n",
        "```python\n",
        "plt.xlabel('Month')\n",
        "plt.ylabel('Precipitation (mm)')\n",
        "plt.bar(month, precipitation)\n",
        "plt.show()\n",
        "```\n",
        "と効率よく記述することができます。\n",
        "\n",
        "このプログラムを書き写して実行し、同じ棒グラフが得られることを確認してください。"
      ]
    },
    {
      "cell_type": "code",
      "metadata": {
        "id": "7CW3kQYdIcDB",
        "colab": {
          "base_uri": "https://localhost:8080/",
          "height": 279
        },
        "outputId": "d65623da-e309-4fc3-ef02-311e1d1f6dc1"
      },
      "source": [
        "plt.xlabel('month')\n",
        "plt.ylabel('precipitation (mm)')\n",
        "plt.bar(month, precipitation)\n",
        "plt.show()"
      ],
      "execution_count": 12,
      "outputs": [
        {
          "output_type": "display_data",
          "data": {
            "image/png": "[encoded data removed]",
            "text/plain": [
              "<Figure size 432x288 with 1 Axes>"
            ]
          },
          "metadata": {
            "tags": [],
            "needs_background": "light"
          }
        }
      ]
    },
    {
      "cell_type": "markdown",
      "metadata": {
        "id": "uVaV8cHOM9um"
      },
      "source": [
        "`matplotlib.pyplot` とタイプする代わりに `plt` とタイプすれば良いので、\n",
        "プログラミングの効率が良くなることが実感できると思います。\n",
        "\n",
        "同様に、次のプログラムは折れ線グラフのx軸とy軸にラベルをふります。\n",
        "```python\n",
        "plt.xlabel('Month')\n",
        "plt.ylabel('Precipitation (mm)')\n",
        "plt.plot(month, precipitation)\n",
        "plt.show()\n",
        "```\n",
        "プログラムを実行して、確認してください。"
      ]
    },
    {
      "cell_type": "code",
      "metadata": {
        "id": "GfkznBNfRGk2",
        "colab": {
          "base_uri": "https://localhost:8080/",
          "height": 279
        },
        "outputId": "93d6b099-dd33-4687-f290-645c895cdd26"
      },
      "source": [
        "plt.xlabel('Month')\n",
        "plt.ylabel('Precipitation')\n",
        "plt.plot(month, precipitation)\n",
        "plt.show()"
      ],
      "execution_count": 13,
      "outputs": [
        {
          "output_type": "display_data",
          "data": {
            "image/png": "[encoded data removed]",
            "text/plain": [
              "<Figure size 432x288 with 1 Axes>"
            ]
          },
          "metadata": {
            "tags": [],
            "needs_background": "light"
          }
        }
      ]
    },
    {
      "cell_type": "markdown",
      "metadata": {
        "id": "qAoTu1T1NG-R"
      },
      "source": [
        "`matplotlib.pyplot`は強力なライブラリで、多様なグラフを描画する関数を用意しています。\n",
        "例えば、円グラフ（pie graph）は、関数`pie()`を利用することで、簡単に描画することができます。\n",
        "円グラフで表すことで、年間降水量のどれくらいの割合の雨がそれぞれの月に降るかをひとめでわかるようになります。\n",
        "```python\n",
        "plt.pie(precipitation)\n",
        "plt.show()\n",
        "```\n",
        "このプログラムを、下のコードセルで実行してみてください。"
      ]
    },
    {
      "cell_type": "code",
      "metadata": {
        "id": "CRwZo3ZNDX4Q",
        "colab": {
          "base_uri": "https://localhost:8080/",
          "height": 248
        },
        "outputId": "488c25d3-d29d-42d4-8001-79068036dbc4"
      },
      "source": [
        "plt.pie(precipitation)\n",
        "plt.show()"
      ],
      "execution_count": 14,
      "outputs": [
        {
          "output_type": "display_data",
          "data": {
            "image/png": "[encoded data removed]",
            "text/plain": [
              "<Figure size 432x288 with 1 Axes>"
            ]
          },
          "metadata": {
            "tags": []
          }
        }
      ]
    },
    {
      "cell_type": "markdown",
      "metadata": {
        "id": "6A5FajXESeiT"
      },
      "source": [
        "円グラフが表示されたと思います。\n",
        "しかし、これでは、どの部分がどの月に対応しているのかわかりません。\n",
        "そこで月の名前をラベルとしてふってみます。\n",
        "次のプログラムを実行してみてください。\n",
        "```python\n",
        "label = ['Jan', 'Feb', 'Mar', 'Apr', 'May', 'Jun', 'Jul', 'Aug', 'Sep', 'Oct', 'Nov', 'Dec']\n",
        "plt.pie(precipitation, labels=label)\n",
        "plt.show()\n",
        "```"
      ]
    },
    {
      "cell_type": "code",
      "metadata": {
        "id": "Ac3SnZvuJqEG",
        "colab": {
          "base_uri": "https://localhost:8080/",
          "height": 248
        },
        "outputId": "a23db7ee-123b-4b55-abf6-0f6ad707605a"
      },
      "source": [
        "label = ['Jan', 'Feb', 'Mar', 'Apr', 'May', 'Jun', 'Jul', 'Aug', 'Sep', 'Oct', 'Nov', 'Dec']\n",
        "plt.pie(precipitation, labels = label)\n",
        "plt.show()"
      ],
      "execution_count": 15,
      "outputs": [
        {
          "output_type": "display_data",
          "data": {
            "image/png": "[encoded data removed]",
            "text/plain": [
              "<Figure size 432x288 with 1 Axes>"
            ]
          },
          "metadata": {
            "tags": []
          }
        }
      ]
    },
    {
      "cell_type": "markdown",
      "metadata": {
        "id": "T9wSlKb7TFHf"
      },
      "source": [
        "更に、各月の降水量の年間降水量にしめる割合を、自動的にパーセント表示することも、\n",
        "以下のプログラムで簡単に実現できます。\n",
        "```python\n",
        "plt.pie(precipitation, labels=label, autopct=\"%1.1f%%\")\n",
        "plt.show()\n",
        "```"
      ]
    },
    {
      "cell_type": "code",
      "metadata": {
        "id": "lgrfoWiGKqu2",
        "colab": {
          "base_uri": "https://localhost:8080/",
          "height": 248
        },
        "outputId": "861f3607-b1c4-40b4-eeba-ab8cd53c3a5e"
      },
      "source": [
        "plt.pie(precipitation, labels= label, autopct=\"%1.1f%%\")\n",
        "plt.show()"
      ],
      "execution_count": 17,
      "outputs": [
        {
          "output_type": "display_data",
          "data": {
            "image/png": "[encoded data removed]",
            "text/plain": [
              "<Figure size 432x288 with 1 Axes>"
            ]
          },
          "metadata": {
            "tags": []
          }
        }
      ]
    },
    {
      "cell_type": "markdown",
      "metadata": {
        "id": "u4fD-3PmUmyu"
      },
      "source": [
        "`autopct=\"%1.1f%%\"` の部分はよく分からないだろうと思いますが、気にしないでください。\n",
        "ライブラリの機能を全部理解することはプロのプログラマでも不可能ですので、**他人の書いたサンプルコードの一部を「おまじない」だと思って使う**ことは、プログラミングが上達する秘訣でもあります。\n",
        "この場合であれば、各月のパーセント表示が表示できれば、それで満足です。\n",
        "\n",
        "棒グラフに月の名前を示すには、次のようにすれば良いでしょう。\n",
        "```python\n",
        "plt.bar(month, precipitation, tick_label=label)\n",
        "plt.show()\n",
        "```"
      ]
    },
    {
      "cell_type": "code",
      "metadata": {
        "id": "_IElnDtoKzGT",
        "colab": {
          "base_uri": "https://localhost:8080/",
          "height": 265
        },
        "outputId": "f2c83043-063f-4471-9f40-e6419519dfc3"
      },
      "source": [
        "plt.bar(month, precipitation, tick_label= label)\n",
        "plt.show()"
      ],
      "execution_count": 19,
      "outputs": [
        {
          "output_type": "display_data",
          "data": {
            "image/png": "[encoded data removed]",
            "text/plain": [
              "<Figure size 432x288 with 1 Axes>"
            ]
          },
          "metadata": {
            "tags": [],
            "needs_background": "light"
          }
        }
      ]
    },
    {
      "cell_type": "markdown",
      "metadata": {
        "id": "D8P7m89fZbjz"
      },
      "source": [
        "## プログラミング1：第1回演習\n",
        "自分でプログラムを書いてみよう！\n",
        "\n",
        "### 演習1-1\n",
        "下表は東京の2019年の月別平均気温のデータである。\n",
        "このデータを、棒グラフと折れ線グラフで描画するプログラムを作成せよ。\n",
        "\n",
        "|Jan|Feb|Mar|Apr|May|Jun|Jul|Aug|Sep|Oct|Nov|Dec|\n",
        "|----|----|----|----|----|----|----|----|----|----|----|----|\n",
        "|5.6|7.2|10.6|13.6|20.0|21.8|24.1|28.4|25.1|19.4|13.1|8.5|\n"
      ]
    },
    {
      "cell_type": "code",
      "metadata": {
        "id": "xNbemmyWVZS7",
        "colab": {
          "base_uri": "https://localhost:8080/",
          "height": 541
        },
        "outputId": "866bf2f3-1e30-4a46-ab94-8e6437b07b19"
      },
      "source": [
        "# この行の下にプログラムを作成してください。\n",
        "\n",
        "import matplotlib.pyplot as plt\n",
        "month_list = ['Jan', 'Feb', 'Mar', 'Apr', 'May', 'Jun', 'Jul', 'Aug', 'Sep', 'Oct', 'Nov', 'Dec']\n",
        "temperature_list = [5.6, 7.2, 10.6, 13.6, 20.0, 21.8, 24.1, 28.4, 25.1, 19.4, 13.1, 8.5]\n",
        "\n",
        "plt.xlabel('Month')\n",
        "plt.ylabel('Temperature (degrees)')\n",
        "plt.bar(month_list, temperature_list)\n",
        "plt.show()\n",
        "\n",
        "plt.xlabel('Month')\n",
        "plt.ylabel('Temperature (degrees)')\n",
        "plt.plot(month_list, temperature_list)\n",
        "plt.show()"
      ],
      "execution_count": 25,
      "outputs": [
        {
          "output_type": "display_data",
          "data": {
            "image/png": "[encoded data removed]",
            "text/plain": [
              "<Figure size 432x288 with 1 Axes>"
            ]
          },
          "metadata": {
            "tags": [],
            "needs_background": "light"
          }
        },
        {
          "output_type": "display_data",
          "data": {
            "image/png": "[encoded data removed]",
            "text/plain": [
              "<Figure size 432x288 with 1 Axes>"
            ]
          },
          "metadata": {
            "tags": [],
            "needs_background": "light"
          }
        }
      ]
    },
    {
      "cell_type": "markdown",
      "metadata": {
        "id": "dP-6iz1quxJr"
      },
      "source": [
        "### 演習1-2\n",
        "下表は2019年における、主要国の国内総生産（GDP）と、全世界（Global）の国内総生産を示したものである。\n",
        "単位はBillion USD（十億米ドル）である。\n",
        "全世界の国内総生産額は、6主要国の国内総生産額を含む。\n",
        "各国の国内総生産が全世界の国内総生産にしめる割合がわかるように、円グラフに描画するプログラムを作成せよ。\n",
        "\n",
        "|USA|China|Japan|Germany|UK|France|Global|\n",
        "|----|----|----|----|----|----|----|\n",
        "|20580|13368|4971|3951|2828|2780|84292|\n"
      ]
    },
    {
      "cell_type": "code",
      "metadata": {
        "id": "UJEOUys5xAsE",
        "colab": {
          "base_uri": "https://localhost:8080/",
          "height": 248
        },
        "outputId": "a422fe87-5d10-46a6-d7d2-11e3dadfbec3"
      },
      "source": [
        "# この行の下にプログラムを作成してください。\n",
        "\n",
        "import matplotlib.pyplot as plt\n",
        "\n",
        "global_GDP = 84292\n",
        "country_list = [\"USA\", \"China\", \"Japan\", \"Germany\", \"UK\", \"France\", \"others\"]\n",
        "GDP_list = [20580, 13368, 4971, 3951, 2828, 2780]\n",
        "GDP_percentage_list = list(map(lambda x: x / 84292, GDP_list))\n",
        "others_GDP = 1- sum(GDP_percentage_list)\n",
        "GDP_percentage_list.append(others_GDP)\n",
        "\n",
        "\n",
        "\n",
        "plt.pie(GDP_percentage_list, labels= country_list, autopct=\"%1.1f%%\")\n",
        "plt.show()\n",
        "\n"
      ],
      "execution_count": 6,
      "outputs": [
        {
          "output_type": "display_data",
          "data": {
            "image/png": "[encoded data removed]",
            "text/plain": [
              "<Figure size 432x288 with 1 Axes>"
            ]
          },
          "metadata": {
            "tags": []
          }
        }
      ]
    }
  ]
}