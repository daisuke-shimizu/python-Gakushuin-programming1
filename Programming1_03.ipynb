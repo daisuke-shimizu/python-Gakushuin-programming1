{
  "nbformat": 4,
  "nbformat_minor": 0,
  "metadata": {
    "colab": {
      "name": "Programming1-03.ipynb",
      "provenance": [],
      "collapsed_sections": [],
      "include_colab_link": true
    },
    "kernelspec": {
      "display_name": "Python 3",
      "language": "python",
      "name": "python3"
    },
    "language_info": {
      "codemirror_mode": {
        "name": "ipython",
        "version": 3
      },
      "file_extension": ".py",
      "mimetype": "text/x-python",
      "name": "python",
      "nbconvert_exporter": "python",
      "pygments_lexer": "ipython3",
      "version": "3.7.5"
    }
  },
  "cells": [
    {
      "cell_type": "markdown",
      "metadata": {
        "id": "view-in-github",
        "colab_type": "text"
      },
      "source": [
        "<a href=\"https://colab.research.google.com/github/daisuke-shimizu/python-Gakushuin-programming1/blob/main/Programming1_03.ipynb\" target=\"_parent\"><img src=\"https://colab.research.google.com/assets/colab-badge.svg\" alt=\"Open In Colab\"/></a>"
      ]
    },
    {
      "cell_type": "markdown",
      "metadata": {
        "id": "jisks5EAHAfw"
      },
      "source": [
        "# サンプルプログラム実行上の注意\n",
        "プログラミング上達のコツは、\n",
        "\n",
        "- 短時間に集中してできるだけ大量のプログラムを書くこと\n",
        "- 試行錯誤を行うこと\n",
        "- 他人の書いた（動く）プログラムを読むこと\n",
        "- 更に、自分の目的に合わせてカスタマイズしてみること\n",
        "\n",
        "を日常的に実行することです。\n",
        "しかし、限られた授業時間（予習・復習も含む）内で、これらを十分に実行することは至難です。\n",
        "\n",
        "そこで、\n",
        "この講義資料は、多数のサンプルプログラムを提供して、\n",
        "少しでも不足を補うことができるように作成されています。\n",
        "受講者は、以下の注意を守ってサンプルプログラムをコードセル中で実行することで、\n",
        "より効率の良い学習を心がけて下さい。\n",
        "\n",
        "1. サンプルプログラムは、コピペせず、1行1行自分でタイプして書き写して下さい。\n",
        "コピペでは見逃してしまう、プログラミングの書き方の規則や、プログラミングのコツなど、\n",
        "自分自身でタイプすることで気づくことができます。\n",
        "2. サンプルプログラムを書き写す時は、プログラムの意味を考えるよう努めて下さい。\n",
        "最初は必ずしも最良とは言えないサンプルプログラムを提示して、\n",
        "後で改良した例を示すなど、この講義資料では、良いプログラムを作成する考え方を効率的に学べるよう、\n",
        "いろいろな工夫をしています。\n",
        "3. 意味を理解できない行がある場合には、あまり拘泥せず、先に進んでください。\n",
        "100%理解しないといけないという思い込みは、プログラミングの上達にとって妨げです。\n",
        "理解するための努力は必要ですが、Pythonでできることの範囲は非常に広く、\n",
        "プロのプログラマでも全部は理解していないでしょう。\n",
        "完璧な理解よりも、**動くプログラムを書くことを最優先の目標**として、\n",
        "わからない部分は「おまじない」として受け入れることができると、上達も早くなります。\n",
        "「おまじない」とは、「なぜ効くのかはわからないけれども、使い方は分かっている」という意味です。\n"
      ]
    },
    {
      "cell_type": "markdown",
      "metadata": {
        "id": "CisGCQ7XLMke"
      },
      "source": [
        "# プログラミング1：第3回 乱数とシミュレーション\n",
        "プログラムを利用する大きな魅力の一つはシミュレーションの実行です。\n",
        "シミュレーションとは、**結果に比較して単純な規則をプログラミングして、その規則に従って繰り返し計算を行い、複雑な現象をコンピュータ上で仮想的に実現する** ことです。\n",
        "プログラミングする単純な規則を **モデル** と呼ぶことがあります。\n",
        "\n",
        "シミュレーションには、物理法則をプログラミングして地球規模の気候変動を予測するような大規模なものから、身近で単純なものまで多様です。\n",
        "例えば、最近話題を集めている人工知能の囲碁プログラムでは、モンテカルロシミュレーションをその基礎の一部にしています。\n",
        "囲碁プログラムで用いられるモンテカルロシミュレーションでは、ある局面から出発して、「コンピュータが黒番と白番の着手を交互に **ランダムに** 選んで勝負が着くまで着手を続ける」という手順を膨大な回数実行し、最も勝率の高い最初の一手をその局面の最適手として選択します。\n",
        "単純ですが、この手法が非常に強力であることは、人工知能VS.プロ棋士の対戦成績を見れば明らかです。\n",
        "\n",
        "シミュレーションは何か法則を導いたり、アイデアを検証するために非常に有効で、シミュレーションを手軽に実行できるようになれば、研究において非常に強力な武器を得たことになります。\n",
        "そして、Pythonを使えば、このシミュレーションが手軽に実行できるようになるのです。\n",
        "\n",
        "この回からしばらく、サイコロやコインを投げる確率的なシミュレーションを題材にして、シミュレーションの基礎的な手法を学ぶと同時に、Pythonのプログラミングへの理解を深めていきます。\n",
        "\n",
        "## 乱数\n",
        "上記の議論からもわかるように、シミュレーションと乱数には密接な関係があります。\n",
        "Pythonでは、randomというライブラリを利用することで、乱数を取り扱うことが可能になります。\n",
        "次のプログラムを、コードセルで実行してみてください。\n",
        "\n",
        "```python\n",
        "import random as rnd\n",
        "print(rnd.random())\n",
        "print(rnd.random())\n",
        "print(rnd.random())\n",
        "print(rnd.random())\n",
        "print(rnd.random())\n",
        "```"
      ]
    },
    {
      "cell_type": "code",
      "metadata": {
        "id": "khmYrP28sFfb",
        "colab": {
          "base_uri": "https://localhost:8080/"
        },
        "outputId": "bd983646-37f4-48e8-d7e8-3b1b08845706"
      },
      "source": [
        "import random as rnd\n",
        "print(rnd.random())\n",
        "print(rnd.random())\n",
        "print(rnd.random())\n",
        "print(rnd.random())\n",
        "print(rnd.random())\n"
      ],
      "execution_count": null,
      "outputs": [
        {
          "output_type": "stream",
          "text": [
            "0.24284671396490876\n",
            "0.5199452078090896\n",
            "0.8659249225234367\n",
            "0.10628331464487284\n",
            "0.7750271035121169\n"
          ],
          "name": "stdout"
        }
      ]
    },
    {
      "cell_type": "markdown",
      "metadata": {
        "id": "6zEdS0Jlsa0Y"
      },
      "source": [
        "`import random as rnd`で、randomライブラリを読み込んで、`rnd`という名前を付けました。\n",
        "`random()`という関数は0以上1未満の乱数を一様な確率で発生させる関数です。\n",
        "上のプログラムでは、乱数を5回発生させて、その値を表示したものです。\n",
        "結果をみて、本当に一様に乱数を発生しているのかは確認できませんが、少なくとも一つも同じ値は現れていないことがわかります。\n",
        "\n",
        "`random()`が一様な確率で乱数を生成していることを、もう少し直感的に確かめてみます。\n",
        "以下のプログラムを実行してみてください。\n",
        "```python\n",
        "import matplotlib.pyplot as plt\n",
        "x = [rnd.random() for n in range(100)]\n",
        "y = [rnd.random() for n in range(100)]\n",
        "plt.scatter(x, y)\n",
        "plt.show()\n",
        "```"
      ]
    },
    {
      "cell_type": "code",
      "metadata": {
        "id": "Rc2KniQYLGrt",
        "colab": {
          "base_uri": "https://localhost:8080/",
          "height": 265
        },
        "outputId": "db8319d5-6a4b-4aec-d284-d8a50f77b7b2"
      },
      "source": [
        "import matplotlib.pyplot as plt\n",
        "import random as rnd\n",
        "\n",
        "x = [rnd.random() for n in range(100)]\n",
        "y = [rnd.random() for n in range(100)]\n",
        "plt.scatter(x, y)\n",
        "plt.show()"
      ],
      "execution_count": null,
      "outputs": [
        {
          "output_type": "display_data",
          "data": {
            "image/png": "[encoded data removed]",
            "text/plain": [
              "<Figure size 432x288 with 1 Axes>"
            ]
          },
          "metadata": {
            "tags": [],
            "needs_background": "light"
          }
        }
      ]
    },
    {
      "cell_type": "markdown",
      "metadata": {
        "id": "H22QWFJhuhjb"
      },
      "source": [
        "`matplotlib.pyplot`ライブラリによるグラフの描画関数については、第1回でいくつか例をみました。\n",
        "棒グラフを描画する `bar()`、折れ線グラフを描画する（点をプロットして間を線で結ぶ）`plot()`、\n",
        "円グラフを描画する `pie()` です。\n",
        "`plot()`は、$xy$平面に点をプロットした後、プロットした点を順に線分で補完しますが、\n",
        "ここで利用する`scatter()`は、線分で補完することはせず、点だけをプロットして、散布図を描画します。\n",
        "\n",
        "また、\n",
        "```python\n",
        "x = [rnd.random() for n in range(100)]\n",
        "```\n",
        "は第2回で学んだ内包表現を使って、100個の乱数のリストを生成していますが、次のプログラムを実行してみると、具体的に理解できるでしょう。\n",
        "```python\n",
        "print([rnd.random() for n in range(5)])\n",
        "```"
      ]
    },
    {
      "cell_type": "code",
      "metadata": {
        "id": "rrhpgeFGvwuY",
        "colab": {
          "base_uri": "https://localhost:8080/"
        },
        "outputId": "0520bc19-d806-4aea-b8d4-fbda45f39d71"
      },
      "source": [
        "print([rnd.random() for n in range(5)])"
      ],
      "execution_count": null,
      "outputs": [
        {
          "output_type": "stream",
          "text": [
            "[0.1530585346968666, 0.250035894203836, 0.3616108790425061, 0.2596499161990221, 0.9363597514744837]\n"
          ],
          "name": "stdout"
        }
      ]
    },
    {
      "cell_type": "markdown",
      "metadata": {
        "id": "NzFsv_Ylv50K"
      },
      "source": [
        "5個の乱数を含むリストが生成されていることが分かると思います。\n",
        "\n",
        "`x = [rnd.random() for n in range(100)]` と `y = [rnd.random() for n in range(100)]` により、100個のランダムに生成された $x$ 座標と $y$ 座標が、それぞれ`x`、`y`と名前がつけられたリストに格納されたことになります。\n",
        "そして、`plt.scatter(x, y)` は、これらの乱数を $x$ 座標と $y$ 座標に持つ100個の点を $xy$ 平面にプロットします。\n",
        "\n",
        "プロットした点が、一辺の長さが1の正方形領域の中に万遍なく分布していれば、`random()`が一様に乱数を生成していることが直感的に確認できるはずです。\n",
        "ただ、プログラムの実行結果をみると、一様分布を確信するにはサンプルの個数が少ないようです。\n",
        "上のプログラムを参考にして、もっと多数のサンプルをプロットするプログラムを、直下のセルに作成して、その実行結果を表示してください。サンプルの数が多くなると実行時間が長くなりますが、百万ぐらいまでなら大したことはありません。\n"
      ]
    },
    {
      "cell_type": "code",
      "metadata": {
        "id": "UV8VOPMcv26k",
        "colab": {
          "base_uri": "https://localhost:8080/",
          "height": 265
        },
        "outputId": "76e20950-53cb-4eb7-9b65-507369e5bf11"
      },
      "source": [
        "# 以下にプログラムを記述してください。\n",
        "x = [rnd.random() for n in range(1000000)]\n",
        "y = [rnd.random() for n in range(1000000)]\n",
        "\n",
        "plt.scatter(x,y)\n",
        "plt.show()"
      ],
      "execution_count": null,
      "outputs": [
        {
          "output_type": "display_data",
          "data": {
            "image/png": "[encoded data removed]",
            "text/plain": [
              "<Figure size 432x288 with 1 Axes>"
            ]
          },
          "metadata": {
            "tags": [],
            "needs_background": "light"
          }
        }
      ]
    },
    {
      "cell_type": "markdown",
      "metadata": {
        "id": "YF5UT7vBymJ6"
      },
      "source": [
        "`random` ライブラリには、`random()` 以外にも便利な関数が用意されています。\n",
        "例えば、`choice()` の引数にリストを指定すると、リストの要素を等しい確率で選択します。\n",
        "`['表', '裏']` は、「表」という値を持つ文字列オブジェクトと「裏」という値を文字列オブジェクトを要素に持つリストです。\n",
        "シングルクォート `'`、または、ダブルクォート `\"` で文字列を囲むことで文字列オブジェクトを定義することができます。\n",
        "従って、`rnd.choice(['表', '裏'])` によって、表と裏が出る確率が等しいフェアなコイントスをシミュレートすることができます。\n",
        "\n",
        "例えば、下のプログラムは、フェアなコイントスを5回実行した結果ということになります。\n",
        "何回か実行してみて、都度、結果が違うことを確認して下さい。\n",
        "```python\n",
        "print(rnd.choice(['表', '裏']))\n",
        "print(rnd.choice(['表', '裏']))\n",
        "print(rnd.choice(['表', '裏']))\n",
        "print(rnd.choice(['表', '裏']))\n",
        "print(rnd.choice(['表', '裏']))\n",
        "```"
      ]
    },
    {
      "cell_type": "code",
      "metadata": {
        "id": "lggqXBGj19FB",
        "colab": {
          "base_uri": "https://localhost:8080/"
        },
        "outputId": "e541c522-ce85-4e43-f0ff-06ff37c10cfd"
      },
      "source": [
        "print(rnd.choice(['表', '裏']))\n",
        "print(rnd.choice(['表', '裏']))\n",
        "print(rnd.choice(['表', '裏']))\n",
        "print(rnd.choice(['表', '裏']))\n",
        "print(rnd.choice(['表', '裏']))"
      ],
      "execution_count": null,
      "outputs": [
        {
          "output_type": "stream",
          "text": [
            "表\n",
            "裏\n",
            "裏\n",
            "表\n",
            "表\n"
          ],
          "name": "stdout"
        }
      ]
    },
    {
      "cell_type": "markdown",
      "metadata": {
        "id": "Zkr0DOac7Ahw"
      },
      "source": [
        "次のプログラムは、100回コイントスのシミュレーションを行い、表と裏が出た回数をヒストグラムで表現するものです。\n",
        "何回か繰り返し実行してみてください。\n",
        "```python\n",
        "import random as rnd\n",
        "import matplotlib.pyplot as plt\n",
        "trial = [rnd.choice(['表', '裏']) for n in range(100)]\n",
        "head = 0 # 表は英語でhead\n",
        "tail = 0 # 裏は英語でtail\n",
        "for head_or_tail in trial:\n",
        "  if head_or_tail == '表':\n",
        "    head = head + 1\n",
        "  else:\n",
        "    tail = tail + 1\n",
        "plt.bar([1, 2], [head, tail], tick_label=['Head', 'Tail'])\n",
        "plt.show()\n",
        "```"
      ]
    },
    {
      "cell_type": "code",
      "metadata": {
        "id": "jOL1cSyE2DtK",
        "colab": {
          "base_uri": "https://localhost:8080/",
          "height": 265
        },
        "outputId": "abaae8df-2fd5-464f-ff7c-5a7e4b403ed5"
      },
      "source": [
        "import random as rnd\n",
        "import matplotlib.pyplot as plt\n",
        "\n",
        "trial = [rnd.choice(['表', '裏']) for n in range(100)]\n",
        "head = 0\n",
        "tail = 0\n",
        "for head_or_tail in trial:\n",
        "  if head_or_tail == '表':\n",
        "    head = head + 1\n",
        "  else:\n",
        "    tail = tail + 1\n",
        "plt.bar([1,2], [head, tail], tick_label=['Head', 'Tail'])\n",
        "plt.show()"
      ],
      "execution_count": 29,
      "outputs": [
        {
          "output_type": "display_data",
          "data": {
            "image/png": "[encoded data removed]",
            "text/plain": [
              "<Figure size 432x288 with 1 Axes>"
            ]
          },
          "metadata": {
            "tags": [],
            "needs_background": "light"
          }
        }
      ]
    },
    {
      "cell_type": "markdown",
      "metadata": {
        "id": "g81H6xBh92AA"
      },
      "source": [
        "表の出た回数と裏が出た回数が大体同じであれば、\n",
        "「表が出る確率と裏が出る確率が等しい（確率が一様である）こと」を直感的に理解することができます。\n",
        "\n",
        "ただし、確率的なシミュレーションですので、仮に確率が一様であっても、必ずしも両者が一致するとは限りません。\n",
        "どれくらいの差であれば確率が一様であると結論できるかを統計的に判断するためには、\n",
        "例えば、$\\chi^2$（カイ二乗）検定などの統計的手法で確認する必要があります。\n",
        "少し脇道に逸れることになりますが、\n",
        "**Pythonなら複雑な統計計算も簡単に実行できる**例として、\n",
        "上の実験結果をカイ二乗検定で確認してみましょう。\n",
        "\n",
        "### カイ二乗検定による確認\n",
        "\n",
        "Pythonでは、`scipy.stats` というライブラリで、カイ二乗検定を簡単に実行することができます。\n",
        "ここでも、**ちゃっかり精神**を発揮して、カイ二乗検定の意味や計算手順を全く勉強せずに、\n",
        "検定の結果の意味だけわかるようにします。\n",
        "Pythonのライブラリが関数を提供してくれているからできることで、\n",
        "プログラムを使う大きなメリットです。\n",
        "\n",
        "例えば、次のプログラムを実行してみてください。\n",
        "```python\n",
        "import scipy.stats\n",
        "print('表の回数=', head)\n",
        "print('裏の回数=', tail)\n",
        "print(scipy.stats.chisquare([head, tail], [50, 50]))\n",
        "```"
      ]
    },
    {
      "cell_type": "code",
      "metadata": {
        "id": "QsmTBfj5qKiR",
        "colab": {
          "base_uri": "https://localhost:8080/"
        },
        "outputId": "022787bb-df09-4206-b0af-df1a1bd65d69"
      },
      "source": [
        "import scipy.stats\n",
        "print('表の回数=', head)\n",
        "print('裏の回数=', tail)\n",
        "print(scipy.stats.chisquare([head, tail], [50, 50]))"
      ],
      "execution_count": 31,
      "outputs": [
        {
          "output_type": "stream",
          "text": [
            "表の回数= 44\n",
            "裏の回数= 56\n",
            "Power_divergenceResult(statistic=1.44, pvalue=0.23013934044341314)\n"
          ],
          "name": "stdout"
        }
      ]
    },
    {
      "cell_type": "markdown",
      "metadata": {
        "id": "Gre0vVO9qKiS"
      },
      "source": [
        "例えば、\n",
        "```\n",
        "表の回数= 48\n",
        "裏の回数= 52\n",
        "Power_divergenceResult(statistic=0.16, pvalue=0.6891565167793516)\n",
        "```\n",
        "のような結果が得られると思います。\n",
        "\n",
        "プログラムの最初の行\n",
        "```python\n",
        "import scipy.stats\n",
        "```\n",
        "では、`scipy.stats`というライブラリを読み込みます。\n",
        "このライブラリ名は、**sientific python statistics**という意味で、\n",
        "統計関数が多数用意されており、カイ二乗検定を実行する関数`chisquare()`もその一つです。\n",
        "\n",
        "今、表と裏が出る確率が等しいコイン（フェアなコイン）を100回振ったとすると、\n",
        "表が出る回数と裏が出る回数はそれぞれ50回であることが期待できます。\n",
        "これを、リスト`[50, 50]`で表現します。\n",
        "\n",
        "一方、シミュレーションを行って得られる表の回数と裏の回数を、リスト`[head, tail]`で与えます。\n",
        "```python\n",
        "scipy.stats.chisquare([head, tail], [50, 50])\n",
        "```\n",
        "は、理論的には`[50, 50]`になることが期待できるときに、\n",
        "`[head, tail]`（例えば、`[48,52]`）という実験結果が偶然に起こり得るかを判定します。\n",
        "出力\n",
        "```\n",
        "Power_divergenceResult(statistic=0.16, pvalue=0.6891565167793516)\n",
        "```\n",
        "のうち、`pvalue=0.6891565167793516`が、理論が正しいとしたときに**偶然に実験結果が得られる確率**を与えています。\n",
        "統計では、この確率を**p値**（ピーバリュー）と呼びます。\n",
        "p値が非常に小さいということは、理論が正しいとして実験結果が偶然に得られる可能性が非常に小さいということを意味し、\n",
        "つまり、理論が間違っている可能性が高いと結論できるのです。\n",
        "では、「p値が非常に小さい」という判断はどのように行われるかというと、\n",
        "例えば、**p値 < 0.05**という条件がよく使われます。\n",
        "偶然に実験結果が得られるが0.05（5%）より小さいということです。\n",
        "0.05の代わりに、0.1や0.01を使うこともあります。\n",
        "\n",
        "この例では、p値は0.689で、0.05よりはるかに大きいので、実験結果が偶然得られる確率は十分大きい、\n",
        "つまり、**表と裏が出る確率は等しい筈だ**と考えても差し支えないということを意味します。\n",
        "\n",
        "## プログラムの解説\n",
        "\n",
        "棒グラフを描画するプログラムは次のようなものでした。\n",
        "\n",
        "```python\n",
        "import random as rnd\n",
        "import matplotlib.pyplot as plt\n",
        "trial = [rnd.choice(['表', '裏']) for n in range(100)]\n",
        "head = 0\n",
        "tail = 0\n",
        "for head_or_tail in trial:\n",
        "  if head_or_tail == '表':\n",
        "    head = head + 1\n",
        "  else:\n",
        "    tail = tail + 1\n",
        "plt.bar([1, 2], [head, tail], tick_label=['Head', 'Tail'])\n",
        "plt.show()\n",
        "```\n",
        "このプログラムには、\n",
        "いくつか新しいプログラミングの要素が加わっていますので、\n",
        "説明して行きますが、まず、分かるところからみていきましょう。\n",
        "\n",
        "* `trial` は、100回コイントスを行った結果を格納するリストの名前です。\n",
        "* `head` は、表が出た回数を値として持つ整数型オブジェクトの名前です。\n",
        "* `tail` は、裏が出た回数を値として持つ整数型オブジェクトの名前です。\n",
        "* `plt.bar([1, 2], [head, tail], tick_label=['Head', 'Tail'])`は、`head` と `tail` が示す表の回数と裏の回数を、\n",
        "棒グラフで描画します。棒（バー）のラベルは、`Head`（表）と`Tail`（裏）になります。\n",
        "\n",
        "以上は、前講までで学んだ内容です。\n",
        "\n",
        "### 命名式（代入式）\n",
        "次の式はちょっと解釈に困るかもしれません。\n",
        "```python\n",
        "head = head + 1\n",
        "```\n",
        "Pythonでは、既に学んだことですが、`名前 = オブジェクト` は、右辺のオブジェクトに左辺で指定した名前をつける構文です。\n",
        "代入文と呼ぶのが一般的ですが、Pythonでは、同じ名前を別のタイプのオブジェクトに付け直すことができるので、命名文と呼んだ方が相応しい気がします。\n",
        "\n",
        "一方、CやJavaなどの**Python以外の多くのプログラミング言語では**、\n",
        "代入式は本当にメモリ領域への代入を意味します。\n",
        "例えば、以下の2行のプログラムを実行しようとすると、\n",
        "Python以外のプログラミング言語では、普通、エラーが出て、実行がとまります。\n",
        "```python\n",
        "a = 0\n",
        "a = 'To be or not to be'\n",
        "```\n",
        "これは、最初に`a = 0`の行に遭遇すると、\n",
        "変数`a`を整数を保存するための変数と認識し、\n",
        "整数を保存するために必要な領域をメモリ上確保したのち、\n",
        "この領域に整数0を書き込みます。\n",
        "つまり、`a`の実体はメモリ上の領域であり、`a = 0`は変数`a`の実体領域に整数0を代入するわけです。\n",
        "これが、`a = 0`を代入式と呼ぶ理由です。\n",
        "ところが、続いて、2行目の`a = 'To be or not to be'`に遭遇すると、\n",
        "変数`a`に割り当てられた整数のためのメモリ領域に文字列`'To be or not to be'`を保存することができないので、\n",
        "エラーを出します。\n",
        "整数の領域は4バイトか8バイトの固定長であるのに対して、\n",
        "文字列を保存するための領域は可変長であるからです。\n",
        "\n",
        "一方、Pythonでは、エラーを出さずにこのプログラムを最後まで実行してくれます。\n",
        "それは、Pythonでは、`a = 0`の意味は、整数0に`a`という名前をつけ、\n",
        "2行目では、名前`a`が指し示すオブジェクトを、文字列`To be or not to be`に変更するだけだからです。\n",
        "\n",
        "さて、この理解に基づいて、`head = head + 1`を考えてみます。\n",
        "`head = 0` というコードは、0という値を持つ整数型オブジェクトに `head` という名前をつけています。\n",
        "従って、`head = head + 1` は、`head + 1`という式は値を持ちますので（この場合は整数）、\n",
        "このを値に持つ整数型オブジェクトに `head` という名前を改めて付け直しているわけです。\n",
        "つまり、式の右辺の中の `head` は、`head` という名前が指しているオブジェクトの値（ここでは表が出た回数）であり、\n",
        "左辺の`head`は名前なのです。\n",
        "従って、`head = head + 1`は、\n",
        "**`head` が指す数値に1を加えて、改めて `head` という名前をつけている**ということになります。\n",
        "次のプログラムで確認してください。\n",
        "```python\n",
        "a = 0\n",
        "print(a)\n",
        "a = a + 1\n",
        "print(a)\n",
        "a = a + 1\n",
        "print(a)\n",
        "a = a + 1\n",
        "print(a)\n",
        "a = a + 1\n",
        "print(a)\n",
        "```"
      ]
    },
    {
      "cell_type": "code",
      "metadata": {
        "id": "4QCjfMO39Oqn",
        "colab": {
          "base_uri": "https://localhost:8080/"
        },
        "outputId": "2573449b-2e7a-4ea6-b73c-1d8053caa47e"
      },
      "source": [
        "a = 0\n",
        "print(a)\n",
        "a = a +1\n",
        "print(a)\n",
        "a = a +1\n",
        "print(a)\n",
        "a = a +1\n",
        "print(a)\n",
        "a = a +1\n",
        "print(a)\n",
        "\n",
        "a += 1\n",
        "print(a)\n",
        "a += 1\n",
        "print(a)"
      ],
      "execution_count": 34,
      "outputs": [
        {
          "output_type": "stream",
          "text": [
            "0\n",
            "1\n",
            "2\n",
            "3\n",
            "4\n",
            "5\n",
            "6\n"
          ],
          "name": "stdout"
        }
      ]
    },
    {
      "cell_type": "markdown",
      "metadata": {
        "id": "RqA2McmkWrbl"
      },
      "source": [
        "このような名前付されたオブジェクトに対して、値を増やしたり、減らしたりし、値を更新する処理は多用されるので、\n",
        "次のような簡略構文が用意されています。\n",
        "この構文は、ほとんど全てのプログラミング言語で採用されています。\n",
        "```python\n",
        "a = 0\n",
        "print(a)\n",
        "a += 1 # 値を1加える\n",
        "print(a)\n",
        "a *=10 # 値を10倍する\n",
        "print(a)\n",
        "a -= 8 # 値を8減じる\n",
        "print(a)\n",
        "a /= 2 # 値を半分にする\n",
        "print(a)\n",
        "```"
      ]
    },
    {
      "cell_type": "code",
      "metadata": {
        "id": "YOwgycUFVtLy",
        "colab": {
          "base_uri": "https://localhost:8080/"
        },
        "outputId": "be168d2d-74c1-4a10-921e-fd5b6b278516"
      },
      "source": [
        "a = 0\n",
        "print(a)\n",
        "\n",
        "a += 1\n",
        "print(a)\n",
        "\n",
        "a *= 10\n",
        "print(a)\n",
        "\n",
        "a -= 8\n",
        "print(a)\n",
        "\n",
        "a /= 2\n",
        "print(a)"
      ],
      "execution_count": 36,
      "outputs": [
        {
          "output_type": "stream",
          "text": [
            "0\n",
            "1\n",
            "10\n",
            "2\n",
            "1.0\n"
          ],
          "name": "stdout"
        }
      ]
    },
    {
      "cell_type": "markdown",
      "metadata": {
        "id": "pgiD20E7ZHbb"
      },
      "source": [
        "これらの簡略構文を用いると、前のヒストグラムを描くプログラムを次のように書き直すことができます。\n",
        "```python\n",
        "trial = [rnd.choice(['表', '裏']) for n in range(100)]\n",
        "head = 0 #表が出た回数\n",
        "tail = 0 #裏が出た回数\n",
        "for head_or_tail in trial:\n",
        "  if head_or_tail == '表':\n",
        "    head += 1\n",
        "  else:\n",
        "    tail += 1\n",
        "plt.bar([1, 2], [head, tail], tick_label=['Head', 'Tail'])\n",
        "```\n",
        "プログラムを実行して、同じグラフが描画されることを確認してください。"
      ]
    },
    {
      "cell_type": "code",
      "metadata": {
        "id": "KToV65dRqKiU",
        "colab": {
          "base_uri": "https://localhost:8080/",
          "height": 265
        },
        "outputId": "37bf1143-be7c-444a-faa9-7f3b4c5a6ae1"
      },
      "source": [
        "import random as rnd\n",
        "import matplotlib.pyplot as plt\n",
        "\n",
        "trial = [rnd.choice(['表', '裏']) for n in range(100)]\n",
        "head = 0\n",
        "tail = 0\n",
        "for head_or_tail in trial:\n",
        "  if head_or_tail == '表':\n",
        "    head += 1\n",
        "  else:\n",
        "    tail += 1\n",
        "plt.bar([1,2], [head, tail], tick_label= ['Head', 'Tail'])\n",
        "plt.show()\n"
      ],
      "execution_count": 38,
      "outputs": [
        {
          "output_type": "display_data",
          "data": {
            "image/png": "[encoded data removed]",
            "text/plain": [
              "<Figure size 432x288 with 1 Axes>"
            ]
          },
          "metadata": {
            "tags": [],
            "needs_background": "light"
          }
        }
      ]
    },
    {
      "cell_type": "markdown",
      "metadata": {
        "id": "o9bkohYWqKiV"
      },
      "source": [
        "### 論理式\n",
        "値が真（`True`）か偽（`False`）のいずれかをとるような式を **論理式** と呼びます。\n",
        "2つのオブジェクトの値が等しいことを表すには、記号 `==` を用います。\n",
        "`=` だと命名式（代入式）と区別がつかないからです。\n",
        "また、2つのオブジェクトの値が等しくないことを表すには、記号 `!=` を用います。\n",
        "以下の例を見ていただけると分かると思います。\n",
        "```python\n",
        "a = 4\n",
        "print(a == 4)\n",
        "print(a != 4)\n",
        "print(a != 1)\n",
        "print(a == 1)\n",
        "print(a > 2)\n",
        "print(a < 2)\n",
        "print(a in [0,1,2,3,4])\n",
        "print(a in [0,1,2,3])\n",
        "print(a in range(5))\n",
        "print(a in range(4))\n",
        "```"
      ]
    },
    {
      "cell_type": "code",
      "metadata": {
        "id": "MZtzejCpZS_o",
        "colab": {
          "base_uri": "https://localhost:8080/"
        },
        "outputId": "b7cd01f7-d1f4-45aa-a5f3-88f2983512d6"
      },
      "source": [
        "a = 4\n",
        "print(a == 4)\n",
        "print(a != 4)\n",
        "print(a != 1)\n",
        "print(a == 1)\n",
        "print(a > 2)\n",
        "print(a < 2)\n",
        "print(a in [0,1,2,3,4])\n",
        "print(a in [0,1,2,3])\n",
        "print(a in range(5))\n",
        "print(a in range(4))\n"
      ],
      "execution_count": 39,
      "outputs": [
        {
          "output_type": "stream",
          "text": [
            "True\n",
            "False\n",
            "True\n",
            "False\n",
            "True\n",
            "False\n",
            "True\n",
            "False\n",
            "True\n",
            "False\n"
          ],
          "name": "stdout"
        }
      ]
    },
    {
      "cell_type": "markdown",
      "metadata": {
        "id": "N2ok0IETFxKS"
      },
      "source": [
        "論理式を `and` または `or` で結ぶことで、論理式の **論理積** と **論理和** を実現できます。\n",
        "次のプログラムを何回か実行して、確認してください。\n",
        "```python\n",
        "A = [1, 2, 3]\n",
        "B = [2, 3, 4]\n",
        "x = rnd.choice(range(6))\n",
        "print(x)\n",
        "print(x in A and x in B)\n",
        "print(x in A or x in B)\n",
        "```"
      ]
    },
    {
      "cell_type": "code",
      "metadata": {
        "id": "RN4EpjBWG369",
        "colab": {
          "base_uri": "https://localhost:8080/"
        },
        "outputId": "d813bd7c-5a15-4195-9ab0-c0b6cd454463"
      },
      "source": [
        "A = [1, 2, 3]\n",
        "B = [2, 3, 4]\n",
        "x = rnd.choice(range(6))\n",
        "print(x)\n",
        "print(x in A and x in B)\n",
        "print(x in A or x in B)"
      ],
      "execution_count": 42,
      "outputs": [
        {
          "output_type": "stream",
          "text": [
            "3\n",
            "True\n",
            "True\n"
          ],
          "name": "stdout"
        }
      ]
    },
    {
      "cell_type": "markdown",
      "metadata": {
        "id": "vNZB4WIQX0AC"
      },
      "source": [
        "### 条件文（if-elif-else構文）\n",
        "`head_or_tail` の名前を持つオブジェクトは、文字列 `'表'` または `'裏'` を値に持つことを仮定してください（このことは次に見ます）。\n",
        "```python\n",
        "  if head_or_tail == '表':\n",
        "    head += 1\n",
        "  else:\n",
        "    tail += 1\n",
        "```\n",
        "は、`head_or_tail` の値が `'表'` ならば、即ち、論理式 `head_or_tail == '表'` が真ならば、`head += 1` を実行し、それ以外ならば（`else`）、`tail += 1` を実行します。\n",
        "つまり、`head_or_tail` の値が表か裏かに応じて、カウンター `head` または `tail` の値を1増やしているのです。\n",
        "\n",
        "上記のプログラムでは、`head += 1` と `tail += 1` はインデントされていますが、Python独自の文法上の特徴として、インデントが意味を持ちます。\n",
        "例えば、以下のプログラムを何回か実行してください。\n",
        "```python\n",
        "import random as rnd\n",
        "head = 0\n",
        "tail = 0\n",
        "head_or_tail = rnd.choice(['表', '裏'])\n",
        "if head_or_tail == '表':\n",
        "  print(\"表が出ました。\")\n",
        "  head = head + 1\n",
        "  print(\"表が出た回数は\", head)\n",
        "else:\n",
        "  print(\"裏が出ました。\")\n",
        "  tail = tail + 1\n",
        "  print(\"裏が出た回数は\", tail)\n",
        "```"
      ]
    },
    {
      "cell_type": "code",
      "metadata": {
        "id": "EsfMreH2XYTZ",
        "colab": {
          "base_uri": "https://localhost:8080/"
        },
        "outputId": "a47c5481-c258-4c86-a9b9-d14174f9efd1"
      },
      "source": [
        "import random as rnd\n",
        "head = 0\n",
        "tail = 0\n",
        "head_or_tail = rnd.choice(['表', '裏'])\n",
        "if head_or_tail == '裏':\n",
        "  print('表が出ました。')\n",
        "  head += 1\n",
        "  print('表が出た回数は', head)\n",
        "else:\n",
        "  print('裏が出ました。')\n",
        "  tail += 1\n",
        "  print('裏が出た回数は', head)"
      ],
      "execution_count": 57,
      "outputs": [
        {
          "output_type": "stream",
          "text": [
            "表が出ました。\n",
            "表が出た回数は 1\n"
          ],
          "name": "stdout"
        }
      ]
    },
    {
      "cell_type": "markdown",
      "metadata": {
        "id": "knzL4ysYt0Rt"
      },
      "source": [
        "`head_or_tail == '表'`が真の場合は、\n",
        "```python\n",
        "  print(\"表が出ました。\")\n",
        "  head = head + 1\n",
        "  print(\"表が出た回数は\", head)\n",
        "```\n",
        "の3行を実行するので、この3行はコードの1つの塊として機能します。\n",
        "このようなコードの塊を **スコープ** といいますが、スコープを指定するためにインデントを用いるのがPython独特の記法です。\n",
        "例えば、商用プログラムの開発で広く使われるC言語では、同じプログラムを、\n",
        "```c\n",
        "if(head_or_tail == '表') {\n",
        "    printf(\"表が出ました。\");\n",
        "    head = head + 1;\n",
        "    printf(\"表が出た回数は%d\", head);\n",
        "} else {\n",
        "    printf(\"裏が出ました。\");\n",
        "    tail = tail + 1;\n",
        "    printf(\"裏が出た回数は%d\", tail);\n",
        "}\n",
        "```\n",
        "というように、中括弧 `{}` で挟むことでスコープを指定します。\n",
        "Java言語でも同様です。\n",
        "Pythonでは、\n",
        "```python\n",
        "if head_or_tail == '表':\n",
        "```\n",
        "に続くコードを、それが何行あっても、同じレベルでインデントすることで、\n",
        "if文の条件が真である時に実行するコードの塊、即ち、スコープを指定します。\n",
        "\n",
        "インデントはちょっと分かりにくく、それが原因でプログラムが動かなくて悩むことがあります。\n",
        "プログラムがうまく動かず、原因が分からない時は、インデントの問題かもしれないということを思い出すと良いでしょう。\n",
        "\n",
        "`else` を用いずに、`if` だけでも同じ機能をプログラミングすることができます。\n",
        "例えば、次のプログラムは同じ動作をします。\n",
        "\n",
        "```python\n",
        "head_or_tail = rnd.choice(['表', '裏'])\n",
        "if head_or_tail == '表':\n",
        "    # head_or_tail == '表'が真の場合のスコープの開始\n",
        "    print(\"表が出ました。\")\n",
        "    head = head + 1\n",
        "    print(\"表が出た回数は\", head)\n",
        "    # head_or_tail == '表'が真の場合のスコープの終了\n",
        "if head_or_tail != '表':\n",
        "    # head_or_tail == '表'が偽の場合のスコープの開始\n",
        "    print(\"裏が出ました。\")\n",
        "    tail = tail + 1\n",
        "    print(\"裏が出た回数は\", tail)\n",
        "    # head_or_tail == '表'が偽の場合のスコープの終了'\n",
        "```"
      ]
    },
    {
      "cell_type": "code",
      "metadata": {
        "id": "OUiERy3d6Fl7",
        "colab": {
          "base_uri": "https://localhost:8080/"
        },
        "outputId": "37388348-1336-493a-dbd5-4e8e3f95fded"
      },
      "source": [
        "head_or_tail = rnd.choice(['表', '裏'])\n",
        "if head_or_tail == '表':\n",
        "  print('表が出ました。')\n",
        "  head += 1\n",
        "  print('表が出た回数は', head)\n",
        "if head_or_tail == '裏':\n",
        "  print('裏が出ました。')\n",
        "  tail += 1\n",
        "  print('裏が出た回数は', tail)"
      ],
      "execution_count": 67,
      "outputs": [
        {
          "output_type": "stream",
          "text": [
            "表が出ました。\n",
            "表が出た回数は 4\n"
          ],
          "name": "stdout"
        }
      ]
    },
    {
      "cell_type": "markdown",
      "metadata": {
        "id": "Pm0OF-g_A8v7"
      },
      "source": [
        "`if` 文はいくつも重ねることができます。\n",
        "```python\n",
        "x = rnd.random()\n",
        "if x < 1/3:\n",
        "  y = 3*x\n",
        "if x >= 1/3 and x < 2/3:\n",
        "  y = 1.0\n",
        "if x > 2/3:\n",
        "  y = 3 - 3*x\n",
        "print(\"f(\", x, \") = \", y)\n",
        "```"
      ]
    },
    {
      "cell_type": "code",
      "metadata": {
        "id": "BgAYFAe074IN",
        "colab": {
          "base_uri": "https://localhost:8080/"
        },
        "outputId": "e658d3dd-952c-424d-8f17-c5a3ba0edfb7"
      },
      "source": [
        "x = rnd.random()\n",
        "if x < 1/3:\n",
        "  y = 3*x\n",
        "if x >= 1/3 and x < 2/3:\n",
        "  y = 1.0\n",
        "if x > 2/3:\n",
        "  y = 3 - 3*x\n",
        "print('f(', x, ') = ', y)"
      ],
      "execution_count": 76,
      "outputs": [
        {
          "output_type": "stream",
          "text": [
            "f( 0.4867073194669257 ) =  1.0\n"
          ],
          "name": "stdout"
        }
      ]
    },
    {
      "cell_type": "markdown",
      "metadata": {
        "id": "33-x4zIUBylc"
      },
      "source": [
        "このプログラムは、次のように書くこともできます。\n",
        "```python\n",
        "x = rnd.random()\n",
        "if x < 1/3:\n",
        "  y = 3*x\n",
        "elif x < 2/3:\n",
        "  y = 1.0\n",
        "else:\n",
        "  y = 3 - 3*x\n",
        "print(\"f(\", x, \") = \", y)\n",
        "```"
      ]
    },
    {
      "cell_type": "code",
      "metadata": {
        "id": "WNd1MGejB6RZ",
        "colab": {
          "base_uri": "https://localhost:8080/"
        },
        "outputId": "bb5e4a67-4ff2-463a-9b90-a478df00fddd"
      },
      "source": [
        "x = rnd.random()\n",
        "if x < 1/3:\n",
        "  y = 3*x\n",
        "elif x < 2/3:\n",
        "  y = 1.0\n",
        "else:\n",
        "  y = 3 - 3*x\n",
        "print(\"f(\", x, \") = \", y)"
      ],
      "execution_count": 73,
      "outputs": [
        {
          "output_type": "stream",
          "text": [
            "f( 0.1292096547270153 ) =  0.38762896418104587\n"
          ],
          "name": "stdout"
        }
      ]
    },
    {
      "cell_type": "markdown",
      "metadata": {
        "id": "KFzjxUj46HB6"
      },
      "source": [
        "2つのプログラムは全く同じ動きをします。\n",
        "違いは、第1のプログラムは、$x$ の値がなんであれ（例えば、$x < \\frac 13$ が最初の `if` 文で成立していても）、全ての `if` 文が評価されます。\n",
        "一方、第2のプログラムでは、`if` 文の条件が成立すれば（$x < \\frac 13$ ならば）、`elif` 文と `else` 文は評価されません。\n",
        "`if` 文の条件が成立せず、`elif` 文の条件が成立すれば（$\\frac 13 \\le x < \\frac 23$ ならば）、`else` 文は評価されません。\n",
        "\n",
        "ところで、\n",
        "`elsif x >= 1/3 and x < 2/3:`ではなく、`elsif x < 2/3:`になっていることに気がつきましたか？\n",
        "これは、論理式$x < \\frac 13$が冒頭の`if x < 1/3:`で検査され、論理式の値が偽である時に限り、\n",
        "`elsif x < 2/3:`が実行されるからです。\n",
        "即ち、`elsif x < 2/3:`を実行する時には、既に、$x \\ge \\frac 13$が成り立っているので、チェックする必要がないということです。\n",
        "\n",
        "第2のプログラムの方が論理構造が明確で紛れがないという点で利点がある上、不要な条件分を評価しないことで、プログラムの実行が高速になるという利点があります。\n",
        "\n",
        "### for構文\n",
        "実は、for構文は内包表現で既にみています。\n",
        "```python\n",
        "print([x**2 for x in [0, 1, 2, 3, 4, 5]])\n",
        "```\n",
        "では、リスト `[0, 1, 2, 3, 4]` の要素を順番に取り出して、\n",
        "`x` という名前をつけて、`x**2` を計算し、その結果を集めてリストにしています。\n"
      ]
    },
    {
      "cell_type": "code",
      "metadata": {
        "id": "ewl0b_e-tVW6",
        "colab": {
          "base_uri": "https://localhost:8080/"
        },
        "outputId": "55ff0fc5-3633-4d70-d134-4a09f0222115"
      },
      "source": [
        "print([x**2 for x in [0,1,2,3,4,5]])"
      ],
      "execution_count": 77,
      "outputs": [
        {
          "output_type": "stream",
          "text": [
            "[0, 1, 4, 9, 16, 25]\n"
          ],
          "name": "stdout"
        }
      ]
    },
    {
      "cell_type": "markdown",
      "metadata": {
        "id": "kqxcGo3MC0X_"
      },
      "source": [
        "`for` 構文は、同じ考え方で、もっと複雑な機能を実現するためにあります。\n",
        "例えば、\n",
        "```python\n",
        "total = 0\n",
        "for x in [0, 1, 2, 3, 4]:\n",
        "  print(x, \"の二乗は\", x**2, \"です。\")\n",
        "  total += x**2\n",
        "print(\"二乗の総和は\", total, \"です。\")\n",
        "```\n",
        "を試してください。"
      ]
    },
    {
      "cell_type": "code",
      "metadata": {
        "id": "_Z_YPRfnCyoa",
        "colab": {
          "base_uri": "https://localhost:8080/"
        },
        "outputId": "a51b601a-7b03-4975-b2a1-8a4406a5e366"
      },
      "source": [
        "total = 0\n",
        "for x in [0, 1, 2, 3, 4]:\n",
        "  print(x, 'の二乗は', x**2, \"です。\")\n",
        "  total += x**2\n",
        "print('二乗は総和は', total, \"です。\")"
      ],
      "execution_count": 79,
      "outputs": [
        {
          "output_type": "stream",
          "text": [
            "0 の二乗は 0 です。\n",
            "1 の二乗は 1 です。\n",
            "2 の二乗は 4 です。\n",
            "3 の二乗は 9 です。\n",
            "4 の二乗は 16 です。\n",
            "二乗は総和は 30 です。\n"
          ],
          "name": "stdout"
        }
      ]
    },
    {
      "cell_type": "markdown",
      "metadata": {
        "id": "WQ6Ftm95qKic"
      },
      "source": [
        "`for x in [0, 1, 2, 3, 4]:` では、内包表現の場合と同じように、`x` という名前のオブジェクトの値を0から4まで順番に変えていきますが、それぞれの値に対して実行するコードは、`for` 文直下のインデントされた2行のプログラムになります。\n",
        "`print(\"二乗の総和は\", total, \"です。\")` はインデントされていませんので、for文の処理が全部終わった後に実行されます。\n",
        "実行結果の表示から、このプログラムがどのように動いているか、よく分かると思います。\n",
        "\n",
        "内包表現を用いたプログラム\n",
        "```python\n",
        "print([x**2 for x in [0, 1, 2, 3, 4, 5]])\n",
        "```\n",
        "と同等なプログラムを、`for`構文を使って以下のように作成することもできます。\n",
        "```python\n",
        "square = []\n",
        "for x in [0, 1, 2, 3, 4, 5]:\n",
        "    print('square = ', square) # 動作確認のためのコード\n",
        "    square.append(x**2)\n",
        "print(square)\n",
        "```\n",
        "プログラムを実行してみて、プログラムの内容を理解してください。"
      ]
    },
    {
      "cell_type": "code",
      "metadata": {
        "id": "irHKErpzqKid",
        "colab": {
          "base_uri": "https://localhost:8080/"
        },
        "outputId": "5b7f3041-1e01-4aa0-b44d-4326bd40e770"
      },
      "source": [
        "square = []\n",
        "for x in [0, 1, 2, 3, 4, 5]:\n",
        "  print('square = ', square)\n",
        "  square.append(x**2)\n",
        "print(square)"
      ],
      "execution_count": 80,
      "outputs": [
        {
          "output_type": "stream",
          "text": [
            "square =  []\n",
            "square =  [0]\n",
            "square =  [0, 1]\n",
            "square =  [0, 1, 4]\n",
            "square =  [0, 1, 4, 9]\n",
            "square =  [0, 1, 4, 9, 16]\n",
            "[0, 1, 4, 9, 16, 25]\n"
          ],
          "name": "stdout"
        }
      ]
    },
    {
      "cell_type": "markdown",
      "metadata": {
        "id": "KaCVNnbNqKid"
      },
      "source": [
        "```python\n",
        "square = []\n",
        "```\n",
        "では、空のリスト`[]`を作成して、`square`と名前をつけました。\n",
        "```python\n",
        "square.append(x**2)\n",
        "```\n",
        "では、リスト`square`の末尾に、整数`x**2`を追加しています。\n",
        "`append`関数については、次回の授業でも説明しますが、\n",
        "appendは「末尾に追加する」という意味の英語です。\n",
        "\n",
        "今回の授業では、\n",
        "- 乱数\n",
        "- 命名式（代入式）\n",
        "- 論理式\n",
        "- 条件文（if-elif-else構文）\n",
        "- for構文\n",
        "\n",
        "と色々と学びました。\n",
        "確実な理解のため、これらの機能を使って、プログラムを作成する復習を行って下さい。\n",
        "\n",
        "## プログラミング1：第3回演習\n",
        "\n",
        "### 演習 3-1\n",
        "フェアなサイコロ（どの目も1/6の確率で出るサイコロ）を振るシミュレーションは\n",
        "```python\n",
        "import random as rnd\n",
        "rnd.choice([1, 2, 3, 4, 5, 6])\n",
        "```\n",
        "で実行できる。\n",
        "サイコロを一定回数（例えば600回）ふって、出た目のヒストグラムを描画するプログラムを作成せよ。\n"
      ]
    },
    {
      "cell_type": "code",
      "metadata": {
        "id": "HrblbAMgEXLU",
        "colab": {
          "base_uri": "https://localhost:8080/",
          "height": 265
        },
        "outputId": "14f674a3-586a-4994-9792-d4a1fc86160c"
      },
      "source": [
        "# この行の下にプログラムを作成してください。\n",
        "import random as rnd\n",
        "import matplotlib.pyplot as plt\n",
        "\n",
        "dice_trial = [rnd.choice([1, 2, 3, 4, 5, 6]) for n in range(600)]\n",
        "# print(dice_trial)\n",
        "one = 1\n",
        "two = 2\n",
        "three = 3\n",
        "four = 4\n",
        "five = 5\n",
        "six = 6\n",
        "\n",
        "for result in dice_trial:\n",
        "  if result == 1:\n",
        "    one += 1\n",
        "  elif result == 2:\n",
        "    two += 1\n",
        "  elif result == 3:\n",
        "    three += 1\n",
        "  elif result == 4:\n",
        "    four += 1\n",
        "  elif result == 5:\n",
        "    five += 1\n",
        "  else:\n",
        "    six += 1\n",
        "plt.bar([1,2,3,4,5,6], [one, two, three, four, five, six])\n",
        "plt.show()\n"
      ],
      "execution_count": 87,
      "outputs": [
        {
          "output_type": "display_data",
          "data": {
            "image/png": "[encoded data removed]",
            "text/plain": [
              "<Figure size 432x288 with 1 Axes>"
            ]
          },
          "metadata": {
            "tags": [],
            "needs_background": "light"
          }
        }
      ]
    },
    {
      "cell_type": "markdown",
      "metadata": {
        "id": "jOKCuia5qKie"
      },
      "source": [
        "### 演習 3-2\n",
        "演習3-1で作成したプログラムでシミュレーションを行い、得られた1から6までの目の出現頻度を使って、\n",
        "```python\n",
        "rnd.choice([1, 2, 3, 4, 5, 6])\n",
        "```\n",
        "がフェアなサイコロをシミュレーションすることを、カイ二乗検定で確認せよ。"
      ]
    },
    {
      "cell_type": "code",
      "metadata": {
        "id": "ICPxhY3ZqKie",
        "colab": {
          "base_uri": "https://localhost:8080/"
        },
        "outputId": "b7368847-a5d9-465f-dbee-1959692b84b5"
      },
      "source": [
        "# この行の下にプログラムを作成してください。\n",
        "import random as rnd\n",
        "import scipy.stats\n",
        "rnd.choice([1, 2, 3, 4, 5, 6])\n",
        "print(scipy.stats.chisquare([one, two, three, four, five, six], [100, 100, 100, 100, 100, 100]))\n",
        "\n",
        "# p値 < 0.05で考える。 p値が0.37と0.05よりはるかに大きな値であるため、各目が100回ずつ出現すると言える。"
      ],
      "execution_count": 93,
      "outputs": [
        {
          "output_type": "stream",
          "text": [
            "Power_divergenceResult(statistic=5.39, pvalue=0.3701585770495902)\n"
          ],
          "name": "stdout"
        }
      ]
    }
  ]
}