{
  "nbformat": 4,
  "nbformat_minor": 0,
  "metadata": {
    "colab": {
      "name": "Programming1-09.ipynb",
      "provenance": [],
      "collapsed_sections": [],
      "include_colab_link": true
    },
    "kernelspec": {
      "display_name": "Python 3",
      "language": "python",
      "name": "python3"
    },
    "language_info": {
      "codemirror_mode": {
        "name": "ipython",
        "version": 3
      },
      "file_extension": ".py",
      "mimetype": "text/x-python",
      "name": "python",
      "nbconvert_exporter": "python",
      "pygments_lexer": "ipython3",
      "version": "3.7.5"
    }
  },
  "cells": [
    {
      "cell_type": "markdown",
      "metadata": {
        "id": "view-in-github",
        "colab_type": "text"
      },
      "source": [
        "<a href=\"https://colab.research.google.com/github/daisuke-shimizu/python-Gakushuin-programming1/blob/main/Programming1_09.ipynb\" target=\"_parent\"><img src=\"https://colab.research.google.com/assets/colab-badge.svg\" alt=\"Open In Colab\"/></a>"
      ]
    },
    {
      "cell_type": "markdown",
      "metadata": {
        "id": "U2x8L8pqNhPr"
      },
      "source": [
        "# サンプルプログラム実行上の注意\n",
        "プログラミング上達のコツは、\n",
        "\n",
        "- 短時間に集中してできるだけ大量のプログラムを書くこと\n",
        "- 試行錯誤を行うこと\n",
        "- 他人の書いた（動く）プログラムを読むこと\n",
        "- 更に、自分の目的に合わせてカスタマイズしてみること\n",
        "\n",
        "を日常的に実行することです。\n",
        "しかし、限られた授業時間（予習・復習も含む）内で、これらを十分に実行することは至難です。\n",
        "\n",
        "そこで、\n",
        "この講義資料は、多数のサンプルプログラムを提供して、\n",
        "少しでも不足を補うことができるように作成されています。\n",
        "受講者は、以下の注意を守ってサンプルプログラムをコードセル中で実行することで、\n",
        "より効率の良い学習を心がけて下さい。\n",
        "\n",
        "1. サンプルプログラムは、コピペせず、1行1行自分でタイプして書き写して下さい。\n",
        "コピペでは見逃してしまう、プログラミングの書き方の規則や、プログラミングのコツなど、\n",
        "自分自身でタイプすることで気づくことができます。\n",
        "2. サンプルプログラムを書き写す時は、プログラムの意味を考えるよう努めて下さい。\n",
        "最初は必ずしも最良とは言えないサンプルプログラムを提示して、\n",
        "後で改良した例を示すなど、この講義資料では、良いプログラムを作成する考え方を効率的に学べるよう、\n",
        "いろいろな工夫をしています。\n",
        "3. 意味を理解できない行がある場合には、あまり拘泥せず、先に進んでください。\n",
        "100%理解しないといけないという思い込みは、プログラミングの上達にとって妨げです。\n",
        "理解するための努力は必要ですが、Pythonでできることの範囲は非常に広く、\n",
        "プロのプログラマでも全部は理解していないでしょう。\n",
        "完璧な理解よりも、**動くプログラムを書くことを最優先の目標**として、\n",
        "わからない部分は「おまじない」として受け入れることができると、上達も早くなります。\n",
        "「おまじない」とは、「なぜ効くのかはわからないけれども、使い方は分かっている」という意味です。"
      ]
    },
    {
      "cell_type": "markdown",
      "metadata": {
        "id": "7_a79FDucfcl"
      },
      "source": [
        "# 第9回　誕生日のパラドックス（その２）\n",
        "\n",
        "いよいよ、誕生日のパラドックスを解析するプログラムを作成します。\n",
        "\n",
        "準備として、以下を確認します。\n",
        "1. Personクラスの定義\n",
        "1. $N$人分のPersonオブジェクトの生成\n",
        "2. Class 8-4の解答例\n",
        "3. Class 8-5の解答例"
      ]
    },
    {
      "cell_type": "markdown",
      "metadata": {
        "id": "QdQ6KXtHNhPv"
      },
      "source": [
        "## `Person`クラスの定義\n",
        "この回のテーマである、誕生日パラドックスのシミュレーションでは、誕生日の情報のみを利用するので、\n",
        "`Person`クラスの定義を以下のように簡略化して使用することにします。\n",
        "```python\n",
        "class Person:\n",
        "    def __init__(self, bm, bd):\n",
        "        self.birth_month = bm\n",
        "        self.birth_date = bd\n",
        "    month_names = {1:'Jan', 2:'Feb', 3:'Mar', 4:'Apr', 5:'May', 6:'Jun', 7:'Jul', 8:'Aug', 9:'Sep', 10:'Oct', 11:'Nov', 12:'Dec'}\n",
        "    def birthday(self):\n",
        "        month_names = {1:'Jan', 2:'Feb', 3:'Mar', 4:'Apr', 5:'May', 6:'Jun', 7:'Jul', 8:'Aug', 9:'Sep', 10:'Oct', 11:'Nov', 12:'Dec'}\n",
        "        return(month_names[self.birth_month] + str(self.birth_date))\n",
        "```\n"
      ]
    },
    {
      "cell_type": "markdown",
      "metadata": {
        "id": "Ln0vmcmvNhPw"
      },
      "source": [
        "## $N$人分のPersonオブジェクトの生成\n",
        "誕生日パラドックスのシミュレーションでは、$N$を変えて、何度も`Person`オブジェクトの集合を生成します。\n",
        "以下のプログラムは、$N$人分`Person`オブジェクトを生成し、リスト`persons`に格納します。\n",
        "誕生日は、閏年も考慮に入れて、ランダムに決定されます。\n",
        "\n",
        "```python\n",
        "N = 100 # 値は必要に応じて変更する\n",
        "\n",
        "def month_date(x):\n",
        "    m = 0\n",
        "    while x > 0:\n",
        "        x -= month_len[m]\n",
        "        m += 1\n",
        "    return (m, x + month_len[m-1])\n",
        "\n",
        "bm = []\n",
        "bd = []\n",
        "for _ in range(N):\n",
        "    if random.choice([0, 1,2,3]) == 0:\n",
        "        x = random.choice(range(1, 367))\n",
        "        month_len = [31, 29, 31, 30, 31, 30, 31, 31, 30, 31, 30, 31]\n",
        "    else:\n",
        "        x = random.choice(range(1, 366))\n",
        "        month_len = [31, 28, 31, 30, 31, 30, 31, 31, 30, 31, 30, 31]\n",
        "    m, d = month_date(x)\n",
        "    bm.append(m)\n",
        "    bd.append(d)\n",
        "\n",
        "persons = [Person(bm[n], bd[n]) for n in range(N)]\n",
        "```"
      ]
    },
    {
      "cell_type": "markdown",
      "metadata": {
        "id": "b80tyUgKdtAw"
      },
      "source": [
        "## 演習 8-4の解答例\n",
        "リスト`persons`に現れる誕生日（例えば`'Jan1'`）の回数をカウントして、\n",
        "その結果を辞書オブジェクト`count`中に記録するプログラムを作成することが目的です。\n",
        "```python\n",
        "birthdays = [p.birthday() for p in persons]\n",
        "count = {}\n",
        "for date in birthdays:\n",
        "  if date in count:\n",
        "    count[date] += 1\n",
        "  else:\n",
        "    count[date] = 1\n",
        "```"
      ]
    },
    {
      "cell_type": "code",
      "metadata": {
        "colab": {
          "base_uri": "https://localhost:8080/"
        },
        "id": "5FLIUTjRd-Gr",
        "outputId": "d0b75ef6-039f-477b-dda3-2bfbdd6768a9"
      },
      "source": [
        "import random\n",
        "\n",
        "class Person:\n",
        "    def __init__(self, bm, bd):\n",
        "        self.birth_month = bm\n",
        "        self.birth_date = bd\n",
        "    def show(self):\n",
        "        print(\"誕生月=\", self.birth_month, \"誕生日=\", self.birth_date)\n",
        "    month_names = {1:'Jan', 2:'Feb', 3:'Mar', 4:'Apr', 5:'May', 6:'Jun', 7:'Jul', 8:'Aug', 9:'Sep', 10:'Oct', 11:'Nov', 12:'Dec'}\n",
        "    def birthday(self):\n",
        "        month_names = {1:'Jan', 2:'Feb', 3:'Mar', 4:'Apr', 5:'May', 6:'Jun', 7:'Jul', 8:'Aug', 9:'Sep', 10:'Oct', 11:'Nov', 12:'Dec'}\n",
        "        return(month_names[self.birth_month] + str(self.birth_date))\n",
        "\n",
        "N = 100 # 値は必要に応じて変更する\n",
        "\n",
        "def month_date(x):\n",
        "    m = 0\n",
        "    while x > 0:\n",
        "        x -= month_len[m]\n",
        "        m += 1\n",
        "    return (m, x + month_len[m-1])\n",
        "\n",
        "bm = []\n",
        "bd = []\n",
        "for _ in range(N):\n",
        "    if random.choice([0, 1,2,3]) == 0:\n",
        "        x = random.choice(range(1,367))\n",
        "        month_len = [31, 29, 31, 30, 31, 30, 31, 31, 30, 31, 30, 31]\n",
        "    else:\n",
        "        x = random.choice(range(1,366))\n",
        "        month_len = [31, 28, 31, 30, 31, 30, 31, 31, 30, 31, 30, 31]\n",
        "    m, d = month_date(x)\n",
        "    bm.append(m)\n",
        "    bd.append(d)\n",
        "\n",
        "persons = [Person(bm[n], bd[n]) for n in range(N)]\n",
        "\n",
        "birthdays = [p.birthday() for p in persons]\n",
        "count = {}\n",
        "for date in birthdays:\n",
        "  if date in count:\n",
        "    count[date] += 1\n",
        "  else:\n",
        "    count[date] = 1\n",
        "# 使用例\n",
        "print(count)"
      ],
      "execution_count": 2,
      "outputs": [
        {
          "output_type": "stream",
          "text": [
            "{'May14': 1, 'May15': 2, 'Jan19': 2, 'Aug12': 1, 'Dec30': 1, 'Nov8': 1, 'May2': 2, 'Jul5': 1, 'Feb4': 3, 'Aug29': 2, 'Jan2': 1, 'Sep18': 1, 'Dec29': 1, 'Jan27': 1, 'Nov1': 1, 'Jul26': 2, 'Sep20': 2, 'Oct21': 1, 'Mar25': 1, 'Sep10': 1, 'Oct2': 1, 'Sep4': 1, 'Oct9': 1, 'Dec19': 1, 'Oct3': 1, 'Mar22': 1, 'Aug8': 2, 'Jan12': 1, 'Jan21': 1, 'Sep11': 1, 'Mar6': 1, 'Feb9': 1, 'Jun20': 1, 'May11': 1, 'Dec10': 1, 'Jan13': 1, 'May12': 1, 'Jun7': 1, 'May29': 1, 'May31': 1, 'Apr5': 1, 'Jan18': 1, 'Feb8': 1, 'Nov10': 1, 'Nov3': 1, 'Jul19': 1, 'Apr3': 1, 'Oct17': 1, 'Jan1': 1, 'Dec8': 1, 'Nov6': 1, 'Feb19': 1, 'Mar29': 2, 'Jan30': 1, 'Jan3': 2, 'Dec15': 1, 'Aug17': 1, 'Jun22': 1, 'Feb28': 1, 'Jan11': 1, 'Feb26': 1, 'Oct24': 1, 'Feb23': 1, 'Mar8': 1, 'May10': 1, 'Jun1': 1, 'Jan28': 1, 'Aug21': 1, 'Mar4': 1, 'Oct26': 1, 'Sep26': 1, 'Sep14': 1, 'Mar24': 1, 'Dec2': 1, 'May23': 1, 'Dec31': 1, 'Feb13': 1, 'Nov7': 1, 'Oct23': 1, 'Nov19': 2, 'Mar13': 1, 'Dec17': 1, 'Oct14': 1, 'Mar3': 1, 'Aug31': 1, 'Nov5': 1, 'Apr20': 1, 'Oct5': 1}\n"
          ],
          "name": "stdout"
        }
      ]
    },
    {
      "cell_type": "markdown",
      "metadata": {
        "id": "nn8upWNGfPSC"
      },
      "source": [
        "## 演習 8-5の解答例\n",
        "演習 8-4のプログラムが作成する辞書オブジェクト`count`を調べ、\n",
        "2回以上現れる誕生日があれば`True`を返し、どの誕生日も1回しか現れない場合は`False`を返すプログラムを作成します。\n",
        "```python\n",
        "def hasConflict():\n",
        "  for date in count.keys():\n",
        "    if count[date] > 2:\n",
        "      return(True)\n",
        "  return(False)\n",
        "```\n",
        "\n",
        "### 演習 9-1\n",
        "次のコードセルを使って、上に示した4つのプログラムが正しく機能することを確認せよ。"
      ]
    },
    {
      "cell_type": "code",
      "metadata": {
        "colab": {
          "base_uri": "https://localhost:8080/"
        },
        "id": "l8vnlb6Te3no",
        "outputId": "aefef67e-e10c-4ce7-964d-a62a02572e33"
      },
      "source": [
        "def hasConflict(count):\n",
        "  for date in count.keys():\n",
        "    if count[date] > 2:\n",
        "      return(True)\n",
        "  return(False)\n",
        "# 使用例\n",
        "hasConflict(count)"
      ],
      "execution_count": null,
      "outputs": [
        {
          "output_type": "execute_result",
          "data": {
            "text/plain": [
              "True"
            ]
          },
          "metadata": {
            "tags": []
          },
          "execution_count": 4
        }
      ]
    },
    {
      "cell_type": "markdown",
      "metadata": {
        "id": "B1JBpLKSgQO5"
      },
      "source": [
        "## 関数の隠蔽\n",
        "上記の関数`hasConflict()`の定義には、あまり望ましくない性質があります。\n",
        "欠陥と言ってもよいでしょう。\n",
        "\n",
        "`hasConflict()`関数は、辞書型オブジェクト`count`の要素のカウントを調べて、カウントが２以上の要素が存在すれば`True`、存在しなければ`False`を返しますが、\n",
        "この関数を利用してプログラムを作成する者は、\n",
        "関数の中で`count`という変数が使われていることを知っている必要があり、\n",
        "関数を呼び出す前に`count`という名前で辞書オブジェクトを準備しておく必要があります。\n",
        "\n",
        "例えば、\n",
        "```python\n",
        "birthdays = [p.birthday() for p in persons]\n",
        "count_birthday = {}\n",
        "for date in birthdays:\n",
        "  if date in count_birthday:\n",
        "    count_birthday[date] += 1\n",
        "  else:\n",
        "    count_birthday[date] = 1\n",
        "```\n",
        "によって、誕生日の出現回数をカウントしたとしても妥当だと思えますが、\n",
        "カウントの結果は`count_birthday`に記録されるため、`hasConflict`関数では衝突の有無を判定できません。\n",
        "\n",
        "このように、関数の内部情報の知識がないと関数が使えないというのは良いことではありません。\n",
        "このような望ましくない性質を、**関数が隠蔽されていない**といいます\n",
        "逆にいうと、**隠蔽された関数**を作ることが、プログラミングの良いマナーなのです。\n",
        "\n",
        "現在の隠蔽されていない`hasConflict`関数を、隠蔽された関数に改造することは容易です。\n",
        "`count`を引数に指定するだけで十分です。\n",
        "\n",
        "関数を書き直して、隠蔽された関数にしました。\n",
        "見てましょう。\n",
        "\n",
        "```python\n",
        "def hasConflict(count):\n",
        "  for date in count.keys():\n",
        "    if count[date] > 1:\n",
        "      return(True)\n",
        "  return(False)\n",
        "```\n",
        "\n",
        "仮に、辞書`count_birthday`にカウントの結果を記録したとしても、\n",
        "```python\n",
        "hasConflict(count_birthday)\n",
        "```\n",
        "とすれば、衝突の有無の判定を行うことができます。\n",
        "\n"
      ]
    },
    {
      "cell_type": "code",
      "metadata": {
        "id": "F9Joqc8MhkIq",
        "outputId": "3d9d692c-3d06-4265-92a8-0f253c43a7b0"
      },
      "source": [
        "c ={'Jan1':1, 'Jan2':2, 'Jan3':1}\n",
        "hasConflict(c)"
      ],
      "execution_count": null,
      "outputs": [
        {
          "output_type": "execute_result",
          "data": {
            "text/plain": [
              "True"
            ]
          },
          "metadata": {
            "tags": []
          },
          "execution_count": 5
        }
      ]
    },
    {
      "cell_type": "markdown",
      "metadata": {
        "id": "fFshnl5oy7m9"
      },
      "source": [
        "いよいよ大詰めです。\n",
        "\n",
        "誕生日のパラドックスを解析する方針は以下になります\n",
        "1. $N$人の`Person`オブジェクトを生成しその誕生日が衝突しているかを調べる。\n",
        "1. ステップ1を100回繰り返し、衝突がおきた回数を数え、衝突が起きた確率を$f(N)$とする。\n",
        "1. $N$を2から１００まで数を順にとり、$f(2), f(3), \\dots, f(100)$を記録する。\n",
        "1. $x$軸を$N$、$y$軸を$f(N)$として、$y = f(x)$のグラフを描く。\n",
        "\n",
        "まず、ステップ１からはじめましょう。\n",
        "\n",
        "ステップ1は、既に作成したプログラムを組み合わせるだけで、事足りますが、便宜のために、\n",
        "$N$人分の`Person`オブジェクトを含むリストを生成して返す関数を定義しましょう。\n",
        "\n",
        "###  演習 9-2\n",
        "以下のように、$N$（例では100）を引数に指定すると、\n",
        "$N$人の`Person`オブジェクトを格納したリストオブジェクトを返す関数`generate_samples`のプログラムを作成せよ。\n",
        "```python\n",
        "persons = generate_samples(100)\n",
        "```"
      ]
    },
    {
      "cell_type": "code",
      "metadata": {
        "colab": {
          "base_uri": "https://localhost:8080/"
        },
        "id": "atKUQ19YQjgt",
        "outputId": "5a38fbbd-8d49-4b75-f3ea-760e03f4df9f"
      },
      "source": [
        "def month_date(x):\n",
        "  m = 0\n",
        "  month_len = [31, 29, 31, 30, 31, 30, 31, 31, 30, 31, 30, 31]\n",
        "  while x > 0:\n",
        "    print(m)\n",
        "    x -= month_len[m]\n",
        "    m += 1\n",
        "  return (m, x + month_len[m-1])\n",
        "m, d = month_date(366)\n",
        "print(m)\n",
        "print(d)"
      ],
      "execution_count": 219,
      "outputs": [
        {
          "output_type": "stream",
          "text": [
            "0\n",
            "1\n",
            "2\n",
            "3\n",
            "4\n",
            "5\n",
            "6\n",
            "7\n",
            "8\n",
            "9\n",
            "10\n",
            "11\n",
            "12\n",
            "31\n"
          ],
          "name": "stdout"
        }
      ]
    },
    {
      "cell_type": "code",
      "metadata": {
        "colab": {
          "base_uri": "https://localhost:8080/"
        },
        "id": "nnBDtvfXohc5",
        "outputId": "2edb1562-3715-4fc9-cec0-e683fad2a6ca"
      },
      "source": [
        "import random\n",
        "def month_date(x):\n",
        "  m = 0\n",
        "  while x > 0:\n",
        "    if m == 12:\n",
        "      return (12, 31) #ここの条件分岐を入れないと閏年2/29でエラー発生\n",
        "    x -= month_len[m]\n",
        "    m += 1\n",
        "  return (m, x + month_len[m-1])\n",
        "\n",
        "\n",
        "def generate_samples(N):\n",
        "  bm = []\n",
        "  bd = []\n",
        "  for _ in range(N):\n",
        "    if random.choice([0, 1,2,3]) == 0:\n",
        "      x = random.choice(range(1, 367))\n",
        "      month_len = [31, 29, 31, 30, 31, 30, 31, 31, 30, 31, 30, 31]\n",
        "      m, d = month_date(x)\n",
        "    else:\n",
        "      x = random.choice(range(1, 366))\n",
        "      month_len = [31, 28, 31, 30, 31, 30, 31, 31, 30, 31, 30, 31]\n",
        "      m, d = month_date(x)\n",
        "    bm.append(m)\n",
        "    bd.append(d)\n",
        "  return [Person(bm[n], bd[n]) for n in range(N)]\n",
        "\n",
        "persons = generate_samples(1000)\n",
        "print(persons[0].birthday())"
      ],
      "execution_count": 228,
      "outputs": [
        {
          "output_type": "stream",
          "text": [
            "Oct31\n"
          ],
          "name": "stdout"
        }
      ]
    },
    {
      "cell_type": "markdown",
      "metadata": {
        "id": "ntBBuNOW2DDk"
      },
      "source": [
        "次に、ステップ２を見ましょう。\n",
        "ステップ２は、ステップ１のプログラムを100回繰り返すので、`for _ in range(100):`のループを利用します。\n",
        "何回衝突があったかカウントしなければならないので、そのためのカウンタとして、conflict_countを使うことにします。\n",
        "```python\n",
        "conflict_count = 0\n",
        "for _ in range(100):\n",
        "  [ステップ１]\n",
        "  if hasConflict(count) == True:\n",
        "    conflict_count += 1\n",
        "```\n",
        "が基本構造となります。\n",
        "\n",
        "### 演習 9-3\n",
        "ステップ２のプログラムを完成させよ。"
      ]
    },
    {
      "cell_type": "code",
      "metadata": {
        "colab": {
          "base_uri": "https://localhost:8080/"
        },
        "id": "9UJg-OE3otVf",
        "outputId": "bf79dde0-b168-4b8a-8e63-55f7f60e383d"
      },
      "source": [
        "N = 10\n",
        "def hasConflict(count):\n",
        "  for date in count.keys():\n",
        "    if count[date] > 1:\n",
        "      return(True)\n",
        "    return(False)\n",
        "\n",
        "conflict_count = 0\n",
        "for _ in range(10):\n",
        "  persons = generate_samples(N)\n",
        "  birthdays = [p.birthday() for p in persons]\n",
        "  count = {}\n",
        "  for date in birthdays:\n",
        "    if date in count:\n",
        "        count[date] += 1\n",
        "    else:\n",
        "        count[date] = 1\n",
        "  if hasConflict(count) == True:\n",
        "    conflict_count += 1\n",
        "print(conflict_count)\n"
      ],
      "execution_count": 241,
      "outputs": [
        {
          "output_type": "stream",
          "text": [
            "1\n"
          ],
          "name": "stdout"
        }
      ]
    },
    {
      "cell_type": "markdown",
      "metadata": {
        "id": "FKcWtXS833PI"
      },
      "source": [
        "ステップ３のプログラムは、ステップ２を＄N＄を２から１００まで変えて、実行するものであるから、次の構造を持ちます。\n",
        "ただし、$f(N)$の値を記録しておく必要があるので、そのためにリスト`prob`を用意します。\n",
        "\n",
        "```python\n",
        "prob = []\n",
        "for N in range(2, 101):\n",
        "  [ステップ２]\n",
        "  prob.append(conflict_count/100.0)\n",
        "```\n",
        "\n",
        "### 演習 9-4\n",
        "ステップ３のプログラムを完成せよ。\n"
      ]
    },
    {
      "cell_type": "code",
      "metadata": {
        "colab": {
          "base_uri": "https://localhost:8080/"
        },
        "id": "QNjMAX8A3Pfl",
        "outputId": "dbe226b2-aaae-4a50-ae95-1fccdedbf4df"
      },
      "source": [
        "# 演習 9-4の解答\n",
        "prob = []\n",
        "for N in range(2, 101):\n",
        "  conflict_count = 0\n",
        "  for _ in range(100):\n",
        "    persons = generate_samples(N)\n",
        "    birthdays = [p.birthday() for p in persons]\n",
        "    count = {}\n",
        "    for date in birthdays:\n",
        "      if date in count:\n",
        "          count[date] += 1\n",
        "      else:\n",
        "          count[date] = 1\n",
        "    if hasConflict(count) == True:\n",
        "      conflict_count += 1\n",
        "  prob.append(conflict_count/100.0)\n",
        "print(prob)"
      ],
      "execution_count": 252,
      "outputs": [
        {
          "output_type": "stream",
          "text": [
            "[0.0, 0.0, 0.0, 0.0, 0.0, 0.01, 0.0, 0.02, 0.04, 0.04, 0.02, 0.03, 0.02, 0.03, 0.07, 0.07, 0.05, 0.01, 0.01, 0.06, 0.06, 0.04, 0.04, 0.05, 0.04, 0.06, 0.04, 0.08, 0.07, 0.08, 0.08, 0.07, 0.15, 0.12, 0.07, 0.08, 0.08, 0.07, 0.09, 0.09, 0.08, 0.08, 0.11, 0.1, 0.13, 0.17, 0.12, 0.18, 0.16, 0.14, 0.13, 0.1, 0.14, 0.12, 0.21, 0.15, 0.12, 0.13, 0.21, 0.17, 0.23, 0.18, 0.15, 0.17, 0.19, 0.13, 0.13, 0.13, 0.16, 0.23, 0.16, 0.16, 0.15, 0.2, 0.27, 0.2, 0.25, 0.19, 0.21, 0.19, 0.21, 0.2, 0.28, 0.25, 0.17, 0.23, 0.14, 0.25, 0.24, 0.2, 0.18, 0.25, 0.23, 0.21, 0.27, 0.28, 0.18, 0.18, 0.23]\n"
          ],
          "name": "stdout"
        }
      ]
    },
    {
      "cell_type": "markdown",
      "metadata": {
        "id": "_qbmous27ihZ"
      },
      "source": [
        "リスト`prob`には、$N = 2, \\dots, 100$まで、衝突が起きる確率の列が入ります。\n",
        "`prob`が得られれば、$y = f(x)$のグラフを書く仕事は、今までに経験済です。\n",
        "\n",
        "### 演習 9-5\n",
        "$y = f(x)$のグラフを`plt.plot()`関数を使って、折れ線グラフで描き、$f(x) = 0.5$となる$x$の値を調べよ。\n",
        "これが誕生日のパラドックスの答えである。\n"
      ]
    },
    {
      "cell_type": "code",
      "metadata": {
        "id": "UnMTswRS6wz9",
        "colab": {
          "base_uri": "https://localhost:8080/",
          "height": 265
        },
        "outputId": "03a6ce81-73f4-4b37-9bcf-13ba7ec85592"
      },
      "source": [
        "# 演習 9-5の解答\n",
        "import matplotlib.pyplot as plt\n",
        "plt.plot(prob)\n",
        "plt.show()\n",
        "# 値が0.5にならないので、どこかで間違えているのだと思います。"
      ],
      "execution_count": 253,
      "outputs": [
        {
          "output_type": "display_data",
          "data": {
            "image/png": "[encoded data removed]",
            "text/plain": [
              "<Figure size 432x288 with 1 Axes>"
            ]
          },
          "metadata": {
            "tags": [],
            "needs_background": "light"
          }
        }
      ]
    }
  ]
}