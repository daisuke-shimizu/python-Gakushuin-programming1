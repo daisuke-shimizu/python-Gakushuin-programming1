{
  "nbformat": 4,
  "nbformat_minor": 0,
  "metadata": {
    "colab": {
      "name": "Programming1-12.ipynb",
      "provenance": [],
      "collapsed_sections": [],
      "include_colab_link": true
    },
    "kernelspec": {
      "display_name": "Python 3",
      "language": "python",
      "name": "python3"
    },
    "language_info": {
      "codemirror_mode": {
        "name": "ipython",
        "version": 3
      },
      "file_extension": ".py",
      "mimetype": "text/x-python",
      "name": "python",
      "nbconvert_exporter": "python",
      "pygments_lexer": "ipython3",
      "version": "3.8.2"
    }
  },
  "cells": [
    {
      "cell_type": "markdown",
      "metadata": {
        "id": "view-in-github",
        "colab_type": "text"
      },
      "source": [
        "<a href=\"https://colab.research.google.com/github/daisuke-shimizu/python-Gakushuin-programming1/blob/main/Programming1_12.ipynb\" target=\"_parent\"><img src=\"https://colab.research.google.com/assets/colab-badge.svg\" alt=\"Open In Colab\"/></a>"
      ]
    },
    {
      "cell_type": "markdown",
      "metadata": {
        "id": "fSNEGc0InIKx"
      },
      "source": [
        "# サンプルプログラム実行上の注意\n",
        "プログラミング上達のコツは、\n",
        "\n",
        "- 短時間に集中してできるだけ大量のプログラムを書くこと\n",
        "- 試行錯誤を行うこと\n",
        "- 他人の書いた（動く）プログラムを読むこと\n",
        "- 更に、自分の目的に合わせてカスタマイズしてみること\n",
        "\n",
        "を日常的に実行することです。\n",
        "しかし、限られた授業時間（予習・復習も含む）内で、これらを十分に実行することは至難です。\n",
        "\n",
        "そこで、\n",
        "この講義資料は、多数のサンプルプログラムを提供して、\n",
        "少しでも不足を補うことができるように作成されています。\n",
        "受講者は、以下の注意を守ってサンプルプログラムをコードセル中で実行することで、\n",
        "より効率の良い学習を心がけて下さい。\n",
        "\n",
        "1. サンプルプログラムは、コピペせず、1行1行自分でタイプして書き写して下さい。\n",
        "コピペでは見逃してしまう、プログラミングの書き方の規則や、プログラミングのコツなど、\n",
        "自分自身でタイプすることで気づくことができます。\n",
        "2. サンプルプログラムを書き写す時は、プログラムの意味を考えるよう努めて下さい。\n",
        "最初は必ずしも最良とは言えないサンプルプログラムを提示して、\n",
        "後で改良した例を示すなど、この講義資料では、良いプログラムを作成する考え方を効率的に学べるよう、\n",
        "いろいろな工夫をしています。\n",
        "3. 意味を理解できない行がある場合には、あまり拘泥せず、先に進んでください。\n",
        "100%理解しないといけないという思い込みは、プログラミングの上達にとって妨げです。\n",
        "理解するための努力は必要ですが、Pythonでできることの範囲は非常に広く、\n",
        "プロのプログラマでも全部は理解していないでしょう。\n",
        "完璧な理解よりも、**動くプログラムを書くことを最優先の目標**として、\n",
        "わからない部分は「おまじない」として受け入れることができると、上達も早くなります。\n",
        "「おまじない」とは、「なぜ効くのかはわからないけれども、使い方は分かっている」という意味です。"
      ]
    },
    {
      "cell_type": "markdown",
      "metadata": {
        "id": "pqSPbsLUpFRj"
      },
      "source": [
        "\n",
        "# 第12講 Numpyによる数値計算\n",
        "\n",
        "Numpyは、Pythonにおいて、最も広く使われているライブラリーの一つであり、\n",
        "数値計算のための強力な機能と高速な計算速度を提供します。\n",
        "機械学習のためのライブラリであるScikit Learn (sklearn)や、\n",
        "ニューラルネットをプログラミングするためのライブラリである\n",
        "TensorFlow、Keras、PyTorchなども、Numpyとの併用を前提にしています。\n",
        "\n",
        "Numpyを利用する具体的なメリットの一つは、\n",
        "ベクトルと行列を効率的に取り扱うことができる点にあります。\n",
        "この資料では、Numpyによる基本的なベクトル・行列の計算や、\n",
        "ベクトル・行列の要素に対して一度に計算を行う便利な機能を見て行きます。"
      ]
    },
    {
      "cell_type": "markdown",
      "metadata": {
        "id": "kSTG1KG-s3Kp"
      },
      "source": [
        "## ライブラリのインポート\n",
        "\n",
        "まず、Numpyを使うために、ライブラリをインポートします。\n",
        "多くの場面でNumpyの関数を利用しますので、npと略称をつけておきます。\n",
        "以降、この資料では、`numpy`と表記する代わりに、`np`と表記することにします。\n",
        "```python\n",
        "import numpy as np\n",
        "```"
      ]
    },
    {
      "cell_type": "code",
      "metadata": {
        "id": "PACsN5lUsCuc"
      },
      "source": [
        "import numpy as np"
      ],
      "execution_count": 1,
      "outputs": []
    },
    {
      "cell_type": "markdown",
      "metadata": {
        "id": "MNlOABhc1peh"
      },
      "source": [
        "## Ndarrayとベクトル\n",
        "**Array**とは**配列**を意味する英語で、\n",
        "Numpyでは、ベクトル・行列・テンソルなどすべてを、arrayとして一元的に扱います。\n",
        "Numpyで定義されるArrayクラスは、\n",
        "**Ndarray**（N-Dimensional Array）が正式の名称になりますので、\n",
        "この資料では、Ndarrayにより、NumpyのArrayクラスを表すこととします。\n",
        "\n",
        "Ndarrayは、1次元、2次元、3次元、...、と任意の次元の配列を表すことができますが、\n",
        "数学の用語では、1次元は**ベクトル**、2次元は**行列**、\n",
        "3次元以上はテンソルという呼び名になります。\n",
        "\n",
        "まず、1次元のNdarrayから見ていきます。\n",
        "\n",
        "1次元のNdarrayは、要素の単純な列を表すオブジェクトで、\n",
        "PythonのListと基本的に同じ概念を表します。\n",
        "\n",
        "```python\n",
        "a = [0, 1, 2]\n",
        "b = np.array([0, 1, 2])\n",
        "print(a, '\\tは、List')\n",
        "print(b, '\\tは、Numpy Array')\n",
        "```"
      ]
    },
    {
      "cell_type": "code",
      "metadata": {
        "colab": {
          "base_uri": "https://localhost:8080/"
        },
        "id": "3CWOoIAJnIK1",
        "outputId": "b51ec5f9-bbc9-479a-d04b-e70550be229a"
      },
      "source": [
        "a = [0, 1, 2]\n",
        "b = np.array([0, 1, 2])\n",
        "print(a, '\\tは、List')\n",
        "print(b, '\\tは、NdArray')\n",
        "print(type(a))\n",
        "print(type(b))"
      ],
      "execution_count": 3,
      "outputs": [
        {
          "output_type": "stream",
          "text": [
            "[0, 1, 2] \tは、List\n",
            "[0 1 2] \tは、NdArray\n",
            "<class 'list'>\n",
            "<class 'numpy.ndarray'>\n"
          ],
          "name": "stdout"
        }
      ]
    },
    {
      "cell_type": "markdown",
      "metadata": {
        "id": "K3H5H26qnIK1"
      },
      "source": [
        "`a`も`b`も、`0`、`1`、`2`の3個の整数を要素とする列という点では同じですが、\n",
        "`a`はPythonのリスト、`b`はNumpyのArrayです。\n",
        "\n",
        "表示上では、\n",
        "\n",
        "- Listでは、要素はコンマ`,`で区切られる\n",
        "- Numpy Arrayでは、要素はスペースで区切られる\n",
        "\n",
        "という違いがありますが、要素の列という点では、本質的に同じです。\n",
        "実際、\n",
        "```python\n",
        "print(\"list(b)はList\")\n",
        "print(list(b))\n",
        "print(\"np.array(a)はNdarray\")\n",
        "print(np.array(a))\n",
        "```\n",
        "のように、`list()`でNdrrayをListに、\n",
        "`np.array()`でListをNdarrayにと、相互に変換することができます。"
      ]
    },
    {
      "cell_type": "code",
      "metadata": {
        "colab": {
          "base_uri": "https://localhost:8080/"
        },
        "id": "n8TwU6YfnIK2",
        "outputId": "cb666d17-7b0d-426e-b910-e0324f0ee7cf"
      },
      "source": [
        "print(\"list(b)はList\")\n",
        "print(list(b))\n",
        "print(\"np.array(a)はNdarray\")\n",
        "print(np.array(a))\n",
        "print(type(a))\n",
        "print(type(b))"
      ],
      "execution_count": 5,
      "outputs": [
        {
          "output_type": "stream",
          "text": [
            "list(b)はList\n",
            "[0, 1, 2]\n",
            "np.array(a)はNdarray\n",
            "[0 1 2]\n",
            "<class 'list'>\n",
            "<class 'numpy.ndarray'>\n"
          ],
          "name": "stdout"
        }
      ]
    },
    {
      "cell_type": "markdown",
      "metadata": {
        "id": "D4Ab763bnIK2"
      },
      "source": [
        "要素の区切り記号の違いを見れば、\n",
        "- `b`はNdarrayだが、`list(b)`はList\n",
        "- `a`はListだが、`np.array(a)`はNdarray\n",
        "\n",
        "であることが分かります。\n",
        "\n",
        "この資料では直接関係しませんが、\n",
        "\n",
        "- Listは異なるタイプの要素を含むことができる\n",
        "- Ndarrayの同じタイプの要素しか含むことができない\n",
        "\n",
        "という違いもあります。\n",
        "```python\n",
        "a = [1, 'Jan', 2, 'Feb']\n",
        "b = np.array(a)\n",
        "print(a)\n",
        "print(b)\n",
        "```\n",
        "を実行してみてください。"
      ]
    },
    {
      "cell_type": "code",
      "metadata": {
        "colab": {
          "base_uri": "https://localhost:8080/"
        },
        "id": "sffngjyYnIK2",
        "outputId": "bec2be87-61aa-487c-8d4d-dd2450155549"
      },
      "source": [
        "a = [1, 'Jan', 2, 'Feb']\n",
        "b = np.array(a)\n",
        "print(a)\n",
        "print(b) #常に同じデータ型の要素しか入らない"
      ],
      "execution_count": 9,
      "outputs": [
        {
          "output_type": "stream",
          "text": [
            "[1, 'Jan', 2, 'Feb']\n",
            "['1' 'Jan' '2' 'Feb']\n"
          ],
          "name": "stdout"
        }
      ]
    },
    {
      "cell_type": "markdown",
      "metadata": {
        "id": "VMZsS63ynIK2"
      },
      "source": [
        "Listである`a`は、数字と文字列が混在しているのに対し、\n",
        "Ndarrayである`b`は、全ての要素を文字列に変換して持っています。\n",
        "Ndarrayの要素は全て同じタイプでなければならず、\n",
        "数字と文字列の混在を許さないからです。\n",
        "\n",
        "`a`をListとして、次のコードを実行すると、どのような結果になるか、予想してみて下さい。\n",
        "```python\n",
        "a = [0,1,2]\n",
        "print(a + [3, 4, 5])\n",
        "print(2 * a)\n",
        "```"
      ]
    },
    {
      "cell_type": "code",
      "metadata": {
        "colab": {
          "base_uri": "https://localhost:8080/"
        },
        "id": "7MBQnmcgnIK3",
        "outputId": "dff2d3b5-a139-46d9-98bb-803a4f1eb3dd"
      },
      "source": [
        "a = [0,1,2]\n",
        "print(a + [3, 4, 5])\n",
        "print(2 * a)\n",
        "print(3 * a)"
      ],
      "execution_count": 11,
      "outputs": [
        {
          "output_type": "stream",
          "text": [
            "[0, 1, 2, 3, 4, 5]\n",
            "[0, 1, 2, 0, 1, 2]\n",
            "[0, 1, 2, 0, 1, 2, 0, 1, 2]\n"
          ],
          "name": "stdout"
        }
      ]
    },
    {
      "cell_type": "markdown",
      "metadata": {
        "id": "4ybwPjhonIK3"
      },
      "source": [
        "結果は、予想通りでしたか？\n",
        "\n",
        "同じプログラムを、Ndarrayである`b`に対して、実行してみます。\n",
        "```python\n",
        "b = np.array([0,1,2])\n",
        "print(b + np.array([3, 4, 5]))\n",
        "print(2 * b)\n",
        "```"
      ]
    },
    {
      "cell_type": "code",
      "metadata": {
        "colab": {
          "base_uri": "https://localhost:8080/"
        },
        "id": "SbnU-UCYnIK3",
        "outputId": "a596595d-206a-449d-93af-3818b549a760"
      },
      "source": [
        "b = np.array([0,1,2])\n",
        "print(b + np.array([3, 4, 5]))\n",
        "print(2 * b)\n",
        "print(3 * b)"
      ],
      "execution_count": 12,
      "outputs": [
        {
          "output_type": "stream",
          "text": [
            "[3 5 7]\n",
            "[0 2 4]\n",
            "[0 3 6]\n"
          ],
          "name": "stdout"
        }
      ]
    },
    {
      "cell_type": "markdown",
      "metadata": {
        "id": "CUZ4MvzrnIK3"
      },
      "source": [
        "1次元のNdarrayがベクトルを表すという意味がわかったと思います。\n",
        "\n",
        "`np.array([0,1,2]) + np.array([3,5,6])`は、ベクトルの和\n",
        "\n",
        "$$\n",
        "\\begin{pmatrix}0\\\\ 1\\\\ 2\\\\\\end{pmatrix} + \n",
        "\\begin{pmatrix}3\\\\ 4\\\\ 5\\\\\\end{pmatrix} =\n",
        "\\begin{pmatrix}0 + 3\\\\ 1 + 4\\\\ 2 + 5\\\\\\end{pmatrix} =\n",
        "\\begin{pmatrix}3\\\\ 5\\\\ 7\\\\\\end{pmatrix} \n",
        "$$\n",
        "\n",
        "であり、\n",
        "`2 * np.array([0,1,2])`は、ベクトルのスカラー倍\n",
        "\n",
        "$$\n",
        "2 \\begin{pmatrix}0\\\\ 1\\\\ 2\\\\\\end{pmatrix} =\n",
        "\\begin{pmatrix} 2\\times 0 \\\\ 2\\times 1\\\\ 2\\times 2\\\\\\end{pmatrix} =\n",
        "\\begin{pmatrix}0\\\\ 2\\\\ 4\\\\\\end{pmatrix} \n",
        "$$\n",
        "\n",
        "を表しています。\n",
        "\n",
        "次に、下のプログラムを試してみましょう。\n",
        "プログラムを実行する前に、どのような結果になるか、予想してみて下さい。\n",
        "\n",
        "```python\n",
        "print(np.array([0,1,2]) * np.array([3,4,5]))\n",
        "```\n",
        "      "
      ]
    },
    {
      "cell_type": "code",
      "metadata": {
        "colab": {
          "base_uri": "https://localhost:8080/"
        },
        "id": "_qv_YNaTnIK3",
        "outputId": "1ce4dbf2-4775-4df0-a7f0-362be7fa617f"
      },
      "source": [
        "print(np.array([0,1,2]) * np.array([3,4,5]))\n",
        "print(np.array([0,1,2]) / np.array([3,4,5]))"
      ],
      "execution_count": 14,
      "outputs": [
        {
          "output_type": "stream",
          "text": [
            "[ 0  4 10]\n",
            "[0.   0.25 0.4 ]\n"
          ],
          "name": "stdout"
        }
      ]
    },
    {
      "cell_type": "markdown",
      "metadata": {
        "id": "SXFHYsqmnIK4"
      },
      "source": [
        "内積（ドット積）を知っている人は、\n",
        "以下の式で与えられる内積を計算してくれると思ったのではないでしょうか？\n",
        "$$\n",
        "\\begin{pmatrix}0\\\\ 1\\\\ 2\\\\\\end{pmatrix} \\cdot\n",
        "\\begin{pmatrix}3\\\\ 4\\\\ 5\\\\\\end{pmatrix} =\n",
        "0 \\times 3 + 1 \\times 4 + 2 \\times 5 = 14\n",
        "$$\n",
        "\n",
        "実際には、以下の計算をしています。\n",
        "$$\n",
        "\\begin{pmatrix}0\\\\ 1\\\\ 2\\\\\\end{pmatrix} *\n",
        "\\begin{pmatrix}3\\\\ 4\\\\ 5\\\\\\end{pmatrix} =\n",
        "\\begin{pmatrix}0 \\times 3\\\\ 1 \\times 4\\\\ 2 \\times 5\\\\\\end{pmatrix} =\n",
        "\\begin{pmatrix}0\\\\ 4\\\\ 10\\\\\\end{pmatrix} \n",
        "$$\n",
        "\n",
        "次のプログラムを試して下さい。\n",
        "```python\n",
        "print(np.sum(np.array([0,1,2])))\n",
        "```\n",
        "\n",
        "**注.** \n",
        "`np.sum`は、Numpyで用意されている`sum`関数です。\n",
        "Pythonでも、`sum`関数を用意していて、\n",
        "```python\n",
        "print(sum(np.array([0,1,2])))\n",
        "```\n",
        "は、1次元配列の場合は、同じ結果になります。\n",
        "2次元以上、例えば、行列を引数にした場合には、結果が異なってきます。\n",
        "この点については後述します。\n",
        "\n",
        "#### 演習12-1\n",
        "Ndarrayの乗算`*`と`sum`関数を使って、\n",
        "Ndarray `x`と`y`の内積を計算する関数`dot(x, y)`のプログラムを作成せよ。"
      ]
    },
    {
      "cell_type": "code",
      "metadata": {
        "colab": {
          "base_uri": "https://localhost:8080/"
        },
        "id": "Pj6MnLyGnIK4",
        "outputId": "62c1932f-2503-456d-8907-d601147a364e"
      },
      "source": [
        "def dot(x, y):\n",
        "  return np.sum(x * y)\n",
        "print(dot(np.array([0,1,2]) , np.array([3,4,5])))"
      ],
      "execution_count": 19,
      "outputs": [
        {
          "output_type": "stream",
          "text": [
            "14\n"
          ],
          "name": "stdout"
        }
      ]
    },
    {
      "cell_type": "markdown",
      "metadata": {
        "id": "NB4v1tb0nIK4"
      },
      "source": [
        "実は、Numpyにも、内積を計算する関数`dot`が用意されています。\n",
        "Numpy組み込みの`dot`関数と、\n",
        "演習12-1で作成した自作の`dot`関数の結果が一致することを確かめて下さい。\n",
        "\n",
        "```python\n",
        "print(\"Numpyのdot\\t\", np.dot(np.array([0,1,2]), np.array([3,4,5])))\n",
        "print(\"自作のdot\\t\", dot(np.array([0,1,2]), np.array([3,4,5])))\n",
        "```"
      ]
    },
    {
      "cell_type": "code",
      "metadata": {
        "colab": {
          "base_uri": "https://localhost:8080/"
        },
        "id": "IxT36xuTnIK4",
        "outputId": "37a555c3-d99e-4096-dd39-529d0ed81da4"
      },
      "source": [
        "print(\"Numpyのdot\\t\", np.dot(np.array([0,1,2]), np.array([3,4,5])))\n",
        "print(\"自作のdot\\t\", dot(np.array([0,1,2]), np.array([3,4,5])))"
      ],
      "execution_count": 20,
      "outputs": [
        {
          "output_type": "stream",
          "text": [
            "Numpyのdot\t 14\n",
            "自作のdot\t 14\n"
          ],
          "name": "stdout"
        }
      ]
    },
    {
      "cell_type": "markdown",
      "metadata": {
        "id": "OWr3cTGpnIK4"
      },
      "source": [
        "## Ndarrayと行列\n",
        "行列を学んでいない方もいると思いますので、ここでは、「三目並べ」ゲームを使って説明します。\n",
        "\n",
        "$$\n",
        "\\begin{matrix}\n",
        "\\bigcirc & & \\times\\\\\n",
        " & \\bigcirc & \\bigcirc\\\\\n",
        "\\times & \\times & \\times\\\\\n",
        "\\end{matrix}\n",
        "$$\n",
        "\n",
        "ベクトルは1次元の数の並びですが、\n",
        "行列は2次元の数の並びです。\n",
        "例えば、上の三目並びの盤面を\n",
        "次のような行列で表すことができます。\n",
        "\n",
        "$$\n",
        "\\begin{bmatrix}\n",
        "1 & 0 & -1\\\\\n",
        "0 & 1 & 1\\\\\n",
        "-1 & -1 & -1\\\\\n",
        "\\end{bmatrix}\n",
        "$$\n",
        "\n",
        "$\\bigcirc$を$1$、$\\times$を$-1$、印のついていないマス目を$0$で表しています。\n",
        "\n",
        "この行列をNdarrayで表すには、\n",
        "```python\n",
        "board = np.array([[1,0,-1], [0,1,1], [-1,-1,-1]])\n",
        "print(board)\n",
        "```\n",
        "とします。\n",
        "\n",
        "実は、`[[1,0,-1], [0,1,1], [-1,-1,-1]]`は、Listを要素に持つListです。\n",
        "Listは、任意のタイプのオブジェクトを要素に持つことができ、\n",
        "異なるタイプの要素を含むことも可能です。\n",
        "したがって、Listを要素に持つListも可能です。\n",
        "```python\n",
        "a = [[1,0,-1], [0,1,1], [-1,-1,-1]]\n",
        "```\n",
        "とすると、\n",
        "`a`の要素、`a[0]`、`a[1]`、`a[2]`は、それぞれ、\n",
        "List`[1,0,-1]`、`[0,1,1]`、`[-1,-1,-1]`になります。\n",
        "更に、例えば、`a[0]`の要素には、\n",
        "`a[0][0]`、`a[0][1]`、`a[0][2]`でアクセスすることができます。\n",
        "次のプログラムを実行して、確かめてみて下さい。\n",
        "\n",
        "```python\n",
        "for i in range(3):\n",
        "    print([a[i][j] for j in range(3)])\n",
        "```"
      ]
    },
    {
      "cell_type": "code",
      "metadata": {
        "colab": {
          "base_uri": "https://localhost:8080/"
        },
        "id": "LKVZv3YinIK5",
        "outputId": "890d8092-da41-4111-c276-2d2b73bd2734"
      },
      "source": [
        "board = np.array([[1,0,-1], [0,1,1], [-1,-1,-1]])\n",
        "print(board)"
      ],
      "execution_count": 21,
      "outputs": [
        {
          "output_type": "stream",
          "text": [
            "[[ 1  0 -1]\n",
            " [ 0  1  1]\n",
            " [-1 -1 -1]]\n"
          ],
          "name": "stdout"
        }
      ]
    },
    {
      "cell_type": "markdown",
      "metadata": {
        "id": "bx_Xv2PenIK5"
      },
      "source": [
        "`[[1,0,-1], [0,1,1], [-1,-1,-1]]`はListですが、1次元の場合と同様に、\n",
        "`np.array([[1,0,-1], [0,1,1], [-1,-1,-1]])`により、\n",
        "Ndarrayに変換することができます。\n",
        "\n",
        "#### 演習12-2\n",
        "以下の盤面を表す行列を、Ndarrayのオブジェクトとして定義せよ。\n",
        "\n",
        "$$\n",
        "\\begin{matrix}\n",
        " \\times & \\times & \\bigcirc\\\\\n",
        " & \\times & \\\\\n",
        " & \\bigcirc & \\bigcirc\\\\\n",
        "\\end{matrix}\n",
        "$$\n",
        "\n"
      ]
    },
    {
      "cell_type": "code",
      "metadata": {
        "colab": {
          "base_uri": "https://localhost:8080/"
        },
        "id": "oGHtZcn3nIK6",
        "outputId": "939d4595-1944-4269-95d3-73afbb6142db"
      },
      "source": [
        "a = [[-1, -1, 1], [0, -1, 0], [0, 1, 1]]\n",
        "board = np.array([[-1, -1, 1], [0, -1, 0], [0, 1, 1]])\n",
        "print(board)\n",
        "print(a[0][0])\n",
        "print(board[0, 0])"
      ],
      "execution_count": 24,
      "outputs": [
        {
          "output_type": "stream",
          "text": [
            "[[-1 -1  1]\n",
            " [ 0 -1  0]\n",
            " [ 0  1  1]]\n",
            "-1\n",
            "-1\n"
          ],
          "name": "stdout"
        }
      ]
    },
    {
      "cell_type": "markdown",
      "metadata": {
        "id": "9VFUjKGdnIK6"
      },
      "source": [
        "List `a`と、Ndarray `board`を以下のように定義します。\n",
        "\n",
        "```python\n",
        "a = [[1,0,-1], [0,1,1], [-1,-1,-1]]\n",
        "board = np.array(a)\n",
        "```\n",
        "\n",
        "`a`が表す行列の中心の要素を知るためには、`a[1][1]`としますが、\n",
        "`board`では、`board[1,1]`とします。\n",
        "表現としてより単純であるという利点もありますが、\n",
        "Ndarrayである`board`は、直接的に行列を表現している点が重要です。\n",
        "- `a[1][1]`は、`a`の1番目の要素`a[1]`の1番目の要素を意味します。\n",
        "- `board[1,1]`は、行列の1行1列目の成分（要素）を意味します。\n",
        "\n",
        "要素・行・列の番号は0から振られることに注意して下さい。\n",
        "\n",
        "#### 演習12-2\n",
        "以下のプログラムを変更して、\n",
        "`board`の要素を列挙するプログラムを作成せよ。\n",
        "```python\n",
        "for i in range(3):\n",
        "    print([a[i][j] for j in range(3)])\n",
        "```\n"
      ]
    },
    {
      "cell_type": "code",
      "metadata": {
        "colab": {
          "base_uri": "https://localhost:8080/"
        },
        "id": "7XBWlmFVnIK6",
        "outputId": "832cf6e3-879a-43dc-99aa-e8c5c4c36a9c"
      },
      "source": [
        "import numpy as np\n",
        "board = np.array([[-1, -1, 1], [0, -1, 0], [0, 1, 1]])\n",
        "\n",
        "\n",
        "def repeat(array):\n",
        "  for i in range(3):\n",
        "    print([array[i][j] for j in range(3)])\n",
        "\n",
        "repeat(board)"
      ],
      "execution_count": 14,
      "outputs": [
        {
          "output_type": "stream",
          "text": [
            "[-1, -1, 1]\n",
            "[0, -1, 0]\n",
            "[0, 1, 1]\n"
          ],
          "name": "stdout"
        }
      ]
    },
    {
      "cell_type": "markdown",
      "metadata": {
        "id": "LUW00GEenIK6"
      },
      "source": [
        "行列をNdarrayで表現することの利点の一つとして、部分行列を容易に取り出せることがあります。\n",
        "\n",
        "List `a = [0, 1, 2, 3, 4]`において、1番目から3番目までの要素を取り出すには、\n",
        "```python\n",
        "a = [0, 1, 2, 3, 4]\n",
        "print(a[1:4])\n",
        "```\n",
        "とすれば良いことは、既に学びました。\n",
        "Listの中の要素の順番は0番から始まり、`1:4`は$(1, 2, 3)$を表すことに注意して下さい。\n",
        "\n",
        "行列を表現するNdarrayのオブジェクトでは、同じ表現を行と列の両方に適用することができます。\n",
        "実際、\n",
        "```python\n",
        "a = [[1,0,-1], [0,1,1], [-1,-1,-1]]\n",
        "board = np.array(a)\n",
        "print(board[0:2, 0:2])\n",
        "```\n",
        "とすると、3行3列の行列である`board`から、左上隅の2行2列の部分行列が取り出されます。\n",
        "確かめてみて下さい。"
      ]
    },
    {
      "cell_type": "code",
      "metadata": {
        "colab": {
          "base_uri": "https://localhost:8080/"
        },
        "id": "qiasIbBSnIK7",
        "outputId": "0168a259-d7a0-48c4-d8f7-e9dac610711b"
      },
      "source": [
        "import numpy as np\n",
        "a = [[1,0,-1], [0,1,1], [-1,-1,-1]]\n",
        "board = np.array(a)\n",
        "print(board)\n",
        "print(board[0:2, 0:2])"
      ],
      "execution_count": 3,
      "outputs": [
        {
          "output_type": "stream",
          "text": [
            "[[ 1  0 -1]\n",
            " [ 0  1  1]\n",
            " [-1 -1 -1]]\n",
            "[[1 0]\n",
            " [0 1]]\n"
          ],
          "name": "stdout"
        }
      ]
    },
    {
      "cell_type": "markdown",
      "metadata": {
        "id": "MAebe_SCnIK7"
      },
      "source": [
        "#### 演習12-3\n",
        "以下の表現が、\n",
        "Numpy Array`board = np.array([[1,0,-1], [0,1,1], [-1,-1,-1]])`のどの部分行列を表しているか、\n",
        "それぞれ予想した後、プログラムを実行して確かめよ。\n",
        "1. `board[1:1, 0:3]`\n",
        "1. `board[1, 0:3]`\n",
        "1. `board[1, 0:2]`\n",
        "1. `board[1, :]`\n",
        "1. `board[0:3, 2:2]`\n",
        "1. `board[0:3, 2]`\n",
        "1. `board[:, 2]`\n",
        "1. `board[1:2, 0:3]`\n",
        "1. `board[1:2, :]`\n",
        "1. `board[:, :]`"
      ]
    },
    {
      "cell_type": "code",
      "metadata": {
        "colab": {
          "base_uri": "https://localhost:8080/"
        },
        "id": "4eF8yH9EnIK7",
        "outputId": "338be367-27c9-4827-f373-5b31985f50f5"
      },
      "source": [
        "board = np.array([[1,0,-1], [0,1,1], [-1,-1,-1]])\n",
        "print(board)\n",
        "print(board[1:1, 0:3])\n",
        "print(board[1, 0:3])\n",
        "print(board[1, 0:2])\n",
        "print(board[1, :])\n",
        "print(board[0:3, 2:2])\n",
        "print(board[0:3, 2])\n",
        "print(board[:, 2])\n",
        "print(board[1:2, 0:3])\n",
        "print(board[1:2, :])\n",
        "print(board[:, :])"
      ],
      "execution_count": 4,
      "outputs": [
        {
          "output_type": "stream",
          "text": [
            "[[ 1  0 -1]\n",
            " [ 0  1  1]\n",
            " [-1 -1 -1]]\n",
            "[]\n",
            "[0 1 1]\n",
            "[0 1]\n",
            "[0 1 1]\n",
            "[]\n",
            "[-1  1 -1]\n",
            "[-1  1 -1]\n",
            "[[0 1 1]]\n",
            "[[0 1 1]]\n",
            "[[ 1  0 -1]\n",
            " [ 0  1  1]\n",
            " [-1 -1 -1]]\n"
          ],
          "name": "stdout"
        }
      ]
    },
    {
      "cell_type": "markdown",
      "metadata": {
        "id": "S_8YxGy1nIK7"
      },
      "source": [
        "ところで、Pythonの関数`sum`とNumpyの関数`np.sum`とは、が違うという述べましたが、次のプログラムを実行してみて下さい。\n",
        "```python\n",
        "print(sum(board))\n",
        "print(np.sum(board))\n",
        "```"
      ]
    },
    {
      "cell_type": "code",
      "metadata": {
        "colab": {
          "base_uri": "https://localhost:8080/"
        },
        "id": "EZN6qz6tnIK7",
        "outputId": "c1630a8e-7708-4cb5-9221-c340f9efc1d8"
      },
      "source": [
        "print(sum(board))\n",
        "print(np.sum(board))"
      ],
      "execution_count": 5,
      "outputs": [
        {
          "output_type": "stream",
          "text": [
            "[ 0  0 -1]\n",
            "-1\n"
          ],
          "name": "stdout"
        }
      ]
    },
    {
      "cell_type": "markdown",
      "metadata": {
        "id": "dau4EwwtnIK7"
      },
      "source": [
        "- `sum(board)`では、\n",
        "```python\n",
        "np.array([1,0,-1])+np.array([0,1,1])+np.array([-1,-1,-1])\n",
        "```\n",
        "を計算します。\n",
        "これは、Pythonの`sum`関数は、`board`をListと考え、Listの要素の和を計算するからです。\n",
        "`board`の要素は、Ndarrayですので、その和はベクトルとしての和（成分ごとの和）になります。\n",
        "- `np.sum(board)`では、`board`を行列であると考え、$3\\times 3 = 9$個の成分の和を計算します。"
      ]
    },
    {
      "cell_type": "markdown",
      "metadata": {
        "id": "y5sLLwnNnIK7"
      },
      "source": [
        "#### 演習12-4\n",
        "演習12-3の各表現に対して、`sum()`と`np.sum()`を適用し、その値を求めよ。\n",
        "コードセルで計算する前に、どのような値が返ってくるか予測せよ。"
      ]
    },
    {
      "cell_type": "code",
      "metadata": {
        "colab": {
          "base_uri": "https://localhost:8080/"
        },
        "id": "L6sZ2b5JnIK7",
        "outputId": "8dc1af63-f128-4aae-f4b5-130099b9459c"
      },
      "source": [
        "print(board)\n",
        "print(sum(board[1:1, 0:3]))\n",
        "print(sum(board[1, 0:3]))\n",
        "print(sum(board[1, 0:2]))\n",
        "print(sum(board[1, :]))\n",
        "print(sum(board[0:3, 2:2]))\n",
        "print(sum(board[0:3, 2]))\n",
        "print(sum(board[:, 2]))\n",
        "print(sum(board[1:2, 0:3]))\n",
        "print(sum(board[1:2, :]))\n",
        "print(sum(board[:, :]))\n",
        "\n",
        "print(np.sum(board[1:1, 0:3]))\n",
        "print(np.sum(board[1, 0:3]))\n",
        "print(np.sum(board[1, 0:2]))\n",
        "print(np.sum(board[1, :]))\n",
        "print(np.sum(board[0:3, 2:2]))\n",
        "print(np.sum(board[0:3, 2]))\n",
        "print(np.sum(board[:, 2]))\n",
        "print(np.sum(board[1:2, 0:3]))\n",
        "print(np.sum(board[1:2, :]))\n",
        "print(np.sum(board[:, :]))"
      ],
      "execution_count": 8,
      "outputs": [
        {
          "output_type": "stream",
          "text": [
            "[[ 1  0 -1]\n",
            " [ 0  1  1]\n",
            " [-1 -1 -1]]\n",
            "0\n",
            "2\n",
            "1\n",
            "2\n",
            "[]\n",
            "-1\n",
            "-1\n",
            "[0 1 1]\n",
            "[0 1 1]\n",
            "[ 0  0 -1]\n",
            "0\n",
            "2\n",
            "1\n",
            "2\n",
            "0\n",
            "-1\n",
            "-1\n",
            "2\n",
            "2\n",
            "-1\n"
          ],
          "name": "stdout"
        }
      ]
    },
    {
      "cell_type": "markdown",
      "metadata": {
        "id": "_JP0B2a3nIK8"
      },
      "source": [
        "## 盤面の勝敗判定\n",
        "Ndarrayで表現された三目並べの盤面の勝敗を判定する関数`judge()`を作成します。\n",
        "盤面を表現するNumpy Array`board`に対して、\n",
        "`judge(board)`の返り値を次のように定めます。\n",
        "- 先手（ここでは$\\times$とする）が勝っていれば、$1$を返す。\n",
        "- 後手（ここでは$\\bigcirc$とする）が勝っていれば、$-1$を返す。\n",
        "- どちらの勝ちでもなければ、$0$を返す。\n",
        "\n",
        "例えば、\n",
        "$$\n",
        "\\begin{matrix}\n",
        "\\bigcirc & & \\times\\\\\n",
        " & \\bigcirc & \\bigcirc\\\\\n",
        "\\times & \\times & \\times\\\\\n",
        "\\end{matrix}\n",
        "$$\n",
        "は、次の行列で表されます。\n",
        "$$\n",
        "\\begin{bmatrix}\n",
        "1 & 0 & -1\\\\\n",
        "0 & 1 & 1\\\\\n",
        "-1 & -1 & -1\\\\\n",
        "\\end{bmatrix}\n",
        "$$\n",
        "この盤面は、最下行が$\\times$で埋まっているので、先手（$\\times$）の勝ちです。\n",
        "従って、\n",
        "`board = np.array([[1,0,-1], [0,1,1], [-1,-1,-1]])`に対して、\n",
        "`judge(board)`の値は$-1$にならなくてはなりません。\n",
        "\n",
        "一方、「最下行が$\\times$で埋まっている」という事実をプログラムで確認するためには、\n",
        "`board`の第2行が`[-1, -1, -1]`であることを確かめれば良いのですが、\n",
        "これは`np.sum(board[2, :])`の値が$-3$であることを確認することと同じです。\n",
        "従って、`board`の第2行における勝負を判定するには、次のプログラムを実行すれば良いことになります。\n",
        "```python\n",
        "p = np.sum(board[2, :])\n",
        "if p == 3:\n",
        "    return 1 # 後手勝ち\n",
        "elif p == -3:\n",
        "    return -1 # 先手勝ち\n",
        "```\n",
        "第0行、第1行、第2行のいずれかが、$\\times$か$\\bigcirc$で埋められているケースでは、\n",
        "次のプログラムで、勝者を判定できることになります。\n",
        "\n",
        "```python\n",
        "for r in range(3):\n",
        "    p = np.sum(board[r, :])\n",
        "    if p == 3:\n",
        "        return 1 # 後手勝ち\n",
        "    elif p == -3:\n",
        "        return -1 # 先手勝ち\n",
        "```\n",
        "\n",
        "これを、関数`judge`の中に埋め込んでみましょう。\n",
        "```python\n",
        "def judge(b):\n",
        "    for r in range(3):\n",
        "        p = np.sum(b[r, :])\n",
        "        if p == 3:\n",
        "            return 1 # 後手勝ち\n",
        "        if p == -3:\n",
        "            return -1 # 先手勝ち\n",
        "    return 0\n",
        "```\n",
        "この関数は、先手か後手が、いずれかの行を埋めて勝負を決める場合には、正しく判定を行うことができます。\n",
        "\n",
        "例えば、盤面が\n",
        "\n",
        "$$\n",
        "\\begin{matrix}\n",
        "\\bigcirc & & \\times\\\\\n",
        " & \\bigcirc & \\bigcirc\\\\\n",
        "\\times & \\times & \\times\\\\\n",
        "\\end{matrix}\n",
        "$$\n",
        "\n",
        "で、`board`がこの盤面を表現するNdarrayである場合は、\n",
        "以下のように、`judge(board)`は正しい勝敗の判定を返します。\n",
        "`board`を引数に指定しましたので、`b`は`board`を意味します。\n",
        "\n",
        "1. `r = 0`では、`b[0, :]`は`[1 0 -1]`なので、`p = np.sum(b[0, :]`の値は$0$。\n",
        "`p`の値は、$3$でも、$-3$でもないので、`for`ループの次の繰り返しに進みます。\n",
        "1. `r = 1`では、`b[1, :]`は`[0 1 1]`なので、`p = np.sum(b[1, :]`の値は$2$。\n",
        "`p`の値は、$3$でも、$-3$でもないので、`for`ループの次の繰り返しに進みます。\n",
        "1. `r = 2`では、`b[2, :]`は`[-1 -1 -1]`なので、`p = np.sum(b[1, :]`の値は$-3$。\n",
        "従って、`if p == -3:`が成立し、`return -1`により、$-1$を返す。\n",
        "\n",
        "#### 演習12-5\n",
        "上記の`judge`関数を下のコードセルで定義し、\n",
        "以下の盤面に対して、正しく判定できているかを調べよ。\n",
        "1. 　\n",
        "$$\n",
        "\\begin{matrix}\n",
        "\\bigcirc & \\bigcirc & \\bigcirc\\\\\n",
        " & \\times & \\bigcirc\\\\\n",
        " & \\times & \\times\\\\\n",
        "\\end{matrix}\n",
        "$$\n",
        "1. 　\n",
        "$$\n",
        "\\begin{matrix}\n",
        "\\times & \\bigcirc & \\bigcirc\\\\\n",
        "\\times & \\times & \\bigcirc\\\\\n",
        " & \\times & \\bigcirc\\\\\n",
        "\\end{matrix}\n",
        "$$\n",
        "1. 　\n",
        "$$\n",
        "\\begin{matrix}\n",
        "\\times & \\bigcirc & \\bigcirc\\\\\n",
        " & \\times & \\bigcirc\\\\\n",
        "\\bigcirc & \\times & \\times\\\\\n",
        "\\end{matrix}\n",
        "$$\n",
        "1. 　\n",
        "$$\n",
        "\\begin{matrix}\n",
        "\\times & \\bigcirc & \\bigcirc\\\\\n",
        "\\times & \\bigcirc & \\times\\\\\n",
        "\\bigcirc & \\times & \\\\\n",
        "\\end{matrix}\n",
        "$$"
      ]
    },
    {
      "cell_type": "code",
      "metadata": {
        "colab": {
          "base_uri": "https://localhost:8080/"
        },
        "id": "g_9_eZdLnIK8",
        "outputId": "086ae1ad-cde0-45e6-e8ef-0e9aff6993a9"
      },
      "source": [
        "def judge(b):\n",
        "    for r in range(3):\n",
        "        p = np.sum(b[r, :])\n",
        "        if p == 3:\n",
        "            return 1 # 後手勝ち\n",
        "        if p == -3:\n",
        "            return -1 # 先手勝ち\n",
        "    return 0\n",
        "b1 = np.array([[1, 1, 1], [0, -1, 1], [0, -1, -1]])\n",
        "print(judge(b1))\n",
        "b2 = np.array([[-1, 1, 1], [-1, -1, 1], [0, -1, 1]])\n",
        "print(judge(b2))\n",
        "b3 = np.array([[-1, 1, 1], [0, -1, 1], [1, -1, -1]])\n",
        "print(judge(b3))\n",
        "b4 = np.array([[-1, 1, 1], [-1, 1, -1], [1, -1, 0]])\n",
        "print(judge(b4))"
      ],
      "execution_count": 27,
      "outputs": [
        {
          "output_type": "stream",
          "text": [
            "1\n",
            "0\n",
            "0\n",
            "0\n"
          ],
          "name": "stdout"
        }
      ]
    },
    {
      "cell_type": "markdown",
      "metadata": {
        "id": "PBbKurHZnIK8"
      },
      "source": [
        "次に、列方向（縦方向）に$\\bigcirc$か$\\times$が並んだ場合の勝敗の判定法を考えてみましょう。\n",
        "実は、前述のプログラムにおいて、行を列に入れ替えるだけですので、難しくありません。\n",
        "$r$行の成分の和を計算するプログラム行\n",
        "```python\n",
        "p = np.sum(b[r, :])\n",
        "```\n",
        "を、行と列を入れ替えた\n",
        "```python\n",
        "p = np.sum(b[:, r])\n",
        "```\n",
        "に変更すれば、$r$列の成分の和を計算することができます。\n",
        "\n",
        "#### 演習12-6\n",
        "横方向の並びで勝敗を判定する前述の`judge`関数に、\n",
        "列方向の$\\bigcirc\\times$の並びを検査して勝敗を判定するプログラムを追加することで、\n",
        "`judge`関数の定義を更新せよ。\n",
        "更に、この関数が、以下の盤面に対して、正しく判定できているかを調べよ。\n",
        "1. 　\n",
        "$$\n",
        "\\begin{matrix}\n",
        "\\bigcirc & \\bigcirc & \\bigcirc\\\\\n",
        " & \\times & \\bigcirc\\\\\n",
        " & \\times & \\times\\\\\n",
        "\\end{matrix}\n",
        "$$\n",
        "1. 　\n",
        "$$\n",
        "\\begin{matrix}\n",
        "\\times & \\bigcirc & \\bigcirc\\\\\n",
        "\\times & \\times & \\bigcirc\\\\\n",
        " & \\times & \\bigcirc\\\\\n",
        "\\end{matrix}\n",
        "$$\n",
        "1. 　\n",
        "$$\n",
        "\\begin{matrix}\n",
        "\\times & \\bigcirc & \\bigcirc\\\\\n",
        " & \\times & \\bigcirc\\\\\n",
        "\\bigcirc & \\times & \\times\\\\\n",
        "\\end{matrix}\n",
        "$$\n",
        "1. 　\n",
        "$$\n",
        "\\begin{matrix}\n",
        "\\times & \\bigcirc & \\bigcirc\\\\\n",
        "\\times & \\bigcirc & \\times\\\\\n",
        "\\bigcirc & \\times & \\\\\n",
        "\\end{matrix}\n",
        "$$"
      ]
    },
    {
      "cell_type": "code",
      "metadata": {
        "colab": {
          "base_uri": "https://localhost:8080/"
        },
        "id": "LUHlFehf3gg6",
        "outputId": "ddcf0776-59bc-45da-f342-c3c0810f5139"
      },
      "source": [
        "def judge(b):\n",
        "    for r in range(3):\n",
        "        p = np.sum(b[r, :])\n",
        "        if p == 3:\n",
        "            return 1 # 後手勝ち\n",
        "        if p == -3:\n",
        "            return -1 # 先手勝ち\n",
        "    for r in range(3):\n",
        "        p = np.sum(b[:, r])\n",
        "        if p == 3:\n",
        "            return 1 # 後手勝ち\n",
        "        if p == -3:\n",
        "            return -1 # 先手勝ち\n",
        "    return 0\n",
        "print(judge(b1))\n",
        "print(judge(b2))\n",
        "print(judge(b3))\n",
        "print(judge(b4))"
      ],
      "execution_count": 34,
      "outputs": [
        {
          "output_type": "stream",
          "text": [
            "1\n",
            "1\n",
            "0\n",
            "0\n"
          ],
          "name": "stdout"
        }
      ]
    },
    {
      "cell_type": "markdown",
      "metadata": {
        "id": "DuZ8c30_nIK9"
      },
      "source": [
        "左上隅から右下隅までの対角線上のマス目が、$\\bigcirc$か$\\times$のいずれかで埋められた時も、\n",
        "勝敗が決まります。\n",
        "行列では、この対角線上の成分を、**対角成分**と呼びます。\n",
        "数学では行列の対角成分は重要な意味を持つため、\n",
        "Numpyでは、Ndarrayから対角成分を取り出すための関数`np.diag()`が用意されています。\n",
        "\n",
        "以下のプログラムを実行して、`np.diag`関数の機能を確認して下さい。\n",
        "\n",
        "```python\n",
        "b = np.array([[0,1,2], [3,4,5], [6,7,8]])\n",
        "print(b)\n",
        "print(\"の対角成分は\", np.diag(b))\n",
        "```"
      ]
    },
    {
      "cell_type": "code",
      "metadata": {
        "colab": {
          "base_uri": "https://localhost:8080/"
        },
        "id": "t3RVCw7RnIK9",
        "outputId": "526e004a-5e1f-4cc3-f7d0-d2ed3cc2439d"
      },
      "source": [
        "b = np.array([[0,1,2], [3,4,5], [6,7,8]])\n",
        "print(b)\n",
        "print(\"の対角成分は\", np.diag(b))\n",
        "\n",
        "berror = np.array([[0,1,2], [3,4,5], [6,7,8,9]])\n",
        "print(berror)\n",
        "print(\"の対角成分は\", np.diag(berror))"
      ],
      "execution_count": 31,
      "outputs": [
        {
          "output_type": "stream",
          "text": [
            "[[0 1 2]\n",
            " [3 4 5]\n",
            " [6 7 8]]\n",
            "の対角成分は [0 4 8]\n",
            "[list([0, 1, 2]) list([3, 4, 5]) list([6, 7, 8, 9])]\n",
            "の対角成分は [[list([0, 1, 2]) 0 0]\n",
            " [0 list([3, 4, 5]) 0]\n",
            " [0 0 list([6, 7, 8, 9])]]\n"
          ],
          "name": "stdout"
        },
        {
          "output_type": "stream",
          "text": [
            "/usr/local/lib/python3.7/dist-packages/ipykernel_launcher.py:5: VisibleDeprecationWarning: Creating an ndarray from ragged nested sequences (which is a list-or-tuple of lists-or-tuples-or ndarrays with different lengths or shapes) is deprecated. If you meant to do this, you must specify 'dtype=object' when creating the ndarray\n",
            "  \"\"\"\n"
          ],
          "name": "stderr"
        }
      ]
    },
    {
      "cell_type": "markdown",
      "metadata": {
        "id": "nxEq7PXqnIK9"
      },
      "source": [
        "`np.diag`関数を使えば、以下のプログラムで、右下がりの対角線が、\n",
        "$\\bigcirc$もしくは$\\times$で埋められている時の勝者を判定することができます。\n",
        "\n",
        "```python\n",
        "p = np.sum(np.diag(b))\n",
        "if p == 3:\n",
        "    return 1\n",
        "if p == -3\n",
        "    return -1\n",
        "```\n",
        "\n",
        "#### 演習12-7\n",
        "縦横の方向で勝敗を判定する前述の`judge`関数に、\n",
        "右下がりの対角線方向の$\\bigcirc\\times$の並びを検査して勝敗を判定するプログラムを追加することで、\n",
        "`judge`関数の定義を更新せよ。\n",
        "更に、この関数が、以下の盤面に対して、正しく判定できているかを調べよ。\n",
        "1. 　\n",
        "$$\n",
        "\\begin{matrix}\n",
        "\\bigcirc & \\bigcirc & \\bigcirc\\\\\n",
        " & \\times & \\bigcirc\\\\\n",
        " & \\times & \\times\\\\\n",
        "\\end{matrix}\n",
        "$$\n",
        "1. 　\n",
        "$$\n",
        "\\begin{matrix}\n",
        "\\times & \\bigcirc & \\bigcirc\\\\\n",
        "\\times & \\times & \\bigcirc\\\\\n",
        " & \\times & \\bigcirc\\\\\n",
        "\\end{matrix}\n",
        "$$\n",
        "1. 　\n",
        "$$\n",
        "\\begin{matrix}\n",
        "\\times & \\bigcirc & \\bigcirc\\\\\n",
        " & \\times & \\bigcirc\\\\\n",
        "\\bigcirc & \\times & \\times\\\\\n",
        "\\end{matrix}\n",
        "$$\n",
        "1. 　\n",
        "$$\n",
        "\\begin{matrix}\n",
        "\\times & \\bigcirc & \\bigcirc\\\\\n",
        "\\times & \\bigcirc & \\times\\\\\n",
        "\\bigcirc & \\times & \\\\\n",
        "\\end{matrix}\n",
        "$$"
      ]
    },
    {
      "cell_type": "code",
      "metadata": {
        "colab": {
          "base_uri": "https://localhost:8080/"
        },
        "id": "g_dKqergnIK9",
        "outputId": "3f214f7d-6ac5-4d2a-c75f-67b9f59a9d05"
      },
      "source": [
        "def judge(b):\n",
        "    for r in range(3):\n",
        "        p = np.sum(b[r, :])\n",
        "        if p == 3:\n",
        "            return 1 # 後手勝ち\n",
        "        if p == -3:\n",
        "            return -1 # 先手勝ち\n",
        "    for r in range(3):\n",
        "        p = np.sum(b[:, r])\n",
        "        if p == 3:\n",
        "            return 1 # 後手勝ち\n",
        "        if p == -3:\n",
        "            return -1 # 先手勝ち\n",
        "    p = np.sum(np.diag(b))\n",
        "    if p == 3:\n",
        "        return 1\n",
        "    if p == -3:\n",
        "        return -1\n",
        "    return 0\n",
        "print(judge(b1))\n",
        "print(judge(b2))\n",
        "print(judge(b3))\n",
        "print(judge(b4))"
      ],
      "execution_count": 36,
      "outputs": [
        {
          "output_type": "stream",
          "text": [
            "1\n",
            "1\n",
            "-1\n",
            "0\n"
          ],
          "name": "stdout"
        }
      ]
    },
    {
      "cell_type": "markdown",
      "metadata": {
        "id": "PFa5XgzxnIK9"
      },
      "source": [
        "2次元のNumpy Arrayの右下がりの成分を取り出すためには、\n",
        "`np.diag()`という関数が用意されていますが、残念ながら、\n",
        "左下りの対角成分を直接取り出すための関数は用意されていません。\n",
        "ただ、\n",
        "`np.fliplr()`という関数を一回挟んで、\n",
        "`np.diag(np.fliplr(b))`とすれば、\n",
        "左下りの対角線上の成分（要素）を取り出すことが可能になります。\n",
        "\n",
        "#### 演習12-8\n",
        "関数`np.fliplr`が、どのような作用を持つのか、\n",
        "自分でテストプログラムを書いて確かめよ。"
      ]
    },
    {
      "cell_type": "code",
      "metadata": {
        "colab": {
          "base_uri": "https://localhost:8080/"
        },
        "id": "CwPi88FXnIK_",
        "outputId": "6cb69a6d-af14-41d4-d685-b111a599ecef"
      },
      "source": [
        "def judge(b):\n",
        "    for r in range(3):\n",
        "        p = np.sum(b[r, :])\n",
        "        if p == 3:\n",
        "            return 1 # 後手勝ち\n",
        "        if p == -3:\n",
        "            return -1 # 先手勝ち\n",
        "    for r in range(3):\n",
        "        p = np.sum(b[:, r])\n",
        "        if p == 3:\n",
        "            return 1 # 後手勝ち\n",
        "        if p == -3:\n",
        "            return -1 # 先手勝ち\n",
        "    p = np.sum(np.diag(b))\n",
        "    if p == 3:\n",
        "        return 1\n",
        "    if p == -3:\n",
        "        return -1\n",
        "    p = np.sum(np.diag(np.fliplr(b))) # fliplrのlとrはleftとright\n",
        "    if p == 3:\n",
        "        return 1\n",
        "    if p == -3:\n",
        "        return -1\n",
        "    return 0\n",
        "print(b)\n",
        "print(np.fliplr(b))\n",
        "print(judge(b1))\n",
        "print(judge(b2))\n",
        "print(judge(b3))\n",
        "print(judge(b4))"
      ],
      "execution_count": 41,
      "outputs": [
        {
          "output_type": "stream",
          "text": [
            "[[0 1 2]\n",
            " [3 4 5]\n",
            " [6 7 8]]\n",
            "[[2 1 0]\n",
            " [5 4 3]\n",
            " [8 7 6]]\n",
            "1\n",
            "1\n",
            "-1\n",
            "1\n"
          ],
          "name": "stdout"
        }
      ]
    },
    {
      "cell_type": "markdown",
      "metadata": {
        "id": "vMrVo_mqnIK_"
      },
      "source": [
        "#### 演習12-9\n",
        "縦横方向と右下がりの対角線方向で勝敗を判定する前述の`judge`関数に、\n",
        "左下がりの対角線方向の$\\bigcirc\\times$の並びを検査して勝敗を判定するプログラムを追加することで、\n",
        "`judge`関数の定義を完成させよ。\n",
        "更に、この関数が、以下の盤面に対して、正しく判定できているかを調べよ。\n",
        "1. 　\n",
        "$$\n",
        "\\begin{matrix}\n",
        "\\bigcirc & \\bigcirc & \\bigcirc\\\\\n",
        " & \\times & \\bigcirc\\\\\n",
        " & \\times & \\times\\\\\n",
        "\\end{matrix}\n",
        "$$\n",
        "1. 　\n",
        "$$\n",
        "\\begin{matrix}\n",
        "\\times & \\bigcirc & \\bigcirc\\\\\n",
        "\\times & \\times & \\bigcirc\\\\\n",
        " & \\times & \\bigcirc\\\\\n",
        "\\end{matrix}\n",
        "$$\n",
        "1. 　\n",
        "$$\n",
        "\\begin{matrix}\n",
        "\\times & \\bigcirc & \\bigcirc\\\\\n",
        " & \\times & \\bigcirc\\\\\n",
        "\\bigcirc & \\times & \\times\\\\\n",
        "\\end{matrix}\n",
        "$$\n",
        "1. 　\n",
        "$$\n",
        "\\begin{matrix}\n",
        "\\times & \\bigcirc & \\bigcirc\\\\\n",
        "\\times & \\bigcirc & \\times\\\\\n",
        "\\bigcirc & \\times & \\\\\n",
        "\\end{matrix}\n",
        "$$"
      ]
    },
    {
      "cell_type": "code",
      "metadata": {
        "colab": {
          "base_uri": "https://localhost:8080/"
        },
        "id": "uUXB6SqZnIK_",
        "outputId": "ce07d06a-7c32-4ee5-96b9-79f7479c9c39"
      },
      "source": [
        "def judge(b):\n",
        "    for r in range(3):\n",
        "        p = np.sum(b[r, :])\n",
        "        if p == 3:\n",
        "            return 1 # 後手勝ち\n",
        "        if p == -3:\n",
        "            return -1 # 先手勝ち\n",
        "    for r in range(3):\n",
        "        p = np.sum(b[:, r])\n",
        "        if p == 3:\n",
        "            return 1 # 後手勝ち\n",
        "        if p == -3:\n",
        "            return -1 # 先手勝ち\n",
        "    p = np.sum(np.diag(b))\n",
        "    if p == 3:\n",
        "        return 1\n",
        "    if p == -3:\n",
        "        return -1\n",
        "    p = np.sum(np.diag(np.fliplr(b))) # fliplrのlとrはleftとright\n",
        "    if p == 3:\n",
        "        return 1\n",
        "    if p == -3:\n",
        "        return -1\n",
        "    return 0\n",
        "\n",
        "print(judge(b1))\n",
        "print(judge(b2))\n",
        "print(judge(b3))\n",
        "print(judge(b4))"
      ],
      "execution_count": 42,
      "outputs": [
        {
          "output_type": "stream",
          "text": [
            "1\n",
            "1\n",
            "-1\n",
            "1\n"
          ],
          "name": "stdout"
        }
      ]
    },
    {
      "cell_type": "markdown",
      "metadata": {
        "id": "0ukLsBXAnILA"
      },
      "source": [
        "## Ndarrayの要素に対する一括計算\n",
        "Ndarrayでは、成分ごとの計算を一括して実行できる、便利な機能があります。\n",
        "\n",
        "例えば、\n",
        "```python\n",
        "A = np.array([[0,1,2], [3,4,5], [6,7,8]])\n",
        "print(A**2)\n",
        "```\n",
        "を実行してみて下さい。"
      ]
    },
    {
      "cell_type": "code",
      "metadata": {
        "colab": {
          "base_uri": "https://localhost:8080/"
        },
        "id": "s5wGTHn6nILA",
        "outputId": "c25525f9-d6c4-4139-92fb-e2d9312827bb"
      },
      "source": [
        "A = np.array([[0,1,2], [3,4,5], [6,7,8]])\n",
        "print(A**2)"
      ],
      "execution_count": 43,
      "outputs": [
        {
          "output_type": "stream",
          "text": [
            "[[ 0  1  4]\n",
            " [ 9 16 25]\n",
            " [36 49 64]]\n"
          ],
          "name": "stdout"
        }
      ]
    },
    {
      "cell_type": "markdown",
      "metadata": {
        "id": "a-PUfy9EnILA"
      },
      "source": [
        "Pythonでは、例えば、`2**2`は$2^2$を表しますが、\n",
        "Ndarray`A`に対して、`A**2`とすると、\n",
        "各成分を二乗した`A`と同じ行数・列数のNdarrayを表します。\n",
        "\n",
        "$$\n",
        "\\begin{bmatrix}\n",
        "0 & 1 & 2\\\\ 3 & 4 & 5\\\\ 6 & 7 & 8\\\\ \n",
        "\\end{bmatrix} \n",
        "\\mathrm{**} 2 = \n",
        "\\begin{bmatrix}\n",
        "0^2 & 1^2 & 2^2\\\\ \n",
        "3^2 & 4^2 & 5^2\\\\ \n",
        "6^2 & 7^2 & 8^2\\\\ \n",
        "\\end{bmatrix} = \n",
        "\\begin{bmatrix}\n",
        "0 & 1 & 4\\\\ \n",
        "9 & 16 & 25\\\\ \n",
        "36 & 49 & 64\\\\ \n",
        "\\end{bmatrix}\n",
        "$$\n",
        "\n",
        "#### 演習12-10\n",
        "`A = np.array([[0,1,2], [3,4,5], [6,7,8]])`に対して、\n",
        "以下の計算を実行せよ。\n",
        "1. `A+1`\n",
        "1. `A-1`\n",
        "1. `A*2`\n",
        "1. `A/2`\n",
        "1. `A**(1/2)`\n",
        "1. `2**A`\n",
        "\n"
      ]
    },
    {
      "cell_type": "code",
      "metadata": {
        "colab": {
          "base_uri": "https://localhost:8080/"
        },
        "id": "ZVTulXArnILA",
        "outputId": "ce13f13e-e267-477b-af5f-a56d9d7689f9"
      },
      "source": [
        "A = np.array([[0,1,2], [3,4,5], [6,7,8]])\n",
        "print(A+1)\n",
        "print(A-1)\n",
        "print(A*2)\n",
        "print(A/1)\n",
        "print(A**(1/2))\n",
        "print(2**A)"
      ],
      "execution_count": 10,
      "outputs": [
        {
          "output_type": "stream",
          "text": [
            "[[1 2 3]\n",
            " [4 5 6]\n",
            " [7 8 9]]\n",
            "[[-1  0  1]\n",
            " [ 2  3  4]\n",
            " [ 5  6  7]]\n",
            "[[ 0  2  4]\n",
            " [ 6  8 10]\n",
            " [12 14 16]]\n",
            "[[0. 1. 2.]\n",
            " [3. 4. 5.]\n",
            " [6. 7. 8.]]\n",
            "[[0.         1.         1.41421356]\n",
            " [1.73205081 2.         2.23606798]\n",
            " [2.44948974 2.64575131 2.82842712]]\n",
            "[[  1   2   4]\n",
            " [  8  16  32]\n",
            " [ 64 128 256]]\n"
          ],
          "name": "stdout"
        }
      ]
    },
    {
      "cell_type": "markdown",
      "metadata": {
        "id": "BF9_K25AnILA"
      },
      "source": [
        "また、Numpyで用意されている多くの数学の関数も、\n",
        "Ndarrayを引数にとって、成分に一括して関数を適用することができます。\n",
        "例えば、Mathライブラリーに用意されている関数`math.sqrt`は、\n",
        "数値に対して、平方根を計算します。\n",
        "```python\n",
        "import math\n",
        "a = 2\n",
        "print(math.sqrt(a))\n",
        "a = 3\n",
        "print(math.sqrt(a))\n",
        "```"
      ]
    },
    {
      "cell_type": "code",
      "metadata": {
        "colab": {
          "base_uri": "https://localhost:8080/"
        },
        "id": "BlaLG6Z2nILA",
        "outputId": "077c0c1f-d3e9-4a78-c0a7-df9893783a58"
      },
      "source": [
        "import math\n",
        "a = 2\n",
        "print(math.sqrt(a))\n",
        "a = 3\n",
        "print(math.sqrt(a))"
      ],
      "execution_count": 11,
      "outputs": [
        {
          "output_type": "stream",
          "text": [
            "1.4142135623730951\n",
            "1.7320508075688772\n"
          ],
          "name": "stdout"
        }
      ]
    },
    {
      "cell_type": "markdown",
      "metadata": {
        "id": "ugRo7ESgnILA"
      },
      "source": [
        "`math.sqrt`が引数に取れるのは、数値に限り、\n",
        "Ndarray`A = np.array([[0,1,2], [3,4,5], [6,7,8]])`を、\n",
        "引数に取ることはできません。\n",
        "```python\n",
        "print(math.sqrt(A))\n",
        "```\n",
        "を実行しようとすると、エラーが出る筈です。\n",
        "\n",
        "ここで、Numpyで用意されている`sqrt`関数を利用すると、\n",
        "Ndarrayの各要素の平方根を一括して計算することができます。\n",
        "次のプログラムを実行してみて下さい。\n",
        "\n",
        "```python\n",
        "print(np.sqrt(A))\n",
        "```"
      ]
    },
    {
      "cell_type": "code",
      "metadata": {
        "colab": {
          "base_uri": "https://localhost:8080/"
        },
        "id": "o5hl6gWQnILA",
        "outputId": "5c922a88-6962-42cf-8327-f61f52b574a9"
      },
      "source": [
        "# print(math.sqrt(A))\n",
        "print(np.sqrt(A))"
      ],
      "execution_count": 14,
      "outputs": [
        {
          "output_type": "stream",
          "text": [
            "[[0.         1.         1.41421356]\n",
            " [1.73205081 2.         2.23606798]\n",
            " [2.44948974 2.64575131 2.82842712]]\n"
          ],
          "name": "stdout"
        }
      ]
    },
    {
      "cell_type": "markdown",
      "metadata": {
        "id": "T9CMnkQ5nILA"
      },
      "source": [
        "Numpyで用意されている数学の関数の多くは、\n",
        "Ndarrayを引数に取ることが可能で、\n",
        "成分ごとに関数の値を計算してくれます。\n",
        "\n",
        "#### 演習 12-11\n",
        "`A = np.array([[0,1,2], [3,4,5], [6,7,8]])`に対して、\n",
        "以下の計算を実行せよ。\n",
        "1. `np.exp(A)`\n",
        "1. `np.log(1+A)`　（$\\log 0 = -\\infty$なので、1を足す）\n",
        "1. `np.cos(A)`\n",
        "1. `np.sin(A)`\n",
        "1. `np.tan(A)`"
      ]
    },
    {
      "cell_type": "code",
      "metadata": {
        "colab": {
          "base_uri": "https://localhost:8080/"
        },
        "id": "43_M41AYnILB",
        "outputId": "a5b05c9e-9b34-4aaa-ba74-3236d2d60e32"
      },
      "source": [
        "A = np.array([[0,1,2], [3,4,5], [6,7,8]])\n",
        "\n",
        "print(np.exp(A))\n",
        "print(np.log(1+A))\n",
        "print(np.cos(A))\n",
        "print(np.sin(A))\n",
        "print(np.tan(A))"
      ],
      "execution_count": 15,
      "outputs": [
        {
          "output_type": "stream",
          "text": [
            "[[1.00000000e+00 2.71828183e+00 7.38905610e+00]\n",
            " [2.00855369e+01 5.45981500e+01 1.48413159e+02]\n",
            " [4.03428793e+02 1.09663316e+03 2.98095799e+03]]\n",
            "[[0.         0.69314718 1.09861229]\n",
            " [1.38629436 1.60943791 1.79175947]\n",
            " [1.94591015 2.07944154 2.19722458]]\n",
            "[[ 1.          0.54030231 -0.41614684]\n",
            " [-0.9899925  -0.65364362  0.28366219]\n",
            " [ 0.96017029  0.75390225 -0.14550003]]\n",
            "[[ 0.          0.84147098  0.90929743]\n",
            " [ 0.14112001 -0.7568025  -0.95892427]\n",
            " [-0.2794155   0.6569866   0.98935825]]\n",
            "[[ 0.          1.55740772 -2.18503986]\n",
            " [-0.14254654  1.15782128 -3.38051501]\n",
            " [-0.29100619  0.87144798 -6.79971146]]\n"
          ],
          "name": "stdout"
        }
      ]
    }
  ]
}