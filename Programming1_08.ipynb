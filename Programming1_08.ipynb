{
  "nbformat": 4,
  "nbformat_minor": 0,
  "metadata": {
    "colab": {
      "name": "Programming1-08.ipynb",
      "provenance": [],
      "collapsed_sections": [],
      "include_colab_link": true
    },
    "kernelspec": {
      "display_name": "Python 3",
      "language": "python",
      "name": "python3"
    },
    "language_info": {
      "codemirror_mode": {
        "name": "ipython",
        "version": 3
      },
      "file_extension": ".py",
      "mimetype": "text/x-python",
      "name": "python",
      "nbconvert_exporter": "python",
      "pygments_lexer": "ipython3",
      "version": "3.7.5"
    }
  },
  "cells": [
    {
      "cell_type": "markdown",
      "metadata": {
        "id": "view-in-github",
        "colab_type": "text"
      },
      "source": [
        "<a href=\"https://colab.research.google.com/github/daisuke-shimizu/python-Gakushuin-programming1/blob/main/Programming1_08.ipynb\" target=\"_parent\"><img src=\"https://colab.research.google.com/assets/colab-badge.svg\" alt=\"Open In Colab\"/></a>"
      ]
    },
    {
      "cell_type": "markdown",
      "metadata": {
        "id": "i-pHW7dbf4J2"
      },
      "source": [
        "# サンプルプログラム実行上の注意\n",
        "プログラミング上達のコツは、\n",
        "\n",
        "- 短時間に集中してできるだけ大量のプログラムを書くこと\n",
        "- 試行錯誤を行うこと\n",
        "- 他人の書いた（動く）プログラムを読むこと\n",
        "- 更に、自分の目的に合わせてカスタマイズしてみること\n",
        "\n",
        "を日常的に実行することです。\n",
        "しかし、限られた授業時間（予習・復習も含む）内で、これらを十分に実行することは至難です。\n",
        "\n",
        "そこで、\n",
        "この講義資料は、多数のサンプルプログラムを提供して、\n",
        "少しでも不足を補うことができるように作成されています。\n",
        "受講者は、以下の注意を守ってサンプルプログラムをコードセル中で実行することで、\n",
        "より効率の良い学習を心がけて下さい。\n",
        "\n",
        "1. サンプルプログラムは、コピペせず、1行1行自分でタイプして書き写して下さい。\n",
        "コピペでは見逃してしまう、プログラミングの書き方の規則や、プログラミングのコツなど、\n",
        "自分自身でタイプすることで気づくことができます。\n",
        "2. サンプルプログラムを書き写す時は、プログラムの意味を考えるよう努めて下さい。\n",
        "最初は必ずしも最良とは言えないサンプルプログラムを提示して、\n",
        "後で改良した例を示すなど、この講義資料では、良いプログラムを作成する考え方を効率的に学べるよう、\n",
        "いろいろな工夫をしています。\n",
        "3. 意味を理解できない行がある場合には、あまり拘泥せず、先に進んでください。\n",
        "100%理解しないといけないという思い込みは、プログラミングの上達にとって妨げです。\n",
        "理解するための努力は必要ですが、Pythonでできることの範囲は非常に広く、\n",
        "プロのプログラマでも全部は理解していないでしょう。\n",
        "完璧な理解よりも、**動くプログラムを書くことを最優先の目標**として、\n",
        "わからない部分は「おまじない」として受け入れることができると、上達も早くなります。\n",
        "「おまじない」とは、「なぜ効くのかはわからないけれども、使い方は分かっている」という意味です。"
      ]
    },
    {
      "cell_type": "markdown",
      "metadata": {
        "id": "CTWWxp1af4J5"
      },
      "source": [
        "# 前回の演習問題の解答例\n",
        "演習7-6と7-7の解答例は講義内容で解説しますので、\n",
        "演習7-5までの解答例を示します。\n",
        "\n",
        "### 演習 7-1\n",
        "`persons`の要素を`given_name`のアルファベット順でソートするプログラムを作成せよ。\n",
        "\n",
        "**ヒント** インスタンス変数`given_name`を返す関数を定義せよ。\n",
        "\n",
        "### 解答例\n",
        "```python\n",
        "def given_name(p):\n",
        "    return p.given_name\n",
        "\n",
        "persons.sort(key = given_name)\n",
        "print(\"姓\\t名\\t誕生月\\t誕生日\")\n",
        "for p in persons:\n",
        "    print(p.family_name, '\\t', p.given_name, '\\t', p.birth_month, '\\t', p.birth_date)\n",
        "```\n",
        "\n",
        "### 演習 7-2\n",
        "`persons`の要素を`given_name`のアルファベット順の逆順（ZからAへ）でソートするプログラムを作成せよ。\n",
        "\n",
        "### 解答例\n",
        "```python\n",
        "persons.sort(key = given_name, reverse=True)\n",
        "print(\"姓\\t名\\t誕生月\\t誕生日\")\n",
        "for p in persons:\n",
        "    print(p.family_name, '\\t', p.given_name, '\\t', p.birth_month, '\\t', p.birth_date)\n",
        "\n",
        "```\n",
        "\n",
        "### 演習 7-3\n",
        "`birth_day_cout`関数を利用して、`persons`の要素を誕生日（月と日の組）で昇順にソートするプログラムを作成せよ。\n",
        "\n",
        "### 解答例\n",
        "以下の解答例はエラーを出します。\n",
        "各自で修正した上で、出力結果が正しいか確認して下さい。\n",
        "```python\n",
        "persons.sort(key = \"birth_day_count\", reverse=True)\n",
        "print(\"姓\\t名\\t誕生月\\t誕生日\")\n",
        "for p in persons:\n",
        "    print(p.family_name, '\\t', p.given_name, '\\t', p.birth_month, '\\t', p.birth_date)    \n",
        "```\n",
        "\n",
        "### 演習 7-5\n",
        "直前のセルのプログラムを参考にして、ランダムな姓名と誕生日をもつ\n",
        "100名のPersonオブジェクトを生成し、その誕生月の分布を棒グラフで表せ。\n",
        "\n",
        "### 解答例\n",
        "100個のPersonオブジェクトを含むリスト`persons`を生成するためには、\n",
        "複数の方法がありますが、内包表現を使うなら、例えば、\n",
        "```python\n",
        "fn_pool = ['Smith', 'Johnson', 'Williams', 'Jones', 'Brown', 'Davis', 'Miller', 'Wilson', 'Moore', 'Taylor', 'Anderson', 'Thomas', 'Jackson', 'White', 'Harris', 'Martin', 'Thompson', 'Garcia', 'Martinez', 'Robiinson']\n",
        "gn_pool = ['Noah', 'Liam', 'Elijah', 'Oliver', 'James', 'Mason', 'Logan', 'Lucas', 'Mateo', 'Ethan', 'Olivia', 'Emma', 'Ava', 'Isabella', 'Mia', 'Sophia', 'Amelia', 'Charlotte', 'Luna', 'Harper']\n",
        "\n",
        "fn = [random.choice(fn_pool) for _ in range(100)]\n",
        "gn = [random.choice(gn_pool) for _ in range(100)]\n",
        "bd = [month_date(random.choice(range(1, 365))) for _ in range(100)]\n",
        "persons = [Person(fn[i], gn[i], bd[i][0], bd[i][1]) for i in range(100)]\n",
        "```\n",
        "とできます。\n",
        "次のように、`for`構文を用いることも可能です。\n",
        "```python\n",
        "persons = []\n",
        "for _ in range(100):\n",
        "    fn = random.choice(fn_pool)\n",
        "    gn = random.choice(gn_pool)\n",
        "    m, d = month_date(random.choice(range(1, 365)))\n",
        "    persons.append(Person(fn, gn, m, d))\n",
        "```\n",
        "誕生月のカウントと棒グラフの描画は、以下のプログラムで可能です。\n",
        "```python\n",
        "count = [0]*12\n",
        "for p in persons:\n",
        "    count[p.birth_month-1] += 1\n",
        "plt.bar(range(1,13), count)\n",
        "plt.show()\n",
        "```\n"
      ]
    },
    {
      "cell_type": "markdown",
      "metadata": {
        "id": "4N1O9sonjNdv"
      },
      "source": [
        "# 第8回　誕生日のパラドックス（その１）\n",
        "\n",
        "第8回と第9回では、第7回でプログラムしたPersonクラスを利用して、**誕生日のパラドックス**（**Birthday Paradox**）をシミュレーションしてみます。\n",
        "\n",
        "## 誕生日のパラドックス　Birthday Paradox\n",
        "\n",
        "**部屋に人が集まっている。その中に同じ誕生日の人が二人以上いる確率が$\\frac 12$以上となるには、部屋の人数は何人必要か？**\n",
        "\n",
        "皆さんは、答えは何人くらいだと思いますか？\n",
        "1年は365日なので、$365 \\div 2 \\approx 183$人くらい？と思った人もいると思います。\n",
        "では、次の問題を考えてみましょう。\n",
        "\n",
        "**部屋に人が集まっている。その中に自分と同じ誕生日の人が一人以上いる確率が$\\frac 12$以上となるには、部屋の人数は何人必要か？**\n",
        "\n",
        "この問題の答えがおおよそ183人であることは、直感的に理解できると思います。\n",
        "ですので、誕生日パラドックス問題の答えは、この数字より小さい筈です。\n",
        "では、どれくらいでしょう。\n",
        "\n",
        "実は、**$\\sqrt{365} \\approx 20$人くらい**というのが答えです。\n",
        "想像したよりずっと少なくないですか？\n",
        "これが**パラドックス**と呼ばれる理由です。\n",
        "この人数は数学的に求めることができますが、ここでは、プログラムによるシミュレーションで求めて行きます。\n",
        "\n",
        "誕生日のパラドックスは、実用上非常に重要な意味を持っていて、\n",
        "例えば、暗号技術に重要な応用があります。\n",
        "皆さんは、プロックチェーンという技術を聞いたことがあると思います。\n",
        "ビットコインで用いられ、一躍有名になった技術です。\n",
        "ビットコインは、いまや、サイバー犯罪に利用されたり、\n",
        "電力を食い潰す（すでに一国の電力消費を凌ぐ電力がビットコインの生成のために浪費されています）ので、\n",
        "ブロックチェーンという名称も悪印象の方が強くなってしまい、最近では、\n",
        "分散台帳技術などと呼ばれることが多くなりました。\n",
        "ブロックチェーンでは、ハッシュ関数と呼ばれる特殊な関数、\n",
        "つまり、「同じ出力になる二つの異なる入力を計算で見つけることが非常に難しい」という\n",
        "性質を持つ関数に依存しています。\n",
        "誕生日のパラドックスは、このハッシュ関数に対する最も効率的な攻撃方法を構成する\n",
        "原理として知られているのです。\n",
        "\n",
        "まず、前回資料の演習 7-7の解答例をみてみます。\n",
        "\n",
        "### 演習 7-7\n",
        "これまでに作成したプログラムでは閏年が考慮されておらず、2月29日生まれのPersonオブジェクトは生成されない。\n",
        "4分の1の確率で閏年であるものとし、閏年も含めて、\n",
        "ランダムに決定される姓名・誕生日・血液型をもつ`Person`オブジェクトを100個生成するプログラムを作成せよ。\n",
        "\n",
        "### 解答例\n",
        "```python\n",
        "import random\n",
        "\n",
        "class Person:\n",
        "    def __init__(self, fn, gn, bm, bd, bt):\n",
        "        self.family_name = fn\n",
        "        self.given_name = gn\n",
        "        self.birth_month = bm\n",
        "        self.birth_date = bd\n",
        "        self.blood_type = bt\n",
        "    def show(self):\n",
        "        print(\"姓=\", self.family_name, \"\\t名=\", self.given_name, \"\\t誕生日=\", self.birth_month, \"月\", self.birth_date,\"日\", \"\\t血液型=\", self.blood_type)\n",
        "\n",
        "def month_date(x):\n",
        "    m = 0\n",
        "    while x > 0:\n",
        "        x -= month_len[m]\n",
        "        m += 1\n",
        "    return (m, x + month_len[m-1])\n",
        "\n",
        "bm = []\n",
        "bd = []\n",
        "for _ in range(100):\n",
        "    if random.choice([0, 1,2,3]) == 0:\n",
        "        x = random.choice(range(1, 367))\n",
        "        month_len = [31, 29, 31, 30, 31, 30, 31, 31, 30, 31, 30, 31]\n",
        "    else:\n",
        "        x = random.choice(range(1, 366))\n",
        "        month_len = [31, 28, 31, 30, 31, 30, 31, 31, 30, 31, 30, 31]\n",
        "    m, d = month_date(x)\n",
        "    bm.append(m)\n",
        "    bd.append(d)\n",
        "\n",
        "fn_pool = ['Smith', 'Johnson', 'Williams', 'Jones', 'Brown', 'Davis', 'Miller', 'Wilson', 'Moore', 'Taylor', 'Anderson', 'Thomas', 'Jackson', 'White', 'Harris', 'Martin', 'Thompson', 'Garcia', 'Martinez', 'Robiinson']\n",
        "gn_pool = ['Noah', 'Liam', 'Elijah', 'Oliver', 'James', 'Mason', 'Logan', 'Lucas', 'Mateo', 'Ethan', 'Olivia', 'Emma', 'Ava', 'Isabella', 'Mia', 'Sophia', 'Amelia', 'Charlotte', 'Luna', 'Harper']\n",
        "bt_pool = ['A', 'B', 'O', 'AB']\n",
        "\n",
        "fn = [random.choice(fn_pool) for _ in range(100)]\n",
        "gn = [random.choice(gn_pool) for _ in range(100)]\n",
        "bt = [random.choice(bt_pool) for _ in range(100)]\n",
        "persons = [Person(fn[n], gn[n], bm[n], bd[n], bt[n]) for n in range(100)]\n",
        "\n",
        "for n in range(10):\n",
        "    persons[n].show()\n",
        "```\n",
        "\n"
      ]
    },
    {
      "cell_type": "code",
      "metadata": {
        "colab": {
          "base_uri": "https://localhost:8080/"
        },
        "id": "jY7jf9BnjJ2T",
        "outputId": "fabbc5a1-a627-4e6e-a2e1-73256445d11d"
      },
      "source": [
        "import random as rnd\n",
        "\n",
        "class Person:\n",
        "  def __init__(self, fn, gn, bm, bd, bt):\n",
        "    self.family_name = fn\n",
        "    self.given_name = gn\n",
        "    self.birth_month = bm\n",
        "    self.birth_date = bd\n",
        "    self.blood_type = bt\n",
        "  def show(self):\n",
        "    print(\"姓=\", self.family_name, \"\\t名=\", self.given_name, \"\\t誕生日=\", self.birth_month, \"月\", self.birth_date,\"日\", \"\\t血液型=\", self.blood_type)\n",
        "\n",
        "def month_date(x):\n",
        "  m = 0\n",
        "  while x > 0:\n",
        "    x -= month_len[m]\n",
        "    m += 1\n",
        "  return (m, x + month_len[m-1])\n",
        "\n",
        "bm = []\n",
        "bd = []\n",
        "for _ in range(100):\n",
        "  if rnd.choice([0, 1, 2, 3]) == 0:\n",
        "    x = rnd.choice(range(1, 367))\n",
        "    month_len = [31, 29, 31, 30, 31, 30, 31, 31, 30, 31, 30, 31]\n",
        "  else:\n",
        "    x = rnd.choice(range(1, 366))\n",
        "    month_len = [31, 28, 31, 30, 31, 30, 31, 31, 30, 31, 30, 31]\n",
        "  m, d = month_date(x)\n",
        "  bm.append(m)\n",
        "  bd.append(d)\n",
        "\n",
        "fn_pool = ['Smith', 'Johnson', 'Williams', 'Jones', 'Brown', 'Davis', 'Miller', 'Wilson', 'Moore', 'Taylor', 'Anderson', 'Thomas', 'Jackson', 'White', 'Harris', 'Martin', 'Thompson', 'Garcia', 'Martinez', 'Robiinson']\n",
        "gn_pool = ['Noah', 'Liam', 'Elijah', 'Oliver', 'James', 'Mason', 'Logan', 'Lucas', 'Mateo', 'Ethan', 'Olivia', 'Emma', 'Ava', 'Isabella', 'Mia', 'Sophia', 'Amelia', 'Charlotte', 'Luna', 'Harper']\n",
        "bt_pool = ['A', 'B', 'O', 'AB']\n",
        "\n",
        "fn = [rnd.choice(fn_pool) for _ in range(100)]\n",
        "gn = [rnd.choice(gn_pool) for _ in range(100)]\n",
        "bt = [rnd.choice(bt_pool) for _ in range(100)]\n",
        "persons = [Person(fn[n], gn[n], bm[n], bd[n], bt[n]) for n in range(100)]\n",
        "\n",
        "\n",
        "for n in range(10):\n",
        "    persons[n].show()"
      ],
      "execution_count": null,
      "outputs": [
        {
          "output_type": "stream",
          "text": [
            "姓= Jones \t名= Logan \t誕生日= 4 月 3 日 \t血液型= B\n",
            "姓= Thomas \t名= Olivia \t誕生日= 9 月 3 日 \t血液型= A\n",
            "姓= Anderson \t名= Elijah \t誕生日= 6 月 27 日 \t血液型= O\n",
            "姓= Johnson \t名= Elijah \t誕生日= 3 月 30 日 \t血液型= O\n",
            "姓= Garcia \t名= Olivia \t誕生日= 12 月 29 日 \t血液型= A\n",
            "姓= Thompson \t名= Logan \t誕生日= 11 月 20 日 \t血液型= B\n",
            "姓= Taylor \t名= Sophia \t誕生日= 11 月 8 日 \t血液型= B\n",
            "姓= Garcia \t名= Isabella \t誕生日= 6 月 3 日 \t血液型= B\n",
            "姓= Garcia \t名= Logan \t誕生日= 9 月 21 日 \t血液型= O\n",
            "姓= Martinez \t名= Olivia \t誕生日= 2 月 8 日 \t血液型= B\n"
          ],
          "name": "stdout"
        }
      ]
    },
    {
      "cell_type": "markdown",
      "metadata": {
        "id": "1MVc53hluKzb"
      },
      "source": [
        "## 辞書オブジェクト\n",
        "誕生日パラドックスのシミュレーションのプログラムを作成する準備として、\n",
        "辞書オブジェクトを勉強します。\n",
        "辞書オブジェクトは、今まで使ってきたリストと同様、複数のオブジェクトを含むコンテナタイプのオブジェクトです。\n",
        "習うより慣れろで、次のプログラムを実行してみましょう。\n",
        "```python\n",
        "j2e = {\"一月\":\"January\", \"二月\":\"February\", \"三月\":\"March\", \"四月\":\"April\", \"五月\":\"May\", \"六月\":\"June\", \"七月\":\"July\", \"八月\":\"August\", \"九月\":\"September\"}\n",
        "print(j2e[\"一月\"])\n",
        "print(j2e[\"二月\"])\n",
        "print(j2e[\"三月\"])\n",
        "print(j2e[\"四月\"])\n",
        "```"
      ]
    },
    {
      "cell_type": "code",
      "metadata": {
        "colab": {
          "base_uri": "https://localhost:8080/"
        },
        "id": "oI2iyevdtEvO",
        "outputId": "5937bc91-ccbc-46f2-e590-677af1a6bf18"
      },
      "source": [
        "j2e = {\"一月\":\"January\", \"二月\":\"February\", \"三月\":\"March\", \"四月\":\"April\", \"五月\":\"May\", \"六月\":\"June\", \"七月\":\"July\", \"八月\":\"August\", \"九月\":\"September\"}\n",
        "print(j2e['一月'])\n",
        "print(j2e['二月'])\n",
        "print(j2e['三月'])\n",
        "print(j2e['四月'])"
      ],
      "execution_count": null,
      "outputs": [
        {
          "output_type": "stream",
          "text": [
            "January\n",
            "February\n",
            "March\n",
            "April\n"
          ],
          "name": "stdout"
        }
      ]
    },
    {
      "cell_type": "markdown",
      "metadata": {
        "id": "mM0XdrkKwWZj"
      },
      "source": [
        "`j2e`が辞書オブジェクトの例ですが、何故、**辞書**と呼ばれるか分かると思います。\n",
        "`j2e`という名前も**Japanese To(Two) English**からとっています。\n",
        "\n",
        "`j2e`では、例えば、日本語の文字列`\"一月\"`を、その英訳である`\"January\"`に対応づけて記憶しています。\n",
        "そして、\n",
        "```python\n",
        "j2e[\"一月\"]\n",
        "```\n",
        "とすることで、`\"一月\"`に対応づけられた文字列`\"January\"`を呼び出すことができます。\n",
        "\n",
        "リストを定義するときは、\n",
        "```python\n",
        "binary_power = [1,2,4,8,16]\n",
        "```\n",
        "のように鉤括弧`[]`を用いますが、辞書オブジェクトでは中括弧`{}`を用い、中括弧の中に、`キー:要素`をコンマ`,`で区切って羅列していきます。\n",
        "`:`は**半角のコロン**です。\n",
        "\n",
        "リストでは、`[]`の中に、リストの中での要素の番号を指定して要素を呼び出すのに対して、\n",
        "辞書オブジェクトでは、`[]`に検索のキーを指定して、対応する要素を呼び出します。\n",
        "\n",
        "```python\n",
        "binary_power = [1,2,4,8,16]\n",
        "```\n",
        "はリストですが、`binary_power[0]`は0番目の要素１を、`binary_power[1]`は1番目の要素2を、`binary_power[2]`は2番目の要素4を表します。\n",
        "\n",
        "それに対して、辞書オブジェクト`j2e`では、番号の代わりに、日本語の月名（文字列）をキーにして、対応する英語の月名を得ることができます。\n",
        "\n",
        "ところで、\n",
        "```python\n",
        "j2e[\"十月\"]\n",
        "```\n",
        "を実行すると、エラーが出る筈です。\n",
        "次のセルで実行して見てください。\n"
      ]
    },
    {
      "cell_type": "code",
      "metadata": {
        "colab": {
          "base_uri": "https://localhost:8080/",
          "height": 181
        },
        "id": "3-1_47cn0mC-",
        "outputId": "d5ec7716-a0bf-4ff4-e343-713eab781353"
      },
      "source": [
        "# j2e[\"十月\"]を実行して、エラーを確認せよ。\n",
        "j2e[\"十月\"]"
      ],
      "execution_count": null,
      "outputs": [
        {
          "output_type": "error",
          "ename": "KeyError",
          "evalue": "ignored",
          "traceback": [
            "\u001b[0;31m---------------------------------------------------------------------------\u001b[0m",
            "\u001b[0;31mKeyError\u001b[0m                                  Traceback (most recent call last)",
            "\u001b[0;32m<ipython-input-2-39770d55b4cf>\u001b[0m in \u001b[0;36m<module>\u001b[0;34m()\u001b[0m\n\u001b[1;32m      1\u001b[0m \u001b[0;31m# j2e[\"十月\"]を実行して、エラーを確認せよ。\u001b[0m\u001b[0;34m\u001b[0m\u001b[0;34m\u001b[0m\u001b[0;34m\u001b[0m\u001b[0m\n\u001b[0;32m----> 2\u001b[0;31m \u001b[0mj2e\u001b[0m\u001b[0;34m[\u001b[0m\u001b[0;34m\"十月\"\u001b[0m\u001b[0;34m]\u001b[0m\u001b[0;34m\u001b[0m\u001b[0;34m\u001b[0m\u001b[0m\n\u001b[0m",
            "\u001b[0;31mKeyError\u001b[0m: '十月'"
          ]
        }
      ]
    },
    {
      "cell_type": "markdown",
      "metadata": {
        "id": "V-jMkrjI0y-2"
      },
      "source": [
        "エラーの名前は、KeyErrorとなっています。\n",
        "これは、`\"十月\"`をキーとする要素、即ち、`\"十月\":\"October\"`が`j2e`に含まれていないことが原因です。\n",
        "次のプログラムを、以下のセルを実行してください。\n",
        "```python\n",
        "print(\"九月\" in j2e)\n",
        "print(\"十月\" in j2e)\n",
        "```"
      ]
    },
    {
      "cell_type": "code",
      "metadata": {
        "colab": {
          "base_uri": "https://localhost:8080/"
        },
        "id": "jx1ng44c1fNk",
        "outputId": "b3705e6a-ff74-45bd-ce6b-5f6309522121"
      },
      "source": [
        "print(\"九月\" in j2e)\n",
        "print(\"十月\" in j2e)"
      ],
      "execution_count": null,
      "outputs": [
        {
          "output_type": "stream",
          "text": [
            "True\n",
            "False\n"
          ],
          "name": "stdout"
        }
      ]
    },
    {
      "cell_type": "markdown",
      "metadata": {
        "id": "0kSoBZxt0buU"
      },
      "source": [
        "最初の`print(\"九月\" in j2e)`に対しては`True`が、\n",
        "次の`print(\"十月\" in j2e)`に対しては`False`が出力されたと思います。\n",
        "つまり、\n",
        "```python\n",
        "キー in 辞書オブジェクト\n",
        "```\n",
        "は論理式で、キーが辞書オブジェクトに登録されているかどうかをチェックする目的で利用できます。\n",
        "\n",
        "また、辞書型オブジェクトに現れるキーを取得することもできます。\n",
        "```python\n",
        "for m in j2e:\n",
        "  print(m)\n",
        "```\n",
        "を直下のセルで実行してください。\n",
        "`'十月'`がキーに含まれていないことが分かると思います。"
      ]
    },
    {
      "cell_type": "code",
      "metadata": {
        "colab": {
          "base_uri": "https://localhost:8080/"
        },
        "id": "7t3Dpd3UHqw8",
        "outputId": "57f11801-b88c-49cb-d088-59769a9be1b2"
      },
      "source": [
        "for m in j2e:\n",
        "  print(m)\n",
        "\n",
        "print(j2e.keys())"
      ],
      "execution_count": null,
      "outputs": [
        {
          "output_type": "stream",
          "text": [
            "一月\n",
            "二月\n",
            "三月\n",
            "四月\n",
            "五月\n",
            "六月\n",
            "七月\n",
            "八月\n",
            "九月\n",
            "dict_keys(['一月', '二月', '三月', '四月', '五月', '六月', '七月', '八月', '九月'])\n"
          ],
          "name": "stdout"
        }
      ]
    },
    {
      "cell_type": "markdown",
      "metadata": {
        "id": "ooD2b3kSIYLj"
      },
      "source": [
        "以下のプログラムを実行しても、`j2e`に登録されているキーを表示することができます。\n",
        "```python\n",
        "print(j2e.keys())\n",
        "```\n",
        "実行結果は、\n",
        "```\n",
        "dict_keys(['一月', '二月', '三月', '四月', '五月', '六月', '七月', '八月', '九月'])\n",
        "```\n",
        "となったと思います。\n",
        "`dict_keys([...])`は、`range(...)`と同様、厳密にはリストではないのですが、要素の配列を保持します。\n",
        "その証拠に、下のプログラムのように、\n",
        "`for`文の中でリストと同じように利用することができます。\n",
        "```python\n",
        "for m in j2e.keys():\n",
        "  print(m)\n",
        "```\n",
        "\n",
        "さて、辞書オブジェクト`j2e`は未完成です。\n",
        "実際、\n",
        "```python\n",
        "print(\"十月\" in j2e)\n",
        "```\n",
        "は`False`となり、`十月`がキーに含まれていないことが分かります。\n",
        "ここで、\n",
        "```python\n",
        "j2e[\"十月\"] = \"october\"\n",
        "```\n",
        "を実行した後で、再び、\n",
        "```python\n",
        "print(\"十月\" in j2e)\n",
        "```\n",
        "を実行してみましょう。\n",
        "今度は、`True`が表示された筈です。\n",
        "また、\n",
        "```python\n",
        "print(j2e[\"十月\"])\n",
        "```\n",
        "とすれば、`october`が表示されます。\n",
        "先頭の文字が小文字なので、これを大文字に直すには、もう一度、\n",
        "   ```python\n",
        "j2e[\"十月\"] = \"October\"\n",
        "```\n",
        "を実行すればOKです。   "
      ]
    },
    {
      "cell_type": "markdown",
      "metadata": {
        "id": "b-_yA_596Imb"
      },
      "source": [
        "### 演習 8-1\n",
        "`j2e`を完成させよ。"
      ]
    },
    {
      "cell_type": "code",
      "metadata": {
        "colab": {
          "base_uri": "https://localhost:8080/"
        },
        "id": "_mmGN94xtLiS",
        "outputId": "27eddfec-3501-4b5d-c487-345c544ba846"
      },
      "source": [
        "# 演習 8-１の答え\n",
        "j2e[\"十月\"] = \"october\"\n",
        "j2e[\"十一月\"] = \"november\"\n",
        "j2e[\"十二月\"] = \"december\"\n",
        "\n",
        "print(j2e.keys())"
      ],
      "execution_count": null,
      "outputs": [
        {
          "output_type": "stream",
          "text": [
            "dict_keys(['一月', '二月', '三月', '四月', '五月', '六月', '七月', '八月', '九月', '十月', '十一月', '十二月'])\n"
          ],
          "name": "stdout"
        }
      ]
    },
    {
      "cell_type": "markdown",
      "metadata": {
        "id": "63Mcmkeey5C-"
      },
      "source": [
        "### 演習 8-2\n",
        "英語の月名を日本語に翻訳する辞書オブジェクト`e2j`を定義せよ。"
      ]
    },
    {
      "cell_type": "code",
      "metadata": {
        "colab": {
          "base_uri": "https://localhost:8080/"
        },
        "id": "Gv5iUagjvTND",
        "outputId": "b3381970-c054-4044-d209-52153ea2179c"
      },
      "source": [
        "# 演習 8-2の答え\n",
        "e2j = {\"January\":\"\b一月\", \"February\":\"二\b月\", \"March\":\"\b三月\", \"April\":\"四\b月\", \"May\":\"五\b月\", \"June\":\"六\b月\", \"July\":\"七\b月\", \"August\":\"\b八月\", \"September\":\"\b九月\", \"October\":\"\b十月\", \"November\":\"十一月\", \"December\":\"\b十二月\"}\n",
        "print(e2j.keys())\n"
      ],
      "execution_count": null,
      "outputs": [
        {
          "output_type": "stream",
          "text": [
            "dict_keys(['January', 'February', 'March', 'April', 'May', 'June', 'July', 'August', 'September', 'October', 'November', 'December'])\n"
          ],
          "name": "stdout"
        }
      ]
    },
    {
      "cell_type": "markdown",
      "metadata": {
        "id": "C9U2M1p17ZYP"
      },
      "source": [
        "辞書オブジェクトのキーは文字列である必要はありません。\n",
        "なんでも大丈夫です。\n",
        "例えば、数をキーとすることも可能です。\n",
        "次のプログラムを読んで、辞書オブジェクト`count`には何が記録されるか考えてください。\n",
        "```python\n",
        "import random as rnd\n",
        "count = {}\n",
        "binary_seq = [rnd.choice([0, 1]) for _ in range(10)]\n",
        "for element in binary_seq:\n",
        "  if element in count:\n",
        "    count[element] += 1\n",
        "  else:\n",
        "    count[element] = 1\n",
        "print(count)\n",
        "```\n",
        "わかりましたか？\n",
        "```python\n",
        "  count[element] += 1\n",
        "```\n",
        "がメインパートです。\n",
        "`element`は0か１ですので、`count[element]`で、０か１をキーとした要素が指定されるわけですが、`count[element] += 1`でその要素に１を足しています。\n",
        "前にも同じようなプログラムをみましたね。\n",
        "つまり、リスト`binary_seq`に現れる0と1の個数を数え上げているのです。\n",
        "\n",
        "ところが、\n",
        "```\n",
        "count = {}\n",
        "```\n",
        "で辞書オブジェクトを初期化、即ち、空の辞書オブジェクトを`count`に指定しています。\n",
        "ですので、最初に\n",
        "```\n",
        "count[element] += 1\n",
        "```\n",
        "を実行しようとすると、`element`の値が0であっても１であっても、1を足そうとする相手の要素が存在しないので、先ほど見たKeyErrorが起きてしまいます。\n",
        "そこで、\n",
        "```\n",
        "if element in count:\n",
        "```\n",
        "が必要になるわけです。\n",
        "`element in count`が`True`、即ち、`element`がキーとして`count`に既に含まれていれば、KeyErrorは出ないので、\n",
        "```\n",
        "count[element] += 1\n",
        "```\n",
        "を実行し、\n",
        "`element in count`が`False`、即ち、`element`がキーとして`count`に含まれていなければ、\n",
        "```\n",
        "count[element] = 1\n",
        "```\n",
        "を実行します。\n",
        "この行は、例えば、`element`の値が0ならば、`0:1`を`count`に追加します。\n",
        "最初に`element`が現れた時には、カウンターの値を1に初期設定するわけです。\n",
        "つまり、\n",
        "`element`をキーとして持つ要素`count[element]`を数オブジェクト`1`にするということです。\n",
        "\n",
        "以下のコードセルで上記のプログラムを実行して、プログラムの機能を確認してください。"
      ]
    },
    {
      "cell_type": "code",
      "metadata": {
        "colab": {
          "base_uri": "https://localhost:8080/"
        },
        "id": "oudFyH5_8uJv",
        "outputId": "26f1cd66-9bed-4688-9da3-81b6bb3a0e6e"
      },
      "source": [
        "# 直前のセルのプログラムを転記して、実行結果を確認せよ。\n",
        "import random as rnd\n",
        "count = {}\n",
        "binary_seq = [rnd.choice([0, 1]) for _ in range(10)]\n",
        "print(binary_seq)\n",
        "for element in binary_seq:\n",
        "  if element in count:\n",
        "    count[element] += 1\n",
        "  else:\n",
        "    count[element] = 1\n",
        "print(count)"
      ],
      "execution_count": null,
      "outputs": [
        {
          "output_type": "stream",
          "text": [
            "[1, 1, 0, 1, 0, 1, 0, 0, 1, 0]\n",
            "{1: 5, 0: 5}\n"
          ],
          "name": "stdout"
        }
      ]
    },
    {
      "cell_type": "markdown",
      "metadata": {
        "id": "GB_eTPDYzWHY"
      },
      "source": [
        "では、誕生日のパラドックスのシミュレーションプログラムを作成して行きましょう。\n",
        "\n",
        "まず、クラス`Person`の定義に、誕生月と誕生日をつなげた文字列を返す関数`birthday`を追加します。\n",
        "例えば、一月一日生まれならば、`\"Jan1\"`を返します。\n",
        "この関数を用意する理由は、二つの`Person`オブジェクトの誕生日の比較を、一つの論理式で実行するためなのですが、それは後で分かります。\n",
        "\n",
        "```python\n",
        "class Person:\n",
        "    def __init__(self, fn, gn, bm, bd, bt):\n",
        "        self.family_name = fn\n",
        "        self.given_name = gn\n",
        "        self.birth_month = bm\n",
        "        self.birth_date = bd\n",
        "        self.blood_type = bt\n",
        "    def show(self):\n",
        "        print(\"姓=\", self.family_name, \"\\t名=\", self.given_name, \"\\t誕生日=\", self.birth_month, \"月\", self.birth_date,\"日\", \"\\t血液型=\", self.blood_type)\n",
        "    month_names = {1:'Jan', 2:'Feb', 3:'Mar', 4:'Apr', 5:'May', 6:'Jun', 7:'Jul', 8:'Aug', 9:'Sep', 10:'Oct', 11:'Nov', 12:'Dec'}\n",
        "    def birthday(self):\n",
        "        month_names = {1:'Jan', 2:'Feb', 3:'Mar', 4:'Apr', 5:'May', 6:'Jun', 7:'Jul', 8:'Aug', 9:'Sep', 10:'Oct', 11:'Nov', 12:'Dec'}\n",
        "        return(month_names[self.birth_month] + str(self.birth_date))\n",
        "```\n",
        "* 辞書`month_names`は、月の番号を省略形の月名に変換します。\n",
        "例えば、`month_names[1]`は`'Jan'`になります。\n",
        "* 関数`str()`は数字を文字に変換します。\n",
        "例えば、`str(1)`は`\"1\"`になります。\n",
        "* 文字列をつなげる（接合する）には、`+`が使えます。\n",
        "例えば、`\"To be \" + \"or not to be\"`は`\"To be or not to be\"`になります。\n",
        "\n",
        "以下のセルに、このクラス定義を書き写して、セルを実行して下さい。\n",
        "これで、このクラス定義が有効になります。\n"
      ]
    },
    {
      "cell_type": "code",
      "metadata": {
        "id": "eF4fs86I4TkW"
      },
      "source": [
        "class Person:\n",
        "    def __init__(self, fn, gn, bm, bd, bt):\n",
        "        self.family_name = fn\n",
        "        self.given_name = gn\n",
        "        self.birth_month = bm\n",
        "        self.birth_date = bd\n",
        "        self.blood_type = bt\n",
        "    def show(self):\n",
        "        print(\"姓=\", self.family_name, \"\\t名=\", self.given_name, \"\\t誕生日=\", self.birth_month, \"月\", self.birth_date,\"日\", \"\\t血液型=\", self.blood_type)\n",
        "    month_names = {1:'Jan', 2:'Feb', 3:'Mar', 4:'Apr', 5:'May', 6:'Jun', 7:'Jul', 8:'Aug', 9:'Sep', 10:'Oct', 11:'Nov', 12:'Dec'}\n",
        "    def birthday(self):\n",
        "        month_names = {1:'Jan', 2:'Feb', 3:'Mar', 4:'Apr', 5:'May', 6:'Jun', 7:'Jul', 8:'Aug', 9:'Sep', 10:'Oct', 11:'Nov', 12:'Dec'}\n",
        "        return(month_names[self.birth_month] + str(self.birth_date))"
      ],
      "execution_count": null,
      "outputs": []
    },
    {
      "cell_type": "markdown",
      "metadata": {
        "id": "1ScgBa5u5ND6"
      },
      "source": [
        "### 演習 8-3\n",
        "演習 7-7の解答例を参考に、改訂した新しい`Person`クラスを使って、ランダムに生成した100個の`Person`オブジェクトを含むリスト`persons`を生成せよ。"
      ]
    },
    {
      "cell_type": "code",
      "metadata": {
        "colab": {
          "base_uri": "https://localhost:8080/"
        },
        "id": "J4cgf6Wb45v6",
        "outputId": "bbf8cb54-e6db-4038-dbb6-d4d718287fbc"
      },
      "source": [
        "# 上のプログラムを転記して、実行結果を確認せよ。\n",
        "class Person:\n",
        "    def __init__(self, fn, gn, bm, bd, bt):\n",
        "        self.family_name = fn\n",
        "        self.given_name = gn\n",
        "        self.birth_month = bm\n",
        "        self.birth_date = bd\n",
        "        self.blood_type = bt\n",
        "    def show(self):\n",
        "        print(\"姓=\", self.family_name, \"\\t名=\", self.given_name, \"\\t誕生日=\", self.birth_month, \"月\", self.birth_date,\"日\", \"\\t血液型=\", self.blood_type)\n",
        "    month_names = {1:'Jan', 2:'Feb', 3:'Mar', 4:'Apr', 5:'May', 6:'Jun', 7:'Jul', 8:'Aug', 9:'Sep', 10:'Oct', 11:'Nov', 12:'Dec'}\n",
        "    def birthday(self):\n",
        "        month_names = {1:'Jan', 2:'Feb', 3:'Mar', 4:'Apr', 5:'May', 6:'Jun', 7:'Jul', 8:'Aug', 9:'Sep', 10:'Oct', 11:'Nov', 12:'Dec'}\n",
        "        return(month_names[self.birth_month] + str(self.birth_date))\n",
        "\n",
        "def month_date(x):\n",
        "  m = 0\n",
        "  while x > 0:\n",
        "    x -= month_len[m]\n",
        "    m += 1\n",
        "  return (m, x + month_len[m-1])\n",
        "\n",
        "bm = []\n",
        "bd = []\n",
        "for _ in range(100):\n",
        "  if rnd.choice([0, 1, 2, 3]) == 0:\n",
        "    x = rnd.choice(range(1, 367))\n",
        "    month_len = [31, 29, 31, 30, 31, 30, 31, 31, 30, 31, 30, 31]\n",
        "  else:\n",
        "    x = rnd.choice(range(1, 366))\n",
        "    month_len = [31, 28, 31, 30, 31, 30, 31, 31, 30, 31, 30, 31]\n",
        "  m, d = month_date(x)\n",
        "  bm.append(m)\n",
        "  bd.append(d)\n",
        "\n",
        "fn_pool = ['Smith', 'Johnson', 'Williams', 'Jones', 'Brown', 'Davis', 'Miller', 'Wilson', 'Moore', 'Taylor', 'Anderson', 'Thomas', 'Jackson', 'White', 'Harris', 'Martin', 'Thompson', 'Garcia', 'Martinez', 'Robiinson']\n",
        "gn_pool = ['Noah', 'Liam', 'Elijah', 'Oliver', 'James', 'Mason', 'Logan', 'Lucas', 'Mateo', 'Ethan', 'Olivia', 'Emma', 'Ava', 'Isabella', 'Mia', 'Sophia', 'Amelia', 'Charlotte', 'Luna', 'Harper']\n",
        "bt_pool = ['A', 'B', 'O', 'AB']\n",
        "\n",
        "fn = [rnd.choice(fn_pool) for _ in range(100)]\n",
        "gn = [rnd.choice(gn_pool) for _ in range(100)]\n",
        "bt = [rnd.choice(bt_pool) for _ in range(100)]\n",
        "persons = [Person(fn[n], gn[n], bm[n], bd[n], bt[n]) for n in range(100)]\n",
        "\n",
        "\n",
        "for n in range(100):\n",
        "    print(persons[n].birthday()) \n",
        "    "
      ],
      "execution_count": null,
      "outputs": [
        {
          "output_type": "stream",
          "text": [
            "Jul31\n",
            "May20\n",
            "Oct1\n",
            "Jun17\n",
            "Sep5\n",
            "Dec7\n",
            "Dec4\n",
            "Mar22\n",
            "Mar26\n",
            "Feb18\n",
            "May23\n",
            "Sep19\n",
            "May24\n",
            "Dec1\n",
            "Apr19\n",
            "Oct22\n",
            "Jan6\n",
            "Nov28\n",
            "Jul24\n",
            "Mar21\n",
            "Dec3\n",
            "Jan16\n",
            "Sep30\n",
            "May7\n",
            "Oct28\n",
            "Nov23\n",
            "Feb5\n",
            "Oct1\n",
            "Nov5\n",
            "Jun21\n",
            "Nov1\n",
            "Nov16\n",
            "Jul27\n",
            "Mar31\n",
            "Mar16\n",
            "Sep4\n",
            "Sep21\n",
            "Jul28\n",
            "Jul31\n",
            "Dec24\n",
            "Jun28\n",
            "May26\n",
            "Feb2\n",
            "Apr8\n",
            "Jan10\n",
            "Apr27\n",
            "Aug7\n",
            "Nov4\n",
            "Aug15\n",
            "Jun4\n",
            "Feb21\n",
            "Aug24\n",
            "Feb24\n",
            "Mar13\n",
            "Nov15\n",
            "Mar2\n",
            "Feb9\n",
            "Sep14\n",
            "Feb13\n",
            "Oct11\n",
            "Sep9\n",
            "Apr23\n",
            "Dec17\n",
            "Jan1\n",
            "Aug28\n",
            "Jul20\n",
            "Jul1\n",
            "Dec19\n",
            "May10\n",
            "Oct10\n",
            "Jun10\n",
            "Dec29\n",
            "Mar18\n",
            "Sep25\n",
            "Apr5\n",
            "May8\n",
            "Jan14\n",
            "Oct19\n",
            "Jun6\n",
            "Jan30\n",
            "Aug12\n",
            "Sep15\n",
            "Nov24\n",
            "Nov20\n",
            "Aug19\n",
            "Jun19\n",
            "Dec5\n",
            "Jan17\n",
            "Mar11\n",
            "Sep7\n",
            "Dec29\n",
            "Jan7\n",
            "May2\n",
            "Oct15\n",
            "Jul26\n",
            "May22\n",
            "Oct9\n",
            "Jul4\n",
            "Nov23\n",
            "Oct3\n"
          ],
          "name": "stdout"
        }
      ]
    },
    {
      "cell_type": "markdown",
      "metadata": {
        "id": "_hDSAy7-BgRb"
      },
      "source": [
        "### 演習 8-4\n",
        "演習 8-3で生成した`persons`を利用し、誕生日（例えば`'Jan1'`）の出現回数をカウントして、\n",
        "その結果を辞書オブジェクト`count`中に記録するプログラムを書け。\n",
        "例えば、一月一日生まれが10人いれば、`count`中には、`'Jan1':10`が含まれ、\n",
        "```python\n",
        "print(count['Jan1'])\n",
        "```\n",
        "の実行結果は`10`になる。\n",
        "\n",
        "#### ヒント\n",
        "この資料の0と1の出現回数をカウントするプログラムを参考にせよ。\n"
      ]
    },
    {
      "cell_type": "code",
      "metadata": {
        "colab": {
          "base_uri": "https://localhost:8080/"
        },
        "id": "QC0Ot8tU5IuM",
        "outputId": "ae38bbf1-e18c-4158-8d2f-15a2fbcc6b8b"
      },
      "source": [
        "# 演習 8-4の答え\n",
        "import random as rnd\n",
        "count = {}\n",
        "my_birthday = \"Sep1\"\n",
        "\n",
        "for p in persons:\n",
        "  if p.birthday() in count:\n",
        "    count[p.birthday()] += 1\n",
        "  else:\n",
        "    count[p.birthday()] = 1\n",
        "print(count)\n",
        "print(count.keys())"
      ],
      "execution_count": null,
      "outputs": [
        {
          "output_type": "stream",
          "text": [
            "{'Jul31': 2, 'May20': 1, 'Oct1': 2, 'Jun17': 1, 'Sep5': 1, 'Dec7': 1, 'Dec4': 1, 'Mar22': 1, 'Mar26': 1, 'Feb18': 1, 'May23': 1, 'Sep19': 1, 'May24': 1, 'Dec1': 1, 'Apr19': 1, 'Oct22': 1, 'Jan6': 1, 'Nov28': 1, 'Jul24': 1, 'Mar21': 1, 'Dec3': 1, 'Jan16': 1, 'Sep30': 1, 'May7': 1, 'Oct28': 1, 'Nov23': 2, 'Feb5': 1, 'Nov5': 1, 'Jun21': 1, 'Nov1': 1, 'Nov16': 1, 'Jul27': 1, 'Mar31': 1, 'Mar16': 1, 'Sep4': 1, 'Sep21': 1, 'Jul28': 1, 'Dec24': 1, 'Jun28': 1, 'May26': 1, 'Feb2': 1, 'Apr8': 1, 'Jan10': 1, 'Apr27': 1, 'Aug7': 1, 'Nov4': 1, 'Aug15': 1, 'Jun4': 1, 'Feb21': 1, 'Aug24': 1, 'Feb24': 1, 'Mar13': 1, 'Nov15': 1, 'Mar2': 1, 'Feb9': 1, 'Sep14': 1, 'Feb13': 1, 'Oct11': 1, 'Sep9': 1, 'Apr23': 1, 'Dec17': 1, 'Jan1': 1, 'Aug28': 1, 'Jul20': 1, 'Jul1': 1, 'Dec19': 1, 'May10': 1, 'Oct10': 1, 'Jun10': 1, 'Dec29': 2, 'Mar18': 1, 'Sep25': 1, 'Apr5': 1, 'May8': 1, 'Jan14': 1, 'Oct19': 1, 'Jun6': 1, 'Jan30': 1, 'Aug12': 1, 'Sep15': 1, 'Nov24': 1, 'Nov20': 1, 'Aug19': 1, 'Jun19': 1, 'Dec5': 1, 'Jan17': 1, 'Mar11': 1, 'Sep7': 1, 'Jan7': 1, 'May2': 1, 'Oct15': 1, 'Jul26': 1, 'May22': 1, 'Oct9': 1, 'Jul4': 1, 'Oct3': 1}\n",
            "dict_keys(['Jul31', 'May20', 'Oct1', 'Jun17', 'Sep5', 'Dec7', 'Dec4', 'Mar22', 'Mar26', 'Feb18', 'May23', 'Sep19', 'May24', 'Dec1', 'Apr19', 'Oct22', 'Jan6', 'Nov28', 'Jul24', 'Mar21', 'Dec3', 'Jan16', 'Sep30', 'May7', 'Oct28', 'Nov23', 'Feb5', 'Nov5', 'Jun21', 'Nov1', 'Nov16', 'Jul27', 'Mar31', 'Mar16', 'Sep4', 'Sep21', 'Jul28', 'Dec24', 'Jun28', 'May26', 'Feb2', 'Apr8', 'Jan10', 'Apr27', 'Aug7', 'Nov4', 'Aug15', 'Jun4', 'Feb21', 'Aug24', 'Feb24', 'Mar13', 'Nov15', 'Mar2', 'Feb9', 'Sep14', 'Feb13', 'Oct11', 'Sep9', 'Apr23', 'Dec17', 'Jan1', 'Aug28', 'Jul20', 'Jul1', 'Dec19', 'May10', 'Oct10', 'Jun10', 'Dec29', 'Mar18', 'Sep25', 'Apr5', 'May8', 'Jan14', 'Oct19', 'Jun6', 'Jan30', 'Aug12', 'Sep15', 'Nov24', 'Nov20', 'Aug19', 'Jun19', 'Dec5', 'Jan17', 'Mar11', 'Sep7', 'Jan7', 'May2', 'Oct15', 'Jul26', 'May22', 'Oct9', 'Jul4', 'Oct3'])\n"
          ],
          "name": "stdout"
        }
      ]
    },
    {
      "cell_type": "markdown",
      "metadata": {
        "id": "Aotl44wiC_7G"
      },
      "source": [
        "### 演習 8-5\n",
        "演習 8-4のプログラムで作成された辞書オブジェクト`count`中に、2回以上現れる誕生日があれば`True`を返し、どの誕生日も1回しか現れない場合は`False`を返す、関数\n",
        "```python\n",
        "def hasConflict:\n",
        "```\n",
        "のプログラムを書け。\n",
        "Conflictは英語で「衝突」の意味で、偶々、誕生日が一致（衝突）する現象を指す。\n",
        "\n",
        "#### ヒント\n",
        "`count.keys()`を用いて`count`に現れるキーを列挙して、`for month in count.keys():`のループ内で、\n",
        "```python \n",
        "count[month] > 1\n",
        "```\n",
        "を一つずつチェックせよ。"
      ]
    },
    {
      "cell_type": "code",
      "metadata": {
        "colab": {
          "base_uri": "https://localhost:8080/"
        },
        "id": "MWKjY47GB5op",
        "outputId": "574e4454-18fe-4ca2-e19f-0f681fb0aa60"
      },
      "source": [
        "# 演習 8-5の答え\n",
        "def hasConflict(dictionary):\n",
        "  for date in dictionary.keys():\n",
        "    return dictionary[date]>1\n",
        "hasConflict(count)"
      ],
      "execution_count": null,
      "outputs": [
        {
          "output_type": "execute_result",
          "data": {
            "text/plain": [
              "True"
            ]
          },
          "metadata": {
            "tags": []
          },
          "execution_count": 109
        }
      ]
    }
  ]
}