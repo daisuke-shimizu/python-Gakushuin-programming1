{
  "nbformat": 4,
  "nbformat_minor": 5,
  "metadata": {
    "kernelspec": {
      "display_name": "Python 3",
      "language": "python",
      "name": "python3"
    },
    "language_info": {
      "codemirror_mode": {
        "name": "ipython",
        "version": 3
      },
      "file_extension": ".py",
      "mimetype": "text/x-python",
      "name": "python",
      "nbconvert_exporter": "python",
      "pygments_lexer": "ipython3",
      "version": "3.8.2"
    },
    "colab": {
      "name": "Programming1-13.ipynb",
      "provenance": [],
      "collapsed_sections": [],
      "include_colab_link": true
    }
  },
  "cells": [
    {
      "cell_type": "markdown",
      "metadata": {
        "id": "view-in-github",
        "colab_type": "text"
      },
      "source": [
        "<a href=\"https://colab.research.google.com/github/daisuke-shimizu/python-Gakushuin-programming1/blob/main/Programming1_13.ipynb\" target=\"_parent\"><img src=\"https://colab.research.google.com/assets/colab-badge.svg\" alt=\"Open In Colab\"/></a>"
      ]
    },
    {
      "cell_type": "markdown",
      "metadata": {
        "id": "0996a0ff"
      },
      "source": [
        "# 第13講 モンテカルロシミュレーションによる三目並べ\n",
        "\n",
        "第12講では、三目並べの盤面を、3行3列のNdarrayで表現する方法を紹介しました。\n",
        "例えば、\n",
        "\n",
        "$$\n",
        "\\begin{matrix}\n",
        "\\bigcirc & & \\times\\\\\n",
        " & \\bigcirc & \\bigcirc\\\\\n",
        "\\times & \\times & \\times\\\\\n",
        "\\end{matrix}\n",
        "$$\n",
        "\n",
        "のような盤面は、\n",
        "\n",
        "$$\n",
        "\\begin{bmatrix}\n",
        "1 & 0 & -1\\\\\n",
        "0 & 1 & 1\\\\\n",
        "-1 & -1 & -1\\\\\n",
        "\\end{bmatrix}\n",
        "$$\n",
        "\n",
        "と3行3列の行列で表され、この行列は次のNdarrayで表すことができます。\n",
        "\n",
        "```python\n",
        "import numpy as np\n",
        "board = np.array([[1,0,-1], [0,1,1], [-1,-1,-1]])\n",
        "```\n",
        "また、三目並べの盤面が表現するNdarrayを引数として、\n",
        "勝敗を判定する`judge`関数を以下のように定義しました。\n",
        "\n",
        "```python\n",
        "def judge(b):\n",
        "    for r in range(3):\n",
        "        p = np.sum(b[r, :])\n",
        "        if p == 3:\n",
        "            return 1 # 後手勝ち\n",
        "        if p == -3:\n",
        "            return -1 # 先手勝ち\n",
        "    for r in range(3):\n",
        "        p = np.sum(b[:, r])\n",
        "        if p == 3:\n",
        "            return 1 # 後手勝ち\n",
        "        if p == -3:\n",
        "            return -1 # 先手勝ち\n",
        "    p = np.sum(np.diag(b))\n",
        "    if p == 3:\n",
        "        return 1\n",
        "    if p == -3:\n",
        "        return -1\n",
        "    p = np.sum(np.diag(np.fliplr(b)))\n",
        "    if p == 3:\n",
        "        return 1\n",
        "    if p == -3:\n",
        "        return -1\n",
        "    return 0\n",
        "```\n",
        "`judge`関数の返り値は、引数であるNdarrayが表す盤面によって、以下のようになります。\n",
        "- $\\bigcirc$（行列中では$1$）の勝ちであれば、$1$\n",
        "- $\\times$（行列中では$-1$）の勝ちであれば、$-1$\n",
        "- 勝敗がついていなければ、$0$\n",
        "\n",
        "上記の盤面の例では、$\\times$の勝ちですので、`judge(board)`は$-1$を返します。\n",
        "\n",
        "また、第5講では、モンテカルロシミュレーションについて学びました。\n",
        "モンテカルロシミュレーションは、ランダムな試行を多数回実行し、\n",
        "その結果から予測を行うタイプのシミュレーションです。\n",
        "第5講では、正方形内に膨大な数の点をランダムに発生させ、円周率の推定を行いました。\n",
        "\n",
        "モンテカルロシミュレーションは、人工知能の実現においても重要な技術の一つであり、\n",
        "囲碁や将棋の人工知能ソフトは、モンテカルロシミュレーションを利用しています。\n",
        "\n",
        "この講では、人間と対戦する三目並べのプログラムを、モンテカルロシミュレーションを使って実装します。\n",
        "\n",
        "この授業では、三目並べのプログラムの作成に必要となるPythonの知識について述べ、\n",
        "三目並べプログラムのプロトタイプを作成するところまでをガイドします。\n",
        "皆さんは、手元にダウンロードしたこのノートブック（.ipynbファイル）上で、\n",
        "プロトタイプの実装までを完了してください。\n",
        "実装したプロトタイプは、課題として、提出して下さい。\n",
        "\n",
        "更に余力があれば、プロトタイプの改良を行い、改良したプログラムと、改良点の説明を、\n",
        "ノートブックに記載して下さい。\n",
        "改良は加点の対象とします。\n",
        "\n"
      ],
      "id": "0996a0ff"
    },
    {
      "cell_type": "markdown",
      "metadata": {
        "id": "cc2584b3"
      },
      "source": [
        "## Pythonについてのいくつかの補足\n",
        "### タプル\n",
        "タプルは、要素の並びという点で、リストと非常によく似ています。\n",
        "表示上は、リストが、要素を四角括弧`[ ]`で囲むのに対し、\n",
        "タプルでは、丸括弧`( )`で囲みます。\n",
        "```python\n",
        "a = [0, 1, 2]\n",
        "b = (0, 1, 2)\n",
        "print(\"a[0] = \", a[0])\n",
        "print(\"a[1] = \", a[1])\n",
        "print(\"a[2] = \", a[2])\n",
        "print(\"b[0] = \", b[0])\n",
        "print(\"b[1] = \", b[1])\n",
        "print(\"b[2] = \", b[2])\n",
        "```"
      ],
      "id": "cc2584b3"
    },
    {
      "cell_type": "code",
      "metadata": {
        "colab": {
          "base_uri": "https://localhost:8080/"
        },
        "id": "f2f02f49",
        "outputId": "9bafb828-3343-4b32-9073-1616cb5f7138"
      },
      "source": [
        "a = [0, 1, 2]\n",
        "b = (0, 1, 2) # タプル\n",
        "print(\"a[0] = \", a[0])\n",
        "print(\"a[1] = \", a[1])\n",
        "print(\"a[2] = \", a[2])\n",
        "print(\"b[0] = \", b[0])\n",
        "print(\"b[1] = \", b[1])\n",
        "print(\"b[2] = \", b[2])\n",
        "\n",
        "# そのオブジェクトが変更可能かそうではないか"
      ],
      "id": "f2f02f49",
      "execution_count": 6,
      "outputs": [
        {
          "output_type": "stream",
          "text": [
            "a[0] =  0\n",
            "a[1] =  1\n",
            "a[2] =  2\n",
            "b[0] =  0\n",
            "b[1] =  1\n",
            "b[2] =  2\n"
          ],
          "name": "stdout"
        }
      ]
    },
    {
      "cell_type": "markdown",
      "metadata": {
        "id": "4eeadf56"
      },
      "source": [
        "リストとタプルの最も重要な違いは、リストは値も長さも変更可能であるのに対し、\n",
        "タプルは生成時から一切の変更ができないという点です。\n",
        "例えば、リスト`a`に対する以下のプログラムは、いずれの行も正しく動作します。\n",
        "```python\n",
        "a.append(4)\n",
        "print(a)\n",
        "a[3] = 3\n",
        "print(a)\n",
        "```"
      ],
      "id": "4eeadf56"
    },
    {
      "cell_type": "code",
      "metadata": {
        "colab": {
          "base_uri": "https://localhost:8080/"
        },
        "id": "7339360b",
        "outputId": "ea0bf8ba-effb-4bd9-eec2-7bcf40077dff"
      },
      "source": [
        "a = [0, 1, 2]\n",
        "a.append(4)\n",
        "print(a)\n",
        "a[3] = 3\n",
        "print(a)"
      ],
      "id": "7339360b",
      "execution_count": 3,
      "outputs": [
        {
          "output_type": "stream",
          "text": [
            "[0, 1, 2, 4]\n",
            "[0, 1, 2, 3]\n"
          ],
          "name": "stdout"
        }
      ]
    },
    {
      "cell_type": "markdown",
      "metadata": {
        "id": "efcddb59"
      },
      "source": [
        "一方、タプル`b`に関する次のプログラムは、どれもエラーになります。\n",
        "```python\n",
        "b.append(4)\n",
        "```\n",
        "```python\n",
        "b[2] = 3\n",
        "```"
      ],
      "id": "efcddb59"
    },
    {
      "cell_type": "code",
      "metadata": {
        "colab": {
          "base_uri": "https://localhost:8080/",
          "height": 181
        },
        "id": "0b3b6b9b",
        "outputId": "254282c6-0fee-4588-eb18-5b82edc0d4a0"
      },
      "source": [
        "b.append(4)\n",
        "b[2] = 3"
      ],
      "id": "0b3b6b9b",
      "execution_count": 5,
      "outputs": [
        {
          "output_type": "error",
          "ename": "AttributeError",
          "evalue": "ignored",
          "traceback": [
            "\u001b[0;31m---------------------------------------------------------------------------\u001b[0m",
            "\u001b[0;31mAttributeError\u001b[0m                            Traceback (most recent call last)",
            "\u001b[0;32m<ipython-input-5-2dc12b58bf78>\u001b[0m in \u001b[0;36m<module>\u001b[0;34m()\u001b[0m\n\u001b[0;32m----> 1\u001b[0;31m \u001b[0mb\u001b[0m\u001b[0;34m.\u001b[0m\u001b[0mappend\u001b[0m\u001b[0;34m(\u001b[0m\u001b[0;36m4\u001b[0m\u001b[0;34m)\u001b[0m\u001b[0;34m\u001b[0m\u001b[0;34m\u001b[0m\u001b[0m\n\u001b[0m\u001b[1;32m      2\u001b[0m \u001b[0mb\u001b[0m\u001b[0;34m[\u001b[0m\u001b[0;36m2\u001b[0m\u001b[0;34m]\u001b[0m \u001b[0;34m=\u001b[0m \u001b[0;36m3\u001b[0m\u001b[0;34m\u001b[0m\u001b[0;34m\u001b[0m\u001b[0m\n",
            "\u001b[0;31mAttributeError\u001b[0m: 'tuple' object has no attribute 'append'"
          ]
        }
      ]
    },
    {
      "cell_type": "markdown",
      "metadata": {
        "id": "0b9b43b2"
      },
      "source": [
        "### 文字列リストの接合\n",
        "文字列のリストが与えられた時、任意に指定する区切り文字列を使って、\n",
        "リストの要素を接合する便利な方法があります。\n",
        "論より証拠で、次のプログラムを実行してみて下さい。\n",
        "```python\n",
        "a = [\"This\", \"is\", \"a\", \"pen.\"]\n",
        "print(\" \".join(a))\n",
        "```"
      ],
      "id": "0b9b43b2"
    },
    {
      "cell_type": "code",
      "metadata": {
        "colab": {
          "base_uri": "https://localhost:8080/"
        },
        "id": "bff88e42",
        "outputId": "b8c2d34b-f819-44f3-bbb1-924d0dbb252f"
      },
      "source": [
        "a = [\"This\", \"is\", \"a\", \"pen.\"]\n",
        "print(\" \".join(a))"
      ],
      "id": "bff88e42",
      "execution_count": 7,
      "outputs": [
        {
          "output_type": "stream",
          "text": [
            "This is a pen.\n"
          ],
          "name": "stdout"
        }
      ]
    },
    {
      "cell_type": "markdown",
      "metadata": {
        "id": "e0417652"
      },
      "source": [
        "区切り文字列は、スペース`\" \"`ですが、これは任意に指定することができます。\n",
        "例えば、\n",
        "```python\n",
        "a = [\"This\", \"is\", \"a\", \"pen.\"]\n",
        "print(\"_\".join(a))\n",
        "```\n",
        "とすると、区切りはアンダースコア`_`になります。"
      ],
      "id": "e0417652"
    },
    {
      "cell_type": "code",
      "metadata": {
        "colab": {
          "base_uri": "https://localhost:8080/"
        },
        "id": "44ba828b",
        "outputId": "58048dc5-2094-4199-ffa8-bcdfd8c0d4a6"
      },
      "source": [
        "a = [\"This\", \"is\", \"a\", \"pen.\"]\n",
        "print(\"_\".join(a))"
      ],
      "id": "44ba828b",
      "execution_count": 69,
      "outputs": [
        {
          "output_type": "stream",
          "text": [
            "This_is_a_pen.\n"
          ],
          "name": "stdout"
        }
      ]
    },
    {
      "cell_type": "markdown",
      "metadata": {
        "id": "8072dbbc"
      },
      "source": [
        "`join()`と対で覚えておいた方が良い便利な関数として、`split()`があります。\n",
        "`split()`は`join()`の逆で、長い文字列が与えられた時に、\n",
        "文字列を指定された区切り文字列で分割し、分割の結果をリストとして返します。\n",
        "```python\n",
        "b = \"This is a pen.\"\n",
        "print(b.split(' '))\n",
        "```"
      ],
      "id": "8072dbbc"
    },
    {
      "cell_type": "code",
      "metadata": {
        "colab": {
          "base_uri": "https://localhost:8080/"
        },
        "id": "eb11bae9",
        "outputId": "62f5e500-1001-483b-916b-54b948dbb8b1"
      },
      "source": [
        "b = \"This is a pen.\"\n",
        "print(b.split(' '))"
      ],
      "id": "eb11bae9",
      "execution_count": 70,
      "outputs": [
        {
          "output_type": "stream",
          "text": [
            "['This', 'is', 'a', 'pen.']\n"
          ],
          "name": "stdout"
        }
      ]
    },
    {
      "cell_type": "markdown",
      "metadata": {
        "id": "9719036d"
      },
      "source": [
        "### オブジェクトのコピー\n",
        "次のプログラムの実行結果は、何になると思いますか？\n",
        "`[0, 1, 2]`でしょうか？\n",
        "`[0, 1, 2, 3]`でしょうか？\n",
        "```python\n",
        "a = [0, 1, 2]\n",
        "b = a\n",
        "a.append(3)\n",
        "print(b)\n",
        "```"
      ],
      "id": "9719036d"
    },
    {
      "cell_type": "code",
      "metadata": {
        "colab": {
          "base_uri": "https://localhost:8080/"
        },
        "id": "0145647d",
        "outputId": "14003783-678a-4788-a70d-4e86e26c6435"
      },
      "source": [
        "a = [0, 1, 2]\n",
        "b = a\n",
        "a.append(3)\n",
        "print(b)"
      ],
      "id": "0145647d",
      "execution_count": 71,
      "outputs": [
        {
          "output_type": "stream",
          "text": [
            "[0, 1, 2, 3]\n"
          ],
          "name": "stdout"
        }
      ]
    },
    {
      "cell_type": "markdown",
      "metadata": {
        "id": "390752f6"
      },
      "source": [
        "以前の資料でも説明しましたが、Pythonにおいて、\n",
        "**`名前=オブジェクト`はオブジェクトに名前をつける**という意味です。\n",
        "```python\n",
        "a = [0, 1, 2]\n",
        "```\n",
        "は、`[0, 1, 2]`という内容を持つリストオブジェクトに、`a`という名前をつけています。\n",
        "名前をつけたので、これから先は、このオブジェクトを`a`という名前で参照することができます。\n",
        "更に、\n",
        "```python\n",
        "b = a\n",
        "```\n",
        "は、名前`a`が指し示すオブジェクト（`[0, 1, 2]`を内容に持ちます）に、\n",
        "追加で、`b`という名前をつけるという意味です。\n",
        "したがって、二つの名前`a`と`b`は、いずれも、同じオブジェクトを指しています。\n",
        "ですので、\n",
        "```python\n",
        "a.append(3)\n",
        "```\n",
        "は、名前`a`が指し示しているオブジェクトに、数`3`を追加しますが、\n",
        "`b`は同じオブジェクトの別名ですので、\n",
        "```python\n",
        "print(b)\n",
        "```\n",
        "を実行すると、`[0, 1, 2, 3]`が表示されるわけです。\n",
        "\n",
        "`b = a`で本当にしたいことが、\n",
        "**`a`と同じ内容を持つオブジェクトをコピーして、\n",
        "コピーによって新しく生成されたオブジェクトに`b`という名前をつける**\n",
        "ということでしたら、\n",
        "明示的に、`a`が指し示すオブジェクトのコピーを作らなければなりません。\n",
        "```python\n",
        "b = a.copy()\n",
        "```\n",
        "とすれば、`a.copy()`により、\n",
        "`a`が指し示すオブジェクトと同じ内容（`[0, 1, 2]`）を持つオブジェクトのコピーに対して、\n",
        "名前`b`をつけることができます。\n",
        "`b = a`を`b = a.copy()`に置き換えて、同じプログラムを試してみて下さい。"
      ],
      "id": "390752f6"
    },
    {
      "cell_type": "code",
      "metadata": {
        "colab": {
          "base_uri": "https://localhost:8080/"
        },
        "id": "2897f818",
        "outputId": "10956530-9513-481d-fe51-b30fc19a0bf6"
      },
      "source": [
        "a = [0, 1, 2]\n",
        "b = a.copy()\n",
        "a.append(3)\n",
        "print(b)"
      ],
      "id": "2897f818",
      "execution_count": 72,
      "outputs": [
        {
          "output_type": "stream",
          "text": [
            "[0, 1, 2]\n"
          ],
          "name": "stdout"
        }
      ]
    },
    {
      "cell_type": "markdown",
      "metadata": {
        "id": "668bf349"
      },
      "source": [
        "この名前付のルールは、Pythonがオブジェクト指向プログラミング言語であることに起因するのですが、\n",
        "オブジェクト指向ではないCなど、普及したプログラミング言語との互換性と、\n",
        "プログラミングの利便性を考えて、\n",
        "数や文字列などのプリミティブなオブジェクトでは、\n",
        "`copy()`を明示的に使用しなくても、コピーが作成されます。\n",
        "\n",
        "次のプログラムの実行結果は、何になると思いますか？\n",
        "`0`でしょうか？\n",
        "`1`でしょうか？\n",
        "\n",
        "```python\n",
        "a = 0\n",
        "b = a\n",
        "a += 1\n",
        "print(a)\n",
        "print(b)\n",
        "```"
      ],
      "id": "668bf349"
    },
    {
      "cell_type": "code",
      "metadata": {
        "colab": {
          "base_uri": "https://localhost:8080/"
        },
        "id": "96436ea0",
        "outputId": "266a17ca-97a5-484f-97d0-f65cc8b69e97"
      },
      "source": [
        "a = 0\n",
        "b = a\n",
        "a += 1\n",
        "print(a)\n",
        "print(b)"
      ],
      "id": "96436ea0",
      "execution_count": 73,
      "outputs": [
        {
          "output_type": "stream",
          "text": [
            "1\n",
            "0\n"
          ],
          "name": "stdout"
        }
      ]
    },
    {
      "cell_type": "markdown",
      "metadata": {
        "id": "1c65099f"
      },
      "source": [
        "次のプログラムも試してみて下さい。\n",
        "```python\n",
        "a = \"abc\"\n",
        "b = a\n",
        "a += 'd'\n",
        "print(a)\n",
        "print(b)\n",
        "```"
      ],
      "id": "1c65099f"
    },
    {
      "cell_type": "code",
      "metadata": {
        "colab": {
          "base_uri": "https://localhost:8080/"
        },
        "id": "bfc82dc6",
        "outputId": "5158cee6-6ab1-42b9-8e16-177dccf969ce"
      },
      "source": [
        "a = \"abc\"\n",
        "b = a\n",
        "a += 'd'\n",
        "print(a)\n",
        "print(b)"
      ],
      "id": "bfc82dc6",
      "execution_count": 74,
      "outputs": [
        {
          "output_type": "stream",
          "text": [
            "abcd\n",
            "abc\n"
          ],
          "name": "stdout"
        }
      ]
    },
    {
      "cell_type": "markdown",
      "metadata": {
        "id": "e68ca7fc"
      },
      "source": [
        "### 最大値・最小値\n",
        "リストの要素の最大値・最小値は、`max()`と`min()`の二つの関数で求めることができます。\n",
        "```python\n",
        "a = [3, 1, 4, 1, 5, 9, 2]\n",
        "print(max(a))\n",
        "print(min(a))\n",
        "```"
      ],
      "id": "e68ca7fc"
    },
    {
      "cell_type": "code",
      "metadata": {
        "colab": {
          "base_uri": "https://localhost:8080/"
        },
        "id": "32563b3b",
        "outputId": "cfa87085-e352-464b-c61d-b801c3b7cb71"
      },
      "source": [
        "a = [3, 1, 4, 1, 5, 9, 2]\n",
        "print(max(a))\n",
        "print(min(a))"
      ],
      "id": "32563b3b",
      "execution_count": 8,
      "outputs": [
        {
          "output_type": "stream",
          "text": [
            "9\n",
            "1\n"
          ],
          "name": "stdout"
        }
      ]
    },
    {
      "cell_type": "markdown",
      "metadata": {
        "id": "dbad632b"
      },
      "source": [
        "では、`a`の要素$x$で、関数値$f(x)$を最大・最小にする$x$を求めましょう。\n",
        "```python\n",
        "def f(x):\n",
        "    return (x-5)**2\n",
        "\n",
        "print(max(a, key=f))\n",
        "print(min(a, key=f))\n",
        "```"
      ],
      "id": "dbad632b"
    },
    {
      "cell_type": "code",
      "metadata": {
        "scrolled": true,
        "colab": {
          "base_uri": "https://localhost:8080/"
        },
        "id": "53249d15",
        "outputId": "a5c3ee9a-93b8-4f0a-df20-64efd94a76df"
      },
      "source": [
        "def f(x):\n",
        "    return (x-5)**2\n",
        " \n",
        "print(max(a, key=f))\n",
        "print(min(a, key=f))"
      ],
      "id": "53249d15",
      "execution_count": 9,
      "outputs": [
        {
          "output_type": "stream",
          "text": [
            "1\n",
            "5\n"
          ],
          "name": "stdout"
        }
      ]
    },
    {
      "cell_type": "markdown",
      "metadata": {
        "id": "322f7987"
      },
      "source": [
        "別の例を見てみましょう。\n",
        "リスト`b`の要素はリストで、平均が最大・最小となる要素（リスト）を求めます。\n",
        "```python\n",
        "import numpy as np\n",
        "b = [[3,1,4], [1,5,9], [2,6,5,3], [5,8]]\n",
        "print([np.average(x) for x in b])\n",
        "print(max(b, key=np.average))\n",
        "print(min(b, key=np.average))\n",
        "```"
      ],
      "id": "322f7987"
    },
    {
      "cell_type": "code",
      "metadata": {
        "colab": {
          "base_uri": "https://localhost:8080/"
        },
        "id": "7ff7a21b",
        "outputId": "f7e88e03-0eb4-4739-d710-0c09a5a435b0"
      },
      "source": [
        "import numpy as np\n",
        "b = [[3,1,4], [1,5,9], [2,6,5,3], [5,8]]\n",
        "print([np.average(x) for x in b])\n",
        "print(max(b, key=np.average))\n",
        "print(min(b, key=np.average))"
      ],
      "id": "7ff7a21b",
      "execution_count": 10,
      "outputs": [
        {
          "output_type": "stream",
          "text": [
            "[2.6666666666666665, 5.0, 4.0, 6.5]\n",
            "[5, 8]\n",
            "[3, 1, 4]\n"
          ],
          "name": "stdout"
        }
      ]
    },
    {
      "cell_type": "markdown",
      "metadata": {
        "id": "c778d471"
      },
      "source": [
        "辞書オブジェクト\n",
        "```python\n",
        "c = {0:3, 1:1, 2:4, 3:1, 4:5, 5:9, 6:2}\n",
        "```\n",
        "に対して、キーから値を得るには、例えば、`c[0]`とすれば良いのですが、\n",
        "関数`c.get()`を用いることもできます。\n",
        "つまり、`c[0]`でも、`c.get(0)`でも、同じ結果`3`を得ることができます。\n",
        "\n",
        "`c.get`関数を使えば、値がそれぞれ最大・最小となるキーは、次のプログラムで求めることができます。\n",
        "```python\n",
        "print(max(c, key=c.get))\n",
        "print(min(c, key=c.get))\n",
        "```"
      ],
      "id": "c778d471"
    },
    {
      "cell_type": "code",
      "metadata": {
        "colab": {
          "base_uri": "https://localhost:8080/"
        },
        "id": "22befb80",
        "outputId": "4fbfa822-5f73-48c5-a18a-3c7f72c74ca7"
      },
      "source": [
        "c = {0:3, 1:1, 2:4, 3:1, 4:5, 5:9, 6:2}\n",
        "\n",
        "print(max(c, key=c.get))\n",
        "print(min(c, key=c.get))"
      ],
      "id": "22befb80",
      "execution_count": 11,
      "outputs": [
        {
          "output_type": "stream",
          "text": [
            "5\n",
            "1\n"
          ],
          "name": "stdout"
        }
      ]
    },
    {
      "cell_type": "markdown",
      "metadata": {
        "id": "89c0a198"
      },
      "source": [
        "## 三目並べプログラムの作成\n",
        "いよいよ、人間と対戦する三目並べのプログラムを作成していきます。\n",
        "以下では、プログラムの完成に至るまでのステップをガイドします。\n",
        "\n",
        "### 盤面Ndarrayの表示\n",
        "盤面を表現するNdarrayの表示から盤面を理解することはできますが、\n",
        "見やすいとは言えないので、\n",
        "Ndarrayを引数として、盤面を見やすく表示する関数`show`を作成します。\n",
        "\n",
        "```python\n",
        "board = np.array([[1,0,-1], [0,1,1], [-1,-1,-1]])\n",
        "show(board)\n",
        "```\n",
        "によって、以下を表示させることが目的です。\n",
        "\n",
        "$$\n",
        "\\begin{matrix}\n",
        "& 0 & 1 & 2\\\\\n",
        "0 & \\rm O & & \\rm X\\\\\n",
        "1 & & \\rm O & \\rm O\\\\\n",
        "2 & \\rm X & \\rm X & \\rm X\\\\\n",
        "\\end{matrix}\n",
        "$$"
      ],
      "id": "89c0a198"
    },
    {
      "cell_type": "code",
      "metadata": {
        "colab": {
          "base_uri": "https://localhost:8080/"
        },
        "id": "d618a00f",
        "outputId": "7142b62a-3eea-4202-f5f4-6457c69d4805"
      },
      "source": [
        "def convert(x):\n",
        "  if x == 1:\n",
        "    return 'O'\n",
        "  elif x == -1:\n",
        "    return 'X'\n",
        "  else:\n",
        "    return ' '\n",
        "\n",
        "def show(b):\n",
        "  print(\"  0 1 2\")\n",
        "  for i in range(3):\n",
        "    print(i, ' '.join([convert(x) for x in b[i]]))\n",
        "\n",
        "\n",
        "board = np.array([[1,0,-1], [0,1,1], [-1,-1,-1]])\n",
        "print(board)\n",
        "show(board)"
      ],
      "id": "d618a00f",
      "execution_count": 13,
      "outputs": [
        {
          "output_type": "stream",
          "text": [
            "[[ 1  0 -1]\n",
            " [ 0  1  1]\n",
            " [-1 -1 -1]]\n",
            "  0 1 2\n",
            "0 O   X\n",
            "1   O O\n",
            "2 X X X\n"
          ],
          "name": "stdout"
        }
      ]
    },
    {
      "cell_type": "markdown",
      "metadata": {
        "id": "86b60bec"
      },
      "source": [
        "### 着手可能なマス目の列挙\n",
        "モンテカルロシミュレーションでは、\n",
        "まだ着手がされていない（$\\bigcirc$・$\\times$のいずれもが入力されていない）マス目をランダムに選んで、\n",
        "勝負がつくか、全てのマス目が埋まるまで、交互に$\\bigcirc$と$\\times$を埋めていきます。\n",
        "そのため、現在どのマス目に新たに印をつけられるか、知る手段が必要になります。\n",
        "\n",
        "盤面を表すNdarrayを引数として、成分が0の位置を列挙する関数`blank`を作成します。\n",
        "成分0の要素の位置は、行番号と列番号のタプルで表現します。\n",
        "したがって、`blank`の返り値はタプルのリストです。\n",
        "\n",
        "```python\n",
        "board = np.array([[1,0,-1], [0,1,1], [-1,-1,-1]])\n",
        "blank(board)\n",
        "```\n",
        "を実行すると、次のリストを得ます。\n",
        "```python\n",
        "[(0, 1), (1, 0)]\n",
        "```"
      ],
      "id": "86b60bec"
    },
    {
      "cell_type": "code",
      "metadata": {
        "colab": {
          "base_uri": "https://localhost:8080/"
        },
        "id": "3de04cc6",
        "outputId": "0147bf41-0c45-4646-c15c-976ee80f3124"
      },
      "source": [
        "def blank(b):\n",
        "  s = []\n",
        "  for i in range(3):\n",
        "    for j in range(3):\n",
        "      if b[i, j] == 0:\n",
        "        s.append((i, j))\n",
        "  return s\n",
        "print(blank(board))"
      ],
      "id": "3de04cc6",
      "execution_count": 17,
      "outputs": [
        {
          "output_type": "stream",
          "text": [
            "[(0, 1), (1, 0)]\n"
          ],
          "name": "stdout"
        }
      ]
    },
    {
      "cell_type": "markdown",
      "metadata": {
        "id": "ba8b100a"
      },
      "source": [
        "### ランダムな着手\n",
        "次の手順をプログラミングして下さい。\n",
        "\n",
        "1. 現在の盤面がNdarray`b`で表されているものとして、\n",
        "`s = blank(b)`からランダムにマス目を選びます。\n",
        "1. 選んだマス目に着手して、`b`と`s`を更新します。\n",
        "1. `judge(b)`により、勝敗を判定します。"
      ],
      "id": "ba8b100a"
    },
    {
      "cell_type": "code",
      "metadata": {
        "id": "fe929b8e"
      },
      "source": [
        "def judge(b):\n",
        "    for r in range(3):\n",
        "        p = np.sum(b[r, :])\n",
        "        if p == 3:\n",
        "            return 1 # 後手勝ち\n",
        "        if p == -3:\n",
        "            return -1 # 先手勝ち\n",
        "    for r in range(3):\n",
        "        p = np.sum(b[:, r])\n",
        "        if p == 3:\n",
        "            return 1 # 後手勝ち\n",
        "        if p == -3:\n",
        "            return -1 # 先手勝ち\n",
        "    p = np.sum(np.diag(b))\n",
        "    if p == 3:\n",
        "        return 1\n",
        "    if p == -3:\n",
        "        return -1\n",
        "    p = np.sum(np.diag(np.fliplr(b)))\n",
        "    if p == 3:\n",
        "        return 1\n",
        "    if p == -3:\n",
        "        return -1\n",
        "    return 0\n",
        "\n",
        "\n"
      ],
      "id": "fe929b8e",
      "execution_count": 18,
      "outputs": []
    },
    {
      "cell_type": "code",
      "metadata": {
        "colab": {
          "base_uri": "https://localhost:8080/"
        },
        "id": "X6Du8-1a4LlJ",
        "outputId": "8ae8af26-c948-4d59-a7a9-3b7f13740502"
      },
      "source": [
        "import random \n",
        "b = np.array([[1,0,-1], [0,1,1], [0,-1,-1]])\n",
        "show(b)\n",
        "s = blank(b)\n",
        "i, j =random.choice(s)\n",
        "b[i, j] = 1\n",
        "print(s)\n",
        "s.remove((i, j))\n",
        "judge(b)"
      ],
      "id": "X6Du8-1a4LlJ",
      "execution_count": 45,
      "outputs": [
        {
          "output_type": "stream",
          "text": [
            "  0 1 2\n",
            "0 O   X\n",
            "1   O O\n",
            "2   X X\n",
            "[(0, 1), (1, 0), (2, 0)]\n"
          ],
          "name": "stdout"
        },
        {
          "output_type": "execute_result",
          "data": {
            "text/plain": [
              "0"
            ]
          },
          "metadata": {
            "tags": []
          },
          "execution_count": 45
        }
      ]
    },
    {
      "cell_type": "markdown",
      "metadata": {
        "id": "c5a0d9d1"
      },
      "source": [
        "### プレイアウト\n",
        "勝敗がつくか、着手可能なマス目がなくなる（従って、引き分けとなる）まで、ランダムな着手を続けることを、\n",
        "**プレイアウト**と呼びます。\n",
        "プレイアウトを行う関数`playout`を作成して下さい。\n",
        "- 簡単のために、コンピュータは$\\bigcirc$を持つと仮定します。\n",
        "- 関数定義の外に盤面を表現するNdarray`board`を用意し、\n",
        "`playout()`の定義中では`board`のコピーを作成して、利用します。\n",
        "- `playout()`の返り値は、着手のリストと、最後の勝敗結果とします。"
      ],
      "id": "c5a0d9d1"
    },
    {
      "cell_type": "code",
      "metadata": {
        "colab": {
          "base_uri": "https://localhost:8080/"
        },
        "id": "ec33f838",
        "outputId": "993e52b2-af62-45ce-ff39-1f9b74f21637"
      },
      "source": [
        "def playout():\n",
        "  b = board.copy()\n",
        "  s = blank(b)\n",
        "  p = judge(b)\n",
        "  h = [] # 着手のリスト\n",
        "  t = 1 #手番 1 or -1\n",
        "  while p == 0 and s != []:\n",
        "    i, j = random.choice(s)\n",
        "    h.append((i, j))\n",
        "    b[i, j] = t\n",
        "    t *= -1 # -1をかけて手番を変える\n",
        "    s.remove((i, j))\n",
        "    p = judge(b)\n",
        "  return(h, p)\n",
        "board = np.array([[1,0,-1], [0,1,1], [0,-1,-1]])\n",
        "show(board)\n",
        "h, p = playout()\n",
        "print(h)\n",
        "print(p)"
      ],
      "id": "ec33f838",
      "execution_count": 50,
      "outputs": [
        {
          "output_type": "stream",
          "text": [
            "  0 1 2\n",
            "0 O   X\n",
            "1   O O\n",
            "2   X X\n",
            "[(2, 0), (1, 0), (0, 1)]\n",
            "0\n"
          ],
          "name": "stdout"
        }
      ]
    },
    {
      "cell_type": "markdown",
      "metadata": {
        "id": "914a71fe"
      },
      "source": [
        "### 次の一手の決定\n",
        "プレイアウトを$N$回（例えば、$N = 1000$）繰り返し、\n",
        "勝ち数と負け数の差（`balnace`）が最も大きい第一手を選ぶ関数`next()`を作成して下さい。\n",
        "- 関数内に、辞書型オブジェクト`balance`を用意します。\n",
        "`balance`は、第一手をキー、$(勝ち数 - 負け数)$を値として、対応づけます。"
      ],
      "id": "914a71fe"
    },
    {
      "cell_type": "code",
      "metadata": {
        "id": "20aaba78"
      },
      "source": [
        "N = 1000\n",
        "def next():\n",
        "  balance = {}\n",
        "  for _ in range(N):\n",
        "    h, p = playout()\n",
        "    if h[0] in balance:\n",
        "      balance[h[0]] += p\n",
        "    else:\n",
        "      balance[h[0]] = p\n",
        "  print(balance)\n",
        "  return max(balance, key=balance.get)"
      ],
      "id": "20aaba78",
      "execution_count": 56,
      "outputs": []
    },
    {
      "cell_type": "code",
      "metadata": {
        "colab": {
          "base_uri": "https://localhost:8080/"
        },
        "id": "WXWPVHAi-nIC",
        "outputId": "5ac8937b-3e2f-40dc-f73f-72c8e07eba91"
      },
      "source": [
        "board = np.array([[1,0,-1], [0,1,1], [0,-1,-1]])\n",
        "show(board)\n",
        "print(next())"
      ],
      "id": "WXWPVHAi-nIC",
      "execution_count": 60,
      "outputs": [
        {
          "output_type": "stream",
          "text": [
            "  0 1 2\n",
            "0 O   X\n",
            "1   O O\n",
            "2   X X\n",
            "{(1, 0): 311, (0, 1): -182, (2, 0): 189}\n",
            "(1, 0)\n"
          ],
          "name": "stdout"
        }
      ]
    },
    {
      "cell_type": "markdown",
      "metadata": {
        "id": "a8dd23bb"
      },
      "source": [
        "### 人間 VS プログラムの対戦\n",
        "次の3つのセルを作成し、これらのセルを適切な順番で、交互に実行することにより、\n",
        "人間とプログラムが対戦できるようプログラミングして下さい。\n",
        "- 盤面を初期化するセル\n",
        "- 人間が着手するセル\n",
        "- `next`関数を利用して、プログラムが着手するセル\n",
        "\n"
      ],
      "id": "a8dd23bb"
    },
    {
      "cell_type": "code",
      "metadata": {
        "colab": {
          "base_uri": "https://localhost:8080/"
        },
        "id": "c26f74e2",
        "outputId": "29e0297c-e588-44a0-9a65-518bf22b99a6"
      },
      "source": [
        "# 盤面の初期化\n",
        "board = np.zeros([3,3])\n",
        "show(board)"
      ],
      "id": "c26f74e2",
      "execution_count": 94,
      "outputs": [
        {
          "output_type": "stream",
          "text": [
            "  0 1 2\n",
            "0      \n",
            "1      \n",
            "2      \n"
          ],
          "name": "stdout"
        }
      ]
    },
    {
      "cell_type": "code",
      "metadata": {
        "colab": {
          "base_uri": "https://localhost:8080/"
        },
        "id": "694a1c60",
        "outputId": "2273ef42-e4ec-44e3-c4bf-51e98455b2b9"
      },
      "source": [
        "# 人間の着手\n",
        "board[2, 1] = -1\n",
        "show(board)"
      ],
      "id": "694a1c60",
      "execution_count": 82,
      "outputs": [
        {
          "output_type": "stream",
          "text": [
            "  0 1 2\n",
            "0 X O X\n",
            "1 X O  \n",
            "2 O X  \n"
          ],
          "name": "stdout"
        }
      ]
    },
    {
      "cell_type": "code",
      "metadata": {
        "colab": {
          "base_uri": "https://localhost:8080/"
        },
        "id": "3c587da8",
        "outputId": "4a0fd0dd-2db2-499f-9c1a-d0fe59aeac49"
      },
      "source": [
        "# プログラムの着手\n",
        "i, j = next()\n",
        "board[i, j] = 1\n",
        "show(board)"
      ],
      "id": "3c587da8",
      "execution_count": 83,
      "outputs": [
        {
          "output_type": "stream",
          "text": [
            "{(1, 2): 0, (2, 2): 0}\n",
            "  0 1 2\n",
            "0 X O X\n",
            "1 X O O\n",
            "2 O X  \n"
          ],
          "name": "stdout"
        }
      ]
    },
    {
      "cell_type": "markdown",
      "metadata": {
        "id": "hM-1K76GjKR0"
      },
      "source": [
        "# 追加機能\n",
        "### 自分が打つと、プログラムが自動的に次の手を打ってくれる、game関数を作成しました。\n",
        "#### 遊び方\n",
        "- 代入可能な行と列番号を一回ずつ入力します。\n",
        "\n",
        "### 未完成部分\n",
        "- 代入不可能な数値が入力された時の条件分岐\n",
        "- 自分が勝った場合の条件分岐（仕様上、勝つことはほとんど不可能であるが）"
      ],
      "id": "hM-1K76GjKR0"
    },
    {
      "cell_type": "code",
      "metadata": {
        "colab": {
          "base_uri": "https://localhost:8080/"
        },
        "id": "7JXf69pYN3iY",
        "outputId": "d524e6c1-ed44-4606-b3f1-87e144e28a42"
      },
      "source": [
        "def game():\n",
        "  s = blank(board)\n",
        "  p = judge(board)\n",
        "  h = [] # 着手のリスト\n",
        "  t = 1\n",
        "  while p == 0 or s != []:\n",
        "    s = blank(board)\n",
        "    p = judge(board)\n",
        "    if t == 1:\n",
        "      a = input()\n",
        "      b = input()\n",
        "      board[int(a), int(b)] = -1\n",
        "      show(board)\n",
        "      h.append((int(a), int(b)))\n",
        "      s.remove((int(a), int(b)))\n",
        "      t*= -1\n",
        "      s = blank(board)\n",
        "      p = judge(board)\n",
        "      if s == []:\n",
        "        print('引き分けです')\n",
        "        break\n",
        "    i, j = next()\n",
        "    board[i, j] = 1\n",
        "    show(board)\n",
        "    h.append((i, j))\n",
        "    s.remove((i, j))\n",
        "    t*= -1\n",
        "    s = blank(board)\n",
        "    p = judge(board)\n",
        "    if p ==1:\n",
        "      print('コンピュータの勝ち')\n",
        "      break\n",
        "    if s == []:\n",
        "      print('引き分けです')\n",
        "      break\n",
        "    print('---')\n",
        "board = np.zeros([3,3])\n",
        "game()\n",
        "\n"
      ],
      "id": "7JXf69pYN3iY",
      "execution_count": 129,
      "outputs": [
        {
          "output_type": "stream",
          "text": [
            "0\n",
            "0\n",
            "  0 1 2\n",
            "0 X    \n",
            "1      \n",
            "2      \n",
            "{(1, 1): -20, (1, 2): -39, (2, 2): -39, (0, 1): -68, (1, 0): -67, (2, 0): -43, (0, 2): -47, (2, 1): -57}\n",
            "  0 1 2\n",
            "0 X    \n",
            "1   O  \n",
            "2      \n",
            "---\n",
            "0\n",
            "1\n",
            "  0 1 2\n",
            "0 X X  \n",
            "1   O  \n",
            "2      \n",
            "{(2, 2): -73, (1, 0): -21, (0, 2): 47, (2, 1): -111, (1, 2): -40, (2, 0): -15}\n",
            "  0 1 2\n",
            "0 X X O\n",
            "1   O  \n",
            "2      \n",
            "---\n",
            "2\n",
            "0\n",
            "  0 1 2\n",
            "0 X X O\n",
            "1   O  \n",
            "2 X    \n",
            "{(1, 0): 79, (2, 2): -98, (1, 2): 1, (2, 1): -150}\n",
            "  0 1 2\n",
            "0 X X O\n",
            "1 O O  \n",
            "2 X    \n",
            "---\n",
            "1\n",
            "2\n",
            "  0 1 2\n",
            "0 X X O\n",
            "1 O O X\n",
            "2 X    \n",
            "{(2, 2): 0, (2, 1): 0}\n",
            "  0 1 2\n",
            "0 X X O\n",
            "1 O O X\n",
            "2 X   O\n",
            "---\n",
            "2\n",
            "1\n",
            "  0 1 2\n",
            "0 X X O\n",
            "1 O O X\n",
            "2 X X O\n",
            "引き分けです\n"
          ],
          "name": "stdout"
        }
      ]
    },
    {
      "cell_type": "code",
      "metadata": {
        "colab": {
          "base_uri": "https://localhost:8080/"
        },
        "id": "Xnd6lPCYOqyd",
        "outputId": "75a244cc-3e88-4d76-d6f3-53cbd419307a"
      },
      "source": [
        "a = input()\n",
        "b = input()\n",
        "print(int(a)*int(b))"
      ],
      "id": "Xnd6lPCYOqyd",
      "execution_count": 90,
      "outputs": [
        {
          "output_type": "stream",
          "text": [
            "8\n",
            "9\n",
            "72\n"
          ],
          "name": "stdout"
        }
      ]
    }
  ]
}