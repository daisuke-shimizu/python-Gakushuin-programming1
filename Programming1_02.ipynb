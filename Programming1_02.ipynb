{
  "nbformat": 4,
  "nbformat_minor": 0,
  "metadata": {
    "colab": {
      "name": "Programming1-02.ipynb",
      "provenance": [],
      "collapsed_sections": [],
      "include_colab_link": true
    },
    "kernelspec": {
      "display_name": "Python 3",
      "language": "python",
      "name": "python3"
    },
    "language_info": {
      "codemirror_mode": {
        "name": "ipython",
        "version": 3
      },
      "file_extension": ".py",
      "mimetype": "text/x-python",
      "name": "python",
      "nbconvert_exporter": "python",
      "pygments_lexer": "ipython3",
      "version": "3.7.5"
    }
  },
  "cells": [
    {
      "cell_type": "markdown",
      "metadata": {
        "id": "view-in-github",
        "colab_type": "text"
      },
      "source": [
        "<a href=\"https://colab.research.google.com/github/daisuke-shimizu/python-Gakushuin-programming1/blob/main/Programming1_02.ipynb\" target=\"_parent\"><img src=\"https://colab.research.google.com/assets/colab-badge.svg\" alt=\"Open In Colab\"/></a>"
      ]
    },
    {
      "cell_type": "markdown",
      "metadata": {
        "id": "5jeLWOq-uz1i"
      },
      "source": [
        "# サンプルプログラム実行上の注意\n",
        "プログラミング上達のコツは、\n",
        "\n",
        "- 短時間に集中してできるだけ大量のプログラムを書くこと\n",
        "- 試行錯誤を行うこと\n",
        "- 他人の書いた（動く）プログラムを読むこと\n",
        "- 更に、自分の目的に合わせてカスタマイズしてみること\n",
        "\n",
        "を日常的に実行することです。\n",
        "しかし、限られた授業時間（予習・復習も含む）内で、これらを十分に実行することは至難です。\n",
        "\n",
        "そこで、\n",
        "この講義資料は、多数のサンプルプログラムを提供して、\n",
        "少しでも不足を補うことができるように作成されています。\n",
        "受講者は、以下の注意を守ってサンプルプログラムをコードセル中で実行することで、\n",
        "より効率の良い学習を心がけて下さい。\n",
        "\n",
        "1. サンプルプログラムは、コピペせず、1行1行自分でタイプして書き写して下さい。\n",
        "コピペでは見逃してしまう、プログラミングの書き方の規則や、プログラミングのコツなど、\n",
        "自分自身でタイプすることで気づくことができます。\n",
        "2. サンプルプログラムを書き写す時は、プログラムの意味を考えるよう努めて下さい。\n",
        "最初は必ずしも最良とは言えないサンプルプログラムを提示して、\n",
        "後で改良した例を示すなど、この講義資料では、良いプログラムを作成する考え方を効率的に学べるよう、\n",
        "いろいろな工夫をしています。\n",
        "3. 意味を理解できない行がある場合には、あまり拘泥せず、先に進んでください。\n",
        "100%理解しないといけないという思い込みは、プログラミングの上達にとって妨げです。\n",
        "理解するための努力は必要ですが、Pythonでできることの範囲は非常に広く、\n",
        "プロのプログラマでも全部は理解していないでしょう。\n",
        "完璧な理解よりも、**動くプログラムを書くことを最優先の目標**として、\n",
        "わからない部分は「おまじない」として受け入れることができると、上達も早くなります。\n",
        "「おまじない」とは、「なぜ効くのかはわからないけれども、使い方は分かっている」という意味です。"
      ]
    },
    {
      "cell_type": "markdown",
      "metadata": {
        "id": "mlpHHqI7eoM0"
      },
      "source": [
        "# プログラミング1：第2回 関数のグラフと内包表現\n",
        "第1回で、棒グラフ・折れ線グラフ・円グラフを描画するPythonのプログラムを勉強しました。\n",
        "例えば、\n",
        "```python\n",
        "import matplotlib.pyplot as plt\n",
        "month = [1, 2, 3, 4, 5, 6, 7, 8, 9, 10, 11, 12]\n",
        "precipitation = [16.0, 42.0, 117.5, 90.5, 120.5, 225.0, 193.0, 110.0, 197.0, 529.5, 156.5, 76.5]\n",
        "plt.bar(month, precipitation)\n",
        "plt.show()\n",
        "```\n",
        "は、2019年の東京の月別の降水量を棒グラフで表示するプログラムです。\n",
        "\n",
        "```python\n",
        "import matplotlib.pyplot as plt\n",
        "```\n",
        "はグラフを描画するための多様な機能を関数として提供するライブラリを利用するという宣言で、ライブラリ名 `matplotlib.pyplot` をいちいちフルでタイプするのは煩雑なので、`plt` という省略名を与えるという意味です。\n",
        "\n",
        "```python\n",
        "plt.bar(month, precipitation)\n",
        "```\n",
        "このたった1行のコードが実際のグラフを描画します。\n",
        "\n",
        "さて、\n",
        "```python\n",
        "precipitation = [16.0, 42.0, 117.5, 90.5, 120.5, 225.0, 193.0, 110.0, 197.0, 529.5, 156.5, 76.5]\n",
        "```\n",
        "は月別の降水量＝棒グラフの高さを与えます。\n",
        "Pythonでは、`[]` の中にカンマで区切った数の列を指定することで、数列**オブジェクト**を指定します。\n",
        "オブジェクトはプログラミング言語でよく使われる用語で、数であれ、文字であれ、数列であれ、もっと複雑な構造を持つものであれ、プログラムが扱うデータの単位を指します。\n",
        "オブジェクトが集まって、新しいオブジェクトを作ることもあります。\n",
        "例えば、`[16.0, 42.0, 117.5, 90.5, 120.5, 225.0, 193.0, 110.0, 197.0, 529.5, 156.5, 76.5]` の構成要素の数、例えば、`16.0`、`42.0` などは全て数オブジェクトですが、これらが集まって順序のある列をなすことで、数列オブジェクトを定義します。\n",
        "このようにプログラムが扱うデータをオブジェクトと呼んで一貫した取り扱いをしようという考え方を、**オブジェクト指向プログラミング** とよび、現代のプログラミング言語の基礎的な考え方になっています。\n",
        "\n",
        "オブジェクト指向プログラミングは、比較的最近に発明された考え方で、\n",
        "例えば、C++やJavaはプログラミング指向言語ですが、高級言語の草分けと言えるCはオブジェクト指向ではありません。\n",
        "最初のオブジェクト指向プログラミング言語は、1970年代にシリコンバレーのPARC（Palo Alto Research Center）で開発された、\n",
        "Smalltalkです。\n",
        "\n",
        "Pythonでは、\n",
        "```python\n",
        "名前 = オブジェクトの実体\n",
        "```\n",
        "という宣言文で、オブジェクトに名前をつけます。\n",
        "```python\n",
        "precipitation = [16.0, 42.0, 117.5, 90.5, 120.5, 225.0, 193.0, 110.0, 197.0, 529.5, 156.5, 76.5]\n",
        "```\n",
        "では、右辺の数列オブジェクトに `precipitation` という名前をつけて、以降は、その名前でオブジェクトを呼び出すことになります。\n",
        "\n",
        "例えば、\n",
        "```python\n",
        "plt.bar(month, precipitation)\n",
        "```\n",
        "では、`precipitation` の名前で数列 `[16.0, 42.0, 117.5, 90.5, 120.5, 225.0, 193.0, 110.0, 197.0, 529.5, 156.5, 76.5]` を呼び出しています。\n",
        "\n",
        "`[16.0, 42.0, 117.5, 90.5, 120.5, 225.0, 193.0, 110.0, 197.0, 529.5, 156.5, 76.5]` のような数列オブジェクトを、Pythonでは **リスト** と呼びます。\n",
        "正確には、Pythonのリストには、数だけでなく任意のオブジェクトを並べることができますが、そのことは後で述べます。\n",
        "Python以外のプログラミング言語やコンピュータ科学では、\n",
        "リストの代わりに**配列**（Array）という用語を使うことが多いようです。\n",
        "\n",
        "さて、リスト `month` は `plt.bar(month, perciptation)` の中での、どのような役割を果たしているのでしょう？\n",
        "\n",
        "以下の2つのプログラムを実行すると、同じグラフが得られる筈です。\n",
        "このことから、`plt.bar()`がどのようにグラフを描画しているか考えてください。\n",
        "\n",
        "**プログラム1**\n",
        "\n",
        "```python\n",
        "month_reverse = [12, 11, 10, 9, 8, 7, 6, 5, 4, 3, 2, 1]\n",
        "precipitation_reverse = [76.5, 156.5, 529.5, 197.0, 110.0, 193.0, 225.0, 120.5, 90.5, 117.5, 42.0, 16.0]\n",
        "plt.bar(month_reverse, precipitation_reverse)\n",
        "plt.show()\n",
        "```\n",
        "\n",
        "**プログラム2**\n",
        "\n",
        "```python\n",
        "month_random = [1, 12, 5, 6, 4, 2, 11, 8, 10, 3, 9, 7]\n",
        "precipitation_random = [16.0, 76.5, 120.5, 225.0, 90.5, 42.0, 156.5, 110.0, 529.5, 117.5, 197.0, 193.0]\n",
        "plt.bar(month_random, precipitation_random)\n",
        "plt.show()\n",
        "```"
      ]
    },
    {
      "cell_type": "code",
      "metadata": {
        "id": "NAE9YSJgt3Bl",
        "colab": {
          "base_uri": "https://localhost:8080/",
          "height": 265
        },
        "outputId": "456fe922-dee2-4fe2-d4e0-71afbf9e7985"
      },
      "source": [
        "import matplotlib.pyplot as plt\n",
        "month_reverse = [12, 11, 10, 9, 8, 7, 6, 5, 4, 3, 2, 1]\n",
        "precipitation_reverse = [76.5, 156.5, 529.5, 197.0, 110.0, 193.0, 225.0, 120.5, 90.5, 117.5, 42.0, 16.0]\n",
        "plt.bar(month_reverse, precipitation_reverse)\n",
        "plt.show()"
      ],
      "execution_count": null,
      "outputs": [
        {
          "output_type": "display_data",
          "data": {
            "image/png": "[encoded data removed]",
            "text/plain": [
              "<Figure size 432x288 with 1 Axes>"
            ]
          },
          "metadata": {
            "tags": [],
            "needs_background": "light"
          }
        }
      ]
    },
    {
      "cell_type": "code",
      "metadata": {
        "id": "U2pUl0u8elAL",
        "colab": {
          "base_uri": "https://localhost:8080/",
          "height": 265
        },
        "outputId": "ad89700a-c1d5-4254-892f-6ff22d510660"
      },
      "source": [
        "month_random = [1, 12, 5, 6, 4, 2, 11, 8, 10, 3, 9, 7]\n",
        "precipitation_random = [16.0, 76.5, 120.5, 225.0, 90.5, 42.0, 156.5, 110.0, 529.5, 117.5, 197.0, 193.0]\n",
        "plt.bar(month_random, precipitation_random)\n",
        "plt.show()"
      ],
      "execution_count": null,
      "outputs": [
        {
          "output_type": "display_data",
          "data": {
            "image/png": "[encoded data removed]",
            "text/plain": [
              "<Figure size 432x288 with 1 Axes>"
            ]
          },
          "metadata": {
            "tags": [],
            "needs_background": "light"
          }
        }
      ]
    },
    {
      "cell_type": "markdown",
      "metadata": {
        "id": "L0fGygFMxLCU"
      },
      "source": [
        "次に、関数 $f(x) = x^2$ のグラフをプログラムで描画してみましょう。\n",
        "Pythonでは、$a$ の $b$ 乗は `a**b` と書きます。\n",
        "```python\n",
        "x = [0, 1, 2, 3, 4, 5, 6, 7, 8, 9, 10]\n",
        "y = [0**2, 1**2, 2**2, 3**2, 4**2, 5**2, 6**2, 7**2, 8**2, 9**2, 10**2]\n",
        "plt.plot(x, y)\n",
        "plt.show()\n",
        "```"
      ]
    },
    {
      "cell_type": "code",
      "metadata": {
        "id": "PJchWfsAujfs",
        "colab": {
          "base_uri": "https://localhost:8080/",
          "height": 265
        },
        "outputId": "0d3cfc1d-fbb3-45b1-a301-dadcf4f81547"
      },
      "source": [
        "x = [0, 1, 2, 3, 4, 5, 6, 7, 8, 9, 10]\n",
        "y = [0**2, 1**2, 2**2, 3**2, 4**2, 5**2, 6**2, 7**2, 8**2, 9**2, 10**2]\n",
        "plt.plot(x, y)\n",
        "plt.show()"
      ],
      "execution_count": null,
      "outputs": [
        {
          "output_type": "display_data",
          "data": {
            "image/png": "[encoded data removed]",
            "text/plain": [
              "<Figure size 432x288 with 1 Axes>"
            ]
          },
          "metadata": {
            "tags": [],
            "needs_background": "light"
          }
        }
      ]
    },
    {
      "cell_type": "markdown",
      "metadata": {
        "id": "VcQL0kRHEOtU"
      },
      "source": [
        "$x=0$を軸とする二次曲線（放物線）の右半分が描画されれば正解です。\n",
        "\n",
        "次に、正弦関数（sin関数）のグラフを書いてみましょう。\n",
        "次のプログラムをみてください。\n",
        "$x$ の値を0度から360度まで45度間隔で選んで、$\\sin(x)$ の値を計算し、\n",
        "$(x, \\sin(x))$ をプロットして隣り合う点を線分で結んで曲線を描くプログラムです。\n",
        "```python\n",
        "x = [0, 45, 90, 135, 180, 225, 270, 315, 360]\n",
        "y = [sin(0), sin(45), sin(90), sin(135), sin(180), sin(225), sin(270), sin(315), sin(360)]\n",
        "plt.plot(x, y)\n",
        "plt.show()\n",
        "```\n",
        "下のセルに書き写して（コピペは避けて、自分でタイプしてください）、実行してみてください。"
      ]
    },
    {
      "cell_type": "code",
      "metadata": {
        "id": "q2rI02H5ygIS",
        "colab": {
          "base_uri": "https://localhost:8080/",
          "height": 215
        },
        "outputId": "ed6de44f-1d09-4707-b9e4-89572654a70e"
      },
      "source": [
        "x = [0, 45, 90, 135, 180, 225, 270, 315, 360]\n",
        "y = [sin(0), sin(45), sin(90), sin(135), sin(180), sin(225), sin(270), sin(315), sin(360)]\n",
        "plt.plot(x, y)\n",
        "plt.show()"
      ],
      "execution_count": null,
      "outputs": [
        {
          "output_type": "error",
          "ename": "NameError",
          "evalue": "ignored",
          "traceback": [
            "\u001b[0;31m---------------------------------------------------------------------------\u001b[0m",
            "\u001b[0;31mNameError\u001b[0m                                 Traceback (most recent call last)",
            "\u001b[0;32m<ipython-input-6-e14f9135bfff>\u001b[0m in \u001b[0;36m<module>\u001b[0;34m()\u001b[0m\n\u001b[1;32m      1\u001b[0m \u001b[0mx\u001b[0m \u001b[0;34m=\u001b[0m \u001b[0;34m[\u001b[0m\u001b[0;36m0\u001b[0m\u001b[0;34m,\u001b[0m \u001b[0;36m45\u001b[0m\u001b[0;34m,\u001b[0m \u001b[0;36m90\u001b[0m\u001b[0;34m,\u001b[0m \u001b[0;36m135\u001b[0m\u001b[0;34m,\u001b[0m \u001b[0;36m180\u001b[0m\u001b[0;34m,\u001b[0m \u001b[0;36m225\u001b[0m\u001b[0;34m,\u001b[0m \u001b[0;36m270\u001b[0m\u001b[0;34m,\u001b[0m \u001b[0;36m315\u001b[0m\u001b[0;34m,\u001b[0m \u001b[0;36m360\u001b[0m\u001b[0;34m]\u001b[0m\u001b[0;34m\u001b[0m\u001b[0;34m\u001b[0m\u001b[0m\n\u001b[0;32m----> 2\u001b[0;31m \u001b[0my\u001b[0m \u001b[0;34m=\u001b[0m \u001b[0;34m[\u001b[0m\u001b[0msin\u001b[0m\u001b[0;34m(\u001b[0m\u001b[0;36m0\u001b[0m\u001b[0;34m)\u001b[0m\u001b[0;34m,\u001b[0m \u001b[0msin\u001b[0m\u001b[0;34m(\u001b[0m\u001b[0;36m45\u001b[0m\u001b[0;34m)\u001b[0m\u001b[0;34m,\u001b[0m \u001b[0msin\u001b[0m\u001b[0;34m(\u001b[0m\u001b[0;36m90\u001b[0m\u001b[0;34m)\u001b[0m\u001b[0;34m,\u001b[0m \u001b[0msin\u001b[0m\u001b[0;34m(\u001b[0m\u001b[0;36m135\u001b[0m\u001b[0;34m)\u001b[0m\u001b[0;34m,\u001b[0m \u001b[0msin\u001b[0m\u001b[0;34m(\u001b[0m\u001b[0;36m180\u001b[0m\u001b[0;34m)\u001b[0m\u001b[0;34m,\u001b[0m \u001b[0msin\u001b[0m\u001b[0;34m(\u001b[0m\u001b[0;36m225\u001b[0m\u001b[0;34m)\u001b[0m\u001b[0;34m,\u001b[0m \u001b[0msin\u001b[0m\u001b[0;34m(\u001b[0m\u001b[0;36m270\u001b[0m\u001b[0;34m)\u001b[0m\u001b[0;34m,\u001b[0m \u001b[0msin\u001b[0m\u001b[0;34m(\u001b[0m\u001b[0;36m315\u001b[0m\u001b[0;34m)\u001b[0m\u001b[0;34m,\u001b[0m \u001b[0msin\u001b[0m\u001b[0;34m(\u001b[0m\u001b[0;36m360\u001b[0m\u001b[0;34m)\u001b[0m\u001b[0;34m]\u001b[0m\u001b[0;34m\u001b[0m\u001b[0;34m\u001b[0m\u001b[0m\n\u001b[0m\u001b[1;32m      3\u001b[0m \u001b[0mplt\u001b[0m\u001b[0;34m.\u001b[0m\u001b[0mplot\u001b[0m\u001b[0;34m(\u001b[0m\u001b[0mx\u001b[0m\u001b[0;34m,\u001b[0m \u001b[0my\u001b[0m\u001b[0;34m)\u001b[0m\u001b[0;34m\u001b[0m\u001b[0;34m\u001b[0m\u001b[0m\n\u001b[1;32m      4\u001b[0m \u001b[0mplt\u001b[0m\u001b[0;34m.\u001b[0m\u001b[0mshow\u001b[0m\u001b[0;34m(\u001b[0m\u001b[0;34m)\u001b[0m\u001b[0;34m\u001b[0m\u001b[0;34m\u001b[0m\u001b[0m\n",
            "\u001b[0;31mNameError\u001b[0m: name 'sin' is not defined"
          ]
        }
      ]
    },
    {
      "cell_type": "markdown",
      "metadata": {
        "id": "jx5H1gR2FIiA"
      },
      "source": [
        "`NameError: mame 'sin' is not defined`　が表示されて、正しく実行できなかったと思います。\n",
        "\n",
        "### エラーを恐れない！\n",
        "エラーメッセージは英語ですが、逃げないようにしましょう。\n",
        "エラーメッセージの中に問題を解決する理由が見つかることがよくあります。\n",
        "「is not defined」とは、「定義されていない」という意味です。\n",
        "つまり、Pythonは `sin()` が何か分かっていないということです。\n",
        "\n",
        "また、\n",
        "```python\n",
        "      1 x = [0, 45, 90, 135, 180, 225, 270, 315, 360]\n",
        "----> 2 y = [sin(0), sin(45), sin(90), sin(135), sin(180), sin(225), sin(270), sin(315), sin(360)]\n",
        "      3 plt.plot(x, y)\n",
        "      4 plt.show()\n",
        "```\n",
        "の表示は、矢印`---->`が指す行に誤りがあることを示してくれています。\n",
        "\n",
        "「Python自体は必要最低限の機能しか持たず、高度な機能はライブラリとして外部の開発に委ねる」ということを書きましたが、なんと **sin関数もPythonには用意されていない** というのが事実です。\n",
        "これは、通常のプログラミング言語と比較すると、かなり異常なことで、Cにも、C++にも、Javaにも、\n",
        "`sin`関数は用意されています。\n",
        "\n",
        "対照的に、Pythonでは、`sin`関数のような基礎的な関数すら用意されておらず、\n",
        "sin関数を計算するために、sin関数を備えたライブラリを利用する必要があります。\n",
        "math、numpy、scipyなどは、sin関数など数学的な関数を提供するライブラリの例です。\n",
        "ここではmathライブラリを使ってみます。\n",
        "```python\n",
        "import math\n",
        "x = [0, 45, 90, 135, 180, 225, 270, 315, 360]\n",
        "y = [math.sin(0), math.sin(45), math.sin(90), math.sin(135), math.sin(180), math.sin(225), math.sin(270), math.sin(315), math.sin(360)]\n",
        "plt.plot(x, y)\n",
        "plt.show()\n",
        "```\n",
        "今度はどうでしょう？"
      ]
    },
    {
      "cell_type": "code",
      "metadata": {
        "id": "43Y6gBMHExFK",
        "colab": {
          "base_uri": "https://localhost:8080/",
          "height": 265
        },
        "outputId": "bddac1be-d1ae-4adb-b1b3-c75cda21b9b5"
      },
      "source": [
        "import matplotlib.pyplot as plt\n",
        "import math\n",
        "\n",
        "x = [0, 45, 90, 135, 180, 225, 270, 315, 360]\n",
        "y = [math.sin(0), math.sin(45), math.sin(90), math.sin(135), math.sin(180), math.sin(225), math.sin(270), math.sin(315), math.sin(360)]\n",
        "plt.plot(x, y)\n",
        "plt.show()"
      ],
      "execution_count": null,
      "outputs": [
        {
          "output_type": "display_data",
          "data": {
            "image/png": "[encoded data removed]",
            "text/plain": [
              "<Figure size 432x288 with 1 Axes>"
            ]
          },
          "metadata": {
            "tags": [],
            "needs_background": "light"
          }
        }
      ]
    },
    {
      "cell_type": "markdown",
      "metadata": {
        "id": "uGDk4ou4-7ZL"
      },
      "source": [
        "エラーは出なくなりましたが、想定するグラフと違う筈です。\n",
        "$sin(0^\\circ) = 0$、$sin(90^\\circ) = 1$、$sin(180^\\circ) = 0$、$sin(270^\\circ) = -1$、\n",
        "$sin(3600^\\circ) = 0$となる筈ですが、そうはなっています。\n",
        "\n",
        "これは、mathライブラリの三角関数はラジアンを単位に使っていることが理由です。\n",
        "ラジアンは、半径1の円の円弧の長さで角度を表す方法で、\n",
        "円周率を$\\pi$と表すと、$90^\\circ$は$\\pi/2$、\n",
        "$180^\\circ$は$\\pi$、$270^\\circ$は$3\\pi/2$、$360^\\circ$は$2\\pi$で表されます。\n",
        "次のプログラムを実行してください。\n",
        "```python\n",
        "pi = math.pi\n",
        "print(pi)\n",
        "print(math.sin(pi/2), math.sin(pi), math.sin(3*pi/2), math.sin(2*pi))\n",
        "```"
      ]
    },
    {
      "cell_type": "code",
      "metadata": {
        "id": "nhz_lJ-91gRR",
        "colab": {
          "base_uri": "https://localhost:8080/"
        },
        "outputId": "8b51002c-0d59-4165-d76e-8399364895e5"
      },
      "source": [
        "pi = math.pi\n",
        "print(pi)\n",
        "print(math.sin(pi/2), math.sin(pi), math.sin(3*pi/2), math.sin(2*pi))"
      ],
      "execution_count": null,
      "outputs": [
        {
          "output_type": "stream",
          "text": [
            "3.141592653589793\n",
            "1.0 1.2246467991473532e-16 -1.0 -2.4492935982947064e-16\n"
          ],
          "name": "stdout"
        }
      ]
    },
    {
      "cell_type": "markdown",
      "metadata": {
        "id": "e1GSJfh9_wQS"
      },
      "source": [
        "* 円周率を値にもつ数値オブジェクト（円周率 3.14159265... を値に持つ数値オブジェクト）がmathライブラリに用意されていて、ライブラリの中で `pi` という名前が与えられています。\n",
        "* `pi = math.pi` でこのオブジェクトに `pi` という名前をつけて、参照しやすくしています。\n",
        "* `math.sin(pi)` の値は `1.2246467991473532e-16`、つまり、$1.2246467991473532\\times 10^{-16}$ と計算され、非常に0に近いのですが、正確に0にはなりません。\n",
        "これは **計算誤差** によるものです。\n",
        "計算機による計算には誤差が含まれることを覚えておく必要があります。\n",
        "\n",
        "以下のプログラムを実行して下さい。\n",
        "```python\n",
        "x = [0, pi/4, pi/2, 3*pi/4, pi, 5*pi/4, 3*pi/2, 7*pi/4, 2*pi]\n",
        "y = [math.sin(0), math.sin(pi/4), math.sin(pi/2), math.sin(3*pi/4), math.sin(pi), math.sin(5*pi/4), math.sin(3*pi/2), math.sin(7*pi/4), math.sin(2*pi)]\n",
        "plt.plot(x, y)\n",
        "plt.show()\n",
        "```"
      ]
    },
    {
      "cell_type": "code",
      "metadata": {
        "id": "6DQZhrnk-23z",
        "colab": {
          "base_uri": "https://localhost:8080/",
          "height": 265
        },
        "outputId": "7fc42a53-9815-4c2c-bcf4-6d752cec8615"
      },
      "source": [
        "import matplotlib.pyplot as plt\n",
        "x = [0, pi/4, pi/2, 3*pi/4, pi, 5*pi/4, 3*pi/2, 7*pi/4, 2*pi]\n",
        "y = [math.sin(0), math.sin(pi/4), math.sin(pi/2), math.sin(3*pi/4), math.sin(pi), math.sin(5*pi/4), math.sin(3*pi/2), math.sin(7*pi/4), math.sin(2*pi)]\n",
        "plt.plot(x, y)\n",
        "plt.show()\n"
      ],
      "execution_count": null,
      "outputs": [
        {
          "output_type": "display_data",
          "data": {
            "image/png": "[encoded data removed]",
            "text/plain": [
              "<Figure size 432x288 with 1 Axes>"
            ]
          },
          "metadata": {
            "tags": [],
            "needs_background": "light"
          }
        }
      ]
    },
    {
      "cell_type": "markdown",
      "metadata": {
        "id": "2_vWwPkshrgo"
      },
      "source": [
        "大体、望みの形になってきましたが、グラフは折れ線で、曲線には見えません。\n",
        "$x$の値の計算間隔が$\\pi/4$と広いことが原因です。\n",
        "この問題を解決するためには、\n",
        "```python\n",
        "x = [0, pi/4, pi/2, 3*pi/4, pi, 5*pi/4, 3*pi/2, 7*pi/4, 2*pi]\n",
        "y = [math.sin(0), math.sin(pi/4), math.sin(pi/2), math.sin(3*pi/4), math.sin(pi), math.sin(5*pi/4), math.sin(3*pi/2), math.sin(7*pi/4), math.sin(2*pi)]\n",
        "```\n",
        "を変更する必要があります。\n",
        "$x$の計算間隔を、現在の$\\pi/4$より細かく、$\\pi/50$くらいにすれば、きっと滑らかになると思いますが、\n",
        "$x = 0$から$x = 2\\pi$に対してグラフを描画するにが、リストには101個の数を指定する必要があります。\n",
        "これを人手で行うのは、できないことはありませんが、手間が大変です。\n",
        "\n",
        "この問題を解決するために、Pythonが用意している `range()` という関数と、**内包表記** を利用することができます。\n",
        "\n",
        "まず、`range()` について見ます。\n",
        "`range(10)` は0から9まで10個の連続する整数を要素に持つリストと「同等」なオブジェクトです。\n",
        "厳密には `range(10)` はリストとは別種のオブジェクトですが、例えば、`list(range(10))` とすることでリスト `[0, 1, 2, 3, 4, 5, 6, 7, 8, 9]` に変換することができます。\n",
        "```python\n",
        "print(list(range(10)))\n",
        "```\n",
        "を実行してみて、表示される結果を確かめてください。\n",
        "\n",
        "次に、`range(10)`の`10`を別の値に変えてみて（例えば、`20`）、結果を確かめてください。"
      ]
    },
    {
      "cell_type": "code",
      "metadata": {
        "id": "O6ShwFqt_hg8",
        "colab": {
          "base_uri": "https://localhost:8080/"
        },
        "outputId": "d2c5407a-ec79-43e3-c4e8-cb92415fcd0a"
      },
      "source": [
        "print(list(range(20)))"
      ],
      "execution_count": null,
      "outputs": [
        {
          "output_type": "stream",
          "text": [
            "[0, 1, 2, 3, 4, 5, 6, 7, 8, 9, 10, 11, 12, 13, 14, 15, 16, 17, 18, 19]\n"
          ],
          "name": "stdout"
        }
      ]
    },
    {
      "cell_type": "markdown",
      "metadata": {
        "id": "O11Gbd9XPmFI"
      },
      "source": [
        "実は、`range()` はもっと一般的な機能を持っていて、リストに含まれる最初の数と最後の数を自由に決めることができます。\n",
        "例えば、`range(5,15)` はリスト `[5, 6, 7, 8, 9, 10, 11, 12, 13, 14]` と同等です。\n",
        "```python\n",
        "print(list(range(5, 15)))\n",
        "```\n",
        "を実行してみてください。\n",
        "\n",
        "また、`range(5, 15)`の括弧の中の値を変えてみて、結果を確かめてください。"
      ]
    },
    {
      "cell_type": "code",
      "metadata": {
        "id": "y3PaiBVQOXQU",
        "colab": {
          "base_uri": "https://localhost:8080/"
        },
        "outputId": "8d4bea70-9ad0-47d9-a4b1-dd3676e27570"
      },
      "source": [
        "print(list(range(5, 15)))\n",
        "print(list(range(1, 101)))\n"
      ],
      "execution_count": null,
      "outputs": [
        {
          "output_type": "stream",
          "text": [
            "[5, 6, 7, 8, 9, 10, 11, 12, 13, 14]\n",
            "[1, 2, 3, 4, 5, 6, 7, 8, 9, 10, 11, 12, 13, 14, 15, 16, 17, 18, 19, 20, 21, 22, 23, 24, 25, 26, 27, 28, 29, 30, 31, 32, 33, 34, 35, 36, 37, 38, 39, 40, 41, 42, 43, 44, 45, 46, 47, 48, 49, 50, 51, 52, 53, 54, 55, 56, 57, 58, 59, 60, 61, 62, 63, 64, 65, 66, 67, 68, 69, 70, 71, 72, 73, 74, 75, 76, 77, 78, 79, 80, 81, 82, 83, 84, 85, 86, 87, 88, 89, 90, 91, 92, 93, 94, 95, 96, 97, 98, 99, 100]\n"
          ],
          "name": "stdout"
        }
      ]
    },
    {
      "cell_type": "markdown",
      "metadata": {
        "id": "ZdInk6SDQfHp"
      },
      "source": [
        "このように、`range()` は連続した整数のリストを生成するには便利なのですが、例えば、正弦関数のグラフを描画するために必要な「0から $2\\pi$ までの $\\pi/50$ 間隔の $x$ 座標からなるリスト」を直接作成することはできません。\n",
        "Pythonでは、**内包表記** という便利な機能が用意されていて、このような高度な目的に使うことができます。\n",
        "論より証拠で、次のプログラムを実行してみましょう。\n",
        "```python\n",
        "test = [2*x for x in range(10)]\n",
        "print(list(test))\n",
        "```"
      ]
    },
    {
      "cell_type": "code",
      "metadata": {
        "id": "eyV6wY2tP01d",
        "colab": {
          "base_uri": "https://localhost:8080/"
        },
        "outputId": "b428c03e-dc2e-4e02-9f04-d03db763474a"
      },
      "source": [
        "test = [2*x for x in range(10)]\n",
        "print(list(test))"
      ],
      "execution_count": null,
      "outputs": [
        {
          "output_type": "stream",
          "text": [
            "[0, 2, 4, 6, 8, 10, 12, 14, 16, 18]\n"
          ],
          "name": "stdout"
        }
      ]
    },
    {
      "cell_type": "markdown",
      "metadata": {
        "id": "-IyUg6gYS_2R"
      },
      "source": [
        "`for x in range(10)` は、「`range(10)` に含まれる要素を1つずつ順番に取り出して、その要素に `x` という名前をつける」という意味を持っています。\n",
        "つまり、`[2*x for x in range(10)]` は、リスト `[2*0, 2*1, 2*3, 2*4, 2*5, 2*6, 2*7, 2*8, 2*9]` を表している訳です。\n",
        "\n",
        "次のプログラムが、冒頭に見た $f(x)=x^2$ のグラフを描画することを理解して下さい。\n",
        "```python\n",
        "import matplotlib.pyplot as plt\n",
        "plt.plot(range(10), [x**2 for x in range(10)])\n",
        "plt.show()\n",
        "```"
      ]
    },
    {
      "cell_type": "code",
      "metadata": {
        "id": "cxfaJ_oMStXK",
        "colab": {
          "base_uri": "https://localhost:8080/",
          "height": 265
        },
        "outputId": "87d5c67e-7c0b-4cc9-e671-1dd477ebc366"
      },
      "source": [
        "import matplotlib.pyplot as plt\n",
        "import math\n",
        "plt.plot(range(10), [x**2 for x in range(10)])\n",
        "plt.show()"
      ],
      "execution_count": null,
      "outputs": [
        {
          "output_type": "display_data",
          "data": {
            "image/png": "[encoded data removed]",
            "text/plain": [
              "<Figure size 432x288 with 1 Axes>"
            ]
          },
          "metadata": {
            "tags": [],
            "needs_background": "light"
          }
        }
      ]
    },
    {
      "cell_type": "markdown",
      "metadata": {
        "id": "Abg80_OwVXv3"
      },
      "source": [
        "`range(10)` は `[0, 1, 2, 3, 4, 5, 6, 7, 8, 9]` と同等で、`[x**2 for x in range(10)]` は`[0**2, 1**2, 2**2, 3**2, 4**2, 5**2, 6**2, 7**2, 8**2, 9**2]` に他ならないので、\n",
        "```python\n",
        "plt.plot(range(10), [x**2 for x in range(10)])\n",
        "```\n",
        "は\n",
        "```python\n",
        "x = [0, 1, 2, 3, 4, 5, 6, 7, 8, 9]\n",
        "y = [0**2, 1**2, 2**2, 3**2, 4**2, 5**2, 6**2, 7**2, 8**2, 9**2]\n",
        "plt.plot(x, y)\n",
        "```\n",
        "と同じだからです。\n",
        "\n",
        "いよいよ、滑らかな正弦関数のグラフを描画してみます。\n",
        "先ほどのプログラムを、`range()`と内包表現を用いて、\n",
        "**`x` と `y` が$\\pi/50$間隔で点をプロットする**ように書き直してみましょう。\n",
        "\n",
        "次のプログラムを、1行1行の意味を考えながら、下のセルに書き写して、実行してみてください。\n",
        "```python\n",
        "import matplotlib.pyplot as plt\n",
        "import math\n",
        "pi = math.pi\n",
        "x = [i*pi/50 for i in range(101)]\n",
        "y = [math.sin(i*pi/50) for i in range(101)]\n",
        "plt.plot(x, y)\n",
        "plt.show()\n",
        "```"
      ]
    },
    {
      "cell_type": "code",
      "metadata": {
        "id": "caCTw271VApX",
        "colab": {
          "base_uri": "https://localhost:8080/",
          "height": 265
        },
        "outputId": "733fef02-f402-4b03-ffbe-c801f61c528e"
      },
      "source": [
        "import matplotlib.pyplot as plt\n",
        "import math\n",
        "pi = math.pi\n",
        "x = [i* pi /50 for i in range(101)]\n",
        "y = [math.sin(i *pi/50) for i in range(101)]\n",
        "plt.plot(x, y)\n",
        "plt.show()"
      ],
      "execution_count": null,
      "outputs": [
        {
          "output_type": "display_data",
          "data": {
            "image/png": "[encoded data removed]",
            "text/plain": [
              "<Figure size 432x288 with 1 Axes>"
            ]
          },
          "metadata": {
            "tags": [],
            "needs_background": "light"
          }
        }
      ]
    },
    {
      "cell_type": "markdown",
      "metadata": {
        "id": "aRPvFkUld_pz"
      },
      "source": [
        "今度は滑らかな正弦曲線が描画できたと思います。\n",
        "\n",
        "内包表現 `for i in range(101)` 中の `range(101)` の部分を、\n",
        "`range`オブジェクトではなく、リストオブジェクトに置き換えることもできます。\n",
        "例えば、\n",
        "```python\n",
        "import matplotlib.pyplot as plt\n",
        "import math\n",
        "pi = math.pi\n",
        "x = [i*pi/50 for i in range(101)]\n",
        "y = [math.sin(t) for t in x]\n",
        "plt.plot(x, y)\n",
        "plt.show()\n",
        "```\n",
        "では、\n",
        "```python\n",
        "y = [math.sin(i*pi/50) for i in range(101)]\n",
        "```\n",
        "を\n",
        "```python\n",
        "y = [math.sin(t) for t in x]\n",
        "```\n",
        "で置き換えていますが、リスト`y`の内容は全く同じになります。\n",
        "プログラムを書き写して、試してみてください。\n"
      ]
    },
    {
      "cell_type": "code",
      "metadata": {
        "id": "rq1oceZaeoTN",
        "colab": {
          "base_uri": "https://localhost:8080/",
          "height": 265
        },
        "outputId": "e9ca2420-f946-45b0-ae4c-afe3a11676a1"
      },
      "source": [
        "import matplotlib.pyplot as plt\n",
        "import math\n",
        "pi = math.pi\n",
        "x = [i*pi/50 for i in range(101)]\n",
        "y = [math.sin(t) for t in x]\n",
        "plt.plot(x, y)\n",
        "plt.show()"
      ],
      "execution_count": null,
      "outputs": [
        {
          "output_type": "display_data",
          "data": {
            "image/png": "[encoded data removed]",
            "text/plain": [
              "<Figure size 432x288 with 1 Axes>"
            ]
          },
          "metadata": {
            "tags": [],
            "needs_background": "light"
          }
        }
      ]
    },
    {
      "cell_type": "markdown",
      "metadata": {
        "id": "IjqGezYvaPmK"
      },
      "source": [
        "もう少し複雑な関数$y = e^{-x^2}cos(10x)$ のグラフを $-\\pi \\le x \\le \\pi$ の領域で描いてみましょう。\n",
        "```python\n",
        "import matplotlib.pyplot as plt\n",
        "import math\n",
        "pi = math.pi\n",
        "x = [n*pi/50 - pi for n in range(101)]\n",
        "y = [math.exp(-xi**2) * math.cos(10*xi) for xi in x]\n",
        "plt.plot(x, y)\n",
        "plt.show()\n",
        "```"
      ]
    },
    {
      "cell_type": "code",
      "metadata": {
        "id": "Wh41lNWuXT7R",
        "colab": {
          "base_uri": "https://localhost:8080/",
          "height": 265
        },
        "outputId": "85c9a449-b30e-46e0-8fb1-bac4f66f4aab"
      },
      "source": [
        "import matplotlib.pyplot as plt\n",
        "import math\n",
        "pi = math.pi\n",
        "x = [n*pi/50 - pi for n in range(101)]\n",
        "y = [math.exp(-xi**2) * math.cos(10*xi) for xi in x]\n",
        "plt.plot(x, y)\n",
        "plt.show()"
      ],
      "execution_count": null,
      "outputs": [
        {
          "output_type": "display_data",
          "data": {
            "image/png": "[encoded data removed]",
            "text/plain": [
              "<Figure size 432x288 with 1 Axes>"
            ]
          },
          "metadata": {
            "tags": [],
            "needs_background": "light"
          }
        }
      ]
    },
    {
      "cell_type": "markdown",
      "metadata": {
        "id": "xHA49Zq0gFXP"
      },
      "source": [
        "`x = [n*pi/50 - pi for n in range(101)]` では、$n$ は0から100まで変化します。\n",
        "$n=0$ の時は $0\\times\\pi/50 - \\pi = -\\pi$、\n",
        "$n=100$ の時は $100\\times\\pi/50 - \\pi = \\pi$ なので、\n",
        "リスト `x` は区間 $[-\\pi, \\pi]$ を100等分した座標を与えます。\n",
        "\n",
        "指数関数$e^x$は、正弦関数と同じように、`math`ライブラリの中で、`math.exp()`で与えられます。\n",
        "指数関数は、英語で、exponential functionと呼びますので、先頭3文字を使って関数名を表します。\n",
        "\n",
        "得られたグラフは、大体雰囲気を掴んではいますが、グラフのピークをみると不自然に尖っている筈です。\n",
        "これは、関数を計算する $x$ 座標の間隔が、$\\pi/50$ではまだ大きいことが理由です。\n",
        "そこで、$x$ 座標の間隔をもっと細かくして、より滑らかなグラフを描いてみます。\n",
        "\n",
        "今度は、$x$ 座標の間隔を、$\\pi/50$から$\\pi/500$にします。\n",
        "```python\n",
        "import matplotlib.pyplot as plt\n",
        "import math\n",
        "pi = math.pi\n",
        "x = [n*pi/500 - pi for n in range(1001)]\n",
        "y = [math.exp(-xi**2) * math.cos(10*xi) for xi in x]\n",
        "plt.plot(x, y)\n",
        "plt.show()\n",
        "```\n",
        "プログラムを実行して、より滑らかなグラフが描画されることを確認してください。"
      ]
    },
    {
      "cell_type": "code",
      "metadata": {
        "id": "_erGIW8_ff78",
        "colab": {
          "base_uri": "https://localhost:8080/",
          "height": 265
        },
        "outputId": "80524f36-59fc-4e4e-bad2-d1ce0ad84af3"
      },
      "source": [
        "pi = math.pi\n",
        "x = [n*pi/500 -pi for n in range(1001)]\n",
        "y = [math.exp(-xi**2) * math.cos(10*xi) for xi in x]\n",
        "plt.plot(x, y)\n",
        "plt.show()"
      ],
      "execution_count": null,
      "outputs": [
        {
          "output_type": "display_data",
          "data": {
            "image/png": "[encoded data removed]",
            "text/plain": [
              "<Figure size 432x288 with 1 Axes>"
            ]
          },
          "metadata": {
            "tags": [],
            "needs_background": "light"
          }
        }
      ]
    },
    {
      "cell_type": "markdown",
      "metadata": {
        "id": "m7drrK7mg7GU"
      },
      "source": [
        "## プログラミング1：第2回演習\n",
        "\n",
        "### 演習2-1\n",
        "$f(x)=x^3-2x^2-x+2$ のグラフを描画するプログラムを、$f(x)=0$ の3つの解がわかるように描画域を適切に選んで作成せよ。\n"
      ]
    },
    {
      "cell_type": "code",
      "metadata": {
        "id": "Judl8LMXgzCu",
        "colab": {
          "base_uri": "https://localhost:8080/",
          "height": 265
        },
        "outputId": "363503c8-486f-4ab9-e281-edc8bd3deccf"
      },
      "source": [
        "# この行の下にプログラムを作成してください。\n",
        "import matplotlib.pyplot as plt\n",
        "import math\n",
        "\n",
        "x = [p/1000 - 1.5 for p in range(4001)]\n",
        "y1 = [(t**3 - 2*t**2 - t + 2) for t in x]\n",
        "plt.plot(x, y1)\n",
        "\n",
        "y2 = [s*0 for s in x]\n",
        "plt.plot(x, y2)\n",
        "plt.show()\n",
        "\n"
      ],
      "execution_count": null,
      "outputs": [
        {
          "output_type": "display_data",
          "data": {
            "image/png": "[encoded data removed]",
            "text/plain": [
              "<Figure size 432x288 with 1 Axes>"
            ]
          },
          "metadata": {
            "tags": [],
            "needs_background": "light"
          }
        }
      ]
    },
    {
      "cell_type": "markdown",
      "metadata": {
        "id": "WOT3KWYCpy9I"
      },
      "source": [
        "### 演習2-2\n",
        "$\\theta$ が $[-\\pi, \\pi]$ の区間を動く時、\n",
        "点$(2\\cos\\theta, \\sin\\theta)$ の軌跡を描画せよ。\n"
      ]
    },
    {
      "cell_type": "code",
      "metadata": {
        "id": "zU7H5phSqWpg",
        "colab": {
          "base_uri": "https://localhost:8080/",
          "height": 265
        },
        "outputId": "242c0cbc-0120-4fe1-fe54-d399cb50211b"
      },
      "source": [
        "# この行の下にプログラムを作成してください。\n",
        "import matplotlib.pyplot as plt\n",
        "import math\n",
        "pi = math.pi\n",
        "\n",
        "x = [pi*xi/100 - pi for xi in range(201)]\n",
        "x1 = [2* math.cos(xi) for xi in x]\n",
        "y1 = [math.sin(yi) for yi in x]\n",
        "plt.plot(x1, y1)\n",
        "plt.show()\n",
        "\n"
      ],
      "execution_count": null,
      "outputs": [
        {
          "output_type": "display_data",
          "data": {
            "image/png": "[encoded data removed]",
            "text/plain": [
              "<Figure size 432x288 with 1 Axes>"
            ]
          },
          "metadata": {
            "tags": [],
            "needs_background": "light"
          }
        }
      ]
    }
  ]
}