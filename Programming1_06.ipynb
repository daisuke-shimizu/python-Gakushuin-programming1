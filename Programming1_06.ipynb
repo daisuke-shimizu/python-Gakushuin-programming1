{
  "nbformat": 4,
  "nbformat_minor": 0,
  "metadata": {
    "colab": {
      "name": "Programming1_06.ipynb",
      "provenance": [],
      "collapsed_sections": [],
      "include_colab_link": true
    },
    "kernelspec": {
      "display_name": "Python 3",
      "language": "python",
      "name": "python3"
    },
    "language_info": {
      "codemirror_mode": {
        "name": "ipython",
        "version": 3
      },
      "file_extension": ".py",
      "mimetype": "text/x-python",
      "name": "python",
      "nbconvert_exporter": "python",
      "pygments_lexer": "ipython3",
      "version": "3.7.5"
    }
  },
  "cells": [
    {
      "cell_type": "markdown",
      "metadata": {
        "id": "view-in-github",
        "colab_type": "text"
      },
      "source": [
        "<a href=\"https://colab.research.google.com/github/daisuke-shimizu/python-Gakushuin-programming1/blob/main/Programming1_06.ipynb\" target=\"_parent\"><img src=\"https://colab.research.google.com/assets/colab-badge.svg\" alt=\"Open In Colab\"/></a>"
      ]
    },
    {
      "cell_type": "markdown",
      "metadata": {
        "id": "slQr1QV3LaQG"
      },
      "source": [
        "# 前回の演習問題の解答例\n",
        "\n",
        "**演習 5-4**、**演習 5-6**、**演習 5-8**を除いて、解答例を示します。\n",
        "\n",
        "### 演習 5-1\n",
        "\n",
        "引数の`x`では$x$座標（$0 \\le x \\le 1$）を指定する時、\n",
        "`unit_qcirc`関数は対応する四分円上の点の$y$座標を返すように、\n",
        "以下のプログラムを完成せよ。\n",
        "\n",
        "```python\n",
        "def unit_qcirc(x):\n",
        "  y = #　ここに関数の式を書きます\n",
        "  return y\n",
        "```\n",
        "\n",
        "更に、関数`unit_qcirc(x)`を用いて、\n",
        "半径1の四分円を$0\\le x\\le 1$の範囲で描画せよ。\n",
        "\n",
        "### 解答例\n",
        "```python\n",
        "math.sqrt(1 - x**2)\n",
        "```\n",
        "\n",
        "### 演習 5-2\n",
        "\n",
        "関数`unit_qcirc`のプログラムは、半径を1に固定して、四分円上の点の$y$座標を計算する。\n",
        "半径を固定せず、半径$r$を関数の引数として指定し、\n",
        "半径$r$の四分円を$0<x<r$で与える関数`qcirc(x,r)`を定義せよ。\n",
        "\n",
        "その上で、描画範囲を$0 \\le x \\le r$として、四分円を描画せよ。\n",
        "\n",
        "### 解答例\n",
        "\n",
        "```python\n",
        "def qcirc(x,r):\n",
        "    return math.sqrt(r**2 - x**2)\n",
        "```\n",
        "\n",
        "### 演習 5-3\n",
        "`draw_graph_proto`関数を使って、\n",
        "平方根関数`math.sqrt`と対数関数`math.log`のグラフを描画せよ。\n",
        "\n",
        "### 解答例\n",
        "\n",
        "```python\n",
        "draw_graph_proto(math.sin)\n",
        "```\n",
        "\n",
        "### 演習 5-5\n",
        "演習 5-4を参考にして、\n",
        "任意の区間$a<x<b$の区間で描画できるよう、関数`draw_graph(f, a, b)`を定義せよ。\n",
        "区間$a < x < b$中に均等間隔で100個の値をとって、\n",
        "その値を$x$座標とするグラフ上の点をプロットする。\n",
        "\n",
        "ただし、プログラムの最初の行は\n",
        "```python\n",
        "def draw_graph(f, a, b):\n",
        "```\n",
        "とせよ。\n",
        "\n",
        "### 解答\n",
        "\n",
        "```python\n",
        "def draw_graph(f,a,b):\n",
        "    x = [a + (b - a) * n/100 for n in range(101)]\n",
        "    y = [f(t) for t in x]\n",
        "    plt.plot(x, y)\n",
        "    plt.show()\n",
        "```\n",
        "\n",
        "ただし、この解は解答としては誤りを含んでいます。\n",
        "以下を試してみて、また、問題文をよく読み直してみて、\n",
        "プログラムを修正して下さい。\n",
        "\n",
        "* 正弦関数`math.sin`を$0 \\le x \\le \\pi$の範囲で描画せよ。\n",
        "* 対数関数`math.log`を$0 \\le x \\le 1$の範囲で描画せよ。\n",
        "\n",
        "### 演習 5-7\n",
        "区間$a<x<b$で定義される任意の関数$f$に対して、\n",
        "区間$a<x<b$での最大値を近似的に求める関数`maxf`を作成せよ。\n",
        "\n",
        "**ヒント** 関数`draw_gragh`と同様に、区間$a<x<b$中に均等間隔でとった100個の$x$に足して$f(x)$を計算し、その最大値を近似値とせよ。\n",
        "\n",
        "**ヒント** 前講でみたように`max(リスト名)`は、リストに含まれる要素の数値の最大値を返す。\n",
        "例えば、`max([1,2,3])`は、値`3`を返す。\n",
        "\n",
        "### 解答例\n",
        "\n",
        "```python\n",
        "def maxf(f,a,b):\n",
        "    x = [a + (b - a) * n/100 for n in range(0:100)]\n",
        "    return max([f(t) for t in x])\n",
        "```\n",
        "\n",
        "### 演習 5-9\n",
        "関数$f$が「$a<x<b$で$f(x)>0$」という条件を満足する時、\n",
        "区間$a<x<b$で曲線$y = f(x)$と$y=0$が囲む領域の面積を求める関数\n",
        "`integral(f, a, b, N)`を作成せよ。\n",
        "\n",
        "\n",
        "**ヒント** 演習 5-7で作成した`maxf`関数を用いて、関数$f$の区間$a<x<b$での最大値$m = \\max_{a<x<b}f(x)$を求めよ。\n",
        "\n",
        "**ヒント** $a<x<b$及び$0<y<m$の長方形領域の中で一様に点を発生させよ。\n",
        "$a<x<b$を満たす乱数を一様に生成するには、`a + (b-a)*rnd.random()`が使える。\n",
        "`rnd.random()`は、0と1の間で乱数を一様ランダムに発生させる。\n",
        "\n",
        "**ヒント** ランダムに発生させた点$(x, y)$が領域$y<f(x)$に落ちる確率は、$\\displaystyle\\frac{\\text{囲まれた領域の面積}}{矩形の面積}$であるので、$\\displaystyle \\frac S{(b-a)m}$である。\n",
        "従って、$\\displaystyle S = \\frac{\\text{領域内の天の個数}}N\\cdot (b-a)m$になる。\n",
        "\n",
        "### 解答例\n",
        "\n",
        "```python\n",
        "import random\n",
        "def integral(f, a, b, N):\n",
        "    m = maxf(f, a, b)\n",
        "    x = [a + (b-a)*random.random() for _ in range(N)]\n",
        "    y = [m * random.random() for _ in range(N)]\n",
        "    S = 0\n",
        "    for n in range(N):\n",
        "        if y[n] < f(x[n]):\n",
        "            S += 1\n",
        "    return S/N * m * (b-a)\n",
        "```\n",
        "\n",
        "### 演習 5-10\n",
        "演習 5-２で作成した関数`qcirc(x, r)`と演習 5-9で作成した面積（定積分）を求めるプログラムを利用し、$0 < x < 2$の範囲の半径２の四分円の面積を近似計算せよ。\n",
        "また、値が$\\pi$の近似になることを確認せよ。\n",
        "\n",
        "**ヒント** 四分円の面積は、$0 \\le x \\le 2$の領域で、曲線$y = \\mathrm{qcirc}(x, 2)$より下の領域の面積と等しい。\n",
        "\n",
        "**ヒント** 以下のように関数$f(x)$を定義して、$f$を引数にして、演習７で作成した`integral`関数を呼び出す。\n",
        "\n",
        "### 解答例\n",
        "\n",
        "次のプログラムの引数を修正すると、正しい答えが得られます。\n",
        "\n",
        "```python\n",
        "def f(x):\n",
        "    return qcirc(x, 2)\n",
        "print(integral(f, 1, 2, 10))\n",
        "```\n",
        "  "
      ]
    },
    {
      "cell_type": "markdown",
      "metadata": {
        "id": "JlXKTFssw-mz"
      },
      "source": [
        "# 第6回　第5回までの復習\n",
        "\n",
        "第5回までで、Pythonについて、多くのことを学びました。\n",
        "これまでに学んだ知識だけでも、実用的なプログラムをかなり書ける筈です。\n",
        "この資料では、これまでの資料で少し分かりにくかった3項目、スコープとインデント、内分点、グラフの描画、について、整理します。\n",
        "\n",
        "## スコープとインデント\n",
        "\n",
        "Pythonは、インデントが意味を持つ珍しいプログラム言語です。\n",
        "Python以外のプログラム言語でも、コードを読みやすくするために、インデントを利用してプログラムを記述することが推奨されますが、Pythonではインデントの利用を強制することで、プログラムの構造を理解しやすくすると共に、\n",
        "従来のプログラム言語では頻発するある種のエラーを回避しようという狙いがあります。\n",
        "ただ、逆に、インデントの幅が間違っていると、それだけでプログラムが動かなくなるなど、分かり難さの原因にもなっていると思います。\n",
        "インデントを理解するためには、スコープという概念を理解しなければなりませんが、それは難しいものではありません。\n",
        "次のプログラムを読んで、実行してください。\n",
        "```python\n",
        "print(\"インデントが正しくないプログラムの実行例です。\")\n",
        "for n in range (5):\n",
        "  print(n, \"の二乗は\")\n",
        "print(n**2, \"です。\")\n",
        "print(\"\")\n",
        "print(\"本来意図したプログラムの実行結果です。\")\n",
        "for n in range (5):\n",
        "  print(n, \"の二乗は\")\n",
        "  print(n**2, \"です。\")\n",
        "```"
      ]
    },
    {
      "cell_type": "code",
      "metadata": {
        "colab": {
          "base_uri": "https://localhost:8080/"
        },
        "id": "8yItCXL7Wp8u",
        "outputId": "17a2268d-35cd-4458-9631-9220c463a230"
      },
      "source": [
        "print(\"インデントが正しくないプログラムの実行例です。\")\n",
        "for n in range (5):\n",
        "  print(n, \"の二乗は\")\n",
        "print(n**2, \"です。\")\n",
        "print(\"\")\n",
        "print(\"本来意図したプログラムの実行結果です。\")\n",
        "for n in range (5):\n",
        "  print(n, \"の二乗は\")\n",
        "  print(n**2, \"です。\")"
      ],
      "execution_count": null,
      "outputs": [
        {
          "output_type": "stream",
          "text": [
            "インデントが正しくないプログラムの実行例です。\n",
            "0 の二乗は\n",
            "1 の二乗は\n",
            "2 の二乗は\n",
            "3 の二乗は\n",
            "4 の二乗は\n",
            "16 です。\n",
            "\n",
            "本来意図したプログラムの実行結果です。\n",
            "0 の二乗は\n",
            "0 です。\n",
            "1 の二乗は\n",
            "1 です。\n",
            "2 の二乗は\n",
            "4 です。\n",
            "3 の二乗は\n",
            "9 です。\n",
            "4 の二乗は\n",
            "16 です。\n"
          ],
          "name": "stdout"
        }
      ]
    },
    {
      "cell_type": "markdown",
      "metadata": {
        "id": "2uDxv-xoXN4T"
      },
      "source": [
        "`for n in range(5):`は、`n`の値を0から4まで順番に変えて、繰り返し実行を行うことを意味しています。\n",
        "繰り返すので、**ループ構造**と呼ばれることもあります。\n",
        "では、プログラムのどの範囲の行を繰り返すかというのが問題となりますが、\n",
        "この範囲が**forループのスコープ**です。\n",
        "Pythonでは、`for`文のあとのインデントされた領域で、スコープを指定します。\n",
        "\n",
        "例のプログラムの前半は、スコープの範囲の指定をしくじっています。\n",
        "```python\n",
        "for n in range (5):\n",
        "  print(n, \"の二乗は\")\n",
        "print(n**2, \"です。\")\n",
        "```\n",
        "`for`分のあと、インデントされているのは、\n",
        "```python\n",
        "  print(n, \"の二乗は\")\n",
        "```\n",
        "の一行だけです。\n",
        "従って、`for`ループでは、この一行を5回繰り返します。その結果、\n",
        "```\n",
        "0 の二乗は\n",
        "1 の二乗は\n",
        "2 の二乗は\n",
        "3 の二乗は\n",
        "4 の二乗は\n",
        "```\n",
        "という表示が繰り返され、肝心の二乗の値が表示されません。\n",
        "\n",
        "本来のプログラムの意図は、$n$の値を０から４まで順に取り替えて、$n^2$の値を5個表示することです。\n",
        "従って、`for`ループでは、\n",
        "```python\n",
        "  print(n, \"の二乗は\")\n",
        "  print(n**2, \"です。\")\n",
        "```\n",
        "の二行を5回繰り返さなければなりません。\n",
        "プログラムの後半では、\n",
        "```python\n",
        "for n in range (5):\n",
        "  print(n, \"の二乗は\")\n",
        "  print(n**2, \"です。\")\n",
        "```\n",
        "と、`print(n, \"の二乗は\")`の一行だけでなく、`print(n**2, \"です。\")`を含めた二行を、\n",
        "同じレベル（同じインデント幅）でインデントし、\n",
        "`for`ループのスコープがこの2行であることを指定しています。\n",
        "\n",
        "インデントの幅を間違えたり、インデントに全角スペースなどが含まれたりすると、プログラムがうまく動きません。\n",
        "そのため、Colaboratoryでは、自動的にインデントを教えてくれます。\n",
        "```python\n",
        "for n in range(5):\n",
        "```\n",
        "とタイプした後でEnterを押下すると、勝手にインデントしてくれます。\n",
        "コロン`:`がインデントを指示する記号で、\n",
        "**`:`コロンをタイプしないとインデントしてくれない**ことに注意してください。\n",
        "プログラムとしてもエラーが出ます。\n",
        "```python\n",
        "  print(n, \"の二乗は\")\n",
        "```\n",
        "を入力した後、Enterを押下すると、次の行の先頭には同じ幅のインデントが自動的に入力されます。\n",
        "インデントを消して、スコープから抜けたい時は、バックスペースを押下すればOKです。\n",
        "\n",
        "手入力でインデントを指定する時には、TabキーとShift+Tabキーを使って下さい。\n",
        "**決してスペースは使わない**で下さい。\n",
        "正しく半角スペースでインデントを指定できれば問題はありませんが、\n",
        "えてしてエラーを誘発する原因になります。\n",
        "**Tabキーでインデント幅が一段増え、Shift+Tabキーでインデント幅が一段減ります**。\n",
        "インデント幅を間違えると、エラーで、プログラムは止まってしまうことがあります。\n",
        "特に、**インデント中の全角のスペースは必ずエラー**を引き起こします。\n",
        "全角のスペースと半角のスペースは区別がつきにくく、このエラーは取り除くことが困難です。\n",
        "これが、インデントにスペースを使ってはいけない理由の一つです。\n",
        "\n",
        "スコープは、`for`文だけではなく、多くの構文に存在します。\n",
        "例えば、`if`文です。\n",
        "`if`文では、`if`の後に論理式（真偽が判定できる式）が来て、その値が真である時に、\n",
        "指定のプログラムを実行します。\n",
        "真の時に実行されるプログラムも、任意数の行から構成することができるので、\n",
        "その範囲をスコープとして指定する必要があります。\n",
        "Pythonでは、一貫して、スコープはインデントで指定します。\n",
        "次のコードを実行してください。\n",
        "```python\n",
        "import random as rnd\n",
        "face = rnd.choice(['head', 'tail']) # コイントスの実行。headはコインの表、tailは裏の意味\n",
        "count_head = 0\n",
        "if face == 'head':\n",
        "  count_head += 1\n",
        "  print(\"コイントスの結果、表が出ました。\")\n",
        "  print(\"今までに、表が出た回数は、\", count_head, \"回です。\")\n",
        "if face == 'tail':\n",
        "  print(\"コイントスの結果、裏が出ました。\")\n",
        "```"
      ]
    },
    {
      "cell_type": "code",
      "metadata": {
        "colab": {
          "base_uri": "https://localhost:8080/"
        },
        "id": "EqWL50PVgGLt",
        "outputId": "338c7e76-7cf9-461b-9cc6-a0999d4a732b"
      },
      "source": [
        "import random as rnd\n",
        "face = rnd.choice(['head', 'tail'])\n",
        "count_head = 0\n",
        "if face == 'head':\n",
        "  count_head += 1\n",
        "  print('コイントスの結果、表が出ました。')\n",
        "  print('今までに、表が出た回数は、', count_head, '回です。')\n",
        "if face == 'tail':\n",
        "  print('コイントスの結果、裏が出ました。')"
      ],
      "execution_count": null,
      "outputs": [
        {
          "output_type": "stream",
          "text": [
            "コイントスの結果、表が出ました。\n",
            "今までに、表が出た回数は、 1 回です。\n"
          ],
          "name": "stdout"
        }
      ]
    },
    {
      "cell_type": "markdown",
      "metadata": {
        "id": "Qo_uvz5_ilNF"
      },
      "source": [
        "`face == 'head'`は論理式で、faceの値が文字列`'head'`であれば真、`'tail'`であれば偽の値になります。\n",
        "headは英語で表、tailは裏を意味します。\n",
        "\n",
        "`if face == 'head':`は、`face == 'head'`が真であれば、付属するスコープのプログラムを実行します。\n",
        "そして、この場合のスコープは、`if face == 'head':`の行以下でインデントされた3行になります。\n",
        "繰り返しですが、`if`文が成立する（論理式の値が真になる）時に実行するコードの範囲を、`if`文のスコープといいますが、スコープを指定してあげないと、Pythonは`if`文が成立しても、何を実行したらいいのかわからなくなってしまいます。\n",
        "\n",
        "`if face == 'tail':`は、コイントスの結果裏`'tail'`が出た時に成立します。\n",
        "この`if`文の後の1行しかインデントされていませんので、スコープはこの1行だけになります。\n",
        "\n",
        "次のプログラムは、後9回、合計10回コイントスを行い、都度結果を表示すると共に、最後にまとめとして、合計で何回表が出たかを表示します。\n",
        "```python\n",
        "count_head = 0 # count_headの値をリセット\n",
        "# 1回目のコイントス\n",
        "face = rnd.choice(['head', 'tail']) # headはコインの表、tailは裏の意味\n",
        "if face == 'head':\n",
        "  count_head += 1\n",
        "  print(\"コイントスの結果、表が出ました。\")\n",
        "  print(\"今までに、表が出た回数は、\", count_head, \"回です。\")\n",
        "if face == 'tail':\n",
        "  print(\"コイントスの結果、裏が出ました。\")\n",
        "# 2回目のコイントス\n",
        "face = rnd.choice(['head', 'tail']) # headはコインの表、tailは裏の意味\n",
        "if face == 'head':\n",
        "  count_head += 1\n",
        "  print(\"コイントスの結果、表が出ました。\")\n",
        "  print(\"今までに、表が出た回数は、\", count_head, \"回です。\")\n",
        "if face == 'tail':\n",
        "  print(\"コイントスの結果、裏が出ました。\")\n",
        "# 3回目のコイントス\n",
        "face = rnd.choice(['head', 'tail']) # headはコインの表、tailは裏の意味\n",
        "if face == 'head':\n",
        "  count_head += 1\n",
        "  print(\"コイントスの結果、表が出ました。\")\n",
        "  print(\"今までに、表が出た回数は、\", count_head, \"回です。\")\n",
        "if face == 'tail':\n",
        "  print(\"コイントスの結果、裏が出ました。\")\n",
        "# 4回目のコイントス\n",
        "face = rnd.choice(['head', 'tail']) # headはコインの表、tailは裏の意味\n",
        "if face == 'head':\n",
        "  count_head += 1\n",
        "  print(\"コイントスの結果、表が出ました。\")\n",
        "  print(\"今までに、表が出た回数は、\", count_head, \"回です。\")\n",
        "if face == 'tail':\n",
        "  print(\"コイントスの結果、裏が出ました。\")\n",
        "# 5回目のコイントス\n",
        "face = rnd.choice(['head', 'tail']) # headはコインの表、tailは裏の意味\n",
        "if face == 'head':\n",
        "  count_head += 1\n",
        "  print(\"コイントスの結果、表が出ました。\")\n",
        "  print(\"今までに、表が出た回数は、\", count_head, \"回です。\")\n",
        "if face == 'tail':\n",
        "  print(\"コイントスの結果、裏が出ました。\")\n",
        "# 6回目のコイントス\n",
        "face = rnd.choice(['head', 'tail']) # headはコインの表、tailは裏の意味\n",
        "if face == 'head':\n",
        "  count_head += 1\n",
        "  print(\"コイントスの結果、表が出ました。\")\n",
        "  print(\"今までに、表が出た回数は、\", count_head, \"回です。\")\n",
        "if face == 'tail':\n",
        "  print(\"コイントスの結果、裏が出ました。\")\n",
        "# 7回目のコイントス\n",
        "face = rnd.choice(['head', 'tail']) # headはコインの表、tailは裏の意味\n",
        "if face == 'head':\n",
        "  count_head += 1\n",
        "  print(\"コイントスの結果、表が出ました。\")\n",
        "  print(\"今までに、表が出た回数は、\", count_head, \"回です。\")\n",
        "if face == 'tail':\n",
        "  print(\"コイントスの結果、裏が出ました。\")\n",
        "# 8回目のコイントス\n",
        "face = rnd.choice(['head', 'tail']) # headはコインの表、tailは裏の意味\n",
        "if face == 'head':\n",
        "  count_head += 1\n",
        "  print(\"コイントスの結果、表が出ました。\")\n",
        "  print(\"今までに、表が出た回数は、\", count_head, \"回です。\")\n",
        "if face == 'tail':\n",
        "  print(\"コイントスの結果、裏が出ました。\")\n",
        "# 9回目のコイントス\n",
        "face = rnd.choice(['head', 'tail']) # headはコインの表、tailは裏の意味\n",
        "if face == 'head':\n",
        "  count_head += 1\n",
        "  print(\"コイントスの結果、表が出ました。\")\n",
        "  print(\"今までに、表が出た回数は、\", count_head, \"回です。\")\n",
        "if face == 'tail':\n",
        "  print(\"コイントスの結果、裏が出ました。\")\n",
        "# 10回目のコイントス\n",
        "face = rnd.choice(['head', 'tail']) # headはコインの表、tailは裏の意味\n",
        "if face == 'head':\n",
        "  count_head += 1\n",
        "  print(\"コイントスの結果、表が出ました。\")\n",
        "  print(\"今までに、表が出た回数は、\", count_head, \"回です。\")\n",
        "if face == 'tail':\n",
        "  print(\"コイントスの結果、裏が出ました。\")\n",
        "# まとめ\n",
        "print(\"10回コイントスを行い、表は\", count_head, \"回出ました。\")\n",
        "```"
      ]
    },
    {
      "cell_type": "code",
      "metadata": {
        "id": "tqGluon2hwXW"
      },
      "source": [
        ""
      ],
      "execution_count": null,
      "outputs": []
    },
    {
      "cell_type": "markdown",
      "metadata": {
        "id": "GgeEWcH5l-hl"
      },
      "source": [
        "このプログラムはやたらと長いので、`for`文を使って、短くしてみます。\n",
        "\n",
        "前のプログラムでは、コイントスを行い、その結果を表示する同じプログラムを、\n",
        "10回記述していたのに対し、\n",
        "新しいプログラムでは、\n",
        "`for`ループの中でプログラムを10回繰り返すことで、\n",
        "何回も同じ内容を記述しなくて良いようにしています。\n",
        "```python\n",
        "import random as rnd\n",
        "count_head = 0\n",
        "for n in range(10):\n",
        "  face = rnd.choice(['head', 'tail']) # headはコインの表、tailは裏の意味\n",
        "  if face == 'head':\n",
        "    count_head += 1\n",
        "    print(\"コイントスの結果、表が出ました。\")\n",
        "    print(\"今までに、表が出た回数は、\", count_head, \"回です。\")\n",
        "  if face == 'tail':\n",
        "    print(\"コイントスの結果、裏が出ました。\")\n",
        "# まとめ\n",
        "print(\"10回コイントスを行い、表は\", count_head, \"回出ました。\")\n",
        "```"
      ]
    },
    {
      "cell_type": "code",
      "metadata": {
        "colab": {
          "base_uri": "https://localhost:8080/"
        },
        "id": "3wpZyWXtm47w",
        "outputId": "52e6d931-ab77-4696-97db-a322bfa849e4"
      },
      "source": [
        "count_head = 0 # count_headの値をリセット\n",
        "# 1回目\n",
        "face = rnd.choice(['head', 'tail']) # headはコインの表、tailは裏の意味\n",
        "if face == 'head':\n",
        "  count_head += 1\n",
        "  print(\"コイントスの結果、表が出ました。\")\n",
        "  print(\"今までに、表が出た回数は、\", count_head, \"回です。\")\n",
        "if face == 'tail':\n",
        "  print(\"コイントスの結果、裏が出ました。\")\n",
        "# 2回目\n",
        "face = rnd.choice(['head', 'tail']) # headはコインの表、tailは裏の意味\n",
        "if face == 'head':\n",
        "  count_head += 1\n",
        "  print(\"コイントスの結果、表が出ました。\")\n",
        "  print(\"今までに、表が出た回数は、\", count_head, \"回です。\")\n",
        "if face == 'tail':\n",
        "  print(\"コイントスの結果、裏が出ました。\")\n",
        "# 3回目\n",
        "face = rnd.choice(['head', 'tail']) # headはコインの表、tailは裏の意味\n",
        "if face == 'head':\n",
        "  count_head += 1\n",
        "  print(\"コイントスの結果、表が出ました。\")\n",
        "  print(\"今までに、表が出た回数は、\", count_head, \"回です。\")\n",
        "if face == 'tail':\n",
        "  print(\"コイントスの結果、裏が出ました。\")\n",
        "# 4回目\n",
        "face = rnd.choice(['head', 'tail']) # headはコインの表、tailは裏の意味\n",
        "if face == 'head':\n",
        "  count_head += 1\n",
        "  print(\"コイントスの結果、表が出ました。\")\n",
        "  print(\"今までに、表が出た回数は、\", count_head, \"回です。\")\n",
        "if face == 'tail':\n",
        "  print(\"コイントスの結果、裏が出ました。\")\n",
        "# 5回目\n",
        "face = rnd.choice(['head', 'tail']) # headはコインの表、tailは裏の意味\n",
        "if face == 'head':\n",
        "  count_head += 1\n",
        "  print(\"コイントスの結果、表が出ました。\")\n",
        "  print(\"今までに、表が出た回数は、\", count_head, \"回です。\")\n",
        "if face == 'tail':\n",
        "  print(\"コイントスの結果、裏が出ました。\")\n",
        "# 6回目\n",
        "face = rnd.choice(['head', 'tail']) # headはコインの表、tailは裏の意味\n",
        "if face == 'head':\n",
        "  count_head += 1\n",
        "  print(\"コイントスの結果、表が出ました。\")\n",
        "  print(\"今までに、表が出た回数は、\", count_head, \"回です。\")\n",
        "if face == 'tail':\n",
        "  print(\"コイントスの結果、裏が出ました。\")\n",
        "# 7回目\n",
        "face = rnd.choice(['head', 'tail']) # headはコインの表、tailは裏の意味\n",
        "if face == 'head':\n",
        "  count_head += 1\n",
        "  print(\"コイントスの結果、表が出ました。\")\n",
        "  print(\"今までに、表が出た回数は、\", count_head, \"回です。\")\n",
        "if face == 'tail':\n",
        "  print(\"コイントスの結果、裏が出ました。\")\n",
        "# 8回目\n",
        "face = rnd.choice(['head', 'tail']) # headはコインの表、tailは裏の意味\n",
        "if face == 'head':\n",
        "  count_head += 1\n",
        "  print(\"コイントスの結果、表が出ました。\")\n",
        "  print(\"今までに、表が出た回数は、\", count_head, \"回です。\")\n",
        "if face == 'tail':\n",
        "  print(\"コイントスの結果、裏が出ました。\")\n",
        "# 9回目\n",
        "face = rnd.choice(['head', 'tail']) # headはコインの表、tailは裏の意味\n",
        "if face == 'head':\n",
        "  count_head += 1\n",
        "  print(\"コイントスの結果、表が出ました。\")\n",
        "  print(\"今までに、表が出た回数は、\", count_head, \"回です。\")\n",
        "if face == 'tail':\n",
        "  print(\"コイントスの結果、裏が出ました。\")\n",
        "# 10回目\n",
        "face = rnd.choice(['head', 'tail']) # headはコインの表、tailは裏の意味\n",
        "if face == 'head':\n",
        "  count_head += 1\n",
        "  print(\"コイントスの結果、表が出ました。\")\n",
        "  print(\"今までに、表が出た回数は、\", count_head, \"回です。\")\n",
        "if face == 'tail':\n",
        "  print(\"コイントスの結果、裏が出ました。\")\n",
        "# まとめ\n",
        "print(\"10回コイントスを行い、表は\", count_head, \"回出ました。\")\n"
      ],
      "execution_count": null,
      "outputs": [
        {
          "output_type": "stream",
          "text": [
            "コイントスの結果、表が出ました。\n",
            "今までに、表が出た回数は、 1 回です。\n",
            "コイントスの結果、表が出ました。\n",
            "今までに、表が出た回数は、 2 回です。\n",
            "コイントスの結果、表が出ました。\n",
            "今までに、表が出た回数は、 3 回です。\n",
            "コイントスの結果、表が出ました。\n",
            "今までに、表が出た回数は、 4 回です。\n",
            "コイントスの結果、表が出ました。\n",
            "今までに、表が出た回数は、 5 回です。\n",
            "コイントスの結果、表が出ました。\n",
            "今までに、表が出た回数は、 6 回です。\n",
            "コイントスの結果、表が出ました。\n",
            "今までに、表が出た回数は、 7 回です。\n",
            "コイントスの結果、表が出ました。\n",
            "今までに、表が出た回数は、 8 回です。\n",
            "コイントスの結果、表が出ました。\n",
            "今までに、表が出た回数は、 9 回です。\n",
            "コイントスの結果、表が出ました。\n",
            "今までに、表が出た回数は、 10 回です。\n",
            "10回コイントスを行い、表は 10 回出ました。\n"
          ],
          "name": "stdout"
        }
      ]
    },
    {
      "cell_type": "markdown",
      "metadata": {
        "id": "l8X-2xwtm4Dw"
      },
      "source": [
        "このプログラムを見るとわかるように、\n",
        "スコープは、入れ子構造をとります。\n",
        "入子構造とは、スコープの中に、新たなスコープが定義されることです。\n",
        "このプログラムでは、\n",
        "`for`文のスコープ（4行〜10行）の中に、\n",
        "`if`文のスコープが2箇所（6行〜8行、10行）存在します。\n",
        "\n",
        "入れ子構造は、インデントのレベル（段数、インデント幅）で表現されます。\n",
        "わかりやすいように、上のプログラムの核心部分を取り出して、調べてみましょう。\n",
        "```python\n",
        "for n in range(10):\n",
        "  face = rnd.choice(['head', 'tail']) # headはコインの表、tailは裏の意味\n",
        "  if face == 'head':\n",
        "    count_head += 1\n",
        "    print(\"コイントスの結果、表が出ました。\")\n",
        "    print(\"今までに、表が出た回数は、\", count_head, \"回です。\")\n",
        "  if face == 'tail':\n",
        "    print(\"コイントスの結果、裏が出ました。\")\n",
        "```\n",
        "1行目の`for n in range(10):`は`for`ループを宣言していますので、\n",
        "繰り返し実行の範囲であるスコープが続きます。\n",
        "このスコープは、１段**以上**のインデントが与えられた7行になります。\n",
        "\n",
        "`for`文のスコープの中に`if face == 'head':`が現れ、\n",
        "この`if`文のスコープを`for`文のスコープの中でさらに決定しなければなりませんが、\n",
        "これはもう一段インデントを深くすることで行ます。\n",
        "この例では、`if face == 'head':`の後の3行が、\n",
        "この`if`文のスコープになりますが、インデントが一段深くなっていることがわかると思います。\n",
        "\n",
        "最初の`if`文のスコープを抜けるためには、インデントを一段浅くします。\n",
        "現在のインデントを一段深くするには、Tabキーを押下し、一段浅くするには、Shift+Tabを押下します。\n",
        "\n",
        "`if face == 'tail':`のスコープは、\n",
        "続く1行になりますので、インデントが一段深くなっていることがわかると思います。\n",
        "\n",
        "このように、スコープの入れ子構造は、インデントの段数で表現されますが、\n",
        "入れ子構造の深さ、つまり、インデントの段数の深さには制限はありません。\n",
        "**新しいスコープに入ったらインデントを一段深くし、\n",
        "スコープを抜けたらインデントを一段浅くする**という規則を覚えておけば、\n",
        "間違いはありません。\n",
        "\n",
        "関数の定義も複数行にわたることがありますので、定義の範囲をスコープで指定します。\n",
        "ここでは、第4回と第5回のサンプルプログラムを使って、関数の定義方法を、スコープの観点から少し詳しく説明します。\n",
        "\n",
        "第5回資料では、半径1の四分円を$0<x<1$で与える関数`unit_qcirc(x)`を、次のように定義しました。\n",
        "\n",
        "半径１の円は、$x^2 + y^2 = 1$で与えられますが、四分円はそのうち$x \\ge 0$、$y \\ge 0$の部分です。\n",
        "ですので、\n",
        "\n",
        "$$\n",
        "y = \\sqrt{1 - x^2}\n",
        "$$\n",
        "\n",
        "が成り立ちます。\n",
        "`unit_qcirc(x)`はこの式を使って、入力$x$に対して、`y`の値を返す関数になります。\n",
        "\n",
        "原則として、関数は入力に対して出力を返すわけですが（出力を返さない関数もあります）、\n",
        "関数独自の計算を行って、出力を`return`文を使って返すところまでが、関数の定義で、その関数のスコープとなります。\n",
        "これまでと同じように、\n",
        "関数のスコープもインデントを使って指定します。\n",
        "演習5-1の答えは、\n",
        "```python\n",
        "import math\n",
        "def unit_qcirc(x):\n",
        "  y = math.sqrt(1 - x**2)\n",
        "  return y\n",
        "```\n",
        "になります。\n",
        "最初の行`def unit_qcirc(x):`に続く2行が、この関数定義のスコープで、\n",
        "インデントされていることがわかると思います。\n",
        "\n",
        "この関数定義と以下の検証のためのプログラムを、スコープとインデントに気をつけながら、同じコードセル内に記述し、実行結果を確かめてください。\n",
        "```python\n",
        "print(unit_qcirc(0.5))\n",
        "```\n",
        "`0.866...`が表示されれば、正解です。\n"
      ]
    },
    {
      "cell_type": "code",
      "metadata": {
        "colab": {
          "base_uri": "https://localhost:8080/"
        },
        "id": "6aH4o31OrH3T",
        "outputId": "2b038d83-6e6d-42ca-f0ec-cae59bbcbfd1"
      },
      "source": [
        "import math\n",
        "def unit_qcirc(x):\n",
        "  y = math.sqrt(1 - x**2)\n",
        "  return y\n",
        "\n",
        "print(unit_qcirc(0.5))"
      ],
      "execution_count": null,
      "outputs": [
        {
          "output_type": "stream",
          "text": [
            "0.8660254037844386\n"
          ],
          "name": "stdout"
        }
      ]
    },
    {
      "cell_type": "markdown",
      "metadata": {
        "id": "HUJROuecsQXD"
      },
      "source": [
        "もう少し複雑な例として、第4回で定義した組み合わせを求める関数`comb(n, m)`をみてみましょう。\n",
        "\n",
        "```python\n",
        "def comb(n, m): #nとmは整数でn≧m≧0\n",
        "  if m == 0:\n",
        "    return 1\n",
        "  else:\n",
        "    r = 1\n",
        "    for i in range(m):\n",
        "      r *= (n-i)/(m-i)\n",
        "    return r\n",
        "```\n",
        "\n",
        "関数定義のスコープは、`def comb(n, m):`に続く7行ですが、\n",
        "その中に、更に、スコープをもつプログラム行が含まれています。\n",
        "\n",
        "* `def comb(n, m):`に続く7行は、関数定義のスコープであるため、1段インデントされます。\n",
        "* `if m == 0:`は、続く行`return 1`がスコープなので、`return 1`の行は、更に、1段インデントされます。\n",
        "* `else:`は`if`文のスコープ外なので、インデントを1段戻します。\n",
        "* `else:`は続く4行をスコープとして持ちますので、これらの4行を、更に、1段深くインデントします。\n",
        "* `else:`のスコープには、`for i in range(m):`を含まれ、この行は、次の行`r *= (n-i)/(m-i)`をスコープに持ちます。\n",
        "従って、`r *= (n-i)/(m-i)`は、更に1段インデントされます。\n"
      ]
    },
    {
      "cell_type": "markdown",
      "metadata": {
        "id": "IJQs9jgytJ-s"
      },
      "source": [
        "## 内分点\n",
        "グラフを描くために、区間の内分点を計算します。\n",
        "\n",
        "区間$[a, b]$を等間隔に$n$等分する内分点のうち、$i$番目（0番目は$a$、$n$番目は$b$）の点の座標は次の式で与えられます。\n",
        "\n",
        "$$\n",
        "a + \\frac{b - a}n \\times i \n",
        "$$\n",
        "\n",
        "これは、$n$等分する内分点の間隔は$\\Delta = \\frac{b-a}n$であり、\n",
        "$i$番目の点は、始点$x = a$から$\\Delta \\times i$だけ離れていることによります。\n",
        "\n",
        "高校で習った内分点の公式を覚えている人もいると思います。\n",
        "座標$a$の点A、座標$b$の点Bを、$\\alpha : \\beta$に内分する点Cの座標$c$は、\n",
        "\n",
        "$$\n",
        "c = \\frac\\beta{\\alpha+\\beta} \\cdot a + \\frac\\alpha{\\alpha+\\beta} \\cdot b\n",
        "$$\n",
        "\n",
        "で与えられます。\n",
        "$$\n",
        "a + \\frac{b - a}n \\times i = \\frac{n - i}n a + \\frac in b\n",
        "$$\n",
        "ですので、実は、この式が、$\\alpha:\\beta = i : (n-i)$に分割する内分点を与える内分点の公式に他ならないことが分かります。\n",
        "\n",
        "0番目（即ち、$x = a$)から、$n$番目（即ち、$x = b$）までの内分点の座標をリストとして得るためには、リストの内包表現を用いて、\n",
        "```python\n",
        "[a + (b - a) / n * i for i in range(n+1)]\n",
        "```\n",
        "とすれば良いことになります。\n",
        "`range(n+1)`は0から$n$までの整数からなるリスト（と等価）であることを思い出してください。\n",
        "$x = a$を除外したければ、\n",
        "```python\n",
        "[a + (b - a) / n * i for i in range(1, n+1)]\n",
        "```\n",
        "とすればよく、これは`range(1, n+1)`は1から$n$までの整数からなるリスト（と等価）であるからです。\n",
        "$x = a$と$x = b$の両方を除外したければ、\n",
        "```python\n",
        "[a + (b - a) / n * i for i in range(1, n)]\n",
        "```\n",
        "とすれば良いでしょう。\n"
      ]
    },
    {
      "cell_type": "markdown",
      "metadata": {
        "id": "zrDGzq1vzZHP"
      },
      "source": [
        "実は、内分点の公式を使わなくても、関数一つで内分点の座標の配列オブジェクトを得る方法があります。\n",
        "ただ、そのためには、`numpy`というライブラリを使う必要があります。\n",
        "以下のプログラムを実行してみて下さい。\n",
        "```\n",
        "import numpy as np\n",
        "print(np.linspace(0,1,11))\n",
        "print(np.arange(0, 1.1, 0.1))\n",
        "```"
      ]
    },
    {
      "cell_type": "code",
      "metadata": {
        "colab": {
          "base_uri": "https://localhost:8080/"
        },
        "id": "CWwL3OXNw_ZL",
        "outputId": "57751902-7a68-49dc-b9ed-d5d11b611a4e"
      },
      "source": [
        "import numpy as np\n",
        "print(np.linspace(0, 1, 11))\n",
        "print(np.arange(0, 1.1, 0.1))"
      ],
      "execution_count": null,
      "outputs": [
        {
          "output_type": "stream",
          "text": [
            "[0.  0.1 0.2 0.3 0.4 0.5 0.6 0.7 0.8 0.9 1. ]\n",
            "[0.  0.1 0.2 0.3 0.4 0.5 0.6 0.7 0.8 0.9 1. ]\n"
          ],
          "name": "stdout"
        }
      ]
    },
    {
      "cell_type": "markdown",
      "metadata": {
        "id": "gcsFCFR4xMHk"
      },
      "source": [
        "いずれも、`[0.  0.1 0.2 0.3 0.4 0.5 0.6 0.7 0.8 0.9 1. ]`が出力として得られます。\n",
        "\n",
        "* `np.linspace(0,1,11)`は、0と1を端点とする区間$0 \\le x \\le 1$を、\n",
        "端点を含めて11個の点で等間隔に内分し、その座標のリストを与えます。\n",
        "* `np.arange(0, 1.1, 0.1)`は、区間$0 \\le x < 1.1$の区間を0.1間隔で内分する内分点の座標のリストを与えます。\n",
        "\n",
        "内包表現はPythonの特長ある\n",
        "グラフを描画する時など、内分点を利用する場面はしばしばあるので、`numpy`のこの関数を覚えておくと便利です。\n",
        "\n",
        "**注** \n",
        "次のプログラムを実行してみて下さい。\n",
        "```python\n",
        "print([n/10 for n in range(11)])\n",
        "```\n",
        "`[0.0, 0.1, 0.2, 0.3, 0.4, 0.5, 0.6, 0.7, 0.8, 0.9, 1.0]`が出力として得られる筈です。\n",
        "`linspace`と`arange`の出力と比べると、座標の区切りにコンマ`,`が使われている点が相違していることが分かると思います。\n",
        "実は、この違いは、`linspace`と`arange`の出力は、厳密にはリストではないことに起因します。\n",
        "`linspace`と`arange`の出力のクラス（タイプ）は`numpy.ndarray`であることが、以下のプログラムを実行すると分かります。\n",
        "```python\n",
        "print(type(np.linspace(0,1,11)))\n",
        "print(type([n/10 for n in range(11)]))\n",
        "```"
      ]
    },
    {
      "cell_type": "code",
      "metadata": {
        "colab": {
          "base_uri": "https://localhost:8080/"
        },
        "id": "BoR1ErI_xRqd",
        "outputId": "708c3afa-6667-4f21-9fbb-15e04b5f8632"
      },
      "source": [
        "print([n/10 for n in range(11)])\n",
        "\n",
        "print(type(np.linspace(0,1,11)))\n",
        "print(type([n/10 for n in range(11)]))"
      ],
      "execution_count": null,
      "outputs": [
        {
          "output_type": "stream",
          "text": [
            "[0.0, 0.1, 0.2, 0.3, 0.4, 0.5, 0.6, 0.7, 0.8, 0.9, 1.0]\n",
            "<class 'numpy.ndarray'>\n",
            "<class 'list'>\n"
          ],
          "name": "stdout"
        }
      ]
    },
    {
      "cell_type": "markdown",
      "metadata": {
        "id": "hS9kNJSrxs8V"
      },
      "source": [
        "## グラフの描画\n",
        "以下のプログラムは、区間$-1 \\le x \\le 1$で$y = x^2$のグラフを描画するためのものです。\n",
        "早速、`numpy`の`linspace`を使ってみました。\n",
        "```python\n",
        "import matplotlib.pyplot as plt\n",
        "import numpy as np\n",
        "x = np.linspace(-1, 1, 21)\n",
        "y = [t**2 for t in x]\n",
        "plt.plot(x, y)\n",
        "plt.grid()\n",
        "plt.show()\n",
        "```\n",
        "\n",
        "上のプログラムを実行して、グラフを描画してみましょう。\n",
        "\n",
        "`x = np.linspace(-1, 1, 21)`の行は、\n",
        "\n",
        "* `x = np.arange(-1, 1.1, 0.1)`\n",
        "* `x = [-1 + 0.1 * n for n in range(21)]`\n",
        "\n",
        "のいずれかで置き換えても、正しい結果がでます。\n",
        "実際に置き換えたプログラムも実行してみて、同じ描画結果が得られることも確認して下さい。\n",
        "\n"
      ]
    },
    {
      "cell_type": "code",
      "metadata": {
        "colab": {
          "base_uri": "https://localhost:8080/",
          "height": 299
        },
        "id": "AnIHCRiuz2x9",
        "outputId": "ab3bf578-ade0-4fd8-9bfe-2f63f01d23f3"
      },
      "source": [
        "import matplotlib.pyplot as plt\n",
        "import numpy as np\n",
        "x = np.linspace(-1, 1, 21)\n",
        "y = [t**2 for t in x]\n",
        "print(x)\n",
        "plt.plot(x,y)\n",
        "plt.grid()\n",
        "plt.show()\n"
      ],
      "execution_count": null,
      "outputs": [
        {
          "output_type": "stream",
          "text": [
            "[-1.  -0.9 -0.8 -0.7 -0.6 -0.5 -0.4 -0.3 -0.2 -0.1  0.   0.1  0.2  0.3\n",
            "  0.4  0.5  0.6  0.7  0.8  0.9  1. ]\n"
          ],
          "name": "stdout"
        },
        {
          "output_type": "display_data",
          "data": {
            "image/png": "[encoded data removed]",
            "text/plain": [
              "<Figure size 432x288 with 1 Axes>"
            ]
          },
          "metadata": {
            "tags": []
          }
        }
      ]
    },
    {
      "cell_type": "markdown",
      "metadata": {
        "id": "WbY9aXb60JrC"
      },
      "source": [
        "上の例を使って、`pyplot`がグラフを描画する仕組みを復習します。\n",
        "\n",
        "* `x = np.linspace(-1, 1, 21)`の行は、プロットする複数の点の$x$座標を決定する。\n",
        "* `y = [t**2 for t in x]`の行は、プロットする点の$y$座標を計算する。\n",
        "* `x`と`y`は、共に、21個の要素を含むリストであり、それぞれ、$x[0],\\dots , x[20]$、及び、$y[0],\\dots , y[20]$が要素になる。\n",
        "* `pyplot.plot`関数は、20個の点$(x[0], y[0]), (x[1], y[1]), \\dots, (x[20], y[20])$をプロットし、プロットした点をこの順番で線で結ぶことで、曲線のグラフを描画する。\n",
        "\n",
        "従って、`x`と`y`の要素数が異なる、つまり、`len(x)`と`len(y)`の値が異なると、`pyplot.plot`関数は描画ができずに、エラーを出力します。\n",
        "\n",
        "例えば、\n",
        "```python\n",
        "print(y)\n",
        "y.pop(-1)\n",
        "print(y)\n",
        "```\n",
        "を実行した後で、\n",
        "```python\n",
        "plt.plot(x, y)\n",
        "plt.grid()\n",
        "plt.show()\n",
        "```\n",
        "を実行してみて下さい。\n",
        "次のエラーを出力して、グラフは描画されません。\n",
        "```\n",
        "ValueError: x and y must have same first dimension, but have shapes (21,) and (20,)\n",
        "```\n",
        "実は、`pop`はリストの指定した番号の要素を取り除く関数で、\n",
        "リストにおいて-1は最後の要素の番号でしたから、`y.pop(-1)`は、`y`の最後の要素を取り除いています。\n",
        "同様に、`y.pop(0)`とすれば、先頭の要素を取り除くことができます。"
      ]
    },
    {
      "cell_type": "code",
      "metadata": {
        "colab": {
          "base_uri": "https://localhost:8080/",
          "height": 681
        },
        "id": "KIiFTIa20Jc0",
        "outputId": "7e6c7d1b-5e84-4056-eaa1-fe5f3addfe3a"
      },
      "source": [
        "import matplotlib.pyplot as plt\n",
        "print(y)\n",
        "y.pop(-1)\n",
        "print(y)\n",
        "\n",
        "plt.plot(x, y)\n",
        "plt.grid()\n",
        "plt.show()"
      ],
      "execution_count": null,
      "outputs": [
        {
          "output_type": "stream",
          "text": [
            "[1.0, 0.81, 0.6400000000000001, 0.48999999999999994, 0.36, 0.25, 0.15999999999999992, 0.08999999999999996, 0.03999999999999998, 0.009999999999999995, 0.0, 0.010000000000000018, 0.04000000000000007, 0.09000000000000002, 0.16000000000000011, 0.25, 0.3600000000000001, 0.49000000000000027, 0.6400000000000001]\n",
            "[1.0, 0.81, 0.6400000000000001, 0.48999999999999994, 0.36, 0.25, 0.15999999999999992, 0.08999999999999996, 0.03999999999999998, 0.009999999999999995, 0.0, 0.010000000000000018, 0.04000000000000007, 0.09000000000000002, 0.16000000000000011, 0.25, 0.3600000000000001, 0.49000000000000027]\n"
          ],
          "name": "stdout"
        },
        {
          "output_type": "error",
          "ename": "ValueError",
          "evalue": "ignored",
          "traceback": [
            "\u001b[0;31m---------------------------------------------------------------------------\u001b[0m",
            "\u001b[0;31mValueError\u001b[0m                                Traceback (most recent call last)",
            "\u001b[0;32m<ipython-input-155-58a428b16384>\u001b[0m in \u001b[0;36m<module>\u001b[0;34m()\u001b[0m\n\u001b[1;32m      4\u001b[0m \u001b[0mprint\u001b[0m\u001b[0;34m(\u001b[0m\u001b[0my\u001b[0m\u001b[0;34m)\u001b[0m\u001b[0;34m\u001b[0m\u001b[0;34m\u001b[0m\u001b[0m\n\u001b[1;32m      5\u001b[0m \u001b[0;34m\u001b[0m\u001b[0m\n\u001b[0;32m----> 6\u001b[0;31m \u001b[0mplt\u001b[0m\u001b[0;34m.\u001b[0m\u001b[0mplot\u001b[0m\u001b[0;34m(\u001b[0m\u001b[0mx\u001b[0m\u001b[0;34m,\u001b[0m \u001b[0my\u001b[0m\u001b[0;34m)\u001b[0m\u001b[0;34m\u001b[0m\u001b[0;34m\u001b[0m\u001b[0m\n\u001b[0m\u001b[1;32m      7\u001b[0m \u001b[0mplt\u001b[0m\u001b[0;34m.\u001b[0m\u001b[0mgrid\u001b[0m\u001b[0;34m(\u001b[0m\u001b[0;34m)\u001b[0m\u001b[0;34m\u001b[0m\u001b[0;34m\u001b[0m\u001b[0m\n\u001b[1;32m      8\u001b[0m \u001b[0mplt\u001b[0m\u001b[0;34m.\u001b[0m\u001b[0mshow\u001b[0m\u001b[0;34m(\u001b[0m\u001b[0;34m)\u001b[0m\u001b[0;34m\u001b[0m\u001b[0;34m\u001b[0m\u001b[0m\n",
            "\u001b[0;32m/usr/local/lib/python3.7/dist-packages/matplotlib/pyplot.py\u001b[0m in \u001b[0;36mplot\u001b[0;34m(scalex, scaley, data, *args, **kwargs)\u001b[0m\n\u001b[1;32m   2761\u001b[0m     return gca().plot(\n\u001b[1;32m   2762\u001b[0m         *args, scalex=scalex, scaley=scaley, **({\"data\": data} if data\n\u001b[0;32m-> 2763\u001b[0;31m         is not None else {}), **kwargs)\n\u001b[0m\u001b[1;32m   2764\u001b[0m \u001b[0;34m\u001b[0m\u001b[0m\n\u001b[1;32m   2765\u001b[0m \u001b[0;34m\u001b[0m\u001b[0m\n",
            "\u001b[0;32m/usr/local/lib/python3.7/dist-packages/matplotlib/axes/_axes.py\u001b[0m in \u001b[0;36mplot\u001b[0;34m(self, scalex, scaley, data, *args, **kwargs)\u001b[0m\n\u001b[1;32m   1645\u001b[0m         \"\"\"\n\u001b[1;32m   1646\u001b[0m         \u001b[0mkwargs\u001b[0m \u001b[0;34m=\u001b[0m \u001b[0mcbook\u001b[0m\u001b[0;34m.\u001b[0m\u001b[0mnormalize_kwargs\u001b[0m\u001b[0;34m(\u001b[0m\u001b[0mkwargs\u001b[0m\u001b[0;34m,\u001b[0m \u001b[0mmlines\u001b[0m\u001b[0;34m.\u001b[0m\u001b[0mLine2D\u001b[0m\u001b[0;34m)\u001b[0m\u001b[0;34m\u001b[0m\u001b[0;34m\u001b[0m\u001b[0m\n\u001b[0;32m-> 1647\u001b[0;31m         \u001b[0mlines\u001b[0m \u001b[0;34m=\u001b[0m \u001b[0;34m[\u001b[0m\u001b[0;34m*\u001b[0m\u001b[0mself\u001b[0m\u001b[0;34m.\u001b[0m\u001b[0m_get_lines\u001b[0m\u001b[0;34m(\u001b[0m\u001b[0;34m*\u001b[0m\u001b[0margs\u001b[0m\u001b[0;34m,\u001b[0m \u001b[0mdata\u001b[0m\u001b[0;34m=\u001b[0m\u001b[0mdata\u001b[0m\u001b[0;34m,\u001b[0m \u001b[0;34m**\u001b[0m\u001b[0mkwargs\u001b[0m\u001b[0;34m)\u001b[0m\u001b[0;34m]\u001b[0m\u001b[0;34m\u001b[0m\u001b[0;34m\u001b[0m\u001b[0m\n\u001b[0m\u001b[1;32m   1648\u001b[0m         \u001b[0;32mfor\u001b[0m \u001b[0mline\u001b[0m \u001b[0;32min\u001b[0m \u001b[0mlines\u001b[0m\u001b[0;34m:\u001b[0m\u001b[0;34m\u001b[0m\u001b[0;34m\u001b[0m\u001b[0m\n\u001b[1;32m   1649\u001b[0m             \u001b[0mself\u001b[0m\u001b[0;34m.\u001b[0m\u001b[0madd_line\u001b[0m\u001b[0;34m(\u001b[0m\u001b[0mline\u001b[0m\u001b[0;34m)\u001b[0m\u001b[0;34m\u001b[0m\u001b[0;34m\u001b[0m\u001b[0m\n",
            "\u001b[0;32m/usr/local/lib/python3.7/dist-packages/matplotlib/axes/_base.py\u001b[0m in \u001b[0;36m__call__\u001b[0;34m(self, *args, **kwargs)\u001b[0m\n\u001b[1;32m    214\u001b[0m                 \u001b[0mthis\u001b[0m \u001b[0;34m+=\u001b[0m \u001b[0margs\u001b[0m\u001b[0;34m[\u001b[0m\u001b[0;36m0\u001b[0m\u001b[0;34m]\u001b[0m\u001b[0;34m,\u001b[0m\u001b[0;34m\u001b[0m\u001b[0;34m\u001b[0m\u001b[0m\n\u001b[1;32m    215\u001b[0m                 \u001b[0margs\u001b[0m \u001b[0;34m=\u001b[0m \u001b[0margs\u001b[0m\u001b[0;34m[\u001b[0m\u001b[0;36m1\u001b[0m\u001b[0;34m:\u001b[0m\u001b[0;34m]\u001b[0m\u001b[0;34m\u001b[0m\u001b[0;34m\u001b[0m\u001b[0m\n\u001b[0;32m--> 216\u001b[0;31m             \u001b[0;32myield\u001b[0m \u001b[0;32mfrom\u001b[0m \u001b[0mself\u001b[0m\u001b[0;34m.\u001b[0m\u001b[0m_plot_args\u001b[0m\u001b[0;34m(\u001b[0m\u001b[0mthis\u001b[0m\u001b[0;34m,\u001b[0m \u001b[0mkwargs\u001b[0m\u001b[0;34m)\u001b[0m\u001b[0;34m\u001b[0m\u001b[0;34m\u001b[0m\u001b[0m\n\u001b[0m\u001b[1;32m    217\u001b[0m \u001b[0;34m\u001b[0m\u001b[0m\n\u001b[1;32m    218\u001b[0m     \u001b[0;32mdef\u001b[0m \u001b[0mget_next_color\u001b[0m\u001b[0;34m(\u001b[0m\u001b[0mself\u001b[0m\u001b[0;34m)\u001b[0m\u001b[0;34m:\u001b[0m\u001b[0;34m\u001b[0m\u001b[0;34m\u001b[0m\u001b[0m\n",
            "\u001b[0;32m/usr/local/lib/python3.7/dist-packages/matplotlib/axes/_base.py\u001b[0m in \u001b[0;36m_plot_args\u001b[0;34m(self, tup, kwargs)\u001b[0m\n\u001b[1;32m    340\u001b[0m \u001b[0;34m\u001b[0m\u001b[0m\n\u001b[1;32m    341\u001b[0m         \u001b[0;32mif\u001b[0m \u001b[0mx\u001b[0m\u001b[0;34m.\u001b[0m\u001b[0mshape\u001b[0m\u001b[0;34m[\u001b[0m\u001b[0;36m0\u001b[0m\u001b[0;34m]\u001b[0m \u001b[0;34m!=\u001b[0m \u001b[0my\u001b[0m\u001b[0;34m.\u001b[0m\u001b[0mshape\u001b[0m\u001b[0;34m[\u001b[0m\u001b[0;36m0\u001b[0m\u001b[0;34m]\u001b[0m\u001b[0;34m:\u001b[0m\u001b[0;34m\u001b[0m\u001b[0;34m\u001b[0m\u001b[0m\n\u001b[0;32m--> 342\u001b[0;31m             raise ValueError(f\"x and y must have same first dimension, but \"\n\u001b[0m\u001b[1;32m    343\u001b[0m                              f\"have shapes {x.shape} and {y.shape}\")\n\u001b[1;32m    344\u001b[0m         \u001b[0;32mif\u001b[0m \u001b[0mx\u001b[0m\u001b[0;34m.\u001b[0m\u001b[0mndim\u001b[0m \u001b[0;34m>\u001b[0m \u001b[0;36m2\u001b[0m \u001b[0;32mor\u001b[0m \u001b[0my\u001b[0m\u001b[0;34m.\u001b[0m\u001b[0mndim\u001b[0m \u001b[0;34m>\u001b[0m \u001b[0;36m2\u001b[0m\u001b[0;34m:\u001b[0m\u001b[0;34m\u001b[0m\u001b[0;34m\u001b[0m\u001b[0m\n",
            "\u001b[0;31mValueError\u001b[0m: x and y must have same first dimension, but have shapes (21,) and (18,)"
          ]
        },
        {
          "output_type": "display_data",
          "data": {
            "image/png": "[encoded data removed]",
            "text/plain": [
              "<Figure size 432x288 with 1 Axes>"
            ]
          },
          "metadata": {
            "tags": []
          }
        }
      ]
    },
    {
      "cell_type": "markdown",
      "metadata": {
        "id": "YnuxxLHr1f8e"
      },
      "source": [
        "エラーメッセージは英語ですが、頑張って読んでみると、情報が得られます。\n",
        "\n",
        "`x and y must have same first dimension`は、「`x`と`y`は同じ次元でなくてはならない」と言っていますが、続いて、\n",
        "`but have shapes (21,) and (20,)`とあるので、どうも、次元とは要素の数のことで、`x`の要素が21個、`y`の要素が20個と、\n",
        "一致していないことがエラーの原因であると想像がつきます。\n",
        "因みに、リストはベクトルとみなすことができますので、要素の数を次元と呼んでいます。\n",
        "\n",
        "以下の演習を、`linspace``と`arange`関数をそれぞれ利用して描画せよ。\n",
        "\n",
        "### 演習 6-1\n",
        "区間$0 \\le x \\le 2\\pi$において、$y = \\sin x$のグラフを描画せよ。"
      ]
    },
    {
      "cell_type": "code",
      "metadata": {
        "colab": {
          "base_uri": "https://localhost:8080/",
          "height": 265
        },
        "id": "pwg0E7Sk2YVn",
        "outputId": "40e0b39c-0897-4a46-ecba-183d73e603a3"
      },
      "source": [
        "import matplotlib.pyplot as plt\n",
        "import numpy as np\n",
        "import math\n",
        "x = np.linspace(0, 2*(math.pi), 100)\n",
        "y = [math.sin(t) for t in x]\n",
        "\n",
        "plt.plot(x,y)\n",
        "plt.grid()\n",
        "plt.show()"
      ],
      "execution_count": null,
      "outputs": [
        {
          "output_type": "display_data",
          "data": {
            "image/png": "[encoded data removed]",
            "text/plain": [
              "<Figure size 432x288 with 1 Axes>"
            ]
          },
          "metadata": {
            "tags": [],
            "needs_background": "light"
          }
        }
      ]
    },
    {
      "cell_type": "markdown",
      "metadata": {
        "id": "ZIaVJgr53NoU"
      },
      "source": [
        "### 演習 6-2\n",
        "区間$0 < x \\le e$において、$y = \\log_e x$のグラフを描画せよ。\n",
        "\n",
        "**ヒント**\n",
        "リスト`x`の先頭の要素は、`x.pop(0)`で取り去ることが出来る。\n",
        "\n",
        "**ヒント**\n",
        "ネイピア数$e=2.718\\dots$は、`math.e`により利用することができる。"
      ]
    },
    {
      "cell_type": "code",
      "metadata": {
        "colab": {
          "base_uri": "https://localhost:8080/",
          "height": 265
        },
        "id": "kj7JtYLg3WN8",
        "outputId": "766fe560-477e-4def-c365-096191096206"
      },
      "source": [
        "import matplotlib.pyplot as plt\n",
        "import numpy as np\n",
        "import math\n",
        "\n",
        "x = np.linspace(0, math.e, 100)\n",
        "x = np.delete(x, 0)\n",
        "\n",
        "y = [math.log(t) for t in x]\n",
        "# y = [2*t for t in x]\n",
        "\n",
        "plt.plot(x,y)\n",
        "plt.grid()\n",
        "plt.show()\n"
      ],
      "execution_count": null,
      "outputs": [
        {
          "output_type": "display_data",
          "data": {
            "image/png": "[encoded data removed]",
            "text/plain": [
              "<Figure size 432x288 with 1 Axes>"
            ]
          },
          "metadata": {
            "tags": [],
            "needs_background": "light"
          }
        }
      ]
    },
    {
      "cell_type": "markdown",
      "metadata": {
        "id": "xWfLZKsb4Cyb"
      },
      "source": [
        "### 演習 6-3\n",
        "下記のプログラム行を実行することによって、区間$0 < x < 2\\pi$を100等分する解像度で、区間において$y = \\sin x$のグラフを描画できるように、\n",
        "第5回講義「関数オブジェクト」で導入した`draw_graph_proto(f)`をベースにして、\n",
        "関数`draw_graph(f, a, b, N)`のプログラムを作成せよ。\n",
        "```python\n",
        "draw_graph(math.sin, 0, 2 * math.pi, 100）\n",
        "```\n"
      ]
    },
    {
      "cell_type": "code",
      "metadata": {
        "id": "Vjq0qGM-4Kvp",
        "colab": {
          "base_uri": "https://localhost:8080/",
          "height": 265
        },
        "outputId": "ce069f63-646f-4421-d298-64418493c46b"
      },
      "source": [
        "def draw_graph(f, a, b, N):\n",
        "  x = np.linspace(a, b, N)\n",
        "  y = [f(t) for t in x]\n",
        "  plt.plot(x, y)\n",
        "  plt.grid()\n",
        "  plt.show()\n",
        "\n",
        "\n",
        "draw_graph(math.sin, 0, 2*math.pi, 100)"
      ],
      "execution_count": null,
      "outputs": [
        {
          "output_type": "display_data",
          "data": {
            "image/png": "[encoded data removed]",
            "text/plain": [
              "<Figure size 432x288 with 1 Axes>"
            ]
          },
          "metadata": {
            "tags": [],
            "needs_background": "light"
          }
        }
      ]
    }
  ]
}