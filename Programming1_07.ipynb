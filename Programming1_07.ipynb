{
  "nbformat": 4,
  "nbformat_minor": 0,
  "metadata": {
    "colab": {
      "name": "Programming1-07.ipynb",
      "provenance": [],
      "collapsed_sections": [],
      "include_colab_link": true
    },
    "kernelspec": {
      "display_name": "Python 3",
      "language": "python",
      "name": "python3"
    },
    "language_info": {
      "codemirror_mode": {
        "name": "ipython",
        "version": 3
      },
      "file_extension": ".py",
      "mimetype": "text/x-python",
      "name": "python",
      "nbconvert_exporter": "python",
      "pygments_lexer": "ipython3",
      "version": "3.7.5"
    }
  },
  "cells": [
    {
      "cell_type": "markdown",
      "metadata": {
        "id": "view-in-github",
        "colab_type": "text"
      },
      "source": [
        "<a href=\"https://colab.research.google.com/github/daisuke-shimizu/python-Gakushuin-programming1/blob/main/Programming1_07.ipynb\" target=\"_parent\"><img src=\"https://colab.research.google.com/assets/colab-badge.svg\" alt=\"Open In Colab\"/></a>"
      ]
    },
    {
      "cell_type": "markdown",
      "metadata": {
        "id": "IRTsp0ncvpxg"
      },
      "source": [
        "# サンプルプログラム実行上の注意\n",
        "プログラミング上達のコツは、\n",
        "\n",
        "- 短時間に集中してできるだけ大量のプログラムを書くこと\n",
        "- 試行錯誤を行うこと\n",
        "- 他人の書いた（動く）プログラムを読むこと\n",
        "- 更に、自分の目的に合わせてカスタマイズしてみること\n",
        "\n",
        "を日常的に実行することです。\n",
        "しかし、限られた授業時間（予習・復習も含む）内で、これらを十分に実行することは至難です。\n",
        "\n",
        "そこで、\n",
        "この講義資料は、多数のサンプルプログラムを提供して、\n",
        "少しでも不足を補うことができるように作成されています。\n",
        "受講者は、以下の注意を守ってサンプルプログラムをコードセル中で実行することで、\n",
        "より効率の良い学習を心がけて下さい。\n",
        "\n",
        "1. サンプルプログラムは、コピペせず、1行1行自分でタイプして書き写して下さい。\n",
        "コピペでは見逃してしまう、プログラミングの書き方の規則や、プログラミングのコツなど、\n",
        "自分自身でタイプすることで気づくことができます。\n",
        "2. サンプルプログラムを書き写す時は、プログラムの意味を考えるよう努めて下さい。\n",
        "最初は必ずしも最良とは言えないサンプルプログラムを提示して、\n",
        "後で改良した例を示すなど、この講義資料では、良いプログラムを作成する考え方を効率的に学べるよう、\n",
        "いろいろな工夫をしています。\n",
        "3. 意味を理解できない行がある場合には、あまり拘泥せず、先に進んでください。\n",
        "100%理解しないといけないという思い込みは、プログラミングの上達にとって妨げです。\n",
        "理解するための努力は必要ですが、Pythonでできることの範囲は非常に広く、\n",
        "プロのプログラマでも全部は理解していないでしょう。\n",
        "完璧な理解よりも、**動くプログラムを書くことを最優先の目標**として、\n",
        "わからない部分は「おまじない」として受け入れることができると、上達も早くなります。\n",
        "「おまじない」とは、「なぜ効くのかはわからないけれども、使い方は分かっている」という意味です。"
      ]
    },
    {
      "cell_type": "markdown",
      "metadata": {
        "id": "lgjmJNKjvpxj"
      },
      "source": [
        "# 前回の演習問題の解答例\n",
        "\n",
        "### 演習 6-1\n",
        "区間$0 \\le x \\le 2\\pi$において、$y = \\sin x$のグラフを描画せよ。\n",
        "\n",
        "### 解答例\n",
        "解像度が不足ですので、調整して下さい。\n",
        "\n",
        "```python\n",
        "x = np.arange(0, math.pi, 1)\n",
        "y = [math.sin(t) for t in x]\n",
        "plt.plot(x, y)\n",
        "plt.show()\n",
        "```\n",
        "\n",
        "```python\n",
        "x = np.linspace(0, math.pi, 3)\n",
        "y = [math.sin(t) for t in x]\n",
        "plt.plot(x, y)\n",
        "plt.show()\n",
        "```\n",
        "\n",
        "### 演習 6-2\n",
        "区間$0 < x \\le e$において、$y = \\log_e x$のグラフを描画せよ。\n",
        "\n",
        "**ヒント**\n",
        "`numpy.delete(x, 0)`は、配列`x`の先頭の要素取り去った新しい配列を返す。\n",
        "\n",
        "**ヒント**\n",
        "ネイピア数$e=2.718\\dots$は、`math.e`により利用することができる。\n",
        "\n",
        "### 解答例\n",
        "解像度が不足ですので、調整して下さい。\n",
        "\n",
        "```python\n",
        "import numpy as np\n",
        "x = np.arange(0, math.e, 0.5)\n",
        "x = np.delete(x, 0)\n",
        "y = [math.log(t) for t in x]\n",
        "plt.plot(x, y)\n",
        "plt.show()\n",
        "```\n",
        "\n",
        "```python\n",
        "x = np.linspace(0, math.e, 4)\n",
        "x = np.delete(x, 0)\n",
        "y = [math.log(t) for t in x]\n",
        "plt.plot(x, y)\n",
        "plt.show()\n",
        "```\n",
        "### 演習 6-3\n",
        "次のプログラム行\n",
        "\n",
        "```python\n",
        "draw_graph(math.sin, 0, 2 * math.pi, 100）\n",
        "```\n",
        "\n",
        "を実行すると、\n",
        "区間$0 < x < 2\\pi$を100等分する解像度で、区間において$y = \\sin x$のグラフを描画できるように、\n",
        "関数`draw_graph(f, a, b, N)`のプログラムを作成せよ。\n",
        "\n",
        "**ヒント** \n",
        "第5回講義「関数オブジェクト」で導入した`draw_graph_proto(f)`を参考にせよ。\n",
        "\n",
        "```python\n",
        "def draw_graph(f, a, b, N):\n",
        "    x = np.linspace(a, b, N+1)\n",
        "    y = [f(t) for t in x]\n",
        "    plt.grid()\n",
        "    plt.plot(x, y)\n",
        "    plt.show()\n",
        "```\n",
        "\n",
        "幅`delta`で区間$[a, b]$を内分したい時、\n",
        "`np.arrange(a, b, delta)`では、`b`が含まれません。\n",
        "`range(1,10)`が、リスト`[1,2,3,4,5,6,7,8,9]`と同等であることと同じ理由です。\n",
        "\n",
        "```python\n",
        "def draw_graph(f, a, b, N):\n",
        "    delta = (b-a)/N\n",
        "    x = np.arange(a, b + delta, delta)\n",
        "    y = [f(t) for t in x]\n",
        "    plt.grid()\n",
        "    plt.plot(x, y)\n",
        "    plt.show()\n",
        "```"
      ]
    },
    {
      "cell_type": "code",
      "metadata": {
        "colab": {
          "base_uri": "https://localhost:8080/",
          "height": 547
        },
        "id": "tH9Um71BwFKM",
        "outputId": "7565a385-47a9-4989-c0ed-baf4dfb5f4aa"
      },
      "source": [
        "import numpy as np\n",
        "import matplotlib.pyplot as plt\n",
        "import math\n",
        "x = np.arange(0, math.pi, 1)\n",
        "y = [math.sin(t) for t in x]\n",
        "print(x)\n",
        "plt.plot(x, y)\n",
        "plt.show()\n",
        "\n",
        "x = np.linspace(0, math.pi, 3)\n",
        "y = [math.sin(t) for t in x]\n",
        "print(x)\n",
        "plt.plot(x, y)\n",
        "plt.show()"
      ],
      "execution_count": null,
      "outputs": [
        {
          "output_type": "stream",
          "text": [
            "[0. 1. 2. 3.]\n"
          ],
          "name": "stdout"
        },
        {
          "output_type": "display_data",
          "data": {
            "image/png": "[encoded data removed]",
            "text/plain": [
              "<Figure size 432x288 with 1 Axes>"
            ]
          },
          "metadata": {
            "tags": [],
            "needs_background": "light"
          }
        },
        {
          "output_type": "stream",
          "text": [
            "[0.         1.57079633 3.14159265]\n"
          ],
          "name": "stdout"
        },
        {
          "output_type": "display_data",
          "data": {
            "image/png": "[encoded data removed]",
            "text/plain": [
              "<Figure size 432x288 with 1 Axes>"
            ]
          },
          "metadata": {
            "tags": [],
            "needs_background": "light"
          }
        }
      ]
    },
    {
      "cell_type": "markdown",
      "metadata": {
        "id": "f1wMk5qC_zz8"
      },
      "source": [
        "# 第7回　クラス\n",
        "\n",
        "## オブジェクト指向とクラス\n",
        "数字や文字列がオブジェクトであることは既にみました。\n",
        "「プログラムが計算の対象をオブジェクトとして取り扱う」という考え方を、\n",
        "**オブジェクト指向**といいます。\n",
        "オブジェクト指向は、現代のプログラミング言語の基本的な設計思想であり、C++やJavaなど、主要な言語はこの設計思想に基づいています。\n",
        "因みに、C++は、それまで圧倒的に広く使われていたC言語にオブジェクト指向を導入したプログラミング言語であり、\n",
        "JavaはCをもとにオブジェクト指向と移植性（PC、Mac、Linuxいずれの環境でも動作する）を追求して開発されたプログラミング言語です。\n",
        "いずれも代表的なオブジェクト指向プログラミング言語になっています。\n",
        "\n",
        "オブジェクト指向プログラミング言語は、オブジェクトの雛形となる新しいタイプを、\n",
        "ユーザが自由に定義する機能を提供しています。\n",
        "このオブジェクトの雛形（タイプ）のことを、**クラス**と呼びます。\n",
        "クラスを利用することにより、\n",
        "ユーザは、独自のオブジェクトの雛形を定義することが可能となり、\n",
        "その雛形に基づいて、好きなだけ新しいオブジェクトを生成することが可能となります。\n",
        "\n",
        "下のプログラムは、人オブジェクトのタイプをPersonクラスとして定義します。\n",
        "人は共通に次の属性を有すると考えます。\n",
        "\n",
        "* 姓 family_name\n",
        "* 名 given_name\n",
        "* 誕生月 birth_month\n",
        "* 誕生日 birth_date\n",
        "\n",
        "次のプログラムはクラスPersonを定義するものです。\n",
        "```python\n",
        "class Person:\n",
        "  def __init__(self, fn, gn, bm, bd):\n",
        "    self.family_name = fn\n",
        "    self.given_name = gn\n",
        "    self.birth_month = bm\n",
        "    self.birth_date = bd\n",
        "```"
      ]
    },
    {
      "cell_type": "code",
      "metadata": {
        "id": "Uu1of0Uf9gdw"
      },
      "source": [
        "class Person:\n",
        "  def __init__(self, fn, gn, bm, db):\n",
        "    self.family_name = fn\n",
        "    self.given_name = gn\n",
        "    self.birth_month = bm\n",
        "    self.birth_date = db"
      ],
      "execution_count": null,
      "outputs": []
    },
    {
      "cell_type": "markdown",
      "metadata": {
        "id": "tijZGw4UGDJ1"
      },
      "source": [
        "`class Person:`の中は**おまじない**が多いので、\n",
        "プログラムを読んでも何のことだかよく分からないと思います。\n",
        "そこで、クラスの定義の方法は後で詳しく学ぶこととして、\n",
        "その使い方から先にみてみましょう。\n",
        "\n",
        "```python\n",
        "a = Person('Smith', 'Alice', 12, 25)\n",
        "```\n",
        "を実行すると、姓がSmith、名がAlice、誕生日が12月25日というPersonオブジェクトを生成し、\n",
        "そのオブジェクトにaという名前を割り当てます。\n",
        "\n",
        "Personオブジェクトは、それぞれ、以下の属性を持ちます。\n",
        "オブジェクトの属性のことを**インスタンス変数**ともいいます。\n",
        "Personオブジェクトは、次の４つのインスタンス変数を持っています。\n",
        "\n",
        "| インスタンス変数 | 内容 |\n",
        "| :--- | :--- |\n",
        "| family_name | オブジェクトの姓 |\n",
        "| given_name | オブジェクトの名 |\n",
        "| birth_month | オブジェクトの誕生月 |\n",
        "| birth_day | 誕生月におけるオブジェクトの誕生日 |"
      ]
    },
    {
      "cell_type": "markdown",
      "metadata": {
        "id": "0WrmAwAJGvv8"
      },
      "source": [
        "オブジェクトの属性にアクセスするには\n",
        "```\n",
        "オブジェクトの名前.インスタンス変数の名前\n",
        "```\n",
        "と、\n",
        "オブジェクトの名前とインスタンス変数の名前の間にピリオド`.`を挟むことで指定します。\n",
        "\n",
        "以下のプログラムを実行すると、理解できるでしょう。\n",
        "ちなみに、プログラムの文字列に現れる`\\t`はタブを表す記号です。\n",
        "タブを挿入することで、文字列の表示を揃えることができます。\n",
        "\n",
        "```python\n",
        "a = Person('Smith', 'Alice', 12, 25)\n",
        "print(\"姓\\t名\\t月\\t日\")\n",
        "print(a.family_name, '\\t', a.given_name, '\\t', a.birth_month, '\\t', a.birth_date)\n",
        "```"
      ]
    },
    {
      "cell_type": "code",
      "metadata": {
        "colab": {
          "base_uri": "https://localhost:8080/"
        },
        "id": "nIDsoEflvpxl",
        "outputId": "f7967842-21e1-407c-be20-31381bd8ab94"
      },
      "source": [
        "class Person:\n",
        "  def __init__(self, fn, gn, bm, db):\n",
        "    self.family_name = fn\n",
        "    self.given_name = gn\n",
        "    self.birth_month = bm\n",
        "    self.birth_date = db\n",
        "\n",
        "a = Person('Smith', 'Alice', 12, 25)\n",
        "print(\"姓\\t名\\t月\\t日\")\n",
        "print(a.family_name, '\\t', a.given_name, '\\t', a.birth_month, '\\t', a.birth_date)\n"
      ],
      "execution_count": null,
      "outputs": [
        {
          "output_type": "stream",
          "text": [
            "姓\t名\t月\t日\n",
            "Smith \t Alice \t 12 \t 25\n"
          ],
          "name": "stdout"
        }
      ]
    },
    {
      "cell_type": "markdown",
      "metadata": {
        "id": "WsiAf-3Nvpxl"
      },
      "source": [
        "別の人物（Personオブジェクト）を生成するには、例えば、\n",
        "```python\n",
        "b = Person('Tailor', 'Bob', 4, 8)\n",
        "```\n",
        "とします。\n",
        "次のプログラムを実行して確かめてください。\n",
        "```python\n",
        "print(\"姓\\t 名\\t 月\\t 日\")\n",
        "print(a.family_name, a.given_name, a.birth_month, a.birth_date)\n",
        "print(b.family_name, b.given_name, b.birth_month, b.birth_date)\n",
        "```"
      ]
    },
    {
      "cell_type": "code",
      "metadata": {
        "colab": {
          "base_uri": "https://localhost:8080/"
        },
        "id": "NbRJR86rvpxm",
        "outputId": "32826dcd-7373-49b6-9498-e16f9ca5760d"
      },
      "source": [
        "b = Person('Tailor', 'Bob', 4, 8)\n",
        "print(\"姓\\t 名\\t 月\\t 日\")\n",
        "print(a.family_name, '\\t', a.given_name, '\\t', a.birth_month, '\\t', a.birth_date)\n",
        "print(b.family_name, '\\t', b.given_name, '\\t', b.birth_month, '\\t', b.birth_date)"
      ],
      "execution_count": null,
      "outputs": [
        {
          "output_type": "stream",
          "text": [
            "姓\t 名\t 月\t 日\n",
            "Smith \t Alice \t 12 \t 25\n",
            "Tailor \t Bob \t 4 \t 8\n"
          ],
          "name": "stdout"
        }
      ]
    },
    {
      "cell_type": "markdown",
      "metadata": {
        "id": "VMb9lgMavpxm"
      },
      "source": [
        "定義できる人物の員数に制限はありません。\n",
        "また、次のように、リストを使って、一括して定義することも可能です。\n",
        "この例では、定義された人物は、`persons`と名付けられたリストに登録されます。\n",
        "```python\n",
        "fn = ['Smith', 'Tailor', 'Cook', 'Brown', 'Drake', 'White']\n",
        "gn = ['Alice', 'Bob', 'Cathy', 'Dave', 'Eve', 'Frida']\n",
        "bm = [12, 4, 8, 2, 9, 11]\n",
        "bd = [25, 8, 12, 1, 17, 21]\n",
        "persons = [Person(fn[i], gn[i], bm[i], bd[i]) for i in range(len(fn))]\n",
        "print(\"姓\\t名\\t月\\t日\")\n",
        "for p in persons:\n",
        "    print(p.family_name, '\\t', p.given_name, '\\t', p.birth_month, '\\t', p.birth_date)\n",
        "```"
      ]
    },
    {
      "cell_type": "code",
      "metadata": {
        "colab": {
          "base_uri": "https://localhost:8080/"
        },
        "id": "ZiuxaxhYvpxm",
        "outputId": "ef157355-1cda-4a84-b2f2-e0158596635c"
      },
      "source": [
        "fn = ['Smith', 'Tailor', 'Cook', 'Brown', 'Drake', 'White']\n",
        "gn = ['Alice', 'Bob', 'Cathy', 'Dave', 'Eve', 'Frida']\n",
        "bm = [12, 4, 8, 2, 9, 11]\n",
        "bd = [25, 8, 12, 1, 17, 21]\n",
        "\n",
        "persons = [Person(fn[i], gn[i], bm[i], bd[i]) for i in range(len(fn))]\n",
        "print(\"姓\\t名\\t月\\t日\")\n",
        "for p in persons:\n",
        "  print(p.family_name, '\\t', p.given_name, '\\t', p.birth_month, '\\t', p.birth_date)"
      ],
      "execution_count": null,
      "outputs": [
        {
          "output_type": "stream",
          "text": [
            "姓\t名\t月\t日\n",
            "Smith \t Alice \t 12 \t 25\n",
            "Tailor \t Bob \t 4 \t 8\n",
            "Cook \t Cathy \t 8 \t 12\n",
            "Brown \t Dave \t 2 \t 1\n",
            "Drake \t Eve \t 9 \t 17\n",
            "White \t Frida \t 11 \t 21\n"
          ],
          "name": "stdout"
        }
      ]
    },
    {
      "cell_type": "markdown",
      "metadata": {
        "id": "3yqzobo9vpxn"
      },
      "source": [
        "次に、`persons`の要素を、姓のアルファベット順に並べ替えましょう。\n",
        "\n",
        "リストの要素の並べ替えについては、前に、`sorted`関数を学びました。\n",
        "例を使って、復習しましょう。\n",
        "```python\n",
        "import random\n",
        "a = list(range(10))\n",
        "random.shuffle(a)\n",
        "print(a)\n",
        "```\n",
        "により、0から9まで、10個の整数をシャッフル（ランダムに並べ替え）した結果であるリストを、`a`と名付けます。\n",
        "`random.shuffle`関数は、引数で指定されたリストの要素をシャッフルする関数です。\n",
        "ここで、\n",
        "```python\n",
        "print(sorted(a))\n",
        "```\n",
        "を実行すると、もとの通り、0から10まで昇順に要素を並べ直してくれることは既に学びました。\n",
        "しかし、リスト`a`の内容は変更されません。\n",
        "これは、改めて、\n",
        "```python\n",
        "print(a)\n",
        "```\n",
        "を実行すると分かります。\n",
        "\n",
        "一方、`a`の要素を昇順に並べ直して、その結果で`a`の内容を更新するためには、`sort`関数を、\n",
        "```python\n",
        "a.sort()\n",
        "```\n",
        "の形式で利用します。\n",
        "`sorted(a)`とは、関数の呼び出し方が違うことに注意してください。\n",
        "前にも述べましたが、Pythonでは、関数の呼び出す時に、関数名を前置するケース（例えば、`sorted(a)`）と、\n",
        "後置するケース（例えば、`a.sort()`）がありますが、\n",
        "その区別が明確ではなく、Pythonの欠点の一つといえます。\n",
        "例えば、\n",
        "`sorted(a)`では`a`自体は変化せず、新しいリストが生成されるのに対し、\n",
        "`a.sort()`では`a`が変化するので、\n",
        "「関数を後置すると引数の内容を更新するのではないか？」と思う人もいるかもしれませんが、\n",
        "例えば、`random.shaffle(a)`では、`a`の内容が更新されます。\n",
        "\n",
        "`a.sort()`により`a`の要素の順序が変更されることは、以下のプログラムを実行すれば、容易に確認できます。\n",
        "```python\n",
        "a.sort()\n",
        "print(a)\n",
        "```\n",
        "\n",
        "以上のプログラムを下のコードセルに書き写して、実行してください。"
      ]
    },
    {
      "cell_type": "code",
      "metadata": {
        "colab": {
          "base_uri": "https://localhost:8080/"
        },
        "id": "C1n5tGF0vpxn",
        "outputId": "a4105840-dad5-4128-896e-dbccc3699d15"
      },
      "source": [
        "import random as rnd\n",
        "a = list(range(10))\n",
        "rnd.shuffle(a)\n",
        "print(a)\n",
        "a.sort()\n",
        "print(a)"
      ],
      "execution_count": null,
      "outputs": [
        {
          "output_type": "stream",
          "text": [
            "[1, 8, 9, 3, 5, 0, 6, 7, 2, 4]\n",
            "[0, 1, 2, 3, 4, 5, 6, 7, 8, 9]\n"
          ],
          "name": "stdout"
        }
      ]
    },
    {
      "cell_type": "markdown",
      "metadata": {
        "id": "zYPqCTvCvpxn"
      },
      "source": [
        "`sort`関数を使って、`persons`の要素（`Person`クラスのオブジェクト）を、\n",
        "`family_name`（姓）のアルファベット順に並べ替える方法をみます。\n",
        "\n",
        "リスト`persons`の要素は、前の例のように数ではなく、Personオブジェクトであり、Personオブジェクト同士を直接比較することができません。\n",
        "そのために一工夫必要です。\n",
        "まず、ソートのキー（ソートの時に比較する値）である`family_name`を返す簡単な関数を用意します。\n",
        "```python\n",
        "def family_name(p):\n",
        "    return p.family_name\n",
        "```\n",
        "その上で、`sort`関数のパラメータ`key`に関数`family_name`を指定して、\n",
        "Personオブジェクトを`family_name`の値で比較してソートするように指示します。\n",
        "```python\n",
        "persons.sort(key = family_name)\n",
        "```\n",
        "`key = family_name`は、正確には、\n",
        "`key`と名付けられた関数`sort`の省略可能な引数（パラメータ）に`family_name`を入力しています。\n",
        "このように、Pythonでは、関数の引数に名前をつけて、名前と関連づけて引数の指定が可能です。\n",
        "例えば、`sort()`関数には、`key`の他に、`reverse`という引数もありますが、\n",
        "それについては次のセルで見ます。\n",
        "\n",
        "正しくソートできているかは、今まで使ってきた以下のプログラムを利用すれば良いでしょう。\n",
        "```python\n",
        "print(\"姓\\t名\\t誕生月\\t誕生日\")\n",
        "for p in persons:\n",
        "    print(p.family_name, '\\t', p.given_name, '\\t', p.birth_month, '\\t', p.birth_date)\n",
        "```\n",
        "以上のプログラムを下のセルに書き写して、`persons`が正しくソートされていることを確認してください。"
      ]
    },
    {
      "cell_type": "code",
      "metadata": {
        "colab": {
          "base_uri": "https://localhost:8080/"
        },
        "id": "ipOXmmMwvpxn",
        "outputId": "ba9c2675-e12b-4603-d048-4f8ffa0b2620"
      },
      "source": [
        "fn = ['Smith', 'Tailor', 'Cook', 'Brown', 'Drake', 'White']\n",
        "gn = ['Alice', 'Bob', 'Cathy', 'Dave', 'Eve', 'Frida']\n",
        "bm = [12, 4, 8, 2, 9, 11]\n",
        "bd = [25, 8, 12, 1, 17, 21]\n",
        "\n",
        "persons = [Person(fn[i], gn[i], bm[i], bd[i]) for i in range(len(fn))]\n",
        "\n",
        "print(\"姓\\t名\\t誕生月\\t誕生日\")\n",
        "for p in persons:\n",
        "    print(p.family_name, '\\t', p.given_name, '\\t', p.birth_month, '\\t', p.birth_date)\n",
        "\n",
        "def family_name(p):\n",
        "  return p.family_name\n",
        "\n",
        "persons.sort(key = family_name)\n",
        "\n",
        "print(\"姓\\t名\\t誕生月\\t誕生日\")\n",
        "for p in persons:\n",
        "    print(p.family_name, '\\t', p.given_name, '\\t', p.birth_month, '\\t', p.birth_date)\n"
      ],
      "execution_count": null,
      "outputs": [
        {
          "output_type": "stream",
          "text": [
            "[<__main__.Person object at 0x7faf30525250>, <__main__.Person object at 0x7faf30525c50>, <__main__.Person object at 0x7faf30525610>, <__main__.Person object at 0x7faf30525d10>, <__main__.Person object at 0x7faf30525650>, <__main__.Person object at 0x7faf30541990>]\n",
            "姓\t名\t誕生月\t誕生日\n",
            "Smith \t Alice \t 12 \t 25\n",
            "Tailor \t Bob \t 4 \t 8\n",
            "Cook \t Cathy \t 8 \t 12\n",
            "Brown \t Dave \t 2 \t 1\n",
            "Drake \t Eve \t 9 \t 17\n",
            "White \t Frida \t 11 \t 21\n",
            "姓\t名\t誕生月\t誕生日\n",
            "Brown \t Dave \t 2 \t 1\n",
            "Cook \t Cathy \t 8 \t 12\n",
            "Drake \t Eve \t 9 \t 17\n",
            "Smith \t Alice \t 12 \t 25\n",
            "Tailor \t Bob \t 4 \t 8\n",
            "White \t Frida \t 11 \t 21\n"
          ],
          "name": "stdout"
        }
      ]
    },
    {
      "cell_type": "markdown",
      "metadata": {
        "id": "ByWey-3pvpxo"
      },
      "source": [
        "上の例と逆順にソートするには、\n",
        "```python\n",
        "persons.sort(key = family_name, reverse = True)\n",
        "```\n",
        "と、`reverse`という名前の引数を利用します。"
      ]
    },
    {
      "cell_type": "code",
      "metadata": {
        "colab": {
          "base_uri": "https://localhost:8080/"
        },
        "id": "1bNsU9thvpxo",
        "outputId": "27ee32c1-77c4-43f6-818f-5d78fc884e88"
      },
      "source": [
        "persons.sort(key = family_name, reverse = True)\n",
        "print(\"姓\\t名\\t誕生月\\t誕生日\")\n",
        "for p in persons:\n",
        "    print(p.family_name, '\\t', p.given_name, '\\t', p.birth_month, '\\t', p.birth_date)"
      ],
      "execution_count": null,
      "outputs": [
        {
          "output_type": "stream",
          "text": [
            "姓\t名\t誕生月\t誕生日\n",
            "White \t Frida \t 11 \t 21\n",
            "Tailor \t Bob \t 4 \t 8\n",
            "Smith \t Alice \t 12 \t 25\n",
            "Drake \t Eve \t 9 \t 17\n",
            "Cook \t Cathy \t 8 \t 12\n",
            "Brown \t Dave \t 2 \t 1\n"
          ],
          "name": "stdout"
        }
      ]
    },
    {
      "cell_type": "markdown",
      "metadata": {
        "id": "2hxa41iIvpxo"
      },
      "source": [
        "### 演習 7-1\n",
        "`persons`の要素を`given_name`のアルファベット順でソートするプログラムを作成せよ。\n",
        "\n",
        "**ヒント** インスタンス変数`given_name`を返す関数を定義せよ。"
      ]
    },
    {
      "cell_type": "code",
      "metadata": {
        "colab": {
          "base_uri": "https://localhost:8080/"
        },
        "id": "pVk2_lb7vpxo",
        "outputId": "775b1759-3c75-4b5e-9504-9c16cb87b116"
      },
      "source": [
        "fn = ['Smith', 'Tailor', 'Cook', 'Brown', 'Drake', 'White']\n",
        "gn = ['Alice', 'Bob', 'Cathy', 'Dave', 'Eve', 'Frida']\n",
        "bm = [12, 4, 8, 2, 9, 11]\n",
        "bd = [25, 8, 12, 1, 17, 21]\n",
        "\n",
        "persons = [Person(fn[i], gn[i], bm[i], bd[i]) for i in range(len(fn))]\n",
        "\n",
        "def get_given_name(p):\n",
        "  return p.given_name\n",
        "\n",
        "persons.sort(key = get_given_name)\n",
        "\n",
        "# 呼び出し可能オブジェクトを引数に指定する場合、括弧()はいらないので注意。https://note.nkmk.me/python-key-sort-sorted-max-min/\n",
        "\n",
        "print(\"姓\\t名\\t誕生月\\t誕生日\")\n",
        "for p in persons:\n",
        "    print(p.family_name, '\\t', p.given_name, '\\t', p.birth_month, '\\t', p.birth_date)"
      ],
      "execution_count": null,
      "outputs": [
        {
          "output_type": "stream",
          "text": [
            "姓\t名\t誕生月\t誕生日\n",
            "Smith \t Alice \t 12 \t 25\n",
            "Tailor \t Bob \t 4 \t 8\n",
            "Cook \t Cathy \t 8 \t 12\n",
            "Brown \t Dave \t 2 \t 1\n",
            "Drake \t Eve \t 9 \t 17\n",
            "White \t Frida \t 11 \t 21\n"
          ],
          "name": "stdout"
        }
      ]
    },
    {
      "cell_type": "markdown",
      "metadata": {
        "id": "dQD3DYKyvpxo"
      },
      "source": [
        "### 演習 7-2\n",
        "`persons`の要素を`given_name`のアルファベット順の逆順（ZからAへ）でソートするプログラムを作成せよ。"
      ]
    },
    {
      "cell_type": "code",
      "metadata": {
        "colab": {
          "base_uri": "https://localhost:8080/"
        },
        "id": "aZFTDFaivpxo",
        "outputId": "f7983e36-dbb1-4072-dd43-a74cdf0153ad"
      },
      "source": [
        "fn = ['Smith', 'Tailor', 'Cook', 'Brown', 'Drake', 'White']\n",
        "gn = ['Alice', 'Bob', 'Cathy', 'Dave', 'Eve', 'Frida']\n",
        "bm = [12, 4, 8, 2, 9, 11]\n",
        "bd = [25, 8, 12, 1, 17, 21]\n",
        "\n",
        "persons = [Person(fn[i], gn[i], bm[i], bd[i]) for i in range(len(fn))]\n",
        "\n",
        "def get_given_name(p):\n",
        "  return p.given_name\n",
        "\n",
        "persons.sort(key = get_given_name, reverse=True)\n",
        "\n",
        "print(\"姓\\t名\\t誕生月\\t誕生日\")\n",
        "for p in persons:\n",
        "    print(p.family_name, '\\t', p.given_name, '\\t', p.birth_month, '\\t', p.birth_date)"
      ],
      "execution_count": null,
      "outputs": [
        {
          "output_type": "stream",
          "text": [
            "姓\t名\t誕生月\t誕生日\n",
            "White \t Frida \t 11 \t 21\n",
            "Drake \t Eve \t 9 \t 17\n",
            "Brown \t Dave \t 2 \t 1\n",
            "Cook \t Cathy \t 8 \t 12\n",
            "Tailor \t Bob \t 4 \t 8\n",
            "Smith \t Alice \t 12 \t 25\n"
          ],
          "name": "stdout"
        }
      ]
    },
    {
      "cell_type": "markdown",
      "metadata": {
        "id": "-39kQOdzvpxo"
      },
      "source": [
        "次は、`persons`の要素を、誕生日（月と日の組）の昇順にソートしてみます。\n",
        "姓でソートする時には、`Person`オブジェクトのインスタンス変数`family_name`の値のみに注目すればよかったので、\n",
        "`sort`関数の`key`に指定する関数`family_name`は、`Person`オブジェクトのインスタンス変数`family_name`を返すだけの非常に単純なものでした。\n",
        "\n",
        "一方、誕生日の順序を決定するには、`birthday_month`と`birthday_date`の二つのインスタンス変数の値が必要です。\n",
        "ここでは、誕生日が1月1日から数えて何日目かを計算する関数`birth_day_count`を以下のように作成します。\n",
        "簡単のために閏年は無視し、2月は28日であるとします。\n",
        "\n",
        "```python\n",
        "month_len = [31, 28, 31, 30, 31, 30, 31, 31, 30, 31, 30, 31]\n",
        "def birth_day_count(p):\n",
        "    return(sum(month_len[:p.birth_month-1]) + p.birth_date)\n",
        "```\n",
        "\n",
        "この関数の動作を、Smith Aliceを例にとって、少し詳しく見ていきましょう。\n",
        "Aliceの誕生日は12月25日ですから、\n",
        "\n",
        "$$\n",
        "\\text{1月から11月までの総日数} + {12月中の日数}\n",
        "= (31 + 28 + 31 + 30 + 31 +30 + 31 + 31 + 30 + 31 + 30) + 6\n",
        "$$\n",
        "\n",
        "により、12月25日が1月1日から何日目であるかが計算できます。\n",
        "\n",
        "そして、右辺の第1項は、Pythonでは`sum(month_len[:11])`で計算することができます。\n",
        "\n",
        "* `month_len[:11]`は、`month_len`の第0項から第10項まで11個の要素のリスト、つまり、\n",
        "`[31, 28, 31, 30, 31, 30, 31, 31, 30, 31, 30]`です。\n",
        "* 関数`sum(リスト)`は、リストの要素の話を返します。\n",
        "例えば、\n",
        "```python\n",
        "a = [1,2,3,4,5,6,7,8,9,10]\n",
        "print(sum(a))\n",
        "```\n",
        "は、1から10までの自然数の総和55を出力します。\n",
        "```python\n",
        "print(sum(range(11)))\n",
        "```\n",
        "も同じ結果を返します。\n",
        "\n",
        "これを一般化すれば、Personオブジェクト`p`に対し、\n",
        "\n",
        "```python\n",
        "sum(month_len[:p.birth_month-1]) + p.birth_date\n",
        "```\n",
        "\n",
        "により、1月1日から数えた誕生日の日数が計算できることが分かります。\n",
        "\n",
        "```python\n",
        "print([birth_day_count(p) for p in persons])\n",
        "```\n",
        "\n",
        "を実行して、計算が正しいことを確かめてください。\n",
        "\n",
        "さて、\n",
        "```python\n",
        "p = Person(\"Jane\", \"Doe\", 1, 1)\n",
        "birth_day_count(p)\n",
        "```\n",
        "により新しいPersonオブジェクトを定めて、\n",
        "```python\n",
        "print(pbirth_day_count(p))\n",
        "```\n",
        "を実行してみましょう。\n",
        "正しく1が出力されたと思いますが、\n",
        "これはそれほど当たり前ではありません。\n",
        "`p.birth_month`の値は1ですので、\n",
        "`month_len[:0]`は空のリストになります。\n",
        "空のリストに対して`sum()`が正しく0とならなければ、\n",
        "関数`birth_day_count`は正しく動かないからです。\n",
        "以下のプログラムを実行してください。\n",
        "```python\n",
        "print(month_len[:0])\n",
        "print(sum(month_len[:0]))\n",
        "```\n",
        "`sum(month_len[:0])`の値は、**正しく**０になっている筈です。"
      ]
    },
    {
      "cell_type": "code",
      "metadata": {
        "colab": {
          "base_uri": "https://localhost:8080/"
        },
        "id": "6JkwGOcgvpxp",
        "outputId": "99df67cf-4d74-4b8f-939c-979243488f2b"
      },
      "source": [
        "fn = ['Smith', 'Tailor', 'Cook', 'Brown', 'Drake', 'White', 'Shimizu']\n",
        "gn = ['Alice', 'Bob', 'Cathy', 'Dave', 'Eve', 'Frida', 'Daisuke']\n",
        "bm = [12, 4, 8, 2, 9, 11, 1]\n",
        "bd = [25, 8, 12, 1, 17, 21, 1]\n",
        "\n",
        "persons = [Person(fn[i], gn[i], bm[i], bd[i]) for i in range(len(fn))]\n",
        "\n",
        "month_len = [31, 28, 31, 30, 31, 30, 31, 31, 30, 31, 30, 31]\n",
        "def birth_day_count(p):\n",
        "  return(sum(month_len[:p.birth_month-1]) + p.birth_date)\n",
        "\n",
        "print([birth_day_count(p) for p in persons])\n",
        "\n",
        "print(month_len[:0])\n",
        "print(sum(month_len[:0]))\n",
        "print(sum([]))"
      ],
      "execution_count": null,
      "outputs": [
        {
          "output_type": "stream",
          "text": [
            "[359, 98, 224, 32, 260, 325, 1]\n",
            "[]\n",
            "0\n",
            "0\n"
          ],
          "name": "stdout"
        }
      ]
    },
    {
      "cell_type": "markdown",
      "metadata": {
        "id": "RPYRAFg_vpxp"
      },
      "source": [
        "### 演習 7-3\n",
        "`birth_day_cout`関数を利用して、`persons`の要素を誕生日（月と日の組）で昇順にソートするプログラムを作成せよ。"
      ]
    },
    {
      "cell_type": "code",
      "metadata": {
        "colab": {
          "base_uri": "https://localhost:8080/"
        },
        "id": "OLtFCTsWvpxp",
        "outputId": "b1336c0e-9507-4aff-93f6-8a78a338e03d"
      },
      "source": [
        "fn = ['Smith', 'Tailor', 'Cook', 'Brown', 'Drake', 'White']\n",
        "gn = ['Alice', 'Bob', 'Cathy', 'Dave', 'Eve', 'Frida']\n",
        "bm = [12, 4, 8, 2, 9, 11]\n",
        "bd = [25, 8, 12, 1, 17, 21]\n",
        "\n",
        "persons = [Person(fn[i], gn[i], bm[i], bd[i]) for i in range(len(fn))]\n",
        "\n",
        "persons.sort(key = birth_day_count)\n",
        "\n",
        "print(\"姓\\t名\\t誕生月\\t誕生日\")\n",
        "for p in persons:\n",
        "    print(p.family_name, '\\t', p.given_name, '\\t', p.birth_month, '\\t', p.birth_date)"
      ],
      "execution_count": null,
      "outputs": [
        {
          "output_type": "stream",
          "text": [
            "姓\t名\t誕生月\t誕生日\n",
            "Brown \t Dave \t 2 \t 1\n",
            "Tailor \t Bob \t 4 \t 8\n",
            "Cook \t Cathy \t 8 \t 12\n",
            "Drake \t Eve \t 9 \t 17\n",
            "White \t Frida \t 11 \t 21\n",
            "Smith \t Alice \t 12 \t 25\n"
          ],
          "name": "stdout"
        }
      ]
    },
    {
      "cell_type": "markdown",
      "metadata": {
        "id": "6dnOsAL_G_w8"
      },
      "source": [
        "これまで、クラスを利用する方法を見てきましたが、ここからはクラスの定義方法について学びましょう。\n",
        "\n",
        "例えば、\n",
        "```python\n",
        "a = Person('Smith', 'Alice', 12, 25)\n",
        "```\n",
        "で、`Person`という名前の関数を呼んで、\n",
        "Alice Smithという名前をもち、12月25日が誕生日の人物（Personオブジェクト）を生成しました。\n",
        "\n",
        "この関数`Person`を、**コンストラクタ**とか**初期化関数**と呼びますが、\n",
        "クラス定義の中では、`__init__`関数として定義されます。\n",
        "`Person`クラスでは、\n",
        "```python\n",
        "   def __init__(self, fn, gn, bm, bd):\n",
        "    self.family_name = fn\n",
        "    self.given_name = gn\n",
        "    self.birth_month = bm\n",
        "    self.birth_date = bd\n",
        "```\n",
        "と定義されています。\n",
        "`__init__`関数は、\n",
        "クラスのオブジェクトが生成される時に必ず実行されます。\n",
        "\n",
        "プログラムの内容をみてみましょう。\n",
        "```python\n",
        "def __init__(self, fn, gn, bm, bd):\n",
        "```\n",
        "は引数を5つ持ちますが、最初の`self`は**おまじない**だと思っていて下さい。\n",
        "\n",
        "| 引数 | 内容 |\n",
        "| :--- | :--- |\n",
        "| self | オブジェクト自分自身を指す |\n",
        "| fn | family_name = 姓を指定する引数 |\n",
        "| gn | given_name = 名を指定する引数 |\n",
        "| bm | birthday_month = 誕生月を指定する引数 |\n",
        "| bd | birthday_date = 誕生日を指定する引数 |\n",
        "\n",
        "`__init__`関数以外にも、クラス定義の中で、関数を定義することがありますが、1番目の引数は必ず`self`になります。\n",
        "しかし、関数を呼び出す時には、この引数は明示的に指定しません。\n",
        "例えば、\n",
        "```python\n",
        "a = Person(\"Smith\", \"Alice\", 12, 25)\n",
        "```\n",
        "により、`\"Smith\"`が引数`fn`、`\"Alice\"`が引数`gn`、`12`が引数`bm`、25が引数`bd`として、`__init__`関数に引き渡されますが、\n",
        "引数`self`には値が指定されません。\n",
        "\n",
        "`__init__`関数の機能は、`def __init__(self, fn, gn)`に続く、インデントされた4行のプログラムが定義します。\n",
        "```python\n",
        "    self.family_name = fn\n",
        "    self.given_name = gn\n",
        "    self.birth_month = bm\n",
        "    self.birth_date = bd\n",
        "```\n",
        "は、インスタンス変数`family_name`、`given_name`、`burth_month`、及び、`birth_date`に、\n",
        "`__init__`関数の引数`fn`、`gn`、`bm`、及び、`bd`として渡された値を割り当てます。\n",
        "`self.family_name`と、`self.`が先頭についていますが、\n",
        "これは`family_name`がインスタンス変数であることを示しています。\n"
      ]
    },
    {
      "cell_type": "markdown",
      "metadata": {
        "id": "OPpnDgkGI3Q2"
      },
      "source": [
        "次回以降では、誕生日が一致するペアが存在する確率に関する誕生日パラドックスのシミュレーションを行います。\n",
        "このシミュレーションでは、誕生日をランダムに定めた多くのPersonオブジェクトを利用します。\n",
        "\n",
        "以下では、任意の員数の人物を、姓名と誕生日がランダムに決定されるようなプログラムを作成して、シミュレーションの準備とします。\n",
        "\n",
        "閏年は考えないことにして、1年を365日とします。\n",
        "誕生日を一様ランダムに選ぶためには、1から365までの間の整数をランダムに選び、次に、それを月と日のペアで表します。\n",
        "そのために、1から365までの整数を月日に変換する関数`month_date()`を、次のようにプログラムします。\n",
        "```python\n",
        "month_len = [31, 28, 31, 30, 31, 30, 31, 31, 30, 31, 30, 31]\n",
        "def month_date(x):\n",
        "    m = 0\n",
        "    while x > 0:\n",
        "        x -= month_len[m]\n",
        "        m += 1\n",
        "    return (m, x + month_len[m-1])\n",
        "```\n",
        "\n",
        "このプログラムは、新しい要素を二つ含んでいます。\n",
        "\n",
        "* `while 論理式:`は、論理式が真（`True`）である間、スコープに定義されたプログラムを繰り返し実行します。\n",
        "このような繰り返し計算を、**whileループ**と呼びます。\n",
        "* `tpl = (a, b)`は**タプル**と呼ばれるオブジェクトのタイプで、二つの要素のペアです。\n",
        "1番目の要素は`tpl[0]`で、2番目の要素は`tpl[1]`でアクセスできます。\n",
        "\n",
        "\n",
        "## Whileループ\n",
        "\n",
        "`month_date`関数のアルゴリズムの説明を通して、`while`ループについて説明します。\n",
        "分かりやすいように、具体的な例を用います。\n",
        "\n",
        "1. $x$をある誕生日の1月1日からの日数として、1から365までの間の整数、仮に、$x = 67$とします。\n",
        "2. $m$は月を表す整数オブジェクトで、初期値として、$m = 0$とします。\n",
        "3. `while x > 0:`の論理式`x > 0`は真`True`なので、`while`ループの中の2行\n",
        "```python\n",
        "        x -= month_len[m]\n",
        "        m += 1\n",
        "```\n",
        "が実行され、`x`と`m`の値は次のように更新されます。\n",
        "$$\n",
        "    x = 67 - 31 = 36,\\quad m = 0 + 1 = 1\n",
        "$$\n",
        "31は、`month_len[0]`の値で、1月の日数です。\n",
        "4. もし、更新した$x$が\n",
        "$$\n",
        "x \\le 0\n",
        "$$\n",
        "であれば、$x$は1月中の日になります。\n",
        "この場合では、更新後の$x$の値は、\n",
        "$$\n",
        "x = 67 - 31 = 36 > 0\n",
        "$$\n",
        "で正になりますので、67は1月中の日ではありません。\n",
        "1. `m += 1`により、`m`の値は1足されているので、`m`の値は1になっています。\n",
        "1. `while x > 0:`の論理式`x > 0`は真`True`なので、\n",
        "`while`ループの中の2行\n",
        "```python\n",
        "        x -= month_len[m]\n",
        "        m += 1\n",
        "```\n",
        "が実行されます。\n",
        "つまり、`x`と`m`の値は、\n",
        "$$\n",
        "x = 36 - 28 = 8, \\quad m = 1 + 1 = 2\n",
        "$$\n",
        "と更新されます。\n",
        "ここで、\n",
        "$$\n",
        "x \\le 0\n",
        "$$\n",
        "がなりたてば、67は2月中の日であるという結論になりますが、\n",
        "$$\n",
        "x = 36 - 28 = 8 > 0\n",
        "$$\n",
        "なので、この結論は成り立ちません。\n",
        "1. つまり、`while x > 0:`の論理式`x > 0`は真`True`なので、\n",
        "`while`ループの中の2行\n",
        "```python\n",
        "        x -= month_len[m]\n",
        "        m += 1\n",
        "```\n",
        "が実行されます。\n",
        "$$\n",
        "x = 8 - 31 = -23, \\quad m = 2 + 1 = 3\n",
        "$$\n",
        "と更新しますが、今度は、\n",
        "$$\n",
        "x = 8 - 31 = -23 < 0\n",
        "$$\n",
        "が成り立つので、67は3月中の日であることが分かります。\n",
        "この時、$m = 3$が成り立っていて、誕生日の月を表しています。\n",
        "1. 今度は、`while x > 0:`の論理式`x > 0`は偽`False`なので、\n",
        "`while`ループから抜け出して、\n",
        "```python\n",
        "    return (m, x + month_len[m-1])\n",
        "```\n",
        "を実行します。\n",
        "$x = - 23$は、月の日数を引き過ぎた結果として、負の値になっていますので、\n",
        "これを戻します。\n",
        "最後に引いた値は`month_len[m-1]`（`month_len[2]`、つまり、3月の日数）でしたので、\n",
        "67日の3月中の日付けは`x + month_len[m-1]`で計算されます。\n",
        "実際、`month_len[m-1]`の値は31なので、\n",
        "$$\n",
        "x = -23 + 31 = 8\n",
        "$$\n",
        "が求める日付になります。\n",
        "1. 関数`month_date(67)`は、タプル`(3,8)`を返すことが分かります。\n",
        "\n",
        "つまり、$x$から月と日を計算するアルゴリズムは、以下のように整理することができます。\n",
        "\n",
        "1. $m = 0$を初期値とする。\n",
        "1. $x > 0$が成り立つ限り、次の計算を繰り返す。\n",
        "$$\n",
        "x = x - (\\text{$(m+1)$月の日数}), \\quad m = m + 1\n",
        "$$\n",
        "1. 求める月は$m$、日付は$x + (\\text{$m$月の日数})$である。\n",
        "\n",
        "以下のプログラムは、このアルゴリズムを忠実に表現しています。\n",
        "\n",
        "```python\n",
        "    m = 0\n",
        "    while x > 0:\n",
        "        x -= month_len[m]\n",
        "        m += 1\n",
        "    return (m, x + month_len[m-1])\n",
        "```\n",
        "### 演習 7-4\n",
        "`month_date`関数のプログラムが正しいことを、複数の例を使って、検証せよ。"
      ]
    },
    {
      "cell_type": "code",
      "metadata": {
        "colab": {
          "base_uri": "https://localhost:8080/"
        },
        "id": "gBhs7DVlEylw",
        "outputId": "560c6ef9-2e3a-41dd-81a3-4a4ab06064df"
      },
      "source": [
        "month_len = [31, 28, 31, 30, 31, 30, 31, 31, 30, 31, 30, 31]\n",
        "def month_date(x):\n",
        "    m = 0\n",
        "    while x > 0:\n",
        "        x -= month_len[m]\n",
        "        m += 1\n",
        "    return (m, x + month_len[m-1])\n",
        "\n",
        "\n",
        "newyearday = month_date(1)\n",
        "my_birthday = month_date(244)\n",
        "lastyearday = month_date(365)\n",
        "\n",
        "print(newyearday)\n",
        "print(my_birthday)\n",
        "print(lastyearday)"
      ],
      "execution_count": 7,
      "outputs": [
        {
          "output_type": "stream",
          "text": [
            "(1, 1)\n",
            "(9, 1)\n",
            "(12, 31)\n"
          ],
          "name": "stdout"
        }
      ]
    },
    {
      "cell_type": "markdown",
      "metadata": {
        "id": "7z3lMYEO_YPX"
      },
      "source": [
        "`month_date`関数を使うと、以下のプログラムにより、誕生日（月と日のペア）をランダムに生成することができます。\n",
        "```python\n",
        "x = random.choice(range(1, 365))\n",
        "print(month_date(x))\n",
        "```\n",
        "\n",
        "次に、姓名をランダムに生成するプログラムを作成します。\n",
        "勝手に、姓や名前を生成するわけにも行かないので、予め、候補を定めておきます。\n",
        "```python\n",
        "fn_pool = ['Smith', 'Johnson', 'Williams', 'Jones', 'Brown', 'Davis', 'Miller', 'Wilson', 'Moore', 'Taylor', 'Anderson', 'Thomas', 'Jackson', 'White', 'Harris', 'Martin', 'Thompson', 'Garcia', 'Martinez', 'Robiinson']\n",
        "gn_pool = ['Noah', 'Liam', 'Elijah', 'Oliver', 'James', 'Mason', 'Logan', 'Lucas', 'Mateo', 'Ethan', 'Olivia', 'Emma', 'Ava', 'Isabella', 'Mia', 'Sophia', 'Amelia', 'Charlotte', 'Luna', 'Harper']\n",
        "```\n",
        "`fn_pool`と`gn_pool`は、それぞれ、米国でもっとも人口の多い20の姓と、人気の高い20の名前をリストにしたものです。\n",
        "```python\n",
        "fn = random.choice(fn_pool)\n",
        "gn = random.choice(gn_pool)\n",
        "```\n",
        "により、ランダムに姓名を決定することができます。\n",
        "\n",
        "以上のプログラムを以下のように組み合わせて、次のようにランダムにPersonオブジェクトを生成することができます。\n",
        "```python\n",
        "m, d = month_date(random.choice(range(1, 365)))\n",
        "fn = random.choice(fn_pool)\n",
        "gn = random.choice(gn_pool)\n",
        "p = Person(fn, gn, m, d)\n",
        "print(p.family_name, p.given_name, p.birth_month, p.birth_date)\n",
        "```\n",
        "このプログラムを実行して見ましょう。"
      ]
    },
    {
      "cell_type": "code",
      "metadata": {
        "colab": {
          "base_uri": "https://localhost:8080/"
        },
        "id": "HTVW3OaHNb6Y",
        "outputId": "0439e19c-1dc9-49f4-e416-e06f385120d9"
      },
      "source": [
        "import random as rnd\n",
        "fn_pool = ['Smith', 'Johnson', 'Williams', 'Jones', 'Brown', 'Davis', 'Miller', 'Wilson', 'Moore', 'Taylor', 'Anderson', 'Thomas', 'Jackson', 'White', 'Harris', 'Martin', 'Thompson', 'Garcia', 'Martinez', 'Robiinson']\n",
        "gn_pool = ['Noah', 'Liam', 'Elijah', 'Oliver', 'James', 'Mason', 'Logan', 'Lucas', 'Mateo', 'Ethan', 'Olivia', 'Emma', 'Ava', 'Isabella', 'Mia', 'Sophia', 'Amelia', 'Charlotte', 'Luna', 'Harper']\n",
        "\n",
        "fn = rnd.choice(fn_pool)\n",
        "gn = rnd.choice(gn_pool)\n",
        "\n",
        "m, d = month_date(rnd.choice(range(1, 365)))\n",
        "fn = rnd.choice(fn_pool)\n",
        "gn = rnd.choice(gn_pool)\n",
        "p = Person(fn, gn, m, d)\n",
        "print(p.family_name, p.given_name, p.birth_month, p.birth_date)"
      ],
      "execution_count": null,
      "outputs": [
        {
          "output_type": "stream",
          "text": [
            "Martin Mason 7 7\n"
          ],
          "name": "stdout"
        }
      ]
    },
    {
      "cell_type": "markdown",
      "metadata": {
        "id": "CEh8Jw9l4bfw"
      },
      "source": [
        "### 演習 7-5\n",
        "直前のセルのプログラムを参考にして、ランダムな姓名と誕生日をもつ\n",
        "100名のPersonオブジェクトを生成し、その誕生月の分布を棒グラフで表せ。\n",
        "\n",
        "#### ヒント\n",
        "グラフ描画の部分は以下の棒グラフを描画するプログラムを参考にせよ。\n",
        "```python\n",
        "import matplotlib.pyplot as plt\n",
        "count = [1,2,3,4,5,6,7,8,9,10,11,12]\n",
        "plt.xticks(range(12), [\"Jan\", \"Feb\", \"Mar\", \"Apr\", \"May\", \"Jun\", \"Jul\", \"Aug\", \"Sep\", \"Oct\", \"Nov\", \"Dec\"])\n",
        "plt.bar(range(12), count)\n",
        "plt.show()\n",
        "```\n",
        "#### ヒント\n",
        "誕生月の人数は、１２個の数を要素として持つ`count`に格納するが、最初に\n",
        "```python\n",
        "count = [0,0,0,0,0,0,0,0,0,0,0,0]\n",
        "```\n",
        "或いは\n",
        "```python\n",
        "count = [0 for n in range(12)]\n",
        "```\n",
        "或いは\n",
        "```python\n",
        "count = [0]*12\n",
        "```\n",
        "で初期化する。\n",
        "`count = [0]*12`は、初出の書き方だが、覚えておくと便利である。\n",
        "\n",
        "#### ヒント\n",
        "誕生月のカウントには`for`ループを使う。\n",
        "例えば、8月を誕生月とする人数は、`count[8-1]`でアクセスできる。\n",
        "8から1を引くのは、リストの要素の順番は０から始まるからである。\n",
        "８月のカウントを１増やすには、\n",
        "```\n",
        "count[8-1] += 1\n",
        "```\n",
        "とすれば良い。\n",
        "\n",
        "#### ヒント\n",
        "この演習に解答するために必要な知識は全て学習済みであるので、\n",
        "必要に応じて過去の資料を復習せよ。\n"
      ]
    },
    {
      "cell_type": "code",
      "metadata": {
        "colab": {
          "base_uri": "https://localhost:8080/"
        },
        "id": "XgZ674jyf1HI",
        "outputId": "0e04f446-1372-4a1c-f74a-a33913eca335"
      },
      "source": [
        "count = [0]*12\n",
        "print(count)"
      ],
      "execution_count": null,
      "outputs": [
        {
          "output_type": "stream",
          "text": [
            "[0, 0, 0, 0, 0, 0, 0, 0, 0, 0, 0, 0]\n"
          ],
          "name": "stdout"
        }
      ]
    },
    {
      "cell_type": "code",
      "metadata": {
        "colab": {
          "base_uri": "https://localhost:8080/",
          "height": 265
        },
        "id": "fKFdsbln3_Vi",
        "outputId": "ec6cb9ae-4c5f-4f6a-b874-c3a3b07e5a05"
      },
      "source": [
        "# 演習 7-5の解答\n",
        "\n",
        "import random as rnd\n",
        "import matplotlib.pyplot as plt\n",
        "\n",
        "fn_pool = ['Smith', 'Johnson', 'Williams', 'Jones', 'Brown', 'Davis', 'Miller', 'Wilson', 'Moore', 'Taylor', 'Anderson', 'Thomas', 'Jackson', 'White', 'Harris', 'Martin', 'Thompson', 'Garcia', 'Martinez', 'Robiinson']\n",
        "gn_pool = ['Noah', 'Liam', 'Elijah', 'Oliver', 'James', 'Mason', 'Logan', 'Lucas', 'Mateo', 'Ethan', 'Olivia', 'Emma', 'Ava', 'Isabella', 'Mia', 'Sophia', 'Amelia', 'Charlotte', 'Luna', 'Harper']\n",
        "\n",
        "persons_list = []\n",
        "for i in range(100):\n",
        "  m, d = month_date(rnd.choice(range(1, 365)))\n",
        "  fn = rnd.choice(fn_pool)\n",
        "  gn = rnd.choice(gn_pool)\n",
        "  persons_list.append(Person(fn, gn, m, d))\n",
        "\n",
        "\n",
        "count = [0]*12\n",
        "for p in persons_list:\n",
        "  count[p.birth_month -1] += 1\n",
        "\n",
        "\n",
        "plt.xticks(range(12), [\"Jan\", \"Feb\", \"Mar\", \"Apr\", \"May\", \"Jun\", \"Jul\", \"Aug\", \"Sep\", \"Oct\", \"Nov\", \"Dec\"])\n",
        "plt.bar(range(12), count)\n",
        "plt.show()\n"
      ],
      "execution_count": null,
      "outputs": [
        {
          "output_type": "display_data",
          "data": {
            "image/png": "[encoded data removed]",
            "text/plain": [
              "<Figure size 432x288 with 1 Axes>"
            ]
          },
          "metadata": {
            "tags": [],
            "needs_background": "light"
          }
        }
      ]
    },
    {
      "cell_type": "markdown",
      "metadata": {
        "id": "4u3dZZAxQ0eB"
      },
      "source": [
        "## メソッド（関数）の定義\n",
        "オブジェクトに適用する関数を、クラス定義の中に記述することができます。\n",
        "例を通して学んでいきます。\n",
        "\n",
        "次のセルのプログラムで、Personオブジェクトの属性を出力することができます。\n",
        "```python\n",
        "p = Person('Smith', 'Alice', 12 ,25)\n",
        "print(\"姓=\", p.family_name, \"\\t名=\", p.given_name, \"\\t誕生日=\", p.birth_month, \"月\", p.birth_date,\"日\")\n",
        "```"
      ]
    },
    {
      "cell_type": "code",
      "metadata": {
        "colab": {
          "base_uri": "https://localhost:8080/"
        },
        "id": "1hfyMMA1vpxs",
        "outputId": "712f33da-f46d-4af9-cf82-9c533f8551f1"
      },
      "source": [
        "p = Person('Smith', 'Alice', 12, 25)\n",
        "print(\"姓=\", p.family_name, \"\\t名=\", p.given_name, \"\\t誕生日=\", p.birth_month, \"月\", p.birth_date,\"日\")"
      ],
      "execution_count": null,
      "outputs": [
        {
          "output_type": "stream",
          "text": [
            "姓= Smith \t名= Alice \t誕生日= 12 月 25 日\n"
          ],
          "name": "stdout"
        }
      ]
    },
    {
      "cell_type": "markdown",
      "metadata": {
        "id": "1VxEpRhrT2Oj"
      },
      "source": [
        "`Person`オブジェクトの属性を表示する機会は多くあるでしょう。\n",
        "その度に、長いプログラム行を書くのは面倒ですが、\n",
        "`Person`のクラス定義の中に、以下のように、 関数`show`を定義することで、この面倒を回避することができます。\n",
        "```python\n",
        "class Person:\n",
        "    def __init__(self, fn, gn, bm, bd):\n",
        "        self.family_name = fn\n",
        "        self.given_name = gn\n",
        "        self.birth_month = bm\n",
        "        self.birth_date = bd\n",
        "    def show(self):\n",
        "        print(\"姓=\", self.family_name, \"\\t名=\", self.given_name, \"\\t誕生日=\", self.birth_month, \"月\", self.birth_date,\"日\")\n",
        "```\n",
        "前のセルと同様に`Person`オブジェクトの属性を表示するには、次のプログラムを実行すれば\n",
        "```python\n",
        "p.show()\n",
        "```\n",
        "クラス定義の中に関数を記述するときは、おまじないの引数`self`を指定する必要がある点を除いては、\n",
        "通常の関数の定義と同じです。\n",
        "この関数を使う時には、次の点に気をつけましょう。\n",
        "\n",
        "* `オブジェクトの名前.関数名(引数)`と、関数名を後置します。\n",
        "* 関数が引数を取らない場合でも、`オブジェクトの名前.関数名()`と空の括弧をつけて、オブジェクトの属性と区別します。"
      ]
    },
    {
      "cell_type": "markdown",
      "metadata": {
        "id": "njEDC9PYbkHX"
      },
      "source": [
        "### 演習 7-6\n",
        "血液型（A, B, O, AB）をインスタンス変数`blood_type`に保持するように、クラス`Person`の定義を変更せよ。\n",
        "`__init__`関数、`show`関数も変更すること。\n"
      ]
    },
    {
      "cell_type": "code",
      "metadata": {
        "colab": {
          "base_uri": "https://localhost:8080/"
        },
        "id": "3X_EqJq7XoYn",
        "outputId": "df215865-efcc-4399-d024-8f3f0d7c5e8a"
      },
      "source": [
        "# 演習 7-6の解答\n",
        "class Person:\n",
        "  def __init__(self, fn, gn, bm, bd, bt):\n",
        "    self.family_name = fn\n",
        "    self.given_name = gn\n",
        "    self.birth_month = bm\n",
        "    self.birth_date = bd\n",
        "    self.blood_type = bt\n",
        "  def show(self):\n",
        "    print(\"姓=\", self.family_name, \"\\t名=\", self.given_name, \"\\t誕生日=\", self.birth_month, \"月\", self.birth_date,\"日\", \"\\t血液型は\", self.blood_type, \"です\")\n",
        "\n",
        "p = Person('Shimizu', 'Daisuke', 9, 1, 'O')\n",
        "p.show()"
      ],
      "execution_count": null,
      "outputs": [
        {
          "output_type": "stream",
          "text": [
            "姓= Shimizu \t名= Daisuke \t誕生日= 9 月 1 日 \t血液型= O です\n"
          ],
          "name": "stdout"
        }
      ]
    },
    {
      "cell_type": "markdown",
      "metadata": {
        "id": "PFGPVXo0c_iL"
      },
      "source": [
        "次の演習は時間をかけてじっくり取り組んでください。\n",
        "今までに学習した知識だけでプログラムを作成することができます。\n",
        "サンプルプログラムを再利用するのは、一向に構いません。\n",
        "むしろ、積極的に、再利用してください。\n",
        "既存のプログラムの再利用はプログラミングの実力向上の近道です。\n",
        "サンプルプログラムを再利用して、この演習に自力で解答できたら、\n",
        "プログラミング上達の最初のハードルを超えることができた証拠になります。\n",
        "\n",
        "### 演習 7-7\n",
        "これまでに作成したプログラムでは閏年が考慮されておらず、2月29日生まれのPersonオブジェクトは生成されない。\n",
        "4分の1の確率で閏年であるものとし、\n",
        "姓名・誕生日・血液型をもつ`Person`オブジェクトをランダムに100個生成するプログラムを作成せよ。\n"
      ]
    },
    {
      "cell_type": "code",
      "metadata": {
        "id": "3uj0I9MuezAW",
        "colab": {
          "base_uri": "https://localhost:8080/"
        },
        "outputId": "37d359c7-3236-4394-e367-f9e083672208"
      },
      "source": [
        "# 演習 7-7の解答\n",
        "import random as rnd\n",
        "\n",
        "fn_pool = ['Smith', 'Johnson', 'Williams', 'Jones', 'Brown', 'Davis', 'Miller', 'Wilson', 'Moore', 'Taylor', 'Anderson', 'Thomas', 'Jackson', 'White', 'Harris', 'Martin', 'Thompson', 'Garcia', 'Martinez', 'Robiinson']\n",
        "gn_pool = ['Noah', 'Liam', 'Elijah', 'Oliver', 'James', 'Mason', 'Logan', 'Lucas', 'Mateo', 'Ethan', 'Olivia', 'Emma', 'Ava', 'Isabella', 'Mia', 'Sophia', 'Amelia', 'Charlotte', 'Luna', 'Harper']\n",
        "\n",
        "class Person:\n",
        "  def __init__(self, fn, gn, by, bm, bd, bt):\n",
        "    self.family_name = fn\n",
        "    self.given_name = gn\n",
        "    self.birth_year = by\n",
        "    self.birth_month = bm\n",
        "    self.birth_date = bd\n",
        "    self.blood_type = bt\n",
        "  def show(self):\n",
        "    print(\"姓=\", self.family_name, \"\\t名=\", self.given_name, \"\\t誕生日=\", self.birth_year, \"年\", self.birth_month, \"月\", self.birth_date,\"日\", \"\\t血液型は\", self.blood_type, \"です\")\n",
        "\n",
        "\n",
        "persons_list = []\n",
        "month_list = [31, 28, 31, 30, 31, 30, 31, 31, 30, 31, 30, 31]\n",
        "for i in range(100):\n",
        "  by = rnd.choice(range(1900,2021))\n",
        "  month_list[1] = 29 if ((by%4 == 0 and by%100 != 0) or by%400 == 0) else 28\n",
        "  bm = rnd.choice(list(range(1,13)))\n",
        "  last_day_of_month = month_list[m-1]\n",
        "  bd = rnd.choice(list(range(1,last_day_of_month+1)))\n",
        "  fn = rnd.choice(fn_pool)\n",
        "  gn = rnd.choice(gn_pool)\n",
        "  bt = rnd.choice(['A', 'B', 'O', 'AB'])\n",
        "  persons_list.append(Person(fn, gn, by, bm, bd, bt))\n",
        "\n",
        "for p in persons_list:\n",
        "  p.show()\n"
      ],
      "execution_count": 28,
      "outputs": [
        {
          "output_type": "stream",
          "text": [
            "姓= Davis \t名= Luna \t誕生日= 1933 年 6 月 12 日 \t血液型= AB です\n",
            "姓= Martin \t名= Charlotte \t誕生日= 1980 年 8 月 27 日 \t血液型= B です\n",
            "姓= Martin \t名= Olivia \t誕生日= 2018 年 4 月 17 日 \t血液型= AB です\n",
            "姓= Taylor \t名= Logan \t誕生日= 1969 年 8 月 18 日 \t血液型= A です\n",
            "姓= Harris \t名= Ethan \t誕生日= 2008 年 4 月 26 日 \t血液型= B です\n",
            "姓= Anderson \t名= Logan \t誕生日= 1938 年 9 月 10 日 \t血液型= A です\n",
            "姓= Garcia \t名= Emma \t誕生日= 1929 年 10 月 3 日 \t血液型= O です\n",
            "姓= Wilson \t名= Luna \t誕生日= 1973 年 3 月 23 日 \t血液型= B です\n",
            "姓= Williams \t名= Oliver \t誕生日= 2001 年 12 月 15 日 \t血液型= O です\n",
            "姓= Martin \t名= Olivia \t誕生日= 1947 年 3 月 20 日 \t血液型= AB です\n",
            "姓= Wilson \t名= Harper \t誕生日= 2009 年 9 月 8 日 \t血液型= AB です\n",
            "姓= Davis \t名= Ethan \t誕生日= 1905 年 4 月 2 日 \t血液型= B です\n",
            "姓= Wilson \t名= Mason \t誕生日= 1982 年 3 月 8 日 \t血液型= A です\n",
            "姓= White \t名= Mateo \t誕生日= 2012 年 6 月 26 日 \t血液型= O です\n",
            "姓= Moore \t名= Amelia \t誕生日= 1901 年 4 月 11 日 \t血液型= AB です\n",
            "姓= Martin \t名= Harper \t誕生日= 1907 年 3 月 24 日 \t血液型= B です\n",
            "姓= Taylor \t名= Ava \t誕生日= 1947 年 10 月 20 日 \t血液型= O です\n",
            "姓= Robiinson \t名= Liam \t誕生日= 1956 年 10 月 24 日 \t血液型= O です\n",
            "姓= Wilson \t名= Ethan \t誕生日= 1951 年 7 月 23 日 \t血液型= AB です\n",
            "姓= Miller \t名= Ava \t誕生日= 1903 年 7 月 1 日 \t血液型= AB です\n",
            "姓= Thompson \t名= Logan \t誕生日= 1991 年 5 月 29 日 \t血液型= O です\n",
            "姓= Brown \t名= Amelia \t誕生日= 1952 年 8 月 10 日 \t血液型= B です\n",
            "姓= Brown \t名= Amelia \t誕生日= 2005 年 2 月 3 日 \t血液型= A です\n",
            "姓= Brown \t名= Amelia \t誕生日= 1909 年 7 月 22 日 \t血液型= B です\n",
            "姓= Jones \t名= Liam \t誕生日= 1909 年 5 月 29 日 \t血液型= B です\n",
            "姓= Johnson \t名= Mia \t誕生日= 1917 年 1 月 29 日 \t血液型= B です\n",
            "姓= Robiinson \t名= Mateo \t誕生日= 2019 年 8 月 6 日 \t血液型= B です\n",
            "姓= Jones \t名= Oliver \t誕生日= 1987 年 1 月 1 日 \t血液型= AB です\n",
            "姓= Smith \t名= Logan \t誕生日= 1987 年 12 月 20 日 \t血液型= AB です\n",
            "姓= Smith \t名= Emma \t誕生日= 1977 年 4 月 17 日 \t血液型= AB です\n",
            "姓= Brown \t名= Emma \t誕生日= 1961 年 8 月 19 日 \t血液型= A です\n",
            "姓= Smith \t名= Lucas \t誕生日= 1928 年 4 月 25 日 \t血液型= A です\n",
            "姓= Johnson \t名= Olivia \t誕生日= 1991 年 3 月 20 日 \t血液型= AB です\n",
            "姓= Martinez \t名= Mia \t誕生日= 1911 年 4 月 7 日 \t血液型= A です\n",
            "姓= Smith \t名= Lucas \t誕生日= 1952 年 12 月 28 日 \t血液型= A です\n",
            "姓= Moore \t名= Liam \t誕生日= 1911 年 8 月 5 日 \t血液型= O です\n",
            "姓= Jones \t名= Mateo \t誕生日= 1958 年 12 月 9 日 \t血液型= A です\n",
            "姓= Davis \t名= Harper \t誕生日= 1955 年 10 月 8 日 \t血液型= A です\n",
            "姓= Miller \t名= Elijah \t誕生日= 2017 年 6 月 11 日 \t血液型= B です\n",
            "姓= Moore \t名= Emma \t誕生日= 1905 年 6 月 9 日 \t血液型= AB です\n",
            "姓= Davis \t名= Mason \t誕生日= 2009 年 5 月 11 日 \t血液型= B です\n",
            "姓= Garcia \t名= Mason \t誕生日= 1903 年 11 月 19 日 \t血液型= A です\n",
            "姓= Harris \t名= Liam \t誕生日= 1942 年 4 月 8 日 \t血液型= A です\n",
            "姓= Harris \t名= Olivia \t誕生日= 1999 年 7 月 26 日 \t血液型= AB です\n",
            "姓= Davis \t名= Logan \t誕生日= 1936 年 5 月 18 日 \t血液型= A です\n",
            "姓= Wilson \t名= Noah \t誕生日= 1918 年 3 月 2 日 \t血液型= O です\n",
            "姓= Martinez \t名= Mason \t誕生日= 1995 年 8 月 1 日 \t血液型= B です\n",
            "姓= Davis \t名= James \t誕生日= 1966 年 3 月 26 日 \t血液型= A です\n",
            "姓= Jackson \t名= Noah \t誕生日= 1994 年 1 月 6 日 \t血液型= AB です\n",
            "姓= Robiinson \t名= Liam \t誕生日= 1963 年 7 月 7 日 \t血液型= B です\n",
            "姓= Martinez \t名= Emma \t誕生日= 1944 年 10 月 17 日 \t血液型= B です\n",
            "姓= Wilson \t名= Oliver \t誕生日= 1965 年 2 月 19 日 \t血液型= O です\n",
            "姓= Smith \t名= Liam \t誕生日= 1993 年 6 月 23 日 \t血液型= AB です\n",
            "姓= Taylor \t名= Oliver \t誕生日= 1936 年 3 月 9 日 \t血液型= O です\n",
            "姓= Miller \t名= Mason \t誕生日= 1928 年 11 月 29 日 \t血液型= A です\n",
            "姓= Taylor \t名= Mateo \t誕生日= 1918 年 12 月 29 日 \t血液型= B です\n",
            "姓= Robiinson \t名= Ethan \t誕生日= 1956 年 9 月 30 日 \t血液型= B です\n",
            "姓= Johnson \t名= Mia \t誕生日= 1974 年 12 月 12 日 \t血液型= B です\n",
            "姓= Jones \t名= Lucas \t誕生日= 1912 年 11 月 9 日 \t血液型= A です\n",
            "姓= Johnson \t名= Ethan \t誕生日= 1994 年 6 月 20 日 \t血液型= O です\n",
            "姓= Wilson \t名= Sophia \t誕生日= 1912 年 7 月 8 日 \t血液型= O です\n",
            "姓= Williams \t名= Lucas \t誕生日= 2014 年 8 月 10 日 \t血液型= O です\n",
            "姓= Williams \t名= Mateo \t誕生日= 1958 年 10 月 10 日 \t血液型= B です\n",
            "姓= Davis \t名= Liam \t誕生日= 2012 年 1 月 23 日 \t血液型= O です\n",
            "姓= White \t名= Mason \t誕生日= 1929 年 7 月 12 日 \t血液型= O です\n",
            "姓= White \t名= Isabella \t誕生日= 1913 年 10 月 17 日 \t血液型= A です\n",
            "姓= Smith \t名= Mateo \t誕生日= 1959 年 3 月 14 日 \t血液型= A です\n",
            "姓= Taylor \t名= Mia \t誕生日= 2007 年 11 月 4 日 \t血液型= A です\n",
            "姓= Jones \t名= Ava \t誕生日= 1995 年 10 月 10 日 \t血液型= AB です\n",
            "姓= Martin \t名= Olivia \t誕生日= 1955 年 8 月 25 日 \t血液型= B です\n",
            "姓= Anderson \t名= Elijah \t誕生日= 1938 年 2 月 7 日 \t血液型= AB です\n",
            "姓= Garcia \t名= Luna \t誕生日= 1955 年 6 月 29 日 \t血液型= B です\n",
            "姓= Davis \t名= Mateo \t誕生日= 1933 年 6 月 16 日 \t血液型= AB です\n",
            "姓= Martinez \t名= Oliver \t誕生日= 1945 年 8 月 12 日 \t血液型= A です\n",
            "姓= Anderson \t名= Harper \t誕生日= 1952 年 6 月 19 日 \t血液型= O です\n",
            "姓= Anderson \t名= Mia \t誕生日= 1917 年 5 月 18 日 \t血液型= AB です\n",
            "姓= Johnson \t名= Noah \t誕生日= 2015 年 6 月 26 日 \t血液型= A です\n",
            "姓= Brown \t名= Elijah \t誕生日= 1997 年 8 月 4 日 \t血液型= AB です\n",
            "姓= Harris \t名= Luna \t誕生日= 1998 年 2 月 30 日 \t血液型= A です\n",
            "姓= Garcia \t名= Liam \t誕生日= 1935 年 2 月 14 日 \t血液型= AB です\n",
            "姓= Robiinson \t名= Ava \t誕生日= 1930 年 8 月 13 日 \t血液型= AB です\n",
            "姓= Anderson \t名= Sophia \t誕生日= 1901 年 11 月 25 日 \t血液型= AB です\n",
            "姓= Davis \t名= Harper \t誕生日= 1957 年 1 月 14 日 \t血液型= B です\n",
            "姓= Jones \t名= Emma \t誕生日= 1956 年 5 月 21 日 \t血液型= B です\n",
            "姓= Jones \t名= Mia \t誕生日= 1944 年 4 月 6 日 \t血液型= AB です\n",
            "姓= Anderson \t名= Luna \t誕生日= 1984 年 6 月 22 日 \t血液型= AB です\n",
            "姓= Thomas \t名= Emma \t誕生日= 1949 年 12 月 23 日 \t血液型= AB です\n",
            "姓= Wilson \t名= Noah \t誕生日= 1916 年 7 月 8 日 \t血液型= A です\n",
            "姓= Wilson \t名= Logan \t誕生日= 1951 年 12 月 11 日 \t血液型= B です\n",
            "姓= White \t名= Noah \t誕生日= 1925 年 2 月 26 日 \t血液型= AB です\n",
            "姓= Martin \t名= Noah \t誕生日= 1912 年 8 月 30 日 \t血液型= O です\n",
            "姓= Garcia \t名= Logan \t誕生日= 1917 年 6 月 22 日 \t血液型= A です\n",
            "姓= Thomas \t名= Luna \t誕生日= 1929 年 12 月 5 日 \t血液型= A です\n",
            "姓= Williams \t名= Emma \t誕生日= 1949 年 6 月 14 日 \t血液型= O です\n",
            "姓= Davis \t名= Luna \t誕生日= 1909 年 8 月 2 日 \t血液型= AB です\n",
            "姓= Davis \t名= James \t誕生日= 1980 年 2 月 10 日 \t血液型= O です\n",
            "姓= Williams \t名= Olivia \t誕生日= 1997 年 4 月 27 日 \t血液型= A です\n",
            "姓= Thompson \t名= Mateo \t誕生日= 1908 年 9 月 8 日 \t血液型= A です\n",
            "姓= Williams \t名= Isabella \t誕生日= 1966 年 8 月 3 日 \t血液型= O です\n",
            "姓= White \t名= Emma \t誕生日= 1943 年 9 月 23 日 \t血液型= A です\n"
          ],
          "name": "stdout"
        }
      ]
    },
    {
      "cell_type": "code",
      "metadata": {
        "colab": {
          "base_uri": "https://localhost:8080/"
        },
        "id": "d5VpCtGkm6TM",
        "outputId": "e7de456e-ac16-4112-c43e-d0cb2766370c"
      },
      "source": [
        "month_list = [31, 28, 31, 30, 31, 30, 31, 31, 30, 31, 30, 31]\n",
        "for i in range(100):\n",
        "  by = rnd.choice(range(1900,2021))\n",
        "  month_list[1] = 29 if ((by%4 == 0 and by%100 != 0) or by%400 == 0) else 28\n",
        "  print(by)\n",
        "  print(month_list)\n"
      ],
      "execution_count": 27,
      "outputs": [
        {
          "output_type": "stream",
          "text": [
            "1912\n",
            "[31, 29, 31, 30, 31, 30, 31, 31, 30, 31, 30, 31]\n",
            "2018\n",
            "[31, 28, 31, 30, 31, 30, 31, 31, 30, 31, 30, 31]\n",
            "1944\n",
            "[31, 29, 31, 30, 31, 30, 31, 31, 30, 31, 30, 31]\n",
            "1989\n",
            "[31, 28, 31, 30, 31, 30, 31, 31, 30, 31, 30, 31]\n",
            "1907\n",
            "[31, 28, 31, 30, 31, 30, 31, 31, 30, 31, 30, 31]\n",
            "1981\n",
            "[31, 28, 31, 30, 31, 30, 31, 31, 30, 31, 30, 31]\n",
            "1959\n",
            "[31, 28, 31, 30, 31, 30, 31, 31, 30, 31, 30, 31]\n",
            "1916\n",
            "[31, 29, 31, 30, 31, 30, 31, 31, 30, 31, 30, 31]\n",
            "1978\n",
            "[31, 28, 31, 30, 31, 30, 31, 31, 30, 31, 30, 31]\n",
            "2004\n",
            "[31, 29, 31, 30, 31, 30, 31, 31, 30, 31, 30, 31]\n",
            "1932\n",
            "[31, 29, 31, 30, 31, 30, 31, 31, 30, 31, 30, 31]\n",
            "1902\n",
            "[31, 28, 31, 30, 31, 30, 31, 31, 30, 31, 30, 31]\n",
            "1945\n",
            "[31, 28, 31, 30, 31, 30, 31, 31, 30, 31, 30, 31]\n",
            "1938\n",
            "[31, 28, 31, 30, 31, 30, 31, 31, 30, 31, 30, 31]\n",
            "1901\n",
            "[31, 28, 31, 30, 31, 30, 31, 31, 30, 31, 30, 31]\n",
            "1957\n",
            "[31, 28, 31, 30, 31, 30, 31, 31, 30, 31, 30, 31]\n",
            "1949\n",
            "[31, 28, 31, 30, 31, 30, 31, 31, 30, 31, 30, 31]\n",
            "1997\n",
            "[31, 28, 31, 30, 31, 30, 31, 31, 30, 31, 30, 31]\n",
            "1960\n",
            "[31, 29, 31, 30, 31, 30, 31, 31, 30, 31, 30, 31]\n",
            "1933\n",
            "[31, 28, 31, 30, 31, 30, 31, 31, 30, 31, 30, 31]\n",
            "1986\n",
            "[31, 28, 31, 30, 31, 30, 31, 31, 30, 31, 30, 31]\n",
            "1989\n",
            "[31, 28, 31, 30, 31, 30, 31, 31, 30, 31, 30, 31]\n",
            "1984\n",
            "[31, 29, 31, 30, 31, 30, 31, 31, 30, 31, 30, 31]\n",
            "1941\n",
            "[31, 28, 31, 30, 31, 30, 31, 31, 30, 31, 30, 31]\n",
            "1946\n",
            "[31, 28, 31, 30, 31, 30, 31, 31, 30, 31, 30, 31]\n",
            "2011\n",
            "[31, 28, 31, 30, 31, 30, 31, 31, 30, 31, 30, 31]\n",
            "1933\n",
            "[31, 28, 31, 30, 31, 30, 31, 31, 30, 31, 30, 31]\n",
            "2007\n",
            "[31, 28, 31, 30, 31, 30, 31, 31, 30, 31, 30, 31]\n",
            "1997\n",
            "[31, 28, 31, 30, 31, 30, 31, 31, 30, 31, 30, 31]\n",
            "1934\n",
            "[31, 28, 31, 30, 31, 30, 31, 31, 30, 31, 30, 31]\n",
            "1924\n",
            "[31, 29, 31, 30, 31, 30, 31, 31, 30, 31, 30, 31]\n",
            "1977\n",
            "[31, 28, 31, 30, 31, 30, 31, 31, 30, 31, 30, 31]\n",
            "2011\n",
            "[31, 28, 31, 30, 31, 30, 31, 31, 30, 31, 30, 31]\n",
            "2015\n",
            "[31, 28, 31, 30, 31, 30, 31, 31, 30, 31, 30, 31]\n",
            "1994\n",
            "[31, 28, 31, 30, 31, 30, 31, 31, 30, 31, 30, 31]\n",
            "1933\n",
            "[31, 28, 31, 30, 31, 30, 31, 31, 30, 31, 30, 31]\n",
            "1901\n",
            "[31, 28, 31, 30, 31, 30, 31, 31, 30, 31, 30, 31]\n",
            "1966\n",
            "[31, 28, 31, 30, 31, 30, 31, 31, 30, 31, 30, 31]\n",
            "1961\n",
            "[31, 28, 31, 30, 31, 30, 31, 31, 30, 31, 30, 31]\n",
            "2010\n",
            "[31, 28, 31, 30, 31, 30, 31, 31, 30, 31, 30, 31]\n",
            "1941\n",
            "[31, 28, 31, 30, 31, 30, 31, 31, 30, 31, 30, 31]\n",
            "1943\n",
            "[31, 28, 31, 30, 31, 30, 31, 31, 30, 31, 30, 31]\n",
            "1996\n",
            "[31, 29, 31, 30, 31, 30, 31, 31, 30, 31, 30, 31]\n",
            "1927\n",
            "[31, 28, 31, 30, 31, 30, 31, 31, 30, 31, 30, 31]\n",
            "1937\n",
            "[31, 28, 31, 30, 31, 30, 31, 31, 30, 31, 30, 31]\n",
            "1980\n",
            "[31, 29, 31, 30, 31, 30, 31, 31, 30, 31, 30, 31]\n",
            "1929\n",
            "[31, 28, 31, 30, 31, 30, 31, 31, 30, 31, 30, 31]\n",
            "1919\n",
            "[31, 28, 31, 30, 31, 30, 31, 31, 30, 31, 30, 31]\n",
            "1946\n",
            "[31, 28, 31, 30, 31, 30, 31, 31, 30, 31, 30, 31]\n",
            "1980\n",
            "[31, 29, 31, 30, 31, 30, 31, 31, 30, 31, 30, 31]\n",
            "1948\n",
            "[31, 29, 31, 30, 31, 30, 31, 31, 30, 31, 30, 31]\n",
            "1930\n",
            "[31, 28, 31, 30, 31, 30, 31, 31, 30, 31, 30, 31]\n",
            "1969\n",
            "[31, 28, 31, 30, 31, 30, 31, 31, 30, 31, 30, 31]\n",
            "1916\n",
            "[31, 29, 31, 30, 31, 30, 31, 31, 30, 31, 30, 31]\n",
            "1991\n",
            "[31, 28, 31, 30, 31, 30, 31, 31, 30, 31, 30, 31]\n",
            "1942\n",
            "[31, 28, 31, 30, 31, 30, 31, 31, 30, 31, 30, 31]\n",
            "1998\n",
            "[31, 28, 31, 30, 31, 30, 31, 31, 30, 31, 30, 31]\n",
            "1904\n",
            "[31, 29, 31, 30, 31, 30, 31, 31, 30, 31, 30, 31]\n",
            "1948\n",
            "[31, 29, 31, 30, 31, 30, 31, 31, 30, 31, 30, 31]\n",
            "1943\n",
            "[31, 28, 31, 30, 31, 30, 31, 31, 30, 31, 30, 31]\n",
            "2017\n",
            "[31, 28, 31, 30, 31, 30, 31, 31, 30, 31, 30, 31]\n",
            "1999\n",
            "[31, 28, 31, 30, 31, 30, 31, 31, 30, 31, 30, 31]\n",
            "1983\n",
            "[31, 28, 31, 30, 31, 30, 31, 31, 30, 31, 30, 31]\n",
            "1961\n",
            "[31, 28, 31, 30, 31, 30, 31, 31, 30, 31, 30, 31]\n",
            "1972\n",
            "[31, 29, 31, 30, 31, 30, 31, 31, 30, 31, 30, 31]\n",
            "1996\n",
            "[31, 29, 31, 30, 31, 30, 31, 31, 30, 31, 30, 31]\n",
            "1968\n",
            "[31, 29, 31, 30, 31, 30, 31, 31, 30, 31, 30, 31]\n",
            "1993\n",
            "[31, 28, 31, 30, 31, 30, 31, 31, 30, 31, 30, 31]\n",
            "1974\n",
            "[31, 28, 31, 30, 31, 30, 31, 31, 30, 31, 30, 31]\n",
            "1952\n",
            "[31, 29, 31, 30, 31, 30, 31, 31, 30, 31, 30, 31]\n",
            "1988\n",
            "[31, 29, 31, 30, 31, 30, 31, 31, 30, 31, 30, 31]\n",
            "1902\n",
            "[31, 28, 31, 30, 31, 30, 31, 31, 30, 31, 30, 31]\n",
            "2019\n",
            "[31, 28, 31, 30, 31, 30, 31, 31, 30, 31, 30, 31]\n",
            "1915\n",
            "[31, 28, 31, 30, 31, 30, 31, 31, 30, 31, 30, 31]\n",
            "1971\n",
            "[31, 28, 31, 30, 31, 30, 31, 31, 30, 31, 30, 31]\n",
            "1974\n",
            "[31, 28, 31, 30, 31, 30, 31, 31, 30, 31, 30, 31]\n",
            "1955\n",
            "[31, 28, 31, 30, 31, 30, 31, 31, 30, 31, 30, 31]\n",
            "2006\n",
            "[31, 28, 31, 30, 31, 30, 31, 31, 30, 31, 30, 31]\n",
            "1930\n",
            "[31, 28, 31, 30, 31, 30, 31, 31, 30, 31, 30, 31]\n",
            "1961\n",
            "[31, 28, 31, 30, 31, 30, 31, 31, 30, 31, 30, 31]\n",
            "1954\n",
            "[31, 28, 31, 30, 31, 30, 31, 31, 30, 31, 30, 31]\n",
            "2011\n",
            "[31, 28, 31, 30, 31, 30, 31, 31, 30, 31, 30, 31]\n",
            "1935\n",
            "[31, 28, 31, 30, 31, 30, 31, 31, 30, 31, 30, 31]\n",
            "1964\n",
            "[31, 29, 31, 30, 31, 30, 31, 31, 30, 31, 30, 31]\n",
            "1945\n",
            "[31, 28, 31, 30, 31, 30, 31, 31, 30, 31, 30, 31]\n",
            "1925\n",
            "[31, 28, 31, 30, 31, 30, 31, 31, 30, 31, 30, 31]\n",
            "1952\n",
            "[31, 29, 31, 30, 31, 30, 31, 31, 30, 31, 30, 31]\n",
            "2013\n",
            "[31, 28, 31, 30, 31, 30, 31, 31, 30, 31, 30, 31]\n",
            "1968\n",
            "[31, 29, 31, 30, 31, 30, 31, 31, 30, 31, 30, 31]\n",
            "1988\n",
            "[31, 29, 31, 30, 31, 30, 31, 31, 30, 31, 30, 31]\n",
            "1995\n",
            "[31, 28, 31, 30, 31, 30, 31, 31, 30, 31, 30, 31]\n",
            "1991\n",
            "[31, 28, 31, 30, 31, 30, 31, 31, 30, 31, 30, 31]\n",
            "2000\n",
            "[31, 29, 31, 30, 31, 30, 31, 31, 30, 31, 30, 31]\n",
            "1942\n",
            "[31, 28, 31, 30, 31, 30, 31, 31, 30, 31, 30, 31]\n",
            "1957\n",
            "[31, 28, 31, 30, 31, 30, 31, 31, 30, 31, 30, 31]\n",
            "1946\n",
            "[31, 28, 31, 30, 31, 30, 31, 31, 30, 31, 30, 31]\n",
            "1934\n",
            "[31, 28, 31, 30, 31, 30, 31, 31, 30, 31, 30, 31]\n",
            "1966\n",
            "[31, 28, 31, 30, 31, 30, 31, 31, 30, 31, 30, 31]\n",
            "1973\n",
            "[31, 28, 31, 30, 31, 30, 31, 31, 30, 31, 30, 31]\n",
            "2016\n",
            "[31, 29, 31, 30, 31, 30, 31, 31, 30, 31, 30, 31]\n"
          ],
          "name": "stdout"
        }
      ]
    }
  ]
}