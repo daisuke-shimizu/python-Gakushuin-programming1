{
  "nbformat": 4,
  "nbformat_minor": 0,
  "metadata": {
    "colab": {
      "name": "Programming1-11.ipynb",
      "provenance": [],
      "collapsed_sections": [],
      "include_colab_link": true
    },
    "kernelspec": {
      "display_name": "Python 3",
      "language": "python",
      "name": "python3"
    },
    "language_info": {
      "codemirror_mode": {
        "name": "ipython",
        "version": 3
      },
      "file_extension": ".py",
      "mimetype": "text/x-python",
      "name": "python",
      "nbconvert_exporter": "python",
      "pygments_lexer": "ipython3",
      "version": "3.8.3"
    }
  },
  "cells": [
    {
      "cell_type": "markdown",
      "metadata": {
        "id": "view-in-github",
        "colab_type": "text"
      },
      "source": [
        "<a href=\"https://colab.research.google.com/github/daisuke-shimizu/python-Gakushuin-programming1/blob/main/Programming1_11.ipynb\" target=\"_parent\"><img src=\"https://colab.research.google.com/assets/colab-badge.svg\" alt=\"Open In Colab\"/></a>"
      ]
    },
    {
      "cell_type": "markdown",
      "metadata": {
        "id": "8L2fJDdW-lOM"
      },
      "source": [
        "# サンプルプログラム実行上の注意\n",
        "プログラミング上達のコツは、\n",
        "\n",
        "- 短時間に集中してできるだけ大量のプログラムを書くこと\n",
        "- 試行錯誤を行うこと\n",
        "- 他人の書いた（動く）プログラムを読むこと\n",
        "- 更に、自分の目的に合わせてカスタマイズしてみること\n",
        "\n",
        "を日常的に実行することです。\n",
        "しかし、限られた授業時間（予習・復習も含む）内で、これらを十分に実行することは至難です。\n",
        "\n",
        "そこで、\n",
        "この講義資料は、多数のサンプルプログラムを提供して、\n",
        "少しでも不足を補うことができるように作成されています。\n",
        "受講者は、以下の注意を守ってサンプルプログラムをコードセル中で実行することで、\n",
        "より効率の良い学習を心がけて下さい。\n",
        "\n",
        "1. サンプルプログラムは、コピペせず、1行1行自分でタイプして書き写して下さい。\n",
        "コピペでは見逃してしまう、プログラミングの書き方の規則や、プログラミングのコツなど、\n",
        "自分自身でタイプすることで気づくことができます。\n",
        "2. サンプルプログラムを書き写す時は、プログラムの意味を考えるよう努めて下さい。\n",
        "最初は必ずしも最良とは言えないサンプルプログラムを提示して、\n",
        "後で改良した例を示すなど、この講義資料では、良いプログラムを作成する考え方を効率的に学べるよう、\n",
        "いろいろな工夫をしています。\n",
        "3. 意味を理解できない行がある場合には、あまり拘泥せず、先に進んでください。\n",
        "100%理解しないといけないという思い込みは、プログラミングの上達にとって妨げです。\n",
        "理解するための努力は必要ですが、Pythonでできることの範囲は非常に広く、\n",
        "プロのプログラマでも全部は理解していないでしょう。\n",
        "完璧な理解よりも、**動くプログラムを書くことを最優先の目標**として、\n",
        "わからない部分は「おまじない」として受け入れることができると、上達も早くなります。\n",
        "「おまじない」とは、「なぜ効くのかはわからないけれども、使い方は分かっている」という意味です。"
      ]
    },
    {
      "cell_type": "markdown",
      "metadata": {
        "id": "aZHa_YuX-lOQ"
      },
      "source": [
        "# 前回の演習問題の解答例\n",
        "\n",
        "### 演習10-1\n",
        "8点$(0,0,0),(1,0,0),(0,1,0),(1,1,0),(0,0,1),(1,0,1),(0,1,1),(1,1,1)$を頂点とする一辺の長さが１の立方体の頂点を描画せよ。\n",
        "\n",
        "**解答例**\n",
        "```python\n",
        "x = [0,1,0,1,0,1,0,1]\n",
        "y = [0,0,1,1,0,0,1,1]\n",
        "z = [0,0,0,0,1,1,1,1]\n",
        "data = go.Scatter3d(x=x, y=y, z=z, mode='markers')\n",
        "fig = go.Figure(data)\n",
        "fig.show()\n",
        "```\n",
        "\n",
        "### 演習10-2\n",
        "```python\n",
        "import plotly.graph_objects as go\n",
        "x = [0, 0, 1, 1]\n",
        "y = [0, 1, 1, 0]\n",
        "z = [0, 0, 0, 0]\n",
        "data = [go.Scatter3d(x=x, y=y, z=z, mode='lines')]\n",
        "go.Figure(data).show()\n",
        "```\n",
        "このプログラムを修正して、4辺を描画して、正方形が表示されるようにせよ。\n",
        "\n",
        "**解答例**\n",
        "```python\n",
        "import plotly.graph_objects as go\n",
        "x = [0, 0, 1, 1, 0]\n",
        "y = [0, 1, 1, 0, 0]\n",
        "z = [0, 0, 0, 0, 0]\n",
        "data = [go.Scatter3d(x=x, y=y, z=z, mode='lines')]\n",
        "go.Figure(data).show()\n",
        "```\n",
        "\n",
        "### 演習10-3\n",
        "```python\n",
        "import plotly.graph_objects as go\n",
        "x = [0, 0, 1, 1, 0]\n",
        "y = [0, 1, 1, 0, 0]\n",
        "z = [0, 0, 0, 0, 0]\n",
        "trace1 = go.Scatter3d(x=x, y=y, z=z, mode='lines')\n",
        "x = [0, 0, 1, 1]\n",
        "y = [0, 0, 0, 0]\n",
        "z = [0, 1, 1, 0]\n",
        "trace2 = go.Scatter3d(x=x, y=y, z=z, mode='lines')\n",
        "data = [trace1, trace2]\n",
        "fig = go.Figure(data)\n",
        "fig.show()\n",
        "```\n",
        "このプログラムを修正して、一辺の長さ１の立方体を描画せよ。\n",
        "\n",
        "**解答例**\n",
        "```python\n",
        "import plotly.graph_objects as go\n",
        "x = [0, 0, 1, 1, 0]\n",
        "y = [0, 1, 1, 0, 0]\n",
        "z = [0, 0, 0, 0, 0]\n",
        "trace1 = go.Scatter3d(x=x, y=y, z=z, mode='lines')\n",
        "x = [0, 0, 1, 1, 0]\n",
        "y = [0, 0, 0, 0, 0]\n",
        "z = [0, 1, 1, 0, 0]\n",
        "trace2 = go.Scatter3d(x=x, y=y, z=z, mode='lines')\n",
        "x = [0, 0, 1, 1, 0]\n",
        "y = [0, 1, 1, 0, 0]\n",
        "z = [1, 1, 1, 1, 1]\n",
        "trace3 = go.Scatter3d(x=x, y=y, z=z, mode='lines')\n",
        "x = [0, 0, 1, 1, 0]\n",
        "y = [1, 1, 1, 1, 1]\n",
        "z = [0, 1, 1, 0, 0]\n",
        "trace4 = go.Scatter3d(x=x, y=y, z=z, mode='lines')\n",
        "data = [trace1, trace2, trace3, trace4]\n",
        "fig = go.Figure(data)\n",
        "fig.show()\n",
        "```\n",
        "\n",
        "### 演習10-4\n",
        "```python\n",
        "import plotly.graph_objects as go\n",
        "import math\n",
        "x = [0.5, 0, 0.5, 1, 0.5, 0.5, 0, 1, 0.5, 0.5]\n",
        "y = [math.sqrt(3)/6, 0, math.sqrt(3)/6, 0, math.sqrt(3)/6, math.sqrt(3)/2, 0, 0, math.sqrt(3)/2, math.sqrt(3)/6]\n",
        "z = [math.sqrt(2/3), 0, -math.sqrt(2/3), 0, math.sqrt(2/3), 0, 0, 0, 0, -math.sqrt(2/3)]\n",
        "data = [go.Scatter3d(x=x, y=y, z=z, mode=\"lines\")]\n",
        "fig = go.Figure(data = data)\n",
        "fig.show()\n",
        "```\n",
        "このセルのプログラムで描画される正四面体の６個の頂点の座標を求めよ。\n",
        "\n",
        "**解答**\n",
        "$\\left(\\frac 12, \\frac{\\sqrt 3}6, \\sqrt{\\frac 23}\\right), \n",
        "(0, 0, 0), (1, 0, 0), \\left(\\frac 12, \\frac{\\sqrt 3}2, 0\\right), \n",
        "\\left(\\frac 12, \\frac{\\sqrt 3}6, -\\sqrt{\\frac 23}\\right)$\n",
        "\n",
        "### 演習10-5\n",
        "```python\n",
        "import numpy as np\n",
        "import plotly.graph_objects as go\n",
        "t = np.arange(0, 20, 0.2)\n",
        "x = t * np.cos(t)\n",
        "y = t * np.sin(t)\n",
        "z = t\n",
        "data = [go.Scatter3d(x=x, y=y, z=z, mode='lines')]\n",
        "go.Figure(data).show()\n",
        "```\n",
        "このプログラムでは、$z$軸方向で下にいくほど、半径が小さくなる螺旋曲線であったが、\n",
        "逆に、上に行くほど半径が小さくなる螺旋曲線を描きたい。\n",
        "前のセルのプログラムを修正して、そのような螺旋を描くプログラムを作成せよ。\n",
        "\n",
        "**解答**\n",
        "```python\n",
        "import numpy as np\n",
        "import plotly.graph_objects as go\n",
        "t = np.arange(0, 20, 0.2)\n",
        "x = (20 - t) * np.cos(t)\n",
        "y = (20 - t) * np.sin(t)\n",
        "z = t\n",
        "data = [go.Scatter3d(x=x, y=y, z=z, mode='markers+lines')]\n",
        "fig = go.Figure(data)\n",
        "fig.show()\n",
        "```\n",
        "\n",
        "### 演習10-6\n",
        "方程式$z = y^3 + xy$が定める曲面を、$-1 \\le x \\le 1, -1 \\le y \\le 1$の範囲で描画するプログラムを書け。\n",
        "\n",
        "**解答**\n",
        "```python\n",
        "x = np.arange(-1, 1, 0.1)\n",
        "y = np.arange(-1, 1, 0.1)\n",
        "X, Y = np.meshgrid(x, y)\n",
        "Z = Y**3 + X*Y\n",
        "data =[go.Surface(x=X, y=Y, z=Z)]\n",
        "fig = go.Figure(data)\n",
        "fig.show()\n",
        "```"
      ]
    },
    {
      "cell_type": "markdown",
      "metadata": {
        "id": "zdETnsYveUSX"
      },
      "source": [
        "# 第11講　Pandasによるデータ処理\n",
        "\n",
        "この講では、Pandasと呼ばれるライブラリーが提供する、DataFrameというクラスを使った、表形式のデータの処理についてみてみます。\n",
        "Pandasは、数計算に使われるNumpy、グラフなどの可視化に使われるPyplot、Plotlyと並んで、非常によく使われるライブラリです。\n",
        "データの入出力、例えば、CSV形式（データとデータの間をコンマで区切って、表形式のデータを表現する形式）を読み込んで、DataFrameのオブジェクトを生成する`read_csv()`関数など、便利な機能が組み込まれているほか、\n",
        "以下で見るような表形式のデータの定型処理が一操作で実行できる機能が提供されます。\n",
        "Pandasを使えるようにするには、いつものように、`import`で宣言します。\n",
        "```python\n",
        "import pandas as pd\n",
        "```\n",
        "`pd`は短く呼ぶための略称で、任意です。"
      ]
    },
    {
      "cell_type": "code",
      "metadata": {
        "id": "Opy3YDRe-lOR"
      },
      "source": [
        "import pandas as pd"
      ],
      "execution_count": null,
      "outputs": []
    },
    {
      "cell_type": "markdown",
      "metadata": {
        "id": "P_Ycw9TvgIQY"
      },
      "source": [
        "次に、この資料で利用するデータを作成します。\n",
        "\n",
        "本来ならば、CSVファイルを用意して、Google Driveから`read_csv()`を使って、データを読み込むようにしたかったのですが、\n",
        "Google Driveとの接続が意外に手間がかかるので、\n",
        "Scikit Learn (sklearn)に用意されている７個のデータセットのうち、\n",
        "Bostonの不動産情報のデータセットをデータローダを使って読み込むことにします。\n",
        "\n",
        "Scikit Learnは、Pythonで機械学習のプログラムを作成する際に必須となるライブラリであり、\n",
        "Scikit Learnで用意されているデータセットは、非常に広く利用されていますので、\n",
        "これらのデータセットを使った解説記事をWebで見かけることもあると思います。\n",
        "\n",
        "以下のコードを実行して下さい。\n",
        "```python\n",
        "import numpy as np\n",
        "from sklearn import datasets\n",
        "ds = datasets.load_boston()\n",
        "boston = pd.DataFrame(ds.data, columns = ds.feature_names)\n",
        "boston['PRICE'] = np.array(ds.target)\n",
        "```\n"
      ]
    },
    {
      "cell_type": "code",
      "metadata": {
        "id": "5srAQZsZ-lOS"
      },
      "source": [
        "import pandas as pd\n",
        "import numpy as np\n",
        "from sklearn import datasets\n",
        "ds = datasets.load_boston()\n",
        "boston = pd.DataFrame(ds.data, columns = ds.feature_names)\n",
        "boston['PRICE'] = np.array(ds.target)"
      ],
      "execution_count": null,
      "outputs": []
    },
    {
      "cell_type": "markdown",
      "metadata": {
        "id": "EYOc00NK-lOS"
      },
      "source": [
        "sklearnのデータセットの一つを、`boston`という名前で読み込んでいます。\n",
        "\n",
        "`boston`のデータ形式は、pandasで用意されているDataFrameで、\n",
        "DataFrameは各列に名前のついた表形式のデータを表現します。\n",
        "pandasでは、DataFrameを介して、表形式のデータを便利に取り扱うための機能を提供しています。\n",
        "\n",
        "次のコードを実行してみましょう。\n",
        "```python\n",
        "boston.head()\n",
        "```\n",
        "`boston`の冒頭部分が表示されますので、DataFrameがどのおようなデータ形式なのか、イメージがわくと思います。"
      ]
    },
    {
      "cell_type": "code",
      "metadata": {
        "colab": {
          "base_uri": "https://localhost:8080/",
          "height": 204
        },
        "id": "HSVdKoVV-lOS",
        "outputId": "e44d5606-6e96-4026-c59f-0fc45bd7e705"
      },
      "source": [
        "boston.head()"
      ],
      "execution_count": null,
      "outputs": [
        {
          "output_type": "execute_result",
          "data": {
            "text/html": [
              "<div>\n",
              "<style scoped>\n",
              "    .dataframe tbody tr th:only-of-type {\n",
              "        vertical-align: middle;\n",
              "    }\n",
              "\n",
              "    .dataframe tbody tr th {\n",
              "        vertical-align: top;\n",
              "    }\n",
              "\n",
              "    .dataframe thead th {\n",
              "        text-align: right;\n",
              "    }\n",
              "</style>\n",
              "<table border=\"1\" class=\"dataframe\">\n",
              "  <thead>\n",
              "    <tr style=\"text-align: right;\">\n",
              "      <th></th>\n",
              "      <th>CRIM</th>\n",
              "      <th>ZN</th>\n",
              "      <th>INDUS</th>\n",
              "      <th>CHAS</th>\n",
              "      <th>NOX</th>\n",
              "      <th>RM</th>\n",
              "      <th>AGE</th>\n",
              "      <th>DIS</th>\n",
              "      <th>RAD</th>\n",
              "      <th>TAX</th>\n",
              "      <th>PTRATIO</th>\n",
              "      <th>B</th>\n",
              "      <th>LSTAT</th>\n",
              "      <th>PRICE</th>\n",
              "    </tr>\n",
              "  </thead>\n",
              "  <tbody>\n",
              "    <tr>\n",
              "      <th>0</th>\n",
              "      <td>0.00632</td>\n",
              "      <td>18.0</td>\n",
              "      <td>2.31</td>\n",
              "      <td>0.0</td>\n",
              "      <td>0.538</td>\n",
              "      <td>6.575</td>\n",
              "      <td>65.2</td>\n",
              "      <td>4.0900</td>\n",
              "      <td>1.0</td>\n",
              "      <td>296.0</td>\n",
              "      <td>15.3</td>\n",
              "      <td>396.90</td>\n",
              "      <td>4.98</td>\n",
              "      <td>24.0</td>\n",
              "    </tr>\n",
              "    <tr>\n",
              "      <th>1</th>\n",
              "      <td>0.02731</td>\n",
              "      <td>0.0</td>\n",
              "      <td>7.07</td>\n",
              "      <td>0.0</td>\n",
              "      <td>0.469</td>\n",
              "      <td>6.421</td>\n",
              "      <td>78.9</td>\n",
              "      <td>4.9671</td>\n",
              "      <td>2.0</td>\n",
              "      <td>242.0</td>\n",
              "      <td>17.8</td>\n",
              "      <td>396.90</td>\n",
              "      <td>9.14</td>\n",
              "      <td>21.6</td>\n",
              "    </tr>\n",
              "    <tr>\n",
              "      <th>2</th>\n",
              "      <td>0.02729</td>\n",
              "      <td>0.0</td>\n",
              "      <td>7.07</td>\n",
              "      <td>0.0</td>\n",
              "      <td>0.469</td>\n",
              "      <td>7.185</td>\n",
              "      <td>61.1</td>\n",
              "      <td>4.9671</td>\n",
              "      <td>2.0</td>\n",
              "      <td>242.0</td>\n",
              "      <td>17.8</td>\n",
              "      <td>392.83</td>\n",
              "      <td>4.03</td>\n",
              "      <td>34.7</td>\n",
              "    </tr>\n",
              "    <tr>\n",
              "      <th>3</th>\n",
              "      <td>0.03237</td>\n",
              "      <td>0.0</td>\n",
              "      <td>2.18</td>\n",
              "      <td>0.0</td>\n",
              "      <td>0.458</td>\n",
              "      <td>6.998</td>\n",
              "      <td>45.8</td>\n",
              "      <td>6.0622</td>\n",
              "      <td>3.0</td>\n",
              "      <td>222.0</td>\n",
              "      <td>18.7</td>\n",
              "      <td>394.63</td>\n",
              "      <td>2.94</td>\n",
              "      <td>33.4</td>\n",
              "    </tr>\n",
              "    <tr>\n",
              "      <th>4</th>\n",
              "      <td>0.06905</td>\n",
              "      <td>0.0</td>\n",
              "      <td>2.18</td>\n",
              "      <td>0.0</td>\n",
              "      <td>0.458</td>\n",
              "      <td>7.147</td>\n",
              "      <td>54.2</td>\n",
              "      <td>6.0622</td>\n",
              "      <td>3.0</td>\n",
              "      <td>222.0</td>\n",
              "      <td>18.7</td>\n",
              "      <td>396.90</td>\n",
              "      <td>5.33</td>\n",
              "      <td>36.2</td>\n",
              "    </tr>\n",
              "  </tbody>\n",
              "</table>\n",
              "</div>"
            ],
            "text/plain": [
              "      CRIM    ZN  INDUS  CHAS    NOX  ...    TAX  PTRATIO       B  LSTAT  PRICE\n",
              "0  0.00632  18.0   2.31   0.0  0.538  ...  296.0     15.3  396.90   4.98   24.0\n",
              "1  0.02731   0.0   7.07   0.0  0.469  ...  242.0     17.8  396.90   9.14   21.6\n",
              "2  0.02729   0.0   7.07   0.0  0.469  ...  242.0     17.8  392.83   4.03   34.7\n",
              "3  0.03237   0.0   2.18   0.0  0.458  ...  222.0     18.7  394.63   2.94   33.4\n",
              "4  0.06905   0.0   2.18   0.0  0.458  ...  222.0     18.7  396.90   5.33   36.2\n",
              "\n",
              "[5 rows x 14 columns]"
            ]
          },
          "metadata": {
            "tags": []
          },
          "execution_count": 3
        }
      ]
    },
    {
      "cell_type": "markdown",
      "metadata": {
        "id": "4Ej4K0pC-lOT"
      },
      "source": [
        "sklearnからデータセットを読み込む上記のプログラムは、おまじないと思っていただいて結構なのですが、\n",
        "興味のある方の便宜のために、少しだけ説明しておきます。\n",
        "\n",
        "#### ライブラリの導入\n",
        "```python\n",
        "from sklearn import datasets\n",
        "```\n",
        "はsklearnという大きなライブラリ群から、datasetsというライブラリを導入します。\n",
        "\n",
        "#### データのロード\n",
        "\n",
        "datasetsには、前述の7種のデータセットのほか、\n",
        "それらのデータセットを読み込む（ロードする）ためのデータロード関数も用意されています。\n",
        "例えば、\n",
        "```python\n",
        "ds = load_boston()\n",
        "```\n",
        "を実行すると、Bostonの不動産情報のデータセットを読み込み、`ds`という名前をつけます。\n",
        "\n",
        "#### DataFrameの生成\n",
        "```python\n",
        "boston = pd.DataFrame(ds.data, columns = ds.feature_names)\n",
        "```\n",
        "この１行が、読み込んだデータセット`ds`からDataFrameのオブジェクトを生成するプログラムです。\n",
        "\n"
      ]
    },
    {
      "cell_type": "markdown",
      "metadata": {
        "id": "ITbnk981-lOT"
      },
      "source": [
        "表形式のデータである`boston`がどのように生成されるか、少し詳しくみてみましょう。\n",
        "まず、\n",
        "```python\n",
        "print(ds.data)\n",
        "```\n",
        "を実行してみましょう。"
      ]
    },
    {
      "cell_type": "code",
      "metadata": {
        "colab": {
          "base_uri": "https://localhost:8080/"
        },
        "id": "YMYFCFcvo0fL",
        "outputId": "7ef3b7e6-4d53-4161-8268-04892db894a4"
      },
      "source": [
        "print(ds.data)"
      ],
      "execution_count": null,
      "outputs": [
        {
          "output_type": "stream",
          "text": [
            "[[6.3200e-03 1.8000e+01 2.3100e+00 ... 1.5300e+01 3.9690e+02 4.9800e+00]\n",
            " [2.7310e-02 0.0000e+00 7.0700e+00 ... 1.7800e+01 3.9690e+02 9.1400e+00]\n",
            " [2.7290e-02 0.0000e+00 7.0700e+00 ... 1.7800e+01 3.9283e+02 4.0300e+00]\n",
            " ...\n",
            " [6.0760e-02 0.0000e+00 1.1930e+01 ... 2.1000e+01 3.9690e+02 5.6400e+00]\n",
            " [1.0959e-01 0.0000e+00 1.1930e+01 ... 2.1000e+01 3.9345e+02 6.4800e+00]\n",
            " [4.7410e-02 0.0000e+00 1.1930e+01 ... 2.1000e+01 3.9690e+02 7.8800e+00]]\n"
          ],
          "name": "stdout"
        }
      ]
    },
    {
      "cell_type": "markdown",
      "metadata": {
        "id": "a-ySUqNm-lOT"
      },
      "source": [
        "`ds.data`は、データの配列であることが分かります。\n",
        "正確には、`numpy.array`のオブジェクトであり、行列を表します。\n",
        "```python\n",
        "print(ds.data.shape)\n",
        "```\n",
        "を実行すると、506行・13列の行列であることが表示されます。"
      ]
    },
    {
      "cell_type": "code",
      "metadata": {
        "colab": {
          "base_uri": "https://localhost:8080/"
        },
        "id": "9dYTDzzO-lOU",
        "outputId": "afdff4e7-4c73-4873-fbc4-6661c5f70b75"
      },
      "source": [
        "print(ds.data.shape)"
      ],
      "execution_count": null,
      "outputs": [
        {
          "output_type": "stream",
          "text": [
            "(506, 13)\n"
          ],
          "name": "stdout"
        }
      ]
    },
    {
      "cell_type": "markdown",
      "metadata": {
        "id": "S-fJygXk-lOU"
      },
      "source": [
        "また、\n",
        "```python\n",
        "print(ds.feature_names)\n",
        "```\n",
        "を実行すると、13個の文字列からなる配列であることが分かります。\n",
        "このオブジェクトも、numpy.arrayです。"
      ]
    },
    {
      "cell_type": "code",
      "metadata": {
        "colab": {
          "base_uri": "https://localhost:8080/"
        },
        "id": "RBZCNKdC-lOU",
        "outputId": "1880cd1d-ce01-43b7-b96a-4d06135e2ba8"
      },
      "source": [
        "print(ds.feature_names)"
      ],
      "execution_count": null,
      "outputs": [
        {
          "output_type": "stream",
          "text": [
            "['CRIM' 'ZN' 'INDUS' 'CHAS' 'NOX' 'RM' 'AGE' 'DIS' 'RAD' 'TAX' 'PTRATIO'\n",
            " 'B' 'LSTAT']\n"
          ],
          "name": "stdout"
        }
      ]
    },
    {
      "cell_type": "markdown",
      "metadata": {
        "id": "Uh8Mk38Qh1jC"
      },
      "source": [
        "```python\n",
        "boston = pd.DataFrame(ds.data, columns = ds.feature_names)\n",
        "```\n",
        "この１行は、506行・13列からなる表形式のデータを作成し、\n",
        "各列に`ds.feature_names`で指定された列見出しを与えます。\n",
        "\n",
        "Featureは、「特徴」とか「属性」という意味の英語です。\n",
        "\n",
        "#### 列の追加\n",
        "```python\n",
        "boston['PRICE'] = np.array(ds.target)\n",
        "```\n",
        "このプログラムでは、`'PRICE'`という名前のついた列を新たに作成し、\n",
        "`ds.target`をデータとして指定します。\n",
        "\n",
        "実際、下のプログラムを実行すると、\n",
        "`ds.target`は506個の要素を含むnumpy.arrayであることが分かります。\n",
        "```python\n",
        "print(ds.target)\n",
        "print(ds.target.shape)\n",
        "```\n"
      ]
    },
    {
      "cell_type": "code",
      "metadata": {
        "colab": {
          "base_uri": "https://localhost:8080/"
        },
        "id": "d7gkKgfN-lOU",
        "outputId": "886cde10-693e-4a2b-9d56-6295a2e4a42a"
      },
      "source": [
        "print(ds.target)\n",
        "print(ds.target.shape)"
      ],
      "execution_count": null,
      "outputs": [
        {
          "output_type": "stream",
          "text": [
            "[24.  21.6 34.7 33.4 36.2 28.7 22.9 27.1 16.5 18.9 15.  18.9 21.7 20.4\n",
            " 18.2 19.9 23.1 17.5 20.2 18.2 13.6 19.6 15.2 14.5 15.6 13.9 16.6 14.8\n",
            " 18.4 21.  12.7 14.5 13.2 13.1 13.5 18.9 20.  21.  24.7 30.8 34.9 26.6\n",
            " 25.3 24.7 21.2 19.3 20.  16.6 14.4 19.4 19.7 20.5 25.  23.4 18.9 35.4\n",
            " 24.7 31.6 23.3 19.6 18.7 16.  22.2 25.  33.  23.5 19.4 22.  17.4 20.9\n",
            " 24.2 21.7 22.8 23.4 24.1 21.4 20.  20.8 21.2 20.3 28.  23.9 24.8 22.9\n",
            " 23.9 26.6 22.5 22.2 23.6 28.7 22.6 22.  22.9 25.  20.6 28.4 21.4 38.7\n",
            " 43.8 33.2 27.5 26.5 18.6 19.3 20.1 19.5 19.5 20.4 19.8 19.4 21.7 22.8\n",
            " 18.8 18.7 18.5 18.3 21.2 19.2 20.4 19.3 22.  20.3 20.5 17.3 18.8 21.4\n",
            " 15.7 16.2 18.  14.3 19.2 19.6 23.  18.4 15.6 18.1 17.4 17.1 13.3 17.8\n",
            " 14.  14.4 13.4 15.6 11.8 13.8 15.6 14.6 17.8 15.4 21.5 19.6 15.3 19.4\n",
            " 17.  15.6 13.1 41.3 24.3 23.3 27.  50.  50.  50.  22.7 25.  50.  23.8\n",
            " 23.8 22.3 17.4 19.1 23.1 23.6 22.6 29.4 23.2 24.6 29.9 37.2 39.8 36.2\n",
            " 37.9 32.5 26.4 29.6 50.  32.  29.8 34.9 37.  30.5 36.4 31.1 29.1 50.\n",
            " 33.3 30.3 34.6 34.9 32.9 24.1 42.3 48.5 50.  22.6 24.4 22.5 24.4 20.\n",
            " 21.7 19.3 22.4 28.1 23.7 25.  23.3 28.7 21.5 23.  26.7 21.7 27.5 30.1\n",
            " 44.8 50.  37.6 31.6 46.7 31.5 24.3 31.7 41.7 48.3 29.  24.  25.1 31.5\n",
            " 23.7 23.3 22.  20.1 22.2 23.7 17.6 18.5 24.3 20.5 24.5 26.2 24.4 24.8\n",
            " 29.6 42.8 21.9 20.9 44.  50.  36.  30.1 33.8 43.1 48.8 31.  36.5 22.8\n",
            " 30.7 50.  43.5 20.7 21.1 25.2 24.4 35.2 32.4 32.  33.2 33.1 29.1 35.1\n",
            " 45.4 35.4 46.  50.  32.2 22.  20.1 23.2 22.3 24.8 28.5 37.3 27.9 23.9\n",
            " 21.7 28.6 27.1 20.3 22.5 29.  24.8 22.  26.4 33.1 36.1 28.4 33.4 28.2\n",
            " 22.8 20.3 16.1 22.1 19.4 21.6 23.8 16.2 17.8 19.8 23.1 21.  23.8 23.1\n",
            " 20.4 18.5 25.  24.6 23.  22.2 19.3 22.6 19.8 17.1 19.4 22.2 20.7 21.1\n",
            " 19.5 18.5 20.6 19.  18.7 32.7 16.5 23.9 31.2 17.5 17.2 23.1 24.5 26.6\n",
            " 22.9 24.1 18.6 30.1 18.2 20.6 17.8 21.7 22.7 22.6 25.  19.9 20.8 16.8\n",
            " 21.9 27.5 21.9 23.1 50.  50.  50.  50.  50.  13.8 13.8 15.  13.9 13.3\n",
            " 13.1 10.2 10.4 10.9 11.3 12.3  8.8  7.2 10.5  7.4 10.2 11.5 15.1 23.2\n",
            "  9.7 13.8 12.7 13.1 12.5  8.5  5.   6.3  5.6  7.2 12.1  8.3  8.5  5.\n",
            " 11.9 27.9 17.2 27.5 15.  17.2 17.9 16.3  7.   7.2  7.5 10.4  8.8  8.4\n",
            " 16.7 14.2 20.8 13.4 11.7  8.3 10.2 10.9 11.   9.5 14.5 14.1 16.1 14.3\n",
            " 11.7 13.4  9.6  8.7  8.4 12.8 10.5 17.1 18.4 15.4 10.8 11.8 14.9 12.6\n",
            " 14.1 13.  13.4 15.2 16.1 17.8 14.9 14.1 12.7 13.5 14.9 20.  16.4 17.7\n",
            " 19.5 20.2 21.4 19.9 19.  19.1 19.1 20.1 19.9 19.6 23.2 29.8 13.8 13.3\n",
            " 16.7 12.  14.6 21.4 23.  23.7 25.  21.8 20.6 21.2 19.1 20.6 15.2  7.\n",
            "  8.1 13.6 20.1 21.8 24.5 23.1 19.7 18.3 21.2 17.5 16.8 22.4 20.6 23.9\n",
            " 22.  11.9]\n",
            "(506,)\n"
          ],
          "name": "stdout"
        }
      ]
    },
    {
      "cell_type": "markdown",
      "metadata": {
        "id": "Rf8g8NHL-lOU"
      },
      "source": [
        "もう一度、以下のコードで、`boston`の冒頭部分を表示します。\n",
        "既にみたように、`boston`は603行のデータを含みますが、そのうち、先頭の5行のデータを表示しています。\n",
        "\n",
        "```python\n",
        "boston.head()\n",
        "```"
      ]
    },
    {
      "cell_type": "code",
      "metadata": {
        "colab": {
          "base_uri": "https://localhost:8080/",
          "height": 204
        },
        "id": "QuMPJQM7owwS",
        "outputId": "3ff48e91-e303-4956-f279-f38124fba75c"
      },
      "source": [
        "boston.head()"
      ],
      "execution_count": null,
      "outputs": [
        {
          "output_type": "execute_result",
          "data": {
            "text/html": [
              "<div>\n",
              "<style scoped>\n",
              "    .dataframe tbody tr th:only-of-type {\n",
              "        vertical-align: middle;\n",
              "    }\n",
              "\n",
              "    .dataframe tbody tr th {\n",
              "        vertical-align: top;\n",
              "    }\n",
              "\n",
              "    .dataframe thead th {\n",
              "        text-align: right;\n",
              "    }\n",
              "</style>\n",
              "<table border=\"1\" class=\"dataframe\">\n",
              "  <thead>\n",
              "    <tr style=\"text-align: right;\">\n",
              "      <th></th>\n",
              "      <th>CRIM</th>\n",
              "      <th>ZN</th>\n",
              "      <th>INDUS</th>\n",
              "      <th>CHAS</th>\n",
              "      <th>NOX</th>\n",
              "      <th>RM</th>\n",
              "      <th>AGE</th>\n",
              "      <th>DIS</th>\n",
              "      <th>RAD</th>\n",
              "      <th>TAX</th>\n",
              "      <th>PTRATIO</th>\n",
              "      <th>B</th>\n",
              "      <th>LSTAT</th>\n",
              "      <th>PRICE</th>\n",
              "    </tr>\n",
              "  </thead>\n",
              "  <tbody>\n",
              "    <tr>\n",
              "      <th>0</th>\n",
              "      <td>0.00632</td>\n",
              "      <td>18.0</td>\n",
              "      <td>2.31</td>\n",
              "      <td>0.0</td>\n",
              "      <td>0.538</td>\n",
              "      <td>6.575</td>\n",
              "      <td>65.2</td>\n",
              "      <td>4.0900</td>\n",
              "      <td>1.0</td>\n",
              "      <td>296.0</td>\n",
              "      <td>15.3</td>\n",
              "      <td>396.90</td>\n",
              "      <td>4.98</td>\n",
              "      <td>24.0</td>\n",
              "    </tr>\n",
              "    <tr>\n",
              "      <th>1</th>\n",
              "      <td>0.02731</td>\n",
              "      <td>0.0</td>\n",
              "      <td>7.07</td>\n",
              "      <td>0.0</td>\n",
              "      <td>0.469</td>\n",
              "      <td>6.421</td>\n",
              "      <td>78.9</td>\n",
              "      <td>4.9671</td>\n",
              "      <td>2.0</td>\n",
              "      <td>242.0</td>\n",
              "      <td>17.8</td>\n",
              "      <td>396.90</td>\n",
              "      <td>9.14</td>\n",
              "      <td>21.6</td>\n",
              "    </tr>\n",
              "    <tr>\n",
              "      <th>2</th>\n",
              "      <td>0.02729</td>\n",
              "      <td>0.0</td>\n",
              "      <td>7.07</td>\n",
              "      <td>0.0</td>\n",
              "      <td>0.469</td>\n",
              "      <td>7.185</td>\n",
              "      <td>61.1</td>\n",
              "      <td>4.9671</td>\n",
              "      <td>2.0</td>\n",
              "      <td>242.0</td>\n",
              "      <td>17.8</td>\n",
              "      <td>392.83</td>\n",
              "      <td>4.03</td>\n",
              "      <td>34.7</td>\n",
              "    </tr>\n",
              "    <tr>\n",
              "      <th>3</th>\n",
              "      <td>0.03237</td>\n",
              "      <td>0.0</td>\n",
              "      <td>2.18</td>\n",
              "      <td>0.0</td>\n",
              "      <td>0.458</td>\n",
              "      <td>6.998</td>\n",
              "      <td>45.8</td>\n",
              "      <td>6.0622</td>\n",
              "      <td>3.0</td>\n",
              "      <td>222.0</td>\n",
              "      <td>18.7</td>\n",
              "      <td>394.63</td>\n",
              "      <td>2.94</td>\n",
              "      <td>33.4</td>\n",
              "    </tr>\n",
              "    <tr>\n",
              "      <th>4</th>\n",
              "      <td>0.06905</td>\n",
              "      <td>0.0</td>\n",
              "      <td>2.18</td>\n",
              "      <td>0.0</td>\n",
              "      <td>0.458</td>\n",
              "      <td>7.147</td>\n",
              "      <td>54.2</td>\n",
              "      <td>6.0622</td>\n",
              "      <td>3.0</td>\n",
              "      <td>222.0</td>\n",
              "      <td>18.7</td>\n",
              "      <td>396.90</td>\n",
              "      <td>5.33</td>\n",
              "      <td>36.2</td>\n",
              "    </tr>\n",
              "  </tbody>\n",
              "</table>\n",
              "</div>"
            ],
            "text/plain": [
              "      CRIM    ZN  INDUS  CHAS    NOX  ...    TAX  PTRATIO       B  LSTAT  PRICE\n",
              "0  0.00632  18.0   2.31   0.0  0.538  ...  296.0     15.3  396.90   4.98   24.0\n",
              "1  0.02731   0.0   7.07   0.0  0.469  ...  242.0     17.8  396.90   9.14   21.6\n",
              "2  0.02729   0.0   7.07   0.0  0.469  ...  242.0     17.8  392.83   4.03   34.7\n",
              "3  0.03237   0.0   2.18   0.0  0.458  ...  222.0     18.7  394.63   2.94   33.4\n",
              "4  0.06905   0.0   2.18   0.0  0.458  ...  222.0     18.7  396.90   5.33   36.2\n",
              "\n",
              "[5 rows x 14 columns]"
            ]
          },
          "metadata": {
            "tags": []
          },
          "execution_count": 8
        }
      ]
    },
    {
      "cell_type": "markdown",
      "metadata": {
        "id": "pQZIEgTqiOir"
      },
      "source": [
        "`boston`の各行は、ボストン市の各地区（town）に対応します。\n",
        "\n",
        "`boston`の各列は、地区の特性を表す**属性**、或いは、**特徴**と対応していて、それぞれ属性の内容を名前が付与されています。\n",
        "`boston.head()`の表示結果から、CRIMからPRICEまで、14個の属性が設定されていることがわかります。\n",
        "\n",
        "列見出し（属性名）がついた`boston`の属性数＝列数は、\n",
        "$13 + 1 = 14$個\n",
        "（`ds.feature_names`で指定された13個と追加した`'PRICE'`の計14個）です。\n",
        "sklearnのドキュメントを読むと、特徴の意味は以下の表の通りです。\n",
        "\n",
        "| 属性 | 内容　|\n",
        "| :--- |:---|\n",
        "| CRIM | 人口一人あたりの犯罪発生率 (%) |\n",
        "| ZN | 2,300平方メートル以上の住居区画の占める割合 (%) |\n",
        "| INDUS | 小売業以外の商業地域の面積の割合 (%) |\n",
        "| CHAS | 河川に面していれば1、そうでなければ0 |\n",
        "| NOX | 大気中の酸化窒素の濃度 ppm|\n",
        "| RM | 一住居あたりの平均部屋数 |\n",
        "| AGE | 1940年以前（第二次世界大戦への米国参戦以前）に建築された入居済み物件の割合 (%) |\n",
        "| DIS | ボストン市内の雇用センターからの距離 |\n",
        "| RAD | 環状高速道路へのアクセスの容易さ |\n",
        "| TAX | 10,000USDあたりの不動産税 |\n",
        "| PTRATIO | 生徒と教師の比率 |\n",
        "| B | $1000(Bk-0.63)^2$で定義される黒人居住者の指標、$Bk$は黒人の人口比 |\n",
        "| LSTAT | 下層階級の人口割合 (%) |\n",
        "| PRICE | 物件の平均価格 (1000USD) |\n",
        "\n",
        "`boston.head()`は先頭部分だけを表示しているので、行の数まではわかりません。\n",
        "次のセルのコードを実行すると、`boston`の行の数・列の数をまとめて知ることができます。\n",
        "```python\n",
        "print(boston.shape)\n",
        "```"
      ]
    },
    {
      "cell_type": "code",
      "metadata": {
        "colab": {
          "base_uri": "https://localhost:8080/"
        },
        "id": "KEOI0to2xeGL",
        "outputId": "4cd69b4c-4245-48ea-cb1d-4311354f1e18"
      },
      "source": [
        "print(boston.shape)"
      ],
      "execution_count": null,
      "outputs": [
        {
          "output_type": "stream",
          "text": [
            "(506, 14)\n"
          ],
          "name": "stdout"
        }
      ]
    },
    {
      "cell_type": "markdown",
      "metadata": {
        "id": "l6lNR_cEkYug"
      },
      "source": [
        "`boston`は506個の行を含む大きな表であることがわかりました。\n",
        "全体を表示すると、領域を大きくとって画面が見にくくなるので、`head()`では冒頭の数行だけを表示しています。\n",
        "\n",
        "次のプログラムで、さらに詳しく、`boston`の概要を知ることができます。\n",
        "このような高レベルの関数が用意されているのが、Pandasを用いるメリットです。\n",
        "```python\n",
        "print(boston.info())\n",
        "```"
      ]
    },
    {
      "cell_type": "code",
      "metadata": {
        "colab": {
          "base_uri": "https://localhost:8080/"
        },
        "id": "LA7UIzE4xgOt",
        "outputId": "9e2997e1-1c3c-433c-ee8e-ab6d8f23d9c9"
      },
      "source": [
        "print(boston.info())"
      ],
      "execution_count": null,
      "outputs": [
        {
          "output_type": "stream",
          "text": [
            "<class 'pandas.core.frame.DataFrame'>\n",
            "RangeIndex: 506 entries, 0 to 505\n",
            "Data columns (total 14 columns):\n",
            " #   Column   Non-Null Count  Dtype  \n",
            "---  ------   --------------  -----  \n",
            " 0   CRIM     506 non-null    float64\n",
            " 1   ZN       506 non-null    float64\n",
            " 2   INDUS    506 non-null    float64\n",
            " 3   CHAS     506 non-null    float64\n",
            " 4   NOX      506 non-null    float64\n",
            " 5   RM       506 non-null    float64\n",
            " 6   AGE      506 non-null    float64\n",
            " 7   DIS      506 non-null    float64\n",
            " 8   RAD      506 non-null    float64\n",
            " 9   TAX      506 non-null    float64\n",
            " 10  PTRATIO  506 non-null    float64\n",
            " 11  B        506 non-null    float64\n",
            " 12  LSTAT    506 non-null    float64\n",
            " 13  PRICE    506 non-null    float64\n",
            "dtypes: float64(14)\n",
            "memory usage: 55.5 KB\n",
            "None\n"
          ],
          "name": "stdout"
        }
      ]
    },
    {
      "cell_type": "markdown",
      "metadata": {
        "id": "TlhT9reKlE67"
      },
      "source": [
        "`506 entries`とあるので、行の数は506、`14 columns`とあるので、列の数は14であることがわかります。\n",
        "\n",
        "更に、各属性について、それぞれ506個の値が指定され、各属性値のタイプは浮動小数(`float64`）、つまり、小数点以下に数字を含むような小数であることがわかります。\n",
        "\n",
        "更に、統計的な概要も簡単に知ることができます。\n",
        "```python\n",
        "boston.describe()\n",
        "```"
      ]
    },
    {
      "cell_type": "code",
      "metadata": {
        "colab": {
          "base_uri": "https://localhost:8080/",
          "height": 297
        },
        "id": "CoaY9JiuxnUv",
        "outputId": "d39fa20b-3172-49a2-d5d1-9045276acd6d"
      },
      "source": [
        "boston.describe()"
      ],
      "execution_count": null,
      "outputs": [
        {
          "output_type": "execute_result",
          "data": {
            "text/html": [
              "<div>\n",
              "<style scoped>\n",
              "    .dataframe tbody tr th:only-of-type {\n",
              "        vertical-align: middle;\n",
              "    }\n",
              "\n",
              "    .dataframe tbody tr th {\n",
              "        vertical-align: top;\n",
              "    }\n",
              "\n",
              "    .dataframe thead th {\n",
              "        text-align: right;\n",
              "    }\n",
              "</style>\n",
              "<table border=\"1\" class=\"dataframe\">\n",
              "  <thead>\n",
              "    <tr style=\"text-align: right;\">\n",
              "      <th></th>\n",
              "      <th>CRIM</th>\n",
              "      <th>ZN</th>\n",
              "      <th>INDUS</th>\n",
              "      <th>CHAS</th>\n",
              "      <th>NOX</th>\n",
              "      <th>RM</th>\n",
              "      <th>AGE</th>\n",
              "      <th>DIS</th>\n",
              "      <th>RAD</th>\n",
              "      <th>TAX</th>\n",
              "      <th>PTRATIO</th>\n",
              "      <th>B</th>\n",
              "      <th>LSTAT</th>\n",
              "      <th>PRICE</th>\n",
              "    </tr>\n",
              "  </thead>\n",
              "  <tbody>\n",
              "    <tr>\n",
              "      <th>count</th>\n",
              "      <td>506.000000</td>\n",
              "      <td>506.000000</td>\n",
              "      <td>506.000000</td>\n",
              "      <td>506.000000</td>\n",
              "      <td>506.000000</td>\n",
              "      <td>506.000000</td>\n",
              "      <td>506.000000</td>\n",
              "      <td>506.000000</td>\n",
              "      <td>506.000000</td>\n",
              "      <td>506.000000</td>\n",
              "      <td>506.000000</td>\n",
              "      <td>506.000000</td>\n",
              "      <td>506.000000</td>\n",
              "      <td>506.000000</td>\n",
              "    </tr>\n",
              "    <tr>\n",
              "      <th>mean</th>\n",
              "      <td>3.613524</td>\n",
              "      <td>11.363636</td>\n",
              "      <td>11.136779</td>\n",
              "      <td>0.069170</td>\n",
              "      <td>0.554695</td>\n",
              "      <td>6.284634</td>\n",
              "      <td>68.574901</td>\n",
              "      <td>3.795043</td>\n",
              "      <td>9.549407</td>\n",
              "      <td>408.237154</td>\n",
              "      <td>18.455534</td>\n",
              "      <td>356.674032</td>\n",
              "      <td>12.653063</td>\n",
              "      <td>22.532806</td>\n",
              "    </tr>\n",
              "    <tr>\n",
              "      <th>std</th>\n",
              "      <td>8.601545</td>\n",
              "      <td>23.322453</td>\n",
              "      <td>6.860353</td>\n",
              "      <td>0.253994</td>\n",
              "      <td>0.115878</td>\n",
              "      <td>0.702617</td>\n",
              "      <td>28.148861</td>\n",
              "      <td>2.105710</td>\n",
              "      <td>8.707259</td>\n",
              "      <td>168.537116</td>\n",
              "      <td>2.164946</td>\n",
              "      <td>91.294864</td>\n",
              "      <td>7.141062</td>\n",
              "      <td>9.197104</td>\n",
              "    </tr>\n",
              "    <tr>\n",
              "      <th>min</th>\n",
              "      <td>0.006320</td>\n",
              "      <td>0.000000</td>\n",
              "      <td>0.460000</td>\n",
              "      <td>0.000000</td>\n",
              "      <td>0.385000</td>\n",
              "      <td>3.561000</td>\n",
              "      <td>2.900000</td>\n",
              "      <td>1.129600</td>\n",
              "      <td>1.000000</td>\n",
              "      <td>187.000000</td>\n",
              "      <td>12.600000</td>\n",
              "      <td>0.320000</td>\n",
              "      <td>1.730000</td>\n",
              "      <td>5.000000</td>\n",
              "    </tr>\n",
              "    <tr>\n",
              "      <th>25%</th>\n",
              "      <td>0.082045</td>\n",
              "      <td>0.000000</td>\n",
              "      <td>5.190000</td>\n",
              "      <td>0.000000</td>\n",
              "      <td>0.449000</td>\n",
              "      <td>5.885500</td>\n",
              "      <td>45.025000</td>\n",
              "      <td>2.100175</td>\n",
              "      <td>4.000000</td>\n",
              "      <td>279.000000</td>\n",
              "      <td>17.400000</td>\n",
              "      <td>375.377500</td>\n",
              "      <td>6.950000</td>\n",
              "      <td>17.025000</td>\n",
              "    </tr>\n",
              "    <tr>\n",
              "      <th>50%</th>\n",
              "      <td>0.256510</td>\n",
              "      <td>0.000000</td>\n",
              "      <td>9.690000</td>\n",
              "      <td>0.000000</td>\n",
              "      <td>0.538000</td>\n",
              "      <td>6.208500</td>\n",
              "      <td>77.500000</td>\n",
              "      <td>3.207450</td>\n",
              "      <td>5.000000</td>\n",
              "      <td>330.000000</td>\n",
              "      <td>19.050000</td>\n",
              "      <td>391.440000</td>\n",
              "      <td>11.360000</td>\n",
              "      <td>21.200000</td>\n",
              "    </tr>\n",
              "    <tr>\n",
              "      <th>75%</th>\n",
              "      <td>3.677083</td>\n",
              "      <td>12.500000</td>\n",
              "      <td>18.100000</td>\n",
              "      <td>0.000000</td>\n",
              "      <td>0.624000</td>\n",
              "      <td>6.623500</td>\n",
              "      <td>94.075000</td>\n",
              "      <td>5.188425</td>\n",
              "      <td>24.000000</td>\n",
              "      <td>666.000000</td>\n",
              "      <td>20.200000</td>\n",
              "      <td>396.225000</td>\n",
              "      <td>16.955000</td>\n",
              "      <td>25.000000</td>\n",
              "    </tr>\n",
              "    <tr>\n",
              "      <th>max</th>\n",
              "      <td>88.976200</td>\n",
              "      <td>100.000000</td>\n",
              "      <td>27.740000</td>\n",
              "      <td>1.000000</td>\n",
              "      <td>0.871000</td>\n",
              "      <td>8.780000</td>\n",
              "      <td>100.000000</td>\n",
              "      <td>12.126500</td>\n",
              "      <td>24.000000</td>\n",
              "      <td>711.000000</td>\n",
              "      <td>22.000000</td>\n",
              "      <td>396.900000</td>\n",
              "      <td>37.970000</td>\n",
              "      <td>50.000000</td>\n",
              "    </tr>\n",
              "  </tbody>\n",
              "</table>\n",
              "</div>"
            ],
            "text/plain": [
              "             CRIM          ZN       INDUS  ...           B       LSTAT       PRICE\n",
              "count  506.000000  506.000000  506.000000  ...  506.000000  506.000000  506.000000\n",
              "mean     3.613524   11.363636   11.136779  ...  356.674032   12.653063   22.532806\n",
              "std      8.601545   23.322453    6.860353  ...   91.294864    7.141062    9.197104\n",
              "min      0.006320    0.000000    0.460000  ...    0.320000    1.730000    5.000000\n",
              "25%      0.082045    0.000000    5.190000  ...  375.377500    6.950000   17.025000\n",
              "50%      0.256510    0.000000    9.690000  ...  391.440000   11.360000   21.200000\n",
              "75%      3.677083   12.500000   18.100000  ...  396.225000   16.955000   25.000000\n",
              "max     88.976200  100.000000   27.740000  ...  396.900000   37.970000   50.000000\n",
              "\n",
              "[8 rows x 14 columns]"
            ]
          },
          "metadata": {
            "tags": []
          },
          "execution_count": 11
        }
      ]
    },
    {
      "cell_type": "markdown",
      "metadata": {
        "id": "0haZoKtiyn7v"
      },
      "source": [
        "上の表示結果の各行の意味は以下のようになります。\n",
        "\n",
        "| 記号 | 内容 |\n",
        "| ---- | :--- |\n",
        "| count | データの個数 |\n",
        "| mean | 平均 |\n",
        "| std | 標準偏差 |\n",
        "| min | 最小値 |\n",
        "| 25% | それ以下のデータが全体の25%になるデータの値 |\n",
        "| 50% | それ以下のデータが全体の50%になるデータの値 |\n",
        "| 75% | それ以下のデータが全体の75%になるデータの値 |\n",
        "| max | 最大値 |\n",
        "\n",
        "この表示結果を見るだけで、属性毎に、データの概要が分かると思います。\n",
        "\n",
        "また、属性毎のデータのヒストグラムも、下のセルのプログラムのように簡単に表示することができます。\n",
        "```python\n",
        "boston.CRIM.hist()\n",
        "```\n",
        "を実行してみて下さい。"
      ]
    },
    {
      "cell_type": "code",
      "metadata": {
        "colab": {
          "base_uri": "https://localhost:8080/",
          "height": 282
        },
        "id": "-eUQ_HWkxuym",
        "outputId": "3f4204e6-d06f-4fc5-af31-f960288930f5"
      },
      "source": [
        "boston.CRIM.hist()"
      ],
      "execution_count": null,
      "outputs": [
        {
          "output_type": "execute_result",
          "data": {
            "text/plain": [
              "<matplotlib.axes._subplots.AxesSubplot at 0x7f336675dbd0>"
            ]
          },
          "metadata": {
            "tags": []
          },
          "execution_count": 12
        },
        {
          "output_type": "display_data",
          "data": {
            "image/png": "[encoded data removed]",
            "text/plain": [
              "<Figure size 432x288 with 1 Axes>"
            ]
          },
          "metadata": {
            "tags": [],
            "needs_background": "light"
          }
        }
      ]
    },
    {
      "cell_type": "markdown",
      "metadata": {
        "id": "XGDVs_wE-lOX"
      },
      "source": [
        "もう一例、\n",
        "```python\n",
        "boston.LSTAT.hist()\n",
        "```\n",
        "を実行してみて下さい。"
      ]
    },
    {
      "cell_type": "code",
      "metadata": {
        "colab": {
          "base_uri": "https://localhost:8080/",
          "height": 282
        },
        "id": "7YM-xf77yNLE",
        "outputId": "e9ae0cbd-700e-464b-bda9-7331fed9ff7e"
      },
      "source": [
        "boston.LSTAT.hist()"
      ],
      "execution_count": null,
      "outputs": [
        {
          "output_type": "execute_result",
          "data": {
            "text/plain": [
              "<matplotlib.axes._subplots.AxesSubplot at 0x7f33666b9a50>"
            ]
          },
          "metadata": {
            "tags": []
          },
          "execution_count": 13
        },
        {
          "output_type": "display_data",
          "data": {
            "image/png": "[encoded data removed]",
            "text/plain": [
              "<Figure size 432x288 with 1 Axes>"
            ]
          },
          "metadata": {
            "tags": [],
            "needs_background": "light"
          }
        }
      ]
    },
    {
      "cell_type": "markdown",
      "metadata": {
        "id": "W-af1KHuoDLp"
      },
      "source": [
        "### 演習11-1\n",
        "\n",
        "残りの属性についても、ヒストグラムを描画せよ。"
      ]
    },
    {
      "cell_type": "code",
      "metadata": {
        "colab": {
          "base_uri": "https://localhost:8080/",
          "height": 282
        },
        "id": "gXVsR4ah-lOX",
        "outputId": "50d71cd7-1083-467e-f521-440ddb3f597d"
      },
      "source": [
        "# CRIM\tZN\tINDUS\tCHAS\tNOX\tRM\tAGE\tDIS\tRAD\tTAX\tPTRATIO\tB\tLSTAT\tPRICE\n",
        "boston.ZN.hist()"
      ],
      "execution_count": null,
      "outputs": [
        {
          "output_type": "execute_result",
          "data": {
            "text/plain": [
              "<matplotlib.axes._subplots.AxesSubplot at 0x7f3365df9a90>"
            ]
          },
          "metadata": {
            "tags": []
          },
          "execution_count": 17
        },
        {
          "output_type": "display_data",
          "data": {
            "image/png": "[encoded data removed]",
            "text/plain": [
              "<Figure size 432x288 with 1 Axes>"
            ]
          },
          "metadata": {
            "tags": [],
            "needs_background": "light"
          }
        }
      ]
    },
    {
      "cell_type": "code",
      "metadata": {
        "colab": {
          "base_uri": "https://localhost:8080/",
          "height": 282
        },
        "id": "TJ-wvgTGNk_0",
        "outputId": "42dcb9da-d655-4526-d510-ad1a0aadc48e"
      },
      "source": [
        "boston.INDUS.hist()"
      ],
      "execution_count": null,
      "outputs": [
        {
          "output_type": "execute_result",
          "data": {
            "text/plain": [
              "<matplotlib.axes._subplots.AxesSubplot at 0x7f3365d61d90>"
            ]
          },
          "metadata": {
            "tags": []
          },
          "execution_count": 18
        },
        {
          "output_type": "display_data",
          "data": {
            "image/png": "[encoded data removed]",
            "text/plain": [
              "<Figure size 432x288 with 1 Axes>"
            ]
          },
          "metadata": {
            "tags": [],
            "needs_background": "light"
          }
        }
      ]
    },
    {
      "cell_type": "code",
      "metadata": {
        "colab": {
          "base_uri": "https://localhost:8080/",
          "height": 282
        },
        "id": "9PLWdBa4Nk5R",
        "outputId": "889ae1c1-95f0-4508-e1eb-ef6c3acac8e3"
      },
      "source": [
        "boston.CHAS.hist()"
      ],
      "execution_count": null,
      "outputs": [
        {
          "output_type": "execute_result",
          "data": {
            "text/plain": [
              "<matplotlib.axes._subplots.AxesSubplot at 0x7f3365cf2d90>"
            ]
          },
          "metadata": {
            "tags": []
          },
          "execution_count": 19
        },
        {
          "output_type": "display_data",
          "data": {
            "image/png": "[encoded data removed]",
            "text/plain": [
              "<Figure size 432x288 with 1 Axes>"
            ]
          },
          "metadata": {
            "tags": [],
            "needs_background": "light"
          }
        }
      ]
    },
    {
      "cell_type": "code",
      "metadata": {
        "colab": {
          "base_uri": "https://localhost:8080/",
          "height": 282
        },
        "id": "RYxwFSGqNk1d",
        "outputId": "1e8dcf05-c981-40dc-8dec-50ec46667c0a"
      },
      "source": [
        "boston.NOX.hist()"
      ],
      "execution_count": null,
      "outputs": [
        {
          "output_type": "execute_result",
          "data": {
            "text/plain": [
              "<matplotlib.axes._subplots.AxesSubplot at 0x7f3366008fd0>"
            ]
          },
          "metadata": {
            "tags": []
          },
          "execution_count": 20
        },
        {
          "output_type": "display_data",
          "data": {
            "image/png": "[encoded data removed]",
            "text/plain": [
              "<Figure size 432x288 with 1 Axes>"
            ]
          },
          "metadata": {
            "tags": [],
            "needs_background": "light"
          }
        }
      ]
    },
    {
      "cell_type": "code",
      "metadata": {
        "colab": {
          "base_uri": "https://localhost:8080/",
          "height": 282
        },
        "id": "fDVAJt4uNkwN",
        "outputId": "8b9107ff-ba84-4e83-cfa1-5712888f0e8f"
      },
      "source": [
        "boston.RM.hist()"
      ],
      "execution_count": null,
      "outputs": [
        {
          "output_type": "execute_result",
          "data": {
            "text/plain": [
              "<matplotlib.axes._subplots.AxesSubplot at 0x7f3365dd6390>"
            ]
          },
          "metadata": {
            "tags": []
          },
          "execution_count": 21
        },
        {
          "output_type": "display_data",
          "data": {
            "image/png": "[encoded data removed]",
            "text/plain": [
              "<Figure size 432x288 with 1 Axes>"
            ]
          },
          "metadata": {
            "tags": [],
            "needs_background": "light"
          }
        }
      ]
    },
    {
      "cell_type": "code",
      "metadata": {
        "colab": {
          "base_uri": "https://localhost:8080/",
          "height": 282
        },
        "id": "JY1HxWCwNklh",
        "outputId": "a0ecda6b-0dc9-4cdc-e05d-4cdc6c274e19"
      },
      "source": [
        "boston.AGE.hist()"
      ],
      "execution_count": null,
      "outputs": [
        {
          "output_type": "execute_result",
          "data": {
            "text/plain": [
              "<matplotlib.axes._subplots.AxesSubplot at 0x7f3366137710>"
            ]
          },
          "metadata": {
            "tags": []
          },
          "execution_count": 22
        },
        {
          "output_type": "display_data",
          "data": {
            "image/png": "[encoded data removed]",
            "text/plain": [
              "<Figure size 432x288 with 1 Axes>"
            ]
          },
          "metadata": {
            "tags": [],
            "needs_background": "light"
          }
        }
      ]
    },
    {
      "cell_type": "code",
      "metadata": {
        "colab": {
          "base_uri": "https://localhost:8080/",
          "height": 282
        },
        "id": "aHyoA7GGNkZR",
        "outputId": "5015ff5f-7c4f-418f-ff19-58a9e41854e0"
      },
      "source": [
        "boston.DIS.hist()"
      ],
      "execution_count": null,
      "outputs": [
        {
          "output_type": "execute_result",
          "data": {
            "text/plain": [
              "<matplotlib.axes._subplots.AxesSubplot at 0x7f3365ae8650>"
            ]
          },
          "metadata": {
            "tags": []
          },
          "execution_count": 23
        },
        {
          "output_type": "display_data",
          "data": {
            "image/png": "[encoded data removed]",
            "text/plain": [
              "<Figure size 432x288 with 1 Axes>"
            ]
          },
          "metadata": {
            "tags": [],
            "needs_background": "light"
          }
        }
      ]
    },
    {
      "cell_type": "code",
      "metadata": {
        "colab": {
          "base_uri": "https://localhost:8080/",
          "height": 282
        },
        "id": "DZ1IxPpxNkNn",
        "outputId": "3e04120c-c056-4d6f-a39d-a94c6d516a94"
      },
      "source": [
        "boston.RAD.hist()"
      ],
      "execution_count": null,
      "outputs": [
        {
          "output_type": "execute_result",
          "data": {
            "text/plain": [
              "<matplotlib.axes._subplots.AxesSubplot at 0x7f3365aa2210>"
            ]
          },
          "metadata": {
            "tags": []
          },
          "execution_count": 24
        },
        {
          "output_type": "display_data",
          "data": {
            "image/png": "[encoded data removed]",
            "text/plain": [
              "<Figure size 432x288 with 1 Axes>"
            ]
          },
          "metadata": {
            "tags": [],
            "needs_background": "light"
          }
        }
      ]
    },
    {
      "cell_type": "code",
      "metadata": {
        "colab": {
          "base_uri": "https://localhost:8080/",
          "height": 282
        },
        "id": "Sg13f3SoNkDz",
        "outputId": "05193b08-33aa-4ee4-a35e-a85b457da05c"
      },
      "source": [
        "boston.TAX.hist()"
      ],
      "execution_count": null,
      "outputs": [
        {
          "output_type": "execute_result",
          "data": {
            "text/plain": [
              "<matplotlib.axes._subplots.AxesSubplot at 0x7f3365a2dbd0>"
            ]
          },
          "metadata": {
            "tags": []
          },
          "execution_count": 25
        },
        {
          "output_type": "display_data",
          "data": {
            "image/png": "[encoded data removed]",
            "text/plain": [
              "<Figure size 432x288 with 1 Axes>"
            ]
          },
          "metadata": {
            "tags": [],
            "needs_background": "light"
          }
        }
      ]
    },
    {
      "cell_type": "code",
      "metadata": {
        "colab": {
          "base_uri": "https://localhost:8080/",
          "height": 282
        },
        "id": "8tBZf2UbNj6z",
        "outputId": "2885c2fc-4ec8-469a-8d04-de9f9eb5e015"
      },
      "source": [
        "boston.PTRATIO.hist()"
      ],
      "execution_count": null,
      "outputs": [
        {
          "output_type": "execute_result",
          "data": {
            "text/plain": [
              "<matplotlib.axes._subplots.AxesSubplot at 0x7f33659118d0>"
            ]
          },
          "metadata": {
            "tags": []
          },
          "execution_count": 26
        },
        {
          "output_type": "display_data",
          "data": {
            "image/png": "[encoded data removed]",
            "text/plain": [
              "<Figure size 432x288 with 1 Axes>"
            ]
          },
          "metadata": {
            "tags": [],
            "needs_background": "light"
          }
        }
      ]
    },
    {
      "cell_type": "code",
      "metadata": {
        "colab": {
          "base_uri": "https://localhost:8080/",
          "height": 282
        },
        "id": "r7f886IbNjxk",
        "outputId": "5d37bef7-b042-4934-89a3-e946b41f9152"
      },
      "source": [
        "boston.B.hist()"
      ],
      "execution_count": null,
      "outputs": [
        {
          "output_type": "execute_result",
          "data": {
            "text/plain": [
              "<matplotlib.axes._subplots.AxesSubplot at 0x7f3365895d50>"
            ]
          },
          "metadata": {
            "tags": []
          },
          "execution_count": 27
        },
        {
          "output_type": "display_data",
          "data": {
            "image/png": "[encoded data removed]",
            "text/plain": [
              "<Figure size 432x288 with 1 Axes>"
            ]
          },
          "metadata": {
            "tags": [],
            "needs_background": "light"
          }
        }
      ]
    },
    {
      "cell_type": "code",
      "metadata": {
        "colab": {
          "base_uri": "https://localhost:8080/",
          "height": 284
        },
        "id": "ojFoeKG_NjQM",
        "outputId": "b8632f0b-a106-43b3-bdc8-d7b539f40237"
      },
      "source": [
        "boston.PRICE.hist()"
      ],
      "execution_count": null,
      "outputs": [
        {
          "output_type": "execute_result",
          "data": {
            "text/plain": [
              "<matplotlib.axes._subplots.AxesSubplot at 0x7f33658389d0>"
            ]
          },
          "metadata": {
            "tags": []
          },
          "execution_count": 28
        },
        {
          "output_type": "display_data",
          "data": {
            "image/png": "[encoded data removed]",
            "text/plain": [
              "<Figure size 432x288 with 1 Axes>"
            ]
          },
          "metadata": {
            "tags": [],
            "needs_background": "light"
          }
        }
      ]
    },
    {
      "cell_type": "markdown",
      "metadata": {
        "id": "yTRw_AZP-lOY"
      },
      "source": [
        "列を指定して、表形式データの一部分を取り出すこともできます。\n",
        "例えば、\n",
        "```python\n",
        "boston[['B', 'CRIM']].head()\n",
        "```\n",
        "を実行して下さい。"
      ]
    },
    {
      "cell_type": "code",
      "metadata": {
        "colab": {
          "base_uri": "https://localhost:8080/",
          "height": 204
        },
        "id": "uBPW3_YGD7PQ",
        "outputId": "4f090981-ae3d-4b71-d41c-a987b9477ed2"
      },
      "source": [
        "boston[['B', 'CRIM']].head()"
      ],
      "execution_count": null,
      "outputs": [
        {
          "output_type": "execute_result",
          "data": {
            "text/html": [
              "<div>\n",
              "<style scoped>\n",
              "    .dataframe tbody tr th:only-of-type {\n",
              "        vertical-align: middle;\n",
              "    }\n",
              "\n",
              "    .dataframe tbody tr th {\n",
              "        vertical-align: top;\n",
              "    }\n",
              "\n",
              "    .dataframe thead th {\n",
              "        text-align: right;\n",
              "    }\n",
              "</style>\n",
              "<table border=\"1\" class=\"dataframe\">\n",
              "  <thead>\n",
              "    <tr style=\"text-align: right;\">\n",
              "      <th></th>\n",
              "      <th>B</th>\n",
              "      <th>CRIM</th>\n",
              "    </tr>\n",
              "  </thead>\n",
              "  <tbody>\n",
              "    <tr>\n",
              "      <th>0</th>\n",
              "      <td>396.90</td>\n",
              "      <td>0.00632</td>\n",
              "    </tr>\n",
              "    <tr>\n",
              "      <th>1</th>\n",
              "      <td>396.90</td>\n",
              "      <td>0.02731</td>\n",
              "    </tr>\n",
              "    <tr>\n",
              "      <th>2</th>\n",
              "      <td>392.83</td>\n",
              "      <td>0.02729</td>\n",
              "    </tr>\n",
              "    <tr>\n",
              "      <th>3</th>\n",
              "      <td>394.63</td>\n",
              "      <td>0.03237</td>\n",
              "    </tr>\n",
              "    <tr>\n",
              "      <th>4</th>\n",
              "      <td>396.90</td>\n",
              "      <td>0.06905</td>\n",
              "    </tr>\n",
              "  </tbody>\n",
              "</table>\n",
              "</div>"
            ],
            "text/plain": [
              "        B     CRIM\n",
              "0  396.90  0.00632\n",
              "1  396.90  0.02731\n",
              "2  392.83  0.02729\n",
              "3  394.63  0.03237\n",
              "4  396.90  0.06905"
            ]
          },
          "metadata": {
            "tags": []
          },
          "execution_count": 29
        }
      ]
    },
    {
      "cell_type": "markdown",
      "metadata": {
        "id": "9ONKELCpo0i-"
      },
      "source": [
        "上記のプログラムのように、\n",
        "```python \n",
        "boston[['B', 'CRIM']]\n",
        "```\n",
        "により、`B`（黒人の人口比を表す指標）と`CRIM`（犯罪率）の属性だけを含む表形式のデータを取り出すことができます。\n",
        "\n",
        "黒人の人口比と犯罪率の関係には、皆さんも興味（先入観）があると思いますので、もう少し調べてみましょう。\n",
        "\n",
        "`boston['B']`により`B`だけを含む表形式のデータ、`boston['CRIM']`により`CRIM`だけを含む表形式のデータを取り出すことができますので、以下のセルのプログラムにより、二つの属性の関係をグラフにプロットすることができます。\n",
        "- `plt.scatter(X, Y)`は、$x$座標の配列`X`、$y$座標の配列`Y`が引数で与えられて、\n",
        "`X`と`Y`から$x$座標と$y$座標を順に取り出し、対応する点をプロットしていきます。\n",
        "- `plt.xlabel('B')`および`plt.ylabel('CRIM')`で、$x$軸と$y$軸にラベルを付記します。\n",
        "\n",
        "```python\n",
        "import matplotlib.pyplot as plt\n",
        "X = boston['B']\n",
        "Y = boston['CRIM']\n",
        "plt.scatter(X, Y)\n",
        "plt.xlabel('B')\n",
        "plt.ylabel('CRIM')\n",
        "plt.show()\n",
        "```"
      ]
    },
    {
      "cell_type": "code",
      "metadata": {
        "colab": {
          "base_uri": "https://localhost:8080/",
          "height": 279
        },
        "id": "VQ1OsCdQqV1l",
        "outputId": "a806a277-45d1-47e2-c4a9-a7bf8bcf7e4a"
      },
      "source": [
        "import matplotlib.pyplot as plt\n",
        "\n",
        "X = boston['B']\n",
        "Y = boston['CRIM']\n",
        "plt.scatter(X, Y)\n",
        "plt.xlabel('B')\n",
        "plt.ylabel('CRIM')\n",
        "plt.show()"
      ],
      "execution_count": null,
      "outputs": [
        {
          "output_type": "display_data",
          "data": {
            "image/png": "[encoded data removed]",
            "text/plain": [
              "<Figure size 432x288 with 1 Axes>"
            ]
          },
          "metadata": {
            "tags": [],
            "needs_background": "light"
          }
        }
      ]
    },
    {
      "cell_type": "markdown",
      "metadata": {
        "id": "ZEKrYqzO-lOZ"
      },
      "source": [
        "DataFrameで表現されているデータのグラフ描画であれば、Plotly Expressというライブラリを使うと便利です。\n",
        "第10回の講義では、グラフ描画のためのライブラリであるPlotlyについてみましたが、\n",
        "Plotly Expressは、DataFrameのデータのグラフ描画のために、更に、機能を整理したものです。\n",
        "\n",
        "Plotly Expressを利用するためには、まず、ライブラリを`import`する必要があります。\n",
        "```python\n",
        "import plotly.express as px\n",
        "```\n",
        "散布図の描画は、次の1行で実行できます。\n",
        "```python\n",
        "px.scatter(boston, x='B', y='CRIM')\n",
        "```"
      ]
    },
    {
      "cell_type": "code",
      "metadata": {
        "colab": {
          "base_uri": "https://localhost:8080/",
          "height": 542
        },
        "id": "aaEX5kPs-lOZ",
        "outputId": "2cb6bd97-74e0-498a-f808-3fe219ac4b90"
      },
      "source": [
        "import plotly.express as px\n",
        "px.scatter(boston, x='B', y='CRIM')"
      ],
      "execution_count": null,
      "outputs": [
        {
          "output_type": "display_data",
          "data": {
            "text/html": [
              "<html>\n",
              "<head><meta charset=\"utf-8\" /></head>\n",
              "<body>\n",
              "    <div>\n",
              "            <script src=\"https://cdnjs.cloudflare.com/ajax/libs/mathjax/2.7.5/MathJax.js?config=TeX-AMS-MML_SVG\"></script><script type=\"text/javascript\">if (window.MathJax) {MathJax.Hub.Config({SVG: {font: \"STIX-Web\"}});}</script>\n",
              "                <script type=\"text/javascript\">window.PlotlyConfig = {MathJaxConfig: 'local'};</script>\n",
              "        <script src=\"https://cdn.plot.ly/plotly-latest.min.js\"></script>    \n",
              "            <div id=\"1e330726-d9a1-44e9-8e96-46cd778042d2\" class=\"plotly-graph-div\" style=\"height:525px; width:100%;\"></div>\n",
              "            <script type=\"text/javascript\">\n",
              "                \n",
              "                    window.PLOTLYENV=window.PLOTLYENV || {};\n",
              "                    \n",
              "                if (document.getElementById(\"1e330726-d9a1-44e9-8e96-46cd778042d2\")) {\n",
              "                    Plotly.newPlot(\n",
              "                        '1e330726-d9a1-44e9-8e96-46cd778042d2',\n",
              "                        [{\"hoverlabel\": {\"namelength\": 0}, \"hovertemplate\": \"B=%{x}<br>CRIM=%{y}\", \"legendgroup\": \"\", \"marker\": {\"color\": \"#636efa\", \"symbol\": \"circle\"}, \"mode\": \"markers\", \"name\": \"\", \"showlegend\": false, \"type\": \"scatter\", \"x\": [396.9, 396.9, 392.83, 394.63, 396.9, 394.12, 395.6, 396.9, 386.63, 386.71, 392.52, 396.9, 390.5, 396.9, 380.02, 395.62, 386.85, 386.75, 288.99, 390.95, 376.57, 392.53, 396.9, 394.54, 394.33, 303.42, 376.88, 306.38, 387.94, 380.23, 360.17, 376.73, 232.6, 358.77, 248.31, 396.9, 377.56, 396.9, 393.43, 395.63, 395.62, 385.41, 383.37, 394.46, 389.39, 396.9, 396.9, 392.74, 396.9, 396.9, 395.56, 393.97, 396.9, 396.9, 396.9, 395.93, 396.9, 392.9, 390.68, 396.9, 395.11, 378.08, 396.9, 395.58, 393.24, 396.9, 396.9, 396.21, 396.9, 396.9, 383.73, 376.94, 390.91, 377.17, 394.92, 383.23, 373.66, 386.96, 386.4, 396.06, 396.9, 395.63, 396.9, 390.64, 396.9, 392.3, 395.99, 395.15, 396.9, 396.06, 392.18, 393.55, 395.01, 396.33, 396.9, 357.98, 391.83, 396.9, 393.53, 396.9, 394.76, 395.58, 70.8, 394.47, 392.69, 394.05, 395.67, 387.69, 395.24, 391.23, 393.49, 395.59, 394.95, 396.9, 388.74, 344.91, 393.3, 394.51, 338.63, 391.5, 389.15, 377.67, 378.09, 370.31, 379.38, 385.02, 359.29, 392.11, 396.9, 396.9, 395.04, 396.9, 385.76, 388.69, 262.76, 394.67, 378.25, 394.08, 392.04, 396.9, 388.08, 396.9, 396.9, 396.9, 396.9, 172.91, 169.27, 391.71, 356.99, 351.85, 372.8, 341.6, 343.28, 261.95, 321.02, 88.01, 88.63, 363.43, 353.89, 364.31, 338.92, 374.43, 389.61, 388.45, 395.11, 240.16, 369.3, 227.61, 297.09, 330.04, 292.29, 348.13, 396.9, 395.5, 393.23, 390.96, 393.23, 395.6, 391.27, 396.9, 395.56, 396.9, 394.12, 396.9, 391.0, 387.11, 392.63, 393.87, 382.84, 396.9, 377.68, 389.71, 390.49, 393.37, 376.7, 394.23, 396.9, 354.31, 392.2, 396.9, 384.3, 393.77, 395.38, 392.78, 390.55, 396.9, 394.87, 389.43, 381.32, 396.9, 393.25, 395.24, 390.94, 385.81, 348.93, 393.63, 392.8, 392.78, 396.9, 393.74, 391.7, 395.24, 390.39, 396.9, 385.05, 382.0, 387.38, 372.08, 377.51, 380.34, 378.35, 376.14, 385.91, 378.95, 360.2, 376.75, 388.45, 390.07, 379.41, 383.78, 391.25, 394.62, 372.75, 374.71, 372.49, 389.13, 390.18, 376.14, 374.71, 393.74, 396.28, 377.07, 386.09, 396.9, 392.89, 395.18, 386.34, 389.7, 383.29, 391.93, 392.8, 388.37, 386.86, 393.42, 387.89, 392.4, 384.07, 384.54, 390.3, 391.34, 388.65, 396.9, 394.96, 390.77, 396.9, 396.9, 389.25, 393.45, 396.9, 396.9, 387.31, 392.23, 377.07, 395.52, 394.72, 394.72, 341.6, 396.9, 396.9, 371.72, 396.9, 396.9, 396.9, 396.9, 396.9, 396.9, 392.85, 396.9, 368.24, 371.58, 390.86, 395.75, 383.61, 390.43, 393.68, 393.36, 396.9, 396.9, 396.9, 396.24, 350.45, 396.9, 396.3, 393.39, 395.69, 396.42, 390.7, 396.9, 395.21, 396.23, 396.9, 396.9, 396.9, 391.13, 396.9, 393.68, 396.9, 396.9, 382.44, 375.21, 368.57, 394.02, 362.25, 389.71, 389.4, 396.9, 396.9, 394.81, 396.14, 396.9, 396.9, 394.74, 389.96, 396.9, 387.97, 385.64, 364.61, 392.43, 390.94, 389.85, 396.9, 370.78, 392.33, 384.46, 382.8, 376.04, 377.73, 391.34, 395.43, 390.74, 374.56, 350.65, 380.79, 353.04, 354.55, 354.7, 316.03, 131.42, 375.52, 375.33, 392.05, 366.15, 347.88, 396.9, 396.9, 396.9, 363.02, 396.9, 396.9, 393.74, 396.9, 396.9, 396.9, 396.9, 285.83, 396.9, 396.9, 396.9, 372.92, 396.9, 394.43, 378.38, 396.9, 396.9, 396.9, 391.98, 396.9, 393.1, 396.9, 338.16, 396.9, 396.9, 376.11, 396.9, 329.46, 384.97, 370.22, 332.09, 314.64, 179.36, 2.6, 35.05, 28.79, 210.97, 88.27, 27.25, 21.57, 127.36, 16.45, 48.45, 318.75, 319.98, 291.55, 2.52, 3.65, 7.68, 24.65, 18.82, 96.73, 60.72, 83.45, 81.33, 97.95, 100.19, 100.63, 109.85, 27.49, 9.32, 68.95, 396.9, 391.45, 385.96, 395.69, 386.73, 240.52, 43.06, 318.01, 388.52, 396.9, 304.21, 0.32, 355.29, 385.09, 375.87, 6.68, 50.92, 10.48, 3.5, 272.21, 396.9, 255.23, 391.43, 396.9, 393.82, 396.9, 334.4, 22.01, 331.29, 368.74, 396.9, 396.9, 395.33, 393.37, 374.68, 352.58, 302.76, 396.21, 349.48, 379.7, 383.32, 396.9, 393.07, 395.28, 392.92, 370.73, 388.62, 392.68, 388.22, 395.09, 344.05, 318.43, 390.11, 396.9, 396.9, 396.9, 393.29, 396.9, 396.9, 396.9, 395.77, 396.9, 391.99, 396.9, 396.9, 393.45, 396.9], \"xaxis\": \"x\", \"y\": [0.00632, 0.02731, 0.02729, 0.03237, 0.06905, 0.02985, 0.08829, 0.14455, 0.21124, 0.17004, 0.22489, 0.11747, 0.09378, 0.62976, 0.63796, 0.62739, 1.05393, 0.7842, 0.80271, 0.7258, 1.25179, 0.85204, 1.23247, 0.98843, 0.75026, 0.84054, 0.67191, 0.95577, 0.77299, 1.00245, 1.13081, 1.35472, 1.38799, 1.15172, 1.61282, 0.06417, 0.09744, 0.08014, 0.17505, 0.02763, 0.03359, 0.12744, 0.1415, 0.15936, 0.12269, 0.17142, 0.18836, 0.22927, 0.25387, 0.21977, 0.08873, 0.04337, 0.0536, 0.04981, 0.0136, 0.01311, 0.02055, 0.01432, 0.15445, 0.10328, 0.14932, 0.17171, 0.11027, 0.1265, 0.01951, 0.03584, 0.04379, 0.05789, 0.13554, 0.12816, 0.08826, 0.15876, 0.09164, 0.19539, 0.07896, 0.09512, 0.10153, 0.08707, 0.05646, 0.08387, 0.04113, 0.04462, 0.03659, 0.03551, 0.05059, 0.05735, 0.05188, 0.07151, 0.0566, 0.05302, 0.04684, 0.03932, 0.04203, 0.02875, 0.04294, 0.12204, 0.11504, 0.12083, 0.08187, 0.0686, 0.14866, 0.11432, 0.22876, 0.21161, 0.1396, 0.13262, 0.1712, 0.13117, 0.12802, 0.26363, 0.10793, 0.10084, 0.12329, 0.22212, 0.14231, 0.17134, 0.13158, 0.15098, 0.13058, 0.14476, 0.06899, 0.07165, 0.09299, 0.15038, 0.09849, 0.16902, 0.38735, 0.25915, 0.32543, 0.88125, 0.34006, 1.19294, 0.59005, 0.32982, 0.97617, 0.55778, 0.32264, 0.35233, 0.2498, 0.54452, 0.2909, 1.62864, 3.32105, 4.0974, 2.77974, 2.37934, 2.15505, 2.36862, 2.33099, 2.73397, 1.6566, 1.49632, 1.12658, 2.14918, 1.41385, 3.53501, 2.44668, 1.22358, 1.34284, 1.42502, 1.27346, 1.46336, 1.83377, 1.51902, 2.24236, 2.924, 2.01019, 1.80028, 2.3004, 2.44953, 1.20742, 2.3139, 0.13914, 0.09178, 0.08447, 0.06664, 0.07022, 0.05425, 0.06642, 0.0578, 0.06588, 0.06888, 0.09103, 0.10008, 0.08308, 0.06047, 0.05602, 0.07875, 0.12579, 0.0837, 0.09068, 0.06911, 0.08664, 0.02187, 0.01439, 0.01381, 0.04011, 0.04666, 0.03768, 0.0315, 0.01778, 0.03445, 0.02177, 0.0351, 0.02009, 0.13642, 0.22969, 0.25199, 0.13587, 0.43571, 0.17446, 0.37578, 0.21719, 0.14052, 0.28955, 0.19802, 0.0456, 0.07013, 0.11069, 0.11425, 0.35809, 0.40771, 0.62356, 0.6147, 0.31533, 0.52693, 0.38214, 0.41238, 0.29819, 0.44178, 0.537, 0.46296, 0.57529, 0.33147, 0.44791, 0.33045, 0.52058, 0.51183, 0.08244, 0.09252, 0.11329, 0.10612, 0.1029, 0.12757, 0.20608, 0.19133, 0.33983, 0.19657, 0.16439, 0.19073, 0.1403, 0.21409, 0.08221, 0.36894, 0.04819, 0.03548, 0.01538, 0.61154, 0.66351, 0.65665, 0.54011, 0.53412, 0.52014, 0.82526, 0.55007, 0.76162, 0.7857, 0.57834, 0.5405, 0.09065, 0.29916, 0.16211, 0.1146, 0.22188, 0.05644, 0.09604, 0.10469, 0.06127, 0.07978, 0.21038, 0.03578, 0.03705, 0.06129, 0.01501, 0.00906, 0.01096, 0.01965, 0.03871, 0.0459, 0.04297, 0.03502, 0.07886, 0.03615, 0.08265, 0.08199, 0.12932, 0.05372, 0.14103, 0.06466, 0.05561, 0.04417, 0.03537, 0.09266, 0.1, 0.05515, 0.05479, 0.07503, 0.04932, 0.49298, 0.3494, 2.63548, 0.79041, 0.26169, 0.26938, 0.3692, 0.25356, 0.31827, 0.24522, 0.40202, 0.47547, 0.1676, 0.18159, 0.35114, 0.28392, 0.34109, 0.19186, 0.30347, 0.24103, 0.06617, 0.06724, 0.04544, 0.05023, 0.03466, 0.05083, 0.03738, 0.03961, 0.03427, 0.03041, 0.03306, 0.05497, 0.06151, 0.01301, 0.02498, 0.02543, 0.03049, 0.03113, 0.06162, 0.0187, 0.01501, 0.02899, 0.06211, 0.0795, 0.07244, 0.01709, 0.04301, 0.10659, 8.98296, 3.8497, 5.20177, 4.26131, 4.54192, 3.83684, 3.67822, 4.22239, 3.47428, 4.55587, 3.69695, 13.5222, 4.89822, 5.66998, 6.53876, 9.2323, 8.26725, 11.1081, 18.4982, 19.6091, 15.288, 9.82349, 23.6482, 17.8667, 88.9762, 15.8744, 9.18702, 7.99248, 20.0849, 16.8118, 24.3938, 22.5971, 14.3337, 8.15174, 6.96215, 5.29305, 11.5779, 8.64476, 13.3598, 8.71675, 5.87205, 7.67202, 38.3518, 9.91655, 25.0461, 14.2362, 9.59571, 24.8017, 41.5292, 67.9208, 20.7162, 11.9511, 7.40389, 14.4383, 51.1358, 14.0507, 18.811, 28.6558, 45.7461, 18.0846, 10.8342, 25.9406, 73.5341, 11.8123, 11.0874, 7.02259, 12.0482, 7.05042, 8.79212, 15.8603, 12.2472, 37.6619, 7.36711, 9.33889, 8.49213, 10.0623, 6.44405, 5.58107, 13.9134, 11.1604, 14.4208, 15.1772, 13.6781, 9.39063, 22.0511, 9.72418, 5.66637, 9.96654, 12.8023, 10.6718, 6.28807, 9.92485, 9.32909, 7.52601, 6.71772, 5.44114, 5.09017, 8.24809, 9.51363, 4.75237, 4.66883, 8.20058, 7.75223, 6.80117, 4.81213, 3.69311, 6.65492, 5.82115, 7.83932, 3.1636, 3.77498, 4.42228, 15.5757, 13.0751, 4.34879, 4.03841, 3.56868, 4.64689, 8.05579, 6.39312, 4.87141, 15.0234, 10.233, 14.3337, 5.82401, 5.70818, 5.73116, 2.81838, 2.37857, 3.67367, 5.69175, 4.83567, 0.15086, 0.18337, 0.20746, 0.10574, 0.11132, 0.17331, 0.27957, 0.17899, 0.2896, 0.26838, 0.23912, 0.17783, 0.22438, 0.06263, 0.04527, 0.06076, 0.10959, 0.04741], \"yaxis\": \"y\"}],\n",
              "                        {\"legend\": {\"tracegroupgap\": 0}, \"margin\": {\"t\": 60}, \"template\": {\"data\": {\"bar\": [{\"error_x\": {\"color\": \"#2a3f5f\"}, \"error_y\": {\"color\": \"#2a3f5f\"}, \"marker\": {\"line\": {\"color\": \"#E5ECF6\", \"width\": 0.5}}, \"type\": \"bar\"}], \"barpolar\": [{\"marker\": {\"line\": {\"color\": \"#E5ECF6\", \"width\": 0.5}}, \"type\": \"barpolar\"}], \"carpet\": [{\"aaxis\": {\"endlinecolor\": \"#2a3f5f\", \"gridcolor\": \"white\", \"linecolor\": \"white\", \"minorgridcolor\": \"white\", \"startlinecolor\": \"#2a3f5f\"}, \"baxis\": {\"endlinecolor\": \"#2a3f5f\", \"gridcolor\": \"white\", \"linecolor\": \"white\", \"minorgridcolor\": \"white\", \"startlinecolor\": \"#2a3f5f\"}, \"type\": \"carpet\"}], \"choropleth\": [{\"colorbar\": {\"outlinewidth\": 0, \"ticks\": \"\"}, \"type\": \"choropleth\"}], \"contour\": [{\"colorbar\": {\"outlinewidth\": 0, \"ticks\": \"\"}, \"colorscale\": [[0.0, \"#0d0887\"], [0.1111111111111111, \"#46039f\"], [0.2222222222222222, \"#7201a8\"], [0.3333333333333333, \"#9c179e\"], [0.4444444444444444, \"#bd3786\"], [0.5555555555555556, \"#d8576b\"], [0.6666666666666666, \"#ed7953\"], [0.7777777777777778, \"#fb9f3a\"], [0.8888888888888888, \"#fdca26\"], [1.0, \"#f0f921\"]], \"type\": \"contour\"}], \"contourcarpet\": [{\"colorbar\": {\"outlinewidth\": 0, \"ticks\": \"\"}, \"type\": \"contourcarpet\"}], \"heatmap\": [{\"colorbar\": {\"outlinewidth\": 0, \"ticks\": \"\"}, \"colorscale\": [[0.0, \"#0d0887\"], [0.1111111111111111, \"#46039f\"], [0.2222222222222222, \"#7201a8\"], [0.3333333333333333, \"#9c179e\"], [0.4444444444444444, \"#bd3786\"], [0.5555555555555556, \"#d8576b\"], [0.6666666666666666, \"#ed7953\"], [0.7777777777777778, \"#fb9f3a\"], [0.8888888888888888, \"#fdca26\"], [1.0, \"#f0f921\"]], \"type\": \"heatmap\"}], \"heatmapgl\": [{\"colorbar\": {\"outlinewidth\": 0, \"ticks\": \"\"}, \"colorscale\": [[0.0, \"#0d0887\"], [0.1111111111111111, \"#46039f\"], [0.2222222222222222, \"#7201a8\"], [0.3333333333333333, \"#9c179e\"], [0.4444444444444444, \"#bd3786\"], [0.5555555555555556, \"#d8576b\"], [0.6666666666666666, \"#ed7953\"], [0.7777777777777778, \"#fb9f3a\"], [0.8888888888888888, \"#fdca26\"], [1.0, \"#f0f921\"]], \"type\": \"heatmapgl\"}], \"histogram\": [{\"marker\": {\"colorbar\": {\"outlinewidth\": 0, \"ticks\": \"\"}}, \"type\": \"histogram\"}], \"histogram2d\": [{\"colorbar\": {\"outlinewidth\": 0, \"ticks\": \"\"}, \"colorscale\": [[0.0, \"#0d0887\"], [0.1111111111111111, \"#46039f\"], [0.2222222222222222, \"#7201a8\"], [0.3333333333333333, \"#9c179e\"], [0.4444444444444444, \"#bd3786\"], [0.5555555555555556, \"#d8576b\"], [0.6666666666666666, \"#ed7953\"], [0.7777777777777778, \"#fb9f3a\"], [0.8888888888888888, \"#fdca26\"], [1.0, \"#f0f921\"]], \"type\": \"histogram2d\"}], \"histogram2dcontour\": [{\"colorbar\": {\"outlinewidth\": 0, \"ticks\": \"\"}, \"colorscale\": [[0.0, \"#0d0887\"], [0.1111111111111111, \"#46039f\"], [0.2222222222222222, \"#7201a8\"], [0.3333333333333333, \"#9c179e\"], [0.4444444444444444, \"#bd3786\"], [0.5555555555555556, \"#d8576b\"], [0.6666666666666666, \"#ed7953\"], [0.7777777777777778, \"#fb9f3a\"], [0.8888888888888888, \"#fdca26\"], [1.0, \"#f0f921\"]], \"type\": \"histogram2dcontour\"}], \"mesh3d\": [{\"colorbar\": {\"outlinewidth\": 0, \"ticks\": \"\"}, \"type\": \"mesh3d\"}], \"parcoords\": [{\"line\": {\"colorbar\": {\"outlinewidth\": 0, \"ticks\": \"\"}}, \"type\": \"parcoords\"}], \"pie\": [{\"automargin\": true, \"type\": \"pie\"}], \"scatter\": [{\"marker\": {\"colorbar\": {\"outlinewidth\": 0, \"ticks\": \"\"}}, \"type\": \"scatter\"}], \"scatter3d\": [{\"line\": {\"colorbar\": {\"outlinewidth\": 0, \"ticks\": \"\"}}, \"marker\": {\"colorbar\": {\"outlinewidth\": 0, \"ticks\": \"\"}}, \"type\": \"scatter3d\"}], \"scattercarpet\": [{\"marker\": {\"colorbar\": {\"outlinewidth\": 0, \"ticks\": \"\"}}, \"type\": \"scattercarpet\"}], \"scattergeo\": [{\"marker\": {\"colorbar\": {\"outlinewidth\": 0, \"ticks\": \"\"}}, \"type\": \"scattergeo\"}], \"scattergl\": [{\"marker\": {\"colorbar\": {\"outlinewidth\": 0, \"ticks\": \"\"}}, \"type\": \"scattergl\"}], \"scattermapbox\": [{\"marker\": {\"colorbar\": {\"outlinewidth\": 0, \"ticks\": \"\"}}, \"type\": \"scattermapbox\"}], \"scatterpolar\": [{\"marker\": {\"colorbar\": {\"outlinewidth\": 0, \"ticks\": \"\"}}, \"type\": \"scatterpolar\"}], \"scatterpolargl\": [{\"marker\": {\"colorbar\": {\"outlinewidth\": 0, \"ticks\": \"\"}}, \"type\": \"scatterpolargl\"}], \"scatterternary\": [{\"marker\": {\"colorbar\": {\"outlinewidth\": 0, \"ticks\": \"\"}}, \"type\": \"scatterternary\"}], \"surface\": [{\"colorbar\": {\"outlinewidth\": 0, \"ticks\": \"\"}, \"colorscale\": [[0.0, \"#0d0887\"], [0.1111111111111111, \"#46039f\"], [0.2222222222222222, \"#7201a8\"], [0.3333333333333333, \"#9c179e\"], [0.4444444444444444, \"#bd3786\"], [0.5555555555555556, \"#d8576b\"], [0.6666666666666666, \"#ed7953\"], [0.7777777777777778, \"#fb9f3a\"], [0.8888888888888888, \"#fdca26\"], [1.0, \"#f0f921\"]], \"type\": \"surface\"}], \"table\": [{\"cells\": {\"fill\": {\"color\": \"#EBF0F8\"}, \"line\": {\"color\": \"white\"}}, \"header\": {\"fill\": {\"color\": \"#C8D4E3\"}, \"line\": {\"color\": \"white\"}}, \"type\": \"table\"}]}, \"layout\": {\"annotationdefaults\": {\"arrowcolor\": \"#2a3f5f\", \"arrowhead\": 0, \"arrowwidth\": 1}, \"coloraxis\": {\"colorbar\": {\"outlinewidth\": 0, \"ticks\": \"\"}}, \"colorscale\": {\"diverging\": [[0, \"#8e0152\"], [0.1, \"#c51b7d\"], [0.2, \"#de77ae\"], [0.3, \"#f1b6da\"], [0.4, \"#fde0ef\"], [0.5, \"#f7f7f7\"], [0.6, \"#e6f5d0\"], [0.7, \"#b8e186\"], [0.8, \"#7fbc41\"], [0.9, \"#4d9221\"], [1, \"#276419\"]], \"sequential\": [[0.0, \"#0d0887\"], [0.1111111111111111, \"#46039f\"], [0.2222222222222222, \"#7201a8\"], [0.3333333333333333, \"#9c179e\"], [0.4444444444444444, \"#bd3786\"], [0.5555555555555556, \"#d8576b\"], [0.6666666666666666, \"#ed7953\"], [0.7777777777777778, \"#fb9f3a\"], [0.8888888888888888, \"#fdca26\"], [1.0, \"#f0f921\"]], \"sequentialminus\": [[0.0, \"#0d0887\"], [0.1111111111111111, \"#46039f\"], [0.2222222222222222, \"#7201a8\"], [0.3333333333333333, \"#9c179e\"], [0.4444444444444444, \"#bd3786\"], [0.5555555555555556, \"#d8576b\"], [0.6666666666666666, \"#ed7953\"], [0.7777777777777778, \"#fb9f3a\"], [0.8888888888888888, \"#fdca26\"], [1.0, \"#f0f921\"]]}, \"colorway\": [\"#636efa\", \"#EF553B\", \"#00cc96\", \"#ab63fa\", \"#FFA15A\", \"#19d3f3\", \"#FF6692\", \"#B6E880\", \"#FF97FF\", \"#FECB52\"], \"font\": {\"color\": \"#2a3f5f\"}, \"geo\": {\"bgcolor\": \"white\", \"lakecolor\": \"white\", \"landcolor\": \"#E5ECF6\", \"showlakes\": true, \"showland\": true, \"subunitcolor\": \"white\"}, \"hoverlabel\": {\"align\": \"left\"}, \"hovermode\": \"closest\", \"mapbox\": {\"style\": \"light\"}, \"paper_bgcolor\": \"white\", \"plot_bgcolor\": \"#E5ECF6\", \"polar\": {\"angularaxis\": {\"gridcolor\": \"white\", \"linecolor\": \"white\", \"ticks\": \"\"}, \"bgcolor\": \"#E5ECF6\", \"radialaxis\": {\"gridcolor\": \"white\", \"linecolor\": \"white\", \"ticks\": \"\"}}, \"scene\": {\"xaxis\": {\"backgroundcolor\": \"#E5ECF6\", \"gridcolor\": \"white\", \"gridwidth\": 2, \"linecolor\": \"white\", \"showbackground\": true, \"ticks\": \"\", \"zerolinecolor\": \"white\"}, \"yaxis\": {\"backgroundcolor\": \"#E5ECF6\", \"gridcolor\": \"white\", \"gridwidth\": 2, \"linecolor\": \"white\", \"showbackground\": true, \"ticks\": \"\", \"zerolinecolor\": \"white\"}, \"zaxis\": {\"backgroundcolor\": \"#E5ECF6\", \"gridcolor\": \"white\", \"gridwidth\": 2, \"linecolor\": \"white\", \"showbackground\": true, \"ticks\": \"\", \"zerolinecolor\": \"white\"}}, \"shapedefaults\": {\"line\": {\"color\": \"#2a3f5f\"}}, \"ternary\": {\"aaxis\": {\"gridcolor\": \"white\", \"linecolor\": \"white\", \"ticks\": \"\"}, \"baxis\": {\"gridcolor\": \"white\", \"linecolor\": \"white\", \"ticks\": \"\"}, \"bgcolor\": \"#E5ECF6\", \"caxis\": {\"gridcolor\": \"white\", \"linecolor\": \"white\", \"ticks\": \"\"}}, \"title\": {\"x\": 0.05}, \"xaxis\": {\"automargin\": true, \"gridcolor\": \"white\", \"linecolor\": \"white\", \"ticks\": \"\", \"title\": {\"standoff\": 15}, \"zerolinecolor\": \"white\", \"zerolinewidth\": 2}, \"yaxis\": {\"automargin\": true, \"gridcolor\": \"white\", \"linecolor\": \"white\", \"ticks\": \"\", \"title\": {\"standoff\": 15}, \"zerolinecolor\": \"white\", \"zerolinewidth\": 2}}}, \"xaxis\": {\"anchor\": \"y\", \"domain\": [0.0, 1.0], \"title\": {\"text\": \"B\"}}, \"yaxis\": {\"anchor\": \"x\", \"domain\": [0.0, 1.0], \"title\": {\"text\": \"CRIM\"}}},\n",
              "                        {\"responsive\": true}\n",
              "                    ).then(function(){\n",
              "                            \n",
              "var gd = document.getElementById('1e330726-d9a1-44e9-8e96-46cd778042d2');\n",
              "var x = new MutationObserver(function (mutations, observer) {{\n",
              "        var display = window.getComputedStyle(gd).display;\n",
              "        if (!display || display === 'none') {{\n",
              "            console.log([gd, 'removed!']);\n",
              "            Plotly.purge(gd);\n",
              "            observer.disconnect();\n",
              "        }}\n",
              "}});\n",
              "\n",
              "// Listen for the removal of the full notebook cells\n",
              "var notebookContainer = gd.closest('#notebook-container');\n",
              "if (notebookContainer) {{\n",
              "    x.observe(notebookContainer, {childList: true});\n",
              "}}\n",
              "\n",
              "// Listen for the clearing of the current output cell\n",
              "var outputEl = gd.closest('.output');\n",
              "if (outputEl) {{\n",
              "    x.observe(outputEl, {childList: true});\n",
              "}}\n",
              "\n",
              "                        })\n",
              "                };\n",
              "                \n",
              "            </script>\n",
              "        </div>\n",
              "</body>\n",
              "</html>"
            ]
          },
          "metadata": {
            "tags": []
          }
        }
      ]
    },
    {
      "cell_type": "markdown",
      "metadata": {
        "id": "EJ7Ei8reqyFZ"
      },
      "source": [
        "予想（先入観）に反して、一見すると、黒人の人口比が大きい方が犯罪率が相対的に低くなる傾向が見えますね。\n",
        "\n",
        "二つの属性の相関関係を調べるために、統計では、**相関係数**という便利な道具が用意されています。\n",
        "\n",
        "ここでは相関係数の定義は述べませんが、\n",
        "\n",
        "- $+1$と$-1$の間の値をとる\n",
        "- $+1$に近いほど強い正の相関（一方が増加すれば、他方も増加する）が存在し、\n",
        "$-1$に近いほど強い負の相関（一方が増加すれば、他方は減少する）が存在する\n",
        "\n",
        "という性質を持ちます。\n",
        "\n",
        "Pandasでは、この相関係数も一つの関数を呼ぶことで求めることができます。\n",
        "次のプログラムを実行してみて下さい。\n",
        "\n",
        "```python\n",
        "boston[['B', 'CRIM']].corr()\n",
        "```"
      ]
    },
    {
      "cell_type": "code",
      "metadata": {
        "colab": {
          "base_uri": "https://localhost:8080/",
          "height": 111
        },
        "id": "wgGWyymUG-0G",
        "outputId": "0cf45196-5634-425e-d730-d27f78fb2c36"
      },
      "source": [
        "boston[['B', 'CRIM']].corr()"
      ],
      "execution_count": null,
      "outputs": [
        {
          "output_type": "execute_result",
          "data": {
            "text/html": [
              "<div>\n",
              "<style scoped>\n",
              "    .dataframe tbody tr th:only-of-type {\n",
              "        vertical-align: middle;\n",
              "    }\n",
              "\n",
              "    .dataframe tbody tr th {\n",
              "        vertical-align: top;\n",
              "    }\n",
              "\n",
              "    .dataframe thead th {\n",
              "        text-align: right;\n",
              "    }\n",
              "</style>\n",
              "<table border=\"1\" class=\"dataframe\">\n",
              "  <thead>\n",
              "    <tr style=\"text-align: right;\">\n",
              "      <th></th>\n",
              "      <th>B</th>\n",
              "      <th>CRIM</th>\n",
              "    </tr>\n",
              "  </thead>\n",
              "  <tbody>\n",
              "    <tr>\n",
              "      <th>B</th>\n",
              "      <td>1.000000</td>\n",
              "      <td>-0.385064</td>\n",
              "    </tr>\n",
              "    <tr>\n",
              "      <th>CRIM</th>\n",
              "      <td>-0.385064</td>\n",
              "      <td>1.000000</td>\n",
              "    </tr>\n",
              "  </tbody>\n",
              "</table>\n",
              "</div>"
            ],
            "text/plain": [
              "             B      CRIM\n",
              "B     1.000000 -0.385064\n",
              "CRIM -0.385064  1.000000"
            ]
          },
          "metadata": {
            "tags": []
          },
          "execution_count": 32
        }
      ]
    },
    {
      "cell_type": "markdown",
      "metadata": {
        "id": "OOUM46gpsIDa"
      },
      "source": [
        "`B`と`CRIM`の相関係数を見ると、負の値$-0.385064$になっていることがわかります。\n",
        "それほど$-1$に近いわけではないので、強いとは言えませんが、弱くとも負の相関があることが分かりますね。\n",
        "つまり、黒人の人口比が大きくなると、却って、犯罪率が低下するという傾向にあることです。\n",
        "このように、我々はデータを先入観や偏見を持って見てしまいがちですが、きちんと調べず、\n",
        "思い込みで結論を述べることがいかに危険であるかが分かると思います。\n",
        "\n",
        "では、犯罪率と正の相関を持つ属性は何でしょうか？\n",
        "属性の組み毎に相関係数を計算すれば分かりますが、全ての組み合わせ（91通りもある！）で調べるのは大変です。\n",
        "その点、Pandasの`corr()`関数は、一括して、全ての組み合わせに対して相関係数を計算してくれます。\n",
        "次のプログラムを実行して下さい。\n",
        "```python\n",
        "boston.corr()\n",
        "```"
      ]
    },
    {
      "cell_type": "code",
      "metadata": {
        "colab": {
          "base_uri": "https://localhost:8080/",
          "height": 483
        },
        "id": "OiTnzXlWHGAI",
        "outputId": "ad7cafa1-3a14-42e0-f110-4c1e40eafb8b"
      },
      "source": [
        "boston.corr()"
      ],
      "execution_count": null,
      "outputs": [
        {
          "output_type": "execute_result",
          "data": {
            "text/html": [
              "<div>\n",
              "<style scoped>\n",
              "    .dataframe tbody tr th:only-of-type {\n",
              "        vertical-align: middle;\n",
              "    }\n",
              "\n",
              "    .dataframe tbody tr th {\n",
              "        vertical-align: top;\n",
              "    }\n",
              "\n",
              "    .dataframe thead th {\n",
              "        text-align: right;\n",
              "    }\n",
              "</style>\n",
              "<table border=\"1\" class=\"dataframe\">\n",
              "  <thead>\n",
              "    <tr style=\"text-align: right;\">\n",
              "      <th></th>\n",
              "      <th>CRIM</th>\n",
              "      <th>ZN</th>\n",
              "      <th>INDUS</th>\n",
              "      <th>CHAS</th>\n",
              "      <th>NOX</th>\n",
              "      <th>RM</th>\n",
              "      <th>AGE</th>\n",
              "      <th>DIS</th>\n",
              "      <th>RAD</th>\n",
              "      <th>TAX</th>\n",
              "      <th>PTRATIO</th>\n",
              "      <th>B</th>\n",
              "      <th>LSTAT</th>\n",
              "      <th>PRICE</th>\n",
              "    </tr>\n",
              "  </thead>\n",
              "  <tbody>\n",
              "    <tr>\n",
              "      <th>CRIM</th>\n",
              "      <td>1.000000</td>\n",
              "      <td>-0.200469</td>\n",
              "      <td>0.406583</td>\n",
              "      <td>-0.055892</td>\n",
              "      <td>0.420972</td>\n",
              "      <td>-0.219247</td>\n",
              "      <td>0.352734</td>\n",
              "      <td>-0.379670</td>\n",
              "      <td>0.625505</td>\n",
              "      <td>0.582764</td>\n",
              "      <td>0.289946</td>\n",
              "      <td>-0.385064</td>\n",
              "      <td>0.455621</td>\n",
              "      <td>-0.388305</td>\n",
              "    </tr>\n",
              "    <tr>\n",
              "      <th>ZN</th>\n",
              "      <td>-0.200469</td>\n",
              "      <td>1.000000</td>\n",
              "      <td>-0.533828</td>\n",
              "      <td>-0.042697</td>\n",
              "      <td>-0.516604</td>\n",
              "      <td>0.311991</td>\n",
              "      <td>-0.569537</td>\n",
              "      <td>0.664408</td>\n",
              "      <td>-0.311948</td>\n",
              "      <td>-0.314563</td>\n",
              "      <td>-0.391679</td>\n",
              "      <td>0.175520</td>\n",
              "      <td>-0.412995</td>\n",
              "      <td>0.360445</td>\n",
              "    </tr>\n",
              "    <tr>\n",
              "      <th>INDUS</th>\n",
              "      <td>0.406583</td>\n",
              "      <td>-0.533828</td>\n",
              "      <td>1.000000</td>\n",
              "      <td>0.062938</td>\n",
              "      <td>0.763651</td>\n",
              "      <td>-0.391676</td>\n",
              "      <td>0.644779</td>\n",
              "      <td>-0.708027</td>\n",
              "      <td>0.595129</td>\n",
              "      <td>0.720760</td>\n",
              "      <td>0.383248</td>\n",
              "      <td>-0.356977</td>\n",
              "      <td>0.603800</td>\n",
              "      <td>-0.483725</td>\n",
              "    </tr>\n",
              "    <tr>\n",
              "      <th>CHAS</th>\n",
              "      <td>-0.055892</td>\n",
              "      <td>-0.042697</td>\n",
              "      <td>0.062938</td>\n",
              "      <td>1.000000</td>\n",
              "      <td>0.091203</td>\n",
              "      <td>0.091251</td>\n",
              "      <td>0.086518</td>\n",
              "      <td>-0.099176</td>\n",
              "      <td>-0.007368</td>\n",
              "      <td>-0.035587</td>\n",
              "      <td>-0.121515</td>\n",
              "      <td>0.048788</td>\n",
              "      <td>-0.053929</td>\n",
              "      <td>0.175260</td>\n",
              "    </tr>\n",
              "    <tr>\n",
              "      <th>NOX</th>\n",
              "      <td>0.420972</td>\n",
              "      <td>-0.516604</td>\n",
              "      <td>0.763651</td>\n",
              "      <td>0.091203</td>\n",
              "      <td>1.000000</td>\n",
              "      <td>-0.302188</td>\n",
              "      <td>0.731470</td>\n",
              "      <td>-0.769230</td>\n",
              "      <td>0.611441</td>\n",
              "      <td>0.668023</td>\n",
              "      <td>0.188933</td>\n",
              "      <td>-0.380051</td>\n",
              "      <td>0.590879</td>\n",
              "      <td>-0.427321</td>\n",
              "    </tr>\n",
              "    <tr>\n",
              "      <th>RM</th>\n",
              "      <td>-0.219247</td>\n",
              "      <td>0.311991</td>\n",
              "      <td>-0.391676</td>\n",
              "      <td>0.091251</td>\n",
              "      <td>-0.302188</td>\n",
              "      <td>1.000000</td>\n",
              "      <td>-0.240265</td>\n",
              "      <td>0.205246</td>\n",
              "      <td>-0.209847</td>\n",
              "      <td>-0.292048</td>\n",
              "      <td>-0.355501</td>\n",
              "      <td>0.128069</td>\n",
              "      <td>-0.613808</td>\n",
              "      <td>0.695360</td>\n",
              "    </tr>\n",
              "    <tr>\n",
              "      <th>AGE</th>\n",
              "      <td>0.352734</td>\n",
              "      <td>-0.569537</td>\n",
              "      <td>0.644779</td>\n",
              "      <td>0.086518</td>\n",
              "      <td>0.731470</td>\n",
              "      <td>-0.240265</td>\n",
              "      <td>1.000000</td>\n",
              "      <td>-0.747881</td>\n",
              "      <td>0.456022</td>\n",
              "      <td>0.506456</td>\n",
              "      <td>0.261515</td>\n",
              "      <td>-0.273534</td>\n",
              "      <td>0.602339</td>\n",
              "      <td>-0.376955</td>\n",
              "    </tr>\n",
              "    <tr>\n",
              "      <th>DIS</th>\n",
              "      <td>-0.379670</td>\n",
              "      <td>0.664408</td>\n",
              "      <td>-0.708027</td>\n",
              "      <td>-0.099176</td>\n",
              "      <td>-0.769230</td>\n",
              "      <td>0.205246</td>\n",
              "      <td>-0.747881</td>\n",
              "      <td>1.000000</td>\n",
              "      <td>-0.494588</td>\n",
              "      <td>-0.534432</td>\n",
              "      <td>-0.232471</td>\n",
              "      <td>0.291512</td>\n",
              "      <td>-0.496996</td>\n",
              "      <td>0.249929</td>\n",
              "    </tr>\n",
              "    <tr>\n",
              "      <th>RAD</th>\n",
              "      <td>0.625505</td>\n",
              "      <td>-0.311948</td>\n",
              "      <td>0.595129</td>\n",
              "      <td>-0.007368</td>\n",
              "      <td>0.611441</td>\n",
              "      <td>-0.209847</td>\n",
              "      <td>0.456022</td>\n",
              "      <td>-0.494588</td>\n",
              "      <td>1.000000</td>\n",
              "      <td>0.910228</td>\n",
              "      <td>0.464741</td>\n",
              "      <td>-0.444413</td>\n",
              "      <td>0.488676</td>\n",
              "      <td>-0.381626</td>\n",
              "    </tr>\n",
              "    <tr>\n",
              "      <th>TAX</th>\n",
              "      <td>0.582764</td>\n",
              "      <td>-0.314563</td>\n",
              "      <td>0.720760</td>\n",
              "      <td>-0.035587</td>\n",
              "      <td>0.668023</td>\n",
              "      <td>-0.292048</td>\n",
              "      <td>0.506456</td>\n",
              "      <td>-0.534432</td>\n",
              "      <td>0.910228</td>\n",
              "      <td>1.000000</td>\n",
              "      <td>0.460853</td>\n",
              "      <td>-0.441808</td>\n",
              "      <td>0.543993</td>\n",
              "      <td>-0.468536</td>\n",
              "    </tr>\n",
              "    <tr>\n",
              "      <th>PTRATIO</th>\n",
              "      <td>0.289946</td>\n",
              "      <td>-0.391679</td>\n",
              "      <td>0.383248</td>\n",
              "      <td>-0.121515</td>\n",
              "      <td>0.188933</td>\n",
              "      <td>-0.355501</td>\n",
              "      <td>0.261515</td>\n",
              "      <td>-0.232471</td>\n",
              "      <td>0.464741</td>\n",
              "      <td>0.460853</td>\n",
              "      <td>1.000000</td>\n",
              "      <td>-0.177383</td>\n",
              "      <td>0.374044</td>\n",
              "      <td>-0.507787</td>\n",
              "    </tr>\n",
              "    <tr>\n",
              "      <th>B</th>\n",
              "      <td>-0.385064</td>\n",
              "      <td>0.175520</td>\n",
              "      <td>-0.356977</td>\n",
              "      <td>0.048788</td>\n",
              "      <td>-0.380051</td>\n",
              "      <td>0.128069</td>\n",
              "      <td>-0.273534</td>\n",
              "      <td>0.291512</td>\n",
              "      <td>-0.444413</td>\n",
              "      <td>-0.441808</td>\n",
              "      <td>-0.177383</td>\n",
              "      <td>1.000000</td>\n",
              "      <td>-0.366087</td>\n",
              "      <td>0.333461</td>\n",
              "    </tr>\n",
              "    <tr>\n",
              "      <th>LSTAT</th>\n",
              "      <td>0.455621</td>\n",
              "      <td>-0.412995</td>\n",
              "      <td>0.603800</td>\n",
              "      <td>-0.053929</td>\n",
              "      <td>0.590879</td>\n",
              "      <td>-0.613808</td>\n",
              "      <td>0.602339</td>\n",
              "      <td>-0.496996</td>\n",
              "      <td>0.488676</td>\n",
              "      <td>0.543993</td>\n",
              "      <td>0.374044</td>\n",
              "      <td>-0.366087</td>\n",
              "      <td>1.000000</td>\n",
              "      <td>-0.737663</td>\n",
              "    </tr>\n",
              "    <tr>\n",
              "      <th>PRICE</th>\n",
              "      <td>-0.388305</td>\n",
              "      <td>0.360445</td>\n",
              "      <td>-0.483725</td>\n",
              "      <td>0.175260</td>\n",
              "      <td>-0.427321</td>\n",
              "      <td>0.695360</td>\n",
              "      <td>-0.376955</td>\n",
              "      <td>0.249929</td>\n",
              "      <td>-0.381626</td>\n",
              "      <td>-0.468536</td>\n",
              "      <td>-0.507787</td>\n",
              "      <td>0.333461</td>\n",
              "      <td>-0.737663</td>\n",
              "      <td>1.000000</td>\n",
              "    </tr>\n",
              "  </tbody>\n",
              "</table>\n",
              "</div>"
            ],
            "text/plain": [
              "             CRIM        ZN     INDUS  ...         B     LSTAT     PRICE\n",
              "CRIM     1.000000 -0.200469  0.406583  ... -0.385064  0.455621 -0.388305\n",
              "ZN      -0.200469  1.000000 -0.533828  ...  0.175520 -0.412995  0.360445\n",
              "INDUS    0.406583 -0.533828  1.000000  ... -0.356977  0.603800 -0.483725\n",
              "CHAS    -0.055892 -0.042697  0.062938  ...  0.048788 -0.053929  0.175260\n",
              "NOX      0.420972 -0.516604  0.763651  ... -0.380051  0.590879 -0.427321\n",
              "RM      -0.219247  0.311991 -0.391676  ...  0.128069 -0.613808  0.695360\n",
              "AGE      0.352734 -0.569537  0.644779  ... -0.273534  0.602339 -0.376955\n",
              "DIS     -0.379670  0.664408 -0.708027  ...  0.291512 -0.496996  0.249929\n",
              "RAD      0.625505 -0.311948  0.595129  ... -0.444413  0.488676 -0.381626\n",
              "TAX      0.582764 -0.314563  0.720760  ... -0.441808  0.543993 -0.468536\n",
              "PTRATIO  0.289946 -0.391679  0.383248  ... -0.177383  0.374044 -0.507787\n",
              "B       -0.385064  0.175520 -0.356977  ...  1.000000 -0.366087  0.333461\n",
              "LSTAT    0.455621 -0.412995  0.603800  ... -0.366087  1.000000 -0.737663\n",
              "PRICE   -0.388305  0.360445 -0.483725  ...  0.333461 -0.737663  1.000000\n",
              "\n",
              "[14 rows x 14 columns]"
            ]
          },
          "metadata": {
            "tags": []
          },
          "execution_count": 33
        }
      ]
    },
    {
      "cell_type": "markdown",
      "metadata": {
        "id": "O_C36ERhtoPd"
      },
      "source": [
        "Pandasの便利さが分かってもらえたと思います。\n",
        "でも、まだ、視覚的にわかりやすいというわけではないですね。\n",
        "\n",
        "どの属性とどの属性の間の相関が強いか、そして、その相関が正の相関か、負の相関かが、一目で分かるように、\n",
        "相関係数の値を色で表現する**ヒートマップ**と呼ばれるグラフで描画してみます。\n",
        "\n",
        "ヒートマップは、Pyplotを使っても描画することができますが、Plotly Expressを使えば、次の1行のプログラムで済んでしまいます。\n",
        "```python\n",
        "px.imshow(boston.corr())\n",
        "```"
      ]
    },
    {
      "cell_type": "code",
      "metadata": {
        "colab": {
          "base_uri": "https://localhost:8080/",
          "height": 542
        },
        "id": "oDWVdszr-lOa",
        "outputId": "09fa6f6b-9917-4922-e428-c0758708aaeb"
      },
      "source": [
        "px.imshow(boston.corr())"
      ],
      "execution_count": null,
      "outputs": [
        {
          "output_type": "display_data",
          "data": {
            "text/html": [
              "<html>\n",
              "<head><meta charset=\"utf-8\" /></head>\n",
              "<body>\n",
              "    <div>\n",
              "            <script src=\"https://cdnjs.cloudflare.com/ajax/libs/mathjax/2.7.5/MathJax.js?config=TeX-AMS-MML_SVG\"></script><script type=\"text/javascript\">if (window.MathJax) {MathJax.Hub.Config({SVG: {font: \"STIX-Web\"}});}</script>\n",
              "                <script type=\"text/javascript\">window.PlotlyConfig = {MathJaxConfig: 'local'};</script>\n",
              "        <script src=\"https://cdn.plot.ly/plotly-latest.min.js\"></script>    \n",
              "            <div id=\"45bdb067-08f2-4084-991b-b60ffbf0df4a\" class=\"plotly-graph-div\" style=\"height:525px; width:100%;\"></div>\n",
              "            <script type=\"text/javascript\">\n",
              "                \n",
              "                    window.PLOTLYENV=window.PLOTLYENV || {};\n",
              "                    \n",
              "                if (document.getElementById(\"45bdb067-08f2-4084-991b-b60ffbf0df4a\")) {\n",
              "                    Plotly.newPlot(\n",
              "                        '45bdb067-08f2-4084-991b-b60ffbf0df4a',\n",
              "                        [{\"coloraxis\": \"coloraxis\", \"type\": \"heatmap\", \"z\": [[1.0, -0.20046921966254821, 0.4065834114062593, -0.055891582222241235, 0.4209717113924559, -0.21924670286251377, 0.35273425090136346, -0.3796700869510245, 0.6255051452626011, 0.5827643120325845, 0.2899455792795197, -0.38506394199422433, 0.4556214794479462, -0.3883046085868114], [-0.20046921966254821, 1.0, -0.5338281863044747, -0.04269671929612121, -0.5166037078279853, 0.31199058737409197, -0.5695373420992127, 0.6644082227621132, -0.31194782601853754, -0.31456332467759884, -0.3916785479362142, 0.17552031738282844, -0.4129945745270045, 0.3604453424505447], [0.4065834114062593, -0.5338281863044747, 1.0, 0.0629380274896654, 0.7636514469209145, -0.39167585265684357, 0.644778511355255, -0.7080269887427683, 0.5951292746038486, 0.7207601799515441, 0.38324755642888675, -0.3569765351041929, 0.6037997164766213, -0.483725160028373], [-0.055891582222241235, -0.04269671929612121, 0.0629380274896654, 1.0, 0.09120280684249406, 0.09125122504345595, 0.08651777425454257, -0.09917578017472706, -0.007368240886077726, -0.03558651758591118, -0.121515173658062, 0.04878848495516622, -0.05392929837569404, 0.1752601771902975], [0.4209717113924559, -0.5166037078279853, 0.7636514469209145, 0.09120280684249406, 1.0, -0.3021881878495933, 0.7314701037859579, -0.7692301132258261, 0.6114405634855754, 0.6680232004030201, 0.18893267711276665, -0.3800506377924003, 0.5908789208808449, -0.4273207723732817], [-0.21924670286251377, 0.31199058737409197, -0.39167585265684357, 0.09125122504345595, -0.3021881878495933, 1.0, -0.24026493104775123, 0.20524621293005516, -0.20984666776610877, -0.29204783262321915, -0.3555014945590849, 0.1280686350925431, -0.6138082718663957, 0.6953599470715389], [0.35273425090136346, -0.5695373420992127, 0.644778511355255, 0.08651777425454257, 0.7314701037859579, -0.24026493104775123, 1.0, -0.7478805408686316, 0.4560224517516134, 0.506455593550705, 0.2615150116719572, -0.27353397663851314, 0.6023385287262399, -0.3769545650045959], [-0.3796700869510245, 0.6644082227621132, -0.7080269887427683, -0.09917578017472706, -0.7692301132258261, 0.20524621293005516, -0.7478805408686316, 1.0, -0.49458792967207543, -0.5344315844084561, -0.23247054240825624, 0.2915116731330401, -0.4969958308636852, 0.24992873408590394], [0.6255051452626011, -0.31194782601853754, 0.5951292746038486, -0.007368240886077726, 0.6114405634855754, -0.20984666776610877, 0.4560224517516134, -0.49458792967207543, 1.0, 0.9102281885331822, 0.46474117850305435, -0.44441281557512574, 0.4886763349750664, -0.3816262306397776], [0.5827643120325845, -0.31456332467759884, 0.7207601799515441, -0.03558651758591118, 0.6680232004030201, -0.29204783262321915, 0.506455593550705, -0.5344315844084561, 0.9102281885331822, 1.0, 0.4608530350656657, -0.44180800672281384, 0.543993412001569, -0.46853593356776646], [0.2899455792795197, -0.3916785479362142, 0.38324755642888675, -0.121515173658062, 0.18893267711276665, -0.3555014945590849, 0.2615150116719572, -0.23247054240825624, 0.46474117850305435, 0.4608530350656657, 1.0, -0.17738330230523142, 0.3740443167146754, -0.507786685537561], [-0.38506394199422433, 0.17552031738282844, -0.3569765351041929, 0.04878848495516622, -0.3800506377924003, 0.1280686350925431, -0.27353397663851314, 0.2915116731330401, -0.44441281557512574, -0.44180800672281384, -0.17738330230523142, 1.0, -0.3660869016915971, 0.33346081965706653], [0.4556214794479462, -0.4129945745270045, 0.6037997164766213, -0.05392929837569404, 0.5908789208808449, -0.6138082718663957, 0.6023385287262399, -0.4969958308636852, 0.4886763349750664, 0.543993412001569, 0.3740443167146754, -0.3660869016915971, 1.0, -0.7376627261740143], [-0.3883046085868114, 0.3604453424505447, -0.483725160028373, 0.1752601771902975, -0.4273207723732817, 0.6953599470715389, -0.3769545650045959, 0.24992873408590394, -0.3816262306397776, -0.46853593356776646, -0.507786685537561, 0.33346081965706653, -0.7376627261740143, 1.0]]}],\n",
              "                        {\"coloraxis\": {\"colorscale\": [[0.0, \"#0d0887\"], [0.1111111111111111, \"#46039f\"], [0.2222222222222222, \"#7201a8\"], [0.3333333333333333, \"#9c179e\"], [0.4444444444444444, \"#bd3786\"], [0.5555555555555556, \"#d8576b\"], [0.6666666666666666, \"#ed7953\"], [0.7777777777777778, \"#fb9f3a\"], [0.8888888888888888, \"#fdca26\"], [1.0, \"#f0f921\"]]}, \"margin\": {\"t\": 60}, \"template\": {\"data\": {\"bar\": [{\"error_x\": {\"color\": \"#2a3f5f\"}, \"error_y\": {\"color\": \"#2a3f5f\"}, \"marker\": {\"line\": {\"color\": \"#E5ECF6\", \"width\": 0.5}}, \"type\": \"bar\"}], \"barpolar\": [{\"marker\": {\"line\": {\"color\": \"#E5ECF6\", \"width\": 0.5}}, \"type\": \"barpolar\"}], \"carpet\": [{\"aaxis\": {\"endlinecolor\": \"#2a3f5f\", \"gridcolor\": \"white\", \"linecolor\": \"white\", \"minorgridcolor\": \"white\", \"startlinecolor\": \"#2a3f5f\"}, \"baxis\": {\"endlinecolor\": \"#2a3f5f\", \"gridcolor\": \"white\", \"linecolor\": \"white\", \"minorgridcolor\": \"white\", \"startlinecolor\": \"#2a3f5f\"}, \"type\": \"carpet\"}], \"choropleth\": [{\"colorbar\": {\"outlinewidth\": 0, \"ticks\": \"\"}, \"type\": \"choropleth\"}], \"contour\": [{\"colorbar\": {\"outlinewidth\": 0, \"ticks\": \"\"}, \"colorscale\": [[0.0, \"#0d0887\"], [0.1111111111111111, \"#46039f\"], [0.2222222222222222, \"#7201a8\"], [0.3333333333333333, \"#9c179e\"], [0.4444444444444444, \"#bd3786\"], [0.5555555555555556, \"#d8576b\"], [0.6666666666666666, \"#ed7953\"], [0.7777777777777778, \"#fb9f3a\"], [0.8888888888888888, \"#fdca26\"], [1.0, \"#f0f921\"]], \"type\": \"contour\"}], \"contourcarpet\": [{\"colorbar\": {\"outlinewidth\": 0, \"ticks\": \"\"}, \"type\": \"contourcarpet\"}], \"heatmap\": [{\"colorbar\": {\"outlinewidth\": 0, \"ticks\": \"\"}, \"colorscale\": [[0.0, \"#0d0887\"], [0.1111111111111111, \"#46039f\"], [0.2222222222222222, \"#7201a8\"], [0.3333333333333333, \"#9c179e\"], [0.4444444444444444, \"#bd3786\"], [0.5555555555555556, \"#d8576b\"], [0.6666666666666666, \"#ed7953\"], [0.7777777777777778, \"#fb9f3a\"], [0.8888888888888888, \"#fdca26\"], [1.0, \"#f0f921\"]], \"type\": \"heatmap\"}], \"heatmapgl\": [{\"colorbar\": {\"outlinewidth\": 0, \"ticks\": \"\"}, \"colorscale\": [[0.0, \"#0d0887\"], [0.1111111111111111, \"#46039f\"], [0.2222222222222222, \"#7201a8\"], [0.3333333333333333, \"#9c179e\"], [0.4444444444444444, \"#bd3786\"], [0.5555555555555556, \"#d8576b\"], [0.6666666666666666, \"#ed7953\"], [0.7777777777777778, \"#fb9f3a\"], [0.8888888888888888, \"#fdca26\"], [1.0, \"#f0f921\"]], \"type\": \"heatmapgl\"}], \"histogram\": [{\"marker\": {\"colorbar\": {\"outlinewidth\": 0, \"ticks\": \"\"}}, \"type\": \"histogram\"}], \"histogram2d\": [{\"colorbar\": {\"outlinewidth\": 0, \"ticks\": \"\"}, \"colorscale\": [[0.0, \"#0d0887\"], [0.1111111111111111, \"#46039f\"], [0.2222222222222222, \"#7201a8\"], [0.3333333333333333, \"#9c179e\"], [0.4444444444444444, \"#bd3786\"], [0.5555555555555556, \"#d8576b\"], [0.6666666666666666, \"#ed7953\"], [0.7777777777777778, \"#fb9f3a\"], [0.8888888888888888, \"#fdca26\"], [1.0, \"#f0f921\"]], \"type\": \"histogram2d\"}], \"histogram2dcontour\": [{\"colorbar\": {\"outlinewidth\": 0, \"ticks\": \"\"}, \"colorscale\": [[0.0, \"#0d0887\"], [0.1111111111111111, \"#46039f\"], [0.2222222222222222, \"#7201a8\"], [0.3333333333333333, \"#9c179e\"], [0.4444444444444444, \"#bd3786\"], [0.5555555555555556, \"#d8576b\"], [0.6666666666666666, \"#ed7953\"], [0.7777777777777778, \"#fb9f3a\"], [0.8888888888888888, \"#fdca26\"], [1.0, \"#f0f921\"]], \"type\": \"histogram2dcontour\"}], \"mesh3d\": [{\"colorbar\": {\"outlinewidth\": 0, \"ticks\": \"\"}, \"type\": \"mesh3d\"}], \"parcoords\": [{\"line\": {\"colorbar\": {\"outlinewidth\": 0, \"ticks\": \"\"}}, \"type\": \"parcoords\"}], \"pie\": [{\"automargin\": true, \"type\": \"pie\"}], \"scatter\": [{\"marker\": {\"colorbar\": {\"outlinewidth\": 0, \"ticks\": \"\"}}, \"type\": \"scatter\"}], \"scatter3d\": [{\"line\": {\"colorbar\": {\"outlinewidth\": 0, \"ticks\": \"\"}}, \"marker\": {\"colorbar\": {\"outlinewidth\": 0, \"ticks\": \"\"}}, \"type\": \"scatter3d\"}], \"scattercarpet\": [{\"marker\": {\"colorbar\": {\"outlinewidth\": 0, \"ticks\": \"\"}}, \"type\": \"scattercarpet\"}], \"scattergeo\": [{\"marker\": {\"colorbar\": {\"outlinewidth\": 0, \"ticks\": \"\"}}, \"type\": \"scattergeo\"}], \"scattergl\": [{\"marker\": {\"colorbar\": {\"outlinewidth\": 0, \"ticks\": \"\"}}, \"type\": \"scattergl\"}], \"scattermapbox\": [{\"marker\": {\"colorbar\": {\"outlinewidth\": 0, \"ticks\": \"\"}}, \"type\": \"scattermapbox\"}], \"scatterpolar\": [{\"marker\": {\"colorbar\": {\"outlinewidth\": 0, \"ticks\": \"\"}}, \"type\": \"scatterpolar\"}], \"scatterpolargl\": [{\"marker\": {\"colorbar\": {\"outlinewidth\": 0, \"ticks\": \"\"}}, \"type\": \"scatterpolargl\"}], \"scatterternary\": [{\"marker\": {\"colorbar\": {\"outlinewidth\": 0, \"ticks\": \"\"}}, \"type\": \"scatterternary\"}], \"surface\": [{\"colorbar\": {\"outlinewidth\": 0, \"ticks\": \"\"}, \"colorscale\": [[0.0, \"#0d0887\"], [0.1111111111111111, \"#46039f\"], [0.2222222222222222, \"#7201a8\"], [0.3333333333333333, \"#9c179e\"], [0.4444444444444444, \"#bd3786\"], [0.5555555555555556, \"#d8576b\"], [0.6666666666666666, \"#ed7953\"], [0.7777777777777778, \"#fb9f3a\"], [0.8888888888888888, \"#fdca26\"], [1.0, \"#f0f921\"]], \"type\": \"surface\"}], \"table\": [{\"cells\": {\"fill\": {\"color\": \"#EBF0F8\"}, \"line\": {\"color\": \"white\"}}, \"header\": {\"fill\": {\"color\": \"#C8D4E3\"}, \"line\": {\"color\": \"white\"}}, \"type\": \"table\"}]}, \"layout\": {\"annotationdefaults\": {\"arrowcolor\": \"#2a3f5f\", \"arrowhead\": 0, \"arrowwidth\": 1}, \"coloraxis\": {\"colorbar\": {\"outlinewidth\": 0, \"ticks\": \"\"}}, \"colorscale\": {\"diverging\": [[0, \"#8e0152\"], [0.1, \"#c51b7d\"], [0.2, \"#de77ae\"], [0.3, \"#f1b6da\"], [0.4, \"#fde0ef\"], [0.5, \"#f7f7f7\"], [0.6, \"#e6f5d0\"], [0.7, \"#b8e186\"], [0.8, \"#7fbc41\"], [0.9, \"#4d9221\"], [1, \"#276419\"]], \"sequential\": [[0.0, \"#0d0887\"], [0.1111111111111111, \"#46039f\"], [0.2222222222222222, \"#7201a8\"], [0.3333333333333333, \"#9c179e\"], [0.4444444444444444, \"#bd3786\"], [0.5555555555555556, \"#d8576b\"], [0.6666666666666666, \"#ed7953\"], [0.7777777777777778, \"#fb9f3a\"], [0.8888888888888888, \"#fdca26\"], [1.0, \"#f0f921\"]], \"sequentialminus\": [[0.0, \"#0d0887\"], [0.1111111111111111, \"#46039f\"], [0.2222222222222222, \"#7201a8\"], [0.3333333333333333, \"#9c179e\"], [0.4444444444444444, \"#bd3786\"], [0.5555555555555556, \"#d8576b\"], [0.6666666666666666, \"#ed7953\"], [0.7777777777777778, \"#fb9f3a\"], [0.8888888888888888, \"#fdca26\"], [1.0, \"#f0f921\"]]}, \"colorway\": [\"#636efa\", \"#EF553B\", \"#00cc96\", \"#ab63fa\", \"#FFA15A\", \"#19d3f3\", \"#FF6692\", \"#B6E880\", \"#FF97FF\", \"#FECB52\"], \"font\": {\"color\": \"#2a3f5f\"}, \"geo\": {\"bgcolor\": \"white\", \"lakecolor\": \"white\", \"landcolor\": \"#E5ECF6\", \"showlakes\": true, \"showland\": true, \"subunitcolor\": \"white\"}, \"hoverlabel\": {\"align\": \"left\"}, \"hovermode\": \"closest\", \"mapbox\": {\"style\": \"light\"}, \"paper_bgcolor\": \"white\", \"plot_bgcolor\": \"#E5ECF6\", \"polar\": {\"angularaxis\": {\"gridcolor\": \"white\", \"linecolor\": \"white\", \"ticks\": \"\"}, \"bgcolor\": \"#E5ECF6\", \"radialaxis\": {\"gridcolor\": \"white\", \"linecolor\": \"white\", \"ticks\": \"\"}}, \"scene\": {\"xaxis\": {\"backgroundcolor\": \"#E5ECF6\", \"gridcolor\": \"white\", \"gridwidth\": 2, \"linecolor\": \"white\", \"showbackground\": true, \"ticks\": \"\", \"zerolinecolor\": \"white\"}, \"yaxis\": {\"backgroundcolor\": \"#E5ECF6\", \"gridcolor\": \"white\", \"gridwidth\": 2, \"linecolor\": \"white\", \"showbackground\": true, \"ticks\": \"\", \"zerolinecolor\": \"white\"}, \"zaxis\": {\"backgroundcolor\": \"#E5ECF6\", \"gridcolor\": \"white\", \"gridwidth\": 2, \"linecolor\": \"white\", \"showbackground\": true, \"ticks\": \"\", \"zerolinecolor\": \"white\"}}, \"shapedefaults\": {\"line\": {\"color\": \"#2a3f5f\"}}, \"ternary\": {\"aaxis\": {\"gridcolor\": \"white\", \"linecolor\": \"white\", \"ticks\": \"\"}, \"baxis\": {\"gridcolor\": \"white\", \"linecolor\": \"white\", \"ticks\": \"\"}, \"bgcolor\": \"#E5ECF6\", \"caxis\": {\"gridcolor\": \"white\", \"linecolor\": \"white\", \"ticks\": \"\"}}, \"title\": {\"x\": 0.05}, \"xaxis\": {\"automargin\": true, \"gridcolor\": \"white\", \"linecolor\": \"white\", \"ticks\": \"\", \"title\": {\"standoff\": 15}, \"zerolinecolor\": \"white\", \"zerolinewidth\": 2}, \"yaxis\": {\"automargin\": true, \"gridcolor\": \"white\", \"linecolor\": \"white\", \"ticks\": \"\", \"title\": {\"standoff\": 15}, \"zerolinecolor\": \"white\", \"zerolinewidth\": 2}}}, \"xaxis\": {\"constrain\": \"domain\", \"scaleanchor\": \"y\"}, \"yaxis\": {\"autorange\": \"reversed\", \"constrain\": \"domain\"}},\n",
              "                        {\"responsive\": true}\n",
              "                    ).then(function(){\n",
              "                            \n",
              "var gd = document.getElementById('45bdb067-08f2-4084-991b-b60ffbf0df4a');\n",
              "var x = new MutationObserver(function (mutations, observer) {{\n",
              "        var display = window.getComputedStyle(gd).display;\n",
              "        if (!display || display === 'none') {{\n",
              "            console.log([gd, 'removed!']);\n",
              "            Plotly.purge(gd);\n",
              "            observer.disconnect();\n",
              "        }}\n",
              "}});\n",
              "\n",
              "// Listen for the removal of the full notebook cells\n",
              "var notebookContainer = gd.closest('#notebook-container');\n",
              "if (notebookContainer) {{\n",
              "    x.observe(notebookContainer, {childList: true});\n",
              "}}\n",
              "\n",
              "// Listen for the clearing of the current output cell\n",
              "var outputEl = gd.closest('.output');\n",
              "if (outputEl) {{\n",
              "    x.observe(outputEl, {childList: true});\n",
              "}}\n",
              "\n",
              "                        })\n",
              "                };\n",
              "                \n",
              "            </script>\n",
              "        </div>\n",
              "</body>\n",
              "</html>"
            ]
          },
          "metadata": {
            "tags": []
          }
        }
      ]
    },
    {
      "cell_type": "markdown",
      "metadata": {
        "id": "pkM9LcjauWYv"
      },
      "source": [
        "黄色に近いほど正の相関が強く、青に近いほど負の相関が強くなるように、描画されています。\n",
        "\n",
        "このヒートマップを見ると、`CRIM`と正の相関が一番強い属性は、`RAD`であることが分かります。\n",
        "`RAD`は、ボストンの環状高速道路（東京の首都高環状線、外環道のようなもの）へのアクセスの良さを表す尺度で、\n",
        "確かに、犯罪率が高い地域は、環状高速道路から遠い地域に集中していることを示しています。\n",
        "おそらく、環状高速道路から離れている方が、犯行が発覚した時に警察の到着までに時間がかかることが理由であると考えると、\n",
        "納得がいくでしょう。"
      ]
    },
    {
      "cell_type": "markdown",
      "metadata": {
        "id": "wGj1wgrK-lOa"
      },
      "source": [
        "### 演習11-2\n",
        "散布図を作成して、`CRIM`と`RAD`の間に正の相関が存在することを確かめよ。"
      ]
    },
    {
      "cell_type": "code",
      "metadata": {
        "colab": {
          "base_uri": "https://localhost:8080/",
          "height": 542
        },
        "id": "1kYurGI--lOa",
        "outputId": "5e9dae70-3c39-479e-d43a-5096dde9e07f"
      },
      "source": [
        "import plotly.express as px\n",
        "px.scatter(boston, x='RAD', y='CRIM')"
      ],
      "execution_count": null,
      "outputs": [
        {
          "output_type": "display_data",
          "data": {
            "text/html": [
              "<html>\n",
              "<head><meta charset=\"utf-8\" /></head>\n",
              "<body>\n",
              "    <div>\n",
              "            <script src=\"https://cdnjs.cloudflare.com/ajax/libs/mathjax/2.7.5/MathJax.js?config=TeX-AMS-MML_SVG\"></script><script type=\"text/javascript\">if (window.MathJax) {MathJax.Hub.Config({SVG: {font: \"STIX-Web\"}});}</script>\n",
              "                <script type=\"text/javascript\">window.PlotlyConfig = {MathJaxConfig: 'local'};</script>\n",
              "        <script src=\"https://cdn.plot.ly/plotly-latest.min.js\"></script>    \n",
              "            <div id=\"92602331-bb75-4cfd-bb99-a1efacfbe815\" class=\"plotly-graph-div\" style=\"height:525px; width:100%;\"></div>\n",
              "            <script type=\"text/javascript\">\n",
              "                \n",
              "                    window.PLOTLYENV=window.PLOTLYENV || {};\n",
              "                    \n",
              "                if (document.getElementById(\"92602331-bb75-4cfd-bb99-a1efacfbe815\")) {\n",
              "                    Plotly.newPlot(\n",
              "                        '92602331-bb75-4cfd-bb99-a1efacfbe815',\n",
              "                        [{\"hoverlabel\": {\"namelength\": 0}, \"hovertemplate\": \"RAD=%{x}<br>CRIM=%{y}\", \"legendgroup\": \"\", \"marker\": {\"color\": \"#636efa\", \"symbol\": \"circle\"}, \"mode\": \"markers\", \"name\": \"\", \"showlegend\": false, \"type\": \"scatter\", \"x\": [1.0, 2.0, 2.0, 3.0, 3.0, 3.0, 5.0, 5.0, 5.0, 5.0, 5.0, 5.0, 5.0, 4.0, 4.0, 4.0, 4.0, 4.0, 4.0, 4.0, 4.0, 4.0, 4.0, 4.0, 4.0, 4.0, 4.0, 4.0, 4.0, 4.0, 4.0, 4.0, 4.0, 4.0, 4.0, 5.0, 5.0, 5.0, 5.0, 3.0, 3.0, 3.0, 3.0, 3.0, 3.0, 3.0, 3.0, 3.0, 3.0, 3.0, 4.0, 4.0, 4.0, 4.0, 3.0, 5.0, 2.0, 5.0, 8.0, 8.0, 8.0, 8.0, 8.0, 8.0, 3.0, 4.0, 4.0, 4.0, 4.0, 4.0, 4.0, 4.0, 4.0, 4.0, 5.0, 5.0, 5.0, 5.0, 5.0, 5.0, 4.0, 4.0, 4.0, 4.0, 3.0, 3.0, 3.0, 3.0, 2.0, 2.0, 2.0, 2.0, 4.0, 4.0, 4.0, 2.0, 2.0, 2.0, 2.0, 2.0, 5.0, 5.0, 5.0, 5.0, 5.0, 5.0, 5.0, 5.0, 5.0, 5.0, 5.0, 6.0, 6.0, 6.0, 6.0, 6.0, 6.0, 6.0, 6.0, 6.0, 2.0, 2.0, 2.0, 2.0, 2.0, 2.0, 2.0, 4.0, 4.0, 4.0, 4.0, 4.0, 4.0, 4.0, 4.0, 4.0, 4.0, 4.0, 4.0, 4.0, 4.0, 4.0, 5.0, 5.0, 5.0, 5.0, 5.0, 5.0, 5.0, 5.0, 5.0, 5.0, 5.0, 5.0, 5.0, 5.0, 5.0, 5.0, 5.0, 5.0, 5.0, 5.0, 5.0, 5.0, 5.0, 5.0, 5.0, 5.0, 5.0, 5.0, 5.0, 5.0, 5.0, 5.0, 5.0, 5.0, 5.0, 5.0, 5.0, 3.0, 3.0, 3.0, 3.0, 3.0, 3.0, 3.0, 3.0, 5.0, 5.0, 5.0, 5.0, 5.0, 5.0, 1.0, 1.0, 4.0, 2.0, 2.0, 2.0, 3.0, 3.0, 2.0, 2.0, 4.0, 4.0, 4.0, 4.0, 4.0, 4.0, 4.0, 4.0, 4.0, 4.0, 4.0, 4.0, 4.0, 5.0, 5.0, 5.0, 5.0, 8.0, 8.0, 8.0, 8.0, 8.0, 8.0, 8.0, 8.0, 8.0, 8.0, 8.0, 8.0, 8.0, 8.0, 8.0, 8.0, 8.0, 8.0, 6.0, 6.0, 6.0, 6.0, 6.0, 6.0, 7.0, 7.0, 7.0, 7.0, 7.0, 7.0, 7.0, 7.0, 7.0, 7.0, 1.0, 1.0, 3.0, 5.0, 5.0, 5.0, 5.0, 5.0, 5.0, 5.0, 5.0, 5.0, 5.0, 5.0, 5.0, 3.0, 3.0, 3.0, 3.0, 3.0, 4.0, 4.0, 4.0, 4.0, 4.0, 5.0, 5.0, 5.0, 5.0, 1.0, 1.0, 1.0, 1.0, 6.0, 6.0, 6.0, 4.0, 4.0, 4.0, 4.0, 4.0, 4.0, 4.0, 4.0, 5.0, 5.0, 5.0, 7.0, 7.0, 7.0, 7.0, 7.0, 7.0, 7.0, 4.0, 4.0, 4.0, 4.0, 4.0, 4.0, 4.0, 4.0, 4.0, 4.0, 4.0, 4.0, 5.0, 5.0, 5.0, 5.0, 5.0, 5.0, 5.0, 5.0, 4.0, 4.0, 4.0, 1.0, 1.0, 5.0, 5.0, 5.0, 5.0, 5.0, 5.0, 5.0, 5.0, 1.0, 1.0, 5.0, 5.0, 3.0, 3.0, 4.0, 4.0, 1.0, 1.0, 4.0, 4.0, 5.0, 4.0, 4.0, 24.0, 24.0, 24.0, 24.0, 24.0, 24.0, 24.0, 24.0, 24.0, 24.0, 24.0, 24.0, 24.0, 24.0, 24.0, 24.0, 24.0, 24.0, 24.0, 24.0, 24.0, 24.0, 24.0, 24.0, 24.0, 24.0, 24.0, 24.0, 24.0, 24.0, 24.0, 24.0, 24.0, 24.0, 24.0, 24.0, 24.0, 24.0, 24.0, 24.0, 24.0, 24.0, 24.0, 24.0, 24.0, 24.0, 24.0, 24.0, 24.0, 24.0, 24.0, 24.0, 24.0, 24.0, 24.0, 24.0, 24.0, 24.0, 24.0, 24.0, 24.0, 24.0, 24.0, 24.0, 24.0, 24.0, 24.0, 24.0, 24.0, 24.0, 24.0, 24.0, 24.0, 24.0, 24.0, 24.0, 24.0, 24.0, 24.0, 24.0, 24.0, 24.0, 24.0, 24.0, 24.0, 24.0, 24.0, 24.0, 24.0, 24.0, 24.0, 24.0, 24.0, 24.0, 24.0, 24.0, 24.0, 24.0, 24.0, 24.0, 24.0, 24.0, 24.0, 24.0, 24.0, 24.0, 24.0, 24.0, 24.0, 24.0, 24.0, 24.0, 24.0, 24.0, 24.0, 24.0, 24.0, 24.0, 24.0, 24.0, 24.0, 24.0, 24.0, 24.0, 24.0, 24.0, 24.0, 24.0, 24.0, 24.0, 24.0, 24.0, 4.0, 4.0, 4.0, 4.0, 4.0, 6.0, 6.0, 6.0, 6.0, 6.0, 6.0, 6.0, 6.0, 1.0, 1.0, 1.0, 1.0, 1.0], \"xaxis\": \"x\", \"y\": [0.00632, 0.02731, 0.02729, 0.03237, 0.06905, 0.02985, 0.08829, 0.14455, 0.21124, 0.17004, 0.22489, 0.11747, 0.09378, 0.62976, 0.63796, 0.62739, 1.05393, 0.7842, 0.80271, 0.7258, 1.25179, 0.85204, 1.23247, 0.98843, 0.75026, 0.84054, 0.67191, 0.95577, 0.77299, 1.00245, 1.13081, 1.35472, 1.38799, 1.15172, 1.61282, 0.06417, 0.09744, 0.08014, 0.17505, 0.02763, 0.03359, 0.12744, 0.1415, 0.15936, 0.12269, 0.17142, 0.18836, 0.22927, 0.25387, 0.21977, 0.08873, 0.04337, 0.0536, 0.04981, 0.0136, 0.01311, 0.02055, 0.01432, 0.15445, 0.10328, 0.14932, 0.17171, 0.11027, 0.1265, 0.01951, 0.03584, 0.04379, 0.05789, 0.13554, 0.12816, 0.08826, 0.15876, 0.09164, 0.19539, 0.07896, 0.09512, 0.10153, 0.08707, 0.05646, 0.08387, 0.04113, 0.04462, 0.03659, 0.03551, 0.05059, 0.05735, 0.05188, 0.07151, 0.0566, 0.05302, 0.04684, 0.03932, 0.04203, 0.02875, 0.04294, 0.12204, 0.11504, 0.12083, 0.08187, 0.0686, 0.14866, 0.11432, 0.22876, 0.21161, 0.1396, 0.13262, 0.1712, 0.13117, 0.12802, 0.26363, 0.10793, 0.10084, 0.12329, 0.22212, 0.14231, 0.17134, 0.13158, 0.15098, 0.13058, 0.14476, 0.06899, 0.07165, 0.09299, 0.15038, 0.09849, 0.16902, 0.38735, 0.25915, 0.32543, 0.88125, 0.34006, 1.19294, 0.59005, 0.32982, 0.97617, 0.55778, 0.32264, 0.35233, 0.2498, 0.54452, 0.2909, 1.62864, 3.32105, 4.0974, 2.77974, 2.37934, 2.15505, 2.36862, 2.33099, 2.73397, 1.6566, 1.49632, 1.12658, 2.14918, 1.41385, 3.53501, 2.44668, 1.22358, 1.34284, 1.42502, 1.27346, 1.46336, 1.83377, 1.51902, 2.24236, 2.924, 2.01019, 1.80028, 2.3004, 2.44953, 1.20742, 2.3139, 0.13914, 0.09178, 0.08447, 0.06664, 0.07022, 0.05425, 0.06642, 0.0578, 0.06588, 0.06888, 0.09103, 0.10008, 0.08308, 0.06047, 0.05602, 0.07875, 0.12579, 0.0837, 0.09068, 0.06911, 0.08664, 0.02187, 0.01439, 0.01381, 0.04011, 0.04666, 0.03768, 0.0315, 0.01778, 0.03445, 0.02177, 0.0351, 0.02009, 0.13642, 0.22969, 0.25199, 0.13587, 0.43571, 0.17446, 0.37578, 0.21719, 0.14052, 0.28955, 0.19802, 0.0456, 0.07013, 0.11069, 0.11425, 0.35809, 0.40771, 0.62356, 0.6147, 0.31533, 0.52693, 0.38214, 0.41238, 0.29819, 0.44178, 0.537, 0.46296, 0.57529, 0.33147, 0.44791, 0.33045, 0.52058, 0.51183, 0.08244, 0.09252, 0.11329, 0.10612, 0.1029, 0.12757, 0.20608, 0.19133, 0.33983, 0.19657, 0.16439, 0.19073, 0.1403, 0.21409, 0.08221, 0.36894, 0.04819, 0.03548, 0.01538, 0.61154, 0.66351, 0.65665, 0.54011, 0.53412, 0.52014, 0.82526, 0.55007, 0.76162, 0.7857, 0.57834, 0.5405, 0.09065, 0.29916, 0.16211, 0.1146, 0.22188, 0.05644, 0.09604, 0.10469, 0.06127, 0.07978, 0.21038, 0.03578, 0.03705, 0.06129, 0.01501, 0.00906, 0.01096, 0.01965, 0.03871, 0.0459, 0.04297, 0.03502, 0.07886, 0.03615, 0.08265, 0.08199, 0.12932, 0.05372, 0.14103, 0.06466, 0.05561, 0.04417, 0.03537, 0.09266, 0.1, 0.05515, 0.05479, 0.07503, 0.04932, 0.49298, 0.3494, 2.63548, 0.79041, 0.26169, 0.26938, 0.3692, 0.25356, 0.31827, 0.24522, 0.40202, 0.47547, 0.1676, 0.18159, 0.35114, 0.28392, 0.34109, 0.19186, 0.30347, 0.24103, 0.06617, 0.06724, 0.04544, 0.05023, 0.03466, 0.05083, 0.03738, 0.03961, 0.03427, 0.03041, 0.03306, 0.05497, 0.06151, 0.01301, 0.02498, 0.02543, 0.03049, 0.03113, 0.06162, 0.0187, 0.01501, 0.02899, 0.06211, 0.0795, 0.07244, 0.01709, 0.04301, 0.10659, 8.98296, 3.8497, 5.20177, 4.26131, 4.54192, 3.83684, 3.67822, 4.22239, 3.47428, 4.55587, 3.69695, 13.5222, 4.89822, 5.66998, 6.53876, 9.2323, 8.26725, 11.1081, 18.4982, 19.6091, 15.288, 9.82349, 23.6482, 17.8667, 88.9762, 15.8744, 9.18702, 7.99248, 20.0849, 16.8118, 24.3938, 22.5971, 14.3337, 8.15174, 6.96215, 5.29305, 11.5779, 8.64476, 13.3598, 8.71675, 5.87205, 7.67202, 38.3518, 9.91655, 25.0461, 14.2362, 9.59571, 24.8017, 41.5292, 67.9208, 20.7162, 11.9511, 7.40389, 14.4383, 51.1358, 14.0507, 18.811, 28.6558, 45.7461, 18.0846, 10.8342, 25.9406, 73.5341, 11.8123, 11.0874, 7.02259, 12.0482, 7.05042, 8.79212, 15.8603, 12.2472, 37.6619, 7.36711, 9.33889, 8.49213, 10.0623, 6.44405, 5.58107, 13.9134, 11.1604, 14.4208, 15.1772, 13.6781, 9.39063, 22.0511, 9.72418, 5.66637, 9.96654, 12.8023, 10.6718, 6.28807, 9.92485, 9.32909, 7.52601, 6.71772, 5.44114, 5.09017, 8.24809, 9.51363, 4.75237, 4.66883, 8.20058, 7.75223, 6.80117, 4.81213, 3.69311, 6.65492, 5.82115, 7.83932, 3.1636, 3.77498, 4.42228, 15.5757, 13.0751, 4.34879, 4.03841, 3.56868, 4.64689, 8.05579, 6.39312, 4.87141, 15.0234, 10.233, 14.3337, 5.82401, 5.70818, 5.73116, 2.81838, 2.37857, 3.67367, 5.69175, 4.83567, 0.15086, 0.18337, 0.20746, 0.10574, 0.11132, 0.17331, 0.27957, 0.17899, 0.2896, 0.26838, 0.23912, 0.17783, 0.22438, 0.06263, 0.04527, 0.06076, 0.10959, 0.04741], \"yaxis\": \"y\"}],\n",
              "                        {\"legend\": {\"tracegroupgap\": 0}, \"margin\": {\"t\": 60}, \"template\": {\"data\": {\"bar\": [{\"error_x\": {\"color\": \"#2a3f5f\"}, \"error_y\": {\"color\": \"#2a3f5f\"}, \"marker\": {\"line\": {\"color\": \"#E5ECF6\", \"width\": 0.5}}, \"type\": \"bar\"}], \"barpolar\": [{\"marker\": {\"line\": {\"color\": \"#E5ECF6\", \"width\": 0.5}}, \"type\": \"barpolar\"}], \"carpet\": [{\"aaxis\": {\"endlinecolor\": \"#2a3f5f\", \"gridcolor\": \"white\", \"linecolor\": \"white\", \"minorgridcolor\": \"white\", \"startlinecolor\": \"#2a3f5f\"}, \"baxis\": {\"endlinecolor\": \"#2a3f5f\", \"gridcolor\": \"white\", \"linecolor\": \"white\", \"minorgridcolor\": \"white\", \"startlinecolor\": \"#2a3f5f\"}, \"type\": \"carpet\"}], \"choropleth\": [{\"colorbar\": {\"outlinewidth\": 0, \"ticks\": \"\"}, \"type\": \"choropleth\"}], \"contour\": [{\"colorbar\": {\"outlinewidth\": 0, \"ticks\": \"\"}, \"colorscale\": [[0.0, \"#0d0887\"], [0.1111111111111111, \"#46039f\"], [0.2222222222222222, \"#7201a8\"], [0.3333333333333333, \"#9c179e\"], [0.4444444444444444, \"#bd3786\"], [0.5555555555555556, \"#d8576b\"], [0.6666666666666666, \"#ed7953\"], [0.7777777777777778, \"#fb9f3a\"], [0.8888888888888888, \"#fdca26\"], [1.0, \"#f0f921\"]], \"type\": \"contour\"}], \"contourcarpet\": [{\"colorbar\": {\"outlinewidth\": 0, \"ticks\": \"\"}, \"type\": \"contourcarpet\"}], \"heatmap\": [{\"colorbar\": {\"outlinewidth\": 0, \"ticks\": \"\"}, \"colorscale\": [[0.0, \"#0d0887\"], [0.1111111111111111, \"#46039f\"], [0.2222222222222222, \"#7201a8\"], [0.3333333333333333, \"#9c179e\"], [0.4444444444444444, \"#bd3786\"], [0.5555555555555556, \"#d8576b\"], [0.6666666666666666, \"#ed7953\"], [0.7777777777777778, \"#fb9f3a\"], [0.8888888888888888, \"#fdca26\"], [1.0, \"#f0f921\"]], \"type\": \"heatmap\"}], \"heatmapgl\": [{\"colorbar\": {\"outlinewidth\": 0, \"ticks\": \"\"}, \"colorscale\": [[0.0, \"#0d0887\"], [0.1111111111111111, \"#46039f\"], [0.2222222222222222, \"#7201a8\"], [0.3333333333333333, \"#9c179e\"], [0.4444444444444444, \"#bd3786\"], [0.5555555555555556, \"#d8576b\"], [0.6666666666666666, \"#ed7953\"], [0.7777777777777778, \"#fb9f3a\"], [0.8888888888888888, \"#fdca26\"], [1.0, \"#f0f921\"]], \"type\": \"heatmapgl\"}], \"histogram\": [{\"marker\": {\"colorbar\": {\"outlinewidth\": 0, \"ticks\": \"\"}}, \"type\": \"histogram\"}], \"histogram2d\": [{\"colorbar\": {\"outlinewidth\": 0, \"ticks\": \"\"}, \"colorscale\": [[0.0, \"#0d0887\"], [0.1111111111111111, \"#46039f\"], [0.2222222222222222, \"#7201a8\"], [0.3333333333333333, \"#9c179e\"], [0.4444444444444444, \"#bd3786\"], [0.5555555555555556, \"#d8576b\"], [0.6666666666666666, \"#ed7953\"], [0.7777777777777778, \"#fb9f3a\"], [0.8888888888888888, \"#fdca26\"], [1.0, \"#f0f921\"]], \"type\": \"histogram2d\"}], \"histogram2dcontour\": [{\"colorbar\": {\"outlinewidth\": 0, \"ticks\": \"\"}, \"colorscale\": [[0.0, \"#0d0887\"], [0.1111111111111111, \"#46039f\"], [0.2222222222222222, \"#7201a8\"], [0.3333333333333333, \"#9c179e\"], [0.4444444444444444, \"#bd3786\"], [0.5555555555555556, \"#d8576b\"], [0.6666666666666666, \"#ed7953\"], [0.7777777777777778, \"#fb9f3a\"], [0.8888888888888888, \"#fdca26\"], [1.0, \"#f0f921\"]], \"type\": \"histogram2dcontour\"}], \"mesh3d\": [{\"colorbar\": {\"outlinewidth\": 0, \"ticks\": \"\"}, \"type\": \"mesh3d\"}], \"parcoords\": [{\"line\": {\"colorbar\": {\"outlinewidth\": 0, \"ticks\": \"\"}}, \"type\": \"parcoords\"}], \"pie\": [{\"automargin\": true, \"type\": \"pie\"}], \"scatter\": [{\"marker\": {\"colorbar\": {\"outlinewidth\": 0, \"ticks\": \"\"}}, \"type\": \"scatter\"}], \"scatter3d\": [{\"line\": {\"colorbar\": {\"outlinewidth\": 0, \"ticks\": \"\"}}, \"marker\": {\"colorbar\": {\"outlinewidth\": 0, \"ticks\": \"\"}}, \"type\": \"scatter3d\"}], \"scattercarpet\": [{\"marker\": {\"colorbar\": {\"outlinewidth\": 0, \"ticks\": \"\"}}, \"type\": \"scattercarpet\"}], \"scattergeo\": [{\"marker\": {\"colorbar\": {\"outlinewidth\": 0, \"ticks\": \"\"}}, \"type\": \"scattergeo\"}], \"scattergl\": [{\"marker\": {\"colorbar\": {\"outlinewidth\": 0, \"ticks\": \"\"}}, \"type\": \"scattergl\"}], \"scattermapbox\": [{\"marker\": {\"colorbar\": {\"outlinewidth\": 0, \"ticks\": \"\"}}, \"type\": \"scattermapbox\"}], \"scatterpolar\": [{\"marker\": {\"colorbar\": {\"outlinewidth\": 0, \"ticks\": \"\"}}, \"type\": \"scatterpolar\"}], \"scatterpolargl\": [{\"marker\": {\"colorbar\": {\"outlinewidth\": 0, \"ticks\": \"\"}}, \"type\": \"scatterpolargl\"}], \"scatterternary\": [{\"marker\": {\"colorbar\": {\"outlinewidth\": 0, \"ticks\": \"\"}}, \"type\": \"scatterternary\"}], \"surface\": [{\"colorbar\": {\"outlinewidth\": 0, \"ticks\": \"\"}, \"colorscale\": [[0.0, \"#0d0887\"], [0.1111111111111111, \"#46039f\"], [0.2222222222222222, \"#7201a8\"], [0.3333333333333333, \"#9c179e\"], [0.4444444444444444, \"#bd3786\"], [0.5555555555555556, \"#d8576b\"], [0.6666666666666666, \"#ed7953\"], [0.7777777777777778, \"#fb9f3a\"], [0.8888888888888888, \"#fdca26\"], [1.0, \"#f0f921\"]], \"type\": \"surface\"}], \"table\": [{\"cells\": {\"fill\": {\"color\": \"#EBF0F8\"}, \"line\": {\"color\": \"white\"}}, \"header\": {\"fill\": {\"color\": \"#C8D4E3\"}, \"line\": {\"color\": \"white\"}}, \"type\": \"table\"}]}, \"layout\": {\"annotationdefaults\": {\"arrowcolor\": \"#2a3f5f\", \"arrowhead\": 0, \"arrowwidth\": 1}, \"coloraxis\": {\"colorbar\": {\"outlinewidth\": 0, \"ticks\": \"\"}}, \"colorscale\": {\"diverging\": [[0, \"#8e0152\"], [0.1, \"#c51b7d\"], [0.2, \"#de77ae\"], [0.3, \"#f1b6da\"], [0.4, \"#fde0ef\"], [0.5, \"#f7f7f7\"], [0.6, \"#e6f5d0\"], [0.7, \"#b8e186\"], [0.8, \"#7fbc41\"], [0.9, \"#4d9221\"], [1, \"#276419\"]], \"sequential\": [[0.0, \"#0d0887\"], [0.1111111111111111, \"#46039f\"], [0.2222222222222222, \"#7201a8\"], [0.3333333333333333, \"#9c179e\"], [0.4444444444444444, \"#bd3786\"], [0.5555555555555556, \"#d8576b\"], [0.6666666666666666, \"#ed7953\"], [0.7777777777777778, \"#fb9f3a\"], [0.8888888888888888, \"#fdca26\"], [1.0, \"#f0f921\"]], \"sequentialminus\": [[0.0, \"#0d0887\"], [0.1111111111111111, \"#46039f\"], [0.2222222222222222, \"#7201a8\"], [0.3333333333333333, \"#9c179e\"], [0.4444444444444444, \"#bd3786\"], [0.5555555555555556, \"#d8576b\"], [0.6666666666666666, \"#ed7953\"], [0.7777777777777778, \"#fb9f3a\"], [0.8888888888888888, \"#fdca26\"], [1.0, \"#f0f921\"]]}, \"colorway\": [\"#636efa\", \"#EF553B\", \"#00cc96\", \"#ab63fa\", \"#FFA15A\", \"#19d3f3\", \"#FF6692\", \"#B6E880\", \"#FF97FF\", \"#FECB52\"], \"font\": {\"color\": \"#2a3f5f\"}, \"geo\": {\"bgcolor\": \"white\", \"lakecolor\": \"white\", \"landcolor\": \"#E5ECF6\", \"showlakes\": true, \"showland\": true, \"subunitcolor\": \"white\"}, \"hoverlabel\": {\"align\": \"left\"}, \"hovermode\": \"closest\", \"mapbox\": {\"style\": \"light\"}, \"paper_bgcolor\": \"white\", \"plot_bgcolor\": \"#E5ECF6\", \"polar\": {\"angularaxis\": {\"gridcolor\": \"white\", \"linecolor\": \"white\", \"ticks\": \"\"}, \"bgcolor\": \"#E5ECF6\", \"radialaxis\": {\"gridcolor\": \"white\", \"linecolor\": \"white\", \"ticks\": \"\"}}, \"scene\": {\"xaxis\": {\"backgroundcolor\": \"#E5ECF6\", \"gridcolor\": \"white\", \"gridwidth\": 2, \"linecolor\": \"white\", \"showbackground\": true, \"ticks\": \"\", \"zerolinecolor\": \"white\"}, \"yaxis\": {\"backgroundcolor\": \"#E5ECF6\", \"gridcolor\": \"white\", \"gridwidth\": 2, \"linecolor\": \"white\", \"showbackground\": true, \"ticks\": \"\", \"zerolinecolor\": \"white\"}, \"zaxis\": {\"backgroundcolor\": \"#E5ECF6\", \"gridcolor\": \"white\", \"gridwidth\": 2, \"linecolor\": \"white\", \"showbackground\": true, \"ticks\": \"\", \"zerolinecolor\": \"white\"}}, \"shapedefaults\": {\"line\": {\"color\": \"#2a3f5f\"}}, \"ternary\": {\"aaxis\": {\"gridcolor\": \"white\", \"linecolor\": \"white\", \"ticks\": \"\"}, \"baxis\": {\"gridcolor\": \"white\", \"linecolor\": \"white\", \"ticks\": \"\"}, \"bgcolor\": \"#E5ECF6\", \"caxis\": {\"gridcolor\": \"white\", \"linecolor\": \"white\", \"ticks\": \"\"}}, \"title\": {\"x\": 0.05}, \"xaxis\": {\"automargin\": true, \"gridcolor\": \"white\", \"linecolor\": \"white\", \"ticks\": \"\", \"title\": {\"standoff\": 15}, \"zerolinecolor\": \"white\", \"zerolinewidth\": 2}, \"yaxis\": {\"automargin\": true, \"gridcolor\": \"white\", \"linecolor\": \"white\", \"ticks\": \"\", \"title\": {\"standoff\": 15}, \"zerolinecolor\": \"white\", \"zerolinewidth\": 2}}}, \"xaxis\": {\"anchor\": \"y\", \"domain\": [0.0, 1.0], \"title\": {\"text\": \"RAD\"}}, \"yaxis\": {\"anchor\": \"x\", \"domain\": [0.0, 1.0], \"title\": {\"text\": \"CRIM\"}}},\n",
              "                        {\"responsive\": true}\n",
              "                    ).then(function(){\n",
              "                            \n",
              "var gd = document.getElementById('92602331-bb75-4cfd-bb99-a1efacfbe815');\n",
              "var x = new MutationObserver(function (mutations, observer) {{\n",
              "        var display = window.getComputedStyle(gd).display;\n",
              "        if (!display || display === 'none') {{\n",
              "            console.log([gd, 'removed!']);\n",
              "            Plotly.purge(gd);\n",
              "            observer.disconnect();\n",
              "        }}\n",
              "}});\n",
              "\n",
              "// Listen for the removal of the full notebook cells\n",
              "var notebookContainer = gd.closest('#notebook-container');\n",
              "if (notebookContainer) {{\n",
              "    x.observe(notebookContainer, {childList: true});\n",
              "}}\n",
              "\n",
              "// Listen for the clearing of the current output cell\n",
              "var outputEl = gd.closest('.output');\n",
              "if (outputEl) {{\n",
              "    x.observe(outputEl, {childList: true});\n",
              "}}\n",
              "\n",
              "                        })\n",
              "                };\n",
              "                \n",
              "            </script>\n",
              "        </div>\n",
              "</body>\n",
              "</html>"
            ]
          },
          "metadata": {
            "tags": []
          }
        }
      ]
    },
    {
      "cell_type": "markdown",
      "metadata": {
        "id": "dvRCIPiB-lOa"
      },
      "source": [
        "一方、`CRIM`と負の相関が強い属性に、物件の価格である`PRICE`があることが分かります。\n",
        "\n",
        "### 演習11-3\n",
        "散布図を作成して、`CRIM`と`PRICE`の間にふの相関があることを確認せよ。"
      ]
    },
    {
      "cell_type": "code",
      "metadata": {
        "colab": {
          "base_uri": "https://localhost:8080/",
          "height": 542
        },
        "id": "mQa4DPKz-lOa",
        "outputId": "c4b5c71d-b443-40c2-a22b-10bc436725d1"
      },
      "source": [
        "px.scatter(boston, x='PRICE', y='CRIM')"
      ],
      "execution_count": null,
      "outputs": [
        {
          "output_type": "display_data",
          "data": {
            "text/html": [
              "<html>\n",
              "<head><meta charset=\"utf-8\" /></head>\n",
              "<body>\n",
              "    <div>\n",
              "            <script src=\"https://cdnjs.cloudflare.com/ajax/libs/mathjax/2.7.5/MathJax.js?config=TeX-AMS-MML_SVG\"></script><script type=\"text/javascript\">if (window.MathJax) {MathJax.Hub.Config({SVG: {font: \"STIX-Web\"}});}</script>\n",
              "                <script type=\"text/javascript\">window.PlotlyConfig = {MathJaxConfig: 'local'};</script>\n",
              "        <script src=\"https://cdn.plot.ly/plotly-latest.min.js\"></script>    \n",
              "            <div id=\"4b8e5c14-e4ee-4bbc-90d3-29ae2ee77b0f\" class=\"plotly-graph-div\" style=\"height:525px; width:100%;\"></div>\n",
              "            <script type=\"text/javascript\">\n",
              "                \n",
              "                    window.PLOTLYENV=window.PLOTLYENV || {};\n",
              "                    \n",
              "                if (document.getElementById(\"4b8e5c14-e4ee-4bbc-90d3-29ae2ee77b0f\")) {\n",
              "                    Plotly.newPlot(\n",
              "                        '4b8e5c14-e4ee-4bbc-90d3-29ae2ee77b0f',\n",
              "                        [{\"hoverlabel\": {\"namelength\": 0}, \"hovertemplate\": \"PRICE=%{x}<br>CRIM=%{y}\", \"legendgroup\": \"\", \"marker\": {\"color\": \"#636efa\", \"symbol\": \"circle\"}, \"mode\": \"markers\", \"name\": \"\", \"showlegend\": false, \"type\": \"scatter\", \"x\": [24.0, 21.6, 34.7, 33.4, 36.2, 28.7, 22.9, 27.1, 16.5, 18.9, 15.0, 18.9, 21.7, 20.4, 18.2, 19.9, 23.1, 17.5, 20.2, 18.2, 13.6, 19.6, 15.2, 14.5, 15.6, 13.9, 16.6, 14.8, 18.4, 21.0, 12.7, 14.5, 13.2, 13.1, 13.5, 18.9, 20.0, 21.0, 24.7, 30.8, 34.9, 26.6, 25.3, 24.7, 21.2, 19.3, 20.0, 16.6, 14.4, 19.4, 19.7, 20.5, 25.0, 23.4, 18.9, 35.4, 24.7, 31.6, 23.3, 19.6, 18.7, 16.0, 22.2, 25.0, 33.0, 23.5, 19.4, 22.0, 17.4, 20.9, 24.2, 21.7, 22.8, 23.4, 24.1, 21.4, 20.0, 20.8, 21.2, 20.3, 28.0, 23.9, 24.8, 22.9, 23.9, 26.6, 22.5, 22.2, 23.6, 28.7, 22.6, 22.0, 22.9, 25.0, 20.6, 28.4, 21.4, 38.7, 43.8, 33.2, 27.5, 26.5, 18.6, 19.3, 20.1, 19.5, 19.5, 20.4, 19.8, 19.4, 21.7, 22.8, 18.8, 18.7, 18.5, 18.3, 21.2, 19.2, 20.4, 19.3, 22.0, 20.3, 20.5, 17.3, 18.8, 21.4, 15.7, 16.2, 18.0, 14.3, 19.2, 19.6, 23.0, 18.4, 15.6, 18.1, 17.4, 17.1, 13.3, 17.8, 14.0, 14.4, 13.4, 15.6, 11.8, 13.8, 15.6, 14.6, 17.8, 15.4, 21.5, 19.6, 15.3, 19.4, 17.0, 15.6, 13.1, 41.3, 24.3, 23.3, 27.0, 50.0, 50.0, 50.0, 22.7, 25.0, 50.0, 23.8, 23.8, 22.3, 17.4, 19.1, 23.1, 23.6, 22.6, 29.4, 23.2, 24.6, 29.9, 37.2, 39.8, 36.2, 37.9, 32.5, 26.4, 29.6, 50.0, 32.0, 29.8, 34.9, 37.0, 30.5, 36.4, 31.1, 29.1, 50.0, 33.3, 30.3, 34.6, 34.9, 32.9, 24.1, 42.3, 48.5, 50.0, 22.6, 24.4, 22.5, 24.4, 20.0, 21.7, 19.3, 22.4, 28.1, 23.7, 25.0, 23.3, 28.7, 21.5, 23.0, 26.7, 21.7, 27.5, 30.1, 44.8, 50.0, 37.6, 31.6, 46.7, 31.5, 24.3, 31.7, 41.7, 48.3, 29.0, 24.0, 25.1, 31.5, 23.7, 23.3, 22.0, 20.1, 22.2, 23.7, 17.6, 18.5, 24.3, 20.5, 24.5, 26.2, 24.4, 24.8, 29.6, 42.8, 21.9, 20.9, 44.0, 50.0, 36.0, 30.1, 33.8, 43.1, 48.8, 31.0, 36.5, 22.8, 30.7, 50.0, 43.5, 20.7, 21.1, 25.2, 24.4, 35.2, 32.4, 32.0, 33.2, 33.1, 29.1, 35.1, 45.4, 35.4, 46.0, 50.0, 32.2, 22.0, 20.1, 23.2, 22.3, 24.8, 28.5, 37.3, 27.9, 23.9, 21.7, 28.6, 27.1, 20.3, 22.5, 29.0, 24.8, 22.0, 26.4, 33.1, 36.1, 28.4, 33.4, 28.2, 22.8, 20.3, 16.1, 22.1, 19.4, 21.6, 23.8, 16.2, 17.8, 19.8, 23.1, 21.0, 23.8, 23.1, 20.4, 18.5, 25.0, 24.6, 23.0, 22.2, 19.3, 22.6, 19.8, 17.1, 19.4, 22.2, 20.7, 21.1, 19.5, 18.5, 20.6, 19.0, 18.7, 32.7, 16.5, 23.9, 31.2, 17.5, 17.2, 23.1, 24.5, 26.6, 22.9, 24.1, 18.6, 30.1, 18.2, 20.6, 17.8, 21.7, 22.7, 22.6, 25.0, 19.9, 20.8, 16.8, 21.9, 27.5, 21.9, 23.1, 50.0, 50.0, 50.0, 50.0, 50.0, 13.8, 13.8, 15.0, 13.9, 13.3, 13.1, 10.2, 10.4, 10.9, 11.3, 12.3, 8.8, 7.2, 10.5, 7.4, 10.2, 11.5, 15.1, 23.2, 9.7, 13.8, 12.7, 13.1, 12.5, 8.5, 5.0, 6.3, 5.6, 7.2, 12.1, 8.3, 8.5, 5.0, 11.9, 27.9, 17.2, 27.5, 15.0, 17.2, 17.9, 16.3, 7.0, 7.2, 7.5, 10.4, 8.8, 8.4, 16.7, 14.2, 20.8, 13.4, 11.7, 8.3, 10.2, 10.9, 11.0, 9.5, 14.5, 14.1, 16.1, 14.3, 11.7, 13.4, 9.6, 8.7, 8.4, 12.8, 10.5, 17.1, 18.4, 15.4, 10.8, 11.8, 14.9, 12.6, 14.1, 13.0, 13.4, 15.2, 16.1, 17.8, 14.9, 14.1, 12.7, 13.5, 14.9, 20.0, 16.4, 17.7, 19.5, 20.2, 21.4, 19.9, 19.0, 19.1, 19.1, 20.1, 19.9, 19.6, 23.2, 29.8, 13.8, 13.3, 16.7, 12.0, 14.6, 21.4, 23.0, 23.7, 25.0, 21.8, 20.6, 21.2, 19.1, 20.6, 15.2, 7.0, 8.1, 13.6, 20.1, 21.8, 24.5, 23.1, 19.7, 18.3, 21.2, 17.5, 16.8, 22.4, 20.6, 23.9, 22.0, 11.9], \"xaxis\": \"x\", \"y\": [0.00632, 0.02731, 0.02729, 0.03237, 0.06905, 0.02985, 0.08829, 0.14455, 0.21124, 0.17004, 0.22489, 0.11747, 0.09378, 0.62976, 0.63796, 0.62739, 1.05393, 0.7842, 0.80271, 0.7258, 1.25179, 0.85204, 1.23247, 0.98843, 0.75026, 0.84054, 0.67191, 0.95577, 0.77299, 1.00245, 1.13081, 1.35472, 1.38799, 1.15172, 1.61282, 0.06417, 0.09744, 0.08014, 0.17505, 0.02763, 0.03359, 0.12744, 0.1415, 0.15936, 0.12269, 0.17142, 0.18836, 0.22927, 0.25387, 0.21977, 0.08873, 0.04337, 0.0536, 0.04981, 0.0136, 0.01311, 0.02055, 0.01432, 0.15445, 0.10328, 0.14932, 0.17171, 0.11027, 0.1265, 0.01951, 0.03584, 0.04379, 0.05789, 0.13554, 0.12816, 0.08826, 0.15876, 0.09164, 0.19539, 0.07896, 0.09512, 0.10153, 0.08707, 0.05646, 0.08387, 0.04113, 0.04462, 0.03659, 0.03551, 0.05059, 0.05735, 0.05188, 0.07151, 0.0566, 0.05302, 0.04684, 0.03932, 0.04203, 0.02875, 0.04294, 0.12204, 0.11504, 0.12083, 0.08187, 0.0686, 0.14866, 0.11432, 0.22876, 0.21161, 0.1396, 0.13262, 0.1712, 0.13117, 0.12802, 0.26363, 0.10793, 0.10084, 0.12329, 0.22212, 0.14231, 0.17134, 0.13158, 0.15098, 0.13058, 0.14476, 0.06899, 0.07165, 0.09299, 0.15038, 0.09849, 0.16902, 0.38735, 0.25915, 0.32543, 0.88125, 0.34006, 1.19294, 0.59005, 0.32982, 0.97617, 0.55778, 0.32264, 0.35233, 0.2498, 0.54452, 0.2909, 1.62864, 3.32105, 4.0974, 2.77974, 2.37934, 2.15505, 2.36862, 2.33099, 2.73397, 1.6566, 1.49632, 1.12658, 2.14918, 1.41385, 3.53501, 2.44668, 1.22358, 1.34284, 1.42502, 1.27346, 1.46336, 1.83377, 1.51902, 2.24236, 2.924, 2.01019, 1.80028, 2.3004, 2.44953, 1.20742, 2.3139, 0.13914, 0.09178, 0.08447, 0.06664, 0.07022, 0.05425, 0.06642, 0.0578, 0.06588, 0.06888, 0.09103, 0.10008, 0.08308, 0.06047, 0.05602, 0.07875, 0.12579, 0.0837, 0.09068, 0.06911, 0.08664, 0.02187, 0.01439, 0.01381, 0.04011, 0.04666, 0.03768, 0.0315, 0.01778, 0.03445, 0.02177, 0.0351, 0.02009, 0.13642, 0.22969, 0.25199, 0.13587, 0.43571, 0.17446, 0.37578, 0.21719, 0.14052, 0.28955, 0.19802, 0.0456, 0.07013, 0.11069, 0.11425, 0.35809, 0.40771, 0.62356, 0.6147, 0.31533, 0.52693, 0.38214, 0.41238, 0.29819, 0.44178, 0.537, 0.46296, 0.57529, 0.33147, 0.44791, 0.33045, 0.52058, 0.51183, 0.08244, 0.09252, 0.11329, 0.10612, 0.1029, 0.12757, 0.20608, 0.19133, 0.33983, 0.19657, 0.16439, 0.19073, 0.1403, 0.21409, 0.08221, 0.36894, 0.04819, 0.03548, 0.01538, 0.61154, 0.66351, 0.65665, 0.54011, 0.53412, 0.52014, 0.82526, 0.55007, 0.76162, 0.7857, 0.57834, 0.5405, 0.09065, 0.29916, 0.16211, 0.1146, 0.22188, 0.05644, 0.09604, 0.10469, 0.06127, 0.07978, 0.21038, 0.03578, 0.03705, 0.06129, 0.01501, 0.00906, 0.01096, 0.01965, 0.03871, 0.0459, 0.04297, 0.03502, 0.07886, 0.03615, 0.08265, 0.08199, 0.12932, 0.05372, 0.14103, 0.06466, 0.05561, 0.04417, 0.03537, 0.09266, 0.1, 0.05515, 0.05479, 0.07503, 0.04932, 0.49298, 0.3494, 2.63548, 0.79041, 0.26169, 0.26938, 0.3692, 0.25356, 0.31827, 0.24522, 0.40202, 0.47547, 0.1676, 0.18159, 0.35114, 0.28392, 0.34109, 0.19186, 0.30347, 0.24103, 0.06617, 0.06724, 0.04544, 0.05023, 0.03466, 0.05083, 0.03738, 0.03961, 0.03427, 0.03041, 0.03306, 0.05497, 0.06151, 0.01301, 0.02498, 0.02543, 0.03049, 0.03113, 0.06162, 0.0187, 0.01501, 0.02899, 0.06211, 0.0795, 0.07244, 0.01709, 0.04301, 0.10659, 8.98296, 3.8497, 5.20177, 4.26131, 4.54192, 3.83684, 3.67822, 4.22239, 3.47428, 4.55587, 3.69695, 13.5222, 4.89822, 5.66998, 6.53876, 9.2323, 8.26725, 11.1081, 18.4982, 19.6091, 15.288, 9.82349, 23.6482, 17.8667, 88.9762, 15.8744, 9.18702, 7.99248, 20.0849, 16.8118, 24.3938, 22.5971, 14.3337, 8.15174, 6.96215, 5.29305, 11.5779, 8.64476, 13.3598, 8.71675, 5.87205, 7.67202, 38.3518, 9.91655, 25.0461, 14.2362, 9.59571, 24.8017, 41.5292, 67.9208, 20.7162, 11.9511, 7.40389, 14.4383, 51.1358, 14.0507, 18.811, 28.6558, 45.7461, 18.0846, 10.8342, 25.9406, 73.5341, 11.8123, 11.0874, 7.02259, 12.0482, 7.05042, 8.79212, 15.8603, 12.2472, 37.6619, 7.36711, 9.33889, 8.49213, 10.0623, 6.44405, 5.58107, 13.9134, 11.1604, 14.4208, 15.1772, 13.6781, 9.39063, 22.0511, 9.72418, 5.66637, 9.96654, 12.8023, 10.6718, 6.28807, 9.92485, 9.32909, 7.52601, 6.71772, 5.44114, 5.09017, 8.24809, 9.51363, 4.75237, 4.66883, 8.20058, 7.75223, 6.80117, 4.81213, 3.69311, 6.65492, 5.82115, 7.83932, 3.1636, 3.77498, 4.42228, 15.5757, 13.0751, 4.34879, 4.03841, 3.56868, 4.64689, 8.05579, 6.39312, 4.87141, 15.0234, 10.233, 14.3337, 5.82401, 5.70818, 5.73116, 2.81838, 2.37857, 3.67367, 5.69175, 4.83567, 0.15086, 0.18337, 0.20746, 0.10574, 0.11132, 0.17331, 0.27957, 0.17899, 0.2896, 0.26838, 0.23912, 0.17783, 0.22438, 0.06263, 0.04527, 0.06076, 0.10959, 0.04741], \"yaxis\": \"y\"}],\n",
              "                        {\"legend\": {\"tracegroupgap\": 0}, \"margin\": {\"t\": 60}, \"template\": {\"data\": {\"bar\": [{\"error_x\": {\"color\": \"#2a3f5f\"}, \"error_y\": {\"color\": \"#2a3f5f\"}, \"marker\": {\"line\": {\"color\": \"#E5ECF6\", \"width\": 0.5}}, \"type\": \"bar\"}], \"barpolar\": [{\"marker\": {\"line\": {\"color\": \"#E5ECF6\", \"width\": 0.5}}, \"type\": \"barpolar\"}], \"carpet\": [{\"aaxis\": {\"endlinecolor\": \"#2a3f5f\", \"gridcolor\": \"white\", \"linecolor\": \"white\", \"minorgridcolor\": \"white\", \"startlinecolor\": \"#2a3f5f\"}, \"baxis\": {\"endlinecolor\": \"#2a3f5f\", \"gridcolor\": \"white\", \"linecolor\": \"white\", \"minorgridcolor\": \"white\", \"startlinecolor\": \"#2a3f5f\"}, \"type\": \"carpet\"}], \"choropleth\": [{\"colorbar\": {\"outlinewidth\": 0, \"ticks\": \"\"}, \"type\": \"choropleth\"}], \"contour\": [{\"colorbar\": {\"outlinewidth\": 0, \"ticks\": \"\"}, \"colorscale\": [[0.0, \"#0d0887\"], [0.1111111111111111, \"#46039f\"], [0.2222222222222222, \"#7201a8\"], [0.3333333333333333, \"#9c179e\"], [0.4444444444444444, \"#bd3786\"], [0.5555555555555556, \"#d8576b\"], [0.6666666666666666, \"#ed7953\"], [0.7777777777777778, \"#fb9f3a\"], [0.8888888888888888, \"#fdca26\"], [1.0, \"#f0f921\"]], \"type\": \"contour\"}], \"contourcarpet\": [{\"colorbar\": {\"outlinewidth\": 0, \"ticks\": \"\"}, \"type\": \"contourcarpet\"}], \"heatmap\": [{\"colorbar\": {\"outlinewidth\": 0, \"ticks\": \"\"}, \"colorscale\": [[0.0, \"#0d0887\"], [0.1111111111111111, \"#46039f\"], [0.2222222222222222, \"#7201a8\"], [0.3333333333333333, \"#9c179e\"], [0.4444444444444444, \"#bd3786\"], [0.5555555555555556, \"#d8576b\"], [0.6666666666666666, \"#ed7953\"], [0.7777777777777778, \"#fb9f3a\"], [0.8888888888888888, \"#fdca26\"], [1.0, \"#f0f921\"]], \"type\": \"heatmap\"}], \"heatmapgl\": [{\"colorbar\": {\"outlinewidth\": 0, \"ticks\": \"\"}, \"colorscale\": [[0.0, \"#0d0887\"], [0.1111111111111111, \"#46039f\"], [0.2222222222222222, \"#7201a8\"], [0.3333333333333333, \"#9c179e\"], [0.4444444444444444, \"#bd3786\"], [0.5555555555555556, \"#d8576b\"], [0.6666666666666666, \"#ed7953\"], [0.7777777777777778, \"#fb9f3a\"], [0.8888888888888888, \"#fdca26\"], [1.0, \"#f0f921\"]], \"type\": \"heatmapgl\"}], \"histogram\": [{\"marker\": {\"colorbar\": {\"outlinewidth\": 0, \"ticks\": \"\"}}, \"type\": \"histogram\"}], \"histogram2d\": [{\"colorbar\": {\"outlinewidth\": 0, \"ticks\": \"\"}, \"colorscale\": [[0.0, \"#0d0887\"], [0.1111111111111111, \"#46039f\"], [0.2222222222222222, \"#7201a8\"], [0.3333333333333333, \"#9c179e\"], [0.4444444444444444, \"#bd3786\"], [0.5555555555555556, \"#d8576b\"], [0.6666666666666666, \"#ed7953\"], [0.7777777777777778, \"#fb9f3a\"], [0.8888888888888888, \"#fdca26\"], [1.0, \"#f0f921\"]], \"type\": \"histogram2d\"}], \"histogram2dcontour\": [{\"colorbar\": {\"outlinewidth\": 0, \"ticks\": \"\"}, \"colorscale\": [[0.0, \"#0d0887\"], [0.1111111111111111, \"#46039f\"], [0.2222222222222222, \"#7201a8\"], [0.3333333333333333, \"#9c179e\"], [0.4444444444444444, \"#bd3786\"], [0.5555555555555556, \"#d8576b\"], [0.6666666666666666, \"#ed7953\"], [0.7777777777777778, \"#fb9f3a\"], [0.8888888888888888, \"#fdca26\"], [1.0, \"#f0f921\"]], \"type\": \"histogram2dcontour\"}], \"mesh3d\": [{\"colorbar\": {\"outlinewidth\": 0, \"ticks\": \"\"}, \"type\": \"mesh3d\"}], \"parcoords\": [{\"line\": {\"colorbar\": {\"outlinewidth\": 0, \"ticks\": \"\"}}, \"type\": \"parcoords\"}], \"pie\": [{\"automargin\": true, \"type\": \"pie\"}], \"scatter\": [{\"marker\": {\"colorbar\": {\"outlinewidth\": 0, \"ticks\": \"\"}}, \"type\": \"scatter\"}], \"scatter3d\": [{\"line\": {\"colorbar\": {\"outlinewidth\": 0, \"ticks\": \"\"}}, \"marker\": {\"colorbar\": {\"outlinewidth\": 0, \"ticks\": \"\"}}, \"type\": \"scatter3d\"}], \"scattercarpet\": [{\"marker\": {\"colorbar\": {\"outlinewidth\": 0, \"ticks\": \"\"}}, \"type\": \"scattercarpet\"}], \"scattergeo\": [{\"marker\": {\"colorbar\": {\"outlinewidth\": 0, \"ticks\": \"\"}}, \"type\": \"scattergeo\"}], \"scattergl\": [{\"marker\": {\"colorbar\": {\"outlinewidth\": 0, \"ticks\": \"\"}}, \"type\": \"scattergl\"}], \"scattermapbox\": [{\"marker\": {\"colorbar\": {\"outlinewidth\": 0, \"ticks\": \"\"}}, \"type\": \"scattermapbox\"}], \"scatterpolar\": [{\"marker\": {\"colorbar\": {\"outlinewidth\": 0, \"ticks\": \"\"}}, \"type\": \"scatterpolar\"}], \"scatterpolargl\": [{\"marker\": {\"colorbar\": {\"outlinewidth\": 0, \"ticks\": \"\"}}, \"type\": \"scatterpolargl\"}], \"scatterternary\": [{\"marker\": {\"colorbar\": {\"outlinewidth\": 0, \"ticks\": \"\"}}, \"type\": \"scatterternary\"}], \"surface\": [{\"colorbar\": {\"outlinewidth\": 0, \"ticks\": \"\"}, \"colorscale\": [[0.0, \"#0d0887\"], [0.1111111111111111, \"#46039f\"], [0.2222222222222222, \"#7201a8\"], [0.3333333333333333, \"#9c179e\"], [0.4444444444444444, \"#bd3786\"], [0.5555555555555556, \"#d8576b\"], [0.6666666666666666, \"#ed7953\"], [0.7777777777777778, \"#fb9f3a\"], [0.8888888888888888, \"#fdca26\"], [1.0, \"#f0f921\"]], \"type\": \"surface\"}], \"table\": [{\"cells\": {\"fill\": {\"color\": \"#EBF0F8\"}, \"line\": {\"color\": \"white\"}}, \"header\": {\"fill\": {\"color\": \"#C8D4E3\"}, \"line\": {\"color\": \"white\"}}, \"type\": \"table\"}]}, \"layout\": {\"annotationdefaults\": {\"arrowcolor\": \"#2a3f5f\", \"arrowhead\": 0, \"arrowwidth\": 1}, \"coloraxis\": {\"colorbar\": {\"outlinewidth\": 0, \"ticks\": \"\"}}, \"colorscale\": {\"diverging\": [[0, \"#8e0152\"], [0.1, \"#c51b7d\"], [0.2, \"#de77ae\"], [0.3, \"#f1b6da\"], [0.4, \"#fde0ef\"], [0.5, \"#f7f7f7\"], [0.6, \"#e6f5d0\"], [0.7, \"#b8e186\"], [0.8, \"#7fbc41\"], [0.9, \"#4d9221\"], [1, \"#276419\"]], \"sequential\": [[0.0, \"#0d0887\"], [0.1111111111111111, \"#46039f\"], [0.2222222222222222, \"#7201a8\"], [0.3333333333333333, \"#9c179e\"], [0.4444444444444444, \"#bd3786\"], [0.5555555555555556, \"#d8576b\"], [0.6666666666666666, \"#ed7953\"], [0.7777777777777778, \"#fb9f3a\"], [0.8888888888888888, \"#fdca26\"], [1.0, \"#f0f921\"]], \"sequentialminus\": [[0.0, \"#0d0887\"], [0.1111111111111111, \"#46039f\"], [0.2222222222222222, \"#7201a8\"], [0.3333333333333333, \"#9c179e\"], [0.4444444444444444, \"#bd3786\"], [0.5555555555555556, \"#d8576b\"], [0.6666666666666666, \"#ed7953\"], [0.7777777777777778, \"#fb9f3a\"], [0.8888888888888888, \"#fdca26\"], [1.0, \"#f0f921\"]]}, \"colorway\": [\"#636efa\", \"#EF553B\", \"#00cc96\", \"#ab63fa\", \"#FFA15A\", \"#19d3f3\", \"#FF6692\", \"#B6E880\", \"#FF97FF\", \"#FECB52\"], \"font\": {\"color\": \"#2a3f5f\"}, \"geo\": {\"bgcolor\": \"white\", \"lakecolor\": \"white\", \"landcolor\": \"#E5ECF6\", \"showlakes\": true, \"showland\": true, \"subunitcolor\": \"white\"}, \"hoverlabel\": {\"align\": \"left\"}, \"hovermode\": \"closest\", \"mapbox\": {\"style\": \"light\"}, \"paper_bgcolor\": \"white\", \"plot_bgcolor\": \"#E5ECF6\", \"polar\": {\"angularaxis\": {\"gridcolor\": \"white\", \"linecolor\": \"white\", \"ticks\": \"\"}, \"bgcolor\": \"#E5ECF6\", \"radialaxis\": {\"gridcolor\": \"white\", \"linecolor\": \"white\", \"ticks\": \"\"}}, \"scene\": {\"xaxis\": {\"backgroundcolor\": \"#E5ECF6\", \"gridcolor\": \"white\", \"gridwidth\": 2, \"linecolor\": \"white\", \"showbackground\": true, \"ticks\": \"\", \"zerolinecolor\": \"white\"}, \"yaxis\": {\"backgroundcolor\": \"#E5ECF6\", \"gridcolor\": \"white\", \"gridwidth\": 2, \"linecolor\": \"white\", \"showbackground\": true, \"ticks\": \"\", \"zerolinecolor\": \"white\"}, \"zaxis\": {\"backgroundcolor\": \"#E5ECF6\", \"gridcolor\": \"white\", \"gridwidth\": 2, \"linecolor\": \"white\", \"showbackground\": true, \"ticks\": \"\", \"zerolinecolor\": \"white\"}}, \"shapedefaults\": {\"line\": {\"color\": \"#2a3f5f\"}}, \"ternary\": {\"aaxis\": {\"gridcolor\": \"white\", \"linecolor\": \"white\", \"ticks\": \"\"}, \"baxis\": {\"gridcolor\": \"white\", \"linecolor\": \"white\", \"ticks\": \"\"}, \"bgcolor\": \"#E5ECF6\", \"caxis\": {\"gridcolor\": \"white\", \"linecolor\": \"white\", \"ticks\": \"\"}}, \"title\": {\"x\": 0.05}, \"xaxis\": {\"automargin\": true, \"gridcolor\": \"white\", \"linecolor\": \"white\", \"ticks\": \"\", \"title\": {\"standoff\": 15}, \"zerolinecolor\": \"white\", \"zerolinewidth\": 2}, \"yaxis\": {\"automargin\": true, \"gridcolor\": \"white\", \"linecolor\": \"white\", \"ticks\": \"\", \"title\": {\"standoff\": 15}, \"zerolinecolor\": \"white\", \"zerolinewidth\": 2}}}, \"xaxis\": {\"anchor\": \"y\", \"domain\": [0.0, 1.0], \"title\": {\"text\": \"PRICE\"}}, \"yaxis\": {\"anchor\": \"x\", \"domain\": [0.0, 1.0], \"title\": {\"text\": \"CRIM\"}}},\n",
              "                        {\"responsive\": true}\n",
              "                    ).then(function(){\n",
              "                            \n",
              "var gd = document.getElementById('4b8e5c14-e4ee-4bbc-90d3-29ae2ee77b0f');\n",
              "var x = new MutationObserver(function (mutations, observer) {{\n",
              "        var display = window.getComputedStyle(gd).display;\n",
              "        if (!display || display === 'none') {{\n",
              "            console.log([gd, 'removed!']);\n",
              "            Plotly.purge(gd);\n",
              "            observer.disconnect();\n",
              "        }}\n",
              "}});\n",
              "\n",
              "// Listen for the removal of the full notebook cells\n",
              "var notebookContainer = gd.closest('#notebook-container');\n",
              "if (notebookContainer) {{\n",
              "    x.observe(notebookContainer, {childList: true});\n",
              "}}\n",
              "\n",
              "// Listen for the clearing of the current output cell\n",
              "var outputEl = gd.closest('.output');\n",
              "if (outputEl) {{\n",
              "    x.observe(outputEl, {childList: true});\n",
              "}}\n",
              "\n",
              "                        })\n",
              "                };\n",
              "                \n",
              "            </script>\n",
              "        </div>\n",
              "</body>\n",
              "</html>"
            ]
          },
          "metadata": {
            "tags": []
          }
        }
      ]
    },
    {
      "cell_type": "markdown",
      "metadata": {
        "id": "_l3wdeFM-lOb"
      },
      "source": [
        "ここまで、犯罪率`CRIM`との相関を、\n",
        "黒人の人口比率`B`、環状高速道路からの距離`RAD`、物件価格`PRICE`の3つの属性との間で調べました。\n",
        "そのために散布図を作成しましたが、これらの散布図を一つのグラフにまとめてみます。\n",
        "次のプログラムを実行すると、$x$軸を`PRICE`、$y$軸を`CRIM`とし、\n",
        "円の大きさで`RAD`を表し、円の色で`B`を表すグラフを描画することができます。\n",
        "\n",
        "```python\n",
        "px.scatter(boston, x='PRICE', y='CRIM', size='RAD', color='B')\n",
        "```"
      ]
    },
    {
      "cell_type": "code",
      "metadata": {
        "colab": {
          "base_uri": "https://localhost:8080/",
          "height": 542
        },
        "id": "fqqaIPir-lOb",
        "outputId": "2c072866-3a7b-4b14-da90-ff20273a6eed"
      },
      "source": [
        "px.scatter(boston, x='PRICE', y='CRIM', size='RAD', color='B')"
      ],
      "execution_count": null,
      "outputs": [
        {
          "output_type": "display_data",
          "data": {
            "text/html": [
              "<html>\n",
              "<head><meta charset=\"utf-8\" /></head>\n",
              "<body>\n",
              "    <div>\n",
              "            <script src=\"https://cdnjs.cloudflare.com/ajax/libs/mathjax/2.7.5/MathJax.js?config=TeX-AMS-MML_SVG\"></script><script type=\"text/javascript\">if (window.MathJax) {MathJax.Hub.Config({SVG: {font: \"STIX-Web\"}});}</script>\n",
              "                <script type=\"text/javascript\">window.PlotlyConfig = {MathJaxConfig: 'local'};</script>\n",
              "        <script src=\"https://cdn.plot.ly/plotly-latest.min.js\"></script>    \n",
              "            <div id=\"e2c8166a-343c-4bb6-a595-3d8fe27e640c\" class=\"plotly-graph-div\" style=\"height:525px; width:100%;\"></div>\n",
              "            <script type=\"text/javascript\">\n",
              "                \n",
              "                    window.PLOTLYENV=window.PLOTLYENV || {};\n",
              "                    \n",
              "                if (document.getElementById(\"e2c8166a-343c-4bb6-a595-3d8fe27e640c\")) {\n",
              "                    Plotly.newPlot(\n",
              "                        'e2c8166a-343c-4bb6-a595-3d8fe27e640c',\n",
              "                        [{\"hoverlabel\": {\"namelength\": 0}, \"hovertemplate\": \"PRICE=%{x}<br>CRIM=%{y}<br>RAD=%{marker.size}<br>B=%{marker.color}\", \"legendgroup\": \"\", \"marker\": {\"color\": [396.9, 396.9, 392.83, 394.63, 396.9, 394.12, 395.6, 396.9, 386.63, 386.71, 392.52, 396.9, 390.5, 396.9, 380.02, 395.62, 386.85, 386.75, 288.99, 390.95, 376.57, 392.53, 396.9, 394.54, 394.33, 303.42, 376.88, 306.38, 387.94, 380.23, 360.17, 376.73, 232.6, 358.77, 248.31, 396.9, 377.56, 396.9, 393.43, 395.63, 395.62, 385.41, 383.37, 394.46, 389.39, 396.9, 396.9, 392.74, 396.9, 396.9, 395.56, 393.97, 396.9, 396.9, 396.9, 395.93, 396.9, 392.9, 390.68, 396.9, 395.11, 378.08, 396.9, 395.58, 393.24, 396.9, 396.9, 396.21, 396.9, 396.9, 383.73, 376.94, 390.91, 377.17, 394.92, 383.23, 373.66, 386.96, 386.4, 396.06, 396.9, 395.63, 396.9, 390.64, 396.9, 392.3, 395.99, 395.15, 396.9, 396.06, 392.18, 393.55, 395.01, 396.33, 396.9, 357.98, 391.83, 396.9, 393.53, 396.9, 394.76, 395.58, 70.8, 394.47, 392.69, 394.05, 395.67, 387.69, 395.24, 391.23, 393.49, 395.59, 394.95, 396.9, 388.74, 344.91, 393.3, 394.51, 338.63, 391.5, 389.15, 377.67, 378.09, 370.31, 379.38, 385.02, 359.29, 392.11, 396.9, 396.9, 395.04, 396.9, 385.76, 388.69, 262.76, 394.67, 378.25, 394.08, 392.04, 396.9, 388.08, 396.9, 396.9, 396.9, 396.9, 172.91, 169.27, 391.71, 356.99, 351.85, 372.8, 341.6, 343.28, 261.95, 321.02, 88.01, 88.63, 363.43, 353.89, 364.31, 338.92, 374.43, 389.61, 388.45, 395.11, 240.16, 369.3, 227.61, 297.09, 330.04, 292.29, 348.13, 396.9, 395.5, 393.23, 390.96, 393.23, 395.6, 391.27, 396.9, 395.56, 396.9, 394.12, 396.9, 391.0, 387.11, 392.63, 393.87, 382.84, 396.9, 377.68, 389.71, 390.49, 393.37, 376.7, 394.23, 396.9, 354.31, 392.2, 396.9, 384.3, 393.77, 395.38, 392.78, 390.55, 396.9, 394.87, 389.43, 381.32, 396.9, 393.25, 395.24, 390.94, 385.81, 348.93, 393.63, 392.8, 392.78, 396.9, 393.74, 391.7, 395.24, 390.39, 396.9, 385.05, 382.0, 387.38, 372.08, 377.51, 380.34, 378.35, 376.14, 385.91, 378.95, 360.2, 376.75, 388.45, 390.07, 379.41, 383.78, 391.25, 394.62, 372.75, 374.71, 372.49, 389.13, 390.18, 376.14, 374.71, 393.74, 396.28, 377.07, 386.09, 396.9, 392.89, 395.18, 386.34, 389.7, 383.29, 391.93, 392.8, 388.37, 386.86, 393.42, 387.89, 392.4, 384.07, 384.54, 390.3, 391.34, 388.65, 396.9, 394.96, 390.77, 396.9, 396.9, 389.25, 393.45, 396.9, 396.9, 387.31, 392.23, 377.07, 395.52, 394.72, 394.72, 341.6, 396.9, 396.9, 371.72, 396.9, 396.9, 396.9, 396.9, 396.9, 396.9, 392.85, 396.9, 368.24, 371.58, 390.86, 395.75, 383.61, 390.43, 393.68, 393.36, 396.9, 396.9, 396.9, 396.24, 350.45, 396.9, 396.3, 393.39, 395.69, 396.42, 390.7, 396.9, 395.21, 396.23, 396.9, 396.9, 396.9, 391.13, 396.9, 393.68, 396.9, 396.9, 382.44, 375.21, 368.57, 394.02, 362.25, 389.71, 389.4, 396.9, 396.9, 394.81, 396.14, 396.9, 396.9, 394.74, 389.96, 396.9, 387.97, 385.64, 364.61, 392.43, 390.94, 389.85, 396.9, 370.78, 392.33, 384.46, 382.8, 376.04, 377.73, 391.34, 395.43, 390.74, 374.56, 350.65, 380.79, 353.04, 354.55, 354.7, 316.03, 131.42, 375.52, 375.33, 392.05, 366.15, 347.88, 396.9, 396.9, 396.9, 363.02, 396.9, 396.9, 393.74, 396.9, 396.9, 396.9, 396.9, 285.83, 396.9, 396.9, 396.9, 372.92, 396.9, 394.43, 378.38, 396.9, 396.9, 396.9, 391.98, 396.9, 393.1, 396.9, 338.16, 396.9, 396.9, 376.11, 396.9, 329.46, 384.97, 370.22, 332.09, 314.64, 179.36, 2.6, 35.05, 28.79, 210.97, 88.27, 27.25, 21.57, 127.36, 16.45, 48.45, 318.75, 319.98, 291.55, 2.52, 3.65, 7.68, 24.65, 18.82, 96.73, 60.72, 83.45, 81.33, 97.95, 100.19, 100.63, 109.85, 27.49, 9.32, 68.95, 396.9, 391.45, 385.96, 395.69, 386.73, 240.52, 43.06, 318.01, 388.52, 396.9, 304.21, 0.32, 355.29, 385.09, 375.87, 6.68, 50.92, 10.48, 3.5, 272.21, 396.9, 255.23, 391.43, 396.9, 393.82, 396.9, 334.4, 22.01, 331.29, 368.74, 396.9, 396.9, 395.33, 393.37, 374.68, 352.58, 302.76, 396.21, 349.48, 379.7, 383.32, 396.9, 393.07, 395.28, 392.92, 370.73, 388.62, 392.68, 388.22, 395.09, 344.05, 318.43, 390.11, 396.9, 396.9, 396.9, 393.29, 396.9, 396.9, 396.9, 395.77, 396.9, 391.99, 396.9, 396.9, 393.45, 396.9], \"coloraxis\": \"coloraxis\", \"size\": [1.0, 2.0, 2.0, 3.0, 3.0, 3.0, 5.0, 5.0, 5.0, 5.0, 5.0, 5.0, 5.0, 4.0, 4.0, 4.0, 4.0, 4.0, 4.0, 4.0, 4.0, 4.0, 4.0, 4.0, 4.0, 4.0, 4.0, 4.0, 4.0, 4.0, 4.0, 4.0, 4.0, 4.0, 4.0, 5.0, 5.0, 5.0, 5.0, 3.0, 3.0, 3.0, 3.0, 3.0, 3.0, 3.0, 3.0, 3.0, 3.0, 3.0, 4.0, 4.0, 4.0, 4.0, 3.0, 5.0, 2.0, 5.0, 8.0, 8.0, 8.0, 8.0, 8.0, 8.0, 3.0, 4.0, 4.0, 4.0, 4.0, 4.0, 4.0, 4.0, 4.0, 4.0, 5.0, 5.0, 5.0, 5.0, 5.0, 5.0, 4.0, 4.0, 4.0, 4.0, 3.0, 3.0, 3.0, 3.0, 2.0, 2.0, 2.0, 2.0, 4.0, 4.0, 4.0, 2.0, 2.0, 2.0, 2.0, 2.0, 5.0, 5.0, 5.0, 5.0, 5.0, 5.0, 5.0, 5.0, 5.0, 5.0, 5.0, 6.0, 6.0, 6.0, 6.0, 6.0, 6.0, 6.0, 6.0, 6.0, 2.0, 2.0, 2.0, 2.0, 2.0, 2.0, 2.0, 4.0, 4.0, 4.0, 4.0, 4.0, 4.0, 4.0, 4.0, 4.0, 4.0, 4.0, 4.0, 4.0, 4.0, 4.0, 5.0, 5.0, 5.0, 5.0, 5.0, 5.0, 5.0, 5.0, 5.0, 5.0, 5.0, 5.0, 5.0, 5.0, 5.0, 5.0, 5.0, 5.0, 5.0, 5.0, 5.0, 5.0, 5.0, 5.0, 5.0, 5.0, 5.0, 5.0, 5.0, 5.0, 5.0, 5.0, 5.0, 5.0, 5.0, 5.0, 5.0, 3.0, 3.0, 3.0, 3.0, 3.0, 3.0, 3.0, 3.0, 5.0, 5.0, 5.0, 5.0, 5.0, 5.0, 1.0, 1.0, 4.0, 2.0, 2.0, 2.0, 3.0, 3.0, 2.0, 2.0, 4.0, 4.0, 4.0, 4.0, 4.0, 4.0, 4.0, 4.0, 4.0, 4.0, 4.0, 4.0, 4.0, 5.0, 5.0, 5.0, 5.0, 8.0, 8.0, 8.0, 8.0, 8.0, 8.0, 8.0, 8.0, 8.0, 8.0, 8.0, 8.0, 8.0, 8.0, 8.0, 8.0, 8.0, 8.0, 6.0, 6.0, 6.0, 6.0, 6.0, 6.0, 7.0, 7.0, 7.0, 7.0, 7.0, 7.0, 7.0, 7.0, 7.0, 7.0, 1.0, 1.0, 3.0, 5.0, 5.0, 5.0, 5.0, 5.0, 5.0, 5.0, 5.0, 5.0, 5.0, 5.0, 5.0, 3.0, 3.0, 3.0, 3.0, 3.0, 4.0, 4.0, 4.0, 4.0, 4.0, 5.0, 5.0, 5.0, 5.0, 1.0, 1.0, 1.0, 1.0, 6.0, 6.0, 6.0, 4.0, 4.0, 4.0, 4.0, 4.0, 4.0, 4.0, 4.0, 5.0, 5.0, 5.0, 7.0, 7.0, 7.0, 7.0, 7.0, 7.0, 7.0, 4.0, 4.0, 4.0, 4.0, 4.0, 4.0, 4.0, 4.0, 4.0, 4.0, 4.0, 4.0, 5.0, 5.0, 5.0, 5.0, 5.0, 5.0, 5.0, 5.0, 4.0, 4.0, 4.0, 1.0, 1.0, 5.0, 5.0, 5.0, 5.0, 5.0, 5.0, 5.0, 5.0, 1.0, 1.0, 5.0, 5.0, 3.0, 3.0, 4.0, 4.0, 1.0, 1.0, 4.0, 4.0, 5.0, 4.0, 4.0, 24.0, 24.0, 24.0, 24.0, 24.0, 24.0, 24.0, 24.0, 24.0, 24.0, 24.0, 24.0, 24.0, 24.0, 24.0, 24.0, 24.0, 24.0, 24.0, 24.0, 24.0, 24.0, 24.0, 24.0, 24.0, 24.0, 24.0, 24.0, 24.0, 24.0, 24.0, 24.0, 24.0, 24.0, 24.0, 24.0, 24.0, 24.0, 24.0, 24.0, 24.0, 24.0, 24.0, 24.0, 24.0, 24.0, 24.0, 24.0, 24.0, 24.0, 24.0, 24.0, 24.0, 24.0, 24.0, 24.0, 24.0, 24.0, 24.0, 24.0, 24.0, 24.0, 24.0, 24.0, 24.0, 24.0, 24.0, 24.0, 24.0, 24.0, 24.0, 24.0, 24.0, 24.0, 24.0, 24.0, 24.0, 24.0, 24.0, 24.0, 24.0, 24.0, 24.0, 24.0, 24.0, 24.0, 24.0, 24.0, 24.0, 24.0, 24.0, 24.0, 24.0, 24.0, 24.0, 24.0, 24.0, 24.0, 24.0, 24.0, 24.0, 24.0, 24.0, 24.0, 24.0, 24.0, 24.0, 24.0, 24.0, 24.0, 24.0, 24.0, 24.0, 24.0, 24.0, 24.0, 24.0, 24.0, 24.0, 24.0, 24.0, 24.0, 24.0, 24.0, 24.0, 24.0, 24.0, 24.0, 24.0, 24.0, 24.0, 24.0, 4.0, 4.0, 4.0, 4.0, 4.0, 6.0, 6.0, 6.0, 6.0, 6.0, 6.0, 6.0, 6.0, 1.0, 1.0, 1.0, 1.0, 1.0], \"sizemode\": \"area\", \"sizeref\": 0.06, \"symbol\": \"circle\"}, \"mode\": \"markers\", \"name\": \"\", \"showlegend\": false, \"type\": \"scatter\", \"x\": [24.0, 21.6, 34.7, 33.4, 36.2, 28.7, 22.9, 27.1, 16.5, 18.9, 15.0, 18.9, 21.7, 20.4, 18.2, 19.9, 23.1, 17.5, 20.2, 18.2, 13.6, 19.6, 15.2, 14.5, 15.6, 13.9, 16.6, 14.8, 18.4, 21.0, 12.7, 14.5, 13.2, 13.1, 13.5, 18.9, 20.0, 21.0, 24.7, 30.8, 34.9, 26.6, 25.3, 24.7, 21.2, 19.3, 20.0, 16.6, 14.4, 19.4, 19.7, 20.5, 25.0, 23.4, 18.9, 35.4, 24.7, 31.6, 23.3, 19.6, 18.7, 16.0, 22.2, 25.0, 33.0, 23.5, 19.4, 22.0, 17.4, 20.9, 24.2, 21.7, 22.8, 23.4, 24.1, 21.4, 20.0, 20.8, 21.2, 20.3, 28.0, 23.9, 24.8, 22.9, 23.9, 26.6, 22.5, 22.2, 23.6, 28.7, 22.6, 22.0, 22.9, 25.0, 20.6, 28.4, 21.4, 38.7, 43.8, 33.2, 27.5, 26.5, 18.6, 19.3, 20.1, 19.5, 19.5, 20.4, 19.8, 19.4, 21.7, 22.8, 18.8, 18.7, 18.5, 18.3, 21.2, 19.2, 20.4, 19.3, 22.0, 20.3, 20.5, 17.3, 18.8, 21.4, 15.7, 16.2, 18.0, 14.3, 19.2, 19.6, 23.0, 18.4, 15.6, 18.1, 17.4, 17.1, 13.3, 17.8, 14.0, 14.4, 13.4, 15.6, 11.8, 13.8, 15.6, 14.6, 17.8, 15.4, 21.5, 19.6, 15.3, 19.4, 17.0, 15.6, 13.1, 41.3, 24.3, 23.3, 27.0, 50.0, 50.0, 50.0, 22.7, 25.0, 50.0, 23.8, 23.8, 22.3, 17.4, 19.1, 23.1, 23.6, 22.6, 29.4, 23.2, 24.6, 29.9, 37.2, 39.8, 36.2, 37.9, 32.5, 26.4, 29.6, 50.0, 32.0, 29.8, 34.9, 37.0, 30.5, 36.4, 31.1, 29.1, 50.0, 33.3, 30.3, 34.6, 34.9, 32.9, 24.1, 42.3, 48.5, 50.0, 22.6, 24.4, 22.5, 24.4, 20.0, 21.7, 19.3, 22.4, 28.1, 23.7, 25.0, 23.3, 28.7, 21.5, 23.0, 26.7, 21.7, 27.5, 30.1, 44.8, 50.0, 37.6, 31.6, 46.7, 31.5, 24.3, 31.7, 41.7, 48.3, 29.0, 24.0, 25.1, 31.5, 23.7, 23.3, 22.0, 20.1, 22.2, 23.7, 17.6, 18.5, 24.3, 20.5, 24.5, 26.2, 24.4, 24.8, 29.6, 42.8, 21.9, 20.9, 44.0, 50.0, 36.0, 30.1, 33.8, 43.1, 48.8, 31.0, 36.5, 22.8, 30.7, 50.0, 43.5, 20.7, 21.1, 25.2, 24.4, 35.2, 32.4, 32.0, 33.2, 33.1, 29.1, 35.1, 45.4, 35.4, 46.0, 50.0, 32.2, 22.0, 20.1, 23.2, 22.3, 24.8, 28.5, 37.3, 27.9, 23.9, 21.7, 28.6, 27.1, 20.3, 22.5, 29.0, 24.8, 22.0, 26.4, 33.1, 36.1, 28.4, 33.4, 28.2, 22.8, 20.3, 16.1, 22.1, 19.4, 21.6, 23.8, 16.2, 17.8, 19.8, 23.1, 21.0, 23.8, 23.1, 20.4, 18.5, 25.0, 24.6, 23.0, 22.2, 19.3, 22.6, 19.8, 17.1, 19.4, 22.2, 20.7, 21.1, 19.5, 18.5, 20.6, 19.0, 18.7, 32.7, 16.5, 23.9, 31.2, 17.5, 17.2, 23.1, 24.5, 26.6, 22.9, 24.1, 18.6, 30.1, 18.2, 20.6, 17.8, 21.7, 22.7, 22.6, 25.0, 19.9, 20.8, 16.8, 21.9, 27.5, 21.9, 23.1, 50.0, 50.0, 50.0, 50.0, 50.0, 13.8, 13.8, 15.0, 13.9, 13.3, 13.1, 10.2, 10.4, 10.9, 11.3, 12.3, 8.8, 7.2, 10.5, 7.4, 10.2, 11.5, 15.1, 23.2, 9.7, 13.8, 12.7, 13.1, 12.5, 8.5, 5.0, 6.3, 5.6, 7.2, 12.1, 8.3, 8.5, 5.0, 11.9, 27.9, 17.2, 27.5, 15.0, 17.2, 17.9, 16.3, 7.0, 7.2, 7.5, 10.4, 8.8, 8.4, 16.7, 14.2, 20.8, 13.4, 11.7, 8.3, 10.2, 10.9, 11.0, 9.5, 14.5, 14.1, 16.1, 14.3, 11.7, 13.4, 9.6, 8.7, 8.4, 12.8, 10.5, 17.1, 18.4, 15.4, 10.8, 11.8, 14.9, 12.6, 14.1, 13.0, 13.4, 15.2, 16.1, 17.8, 14.9, 14.1, 12.7, 13.5, 14.9, 20.0, 16.4, 17.7, 19.5, 20.2, 21.4, 19.9, 19.0, 19.1, 19.1, 20.1, 19.9, 19.6, 23.2, 29.8, 13.8, 13.3, 16.7, 12.0, 14.6, 21.4, 23.0, 23.7, 25.0, 21.8, 20.6, 21.2, 19.1, 20.6, 15.2, 7.0, 8.1, 13.6, 20.1, 21.8, 24.5, 23.1, 19.7, 18.3, 21.2, 17.5, 16.8, 22.4, 20.6, 23.9, 22.0, 11.9], \"xaxis\": \"x\", \"y\": [0.00632, 0.02731, 0.02729, 0.03237, 0.06905, 0.02985, 0.08829, 0.14455, 0.21124, 0.17004, 0.22489, 0.11747, 0.09378, 0.62976, 0.63796, 0.62739, 1.05393, 0.7842, 0.80271, 0.7258, 1.25179, 0.85204, 1.23247, 0.98843, 0.75026, 0.84054, 0.67191, 0.95577, 0.77299, 1.00245, 1.13081, 1.35472, 1.38799, 1.15172, 1.61282, 0.06417, 0.09744, 0.08014, 0.17505, 0.02763, 0.03359, 0.12744, 0.1415, 0.15936, 0.12269, 0.17142, 0.18836, 0.22927, 0.25387, 0.21977, 0.08873, 0.04337, 0.0536, 0.04981, 0.0136, 0.01311, 0.02055, 0.01432, 0.15445, 0.10328, 0.14932, 0.17171, 0.11027, 0.1265, 0.01951, 0.03584, 0.04379, 0.05789, 0.13554, 0.12816, 0.08826, 0.15876, 0.09164, 0.19539, 0.07896, 0.09512, 0.10153, 0.08707, 0.05646, 0.08387, 0.04113, 0.04462, 0.03659, 0.03551, 0.05059, 0.05735, 0.05188, 0.07151, 0.0566, 0.05302, 0.04684, 0.03932, 0.04203, 0.02875, 0.04294, 0.12204, 0.11504, 0.12083, 0.08187, 0.0686, 0.14866, 0.11432, 0.22876, 0.21161, 0.1396, 0.13262, 0.1712, 0.13117, 0.12802, 0.26363, 0.10793, 0.10084, 0.12329, 0.22212, 0.14231, 0.17134, 0.13158, 0.15098, 0.13058, 0.14476, 0.06899, 0.07165, 0.09299, 0.15038, 0.09849, 0.16902, 0.38735, 0.25915, 0.32543, 0.88125, 0.34006, 1.19294, 0.59005, 0.32982, 0.97617, 0.55778, 0.32264, 0.35233, 0.2498, 0.54452, 0.2909, 1.62864, 3.32105, 4.0974, 2.77974, 2.37934, 2.15505, 2.36862, 2.33099, 2.73397, 1.6566, 1.49632, 1.12658, 2.14918, 1.41385, 3.53501, 2.44668, 1.22358, 1.34284, 1.42502, 1.27346, 1.46336, 1.83377, 1.51902, 2.24236, 2.924, 2.01019, 1.80028, 2.3004, 2.44953, 1.20742, 2.3139, 0.13914, 0.09178, 0.08447, 0.06664, 0.07022, 0.05425, 0.06642, 0.0578, 0.06588, 0.06888, 0.09103, 0.10008, 0.08308, 0.06047, 0.05602, 0.07875, 0.12579, 0.0837, 0.09068, 0.06911, 0.08664, 0.02187, 0.01439, 0.01381, 0.04011, 0.04666, 0.03768, 0.0315, 0.01778, 0.03445, 0.02177, 0.0351, 0.02009, 0.13642, 0.22969, 0.25199, 0.13587, 0.43571, 0.17446, 0.37578, 0.21719, 0.14052, 0.28955, 0.19802, 0.0456, 0.07013, 0.11069, 0.11425, 0.35809, 0.40771, 0.62356, 0.6147, 0.31533, 0.52693, 0.38214, 0.41238, 0.29819, 0.44178, 0.537, 0.46296, 0.57529, 0.33147, 0.44791, 0.33045, 0.52058, 0.51183, 0.08244, 0.09252, 0.11329, 0.10612, 0.1029, 0.12757, 0.20608, 0.19133, 0.33983, 0.19657, 0.16439, 0.19073, 0.1403, 0.21409, 0.08221, 0.36894, 0.04819, 0.03548, 0.01538, 0.61154, 0.66351, 0.65665, 0.54011, 0.53412, 0.52014, 0.82526, 0.55007, 0.76162, 0.7857, 0.57834, 0.5405, 0.09065, 0.29916, 0.16211, 0.1146, 0.22188, 0.05644, 0.09604, 0.10469, 0.06127, 0.07978, 0.21038, 0.03578, 0.03705, 0.06129, 0.01501, 0.00906, 0.01096, 0.01965, 0.03871, 0.0459, 0.04297, 0.03502, 0.07886, 0.03615, 0.08265, 0.08199, 0.12932, 0.05372, 0.14103, 0.06466, 0.05561, 0.04417, 0.03537, 0.09266, 0.1, 0.05515, 0.05479, 0.07503, 0.04932, 0.49298, 0.3494, 2.63548, 0.79041, 0.26169, 0.26938, 0.3692, 0.25356, 0.31827, 0.24522, 0.40202, 0.47547, 0.1676, 0.18159, 0.35114, 0.28392, 0.34109, 0.19186, 0.30347, 0.24103, 0.06617, 0.06724, 0.04544, 0.05023, 0.03466, 0.05083, 0.03738, 0.03961, 0.03427, 0.03041, 0.03306, 0.05497, 0.06151, 0.01301, 0.02498, 0.02543, 0.03049, 0.03113, 0.06162, 0.0187, 0.01501, 0.02899, 0.06211, 0.0795, 0.07244, 0.01709, 0.04301, 0.10659, 8.98296, 3.8497, 5.20177, 4.26131, 4.54192, 3.83684, 3.67822, 4.22239, 3.47428, 4.55587, 3.69695, 13.5222, 4.89822, 5.66998, 6.53876, 9.2323, 8.26725, 11.1081, 18.4982, 19.6091, 15.288, 9.82349, 23.6482, 17.8667, 88.9762, 15.8744, 9.18702, 7.99248, 20.0849, 16.8118, 24.3938, 22.5971, 14.3337, 8.15174, 6.96215, 5.29305, 11.5779, 8.64476, 13.3598, 8.71675, 5.87205, 7.67202, 38.3518, 9.91655, 25.0461, 14.2362, 9.59571, 24.8017, 41.5292, 67.9208, 20.7162, 11.9511, 7.40389, 14.4383, 51.1358, 14.0507, 18.811, 28.6558, 45.7461, 18.0846, 10.8342, 25.9406, 73.5341, 11.8123, 11.0874, 7.02259, 12.0482, 7.05042, 8.79212, 15.8603, 12.2472, 37.6619, 7.36711, 9.33889, 8.49213, 10.0623, 6.44405, 5.58107, 13.9134, 11.1604, 14.4208, 15.1772, 13.6781, 9.39063, 22.0511, 9.72418, 5.66637, 9.96654, 12.8023, 10.6718, 6.28807, 9.92485, 9.32909, 7.52601, 6.71772, 5.44114, 5.09017, 8.24809, 9.51363, 4.75237, 4.66883, 8.20058, 7.75223, 6.80117, 4.81213, 3.69311, 6.65492, 5.82115, 7.83932, 3.1636, 3.77498, 4.42228, 15.5757, 13.0751, 4.34879, 4.03841, 3.56868, 4.64689, 8.05579, 6.39312, 4.87141, 15.0234, 10.233, 14.3337, 5.82401, 5.70818, 5.73116, 2.81838, 2.37857, 3.67367, 5.69175, 4.83567, 0.15086, 0.18337, 0.20746, 0.10574, 0.11132, 0.17331, 0.27957, 0.17899, 0.2896, 0.26838, 0.23912, 0.17783, 0.22438, 0.06263, 0.04527, 0.06076, 0.10959, 0.04741], \"yaxis\": \"y\"}],\n",
              "                        {\"coloraxis\": {\"colorbar\": {\"title\": {\"text\": \"B\"}}, \"colorscale\": [[0.0, \"#0d0887\"], [0.1111111111111111, \"#46039f\"], [0.2222222222222222, \"#7201a8\"], [0.3333333333333333, \"#9c179e\"], [0.4444444444444444, \"#bd3786\"], [0.5555555555555556, \"#d8576b\"], [0.6666666666666666, \"#ed7953\"], [0.7777777777777778, \"#fb9f3a\"], [0.8888888888888888, \"#fdca26\"], [1.0, \"#f0f921\"]]}, \"legend\": {\"itemsizing\": \"constant\", \"tracegroupgap\": 0}, \"margin\": {\"t\": 60}, \"template\": {\"data\": {\"bar\": [{\"error_x\": {\"color\": \"#2a3f5f\"}, \"error_y\": {\"color\": \"#2a3f5f\"}, \"marker\": {\"line\": {\"color\": \"#E5ECF6\", \"width\": 0.5}}, \"type\": \"bar\"}], \"barpolar\": [{\"marker\": {\"line\": {\"color\": \"#E5ECF6\", \"width\": 0.5}}, \"type\": \"barpolar\"}], \"carpet\": [{\"aaxis\": {\"endlinecolor\": \"#2a3f5f\", \"gridcolor\": \"white\", \"linecolor\": \"white\", \"minorgridcolor\": \"white\", \"startlinecolor\": \"#2a3f5f\"}, \"baxis\": {\"endlinecolor\": \"#2a3f5f\", \"gridcolor\": \"white\", \"linecolor\": \"white\", \"minorgridcolor\": \"white\", \"startlinecolor\": \"#2a3f5f\"}, \"type\": \"carpet\"}], \"choropleth\": [{\"colorbar\": {\"outlinewidth\": 0, \"ticks\": \"\"}, \"type\": \"choropleth\"}], \"contour\": [{\"colorbar\": {\"outlinewidth\": 0, \"ticks\": \"\"}, \"colorscale\": [[0.0, \"#0d0887\"], [0.1111111111111111, \"#46039f\"], [0.2222222222222222, \"#7201a8\"], [0.3333333333333333, \"#9c179e\"], [0.4444444444444444, \"#bd3786\"], [0.5555555555555556, \"#d8576b\"], [0.6666666666666666, \"#ed7953\"], [0.7777777777777778, \"#fb9f3a\"], [0.8888888888888888, \"#fdca26\"], [1.0, \"#f0f921\"]], \"type\": \"contour\"}], \"contourcarpet\": [{\"colorbar\": {\"outlinewidth\": 0, \"ticks\": \"\"}, \"type\": \"contourcarpet\"}], \"heatmap\": [{\"colorbar\": {\"outlinewidth\": 0, \"ticks\": \"\"}, \"colorscale\": [[0.0, \"#0d0887\"], [0.1111111111111111, \"#46039f\"], [0.2222222222222222, \"#7201a8\"], [0.3333333333333333, \"#9c179e\"], [0.4444444444444444, \"#bd3786\"], [0.5555555555555556, \"#d8576b\"], [0.6666666666666666, \"#ed7953\"], [0.7777777777777778, \"#fb9f3a\"], [0.8888888888888888, \"#fdca26\"], [1.0, \"#f0f921\"]], \"type\": \"heatmap\"}], \"heatmapgl\": [{\"colorbar\": {\"outlinewidth\": 0, \"ticks\": \"\"}, \"colorscale\": [[0.0, \"#0d0887\"], [0.1111111111111111, \"#46039f\"], [0.2222222222222222, \"#7201a8\"], [0.3333333333333333, \"#9c179e\"], [0.4444444444444444, \"#bd3786\"], [0.5555555555555556, \"#d8576b\"], [0.6666666666666666, \"#ed7953\"], [0.7777777777777778, \"#fb9f3a\"], [0.8888888888888888, \"#fdca26\"], [1.0, \"#f0f921\"]], \"type\": \"heatmapgl\"}], \"histogram\": [{\"marker\": {\"colorbar\": {\"outlinewidth\": 0, \"ticks\": \"\"}}, \"type\": \"histogram\"}], \"histogram2d\": [{\"colorbar\": {\"outlinewidth\": 0, \"ticks\": \"\"}, \"colorscale\": [[0.0, \"#0d0887\"], [0.1111111111111111, \"#46039f\"], [0.2222222222222222, \"#7201a8\"], [0.3333333333333333, \"#9c179e\"], [0.4444444444444444, \"#bd3786\"], [0.5555555555555556, \"#d8576b\"], [0.6666666666666666, \"#ed7953\"], [0.7777777777777778, \"#fb9f3a\"], [0.8888888888888888, \"#fdca26\"], [1.0, \"#f0f921\"]], \"type\": \"histogram2d\"}], \"histogram2dcontour\": [{\"colorbar\": {\"outlinewidth\": 0, \"ticks\": \"\"}, \"colorscale\": [[0.0, \"#0d0887\"], [0.1111111111111111, \"#46039f\"], [0.2222222222222222, \"#7201a8\"], [0.3333333333333333, \"#9c179e\"], [0.4444444444444444, \"#bd3786\"], [0.5555555555555556, \"#d8576b\"], [0.6666666666666666, \"#ed7953\"], [0.7777777777777778, \"#fb9f3a\"], [0.8888888888888888, \"#fdca26\"], [1.0, \"#f0f921\"]], \"type\": \"histogram2dcontour\"}], \"mesh3d\": [{\"colorbar\": {\"outlinewidth\": 0, \"ticks\": \"\"}, \"type\": \"mesh3d\"}], \"parcoords\": [{\"line\": {\"colorbar\": {\"outlinewidth\": 0, \"ticks\": \"\"}}, \"type\": \"parcoords\"}], \"pie\": [{\"automargin\": true, \"type\": \"pie\"}], \"scatter\": [{\"marker\": {\"colorbar\": {\"outlinewidth\": 0, \"ticks\": \"\"}}, \"type\": \"scatter\"}], \"scatter3d\": [{\"line\": {\"colorbar\": {\"outlinewidth\": 0, \"ticks\": \"\"}}, \"marker\": {\"colorbar\": {\"outlinewidth\": 0, \"ticks\": \"\"}}, \"type\": \"scatter3d\"}], \"scattercarpet\": [{\"marker\": {\"colorbar\": {\"outlinewidth\": 0, \"ticks\": \"\"}}, \"type\": \"scattercarpet\"}], \"scattergeo\": [{\"marker\": {\"colorbar\": {\"outlinewidth\": 0, \"ticks\": \"\"}}, \"type\": \"scattergeo\"}], \"scattergl\": [{\"marker\": {\"colorbar\": {\"outlinewidth\": 0, \"ticks\": \"\"}}, \"type\": \"scattergl\"}], \"scattermapbox\": [{\"marker\": {\"colorbar\": {\"outlinewidth\": 0, \"ticks\": \"\"}}, \"type\": \"scattermapbox\"}], \"scatterpolar\": [{\"marker\": {\"colorbar\": {\"outlinewidth\": 0, \"ticks\": \"\"}}, \"type\": \"scatterpolar\"}], \"scatterpolargl\": [{\"marker\": {\"colorbar\": {\"outlinewidth\": 0, \"ticks\": \"\"}}, \"type\": \"scatterpolargl\"}], \"scatterternary\": [{\"marker\": {\"colorbar\": {\"outlinewidth\": 0, \"ticks\": \"\"}}, \"type\": \"scatterternary\"}], \"surface\": [{\"colorbar\": {\"outlinewidth\": 0, \"ticks\": \"\"}, \"colorscale\": [[0.0, \"#0d0887\"], [0.1111111111111111, \"#46039f\"], [0.2222222222222222, \"#7201a8\"], [0.3333333333333333, \"#9c179e\"], [0.4444444444444444, \"#bd3786\"], [0.5555555555555556, \"#d8576b\"], [0.6666666666666666, \"#ed7953\"], [0.7777777777777778, \"#fb9f3a\"], [0.8888888888888888, \"#fdca26\"], [1.0, \"#f0f921\"]], \"type\": \"surface\"}], \"table\": [{\"cells\": {\"fill\": {\"color\": \"#EBF0F8\"}, \"line\": {\"color\": \"white\"}}, \"header\": {\"fill\": {\"color\": \"#C8D4E3\"}, \"line\": {\"color\": \"white\"}}, \"type\": \"table\"}]}, \"layout\": {\"annotationdefaults\": {\"arrowcolor\": \"#2a3f5f\", \"arrowhead\": 0, \"arrowwidth\": 1}, \"coloraxis\": {\"colorbar\": {\"outlinewidth\": 0, \"ticks\": \"\"}}, \"colorscale\": {\"diverging\": [[0, \"#8e0152\"], [0.1, \"#c51b7d\"], [0.2, \"#de77ae\"], [0.3, \"#f1b6da\"], [0.4, \"#fde0ef\"], [0.5, \"#f7f7f7\"], [0.6, \"#e6f5d0\"], [0.7, \"#b8e186\"], [0.8, \"#7fbc41\"], [0.9, \"#4d9221\"], [1, \"#276419\"]], \"sequential\": [[0.0, \"#0d0887\"], [0.1111111111111111, \"#46039f\"], [0.2222222222222222, \"#7201a8\"], [0.3333333333333333, \"#9c179e\"], [0.4444444444444444, \"#bd3786\"], [0.5555555555555556, \"#d8576b\"], [0.6666666666666666, \"#ed7953\"], [0.7777777777777778, \"#fb9f3a\"], [0.8888888888888888, \"#fdca26\"], [1.0, \"#f0f921\"]], \"sequentialminus\": [[0.0, \"#0d0887\"], [0.1111111111111111, \"#46039f\"], [0.2222222222222222, \"#7201a8\"], [0.3333333333333333, \"#9c179e\"], [0.4444444444444444, \"#bd3786\"], [0.5555555555555556, \"#d8576b\"], [0.6666666666666666, \"#ed7953\"], [0.7777777777777778, \"#fb9f3a\"], [0.8888888888888888, \"#fdca26\"], [1.0, \"#f0f921\"]]}, \"colorway\": [\"#636efa\", \"#EF553B\", \"#00cc96\", \"#ab63fa\", \"#FFA15A\", \"#19d3f3\", \"#FF6692\", \"#B6E880\", \"#FF97FF\", \"#FECB52\"], \"font\": {\"color\": \"#2a3f5f\"}, \"geo\": {\"bgcolor\": \"white\", \"lakecolor\": \"white\", \"landcolor\": \"#E5ECF6\", \"showlakes\": true, \"showland\": true, \"subunitcolor\": \"white\"}, \"hoverlabel\": {\"align\": \"left\"}, \"hovermode\": \"closest\", \"mapbox\": {\"style\": \"light\"}, \"paper_bgcolor\": \"white\", \"plot_bgcolor\": \"#E5ECF6\", \"polar\": {\"angularaxis\": {\"gridcolor\": \"white\", \"linecolor\": \"white\", \"ticks\": \"\"}, \"bgcolor\": \"#E5ECF6\", \"radialaxis\": {\"gridcolor\": \"white\", \"linecolor\": \"white\", \"ticks\": \"\"}}, \"scene\": {\"xaxis\": {\"backgroundcolor\": \"#E5ECF6\", \"gridcolor\": \"white\", \"gridwidth\": 2, \"linecolor\": \"white\", \"showbackground\": true, \"ticks\": \"\", \"zerolinecolor\": \"white\"}, \"yaxis\": {\"backgroundcolor\": \"#E5ECF6\", \"gridcolor\": \"white\", \"gridwidth\": 2, \"linecolor\": \"white\", \"showbackground\": true, \"ticks\": \"\", \"zerolinecolor\": \"white\"}, \"zaxis\": {\"backgroundcolor\": \"#E5ECF6\", \"gridcolor\": \"white\", \"gridwidth\": 2, \"linecolor\": \"white\", \"showbackground\": true, \"ticks\": \"\", \"zerolinecolor\": \"white\"}}, \"shapedefaults\": {\"line\": {\"color\": \"#2a3f5f\"}}, \"ternary\": {\"aaxis\": {\"gridcolor\": \"white\", \"linecolor\": \"white\", \"ticks\": \"\"}, \"baxis\": {\"gridcolor\": \"white\", \"linecolor\": \"white\", \"ticks\": \"\"}, \"bgcolor\": \"#E5ECF6\", \"caxis\": {\"gridcolor\": \"white\", \"linecolor\": \"white\", \"ticks\": \"\"}}, \"title\": {\"x\": 0.05}, \"xaxis\": {\"automargin\": true, \"gridcolor\": \"white\", \"linecolor\": \"white\", \"ticks\": \"\", \"title\": {\"standoff\": 15}, \"zerolinecolor\": \"white\", \"zerolinewidth\": 2}, \"yaxis\": {\"automargin\": true, \"gridcolor\": \"white\", \"linecolor\": \"white\", \"ticks\": \"\", \"title\": {\"standoff\": 15}, \"zerolinecolor\": \"white\", \"zerolinewidth\": 2}}}, \"xaxis\": {\"anchor\": \"y\", \"domain\": [0.0, 1.0], \"title\": {\"text\": \"PRICE\"}}, \"yaxis\": {\"anchor\": \"x\", \"domain\": [0.0, 1.0], \"title\": {\"text\": \"CRIM\"}}},\n",
              "                        {\"responsive\": true}\n",
              "                    ).then(function(){\n",
              "                            \n",
              "var gd = document.getElementById('e2c8166a-343c-4bb6-a595-3d8fe27e640c');\n",
              "var x = new MutationObserver(function (mutations, observer) {{\n",
              "        var display = window.getComputedStyle(gd).display;\n",
              "        if (!display || display === 'none') {{\n",
              "            console.log([gd, 'removed!']);\n",
              "            Plotly.purge(gd);\n",
              "            observer.disconnect();\n",
              "        }}\n",
              "}});\n",
              "\n",
              "// Listen for the removal of the full notebook cells\n",
              "var notebookContainer = gd.closest('#notebook-container');\n",
              "if (notebookContainer) {{\n",
              "    x.observe(notebookContainer, {childList: true});\n",
              "}}\n",
              "\n",
              "// Listen for the clearing of the current output cell\n",
              "var outputEl = gd.closest('.output');\n",
              "if (outputEl) {{\n",
              "    x.observe(outputEl, {childList: true});\n",
              "}}\n",
              "\n",
              "                        })\n",
              "                };\n",
              "                \n",
              "            </script>\n",
              "        </div>\n",
              "</body>\n",
              "</html>"
            ]
          },
          "metadata": {
            "tags": []
          }
        }
      ]
    },
    {
      "cell_type": "markdown",
      "metadata": {
        "id": "3LaWmrzI-lOb"
      },
      "source": [
        "さらに、次のブログラムを実行すると、4つの属性`CRIM`、`PRICE`、`RAD`、`B`の間の関係を、\n",
        "16枚の散布図で示すこともできます。\n",
        "```python\n",
        "px.scatter_matrix(boston, dimensions=['CRIM', 'PRICE', 'RAD', 'B'])\n",
        "```"
      ]
    },
    {
      "cell_type": "code",
      "metadata": {
        "colab": {
          "base_uri": "https://localhost:8080/",
          "height": 542
        },
        "id": "Al2vzhne-lOb",
        "outputId": "a7d78bc7-135e-4b99-8be4-f7a8b051dbf4"
      },
      "source": [
        "px.scatter_matrix(boston, dimensions=['CRIM', 'PRICE', 'RAD', 'B'])"
      ],
      "execution_count": null,
      "outputs": [
        {
          "output_type": "display_data",
          "data": {
            "text/html": [
              "<html>\n",
              "<head><meta charset=\"utf-8\" /></head>\n",
              "<body>\n",
              "    <div>\n",
              "            <script src=\"https://cdnjs.cloudflare.com/ajax/libs/mathjax/2.7.5/MathJax.js?config=TeX-AMS-MML_SVG\"></script><script type=\"text/javascript\">if (window.MathJax) {MathJax.Hub.Config({SVG: {font: \"STIX-Web\"}});}</script>\n",
              "                <script type=\"text/javascript\">window.PlotlyConfig = {MathJaxConfig: 'local'};</script>\n",
              "        <script src=\"https://cdn.plot.ly/plotly-latest.min.js\"></script>    \n",
              "            <div id=\"28274d4a-a6e1-43e7-8427-3a8dc7358060\" class=\"plotly-graph-div\" style=\"height:525px; width:100%;\"></div>\n",
              "            <script type=\"text/javascript\">\n",
              "                \n",
              "                    window.PLOTLYENV=window.PLOTLYENV || {};\n",
              "                    \n",
              "                if (document.getElementById(\"28274d4a-a6e1-43e7-8427-3a8dc7358060\")) {\n",
              "                    Plotly.newPlot(\n",
              "                        '28274d4a-a6e1-43e7-8427-3a8dc7358060',\n",
              "                        [{\"dimensions\": [{\"axis\": {\"matches\": true}, \"label\": \"CRIM\", \"values\": [0.00632, 0.02731, 0.02729, 0.03237, 0.06905, 0.02985, 0.08829, 0.14455, 0.21124, 0.17004, 0.22489, 0.11747, 0.09378, 0.62976, 0.63796, 0.62739, 1.05393, 0.7842, 0.80271, 0.7258, 1.25179, 0.85204, 1.23247, 0.98843, 0.75026, 0.84054, 0.67191, 0.95577, 0.77299, 1.00245, 1.13081, 1.35472, 1.38799, 1.15172, 1.61282, 0.06417, 0.09744, 0.08014, 0.17505, 0.02763, 0.03359, 0.12744, 0.1415, 0.15936, 0.12269, 0.17142, 0.18836, 0.22927, 0.25387, 0.21977, 0.08873, 0.04337, 0.0536, 0.04981, 0.0136, 0.01311, 0.02055, 0.01432, 0.15445, 0.10328, 0.14932, 0.17171, 0.11027, 0.1265, 0.01951, 0.03584, 0.04379, 0.05789, 0.13554, 0.12816, 0.08826, 0.15876, 0.09164, 0.19539, 0.07896, 0.09512, 0.10153, 0.08707, 0.05646, 0.08387, 0.04113, 0.04462, 0.03659, 0.03551, 0.05059, 0.05735, 0.05188, 0.07151, 0.0566, 0.05302, 0.04684, 0.03932, 0.04203, 0.02875, 0.04294, 0.12204, 0.11504, 0.12083, 0.08187, 0.0686, 0.14866, 0.11432, 0.22876, 0.21161, 0.1396, 0.13262, 0.1712, 0.13117, 0.12802, 0.26363, 0.10793, 0.10084, 0.12329, 0.22212, 0.14231, 0.17134, 0.13158, 0.15098, 0.13058, 0.14476, 0.06899, 0.07165, 0.09299, 0.15038, 0.09849, 0.16902, 0.38735, 0.25915, 0.32543, 0.88125, 0.34006, 1.19294, 0.59005, 0.32982, 0.97617, 0.55778, 0.32264, 0.35233, 0.2498, 0.54452, 0.2909, 1.62864, 3.32105, 4.0974, 2.77974, 2.37934, 2.15505, 2.36862, 2.33099, 2.73397, 1.6566, 1.49632, 1.12658, 2.14918, 1.41385, 3.53501, 2.44668, 1.22358, 1.34284, 1.42502, 1.27346, 1.46336, 1.83377, 1.51902, 2.24236, 2.924, 2.01019, 1.80028, 2.3004, 2.44953, 1.20742, 2.3139, 0.13914, 0.09178, 0.08447, 0.06664, 0.07022, 0.05425, 0.06642, 0.0578, 0.06588, 0.06888, 0.09103, 0.10008, 0.08308, 0.06047, 0.05602, 0.07875, 0.12579, 0.0837, 0.09068, 0.06911, 0.08664, 0.02187, 0.01439, 0.01381, 0.04011, 0.04666, 0.03768, 0.0315, 0.01778, 0.03445, 0.02177, 0.0351, 0.02009, 0.13642, 0.22969, 0.25199, 0.13587, 0.43571, 0.17446, 0.37578, 0.21719, 0.14052, 0.28955, 0.19802, 0.0456, 0.07013, 0.11069, 0.11425, 0.35809, 0.40771, 0.62356, 0.6147, 0.31533, 0.52693, 0.38214, 0.41238, 0.29819, 0.44178, 0.537, 0.46296, 0.57529, 0.33147, 0.44791, 0.33045, 0.52058, 0.51183, 0.08244, 0.09252, 0.11329, 0.10612, 0.1029, 0.12757, 0.20608, 0.19133, 0.33983, 0.19657, 0.16439, 0.19073, 0.1403, 0.21409, 0.08221, 0.36894, 0.04819, 0.03548, 0.01538, 0.61154, 0.66351, 0.65665, 0.54011, 0.53412, 0.52014, 0.82526, 0.55007, 0.76162, 0.7857, 0.57834, 0.5405, 0.09065, 0.29916, 0.16211, 0.1146, 0.22188, 0.05644, 0.09604, 0.10469, 0.06127, 0.07978, 0.21038, 0.03578, 0.03705, 0.06129, 0.01501, 0.00906, 0.01096, 0.01965, 0.03871, 0.0459, 0.04297, 0.03502, 0.07886, 0.03615, 0.08265, 0.08199, 0.12932, 0.05372, 0.14103, 0.06466, 0.05561, 0.04417, 0.03537, 0.09266, 0.1, 0.05515, 0.05479, 0.07503, 0.04932, 0.49298, 0.3494, 2.63548, 0.79041, 0.26169, 0.26938, 0.3692, 0.25356, 0.31827, 0.24522, 0.40202, 0.47547, 0.1676, 0.18159, 0.35114, 0.28392, 0.34109, 0.19186, 0.30347, 0.24103, 0.06617, 0.06724, 0.04544, 0.05023, 0.03466, 0.05083, 0.03738, 0.03961, 0.03427, 0.03041, 0.03306, 0.05497, 0.06151, 0.01301, 0.02498, 0.02543, 0.03049, 0.03113, 0.06162, 0.0187, 0.01501, 0.02899, 0.06211, 0.0795, 0.07244, 0.01709, 0.04301, 0.10659, 8.98296, 3.8497, 5.20177, 4.26131, 4.54192, 3.83684, 3.67822, 4.22239, 3.47428, 4.55587, 3.69695, 13.5222, 4.89822, 5.66998, 6.53876, 9.2323, 8.26725, 11.1081, 18.4982, 19.6091, 15.288, 9.82349, 23.6482, 17.8667, 88.9762, 15.8744, 9.18702, 7.99248, 20.0849, 16.8118, 24.3938, 22.5971, 14.3337, 8.15174, 6.96215, 5.29305, 11.5779, 8.64476, 13.3598, 8.71675, 5.87205, 7.67202, 38.3518, 9.91655, 25.0461, 14.2362, 9.59571, 24.8017, 41.5292, 67.9208, 20.7162, 11.9511, 7.40389, 14.4383, 51.1358, 14.0507, 18.811, 28.6558, 45.7461, 18.0846, 10.8342, 25.9406, 73.5341, 11.8123, 11.0874, 7.02259, 12.0482, 7.05042, 8.79212, 15.8603, 12.2472, 37.6619, 7.36711, 9.33889, 8.49213, 10.0623, 6.44405, 5.58107, 13.9134, 11.1604, 14.4208, 15.1772, 13.6781, 9.39063, 22.0511, 9.72418, 5.66637, 9.96654, 12.8023, 10.6718, 6.28807, 9.92485, 9.32909, 7.52601, 6.71772, 5.44114, 5.09017, 8.24809, 9.51363, 4.75237, 4.66883, 8.20058, 7.75223, 6.80117, 4.81213, 3.69311, 6.65492, 5.82115, 7.83932, 3.1636, 3.77498, 4.42228, 15.5757, 13.0751, 4.34879, 4.03841, 3.56868, 4.64689, 8.05579, 6.39312, 4.87141, 15.0234, 10.233, 14.3337, 5.82401, 5.70818, 5.73116, 2.81838, 2.37857, 3.67367, 5.69175, 4.83567, 0.15086, 0.18337, 0.20746, 0.10574, 0.11132, 0.17331, 0.27957, 0.17899, 0.2896, 0.26838, 0.23912, 0.17783, 0.22438, 0.06263, 0.04527, 0.06076, 0.10959, 0.04741]}, {\"axis\": {\"matches\": true}, \"label\": \"PRICE\", \"values\": [24.0, 21.6, 34.7, 33.4, 36.2, 28.7, 22.9, 27.1, 16.5, 18.9, 15.0, 18.9, 21.7, 20.4, 18.2, 19.9, 23.1, 17.5, 20.2, 18.2, 13.6, 19.6, 15.2, 14.5, 15.6, 13.9, 16.6, 14.8, 18.4, 21.0, 12.7, 14.5, 13.2, 13.1, 13.5, 18.9, 20.0, 21.0, 24.7, 30.8, 34.9, 26.6, 25.3, 24.7, 21.2, 19.3, 20.0, 16.6, 14.4, 19.4, 19.7, 20.5, 25.0, 23.4, 18.9, 35.4, 24.7, 31.6, 23.3, 19.6, 18.7, 16.0, 22.2, 25.0, 33.0, 23.5, 19.4, 22.0, 17.4, 20.9, 24.2, 21.7, 22.8, 23.4, 24.1, 21.4, 20.0, 20.8, 21.2, 20.3, 28.0, 23.9, 24.8, 22.9, 23.9, 26.6, 22.5, 22.2, 23.6, 28.7, 22.6, 22.0, 22.9, 25.0, 20.6, 28.4, 21.4, 38.7, 43.8, 33.2, 27.5, 26.5, 18.6, 19.3, 20.1, 19.5, 19.5, 20.4, 19.8, 19.4, 21.7, 22.8, 18.8, 18.7, 18.5, 18.3, 21.2, 19.2, 20.4, 19.3, 22.0, 20.3, 20.5, 17.3, 18.8, 21.4, 15.7, 16.2, 18.0, 14.3, 19.2, 19.6, 23.0, 18.4, 15.6, 18.1, 17.4, 17.1, 13.3, 17.8, 14.0, 14.4, 13.4, 15.6, 11.8, 13.8, 15.6, 14.6, 17.8, 15.4, 21.5, 19.6, 15.3, 19.4, 17.0, 15.6, 13.1, 41.3, 24.3, 23.3, 27.0, 50.0, 50.0, 50.0, 22.7, 25.0, 50.0, 23.8, 23.8, 22.3, 17.4, 19.1, 23.1, 23.6, 22.6, 29.4, 23.2, 24.6, 29.9, 37.2, 39.8, 36.2, 37.9, 32.5, 26.4, 29.6, 50.0, 32.0, 29.8, 34.9, 37.0, 30.5, 36.4, 31.1, 29.1, 50.0, 33.3, 30.3, 34.6, 34.9, 32.9, 24.1, 42.3, 48.5, 50.0, 22.6, 24.4, 22.5, 24.4, 20.0, 21.7, 19.3, 22.4, 28.1, 23.7, 25.0, 23.3, 28.7, 21.5, 23.0, 26.7, 21.7, 27.5, 30.1, 44.8, 50.0, 37.6, 31.6, 46.7, 31.5, 24.3, 31.7, 41.7, 48.3, 29.0, 24.0, 25.1, 31.5, 23.7, 23.3, 22.0, 20.1, 22.2, 23.7, 17.6, 18.5, 24.3, 20.5, 24.5, 26.2, 24.4, 24.8, 29.6, 42.8, 21.9, 20.9, 44.0, 50.0, 36.0, 30.1, 33.8, 43.1, 48.8, 31.0, 36.5, 22.8, 30.7, 50.0, 43.5, 20.7, 21.1, 25.2, 24.4, 35.2, 32.4, 32.0, 33.2, 33.1, 29.1, 35.1, 45.4, 35.4, 46.0, 50.0, 32.2, 22.0, 20.1, 23.2, 22.3, 24.8, 28.5, 37.3, 27.9, 23.9, 21.7, 28.6, 27.1, 20.3, 22.5, 29.0, 24.8, 22.0, 26.4, 33.1, 36.1, 28.4, 33.4, 28.2, 22.8, 20.3, 16.1, 22.1, 19.4, 21.6, 23.8, 16.2, 17.8, 19.8, 23.1, 21.0, 23.8, 23.1, 20.4, 18.5, 25.0, 24.6, 23.0, 22.2, 19.3, 22.6, 19.8, 17.1, 19.4, 22.2, 20.7, 21.1, 19.5, 18.5, 20.6, 19.0, 18.7, 32.7, 16.5, 23.9, 31.2, 17.5, 17.2, 23.1, 24.5, 26.6, 22.9, 24.1, 18.6, 30.1, 18.2, 20.6, 17.8, 21.7, 22.7, 22.6, 25.0, 19.9, 20.8, 16.8, 21.9, 27.5, 21.9, 23.1, 50.0, 50.0, 50.0, 50.0, 50.0, 13.8, 13.8, 15.0, 13.9, 13.3, 13.1, 10.2, 10.4, 10.9, 11.3, 12.3, 8.8, 7.2, 10.5, 7.4, 10.2, 11.5, 15.1, 23.2, 9.7, 13.8, 12.7, 13.1, 12.5, 8.5, 5.0, 6.3, 5.6, 7.2, 12.1, 8.3, 8.5, 5.0, 11.9, 27.9, 17.2, 27.5, 15.0, 17.2, 17.9, 16.3, 7.0, 7.2, 7.5, 10.4, 8.8, 8.4, 16.7, 14.2, 20.8, 13.4, 11.7, 8.3, 10.2, 10.9, 11.0, 9.5, 14.5, 14.1, 16.1, 14.3, 11.7, 13.4, 9.6, 8.7, 8.4, 12.8, 10.5, 17.1, 18.4, 15.4, 10.8, 11.8, 14.9, 12.6, 14.1, 13.0, 13.4, 15.2, 16.1, 17.8, 14.9, 14.1, 12.7, 13.5, 14.9, 20.0, 16.4, 17.7, 19.5, 20.2, 21.4, 19.9, 19.0, 19.1, 19.1, 20.1, 19.9, 19.6, 23.2, 29.8, 13.8, 13.3, 16.7, 12.0, 14.6, 21.4, 23.0, 23.7, 25.0, 21.8, 20.6, 21.2, 19.1, 20.6, 15.2, 7.0, 8.1, 13.6, 20.1, 21.8, 24.5, 23.1, 19.7, 18.3, 21.2, 17.5, 16.8, 22.4, 20.6, 23.9, 22.0, 11.9]}, {\"axis\": {\"matches\": true}, \"label\": \"RAD\", \"values\": [1.0, 2.0, 2.0, 3.0, 3.0, 3.0, 5.0, 5.0, 5.0, 5.0, 5.0, 5.0, 5.0, 4.0, 4.0, 4.0, 4.0, 4.0, 4.0, 4.0, 4.0, 4.0, 4.0, 4.0, 4.0, 4.0, 4.0, 4.0, 4.0, 4.0, 4.0, 4.0, 4.0, 4.0, 4.0, 5.0, 5.0, 5.0, 5.0, 3.0, 3.0, 3.0, 3.0, 3.0, 3.0, 3.0, 3.0, 3.0, 3.0, 3.0, 4.0, 4.0, 4.0, 4.0, 3.0, 5.0, 2.0, 5.0, 8.0, 8.0, 8.0, 8.0, 8.0, 8.0, 3.0, 4.0, 4.0, 4.0, 4.0, 4.0, 4.0, 4.0, 4.0, 4.0, 5.0, 5.0, 5.0, 5.0, 5.0, 5.0, 4.0, 4.0, 4.0, 4.0, 3.0, 3.0, 3.0, 3.0, 2.0, 2.0, 2.0, 2.0, 4.0, 4.0, 4.0, 2.0, 2.0, 2.0, 2.0, 2.0, 5.0, 5.0, 5.0, 5.0, 5.0, 5.0, 5.0, 5.0, 5.0, 5.0, 5.0, 6.0, 6.0, 6.0, 6.0, 6.0, 6.0, 6.0, 6.0, 6.0, 2.0, 2.0, 2.0, 2.0, 2.0, 2.0, 2.0, 4.0, 4.0, 4.0, 4.0, 4.0, 4.0, 4.0, 4.0, 4.0, 4.0, 4.0, 4.0, 4.0, 4.0, 4.0, 5.0, 5.0, 5.0, 5.0, 5.0, 5.0, 5.0, 5.0, 5.0, 5.0, 5.0, 5.0, 5.0, 5.0, 5.0, 5.0, 5.0, 5.0, 5.0, 5.0, 5.0, 5.0, 5.0, 5.0, 5.0, 5.0, 5.0, 5.0, 5.0, 5.0, 5.0, 5.0, 5.0, 5.0, 5.0, 5.0, 5.0, 3.0, 3.0, 3.0, 3.0, 3.0, 3.0, 3.0, 3.0, 5.0, 5.0, 5.0, 5.0, 5.0, 5.0, 1.0, 1.0, 4.0, 2.0, 2.0, 2.0, 3.0, 3.0, 2.0, 2.0, 4.0, 4.0, 4.0, 4.0, 4.0, 4.0, 4.0, 4.0, 4.0, 4.0, 4.0, 4.0, 4.0, 5.0, 5.0, 5.0, 5.0, 8.0, 8.0, 8.0, 8.0, 8.0, 8.0, 8.0, 8.0, 8.0, 8.0, 8.0, 8.0, 8.0, 8.0, 8.0, 8.0, 8.0, 8.0, 6.0, 6.0, 6.0, 6.0, 6.0, 6.0, 7.0, 7.0, 7.0, 7.0, 7.0, 7.0, 7.0, 7.0, 7.0, 7.0, 1.0, 1.0, 3.0, 5.0, 5.0, 5.0, 5.0, 5.0, 5.0, 5.0, 5.0, 5.0, 5.0, 5.0, 5.0, 3.0, 3.0, 3.0, 3.0, 3.0, 4.0, 4.0, 4.0, 4.0, 4.0, 5.0, 5.0, 5.0, 5.0, 1.0, 1.0, 1.0, 1.0, 6.0, 6.0, 6.0, 4.0, 4.0, 4.0, 4.0, 4.0, 4.0, 4.0, 4.0, 5.0, 5.0, 5.0, 7.0, 7.0, 7.0, 7.0, 7.0, 7.0, 7.0, 4.0, 4.0, 4.0, 4.0, 4.0, 4.0, 4.0, 4.0, 4.0, 4.0, 4.0, 4.0, 5.0, 5.0, 5.0, 5.0, 5.0, 5.0, 5.0, 5.0, 4.0, 4.0, 4.0, 1.0, 1.0, 5.0, 5.0, 5.0, 5.0, 5.0, 5.0, 5.0, 5.0, 1.0, 1.0, 5.0, 5.0, 3.0, 3.0, 4.0, 4.0, 1.0, 1.0, 4.0, 4.0, 5.0, 4.0, 4.0, 24.0, 24.0, 24.0, 24.0, 24.0, 24.0, 24.0, 24.0, 24.0, 24.0, 24.0, 24.0, 24.0, 24.0, 24.0, 24.0, 24.0, 24.0, 24.0, 24.0, 24.0, 24.0, 24.0, 24.0, 24.0, 24.0, 24.0, 24.0, 24.0, 24.0, 24.0, 24.0, 24.0, 24.0, 24.0, 24.0, 24.0, 24.0, 24.0, 24.0, 24.0, 24.0, 24.0, 24.0, 24.0, 24.0, 24.0, 24.0, 24.0, 24.0, 24.0, 24.0, 24.0, 24.0, 24.0, 24.0, 24.0, 24.0, 24.0, 24.0, 24.0, 24.0, 24.0, 24.0, 24.0, 24.0, 24.0, 24.0, 24.0, 24.0, 24.0, 24.0, 24.0, 24.0, 24.0, 24.0, 24.0, 24.0, 24.0, 24.0, 24.0, 24.0, 24.0, 24.0, 24.0, 24.0, 24.0, 24.0, 24.0, 24.0, 24.0, 24.0, 24.0, 24.0, 24.0, 24.0, 24.0, 24.0, 24.0, 24.0, 24.0, 24.0, 24.0, 24.0, 24.0, 24.0, 24.0, 24.0, 24.0, 24.0, 24.0, 24.0, 24.0, 24.0, 24.0, 24.0, 24.0, 24.0, 24.0, 24.0, 24.0, 24.0, 24.0, 24.0, 24.0, 24.0, 24.0, 24.0, 24.0, 24.0, 24.0, 24.0, 4.0, 4.0, 4.0, 4.0, 4.0, 6.0, 6.0, 6.0, 6.0, 6.0, 6.0, 6.0, 6.0, 1.0, 1.0, 1.0, 1.0, 1.0]}, {\"axis\": {\"matches\": true}, \"label\": \"B\", \"values\": [396.9, 396.9, 392.83, 394.63, 396.9, 394.12, 395.6, 396.9, 386.63, 386.71, 392.52, 396.9, 390.5, 396.9, 380.02, 395.62, 386.85, 386.75, 288.99, 390.95, 376.57, 392.53, 396.9, 394.54, 394.33, 303.42, 376.88, 306.38, 387.94, 380.23, 360.17, 376.73, 232.6, 358.77, 248.31, 396.9, 377.56, 396.9, 393.43, 395.63, 395.62, 385.41, 383.37, 394.46, 389.39, 396.9, 396.9, 392.74, 396.9, 396.9, 395.56, 393.97, 396.9, 396.9, 396.9, 395.93, 396.9, 392.9, 390.68, 396.9, 395.11, 378.08, 396.9, 395.58, 393.24, 396.9, 396.9, 396.21, 396.9, 396.9, 383.73, 376.94, 390.91, 377.17, 394.92, 383.23, 373.66, 386.96, 386.4, 396.06, 396.9, 395.63, 396.9, 390.64, 396.9, 392.3, 395.99, 395.15, 396.9, 396.06, 392.18, 393.55, 395.01, 396.33, 396.9, 357.98, 391.83, 396.9, 393.53, 396.9, 394.76, 395.58, 70.8, 394.47, 392.69, 394.05, 395.67, 387.69, 395.24, 391.23, 393.49, 395.59, 394.95, 396.9, 388.74, 344.91, 393.3, 394.51, 338.63, 391.5, 389.15, 377.67, 378.09, 370.31, 379.38, 385.02, 359.29, 392.11, 396.9, 396.9, 395.04, 396.9, 385.76, 388.69, 262.76, 394.67, 378.25, 394.08, 392.04, 396.9, 388.08, 396.9, 396.9, 396.9, 396.9, 172.91, 169.27, 391.71, 356.99, 351.85, 372.8, 341.6, 343.28, 261.95, 321.02, 88.01, 88.63, 363.43, 353.89, 364.31, 338.92, 374.43, 389.61, 388.45, 395.11, 240.16, 369.3, 227.61, 297.09, 330.04, 292.29, 348.13, 396.9, 395.5, 393.23, 390.96, 393.23, 395.6, 391.27, 396.9, 395.56, 396.9, 394.12, 396.9, 391.0, 387.11, 392.63, 393.87, 382.84, 396.9, 377.68, 389.71, 390.49, 393.37, 376.7, 394.23, 396.9, 354.31, 392.2, 396.9, 384.3, 393.77, 395.38, 392.78, 390.55, 396.9, 394.87, 389.43, 381.32, 396.9, 393.25, 395.24, 390.94, 385.81, 348.93, 393.63, 392.8, 392.78, 396.9, 393.74, 391.7, 395.24, 390.39, 396.9, 385.05, 382.0, 387.38, 372.08, 377.51, 380.34, 378.35, 376.14, 385.91, 378.95, 360.2, 376.75, 388.45, 390.07, 379.41, 383.78, 391.25, 394.62, 372.75, 374.71, 372.49, 389.13, 390.18, 376.14, 374.71, 393.74, 396.28, 377.07, 386.09, 396.9, 392.89, 395.18, 386.34, 389.7, 383.29, 391.93, 392.8, 388.37, 386.86, 393.42, 387.89, 392.4, 384.07, 384.54, 390.3, 391.34, 388.65, 396.9, 394.96, 390.77, 396.9, 396.9, 389.25, 393.45, 396.9, 396.9, 387.31, 392.23, 377.07, 395.52, 394.72, 394.72, 341.6, 396.9, 396.9, 371.72, 396.9, 396.9, 396.9, 396.9, 396.9, 396.9, 392.85, 396.9, 368.24, 371.58, 390.86, 395.75, 383.61, 390.43, 393.68, 393.36, 396.9, 396.9, 396.9, 396.24, 350.45, 396.9, 396.3, 393.39, 395.69, 396.42, 390.7, 396.9, 395.21, 396.23, 396.9, 396.9, 396.9, 391.13, 396.9, 393.68, 396.9, 396.9, 382.44, 375.21, 368.57, 394.02, 362.25, 389.71, 389.4, 396.9, 396.9, 394.81, 396.14, 396.9, 396.9, 394.74, 389.96, 396.9, 387.97, 385.64, 364.61, 392.43, 390.94, 389.85, 396.9, 370.78, 392.33, 384.46, 382.8, 376.04, 377.73, 391.34, 395.43, 390.74, 374.56, 350.65, 380.79, 353.04, 354.55, 354.7, 316.03, 131.42, 375.52, 375.33, 392.05, 366.15, 347.88, 396.9, 396.9, 396.9, 363.02, 396.9, 396.9, 393.74, 396.9, 396.9, 396.9, 396.9, 285.83, 396.9, 396.9, 396.9, 372.92, 396.9, 394.43, 378.38, 396.9, 396.9, 396.9, 391.98, 396.9, 393.1, 396.9, 338.16, 396.9, 396.9, 376.11, 396.9, 329.46, 384.97, 370.22, 332.09, 314.64, 179.36, 2.6, 35.05, 28.79, 210.97, 88.27, 27.25, 21.57, 127.36, 16.45, 48.45, 318.75, 319.98, 291.55, 2.52, 3.65, 7.68, 24.65, 18.82, 96.73, 60.72, 83.45, 81.33, 97.95, 100.19, 100.63, 109.85, 27.49, 9.32, 68.95, 396.9, 391.45, 385.96, 395.69, 386.73, 240.52, 43.06, 318.01, 388.52, 396.9, 304.21, 0.32, 355.29, 385.09, 375.87, 6.68, 50.92, 10.48, 3.5, 272.21, 396.9, 255.23, 391.43, 396.9, 393.82, 396.9, 334.4, 22.01, 331.29, 368.74, 396.9, 396.9, 395.33, 393.37, 374.68, 352.58, 302.76, 396.21, 349.48, 379.7, 383.32, 396.9, 393.07, 395.28, 392.92, 370.73, 388.62, 392.68, 388.22, 395.09, 344.05, 318.43, 390.11, 396.9, 396.9, 396.9, 393.29, 396.9, 396.9, 396.9, 395.77, 396.9, 391.99, 396.9, 396.9, 393.45, 396.9]}], \"hoverlabel\": {\"namelength\": 0}, \"hovertemplate\": \"%{xaxis.title.text}=%{x}<br>%{yaxis.title.text}=%{y}\", \"legendgroup\": \"\", \"marker\": {\"color\": \"#636efa\", \"symbol\": \"circle\"}, \"name\": \"\", \"showlegend\": false, \"type\": \"splom\"}],\n",
              "                        {\"dragmode\": \"select\", \"legend\": {\"tracegroupgap\": 0}, \"margin\": {\"t\": 60}, \"template\": {\"data\": {\"bar\": [{\"error_x\": {\"color\": \"#2a3f5f\"}, \"error_y\": {\"color\": \"#2a3f5f\"}, \"marker\": {\"line\": {\"color\": \"#E5ECF6\", \"width\": 0.5}}, \"type\": \"bar\"}], \"barpolar\": [{\"marker\": {\"line\": {\"color\": \"#E5ECF6\", \"width\": 0.5}}, \"type\": \"barpolar\"}], \"carpet\": [{\"aaxis\": {\"endlinecolor\": \"#2a3f5f\", \"gridcolor\": \"white\", \"linecolor\": \"white\", \"minorgridcolor\": \"white\", \"startlinecolor\": \"#2a3f5f\"}, \"baxis\": {\"endlinecolor\": \"#2a3f5f\", \"gridcolor\": \"white\", \"linecolor\": \"white\", \"minorgridcolor\": \"white\", \"startlinecolor\": \"#2a3f5f\"}, \"type\": \"carpet\"}], \"choropleth\": [{\"colorbar\": {\"outlinewidth\": 0, \"ticks\": \"\"}, \"type\": \"choropleth\"}], \"contour\": [{\"colorbar\": {\"outlinewidth\": 0, \"ticks\": \"\"}, \"colorscale\": [[0.0, \"#0d0887\"], [0.1111111111111111, \"#46039f\"], [0.2222222222222222, \"#7201a8\"], [0.3333333333333333, \"#9c179e\"], [0.4444444444444444, \"#bd3786\"], [0.5555555555555556, \"#d8576b\"], [0.6666666666666666, \"#ed7953\"], [0.7777777777777778, \"#fb9f3a\"], [0.8888888888888888, \"#fdca26\"], [1.0, \"#f0f921\"]], \"type\": \"contour\"}], \"contourcarpet\": [{\"colorbar\": {\"outlinewidth\": 0, \"ticks\": \"\"}, \"type\": \"contourcarpet\"}], \"heatmap\": [{\"colorbar\": {\"outlinewidth\": 0, \"ticks\": \"\"}, \"colorscale\": [[0.0, \"#0d0887\"], [0.1111111111111111, \"#46039f\"], [0.2222222222222222, \"#7201a8\"], [0.3333333333333333, \"#9c179e\"], [0.4444444444444444, \"#bd3786\"], [0.5555555555555556, \"#d8576b\"], [0.6666666666666666, \"#ed7953\"], [0.7777777777777778, \"#fb9f3a\"], [0.8888888888888888, \"#fdca26\"], [1.0, \"#f0f921\"]], \"type\": \"heatmap\"}], \"heatmapgl\": [{\"colorbar\": {\"outlinewidth\": 0, \"ticks\": \"\"}, \"colorscale\": [[0.0, \"#0d0887\"], [0.1111111111111111, \"#46039f\"], [0.2222222222222222, \"#7201a8\"], [0.3333333333333333, \"#9c179e\"], [0.4444444444444444, \"#bd3786\"], [0.5555555555555556, \"#d8576b\"], [0.6666666666666666, \"#ed7953\"], [0.7777777777777778, \"#fb9f3a\"], [0.8888888888888888, \"#fdca26\"], [1.0, \"#f0f921\"]], \"type\": \"heatmapgl\"}], \"histogram\": [{\"marker\": {\"colorbar\": {\"outlinewidth\": 0, \"ticks\": \"\"}}, \"type\": \"histogram\"}], \"histogram2d\": [{\"colorbar\": {\"outlinewidth\": 0, \"ticks\": \"\"}, \"colorscale\": [[0.0, \"#0d0887\"], [0.1111111111111111, \"#46039f\"], [0.2222222222222222, \"#7201a8\"], [0.3333333333333333, \"#9c179e\"], [0.4444444444444444, \"#bd3786\"], [0.5555555555555556, \"#d8576b\"], [0.6666666666666666, \"#ed7953\"], [0.7777777777777778, \"#fb9f3a\"], [0.8888888888888888, \"#fdca26\"], [1.0, \"#f0f921\"]], \"type\": \"histogram2d\"}], \"histogram2dcontour\": [{\"colorbar\": {\"outlinewidth\": 0, \"ticks\": \"\"}, \"colorscale\": [[0.0, \"#0d0887\"], [0.1111111111111111, \"#46039f\"], [0.2222222222222222, \"#7201a8\"], [0.3333333333333333, \"#9c179e\"], [0.4444444444444444, \"#bd3786\"], [0.5555555555555556, \"#d8576b\"], [0.6666666666666666, \"#ed7953\"], [0.7777777777777778, \"#fb9f3a\"], [0.8888888888888888, \"#fdca26\"], [1.0, \"#f0f921\"]], \"type\": \"histogram2dcontour\"}], \"mesh3d\": [{\"colorbar\": {\"outlinewidth\": 0, \"ticks\": \"\"}, \"type\": \"mesh3d\"}], \"parcoords\": [{\"line\": {\"colorbar\": {\"outlinewidth\": 0, \"ticks\": \"\"}}, \"type\": \"parcoords\"}], \"pie\": [{\"automargin\": true, \"type\": \"pie\"}], \"scatter\": [{\"marker\": {\"colorbar\": {\"outlinewidth\": 0, \"ticks\": \"\"}}, \"type\": \"scatter\"}], \"scatter3d\": [{\"line\": {\"colorbar\": {\"outlinewidth\": 0, \"ticks\": \"\"}}, \"marker\": {\"colorbar\": {\"outlinewidth\": 0, \"ticks\": \"\"}}, \"type\": \"scatter3d\"}], \"scattercarpet\": [{\"marker\": {\"colorbar\": {\"outlinewidth\": 0, \"ticks\": \"\"}}, \"type\": \"scattercarpet\"}], \"scattergeo\": [{\"marker\": {\"colorbar\": {\"outlinewidth\": 0, \"ticks\": \"\"}}, \"type\": \"scattergeo\"}], \"scattergl\": [{\"marker\": {\"colorbar\": {\"outlinewidth\": 0, \"ticks\": \"\"}}, \"type\": \"scattergl\"}], \"scattermapbox\": [{\"marker\": {\"colorbar\": {\"outlinewidth\": 0, \"ticks\": \"\"}}, \"type\": \"scattermapbox\"}], \"scatterpolar\": [{\"marker\": {\"colorbar\": {\"outlinewidth\": 0, \"ticks\": \"\"}}, \"type\": \"scatterpolar\"}], \"scatterpolargl\": [{\"marker\": {\"colorbar\": {\"outlinewidth\": 0, \"ticks\": \"\"}}, \"type\": \"scatterpolargl\"}], \"scatterternary\": [{\"marker\": {\"colorbar\": {\"outlinewidth\": 0, \"ticks\": \"\"}}, \"type\": \"scatterternary\"}], \"surface\": [{\"colorbar\": {\"outlinewidth\": 0, \"ticks\": \"\"}, \"colorscale\": [[0.0, \"#0d0887\"], [0.1111111111111111, \"#46039f\"], [0.2222222222222222, \"#7201a8\"], [0.3333333333333333, \"#9c179e\"], [0.4444444444444444, \"#bd3786\"], [0.5555555555555556, \"#d8576b\"], [0.6666666666666666, \"#ed7953\"], [0.7777777777777778, \"#fb9f3a\"], [0.8888888888888888, \"#fdca26\"], [1.0, \"#f0f921\"]], \"type\": \"surface\"}], \"table\": [{\"cells\": {\"fill\": {\"color\": \"#EBF0F8\"}, \"line\": {\"color\": \"white\"}}, \"header\": {\"fill\": {\"color\": \"#C8D4E3\"}, \"line\": {\"color\": \"white\"}}, \"type\": \"table\"}]}, \"layout\": {\"annotationdefaults\": {\"arrowcolor\": \"#2a3f5f\", \"arrowhead\": 0, \"arrowwidth\": 1}, \"coloraxis\": {\"colorbar\": {\"outlinewidth\": 0, \"ticks\": \"\"}}, \"colorscale\": {\"diverging\": [[0, \"#8e0152\"], [0.1, \"#c51b7d\"], [0.2, \"#de77ae\"], [0.3, \"#f1b6da\"], [0.4, \"#fde0ef\"], [0.5, \"#f7f7f7\"], [0.6, \"#e6f5d0\"], [0.7, \"#b8e186\"], [0.8, \"#7fbc41\"], [0.9, \"#4d9221\"], [1, \"#276419\"]], \"sequential\": [[0.0, \"#0d0887\"], [0.1111111111111111, \"#46039f\"], [0.2222222222222222, \"#7201a8\"], [0.3333333333333333, \"#9c179e\"], [0.4444444444444444, \"#bd3786\"], [0.5555555555555556, \"#d8576b\"], [0.6666666666666666, \"#ed7953\"], [0.7777777777777778, \"#fb9f3a\"], [0.8888888888888888, \"#fdca26\"], [1.0, \"#f0f921\"]], \"sequentialminus\": [[0.0, \"#0d0887\"], [0.1111111111111111, \"#46039f\"], [0.2222222222222222, \"#7201a8\"], [0.3333333333333333, \"#9c179e\"], [0.4444444444444444, \"#bd3786\"], [0.5555555555555556, \"#d8576b\"], [0.6666666666666666, \"#ed7953\"], [0.7777777777777778, \"#fb9f3a\"], [0.8888888888888888, \"#fdca26\"], [1.0, \"#f0f921\"]]}, \"colorway\": [\"#636efa\", \"#EF553B\", \"#00cc96\", \"#ab63fa\", \"#FFA15A\", \"#19d3f3\", \"#FF6692\", \"#B6E880\", \"#FF97FF\", \"#FECB52\"], \"font\": {\"color\": \"#2a3f5f\"}, \"geo\": {\"bgcolor\": \"white\", \"lakecolor\": \"white\", \"landcolor\": \"#E5ECF6\", \"showlakes\": true, \"showland\": true, \"subunitcolor\": \"white\"}, \"hoverlabel\": {\"align\": \"left\"}, \"hovermode\": \"closest\", \"mapbox\": {\"style\": \"light\"}, \"paper_bgcolor\": \"white\", \"plot_bgcolor\": \"#E5ECF6\", \"polar\": {\"angularaxis\": {\"gridcolor\": \"white\", \"linecolor\": \"white\", \"ticks\": \"\"}, \"bgcolor\": \"#E5ECF6\", \"radialaxis\": {\"gridcolor\": \"white\", \"linecolor\": \"white\", \"ticks\": \"\"}}, \"scene\": {\"xaxis\": {\"backgroundcolor\": \"#E5ECF6\", \"gridcolor\": \"white\", \"gridwidth\": 2, \"linecolor\": \"white\", \"showbackground\": true, \"ticks\": \"\", \"zerolinecolor\": \"white\"}, \"yaxis\": {\"backgroundcolor\": \"#E5ECF6\", \"gridcolor\": \"white\", \"gridwidth\": 2, \"linecolor\": \"white\", \"showbackground\": true, \"ticks\": \"\", \"zerolinecolor\": \"white\"}, \"zaxis\": {\"backgroundcolor\": \"#E5ECF6\", \"gridcolor\": \"white\", \"gridwidth\": 2, \"linecolor\": \"white\", \"showbackground\": true, \"ticks\": \"\", \"zerolinecolor\": \"white\"}}, \"shapedefaults\": {\"line\": {\"color\": \"#2a3f5f\"}}, \"ternary\": {\"aaxis\": {\"gridcolor\": \"white\", \"linecolor\": \"white\", \"ticks\": \"\"}, \"baxis\": {\"gridcolor\": \"white\", \"linecolor\": \"white\", \"ticks\": \"\"}, \"bgcolor\": \"#E5ECF6\", \"caxis\": {\"gridcolor\": \"white\", \"linecolor\": \"white\", \"ticks\": \"\"}}, \"title\": {\"x\": 0.05}, \"xaxis\": {\"automargin\": true, \"gridcolor\": \"white\", \"linecolor\": \"white\", \"ticks\": \"\", \"title\": {\"standoff\": 15}, \"zerolinecolor\": \"white\", \"zerolinewidth\": 2}, \"yaxis\": {\"automargin\": true, \"gridcolor\": \"white\", \"linecolor\": \"white\", \"ticks\": \"\", \"title\": {\"standoff\": 15}, \"zerolinecolor\": \"white\", \"zerolinewidth\": 2}}}},\n",
              "                        {\"responsive\": true}\n",
              "                    ).then(function(){\n",
              "                            \n",
              "var gd = document.getElementById('28274d4a-a6e1-43e7-8427-3a8dc7358060');\n",
              "var x = new MutationObserver(function (mutations, observer) {{\n",
              "        var display = window.getComputedStyle(gd).display;\n",
              "        if (!display || display === 'none') {{\n",
              "            console.log([gd, 'removed!']);\n",
              "            Plotly.purge(gd);\n",
              "            observer.disconnect();\n",
              "        }}\n",
              "}});\n",
              "\n",
              "// Listen for the removal of the full notebook cells\n",
              "var notebookContainer = gd.closest('#notebook-container');\n",
              "if (notebookContainer) {{\n",
              "    x.observe(notebookContainer, {childList: true});\n",
              "}}\n",
              "\n",
              "// Listen for the clearing of the current output cell\n",
              "var outputEl = gd.closest('.output');\n",
              "if (outputEl) {{\n",
              "    x.observe(outputEl, {childList: true});\n",
              "}}\n",
              "\n",
              "                        })\n",
              "                };\n",
              "                \n",
              "            </script>\n",
              "        </div>\n",
              "</body>\n",
              "</html>"
            ]
          },
          "metadata": {
            "tags": []
          }
        }
      ]
    },
    {
      "cell_type": "markdown",
      "metadata": {
        "id": "skf072nsviXi"
      },
      "source": [
        "さて、ヒートマップを観察すると、\n",
        "`NOX`（酸化窒素の濃度）と`INDUS`（工業化地域の指標）の間にも強い正の相関関係が存在することが分かります。\n",
        "```python\n",
        "px.scatter(boston, x ='INDUS', y='NOX')\n",
        "```"
      ]
    },
    {
      "cell_type": "code",
      "metadata": {
        "colab": {
          "base_uri": "https://localhost:8080/",
          "height": 542
        },
        "id": "jwmSW13iNVbW",
        "outputId": "59a4722a-919c-4ee6-d3ff-29a55cc85769"
      },
      "source": [
        "px.scatter(boston, x ='INDUS', y='NOX')"
      ],
      "execution_count": null,
      "outputs": [
        {
          "output_type": "display_data",
          "data": {
            "text/html": [
              "<html>\n",
              "<head><meta charset=\"utf-8\" /></head>\n",
              "<body>\n",
              "    <div>\n",
              "            <script src=\"https://cdnjs.cloudflare.com/ajax/libs/mathjax/2.7.5/MathJax.js?config=TeX-AMS-MML_SVG\"></script><script type=\"text/javascript\">if (window.MathJax) {MathJax.Hub.Config({SVG: {font: \"STIX-Web\"}});}</script>\n",
              "                <script type=\"text/javascript\">window.PlotlyConfig = {MathJaxConfig: 'local'};</script>\n",
              "        <script src=\"https://cdn.plot.ly/plotly-latest.min.js\"></script>    \n",
              "            <div id=\"c22c3280-c129-4eb8-bff0-f175b88923cb\" class=\"plotly-graph-div\" style=\"height:525px; width:100%;\"></div>\n",
              "            <script type=\"text/javascript\">\n",
              "                \n",
              "                    window.PLOTLYENV=window.PLOTLYENV || {};\n",
              "                    \n",
              "                if (document.getElementById(\"c22c3280-c129-4eb8-bff0-f175b88923cb\")) {\n",
              "                    Plotly.newPlot(\n",
              "                        'c22c3280-c129-4eb8-bff0-f175b88923cb',\n",
              "                        [{\"hoverlabel\": {\"namelength\": 0}, \"hovertemplate\": \"INDUS=%{x}<br>NOX=%{y}\", \"legendgroup\": \"\", \"marker\": {\"color\": \"#636efa\", \"symbol\": \"circle\"}, \"mode\": \"markers\", \"name\": \"\", \"showlegend\": false, \"type\": \"scatter\", \"x\": [2.31, 7.07, 7.07, 2.18, 2.18, 2.18, 7.87, 7.87, 7.87, 7.87, 7.87, 7.87, 7.87, 8.14, 8.14, 8.14, 8.14, 8.14, 8.14, 8.14, 8.14, 8.14, 8.14, 8.14, 8.14, 8.14, 8.14, 8.14, 8.14, 8.14, 8.14, 8.14, 8.14, 8.14, 8.14, 5.96, 5.96, 5.96, 5.96, 2.95, 2.95, 6.91, 6.91, 6.91, 6.91, 6.91, 6.91, 6.91, 6.91, 6.91, 5.64, 5.64, 5.64, 5.64, 4.0, 1.22, 0.74, 1.32, 5.13, 5.13, 5.13, 5.13, 5.13, 5.13, 1.38, 3.37, 3.37, 6.07, 6.07, 6.07, 10.81, 10.81, 10.81, 10.81, 12.83, 12.83, 12.83, 12.83, 12.83, 12.83, 4.86, 4.86, 4.86, 4.86, 4.49, 4.49, 4.49, 4.49, 3.41, 3.41, 3.41, 3.41, 15.04, 15.04, 15.04, 2.89, 2.89, 2.89, 2.89, 2.89, 8.56, 8.56, 8.56, 8.56, 8.56, 8.56, 8.56, 8.56, 8.56, 8.56, 8.56, 10.01, 10.01, 10.01, 10.01, 10.01, 10.01, 10.01, 10.01, 10.01, 25.65, 25.65, 25.65, 25.65, 25.65, 25.65, 25.65, 21.89, 21.89, 21.89, 21.89, 21.89, 21.89, 21.89, 21.89, 21.89, 21.89, 21.89, 21.89, 21.89, 21.89, 21.89, 19.58, 19.58, 19.58, 19.58, 19.58, 19.58, 19.58, 19.58, 19.58, 19.58, 19.58, 19.58, 19.58, 19.58, 19.58, 19.58, 19.58, 19.58, 19.58, 19.58, 19.58, 19.58, 19.58, 19.58, 19.58, 19.58, 19.58, 19.58, 19.58, 19.58, 4.05, 4.05, 4.05, 4.05, 4.05, 4.05, 4.05, 2.46, 2.46, 2.46, 2.46, 2.46, 2.46, 2.46, 2.46, 3.44, 3.44, 3.44, 3.44, 3.44, 3.44, 2.93, 2.93, 0.46, 1.52, 1.52, 1.52, 1.47, 1.47, 2.03, 2.03, 2.68, 2.68, 10.59, 10.59, 10.59, 10.59, 10.59, 10.59, 10.59, 10.59, 10.59, 10.59, 10.59, 13.89, 13.89, 13.89, 13.89, 6.2, 6.2, 6.2, 6.2, 6.2, 6.2, 6.2, 6.2, 6.2, 6.2, 6.2, 6.2, 6.2, 6.2, 6.2, 6.2, 6.2, 6.2, 4.93, 4.93, 4.93, 4.93, 4.93, 4.93, 5.86, 5.86, 5.86, 5.86, 5.86, 5.86, 5.86, 5.86, 5.86, 5.86, 3.64, 3.64, 3.75, 3.97, 3.97, 3.97, 3.97, 3.97, 3.97, 3.97, 3.97, 3.97, 3.97, 3.97, 3.97, 6.96, 6.96, 6.96, 6.96, 6.96, 6.41, 6.41, 6.41, 6.41, 6.41, 3.33, 3.33, 3.33, 3.33, 1.21, 2.97, 2.25, 1.76, 5.32, 5.32, 5.32, 4.95, 4.95, 4.95, 13.92, 13.92, 13.92, 13.92, 13.92, 2.24, 2.24, 2.24, 6.09, 6.09, 6.09, 2.18, 2.18, 2.18, 2.18, 9.9, 9.9, 9.9, 9.9, 9.9, 9.9, 9.9, 9.9, 9.9, 9.9, 9.9, 9.9, 7.38, 7.38, 7.38, 7.38, 7.38, 7.38, 7.38, 7.38, 3.24, 3.24, 3.24, 6.06, 6.06, 5.19, 5.19, 5.19, 5.19, 5.19, 5.19, 5.19, 5.19, 1.52, 1.89, 3.78, 3.78, 4.39, 4.39, 4.15, 2.01, 1.25, 1.25, 1.69, 1.69, 2.02, 1.91, 1.91, 18.1, 18.1, 18.1, 18.1, 18.1, 18.1, 18.1, 18.1, 18.1, 18.1, 18.1, 18.1, 18.1, 18.1, 18.1, 18.1, 18.1, 18.1, 18.1, 18.1, 18.1, 18.1, 18.1, 18.1, 18.1, 18.1, 18.1, 18.1, 18.1, 18.1, 18.1, 18.1, 18.1, 18.1, 18.1, 18.1, 18.1, 18.1, 18.1, 18.1, 18.1, 18.1, 18.1, 18.1, 18.1, 18.1, 18.1, 18.1, 18.1, 18.1, 18.1, 18.1, 18.1, 18.1, 18.1, 18.1, 18.1, 18.1, 18.1, 18.1, 18.1, 18.1, 18.1, 18.1, 18.1, 18.1, 18.1, 18.1, 18.1, 18.1, 18.1, 18.1, 18.1, 18.1, 18.1, 18.1, 18.1, 18.1, 18.1, 18.1, 18.1, 18.1, 18.1, 18.1, 18.1, 18.1, 18.1, 18.1, 18.1, 18.1, 18.1, 18.1, 18.1, 18.1, 18.1, 18.1, 18.1, 18.1, 18.1, 18.1, 18.1, 18.1, 18.1, 18.1, 18.1, 18.1, 18.1, 18.1, 18.1, 18.1, 18.1, 18.1, 18.1, 18.1, 18.1, 18.1, 18.1, 18.1, 18.1, 18.1, 18.1, 18.1, 18.1, 18.1, 18.1, 18.1, 18.1, 18.1, 18.1, 18.1, 18.1, 18.1, 27.74, 27.74, 27.74, 27.74, 27.74, 9.69, 9.69, 9.69, 9.69, 9.69, 9.69, 9.69, 9.69, 11.93, 11.93, 11.93, 11.93, 11.93], \"xaxis\": \"x\", \"y\": [0.538, 0.469, 0.469, 0.458, 0.458, 0.458, 0.524, 0.524, 0.524, 0.524, 0.524, 0.524, 0.524, 0.538, 0.538, 0.538, 0.538, 0.538, 0.538, 0.538, 0.538, 0.538, 0.538, 0.538, 0.538, 0.538, 0.538, 0.538, 0.538, 0.538, 0.538, 0.538, 0.538, 0.538, 0.538, 0.499, 0.499, 0.499, 0.499, 0.428, 0.428, 0.448, 0.448, 0.448, 0.448, 0.448, 0.448, 0.448, 0.448, 0.448, 0.439, 0.439, 0.439, 0.439, 0.41, 0.403, 0.41, 0.411, 0.453, 0.453, 0.453, 0.453, 0.453, 0.453, 0.4161, 0.398, 0.398, 0.409, 0.409, 0.409, 0.413, 0.413, 0.413, 0.413, 0.437, 0.437, 0.437, 0.437, 0.437, 0.437, 0.426, 0.426, 0.426, 0.426, 0.449, 0.449, 0.449, 0.449, 0.489, 0.489, 0.489, 0.489, 0.464, 0.464, 0.464, 0.445, 0.445, 0.445, 0.445, 0.445, 0.52, 0.52, 0.52, 0.52, 0.52, 0.52, 0.52, 0.52, 0.52, 0.52, 0.52, 0.547, 0.547, 0.547, 0.547, 0.547, 0.547, 0.547, 0.547, 0.547, 0.581, 0.581, 0.581, 0.581, 0.581, 0.581, 0.581, 0.624, 0.624, 0.624, 0.624, 0.624, 0.624, 0.624, 0.624, 0.624, 0.624, 0.624, 0.624, 0.624, 0.624, 0.624, 0.871, 0.871, 0.871, 0.871, 0.871, 0.871, 0.871, 0.871, 0.871, 0.871, 0.871, 0.871, 0.871, 0.871, 0.871, 0.605, 0.605, 0.871, 0.605, 0.605, 0.605, 0.605, 0.605, 0.605, 0.605, 0.605, 0.605, 0.605, 0.605, 0.605, 0.51, 0.51, 0.51, 0.51, 0.51, 0.51, 0.51, 0.488, 0.488, 0.488, 0.488, 0.488, 0.488, 0.488, 0.488, 0.437, 0.437, 0.437, 0.437, 0.437, 0.437, 0.401, 0.401, 0.422, 0.404, 0.404, 0.404, 0.403, 0.403, 0.415, 0.415, 0.4161, 0.4161, 0.489, 0.489, 0.489, 0.489, 0.489, 0.489, 0.489, 0.489, 0.489, 0.489, 0.489, 0.55, 0.55, 0.55, 0.55, 0.507, 0.507, 0.507, 0.507, 0.504, 0.504, 0.504, 0.504, 0.504, 0.504, 0.504, 0.504, 0.507, 0.507, 0.507, 0.507, 0.507, 0.507, 0.428, 0.428, 0.428, 0.428, 0.428, 0.428, 0.431, 0.431, 0.431, 0.431, 0.431, 0.431, 0.431, 0.431, 0.431, 0.431, 0.392, 0.392, 0.394, 0.647, 0.647, 0.647, 0.647, 0.647, 0.647, 0.647, 0.647, 0.647, 0.647, 0.575, 0.575, 0.464, 0.464, 0.464, 0.464, 0.464, 0.447, 0.447, 0.447, 0.447, 0.447, 0.4429, 0.4429, 0.4429, 0.4429, 0.401, 0.4, 0.389, 0.385, 0.405, 0.405, 0.405, 0.411, 0.411, 0.411, 0.437, 0.437, 0.437, 0.437, 0.437, 0.4, 0.4, 0.4, 0.433, 0.433, 0.433, 0.472, 0.472, 0.472, 0.472, 0.544, 0.544, 0.544, 0.544, 0.544, 0.544, 0.544, 0.544, 0.544, 0.544, 0.544, 0.544, 0.493, 0.493, 0.493, 0.493, 0.493, 0.493, 0.493, 0.493, 0.46, 0.46, 0.46, 0.4379, 0.4379, 0.515, 0.515, 0.515, 0.515, 0.515, 0.515, 0.515, 0.515, 0.442, 0.518, 0.484, 0.484, 0.442, 0.442, 0.429, 0.435, 0.429, 0.429, 0.411, 0.411, 0.41, 0.413, 0.413, 0.77, 0.77, 0.77, 0.77, 0.77, 0.77, 0.77, 0.77, 0.718, 0.718, 0.718, 0.631, 0.631, 0.631, 0.631, 0.631, 0.668, 0.668, 0.668, 0.671, 0.671, 0.671, 0.671, 0.671, 0.671, 0.671, 0.7, 0.7, 0.7, 0.7, 0.7, 0.7, 0.7, 0.7, 0.7, 0.7, 0.7, 0.693, 0.693, 0.693, 0.693, 0.693, 0.693, 0.693, 0.693, 0.693, 0.693, 0.693, 0.693, 0.693, 0.659, 0.659, 0.597, 0.597, 0.597, 0.597, 0.597, 0.597, 0.693, 0.679, 0.679, 0.679, 0.679, 0.718, 0.718, 0.718, 0.614, 0.614, 0.584, 0.679, 0.584, 0.679, 0.679, 0.679, 0.584, 0.584, 0.584, 0.713, 0.713, 0.74, 0.74, 0.74, 0.74, 0.74, 0.74, 0.74, 0.74, 0.74, 0.74, 0.74, 0.74, 0.74, 0.713, 0.713, 0.713, 0.713, 0.713, 0.713, 0.713, 0.713, 0.713, 0.713, 0.713, 0.713, 0.713, 0.713, 0.713, 0.713, 0.655, 0.655, 0.655, 0.584, 0.58, 0.58, 0.58, 0.532, 0.58, 0.614, 0.584, 0.584, 0.614, 0.614, 0.614, 0.614, 0.532, 0.532, 0.532, 0.532, 0.583, 0.583, 0.583, 0.583, 0.609, 0.609, 0.609, 0.609, 0.609, 0.585, 0.585, 0.585, 0.585, 0.585, 0.585, 0.585, 0.585, 0.573, 0.573, 0.573, 0.573, 0.573], \"yaxis\": \"y\"}],\n",
              "                        {\"legend\": {\"tracegroupgap\": 0}, \"margin\": {\"t\": 60}, \"template\": {\"data\": {\"bar\": [{\"error_x\": {\"color\": \"#2a3f5f\"}, \"error_y\": {\"color\": \"#2a3f5f\"}, \"marker\": {\"line\": {\"color\": \"#E5ECF6\", \"width\": 0.5}}, \"type\": \"bar\"}], \"barpolar\": [{\"marker\": {\"line\": {\"color\": \"#E5ECF6\", \"width\": 0.5}}, \"type\": \"barpolar\"}], \"carpet\": [{\"aaxis\": {\"endlinecolor\": \"#2a3f5f\", \"gridcolor\": \"white\", \"linecolor\": \"white\", \"minorgridcolor\": \"white\", \"startlinecolor\": \"#2a3f5f\"}, \"baxis\": {\"endlinecolor\": \"#2a3f5f\", \"gridcolor\": \"white\", \"linecolor\": \"white\", \"minorgridcolor\": \"white\", \"startlinecolor\": \"#2a3f5f\"}, \"type\": \"carpet\"}], \"choropleth\": [{\"colorbar\": {\"outlinewidth\": 0, \"ticks\": \"\"}, \"type\": \"choropleth\"}], \"contour\": [{\"colorbar\": {\"outlinewidth\": 0, \"ticks\": \"\"}, \"colorscale\": [[0.0, \"#0d0887\"], [0.1111111111111111, \"#46039f\"], [0.2222222222222222, \"#7201a8\"], [0.3333333333333333, \"#9c179e\"], [0.4444444444444444, \"#bd3786\"], [0.5555555555555556, \"#d8576b\"], [0.6666666666666666, \"#ed7953\"], [0.7777777777777778, \"#fb9f3a\"], [0.8888888888888888, \"#fdca26\"], [1.0, \"#f0f921\"]], \"type\": \"contour\"}], \"contourcarpet\": [{\"colorbar\": {\"outlinewidth\": 0, \"ticks\": \"\"}, \"type\": \"contourcarpet\"}], \"heatmap\": [{\"colorbar\": {\"outlinewidth\": 0, \"ticks\": \"\"}, \"colorscale\": [[0.0, \"#0d0887\"], [0.1111111111111111, \"#46039f\"], [0.2222222222222222, \"#7201a8\"], [0.3333333333333333, \"#9c179e\"], [0.4444444444444444, \"#bd3786\"], [0.5555555555555556, \"#d8576b\"], [0.6666666666666666, \"#ed7953\"], [0.7777777777777778, \"#fb9f3a\"], [0.8888888888888888, \"#fdca26\"], [1.0, \"#f0f921\"]], \"type\": \"heatmap\"}], \"heatmapgl\": [{\"colorbar\": {\"outlinewidth\": 0, \"ticks\": \"\"}, \"colorscale\": [[0.0, \"#0d0887\"], [0.1111111111111111, \"#46039f\"], [0.2222222222222222, \"#7201a8\"], [0.3333333333333333, \"#9c179e\"], [0.4444444444444444, \"#bd3786\"], [0.5555555555555556, \"#d8576b\"], [0.6666666666666666, \"#ed7953\"], [0.7777777777777778, \"#fb9f3a\"], [0.8888888888888888, \"#fdca26\"], [1.0, \"#f0f921\"]], \"type\": \"heatmapgl\"}], \"histogram\": [{\"marker\": {\"colorbar\": {\"outlinewidth\": 0, \"ticks\": \"\"}}, \"type\": \"histogram\"}], \"histogram2d\": [{\"colorbar\": {\"outlinewidth\": 0, \"ticks\": \"\"}, \"colorscale\": [[0.0, \"#0d0887\"], [0.1111111111111111, \"#46039f\"], [0.2222222222222222, \"#7201a8\"], [0.3333333333333333, \"#9c179e\"], [0.4444444444444444, \"#bd3786\"], [0.5555555555555556, \"#d8576b\"], [0.6666666666666666, \"#ed7953\"], [0.7777777777777778, \"#fb9f3a\"], [0.8888888888888888, \"#fdca26\"], [1.0, \"#f0f921\"]], \"type\": \"histogram2d\"}], \"histogram2dcontour\": [{\"colorbar\": {\"outlinewidth\": 0, \"ticks\": \"\"}, \"colorscale\": [[0.0, \"#0d0887\"], [0.1111111111111111, \"#46039f\"], [0.2222222222222222, \"#7201a8\"], [0.3333333333333333, \"#9c179e\"], [0.4444444444444444, \"#bd3786\"], [0.5555555555555556, \"#d8576b\"], [0.6666666666666666, \"#ed7953\"], [0.7777777777777778, \"#fb9f3a\"], [0.8888888888888888, \"#fdca26\"], [1.0, \"#f0f921\"]], \"type\": \"histogram2dcontour\"}], \"mesh3d\": [{\"colorbar\": {\"outlinewidth\": 0, \"ticks\": \"\"}, \"type\": \"mesh3d\"}], \"parcoords\": [{\"line\": {\"colorbar\": {\"outlinewidth\": 0, \"ticks\": \"\"}}, \"type\": \"parcoords\"}], \"pie\": [{\"automargin\": true, \"type\": \"pie\"}], \"scatter\": [{\"marker\": {\"colorbar\": {\"outlinewidth\": 0, \"ticks\": \"\"}}, \"type\": \"scatter\"}], \"scatter3d\": [{\"line\": {\"colorbar\": {\"outlinewidth\": 0, \"ticks\": \"\"}}, \"marker\": {\"colorbar\": {\"outlinewidth\": 0, \"ticks\": \"\"}}, \"type\": \"scatter3d\"}], \"scattercarpet\": [{\"marker\": {\"colorbar\": {\"outlinewidth\": 0, \"ticks\": \"\"}}, \"type\": \"scattercarpet\"}], \"scattergeo\": [{\"marker\": {\"colorbar\": {\"outlinewidth\": 0, \"ticks\": \"\"}}, \"type\": \"scattergeo\"}], \"scattergl\": [{\"marker\": {\"colorbar\": {\"outlinewidth\": 0, \"ticks\": \"\"}}, \"type\": \"scattergl\"}], \"scattermapbox\": [{\"marker\": {\"colorbar\": {\"outlinewidth\": 0, \"ticks\": \"\"}}, \"type\": \"scattermapbox\"}], \"scatterpolar\": [{\"marker\": {\"colorbar\": {\"outlinewidth\": 0, \"ticks\": \"\"}}, \"type\": \"scatterpolar\"}], \"scatterpolargl\": [{\"marker\": {\"colorbar\": {\"outlinewidth\": 0, \"ticks\": \"\"}}, \"type\": \"scatterpolargl\"}], \"scatterternary\": [{\"marker\": {\"colorbar\": {\"outlinewidth\": 0, \"ticks\": \"\"}}, \"type\": \"scatterternary\"}], \"surface\": [{\"colorbar\": {\"outlinewidth\": 0, \"ticks\": \"\"}, \"colorscale\": [[0.0, \"#0d0887\"], [0.1111111111111111, \"#46039f\"], [0.2222222222222222, \"#7201a8\"], [0.3333333333333333, \"#9c179e\"], [0.4444444444444444, \"#bd3786\"], [0.5555555555555556, \"#d8576b\"], [0.6666666666666666, \"#ed7953\"], [0.7777777777777778, \"#fb9f3a\"], [0.8888888888888888, \"#fdca26\"], [1.0, \"#f0f921\"]], \"type\": \"surface\"}], \"table\": [{\"cells\": {\"fill\": {\"color\": \"#EBF0F8\"}, \"line\": {\"color\": \"white\"}}, \"header\": {\"fill\": {\"color\": \"#C8D4E3\"}, \"line\": {\"color\": \"white\"}}, \"type\": \"table\"}]}, \"layout\": {\"annotationdefaults\": {\"arrowcolor\": \"#2a3f5f\", \"arrowhead\": 0, \"arrowwidth\": 1}, \"coloraxis\": {\"colorbar\": {\"outlinewidth\": 0, \"ticks\": \"\"}}, \"colorscale\": {\"diverging\": [[0, \"#8e0152\"], [0.1, \"#c51b7d\"], [0.2, \"#de77ae\"], [0.3, \"#f1b6da\"], [0.4, \"#fde0ef\"], [0.5, \"#f7f7f7\"], [0.6, \"#e6f5d0\"], [0.7, \"#b8e186\"], [0.8, \"#7fbc41\"], [0.9, \"#4d9221\"], [1, \"#276419\"]], \"sequential\": [[0.0, \"#0d0887\"], [0.1111111111111111, \"#46039f\"], [0.2222222222222222, \"#7201a8\"], [0.3333333333333333, \"#9c179e\"], [0.4444444444444444, \"#bd3786\"], [0.5555555555555556, \"#d8576b\"], [0.6666666666666666, \"#ed7953\"], [0.7777777777777778, \"#fb9f3a\"], [0.8888888888888888, \"#fdca26\"], [1.0, \"#f0f921\"]], \"sequentialminus\": [[0.0, \"#0d0887\"], [0.1111111111111111, \"#46039f\"], [0.2222222222222222, \"#7201a8\"], [0.3333333333333333, \"#9c179e\"], [0.4444444444444444, \"#bd3786\"], [0.5555555555555556, \"#d8576b\"], [0.6666666666666666, \"#ed7953\"], [0.7777777777777778, \"#fb9f3a\"], [0.8888888888888888, \"#fdca26\"], [1.0, \"#f0f921\"]]}, \"colorway\": [\"#636efa\", \"#EF553B\", \"#00cc96\", \"#ab63fa\", \"#FFA15A\", \"#19d3f3\", \"#FF6692\", \"#B6E880\", \"#FF97FF\", \"#FECB52\"], \"font\": {\"color\": \"#2a3f5f\"}, \"geo\": {\"bgcolor\": \"white\", \"lakecolor\": \"white\", \"landcolor\": \"#E5ECF6\", \"showlakes\": true, \"showland\": true, \"subunitcolor\": \"white\"}, \"hoverlabel\": {\"align\": \"left\"}, \"hovermode\": \"closest\", \"mapbox\": {\"style\": \"light\"}, \"paper_bgcolor\": \"white\", \"plot_bgcolor\": \"#E5ECF6\", \"polar\": {\"angularaxis\": {\"gridcolor\": \"white\", \"linecolor\": \"white\", \"ticks\": \"\"}, \"bgcolor\": \"#E5ECF6\", \"radialaxis\": {\"gridcolor\": \"white\", \"linecolor\": \"white\", \"ticks\": \"\"}}, \"scene\": {\"xaxis\": {\"backgroundcolor\": \"#E5ECF6\", \"gridcolor\": \"white\", \"gridwidth\": 2, \"linecolor\": \"white\", \"showbackground\": true, \"ticks\": \"\", \"zerolinecolor\": \"white\"}, \"yaxis\": {\"backgroundcolor\": \"#E5ECF6\", \"gridcolor\": \"white\", \"gridwidth\": 2, \"linecolor\": \"white\", \"showbackground\": true, \"ticks\": \"\", \"zerolinecolor\": \"white\"}, \"zaxis\": {\"backgroundcolor\": \"#E5ECF6\", \"gridcolor\": \"white\", \"gridwidth\": 2, \"linecolor\": \"white\", \"showbackground\": true, \"ticks\": \"\", \"zerolinecolor\": \"white\"}}, \"shapedefaults\": {\"line\": {\"color\": \"#2a3f5f\"}}, \"ternary\": {\"aaxis\": {\"gridcolor\": \"white\", \"linecolor\": \"white\", \"ticks\": \"\"}, \"baxis\": {\"gridcolor\": \"white\", \"linecolor\": \"white\", \"ticks\": \"\"}, \"bgcolor\": \"#E5ECF6\", \"caxis\": {\"gridcolor\": \"white\", \"linecolor\": \"white\", \"ticks\": \"\"}}, \"title\": {\"x\": 0.05}, \"xaxis\": {\"automargin\": true, \"gridcolor\": \"white\", \"linecolor\": \"white\", \"ticks\": \"\", \"title\": {\"standoff\": 15}, \"zerolinecolor\": \"white\", \"zerolinewidth\": 2}, \"yaxis\": {\"automargin\": true, \"gridcolor\": \"white\", \"linecolor\": \"white\", \"ticks\": \"\", \"title\": {\"standoff\": 15}, \"zerolinecolor\": \"white\", \"zerolinewidth\": 2}}}, \"xaxis\": {\"anchor\": \"y\", \"domain\": [0.0, 1.0], \"title\": {\"text\": \"INDUS\"}}, \"yaxis\": {\"anchor\": \"x\", \"domain\": [0.0, 1.0], \"title\": {\"text\": \"NOX\"}}},\n",
              "                        {\"responsive\": true}\n",
              "                    ).then(function(){\n",
              "                            \n",
              "var gd = document.getElementById('c22c3280-c129-4eb8-bff0-f175b88923cb');\n",
              "var x = new MutationObserver(function (mutations, observer) {{\n",
              "        var display = window.getComputedStyle(gd).display;\n",
              "        if (!display || display === 'none') {{\n",
              "            console.log([gd, 'removed!']);\n",
              "            Plotly.purge(gd);\n",
              "            observer.disconnect();\n",
              "        }}\n",
              "}});\n",
              "\n",
              "// Listen for the removal of the full notebook cells\n",
              "var notebookContainer = gd.closest('#notebook-container');\n",
              "if (notebookContainer) {{\n",
              "    x.observe(notebookContainer, {childList: true});\n",
              "}}\n",
              "\n",
              "// Listen for the clearing of the current output cell\n",
              "var outputEl = gd.closest('.output');\n",
              "if (outputEl) {{\n",
              "    x.observe(outputEl, {childList: true});\n",
              "}}\n",
              "\n",
              "                        })\n",
              "                };\n",
              "                \n",
              "            </script>\n",
              "        </div>\n",
              "</body>\n",
              "</html>"
            ]
          },
          "metadata": {
            "tags": []
          }
        }
      ]
    },
    {
      "cell_type": "markdown",
      "metadata": {
        "id": "hWKdBW5BwJtI"
      },
      "source": [
        "散布図からは、地域の工業化の度合いが高いほど、\n",
        "大気中の酸化窒素$\\mathrm{NO}_x$の濃度が高くなる傾向が確かめられます。\n",
        "このデータに基づけば、工場が出す排煙、工場に出入りするトラックなどの排気が、\n",
        "大気中の酸化窒素の濃度を増やしているものと推測することができます。"
      ]
    },
    {
      "cell_type": "markdown",
      "metadata": {
        "id": "VbLU2iQR-lOb"
      },
      "source": [
        "`RM`（建物あたりの部屋数の平均）と`PRICE`（不動産価格の平均）も、正の相関が強いですが、\n",
        "この二つの属性のデータに直線の当てはめをして見たいと思います。\n",
        "まず、次のプログラムを実行して下さい。\n",
        "```python\n",
        "fig = px.scatter(boston, x='RM', y='PRICE', trendline='ols')\n",
        "fig.show()\n",
        "```"
      ]
    },
    {
      "cell_type": "code",
      "metadata": {
        "colab": {
          "base_uri": "https://localhost:8080/",
          "height": 610
        },
        "id": "9ep6ZpVr-lOc",
        "outputId": "7519442f-b682-4ac1-e31b-c9164e59d6d3"
      },
      "source": [
        "fig = px.scatter(boston, x='RM', y='PRICE', trendline='ols')\n",
        "fig.show()"
      ],
      "execution_count": null,
      "outputs": [
        {
          "output_type": "stream",
          "text": [
            "/usr/local/lib/python3.7/dist-packages/statsmodels/tools/_testing.py:19: FutureWarning:\n",
            "\n",
            "pandas.util.testing is deprecated. Use the functions in the public API at pandas.testing instead.\n",
            "\n"
          ],
          "name": "stderr"
        },
        {
          "output_type": "display_data",
          "data": {
            "text/html": [
              "<html>\n",
              "<head><meta charset=\"utf-8\" /></head>\n",
              "<body>\n",
              "    <div>\n",
              "            <script src=\"https://cdnjs.cloudflare.com/ajax/libs/mathjax/2.7.5/MathJax.js?config=TeX-AMS-MML_SVG\"></script><script type=\"text/javascript\">if (window.MathJax) {MathJax.Hub.Config({SVG: {font: \"STIX-Web\"}});}</script>\n",
              "                <script type=\"text/javascript\">window.PlotlyConfig = {MathJaxConfig: 'local'};</script>\n",
              "        <script src=\"https://cdn.plot.ly/plotly-latest.min.js\"></script>    \n",
              "            <div id=\"e0f03a42-7858-4c58-b202-ba02f418534d\" class=\"plotly-graph-div\" style=\"height:525px; width:100%;\"></div>\n",
              "            <script type=\"text/javascript\">\n",
              "                \n",
              "                    window.PLOTLYENV=window.PLOTLYENV || {};\n",
              "                    \n",
              "                if (document.getElementById(\"e0f03a42-7858-4c58-b202-ba02f418534d\")) {\n",
              "                    Plotly.newPlot(\n",
              "                        'e0f03a42-7858-4c58-b202-ba02f418534d',\n",
              "                        [{\"hoverlabel\": {\"namelength\": 0}, \"hovertemplate\": \"RM=%{x}<br>PRICE=%{y}\", \"legendgroup\": \"\", \"marker\": {\"color\": \"#636efa\", \"symbol\": \"circle\"}, \"mode\": \"markers\", \"name\": \"\", \"showlegend\": false, \"type\": \"scatter\", \"x\": [6.575, 6.421, 7.185, 6.998, 7.147, 6.43, 6.012, 6.172, 5.631, 6.004, 6.377, 6.009, 5.889, 5.949, 6.096, 5.834, 5.935, 5.99, 5.456, 5.727, 5.57, 5.965, 6.142, 5.813, 5.924, 5.599, 5.813, 6.047, 6.495, 6.674, 5.713, 6.072, 5.95, 5.701, 6.096, 5.933, 5.841, 5.85, 5.966, 6.595, 7.024, 6.77, 6.169, 6.211, 6.069, 5.682, 5.786, 6.03, 5.399, 5.602, 5.963, 6.115, 6.511, 5.998, 5.888, 7.249, 6.383, 6.816, 6.145, 5.927, 5.741, 5.966, 6.456, 6.762, 7.104, 6.29, 5.787, 5.878, 5.594, 5.885, 6.417, 5.961, 6.065, 6.245, 6.273, 6.286, 6.279, 6.14, 6.232, 5.874, 6.727, 6.619, 6.302, 6.167, 6.389, 6.63, 6.015, 6.121, 7.007, 7.079, 6.417, 6.405, 6.442, 6.211, 6.249, 6.625, 6.163, 8.069, 7.82, 7.416, 6.727, 6.781, 6.405, 6.137, 6.167, 5.851, 5.836, 6.127, 6.474, 6.229, 6.195, 6.715, 5.913, 6.092, 6.254, 5.928, 6.176, 6.021, 5.872, 5.731, 5.87, 6.004, 5.961, 5.856, 5.879, 5.986, 5.613, 5.693, 6.431, 5.637, 6.458, 6.326, 6.372, 5.822, 5.757, 6.335, 5.942, 6.454, 5.857, 6.151, 6.174, 5.019, 5.403, 5.468, 4.903, 6.13, 5.628, 4.926, 5.186, 5.597, 6.122, 5.404, 5.012, 5.709, 6.129, 6.152, 5.272, 6.943, 6.066, 6.51, 6.25, 7.489, 7.802, 8.375, 5.854, 6.101, 7.929, 5.877, 6.319, 6.402, 5.875, 5.88, 5.572, 6.416, 5.859, 6.546, 6.02, 6.315, 6.86, 6.98, 7.765, 6.144, 7.155, 6.563, 5.604, 6.153, 7.831, 6.782, 6.556, 7.185, 6.951, 6.739, 7.178, 6.8, 6.604, 7.875, 7.287, 7.107, 7.274, 6.975, 7.135, 6.162, 7.61, 7.853, 8.034, 5.891, 6.326, 5.783, 6.064, 5.344, 5.96, 5.404, 5.807, 6.375, 5.412, 6.182, 5.888, 6.642, 5.951, 6.373, 6.951, 6.164, 6.879, 6.618, 8.266, 8.725, 8.04, 7.163, 7.686, 6.552, 5.981, 7.412, 8.337, 8.247, 6.726, 6.086, 6.631, 7.358, 6.481, 6.606, 6.897, 6.095, 6.358, 6.393, 5.593, 5.605, 6.108, 6.226, 6.433, 6.718, 6.487, 6.438, 6.957, 8.259, 6.108, 5.876, 7.454, 8.704, 7.333, 6.842, 7.203, 7.52, 8.398, 7.327, 7.206, 5.56, 7.014, 8.297, 7.47, 5.92, 5.856, 6.24, 6.538, 7.691, 6.758, 6.854, 7.267, 6.826, 6.482, 6.812, 7.82, 6.968, 7.645, 7.923, 7.088, 6.453, 6.23, 6.209, 6.315, 6.565, 6.861, 7.148, 6.63, 6.127, 6.009, 6.678, 6.549, 5.79, 6.345, 7.041, 6.871, 6.59, 6.495, 6.982, 7.236, 6.616, 7.42, 6.849, 6.635, 5.972, 4.973, 6.122, 6.023, 6.266, 6.567, 5.705, 5.914, 5.782, 6.382, 6.113, 6.426, 6.376, 6.041, 5.708, 6.415, 6.431, 6.312, 6.083, 5.868, 6.333, 6.144, 5.706, 6.031, 6.316, 6.31, 6.037, 5.869, 5.895, 6.059, 5.985, 5.968, 7.241, 6.54, 6.696, 6.874, 6.014, 5.898, 6.516, 6.635, 6.939, 6.49, 6.579, 5.884, 6.728, 5.663, 5.936, 6.212, 6.395, 6.127, 6.112, 6.398, 6.251, 5.362, 5.803, 8.78, 3.561, 4.963, 3.863, 4.97, 6.683, 7.016, 6.216, 5.875, 4.906, 4.138, 7.313, 6.649, 6.794, 6.38, 6.223, 6.968, 6.545, 5.536, 5.52, 4.368, 5.277, 4.652, 5.0, 4.88, 5.39, 5.713, 6.051, 5.036, 6.193, 5.887, 6.471, 6.405, 5.747, 5.453, 5.852, 5.987, 6.343, 6.404, 5.349, 5.531, 5.683, 4.138, 5.608, 5.617, 6.852, 5.757, 6.657, 4.628, 5.155, 4.519, 6.434, 6.782, 5.304, 5.957, 6.824, 6.411, 6.006, 5.648, 6.103, 5.565, 5.896, 5.837, 6.202, 6.193, 6.38, 6.348, 6.833, 6.425, 6.436, 6.208, 6.629, 6.461, 6.152, 5.935, 5.627, 5.818, 6.406, 6.219, 6.485, 5.854, 6.459, 6.341, 6.251, 6.185, 6.417, 6.749, 6.655, 6.297, 7.393, 6.728, 6.525, 5.976, 5.936, 6.301, 6.081, 6.701, 6.376, 6.317, 6.513, 6.209, 5.759, 5.952, 6.003, 5.926, 5.713, 6.167, 6.229, 6.437, 6.98, 5.427, 6.162, 6.484, 5.304, 6.185, 6.229, 6.242, 6.75, 7.061, 5.762, 5.871, 6.312, 6.114, 5.905, 5.454, 5.414, 5.093, 5.983, 5.983, 5.707, 5.926, 5.67, 5.39, 5.794, 6.019, 5.569, 6.027, 6.593, 6.12, 6.976, 6.794, 6.03], \"xaxis\": \"x\", \"y\": [24.0, 21.6, 34.7, 33.4, 36.2, 28.7, 22.9, 27.1, 16.5, 18.9, 15.0, 18.9, 21.7, 20.4, 18.2, 19.9, 23.1, 17.5, 20.2, 18.2, 13.6, 19.6, 15.2, 14.5, 15.6, 13.9, 16.6, 14.8, 18.4, 21.0, 12.7, 14.5, 13.2, 13.1, 13.5, 18.9, 20.0, 21.0, 24.7, 30.8, 34.9, 26.6, 25.3, 24.7, 21.2, 19.3, 20.0, 16.6, 14.4, 19.4, 19.7, 20.5, 25.0, 23.4, 18.9, 35.4, 24.7, 31.6, 23.3, 19.6, 18.7, 16.0, 22.2, 25.0, 33.0, 23.5, 19.4, 22.0, 17.4, 20.9, 24.2, 21.7, 22.8, 23.4, 24.1, 21.4, 20.0, 20.8, 21.2, 20.3, 28.0, 23.9, 24.8, 22.9, 23.9, 26.6, 22.5, 22.2, 23.6, 28.7, 22.6, 22.0, 22.9, 25.0, 20.6, 28.4, 21.4, 38.7, 43.8, 33.2, 27.5, 26.5, 18.6, 19.3, 20.1, 19.5, 19.5, 20.4, 19.8, 19.4, 21.7, 22.8, 18.8, 18.7, 18.5, 18.3, 21.2, 19.2, 20.4, 19.3, 22.0, 20.3, 20.5, 17.3, 18.8, 21.4, 15.7, 16.2, 18.0, 14.3, 19.2, 19.6, 23.0, 18.4, 15.6, 18.1, 17.4, 17.1, 13.3, 17.8, 14.0, 14.4, 13.4, 15.6, 11.8, 13.8, 15.6, 14.6, 17.8, 15.4, 21.5, 19.6, 15.3, 19.4, 17.0, 15.6, 13.1, 41.3, 24.3, 23.3, 27.0, 50.0, 50.0, 50.0, 22.7, 25.0, 50.0, 23.8, 23.8, 22.3, 17.4, 19.1, 23.1, 23.6, 22.6, 29.4, 23.2, 24.6, 29.9, 37.2, 39.8, 36.2, 37.9, 32.5, 26.4, 29.6, 50.0, 32.0, 29.8, 34.9, 37.0, 30.5, 36.4, 31.1, 29.1, 50.0, 33.3, 30.3, 34.6, 34.9, 32.9, 24.1, 42.3, 48.5, 50.0, 22.6, 24.4, 22.5, 24.4, 20.0, 21.7, 19.3, 22.4, 28.1, 23.7, 25.0, 23.3, 28.7, 21.5, 23.0, 26.7, 21.7, 27.5, 30.1, 44.8, 50.0, 37.6, 31.6, 46.7, 31.5, 24.3, 31.7, 41.7, 48.3, 29.0, 24.0, 25.1, 31.5, 23.7, 23.3, 22.0, 20.1, 22.2, 23.7, 17.6, 18.5, 24.3, 20.5, 24.5, 26.2, 24.4, 24.8, 29.6, 42.8, 21.9, 20.9, 44.0, 50.0, 36.0, 30.1, 33.8, 43.1, 48.8, 31.0, 36.5, 22.8, 30.7, 50.0, 43.5, 20.7, 21.1, 25.2, 24.4, 35.2, 32.4, 32.0, 33.2, 33.1, 29.1, 35.1, 45.4, 35.4, 46.0, 50.0, 32.2, 22.0, 20.1, 23.2, 22.3, 24.8, 28.5, 37.3, 27.9, 23.9, 21.7, 28.6, 27.1, 20.3, 22.5, 29.0, 24.8, 22.0, 26.4, 33.1, 36.1, 28.4, 33.4, 28.2, 22.8, 20.3, 16.1, 22.1, 19.4, 21.6, 23.8, 16.2, 17.8, 19.8, 23.1, 21.0, 23.8, 23.1, 20.4, 18.5, 25.0, 24.6, 23.0, 22.2, 19.3, 22.6, 19.8, 17.1, 19.4, 22.2, 20.7, 21.1, 19.5, 18.5, 20.6, 19.0, 18.7, 32.7, 16.5, 23.9, 31.2, 17.5, 17.2, 23.1, 24.5, 26.6, 22.9, 24.1, 18.6, 30.1, 18.2, 20.6, 17.8, 21.7, 22.7, 22.6, 25.0, 19.9, 20.8, 16.8, 21.9, 27.5, 21.9, 23.1, 50.0, 50.0, 50.0, 50.0, 50.0, 13.8, 13.8, 15.0, 13.9, 13.3, 13.1, 10.2, 10.4, 10.9, 11.3, 12.3, 8.8, 7.2, 10.5, 7.4, 10.2, 11.5, 15.1, 23.2, 9.7, 13.8, 12.7, 13.1, 12.5, 8.5, 5.0, 6.3, 5.6, 7.2, 12.1, 8.3, 8.5, 5.0, 11.9, 27.9, 17.2, 27.5, 15.0, 17.2, 17.9, 16.3, 7.0, 7.2, 7.5, 10.4, 8.8, 8.4, 16.7, 14.2, 20.8, 13.4, 11.7, 8.3, 10.2, 10.9, 11.0, 9.5, 14.5, 14.1, 16.1, 14.3, 11.7, 13.4, 9.6, 8.7, 8.4, 12.8, 10.5, 17.1, 18.4, 15.4, 10.8, 11.8, 14.9, 12.6, 14.1, 13.0, 13.4, 15.2, 16.1, 17.8, 14.9, 14.1, 12.7, 13.5, 14.9, 20.0, 16.4, 17.7, 19.5, 20.2, 21.4, 19.9, 19.0, 19.1, 19.1, 20.1, 19.9, 19.6, 23.2, 29.8, 13.8, 13.3, 16.7, 12.0, 14.6, 21.4, 23.0, 23.7, 25.0, 21.8, 20.6, 21.2, 19.1, 20.6, 15.2, 7.0, 8.1, 13.6, 20.1, 21.8, 24.5, 23.1, 19.7, 18.3, 21.2, 17.5, 16.8, 22.4, 20.6, 23.9, 22.0, 11.9], \"yaxis\": \"y\"}, {\"hoverlabel\": {\"namelength\": 0}, \"hovertemplate\": \"<b>OLS trendline</b><br>PRICE = 9.102109 * RM + -34.670621<br>R<sup>2</sup>=0.483525<br><br>RM=%{x}<br>PRICE=%{y} <b>(trend)</b>\", \"legendgroup\": \"\", \"marker\": {\"color\": \"#636efa\", \"symbol\": \"circle\"}, \"mode\": \"lines\", \"name\": \"\", \"showlegend\": false, \"type\": \"scatter\", \"x\": [3.561, 3.863, 4.138, 4.138, 4.368, 4.519, 4.628, 4.652, 4.88, 4.903, 4.906, 4.926, 4.963, 4.97, 4.973, 5.0, 5.012, 5.019, 5.036, 5.093, 5.155, 5.186, 5.272, 5.277, 5.304, 5.304, 5.344, 5.349, 5.362, 5.39, 5.39, 5.399, 5.403, 5.404, 5.404, 5.412, 5.414, 5.427, 5.453, 5.454, 5.456, 5.468, 5.52, 5.531, 5.536, 5.56, 5.565, 5.569, 5.57, 5.572, 5.593, 5.594, 5.597, 5.599, 5.602, 5.604, 5.605, 5.608, 5.613, 5.617, 5.627, 5.628, 5.631, 5.637, 5.648, 5.663, 5.67, 5.682, 5.683, 5.693, 5.701, 5.705, 5.706, 5.707, 5.708, 5.709, 5.713, 5.713, 5.713, 5.727, 5.731, 5.741, 5.747, 5.757, 5.757, 5.759, 5.762, 5.782, 5.783, 5.786, 5.787, 5.79, 5.794, 5.803, 5.807, 5.813, 5.813, 5.818, 5.822, 5.834, 5.836, 5.837, 5.841, 5.85, 5.851, 5.852, 5.854, 5.854, 5.856, 5.856, 5.857, 5.859, 5.868, 5.869, 5.87, 5.871, 5.872, 5.874, 5.875, 5.875, 5.876, 5.877, 5.878, 5.879, 5.88, 5.884, 5.885, 5.887, 5.888, 5.888, 5.889, 5.891, 5.895, 5.896, 5.898, 5.905, 5.913, 5.914, 5.92, 5.924, 5.926, 5.926, 5.927, 5.928, 5.933, 5.935, 5.935, 5.936, 5.936, 5.942, 5.949, 5.95, 5.951, 5.952, 5.957, 5.96, 5.961, 5.961, 5.963, 5.965, 5.966, 5.966, 5.968, 5.972, 5.976, 5.981, 5.983, 5.983, 5.985, 5.986, 5.987, 5.99, 5.998, 6.003, 6.004, 6.004, 6.006, 6.009, 6.009, 6.012, 6.014, 6.015, 6.019, 6.02, 6.021, 6.023, 6.027, 6.03, 6.03, 6.031, 6.037, 6.041, 6.047, 6.051, 6.059, 6.064, 6.065, 6.066, 6.069, 6.072, 6.081, 6.083, 6.086, 6.092, 6.095, 6.096, 6.096, 6.101, 6.103, 6.108, 6.108, 6.112, 6.113, 6.114, 6.115, 6.12, 6.121, 6.122, 6.122, 6.127, 6.127, 6.127, 6.129, 6.13, 6.137, 6.14, 6.142, 6.144, 6.144, 6.145, 6.151, 6.152, 6.152, 6.153, 6.162, 6.162, 6.163, 6.164, 6.167, 6.167, 6.167, 6.169, 6.172, 6.174, 6.176, 6.182, 6.185, 6.185, 6.193, 6.193, 6.195, 6.202, 6.208, 6.209, 6.209, 6.211, 6.211, 6.212, 6.216, 6.219, 6.223, 6.226, 6.229, 6.229, 6.229, 6.23, 6.232, 6.24, 6.242, 6.245, 6.249, 6.25, 6.251, 6.251, 6.254, 6.266, 6.273, 6.279, 6.286, 6.29, 6.297, 6.301, 6.302, 6.31, 6.312, 6.312, 6.315, 6.315, 6.316, 6.317, 6.319, 6.326, 6.326, 6.333, 6.335, 6.341, 6.343, 6.345, 6.348, 6.358, 6.372, 6.373, 6.375, 6.376, 6.376, 6.377, 6.38, 6.38, 6.382, 6.383, 6.389, 6.393, 6.395, 6.398, 6.402, 6.404, 6.405, 6.405, 6.405, 6.406, 6.411, 6.415, 6.416, 6.417, 6.417, 6.417, 6.421, 6.425, 6.426, 6.43, 6.431, 6.431, 6.433, 6.434, 6.436, 6.437, 6.438, 6.442, 6.453, 6.454, 6.456, 6.458, 6.459, 6.461, 6.471, 6.474, 6.481, 6.482, 6.484, 6.485, 6.487, 6.49, 6.495, 6.495, 6.51, 6.511, 6.513, 6.516, 6.525, 6.538, 6.54, 6.545, 6.546, 6.549, 6.552, 6.556, 6.563, 6.565, 6.567, 6.575, 6.579, 6.59, 6.593, 6.595, 6.604, 6.606, 6.616, 6.618, 6.619, 6.625, 6.629, 6.63, 6.63, 6.631, 6.635, 6.635, 6.642, 6.649, 6.655, 6.657, 6.674, 6.678, 6.683, 6.696, 6.701, 6.715, 6.718, 6.726, 6.727, 6.727, 6.728, 6.728, 6.739, 6.749, 6.75, 6.758, 6.762, 6.77, 6.781, 6.782, 6.782, 6.794, 6.794, 6.8, 6.812, 6.816, 6.824, 6.826, 6.833, 6.842, 6.849, 6.852, 6.854, 6.86, 6.861, 6.871, 6.874, 6.879, 6.897, 6.939, 6.943, 6.951, 6.951, 6.957, 6.968, 6.968, 6.975, 6.976, 6.98, 6.98, 6.982, 6.998, 7.007, 7.014, 7.016, 7.024, 7.041, 7.061, 7.079, 7.088, 7.104, 7.107, 7.135, 7.147, 7.148, 7.155, 7.163, 7.178, 7.185, 7.185, 7.203, 7.206, 7.236, 7.241, 7.249, 7.267, 7.274, 7.287, 7.313, 7.327, 7.333, 7.358, 7.393, 7.412, 7.416, 7.42, 7.454, 7.47, 7.489, 7.52, 7.61, 7.645, 7.686, 7.691, 7.765, 7.802, 7.82, 7.82, 7.831, 7.853, 7.875, 7.923, 7.929, 8.034, 8.04, 8.069, 8.247, 8.259, 8.266, 8.297, 8.337, 8.375, 8.398, 8.704, 8.725, 8.78], \"xaxis\": \"x\", \"y\": [-2.2580106944553933, 0.4908262178610556, 2.9939061876856385, 2.9939061876856385, 5.0873912533571115, 6.461809709515336, 7.453939588463989, 7.672390204012316, 9.747671051721419, 9.957019558288565, 9.984325885232103, 10.166368064855718, 10.503146097159387, 10.566860860027646, 10.594167186971191, 10.839924129463057, 10.949149437237217, 11.012864200105483, 11.167600052785545, 11.686420264712822, 12.250751021546009, 12.532916399962595, 13.315697772344102, 13.361208317250004, 13.60696525974187, 13.60696525974187, 13.971049618989085, 14.016560163894987, 14.134887580650329, 14.38974663212337, 14.38974663212337, 14.471665612953998, 14.508074048878711, 14.5171761578599, 14.5171761578599, 14.58999302970934, 14.608197247671697, 14.72652466442704, 14.963179497937737, 14.972281606918912, 14.990485824881276, 15.099711132655436, 15.573020799676812, 15.673143998469797, 15.718654543375692, 15.93710515892402, 15.982615703829929, 16.01902413975465, 16.02812624873583, 16.046330466698187, 16.237474755302976, 16.246576864284158, 16.273883191227704, 16.29208740919006, 16.3193937361336, 16.337597954095962, 16.346700063077144, 16.374006390020675, 16.419516934926584, 16.455925370851304, 16.5469464606631, 16.55604856964429, 16.583354896587828, 16.637967550474904, 16.73809074926789, 16.874622383985596, 16.93833714685386, 17.04756245462803, 17.056664563609203, 17.147685653421, 17.220502525270447, 17.256910961195167, 17.266013070176356, 17.27511517915753, 17.284217288138713, 17.293319397119888, 17.329727833044615, 17.329727833044615, 17.329727833044615, 17.45715735878114, 17.49356579470586, 17.584586884517655, 17.63919953840474, 17.730220628216543, 17.730220628216543, 17.748424846178906, 17.775731173122445, 17.957773352746052, 17.966875461727234, 17.994181788670772, 18.003283897651954, 18.030590224595493, 18.066998660520213, 18.148917641350835, 18.185326077275562, 18.23993873116264, 18.23993873116264, 18.28544927606854, 18.321857711993268, 18.431083019767428, 18.44928723772979, 18.458389346710966, 18.494797782635693, 18.576716763466308, 18.58581887244749, 18.59492098142868, 18.613125199391035, 18.613125199391035, 18.631329417353392, 18.631329417353392, 18.640431526334574, 18.658635744296937, 18.74055472512756, 18.749656834108734, 18.758758943089923, 18.767861052071105, 18.77696316105228, 18.795167379014636, 18.804269487995818, 18.804269487995818, 18.813371596977007, 18.82247370595818, 18.831575814939363, 18.840677923920538, 18.84978003290172, 18.886188468826447, 18.89529057780762, 18.913494795769978, 18.922596904751167, 18.922596904751167, 18.93169901373235, 18.949903231694705, 18.986311667619425, 18.995413776600607, 19.013617994562964, 19.07733275743123, 19.150149629280676, 19.15925173826185, 19.213864392148935, 19.250272828073662, 19.26847704603602, 19.26847704603602, 19.277579155017193, 19.286681263998375, 19.332191808904277, 19.350396026866633, 19.350396026866633, 19.359498135847815, 19.359498135847815, 19.4141107897349, 19.477825552603164, 19.486927661584346, 19.49602977056552, 19.505131879546703, 19.550642424452604, 19.577948751396143, 19.58705086037733, 19.58705086037733, 19.605255078339688, 19.623459296302045, 19.632561405283226, 19.632561405283226, 19.65076562324559, 19.68717405917031, 19.72358249509503, 19.769093040000932, 19.78729725796329, 19.78729725796329, 19.80550147592566, 19.814603584906834, 19.823705693888016, 19.851012020831554, 19.923828892681, 19.969339437586903, 19.978441546568078, 19.978441546568078, 19.99664576453044, 20.023952091473987, 20.023952091473987, 20.051258418417518, 20.069462636379882, 20.078564745361057, 20.114973181285784, 20.12407529026696, 20.13317739924814, 20.151381617210504, 20.187790053135224, 20.21509638007877, 20.21509638007877, 20.224198489059944, 20.278811142947028, 20.315219578871755, 20.36983223275883, 20.40624066868355, 20.479057540533, 20.5245680854389, 20.533670194420083, 20.542772303401257, 20.570078630344796, 20.59738495728834, 20.679303938118963, 20.697508156081327, 20.724814483024865, 20.77942713691194, 20.806733463855487, 20.81583557283667, 20.81583557283667, 20.86134611774257, 20.879550335704927, 20.92506088061083, 20.92506088061083, 20.96146931653555, 20.970571425516738, 20.979673534497913, 20.988775643479094, 21.034286188384996, 21.043388297366178, 21.052490406347353, 21.052490406347353, 21.098000951253255, 21.098000951253255, 21.098000951253255, 21.11620516921561, 21.125307278196793, 21.18902204106506, 21.216328368008597, 21.23453258597096, 21.252736803933324, 21.252736803933324, 21.2618389129145, 21.316451566801582, 21.325553675782764, 21.325553675782764, 21.33465578476394, 21.416574765594568, 21.416574765594568, 21.42567687457575, 21.434778983556924, 21.46208531050047, 21.46208531050047, 21.46208531050047, 21.480289528462826, 21.507595855406365, 21.525800073368735, 21.544004291331092, 21.598616945218176, 21.625923272161707, 21.625923272161707, 21.698740144011154, 21.698740144011154, 21.716944361973518, 21.780659124841776, 21.83527177872886, 21.844373887710034, 21.844373887710034, 21.862578105672405, 21.862578105672405, 21.87168021465358, 21.908088650578307, 21.935394977521845, 21.971803413446565, 21.999109740390104, 22.02641606733365, 22.02641606733365, 22.02641606733365, 22.03551817631483, 22.053722394277187, 22.126539266126635, 22.14474348408899, 22.17204981103253, 22.20845824695725, 22.21756035593843, 22.226662464919613, 22.226662464919613, 22.25396879186315, 22.36319409963732, 22.426908862505577, 22.48152151639266, 22.54523627926092, 22.581644715185647, 22.645359478053905, 22.681767913978632, 22.690870022959807, 22.763686894809247, 22.781891112771618, 22.781891112771618, 22.809197439715156, 22.809197439715156, 22.81829954869633, 22.827401657677513, 22.845605875639876, 22.909320638508134, 22.909320638508134, 22.9730354013764, 22.991239619338756, 23.04585227322584, 23.064056491188204, 23.08226070915056, 23.1095670360941, 23.200588125905902, 23.328017651642426, 23.337119760623615, 23.35532397858597, 23.364426087567153, 23.364426087567153, 23.373528196548328, 23.400834523491874, 23.400834523491874, 23.41903874145423, 23.428140850435412, 23.482753504322496, 23.519161940247216, 23.537366158209572, 23.564672485153118, 23.601080921077838, 23.6192851390402, 23.628387248021383, 23.628387248021383, 23.628387248021383, 23.637489357002558, 23.68299990190846, 23.71940833783318, 23.72851044681437, 23.737612555795543, 23.737612555795543, 23.737612555795543, 23.77402099172027, 23.810429427644983, 23.819531536626165, 23.855939972550885, 23.865042081532067, 23.865042081532067, 23.883246299494424, 23.892348408475613, 23.91055262643797, 23.91965473541915, 23.928756844400326, 23.965165280325053, 24.06528847911804, 24.074390588099213, 24.092594806061577, 24.11079902402394, 24.119901133005115, 24.13810535096748, 24.229126440779282, 24.25643276772282, 24.32014753059108, 24.329249639572268, 24.347453857534624, 24.356555966515806, 24.374760184478163, 24.402066511421708, 24.44757705632761, 24.44757705632761, 24.58410869104531, 24.59321080002649, 24.611415017988854, 24.638721344932392, 24.72064032576302, 24.838967742518363, 24.85717196048072, 24.902682505386622, 24.911784614367804, 24.93909094131135, 24.96639726825488, 25.002805704179607, 25.066520467047866, 25.08472468501023, 25.102928902972593, 25.175745774822033, 25.212154210746746, 25.312277409539732, 25.339583736483277, 25.357787954445634, 25.439706935276263, 25.45791115323862, 25.548932243050423, 25.567136461012787, 25.57623856999396, 25.630851223881045, 25.667259659805765, 25.676361768786947, 25.676361768786947, 25.68546387776813, 25.72187231369285, 25.72187231369285, 25.785587076561114, 25.849301839429373, 25.903914493316456, 25.922118711278813, 26.076854563958882, 26.113262999883602, 26.158773544789504, 26.277100961544846, 26.322611506450748, 26.450041032187272, 26.47734735913081, 26.550164230980258, 26.55926633996144, 26.55926633996144, 26.568368448942614, 26.568368448942614, 26.6684916477356, 26.759512737547404, 26.768614846528585, 26.841431718378026, 26.877840154302746, 26.950657026152186, 27.05078022494517, 27.059882333926353, 27.059882333926353, 27.169107641700514, 27.169107641700514, 27.223720295587597, 27.332945603361765, 27.369354039286485, 27.442170911135925, 27.46037512909828, 27.524089891966547, 27.60600887279717, 27.669723635665434, 27.69702996260898, 27.715234180571336, 27.76984683445842, 27.778948943439595, 27.869970033251406, 27.897276360194937, 27.94278690510084, 28.10662486676209, 28.48891344397166, 28.52532187989638, 28.59813875174582, 28.59813875174582, 28.652751405632905, 28.75287460442589, 28.75287460442589, 28.81658936729415, 28.82569147627533, 28.86209991220006, 28.86209991220006, 28.880304130162415, 29.025937873861302, 29.107856854691917, 29.171571617560183, 29.189775835522546, 29.262592707371986, 29.41732856005205, 29.599370739675656, 29.7632087013369, 29.845127682167522, 29.990761425866417, 30.018067752809948, 30.272926804282996, 30.382152112057163, 30.391254221038345, 30.454968983906603, 30.527785855756044, 30.664317490473756, 30.728032253342015, 30.728032253342015, 30.89187021500326, 30.919176541946804, 31.1922398113822, 31.23775035628811, 31.31056722813755, 31.47440518979881, 31.538119952667067, 31.656447369422402, 31.893102202933086, 32.02053172866962, 32.075144382556694, 32.30269710708621, 32.62127092142752, 32.79421099206994, 32.83061942799467, 32.86702786391938, 33.17649956927951, 33.3221333129784, 33.49507338362083, 33.777238762037406, 34.59642857034364, 34.915002384684946, 35.28818885291334, 35.33369939781924, 36.00725546242659, 36.34403349473026, 36.507871456391506, 36.507871456391506, 36.60799465518449, 36.80824105277045, 37.00848745035642, 37.445388681453075, 37.500001335340166, 38.4557227783641, 38.51033543225116, 38.774296592705404, 40.394471991355495, 40.50369729912966, 40.56741206199792, 40.849577440414514, 41.213661799661715, 41.559541940946566, 41.76889044751372, 44.554135795754895, 44.74528008435967, 45.245896078324584], \"yaxis\": \"y\"}],\n",
              "                        {\"legend\": {\"tracegroupgap\": 0}, \"margin\": {\"t\": 60}, \"template\": {\"data\": {\"bar\": [{\"error_x\": {\"color\": \"#2a3f5f\"}, \"error_y\": {\"color\": \"#2a3f5f\"}, \"marker\": {\"line\": {\"color\": \"#E5ECF6\", \"width\": 0.5}}, \"type\": \"bar\"}], \"barpolar\": [{\"marker\": {\"line\": {\"color\": \"#E5ECF6\", \"width\": 0.5}}, \"type\": \"barpolar\"}], \"carpet\": [{\"aaxis\": {\"endlinecolor\": \"#2a3f5f\", \"gridcolor\": \"white\", \"linecolor\": \"white\", \"minorgridcolor\": \"white\", \"startlinecolor\": \"#2a3f5f\"}, \"baxis\": {\"endlinecolor\": \"#2a3f5f\", \"gridcolor\": \"white\", \"linecolor\": \"white\", \"minorgridcolor\": \"white\", \"startlinecolor\": \"#2a3f5f\"}, \"type\": \"carpet\"}], \"choropleth\": [{\"colorbar\": {\"outlinewidth\": 0, \"ticks\": \"\"}, \"type\": \"choropleth\"}], \"contour\": [{\"colorbar\": {\"outlinewidth\": 0, \"ticks\": \"\"}, \"colorscale\": [[0.0, \"#0d0887\"], [0.1111111111111111, \"#46039f\"], [0.2222222222222222, \"#7201a8\"], [0.3333333333333333, \"#9c179e\"], [0.4444444444444444, \"#bd3786\"], [0.5555555555555556, \"#d8576b\"], [0.6666666666666666, \"#ed7953\"], [0.7777777777777778, \"#fb9f3a\"], [0.8888888888888888, \"#fdca26\"], [1.0, \"#f0f921\"]], \"type\": \"contour\"}], \"contourcarpet\": [{\"colorbar\": {\"outlinewidth\": 0, \"ticks\": \"\"}, \"type\": \"contourcarpet\"}], \"heatmap\": [{\"colorbar\": {\"outlinewidth\": 0, \"ticks\": \"\"}, \"colorscale\": [[0.0, \"#0d0887\"], [0.1111111111111111, \"#46039f\"], [0.2222222222222222, \"#7201a8\"], [0.3333333333333333, \"#9c179e\"], [0.4444444444444444, \"#bd3786\"], [0.5555555555555556, \"#d8576b\"], [0.6666666666666666, \"#ed7953\"], [0.7777777777777778, \"#fb9f3a\"], [0.8888888888888888, \"#fdca26\"], [1.0, \"#f0f921\"]], \"type\": \"heatmap\"}], \"heatmapgl\": [{\"colorbar\": {\"outlinewidth\": 0, \"ticks\": \"\"}, \"colorscale\": [[0.0, \"#0d0887\"], [0.1111111111111111, \"#46039f\"], [0.2222222222222222, \"#7201a8\"], [0.3333333333333333, \"#9c179e\"], [0.4444444444444444, \"#bd3786\"], [0.5555555555555556, \"#d8576b\"], [0.6666666666666666, \"#ed7953\"], [0.7777777777777778, \"#fb9f3a\"], [0.8888888888888888, \"#fdca26\"], [1.0, \"#f0f921\"]], \"type\": \"heatmapgl\"}], \"histogram\": [{\"marker\": {\"colorbar\": {\"outlinewidth\": 0, \"ticks\": \"\"}}, \"type\": \"histogram\"}], \"histogram2d\": [{\"colorbar\": {\"outlinewidth\": 0, \"ticks\": \"\"}, \"colorscale\": [[0.0, \"#0d0887\"], [0.1111111111111111, \"#46039f\"], [0.2222222222222222, \"#7201a8\"], [0.3333333333333333, \"#9c179e\"], [0.4444444444444444, \"#bd3786\"], [0.5555555555555556, \"#d8576b\"], [0.6666666666666666, \"#ed7953\"], [0.7777777777777778, \"#fb9f3a\"], [0.8888888888888888, \"#fdca26\"], [1.0, \"#f0f921\"]], \"type\": \"histogram2d\"}], \"histogram2dcontour\": [{\"colorbar\": {\"outlinewidth\": 0, \"ticks\": \"\"}, \"colorscale\": [[0.0, \"#0d0887\"], [0.1111111111111111, \"#46039f\"], [0.2222222222222222, \"#7201a8\"], [0.3333333333333333, \"#9c179e\"], [0.4444444444444444, \"#bd3786\"], [0.5555555555555556, \"#d8576b\"], [0.6666666666666666, \"#ed7953\"], [0.7777777777777778, \"#fb9f3a\"], [0.8888888888888888, \"#fdca26\"], [1.0, \"#f0f921\"]], \"type\": \"histogram2dcontour\"}], \"mesh3d\": [{\"colorbar\": {\"outlinewidth\": 0, \"ticks\": \"\"}, \"type\": \"mesh3d\"}], \"parcoords\": [{\"line\": {\"colorbar\": {\"outlinewidth\": 0, \"ticks\": \"\"}}, \"type\": \"parcoords\"}], \"pie\": [{\"automargin\": true, \"type\": \"pie\"}], \"scatter\": [{\"marker\": {\"colorbar\": {\"outlinewidth\": 0, \"ticks\": \"\"}}, \"type\": \"scatter\"}], \"scatter3d\": [{\"line\": {\"colorbar\": {\"outlinewidth\": 0, \"ticks\": \"\"}}, \"marker\": {\"colorbar\": {\"outlinewidth\": 0, \"ticks\": \"\"}}, \"type\": \"scatter3d\"}], \"scattercarpet\": [{\"marker\": {\"colorbar\": {\"outlinewidth\": 0, \"ticks\": \"\"}}, \"type\": \"scattercarpet\"}], \"scattergeo\": [{\"marker\": {\"colorbar\": {\"outlinewidth\": 0, \"ticks\": \"\"}}, \"type\": \"scattergeo\"}], \"scattergl\": [{\"marker\": {\"colorbar\": {\"outlinewidth\": 0, \"ticks\": \"\"}}, \"type\": \"scattergl\"}], \"scattermapbox\": [{\"marker\": {\"colorbar\": {\"outlinewidth\": 0, \"ticks\": \"\"}}, \"type\": \"scattermapbox\"}], \"scatterpolar\": [{\"marker\": {\"colorbar\": {\"outlinewidth\": 0, \"ticks\": \"\"}}, \"type\": \"scatterpolar\"}], \"scatterpolargl\": [{\"marker\": {\"colorbar\": {\"outlinewidth\": 0, \"ticks\": \"\"}}, \"type\": \"scatterpolargl\"}], \"scatterternary\": [{\"marker\": {\"colorbar\": {\"outlinewidth\": 0, \"ticks\": \"\"}}, \"type\": \"scatterternary\"}], \"surface\": [{\"colorbar\": {\"outlinewidth\": 0, \"ticks\": \"\"}, \"colorscale\": [[0.0, \"#0d0887\"], [0.1111111111111111, \"#46039f\"], [0.2222222222222222, \"#7201a8\"], [0.3333333333333333, \"#9c179e\"], [0.4444444444444444, \"#bd3786\"], [0.5555555555555556, \"#d8576b\"], [0.6666666666666666, \"#ed7953\"], [0.7777777777777778, \"#fb9f3a\"], [0.8888888888888888, \"#fdca26\"], [1.0, \"#f0f921\"]], \"type\": \"surface\"}], \"table\": [{\"cells\": {\"fill\": {\"color\": \"#EBF0F8\"}, \"line\": {\"color\": \"white\"}}, \"header\": {\"fill\": {\"color\": \"#C8D4E3\"}, \"line\": {\"color\": \"white\"}}, \"type\": \"table\"}]}, \"layout\": {\"annotationdefaults\": {\"arrowcolor\": \"#2a3f5f\", \"arrowhead\": 0, \"arrowwidth\": 1}, \"coloraxis\": {\"colorbar\": {\"outlinewidth\": 0, \"ticks\": \"\"}}, \"colorscale\": {\"diverging\": [[0, \"#8e0152\"], [0.1, \"#c51b7d\"], [0.2, \"#de77ae\"], [0.3, \"#f1b6da\"], [0.4, \"#fde0ef\"], [0.5, \"#f7f7f7\"], [0.6, \"#e6f5d0\"], [0.7, \"#b8e186\"], [0.8, \"#7fbc41\"], [0.9, \"#4d9221\"], [1, \"#276419\"]], \"sequential\": [[0.0, \"#0d0887\"], [0.1111111111111111, \"#46039f\"], [0.2222222222222222, \"#7201a8\"], [0.3333333333333333, \"#9c179e\"], [0.4444444444444444, \"#bd3786\"], [0.5555555555555556, \"#d8576b\"], [0.6666666666666666, \"#ed7953\"], [0.7777777777777778, \"#fb9f3a\"], [0.8888888888888888, \"#fdca26\"], [1.0, \"#f0f921\"]], \"sequentialminus\": [[0.0, \"#0d0887\"], [0.1111111111111111, \"#46039f\"], [0.2222222222222222, \"#7201a8\"], [0.3333333333333333, \"#9c179e\"], [0.4444444444444444, \"#bd3786\"], [0.5555555555555556, \"#d8576b\"], [0.6666666666666666, \"#ed7953\"], [0.7777777777777778, \"#fb9f3a\"], [0.8888888888888888, \"#fdca26\"], [1.0, \"#f0f921\"]]}, \"colorway\": [\"#636efa\", \"#EF553B\", \"#00cc96\", \"#ab63fa\", \"#FFA15A\", \"#19d3f3\", \"#FF6692\", \"#B6E880\", \"#FF97FF\", \"#FECB52\"], \"font\": {\"color\": \"#2a3f5f\"}, \"geo\": {\"bgcolor\": \"white\", \"lakecolor\": \"white\", \"landcolor\": \"#E5ECF6\", \"showlakes\": true, \"showland\": true, \"subunitcolor\": \"white\"}, \"hoverlabel\": {\"align\": \"left\"}, \"hovermode\": \"closest\", \"mapbox\": {\"style\": \"light\"}, \"paper_bgcolor\": \"white\", \"plot_bgcolor\": \"#E5ECF6\", \"polar\": {\"angularaxis\": {\"gridcolor\": \"white\", \"linecolor\": \"white\", \"ticks\": \"\"}, \"bgcolor\": \"#E5ECF6\", \"radialaxis\": {\"gridcolor\": \"white\", \"linecolor\": \"white\", \"ticks\": \"\"}}, \"scene\": {\"xaxis\": {\"backgroundcolor\": \"#E5ECF6\", \"gridcolor\": \"white\", \"gridwidth\": 2, \"linecolor\": \"white\", \"showbackground\": true, \"ticks\": \"\", \"zerolinecolor\": \"white\"}, \"yaxis\": {\"backgroundcolor\": \"#E5ECF6\", \"gridcolor\": \"white\", \"gridwidth\": 2, \"linecolor\": \"white\", \"showbackground\": true, \"ticks\": \"\", \"zerolinecolor\": \"white\"}, \"zaxis\": {\"backgroundcolor\": \"#E5ECF6\", \"gridcolor\": \"white\", \"gridwidth\": 2, \"linecolor\": \"white\", \"showbackground\": true, \"ticks\": \"\", \"zerolinecolor\": \"white\"}}, \"shapedefaults\": {\"line\": {\"color\": \"#2a3f5f\"}}, \"ternary\": {\"aaxis\": {\"gridcolor\": \"white\", \"linecolor\": \"white\", \"ticks\": \"\"}, \"baxis\": {\"gridcolor\": \"white\", \"linecolor\": \"white\", \"ticks\": \"\"}, \"bgcolor\": \"#E5ECF6\", \"caxis\": {\"gridcolor\": \"white\", \"linecolor\": \"white\", \"ticks\": \"\"}}, \"title\": {\"x\": 0.05}, \"xaxis\": {\"automargin\": true, \"gridcolor\": \"white\", \"linecolor\": \"white\", \"ticks\": \"\", \"title\": {\"standoff\": 15}, \"zerolinecolor\": \"white\", \"zerolinewidth\": 2}, \"yaxis\": {\"automargin\": true, \"gridcolor\": \"white\", \"linecolor\": \"white\", \"ticks\": \"\", \"title\": {\"standoff\": 15}, \"zerolinecolor\": \"white\", \"zerolinewidth\": 2}}}, \"xaxis\": {\"anchor\": \"y\", \"domain\": [0.0, 1.0], \"title\": {\"text\": \"RM\"}}, \"yaxis\": {\"anchor\": \"x\", \"domain\": [0.0, 1.0], \"title\": {\"text\": \"PRICE\"}}},\n",
              "                        {\"responsive\": true}\n",
              "                    ).then(function(){\n",
              "                            \n",
              "var gd = document.getElementById('e0f03a42-7858-4c58-b202-ba02f418534d');\n",
              "var x = new MutationObserver(function (mutations, observer) {{\n",
              "        var display = window.getComputedStyle(gd).display;\n",
              "        if (!display || display === 'none') {{\n",
              "            console.log([gd, 'removed!']);\n",
              "            Plotly.purge(gd);\n",
              "            observer.disconnect();\n",
              "        }}\n",
              "}});\n",
              "\n",
              "// Listen for the removal of the full notebook cells\n",
              "var notebookContainer = gd.closest('#notebook-container');\n",
              "if (notebookContainer) {{\n",
              "    x.observe(notebookContainer, {childList: true});\n",
              "}}\n",
              "\n",
              "// Listen for the clearing of the current output cell\n",
              "var outputEl = gd.closest('.output');\n",
              "if (outputEl) {{\n",
              "    x.observe(outputEl, {childList: true});\n",
              "}}\n",
              "\n",
              "                        })\n",
              "                };\n",
              "                \n",
              "            </script>\n",
              "        </div>\n",
              "</body>\n",
              "</html>"
            ]
          },
          "metadata": {
            "tags": []
          }
        }
      ]
    },
    {
      "cell_type": "markdown",
      "metadata": {
        "id": "pzp-3B5k-lOc"
      },
      "source": [
        "`px.scatter(...)`の内容は後で利用するため、`fig`という名前をつけてとっておきます。\n",
        "このため、グラフの描画には、\n",
        "```python\n",
        "fig.show()\n",
        "```\n",
        "が必要になっています。\n",
        "\n",
        "さて、グラフ上に点がプロットされただけではなく、点の分布の傾向を示す近似直線（trend line）が引かれています。\n",
        "近似直線の描画は、`px.scatter(...)`の引数の`trendline='ols'`によって指定されています。\n",
        "\n",
        "この部分はおまじないだと思っていただいて結構なのですが、\n",
        "興味のある人向けに少しだけ説明します。\n",
        "\n",
        "プロットした点群に対して、傾向を表す近似直線を当てはめることを**線形回帰**といい、\n",
        "近似直線を**回帰直線**とも呼びます。\n",
        "近似直線の求め方には複数の方法がありますが、ここでは最も一般的な**最小二乗法**を用います。\n",
        "\n",
        "点群$(x_1, y_1), \\dots, (x_n, y_n)$に対して、近似直線$y = wx + b$を求めた時、\n",
        "$$\n",
        "\\epsilon_i = (y_i - wx_i - b)^2\n",
        "$$\n",
        "を、$i$番目のデータ$(x_i, y_i)$における二乗誤差と呼びます。\n",
        "最小二乗法は、二乗誤差の総和\n",
        "$$\n",
        "S = \\sum_{i=1}^n (y_i - wx_i - b)^2\n",
        "$$\n",
        "が最小になるように$w$と$b$を定める方法です。\n",
        "\n",
        "`trendline='ols'`の`ols`は、Ordinary Least Squareの頭文字で、最小二乗法の意味です。\n",
        "\n",
        "さて、`px.scatter(...)`が近似直線を計算する過程で、多くの情報が計算されます。\n",
        "次のプログラムでは、それらの情報を表示します。\n",
        "```python\n",
        "results = px.get_trendline_results(fig)\n",
        "results.px_fit_results[0].summary()\n",
        "```"
      ]
    },
    {
      "cell_type": "code",
      "metadata": {
        "colab": {
          "base_uri": "https://localhost:8080/",
          "height": 444
        },
        "id": "OJJ4UzW3-lOc",
        "outputId": "9a2b6e88-364d-4ee1-9a26-30666f9ddb28"
      },
      "source": [
        "results = px.get_trendline_results(fig)\n",
        "results.px_fit_results[0].summary()"
      ],
      "execution_count": null,
      "outputs": [
        {
          "output_type": "execute_result",
          "data": {
            "text/html": [
              "<table class=\"simpletable\">\n",
              "<caption>OLS Regression Results</caption>\n",
              "<tr>\n",
              "  <th>Dep. Variable:</th>            <td>y</td>        <th>  R-squared:         </th> <td>   0.484</td>\n",
              "</tr>\n",
              "<tr>\n",
              "  <th>Model:</th>                   <td>OLS</td>       <th>  Adj. R-squared:    </th> <td>   0.483</td>\n",
              "</tr>\n",
              "<tr>\n",
              "  <th>Method:</th>             <td>Least Squares</td>  <th>  F-statistic:       </th> <td>   471.8</td>\n",
              "</tr>\n",
              "<tr>\n",
              "  <th>Date:</th>             <td>Thu, 01 Jul 2021</td> <th>  Prob (F-statistic):</th> <td>2.49e-74</td>\n",
              "</tr>\n",
              "<tr>\n",
              "  <th>Time:</th>                 <td>09:14:28</td>     <th>  Log-Likelihood:    </th> <td> -1673.1</td>\n",
              "</tr>\n",
              "<tr>\n",
              "  <th>No. Observations:</th>      <td>   506</td>      <th>  AIC:               </th> <td>   3350.</td>\n",
              "</tr>\n",
              "<tr>\n",
              "  <th>Df Residuals:</th>          <td>   504</td>      <th>  BIC:               </th> <td>   3359.</td>\n",
              "</tr>\n",
              "<tr>\n",
              "  <th>Df Model:</th>              <td>     1</td>      <th>                     </th>     <td> </td>   \n",
              "</tr>\n",
              "<tr>\n",
              "  <th>Covariance Type:</th>      <td>nonrobust</td>    <th>                     </th>     <td> </td>   \n",
              "</tr>\n",
              "</table>\n",
              "<table class=\"simpletable\">\n",
              "<tr>\n",
              "    <td></td>       <th>coef</th>     <th>std err</th>      <th>t</th>      <th>P>|t|</th>  <th>[0.025</th>    <th>0.975]</th>  \n",
              "</tr>\n",
              "<tr>\n",
              "  <th>const</th> <td>  -34.6706</td> <td>    2.650</td> <td>  -13.084</td> <td> 0.000</td> <td>  -39.877</td> <td>  -29.465</td>\n",
              "</tr>\n",
              "<tr>\n",
              "  <th>x1</th>    <td>    9.1021</td> <td>    0.419</td> <td>   21.722</td> <td> 0.000</td> <td>    8.279</td> <td>    9.925</td>\n",
              "</tr>\n",
              "</table>\n",
              "<table class=\"simpletable\">\n",
              "<tr>\n",
              "  <th>Omnibus:</th>       <td>102.585</td> <th>  Durbin-Watson:     </th> <td>   1.466</td> \n",
              "</tr>\n",
              "<tr>\n",
              "  <th>Prob(Omnibus):</th> <td> 0.000</td>  <th>  Jarque-Bera (JB):  </th> <td> 612.449</td> \n",
              "</tr>\n",
              "<tr>\n",
              "  <th>Skew:</th>          <td> 0.726</td>  <th>  Prob(JB):          </th> <td>1.02e-133</td>\n",
              "</tr>\n",
              "<tr>\n",
              "  <th>Kurtosis:</th>      <td> 8.190</td>  <th>  Cond. No.          </th> <td>    58.4</td> \n",
              "</tr>\n",
              "</table><br/><br/>Warnings:<br/>[1] Standard Errors assume that the covariance matrix of the errors is correctly specified."
            ],
            "text/plain": [
              "<class 'statsmodels.iolib.summary.Summary'>\n",
              "\"\"\"\n",
              "                            OLS Regression Results                            \n",
              "==============================================================================\n",
              "Dep. Variable:                      y   R-squared:                       0.484\n",
              "Model:                            OLS   Adj. R-squared:                  0.483\n",
              "Method:                 Least Squares   F-statistic:                     471.8\n",
              "Date:                Thu, 01 Jul 2021   Prob (F-statistic):           2.49e-74\n",
              "Time:                        09:14:28   Log-Likelihood:                -1673.1\n",
              "No. Observations:                 506   AIC:                             3350.\n",
              "Df Residuals:                     504   BIC:                             3359.\n",
              "Df Model:                           1                                         \n",
              "Covariance Type:            nonrobust                                         \n",
              "==============================================================================\n",
              "                 coef    std err          t      P>|t|      [0.025      0.975]\n",
              "------------------------------------------------------------------------------\n",
              "const        -34.6706      2.650    -13.084      0.000     -39.877     -29.465\n",
              "x1             9.1021      0.419     21.722      0.000       8.279       9.925\n",
              "==============================================================================\n",
              "Omnibus:                      102.585   Durbin-Watson:                   1.466\n",
              "Prob(Omnibus):                  0.000   Jarque-Bera (JB):              612.449\n",
              "Skew:                           0.726   Prob(JB):                    1.02e-133\n",
              "Kurtosis:                       8.190   Cond. No.                         58.4\n",
              "==============================================================================\n",
              "\n",
              "Warnings:\n",
              "[1] Standard Errors assume that the covariance matrix of the errors is correctly specified.\n",
              "\"\"\""
            ]
          },
          "metadata": {
            "tags": []
          },
          "execution_count": 41
        }
      ]
    },
    {
      "cell_type": "markdown",
      "metadata": {
        "id": "YrqaxYUf-lOc"
      },
      "source": [
        "多くの情報が表示されていますが、ここで重要な情報は、近似直線の傾き$w$と$y$切片$b$です。\n",
        "`coef`の列の`x1`の値$9.1021$が傾き$w$、\n",
        "`coef`の列の`const`の値$-34.6706$が$y$切片$b$となります。\n",
        "その他の情報については、ここで理解する必要はありません。"
      ]
    },
    {
      "cell_type": "markdown",
      "metadata": {
        "id": "pEHnYhha0Dt4"
      },
      "source": [
        "上のプログラムには理解できない部分もあったと思いますが、\n",
        "分からない部分はおまじないだと思って、これらのプログラムをテンプレートとして利用し、\n",
        "新しい問題に適用できる能力を身につけることが、この講義での目標の一つです。\n",
        "\n",
        "### 演習11-4\n",
        "\n",
        "`boston`データセットにおいて、強い負の相関を持つ属性のペアを一つ選んで、\n",
        "ここまでみてきたプログラムをテンプレートにして、\n",
        "線形回帰を行い、その結果を元データのプロットと回帰直線のプロットとして示せ。\n",
        "また、回帰直線の傾きと$y$切片を求めよ。"
      ]
    },
    {
      "cell_type": "code",
      "metadata": {
        "colab": {
          "base_uri": "https://localhost:8080/",
          "height": 969
        },
        "id": "cCE3I920yt8O",
        "outputId": "8b990466-4953-4ac5-d38a-feed7793f8d0"
      },
      "source": [
        "fig = px.scatter(boston, x='AGE', y='DIS', trendline='ols')\n",
        "fig.show()\n",
        "results = px.get_trendline_results(fig)\n",
        "results.px_fit_results[0].summary()"
      ],
      "execution_count": null,
      "outputs": [
        {
          "output_type": "display_data",
          "data": {
            "text/html": [
              "<html>\n",
              "<head><meta charset=\"utf-8\" /></head>\n",
              "<body>\n",
              "    <div>\n",
              "            <script src=\"https://cdnjs.cloudflare.com/ajax/libs/mathjax/2.7.5/MathJax.js?config=TeX-AMS-MML_SVG\"></script><script type=\"text/javascript\">if (window.MathJax) {MathJax.Hub.Config({SVG: {font: \"STIX-Web\"}});}</script>\n",
              "                <script type=\"text/javascript\">window.PlotlyConfig = {MathJaxConfig: 'local'};</script>\n",
              "        <script src=\"https://cdn.plot.ly/plotly-latest.min.js\"></script>    \n",
              "            <div id=\"1684fd4f-ad75-4c70-9de6-41a691353aa8\" class=\"plotly-graph-div\" style=\"height:525px; width:100%;\"></div>\n",
              "            <script type=\"text/javascript\">\n",
              "                \n",
              "                    window.PLOTLYENV=window.PLOTLYENV || {};\n",
              "                    \n",
              "                if (document.getElementById(\"1684fd4f-ad75-4c70-9de6-41a691353aa8\")) {\n",
              "                    Plotly.newPlot(\n",
              "                        '1684fd4f-ad75-4c70-9de6-41a691353aa8',\n",
              "                        [{\"hoverlabel\": {\"namelength\": 0}, \"hovertemplate\": \"AGE=%{x}<br>DIS=%{y}\", \"legendgroup\": \"\", \"marker\": {\"color\": \"#636efa\", \"symbol\": \"circle\"}, \"mode\": \"markers\", \"name\": \"\", \"showlegend\": false, \"type\": \"scatter\", \"x\": [65.2, 78.9, 61.1, 45.8, 54.2, 58.7, 66.6, 96.1, 100.0, 85.9, 94.3, 82.9, 39.0, 61.8, 84.5, 56.5, 29.3, 81.7, 36.6, 69.5, 98.1, 89.2, 91.7, 100.0, 94.1, 85.7, 90.3, 88.8, 94.4, 87.3, 94.1, 100.0, 82.0, 95.0, 96.9, 68.2, 61.4, 41.5, 30.2, 21.8, 15.8, 2.9, 6.6, 6.5, 40.0, 33.8, 33.3, 85.5, 95.3, 62.0, 45.7, 63.0, 21.1, 21.4, 47.6, 21.9, 35.7, 40.5, 29.2, 47.2, 66.2, 93.4, 67.8, 43.4, 59.5, 17.8, 31.1, 21.4, 36.8, 33.0, 6.6, 17.5, 7.8, 6.2, 6.0, 45.0, 74.5, 45.8, 53.7, 36.6, 33.5, 70.4, 32.2, 46.7, 48.0, 56.1, 45.1, 56.8, 86.3, 63.1, 66.1, 73.9, 53.6, 28.9, 77.3, 57.8, 69.6, 76.0, 36.9, 62.5, 79.9, 71.3, 85.4, 87.4, 90.0, 96.7, 91.9, 85.2, 97.1, 91.2, 54.4, 81.6, 92.9, 95.4, 84.2, 88.2, 72.5, 82.6, 73.1, 65.2, 69.7, 84.1, 92.9, 97.0, 95.8, 88.4, 95.6, 96.0, 98.8, 94.7, 98.9, 97.7, 97.9, 95.4, 98.4, 98.2, 93.5, 98.4, 98.2, 97.9, 93.6, 100.0, 100.0, 100.0, 97.8, 100.0, 100.0, 95.7, 93.8, 94.9, 97.3, 100.0, 88.0, 98.5, 96.0, 82.6, 94.0, 97.4, 100.0, 100.0, 92.6, 90.8, 98.2, 93.9, 91.8, 93.0, 96.2, 79.2, 96.1, 95.2, 94.6, 97.3, 88.5, 84.1, 68.7, 33.1, 47.2, 73.4, 74.4, 58.4, 83.3, 62.2, 92.2, 95.6, 89.8, 68.8, 53.6, 41.1, 29.1, 38.9, 21.5, 30.8, 26.3, 9.9, 18.8, 32.0, 34.1, 36.6, 38.3, 15.3, 13.9, 38.4, 15.7, 33.2, 31.9, 22.3, 52.5, 72.7, 59.1, 100.0, 92.1, 88.6, 53.8, 32.3, 9.8, 42.4, 56.0, 85.1, 93.8, 92.4, 88.5, 91.3, 77.7, 80.8, 78.3, 83.0, 86.5, 79.9, 17.0, 21.4, 68.1, 76.9, 73.3, 70.4, 66.5, 61.5, 76.5, 71.6, 18.5, 42.2, 54.3, 65.1, 52.9, 7.8, 76.5, 70.2, 34.9, 79.2, 49.1, 17.5, 13.0, 8.9, 6.8, 8.4, 32.0, 19.1, 34.2, 86.9, 100.0, 100.0, 81.8, 89.4, 91.5, 94.5, 91.6, 62.8, 84.6, 67.0, 52.6, 61.5, 42.1, 16.3, 58.7, 51.8, 32.9, 42.8, 49.0, 27.6, 32.1, 32.2, 64.5, 37.2, 49.7, 24.8, 20.8, 31.9, 31.5, 31.3, 45.6, 22.9, 27.9, 27.7, 23.4, 18.4, 42.3, 31.1, 51.0, 58.0, 20.1, 10.0, 47.4, 40.4, 18.4, 17.7, 41.1, 58.1, 71.9, 70.3, 82.5, 76.7, 37.8, 52.8, 90.4, 82.8, 87.3, 77.7, 83.2, 71.7, 67.2, 58.8, 52.3, 54.3, 49.9, 74.3, 40.1, 14.7, 28.9, 43.7, 25.8, 17.2, 32.2, 28.4, 23.3, 38.1, 38.5, 34.5, 46.3, 59.6, 37.3, 45.4, 58.5, 49.3, 59.7, 56.4, 28.1, 48.5, 52.3, 27.7, 29.7, 34.5, 44.4, 35.9, 18.5, 36.1, 21.9, 19.5, 97.4, 91.0, 83.4, 81.3, 88.0, 91.1, 96.2, 89.0, 82.9, 87.9, 91.4, 100.0, 100.0, 96.8, 97.5, 100.0, 89.6, 100.0, 100.0, 97.9, 93.3, 98.8, 96.2, 100.0, 91.9, 99.1, 100.0, 100.0, 91.2, 98.1, 100.0, 89.5, 100.0, 98.9, 97.0, 82.5, 97.0, 92.6, 94.7, 98.8, 96.0, 98.9, 100.0, 77.8, 100.0, 100.0, 100.0, 96.0, 85.4, 100.0, 100.0, 100.0, 97.9, 100.0, 100.0, 100.0, 100.0, 100.0, 100.0, 100.0, 90.8, 89.1, 100.0, 76.5, 100.0, 95.3, 87.6, 85.1, 70.6, 95.4, 59.7, 78.7, 78.1, 95.6, 86.1, 94.3, 74.8, 87.9, 95.0, 94.6, 93.3, 100.0, 87.9, 93.9, 92.4, 97.2, 100.0, 100.0, 96.6, 94.8, 96.4, 96.6, 98.7, 98.3, 92.6, 98.2, 91.8, 99.3, 94.1, 86.5, 87.9, 80.3, 83.7, 84.4, 90.0, 88.4, 83.0, 89.9, 65.4, 48.2, 84.7, 94.5, 71.0, 56.7, 84.0, 90.7, 75.0, 67.6, 95.4, 97.4, 93.6, 97.3, 96.7, 88.0, 64.7, 74.9, 77.0, 40.3, 41.9, 51.9, 79.8, 53.2, 92.7, 98.3, 98.0, 98.8, 83.5, 54.0, 42.6, 28.8, 72.9, 70.6, 65.3, 73.5, 79.7, 69.1, 76.7, 91.0, 89.3, 80.8], \"xaxis\": \"x\", \"y\": [4.09, 4.9671, 4.9671, 6.0622, 6.0622, 6.0622, 5.5605, 5.9505, 6.0821, 6.5921, 6.3467, 6.2267, 5.4509, 4.7075, 4.4619, 4.4986, 4.4986, 4.2579, 3.7965, 3.7965, 3.7979, 4.0123, 3.9769, 4.0952, 4.3996, 4.4546, 4.682, 4.4534, 4.4547, 4.239, 4.233, 4.175, 3.99, 3.7872, 3.7598, 3.3603, 3.3779, 3.9342, 3.8473, 5.4011, 5.4011, 5.7209, 5.7209, 5.7209, 5.7209, 5.1004, 5.1004, 5.6894, 5.87, 6.0877, 6.8147, 6.8147, 6.8147, 6.8147, 7.3197, 8.6966, 9.1876, 8.3248, 7.8148, 6.932, 7.2254, 6.8185, 7.2255, 7.9809, 9.2229, 6.6115, 6.6115, 6.498, 6.498, 6.498, 5.2873, 5.2873, 5.2873, 5.2873, 4.2515, 4.5026, 4.0522, 4.0905, 5.0141, 4.5026, 5.4007, 5.4007, 5.4007, 5.4007, 4.7794, 4.4377, 4.4272, 3.7476, 3.4217, 3.4145, 3.0923, 3.0921, 3.6659, 3.6659, 3.615, 3.4952, 3.4952, 3.4952, 3.4952, 3.4952, 2.7778, 2.8561, 2.7147, 2.7147, 2.421, 2.1069, 2.211, 2.1224, 2.4329, 2.5451, 2.7778, 2.6775, 2.3534, 2.548, 2.2565, 2.4631, 2.7301, 2.7474, 2.4775, 2.7592, 2.2577, 2.1974, 2.0869, 1.9444, 2.0063, 1.9929, 1.7572, 1.7883, 1.8125, 1.9799, 2.1185, 2.271, 2.3274, 2.4699, 2.346, 2.1107, 1.9669, 1.8498, 1.6686, 1.6687, 1.6119, 1.4394, 1.3216, 1.4118, 1.3459, 1.4191, 1.5166, 1.4608, 1.5296, 1.5257, 1.618, 1.5916, 1.6102, 1.6232, 1.7494, 1.7455, 1.7364, 1.8773, 1.7573, 1.7659, 1.7984, 1.9709, 2.0407, 2.162, 2.422, 2.2834, 2.0459, 2.4259, 2.1, 2.2625, 2.4259, 2.3887, 2.5961, 2.6463, 2.7019, 3.1323, 3.5549, 3.3175, 2.9153, 2.829, 2.741, 2.5979, 2.7006, 2.847, 2.9879, 3.2797, 3.1992, 3.7886, 4.5667, 4.5667, 6.4798, 6.4798, 6.4798, 6.2196, 6.2196, 5.6484, 7.309, 7.309, 7.309, 7.6534, 7.6534, 6.27, 6.27, 5.118, 5.118, 3.9454, 4.3549, 4.3549, 4.2392, 3.875, 3.8771, 3.665, 3.6526, 3.9454, 3.5875, 3.9454, 3.1121, 3.4211, 2.8893, 3.3633, 2.8617, 3.048, 3.2721, 3.2721, 2.8944, 2.8944, 3.2157, 3.2157, 3.3751, 3.3751, 3.6715, 3.6715, 3.8384, 3.6519, 3.6519, 3.6519, 4.148, 4.148, 6.1899, 6.1899, 6.3361, 6.3361, 7.0355, 7.0355, 7.9549, 7.9549, 8.0555, 8.0555, 7.8265, 7.8265, 7.3967, 7.3967, 8.9067, 8.9067, 9.2203, 9.2203, 6.3361, 1.801, 1.8946, 2.0107, 2.1121, 2.1398, 2.2885, 2.0788, 1.9301, 1.9865, 2.1329, 2.4216, 2.872, 3.9175, 4.429, 4.429, 3.9175, 4.3665, 4.0776, 4.2673, 4.7872, 4.8628, 4.1403, 4.1007, 4.6947, 5.2447, 5.2119, 5.885, 7.3073, 7.3073, 9.0892, 7.3172, 7.3172, 7.3172, 5.1167, 5.1167, 5.1167, 5.5027, 5.5027, 5.9604, 5.9604, 6.32, 7.8278, 7.8278, 7.8278, 5.4917, 5.4917, 5.4917, 4.022, 3.37, 3.0992, 3.1827, 3.3175, 3.1025, 2.5194, 2.6403, 2.834, 3.2628, 3.6023, 3.945, 3.9986, 4.0317, 3.5325, 4.0019, 4.5404, 4.5404, 4.7211, 4.7211, 4.7211, 5.4159, 5.4159, 5.4159, 5.2146, 5.2146, 5.8736, 6.6407, 6.6407, 6.4584, 6.4584, 5.9853, 5.2311, 5.615, 4.8122, 4.8122, 4.8122, 7.0379, 6.2669, 5.7321, 6.4654, 8.0136, 8.0136, 8.5353, 8.344, 8.7921, 8.7921, 10.7103, 10.7103, 12.1265, 10.5857, 10.5857, 2.1222, 2.5052, 2.7227, 2.5091, 2.5182, 2.2955, 2.1036, 1.9047, 1.9047, 1.6132, 1.7523, 1.5106, 1.3325, 1.3567, 1.2024, 1.1691, 1.1296, 1.1742, 1.137, 1.3163, 1.3449, 1.358, 1.3861, 1.3861, 1.4165, 1.5192, 1.5804, 1.5331, 1.4395, 1.4261, 1.4672, 1.5184, 1.5895, 1.7281, 1.9265, 2.1678, 1.77, 1.7912, 1.7821, 1.7257, 1.6768, 1.6334, 1.4896, 1.5004, 1.5888, 1.5741, 1.639, 1.7028, 1.6074, 1.4254, 1.1781, 1.2852, 1.4547, 1.4655, 1.413, 1.5275, 1.5539, 1.5894, 1.6582, 1.8347, 1.8195, 1.6475, 1.8026, 1.794, 1.8589, 1.8746, 1.9512, 2.0218, 2.0635, 1.9096, 1.9976, 1.8629, 1.9356, 1.9682, 2.0527, 2.0882, 2.2004, 2.3158, 2.2222, 2.1247, 2.0026, 1.9142, 1.8206, 1.8172, 1.8662, 2.0651, 2.0048, 1.9784, 1.8956, 1.9879, 2.072, 2.198, 2.2616, 2.185, 2.3236, 2.3552, 2.3682, 2.4527, 2.4961, 2.4358, 2.5806, 2.7792, 2.7831, 2.7175, 2.5975, 2.5671, 2.7344, 2.8016, 2.9634, 3.0665, 2.8715, 2.5403, 2.9084, 2.8237, 3.0334, 3.0993, 2.8965, 2.5329, 2.4298, 2.206, 2.3053, 2.1007, 2.1705, 1.9512, 3.4242, 3.3317, 3.4106, 4.0983, 3.724, 3.9917, 3.5459, 3.1523, 1.8209, 1.7554, 1.8226, 1.8681, 2.1099, 2.3817, 2.3817, 2.7986, 2.7986, 2.8927, 2.4091, 2.3999, 2.4982, 2.4786, 2.2875, 2.1675, 2.3889, 2.505], \"yaxis\": \"y\"}, {\"hoverlabel\": {\"namelength\": 0}, \"hovertemplate\": \"<b>OLS trendline</b><br>DIS = -0.055946 * AGE + 7.631542<br>R<sup>2</sup>=0.559325<br><br>AGE=%{x}<br>DIS=%{y} <b>(trend)</b>\", \"legendgroup\": \"\", \"marker\": {\"color\": \"#636efa\", \"symbol\": \"circle\"}, \"mode\": \"lines\", \"name\": \"\", \"showlegend\": false, \"type\": \"scatter\", \"x\": [2.9, 6.0, 6.2, 6.5, 6.6, 6.6, 6.8, 7.8, 7.8, 8.4, 8.9, 9.8, 9.9, 10.0, 13.0, 13.9, 14.7, 15.3, 15.7, 15.8, 16.3, 17.0, 17.2, 17.5, 17.5, 17.7, 17.8, 18.4, 18.4, 18.5, 18.5, 18.8, 19.1, 19.5, 20.1, 20.8, 21.1, 21.4, 21.4, 21.4, 21.5, 21.8, 21.9, 21.9, 22.3, 22.9, 23.3, 23.4, 24.8, 25.8, 26.3, 27.6, 27.7, 27.7, 27.9, 28.1, 28.4, 28.8, 28.9, 28.9, 29.1, 29.2, 29.3, 29.7, 30.2, 30.8, 31.1, 31.1, 31.3, 31.5, 31.9, 31.9, 32.0, 32.0, 32.1, 32.2, 32.2, 32.2, 32.3, 32.9, 33.0, 33.1, 33.2, 33.3, 33.5, 33.8, 34.1, 34.2, 34.5, 34.5, 34.9, 35.7, 35.9, 36.1, 36.6, 36.6, 36.6, 36.8, 36.9, 37.2, 37.3, 37.8, 38.1, 38.3, 38.4, 38.5, 38.9, 39.0, 40.0, 40.1, 40.3, 40.4, 40.5, 41.1, 41.1, 41.5, 41.9, 42.1, 42.2, 42.3, 42.4, 42.6, 42.8, 43.4, 43.7, 44.4, 45.0, 45.1, 45.4, 45.6, 45.7, 45.8, 45.8, 46.3, 46.7, 47.2, 47.2, 47.4, 47.6, 48.0, 48.2, 48.5, 49.0, 49.1, 49.3, 49.7, 49.9, 51.0, 51.8, 51.9, 52.3, 52.3, 52.5, 52.6, 52.8, 52.9, 53.2, 53.6, 53.6, 53.7, 53.8, 54.0, 54.2, 54.3, 54.3, 54.4, 56.0, 56.1, 56.4, 56.5, 56.7, 56.8, 57.8, 58.0, 58.1, 58.4, 58.5, 58.7, 58.7, 58.8, 59.1, 59.5, 59.6, 59.7, 59.7, 61.1, 61.4, 61.5, 61.5, 61.8, 62.0, 62.2, 62.5, 62.8, 63.0, 63.1, 64.5, 64.7, 65.1, 65.2, 65.2, 65.3, 65.4, 66.1, 66.2, 66.5, 66.6, 67.0, 67.2, 67.6, 67.8, 68.1, 68.2, 68.7, 68.8, 69.1, 69.5, 69.6, 69.7, 70.2, 70.3, 70.4, 70.4, 70.6, 70.6, 71.0, 71.3, 71.6, 71.7, 71.9, 72.5, 72.7, 72.9, 73.1, 73.3, 73.4, 73.5, 73.9, 74.3, 74.4, 74.5, 74.8, 74.9, 75.0, 76.0, 76.5, 76.5, 76.5, 76.7, 76.7, 76.9, 77.0, 77.3, 77.7, 77.7, 77.8, 78.1, 78.3, 78.7, 78.9, 79.2, 79.2, 79.7, 79.8, 79.9, 79.9, 80.3, 80.8, 80.8, 81.3, 81.6, 81.7, 81.8, 82.0, 82.5, 82.5, 82.6, 82.6, 82.8, 82.9, 82.9, 83.0, 83.0, 83.2, 83.3, 83.4, 83.5, 83.7, 84.0, 84.1, 84.1, 84.2, 84.4, 84.5, 84.6, 84.7, 85.1, 85.1, 85.2, 85.4, 85.4, 85.5, 85.7, 85.9, 86.1, 86.3, 86.5, 86.5, 86.9, 87.3, 87.3, 87.4, 87.6, 87.9, 87.9, 87.9, 87.9, 88.0, 88.0, 88.0, 88.2, 88.4, 88.4, 88.5, 88.5, 88.6, 88.8, 89.0, 89.1, 89.2, 89.3, 89.4, 89.5, 89.6, 89.8, 89.9, 90.0, 90.0, 90.3, 90.4, 90.7, 90.8, 90.8, 91.0, 91.0, 91.1, 91.2, 91.2, 91.3, 91.4, 91.5, 91.6, 91.7, 91.8, 91.8, 91.9, 91.9, 92.1, 92.2, 92.4, 92.4, 92.6, 92.6, 92.6, 92.7, 92.9, 92.9, 93.0, 93.3, 93.3, 93.4, 93.5, 93.6, 93.6, 93.8, 93.8, 93.9, 93.9, 94.0, 94.1, 94.1, 94.1, 94.3, 94.3, 94.4, 94.5, 94.5, 94.6, 94.6, 94.7, 94.7, 94.8, 94.9, 95.0, 95.0, 95.2, 95.3, 95.3, 95.4, 95.4, 95.4, 95.4, 95.6, 95.6, 95.6, 95.7, 95.8, 96.0, 96.0, 96.0, 96.0, 96.1, 96.1, 96.2, 96.2, 96.2, 96.4, 96.6, 96.6, 96.7, 96.7, 96.8, 96.9, 97.0, 97.0, 97.0, 97.1, 97.2, 97.3, 97.3, 97.3, 97.4, 97.4, 97.4, 97.5, 97.7, 97.8, 97.9, 97.9, 97.9, 97.9, 98.0, 98.1, 98.1, 98.2, 98.2, 98.2, 98.2, 98.3, 98.3, 98.4, 98.4, 98.5, 98.7, 98.8, 98.8, 98.8, 98.8, 98.9, 98.9, 98.9, 99.1, 99.3, 100.0, 100.0, 100.0, 100.0, 100.0, 100.0, 100.0, 100.0, 100.0, 100.0, 100.0, 100.0, 100.0, 100.0, 100.0, 100.0, 100.0, 100.0, 100.0, 100.0, 100.0, 100.0, 100.0, 100.0, 100.0, 100.0, 100.0, 100.0, 100.0, 100.0, 100.0, 100.0, 100.0, 100.0, 100.0, 100.0, 100.0, 100.0, 100.0, 100.0, 100.0, 100.0, 100.0], \"xaxis\": \"x\", \"y\": [7.469298707785897, 7.295865730248531, 7.284676505891282, 7.267892669355407, 7.262298057176783, 7.262298057176783, 7.251108832819534, 7.195162711033287, 7.195162711033287, 7.161595037961539, 7.133621977068415, 7.0832704674607925, 7.077675855282168, 7.072081243103543, 6.904242877744803, 6.85389136813718, 6.809134470708184, 6.775566797636435, 6.753188348921936, 6.747593736743312, 6.719620675850188, 6.680458390599815, 6.669269166242566, 6.652485329706692, 6.652485329706692, 6.641296105349443, 6.635701493170818, 6.60213382009907, 6.60213382009907, 6.596539207920445, 6.596539207920445, 6.579755371384571, 6.562971534848697, 6.540593086134198, 6.5070254130624505, 6.467863127812077, 6.451079291276203, 6.4342954547403295, 6.4342954547403295, 6.4342954547403295, 6.428700842561705, 6.41191700602583, 6.406322393847206, 6.406322393847206, 6.383943945132707, 6.350376272060959, 6.32799782334646, 6.322403211167836, 6.244078640667089, 6.188132518880843, 6.160159457987719, 6.087429499665598, 6.081834887486973, 6.081834887486973, 6.070645663129724, 6.059456438772475, 6.0426726022366015, 6.020294153522102, 6.014699541343478, 6.014699541343478, 6.003510316986228, 5.997915704807603, 5.992321092628979, 5.9699426439144805, 5.941969583021357, 5.908401909949609, 5.891618073413734, 5.891618073413734, 5.880428849056485, 5.869239624699236, 5.846861175984737, 5.846861175984737, 5.841266563806112, 5.841266563806112, 5.8356719516274875, 5.830077339448863, 5.830077339448863, 5.830077339448863, 5.824482727270238, 5.79091505419849, 5.785320442019865, 5.77972582984124, 5.774131217662616, 5.768536605483991, 5.757347381126742, 5.740563544590868, 5.723779708054994, 5.718185095876368, 5.701401259340495, 5.701401259340495, 5.679022810625996, 5.634265913196998, 5.623076688839749, 5.6118874644825, 5.583914403589376, 5.583914403589376, 5.583914403589376, 5.572725179232127, 5.5671305670535025, 5.550346730517628, 5.544752118339003, 5.516779057445881, 5.499995220910006, 5.488805996552757, 5.4832113843741315, 5.477616772195507, 5.455238323481009, 5.449643711302384, 5.393697589516137, 5.388102977337512, 5.376913752980263, 5.3713191408016385, 5.365724528623014, 5.332156855551265, 5.332156855551265, 5.309778406836767, 5.287399958122268, 5.276210733765018, 5.270616121586394, 5.265021509407769, 5.259426897229145, 5.248237672871895, 5.237048448514646, 5.203480775442898, 5.186696938907023, 5.147534653656651, 5.113966980584903, 5.108372368406277, 5.0915885318704035, 5.080399307513154, 5.07480469533453, 5.069210083155905, 5.069210083155905, 5.041237022262782, 5.0188585735482825, 4.99088551265516, 4.99088551265516, 4.9796962882979106, 4.9685070639406606, 4.946128615226161, 4.934939390868912, 4.918155554333039, 4.890182493439915, 4.88458788126129, 4.873398656904041, 4.851020208189542, 4.839830983832293, 4.778290249867421, 4.733533352438424, 4.727938740259799, 4.7055602915453, 4.7055602915453, 4.694371067188051, 4.688776455009426, 4.677587230652177, 4.671992618473553, 4.655208781937677, 4.632830333223179, 4.632830333223179, 4.6272357210445545, 4.62164110886593, 4.610451884508681, 4.599262660151431, 4.593668047972807, 4.593668047972807, 4.588073435794182, 4.498559640936187, 4.4929650287575615, 4.476181192221688, 4.470586580043063, 4.459397355685814, 4.45380274350719, 4.397856621720942, 4.386667397363693, 4.381072785185069, 4.364288948649195, 4.3586943364705695, 4.3475051121133195, 4.3475051121133195, 4.341910499934696, 4.325126663398821, 4.302748214684323, 4.2971536025056984, 4.291558990327073, 4.291558990327073, 4.213234419826327, 4.196450583290454, 4.190855971111828, 4.190855971111828, 4.174072134575955, 4.1628829102187055, 4.151693685861456, 4.134909849325582, 4.118126012789708, 4.106936788432458, 4.101342176253834, 4.023017605753088, 4.011828381395839, 3.98944993268134, 3.983855320502715, 3.983855320502715, 3.978260708324091, 3.9726660961454656, 3.9335038108950937, 3.9279091987164683, 3.9111253621805946, 3.90553075000197, 3.883152301287471, 3.8719630769302213, 3.849584628215723, 3.8383954038584736, 3.8216115673226, 3.8160169551439744, 3.788043894250851, 3.7824492820722266, 3.765665445536353, 3.743286996821854, 3.7376923846432293, 3.7320977724646043, 3.7041247115714806, 3.6985300993928565, 3.692935487214231, 3.692935487214231, 3.6817462628569824, 3.6817462628569824, 3.6593678141424832, 3.6425839776066096, 3.6258001410707354, 3.620205528892111, 3.609016304534861, 3.5754486314631135, 3.5642594071058635, 3.5530701827486144, 3.5418809583913653, 3.530691734034116, 3.5250971218554907, 3.519502509676866, 3.497124060962367, 3.474745612247869, 3.4691510000692434, 3.4635563878906197, 3.446772551354745, 3.4411779391761206, 3.435583326997496, 3.3796372052112487, 3.351664144318126, 3.351664144318126, 3.351664144318126, 3.340474919960876, 3.340474919960876, 3.3292856956036267, 3.323691083425002, 3.3069072468891285, 3.2845287981746294, 3.2845287981746294, 3.278934185996005, 3.262150349460131, 3.250961125102881, 3.228582676388382, 3.217393452031133, 3.2006096154952584, 3.2006096154952584, 3.1726365546021356, 3.167041942423511, 3.1614473302448856, 3.1614473302448856, 3.1390688815303873, 3.1110958206372645, 3.1110958206372645, 3.083122759744141, 3.066338923208267, 3.0607443110296417, 3.055149698851017, 3.043960474493768, 3.0159874136006444, 3.0159874136006444, 3.01039280142202, 3.01039280142202, 2.9992035770647707, 2.9936089648861453, 2.9936089648861453, 2.9880143527075207, 2.9880143527075207, 2.9768251283502716, 2.971230516171647, 2.9656359039930216, 2.960041291814397, 2.948852067457148, 2.932068230921274, 2.9264736187426497, 2.9264736187426497, 2.920879006564024, 2.909689782206775, 2.9040951700281505, 2.898500557849526, 2.8929059456709005, 2.8705274969564023, 2.8705274969564023, 2.8649328847777777, 2.8537436604205277, 2.8537436604205277, 2.848149048241903, 2.836959823884654, 2.825770599527404, 2.814581375170156, 2.803392150812906, 2.7922029264556567, 2.7922029264556567, 2.7698244777411576, 2.7474460290266594, 2.7474460290266594, 2.741851416848034, 2.7306621924907857, 2.713878355954911, 2.713878355954911, 2.713878355954911, 2.713878355954911, 2.7082837437762866, 2.7082837437762866, 2.7082837437762866, 2.6970945194190366, 2.6859052950617874, 2.6859052950617874, 2.680310682883163, 2.680310682883163, 2.6747160707045383, 2.663526846347289, 2.652337621990039, 2.6467430098114146, 2.64114839763279, 2.6355537854541655, 2.62995917327554, 2.6243645610969164, 2.618769948918292, 2.607580724561042, 2.6019861123824173, 2.5963915002037927, 2.5963915002037927, 2.579607663667919, 2.5740130514892936, 2.55722921495342, 2.5516346027747954, 2.5516346027747954, 2.5404453784175454, 2.5404453784175454, 2.5348507662389217, 2.5292561540602962, 2.5292561540602962, 2.5236615418816717, 2.5180669297030462, 2.5124723175244226, 2.506877705345798, 2.5012830931671726, 2.495688480988548, 2.495688480988548, 2.4900938688099234, 2.4900938688099234, 2.4789046444526743, 2.473310032274049, 2.4621208079167998, 2.4621208079167998, 2.4509315835595507, 2.4509315835595507, 2.4509315835595507, 2.445336971380926, 2.434147747023676, 2.434147747023676, 2.4285531348450515, 2.411769298309178, 2.411769298309178, 2.4061746861305524, 2.4005800739519287, 2.394985461773304, 2.394985461773304, 2.383796237416054, 2.383796237416054, 2.3782016252374296, 2.3782016252374296, 2.372607013058805, 2.3670124008801805, 2.3670124008801805, 2.3670124008801805, 2.3558231765229314, 2.3558231765229314, 2.350228564344306, 2.3446339521656814, 2.3446339521656814, 2.339039339987057, 2.339039339987057, 2.3334447278084323, 2.3334447278084323, 2.3278501156298077, 2.3222555034511823, 2.3166608912725577, 2.3166608912725577, 2.3054716669153086, 2.299877054736684, 2.299877054736684, 2.2942824425580595, 2.2942824425580595, 2.2942824425580595, 2.2942824425580595, 2.2830932182008103, 2.2830932182008103, 2.2830932182008103, 2.277498606022185, 2.2719039938435603, 2.2607147694863112, 2.2607147694863112, 2.2607147694863112, 2.2607147694863112, 2.2551201573076867, 2.2551201573076867, 2.249525545129062, 2.249525545129062, 2.249525545129062, 2.238336320771812, 2.227147096414563, 2.227147096414563, 2.2215524842359384, 2.2215524842359384, 2.215957872057314, 2.2103632598786884, 2.2047686477000648, 2.2047686477000648, 2.2047686477000648, 2.19917403552144, 2.1935794233428147, 2.18798481116419, 2.18798481116419, 2.18798481116419, 2.1823901989855656, 2.1823901989855656, 2.1823901989855656, 2.176795586806941, 2.165606362449691, 2.1600117502710674, 2.154417138092442, 2.154417138092442, 2.154417138092442, 2.154417138092442, 2.1488225259138174, 2.143227913735193, 2.143227913735193, 2.1376333015565683, 2.1376333015565683, 2.1376333015565683, 2.1376333015565683, 2.1320386893779437, 2.1320386893779437, 2.1264440771993183, 2.1264440771993183, 2.1208494650206937, 2.1096602406634446, 2.10406562848482, 2.10406562848482, 2.10406562848482, 2.10406562848482, 2.0984710163061946, 2.0984710163061946, 2.0984710163061946, 2.0872817919489464, 2.0760925675916964, 2.0369302823413236, 2.0369302823413236, 2.0369302823413236, 2.0369302823413236, 2.0369302823413236, 2.0369302823413236, 2.0369302823413236, 2.0369302823413236, 2.0369302823413236, 2.0369302823413236, 2.0369302823413236, 2.0369302823413236, 2.0369302823413236, 2.0369302823413236, 2.0369302823413236, 2.0369302823413236, 2.0369302823413236, 2.0369302823413236, 2.0369302823413236, 2.0369302823413236, 2.0369302823413236, 2.0369302823413236, 2.0369302823413236, 2.0369302823413236, 2.0369302823413236, 2.0369302823413236, 2.0369302823413236, 2.0369302823413236, 2.0369302823413236, 2.0369302823413236, 2.0369302823413236, 2.0369302823413236, 2.0369302823413236, 2.0369302823413236, 2.0369302823413236, 2.0369302823413236, 2.0369302823413236, 2.0369302823413236, 2.0369302823413236, 2.0369302823413236, 2.0369302823413236, 2.0369302823413236, 2.0369302823413236], \"yaxis\": \"y\"}],\n",
              "                        {\"legend\": {\"tracegroupgap\": 0}, \"margin\": {\"t\": 60}, \"template\": {\"data\": {\"bar\": [{\"error_x\": {\"color\": \"#2a3f5f\"}, \"error_y\": {\"color\": \"#2a3f5f\"}, \"marker\": {\"line\": {\"color\": \"#E5ECF6\", \"width\": 0.5}}, \"type\": \"bar\"}], \"barpolar\": [{\"marker\": {\"line\": {\"color\": \"#E5ECF6\", \"width\": 0.5}}, \"type\": \"barpolar\"}], \"carpet\": [{\"aaxis\": {\"endlinecolor\": \"#2a3f5f\", \"gridcolor\": \"white\", \"linecolor\": \"white\", \"minorgridcolor\": \"white\", \"startlinecolor\": \"#2a3f5f\"}, \"baxis\": {\"endlinecolor\": \"#2a3f5f\", \"gridcolor\": \"white\", \"linecolor\": \"white\", \"minorgridcolor\": \"white\", \"startlinecolor\": \"#2a3f5f\"}, \"type\": \"carpet\"}], \"choropleth\": [{\"colorbar\": {\"outlinewidth\": 0, \"ticks\": \"\"}, \"type\": \"choropleth\"}], \"contour\": [{\"colorbar\": {\"outlinewidth\": 0, \"ticks\": \"\"}, \"colorscale\": [[0.0, \"#0d0887\"], [0.1111111111111111, \"#46039f\"], [0.2222222222222222, \"#7201a8\"], [0.3333333333333333, \"#9c179e\"], [0.4444444444444444, \"#bd3786\"], [0.5555555555555556, \"#d8576b\"], [0.6666666666666666, \"#ed7953\"], [0.7777777777777778, \"#fb9f3a\"], [0.8888888888888888, \"#fdca26\"], [1.0, \"#f0f921\"]], \"type\": \"contour\"}], \"contourcarpet\": [{\"colorbar\": {\"outlinewidth\": 0, \"ticks\": \"\"}, \"type\": \"contourcarpet\"}], \"heatmap\": [{\"colorbar\": {\"outlinewidth\": 0, \"ticks\": \"\"}, \"colorscale\": [[0.0, \"#0d0887\"], [0.1111111111111111, \"#46039f\"], [0.2222222222222222, \"#7201a8\"], [0.3333333333333333, \"#9c179e\"], [0.4444444444444444, \"#bd3786\"], [0.5555555555555556, \"#d8576b\"], [0.6666666666666666, \"#ed7953\"], [0.7777777777777778, \"#fb9f3a\"], [0.8888888888888888, \"#fdca26\"], [1.0, \"#f0f921\"]], \"type\": \"heatmap\"}], \"heatmapgl\": [{\"colorbar\": {\"outlinewidth\": 0, \"ticks\": \"\"}, \"colorscale\": [[0.0, \"#0d0887\"], [0.1111111111111111, \"#46039f\"], [0.2222222222222222, \"#7201a8\"], [0.3333333333333333, \"#9c179e\"], [0.4444444444444444, \"#bd3786\"], [0.5555555555555556, \"#d8576b\"], [0.6666666666666666, \"#ed7953\"], [0.7777777777777778, \"#fb9f3a\"], [0.8888888888888888, \"#fdca26\"], [1.0, \"#f0f921\"]], \"type\": \"heatmapgl\"}], \"histogram\": [{\"marker\": {\"colorbar\": {\"outlinewidth\": 0, \"ticks\": \"\"}}, \"type\": \"histogram\"}], \"histogram2d\": [{\"colorbar\": {\"outlinewidth\": 0, \"ticks\": \"\"}, \"colorscale\": [[0.0, \"#0d0887\"], [0.1111111111111111, \"#46039f\"], [0.2222222222222222, \"#7201a8\"], [0.3333333333333333, \"#9c179e\"], [0.4444444444444444, \"#bd3786\"], [0.5555555555555556, \"#d8576b\"], [0.6666666666666666, \"#ed7953\"], [0.7777777777777778, \"#fb9f3a\"], [0.8888888888888888, \"#fdca26\"], [1.0, \"#f0f921\"]], \"type\": \"histogram2d\"}], \"histogram2dcontour\": [{\"colorbar\": {\"outlinewidth\": 0, \"ticks\": \"\"}, \"colorscale\": [[0.0, \"#0d0887\"], [0.1111111111111111, \"#46039f\"], [0.2222222222222222, \"#7201a8\"], [0.3333333333333333, \"#9c179e\"], [0.4444444444444444, \"#bd3786\"], [0.5555555555555556, \"#d8576b\"], [0.6666666666666666, \"#ed7953\"], [0.7777777777777778, \"#fb9f3a\"], [0.8888888888888888, \"#fdca26\"], [1.0, \"#f0f921\"]], \"type\": \"histogram2dcontour\"}], \"mesh3d\": [{\"colorbar\": {\"outlinewidth\": 0, \"ticks\": \"\"}, \"type\": \"mesh3d\"}], \"parcoords\": [{\"line\": {\"colorbar\": {\"outlinewidth\": 0, \"ticks\": \"\"}}, \"type\": \"parcoords\"}], \"pie\": [{\"automargin\": true, \"type\": \"pie\"}], \"scatter\": [{\"marker\": {\"colorbar\": {\"outlinewidth\": 0, \"ticks\": \"\"}}, \"type\": \"scatter\"}], \"scatter3d\": [{\"line\": {\"colorbar\": {\"outlinewidth\": 0, \"ticks\": \"\"}}, \"marker\": {\"colorbar\": {\"outlinewidth\": 0, \"ticks\": \"\"}}, \"type\": \"scatter3d\"}], \"scattercarpet\": [{\"marker\": {\"colorbar\": {\"outlinewidth\": 0, \"ticks\": \"\"}}, \"type\": \"scattercarpet\"}], \"scattergeo\": [{\"marker\": {\"colorbar\": {\"outlinewidth\": 0, \"ticks\": \"\"}}, \"type\": \"scattergeo\"}], \"scattergl\": [{\"marker\": {\"colorbar\": {\"outlinewidth\": 0, \"ticks\": \"\"}}, \"type\": \"scattergl\"}], \"scattermapbox\": [{\"marker\": {\"colorbar\": {\"outlinewidth\": 0, \"ticks\": \"\"}}, \"type\": \"scattermapbox\"}], \"scatterpolar\": [{\"marker\": {\"colorbar\": {\"outlinewidth\": 0, \"ticks\": \"\"}}, \"type\": \"scatterpolar\"}], \"scatterpolargl\": [{\"marker\": {\"colorbar\": {\"outlinewidth\": 0, \"ticks\": \"\"}}, \"type\": \"scatterpolargl\"}], \"scatterternary\": [{\"marker\": {\"colorbar\": {\"outlinewidth\": 0, \"ticks\": \"\"}}, \"type\": \"scatterternary\"}], \"surface\": [{\"colorbar\": {\"outlinewidth\": 0, \"ticks\": \"\"}, \"colorscale\": [[0.0, \"#0d0887\"], [0.1111111111111111, \"#46039f\"], [0.2222222222222222, \"#7201a8\"], [0.3333333333333333, \"#9c179e\"], [0.4444444444444444, \"#bd3786\"], [0.5555555555555556, \"#d8576b\"], [0.6666666666666666, \"#ed7953\"], [0.7777777777777778, \"#fb9f3a\"], [0.8888888888888888, \"#fdca26\"], [1.0, \"#f0f921\"]], \"type\": \"surface\"}], \"table\": [{\"cells\": {\"fill\": {\"color\": \"#EBF0F8\"}, \"line\": {\"color\": \"white\"}}, \"header\": {\"fill\": {\"color\": \"#C8D4E3\"}, \"line\": {\"color\": \"white\"}}, \"type\": \"table\"}]}, \"layout\": {\"annotationdefaults\": {\"arrowcolor\": \"#2a3f5f\", \"arrowhead\": 0, \"arrowwidth\": 1}, \"coloraxis\": {\"colorbar\": {\"outlinewidth\": 0, \"ticks\": \"\"}}, \"colorscale\": {\"diverging\": [[0, \"#8e0152\"], [0.1, \"#c51b7d\"], [0.2, \"#de77ae\"], [0.3, \"#f1b6da\"], [0.4, \"#fde0ef\"], [0.5, \"#f7f7f7\"], [0.6, \"#e6f5d0\"], [0.7, \"#b8e186\"], [0.8, \"#7fbc41\"], [0.9, \"#4d9221\"], [1, \"#276419\"]], \"sequential\": [[0.0, \"#0d0887\"], [0.1111111111111111, \"#46039f\"], [0.2222222222222222, \"#7201a8\"], [0.3333333333333333, \"#9c179e\"], [0.4444444444444444, \"#bd3786\"], [0.5555555555555556, \"#d8576b\"], [0.6666666666666666, \"#ed7953\"], [0.7777777777777778, \"#fb9f3a\"], [0.8888888888888888, \"#fdca26\"], [1.0, \"#f0f921\"]], \"sequentialminus\": [[0.0, \"#0d0887\"], [0.1111111111111111, \"#46039f\"], [0.2222222222222222, \"#7201a8\"], [0.3333333333333333, \"#9c179e\"], [0.4444444444444444, \"#bd3786\"], [0.5555555555555556, \"#d8576b\"], [0.6666666666666666, \"#ed7953\"], [0.7777777777777778, \"#fb9f3a\"], [0.8888888888888888, \"#fdca26\"], [1.0, \"#f0f921\"]]}, \"colorway\": [\"#636efa\", \"#EF553B\", \"#00cc96\", \"#ab63fa\", \"#FFA15A\", \"#19d3f3\", \"#FF6692\", \"#B6E880\", \"#FF97FF\", \"#FECB52\"], \"font\": {\"color\": \"#2a3f5f\"}, \"geo\": {\"bgcolor\": \"white\", \"lakecolor\": \"white\", \"landcolor\": \"#E5ECF6\", \"showlakes\": true, \"showland\": true, \"subunitcolor\": \"white\"}, \"hoverlabel\": {\"align\": \"left\"}, \"hovermode\": \"closest\", \"mapbox\": {\"style\": \"light\"}, \"paper_bgcolor\": \"white\", \"plot_bgcolor\": \"#E5ECF6\", \"polar\": {\"angularaxis\": {\"gridcolor\": \"white\", \"linecolor\": \"white\", \"ticks\": \"\"}, \"bgcolor\": \"#E5ECF6\", \"radialaxis\": {\"gridcolor\": \"white\", \"linecolor\": \"white\", \"ticks\": \"\"}}, \"scene\": {\"xaxis\": {\"backgroundcolor\": \"#E5ECF6\", \"gridcolor\": \"white\", \"gridwidth\": 2, \"linecolor\": \"white\", \"showbackground\": true, \"ticks\": \"\", \"zerolinecolor\": \"white\"}, \"yaxis\": {\"backgroundcolor\": \"#E5ECF6\", \"gridcolor\": \"white\", \"gridwidth\": 2, \"linecolor\": \"white\", \"showbackground\": true, \"ticks\": \"\", \"zerolinecolor\": \"white\"}, \"zaxis\": {\"backgroundcolor\": \"#E5ECF6\", \"gridcolor\": \"white\", \"gridwidth\": 2, \"linecolor\": \"white\", \"showbackground\": true, \"ticks\": \"\", \"zerolinecolor\": \"white\"}}, \"shapedefaults\": {\"line\": {\"color\": \"#2a3f5f\"}}, \"ternary\": {\"aaxis\": {\"gridcolor\": \"white\", \"linecolor\": \"white\", \"ticks\": \"\"}, \"baxis\": {\"gridcolor\": \"white\", \"linecolor\": \"white\", \"ticks\": \"\"}, \"bgcolor\": \"#E5ECF6\", \"caxis\": {\"gridcolor\": \"white\", \"linecolor\": \"white\", \"ticks\": \"\"}}, \"title\": {\"x\": 0.05}, \"xaxis\": {\"automargin\": true, \"gridcolor\": \"white\", \"linecolor\": \"white\", \"ticks\": \"\", \"title\": {\"standoff\": 15}, \"zerolinecolor\": \"white\", \"zerolinewidth\": 2}, \"yaxis\": {\"automargin\": true, \"gridcolor\": \"white\", \"linecolor\": \"white\", \"ticks\": \"\", \"title\": {\"standoff\": 15}, \"zerolinecolor\": \"white\", \"zerolinewidth\": 2}}}, \"xaxis\": {\"anchor\": \"y\", \"domain\": [0.0, 1.0], \"title\": {\"text\": \"AGE\"}}, \"yaxis\": {\"anchor\": \"x\", \"domain\": [0.0, 1.0], \"title\": {\"text\": \"DIS\"}}},\n",
              "                        {\"responsive\": true}\n",
              "                    ).then(function(){\n",
              "                            \n",
              "var gd = document.getElementById('1684fd4f-ad75-4c70-9de6-41a691353aa8');\n",
              "var x = new MutationObserver(function (mutations, observer) {{\n",
              "        var display = window.getComputedStyle(gd).display;\n",
              "        if (!display || display === 'none') {{\n",
              "            console.log([gd, 'removed!']);\n",
              "            Plotly.purge(gd);\n",
              "            observer.disconnect();\n",
              "        }}\n",
              "}});\n",
              "\n",
              "// Listen for the removal of the full notebook cells\n",
              "var notebookContainer = gd.closest('#notebook-container');\n",
              "if (notebookContainer) {{\n",
              "    x.observe(notebookContainer, {childList: true});\n",
              "}}\n",
              "\n",
              "// Listen for the clearing of the current output cell\n",
              "var outputEl = gd.closest('.output');\n",
              "if (outputEl) {{\n",
              "    x.observe(outputEl, {childList: true});\n",
              "}}\n",
              "\n",
              "                        })\n",
              "                };\n",
              "                \n",
              "            </script>\n",
              "        </div>\n",
              "</body>\n",
              "</html>"
            ]
          },
          "metadata": {
            "tags": []
          }
        },
        {
          "output_type": "execute_result",
          "data": {
            "text/html": [
              "<table class=\"simpletable\">\n",
              "<caption>OLS Regression Results</caption>\n",
              "<tr>\n",
              "  <th>Dep. Variable:</th>            <td>y</td>        <th>  R-squared:         </th> <td>   0.559</td>\n",
              "</tr>\n",
              "<tr>\n",
              "  <th>Model:</th>                   <td>OLS</td>       <th>  Adj. R-squared:    </th> <td>   0.558</td>\n",
              "</tr>\n",
              "<tr>\n",
              "  <th>Method:</th>             <td>Least Squares</td>  <th>  F-statistic:       </th> <td>   639.7</td>\n",
              "</tr>\n",
              "<tr>\n",
              "  <th>Date:</th>             <td>Thu, 01 Jul 2021</td> <th>  Prob (F-statistic):</th> <td>9.86e-92</td>\n",
              "</tr>\n",
              "<tr>\n",
              "  <th>Time:</th>                 <td>09:21:38</td>     <th>  Log-Likelihood:    </th> <td> -886.96</td>\n",
              "</tr>\n",
              "<tr>\n",
              "  <th>No. Observations:</th>      <td>   506</td>      <th>  AIC:               </th> <td>   1778.</td>\n",
              "</tr>\n",
              "<tr>\n",
              "  <th>Df Residuals:</th>          <td>   504</td>      <th>  BIC:               </th> <td>   1786.</td>\n",
              "</tr>\n",
              "<tr>\n",
              "  <th>Df Model:</th>              <td>     1</td>      <th>                     </th>     <td> </td>   \n",
              "</tr>\n",
              "<tr>\n",
              "  <th>Covariance Type:</th>      <td>nonrobust</td>    <th>                     </th>     <td> </td>   \n",
              "</tr>\n",
              "</table>\n",
              "<table class=\"simpletable\">\n",
              "<tr>\n",
              "    <td></td>       <th>coef</th>     <th>std err</th>      <th>t</th>      <th>P>|t|</th>  <th>[0.025</th>    <th>0.975]</th>  \n",
              "</tr>\n",
              "<tr>\n",
              "  <th>const</th> <td>    7.6315</td> <td>    0.164</td> <td>   46.549</td> <td> 0.000</td> <td>    7.309</td> <td>    7.954</td>\n",
              "</tr>\n",
              "<tr>\n",
              "  <th>x1</th>    <td>   -0.0559</td> <td>    0.002</td> <td>  -25.292</td> <td> 0.000</td> <td>   -0.060</td> <td>   -0.052</td>\n",
              "</tr>\n",
              "</table>\n",
              "<table class=\"simpletable\">\n",
              "<tr>\n",
              "  <th>Omnibus:</th>       <td>114.419</td> <th>  Durbin-Watson:     </th> <td>   1.837</td>\n",
              "</tr>\n",
              "<tr>\n",
              "  <th>Prob(Omnibus):</th> <td> 0.000</td>  <th>  Jarque-Bera (JB):  </th> <td> 242.736</td>\n",
              "</tr>\n",
              "<tr>\n",
              "  <th>Skew:</th>          <td> 1.207</td>  <th>  Prob(JB):          </th> <td>1.95e-53</td>\n",
              "</tr>\n",
              "<tr>\n",
              "  <th>Kurtosis:</th>      <td> 5.385</td>  <th>  Cond. No.          </th> <td>    195.</td>\n",
              "</tr>\n",
              "</table><br/><br/>Warnings:<br/>[1] Standard Errors assume that the covariance matrix of the errors is correctly specified."
            ],
            "text/plain": [
              "<class 'statsmodels.iolib.summary.Summary'>\n",
              "\"\"\"\n",
              "                            OLS Regression Results                            \n",
              "==============================================================================\n",
              "Dep. Variable:                      y   R-squared:                       0.559\n",
              "Model:                            OLS   Adj. R-squared:                  0.558\n",
              "Method:                 Least Squares   F-statistic:                     639.7\n",
              "Date:                Thu, 01 Jul 2021   Prob (F-statistic):           9.86e-92\n",
              "Time:                        09:21:38   Log-Likelihood:                -886.96\n",
              "No. Observations:                 506   AIC:                             1778.\n",
              "Df Residuals:                     504   BIC:                             1786.\n",
              "Df Model:                           1                                         \n",
              "Covariance Type:            nonrobust                                         \n",
              "==============================================================================\n",
              "                 coef    std err          t      P>|t|      [0.025      0.975]\n",
              "------------------------------------------------------------------------------\n",
              "const          7.6315      0.164     46.549      0.000       7.309       7.954\n",
              "x1            -0.0559      0.002    -25.292      0.000      -0.060      -0.052\n",
              "==============================================================================\n",
              "Omnibus:                      114.419   Durbin-Watson:                   1.837\n",
              "Prob(Omnibus):                  0.000   Jarque-Bera (JB):              242.736\n",
              "Skew:                           1.207   Prob(JB):                     1.95e-53\n",
              "Kurtosis:                       5.385   Cond. No.                         195.\n",
              "==============================================================================\n",
              "\n",
              "Warnings:\n",
              "[1] Standard Errors assume that the covariance matrix of the errors is correctly specified.\n",
              "\"\"\""
            ]
          },
          "metadata": {
            "tags": []
          },
          "execution_count": 43
        }
      ]
    }
  ]
}