{
  "nbformat": 4,
  "nbformat_minor": 0,
  "metadata": {
    "colab": {
      "name": "Programming1_05.ipynb",
      "provenance": [],
      "collapsed_sections": [],
      "include_colab_link": true
    },
    "kernelspec": {
      "display_name": "Python 3",
      "language": "python",
      "name": "python3"
    },
    "language_info": {
      "codemirror_mode": {
        "name": "ipython",
        "version": 3
      },
      "file_extension": ".py",
      "mimetype": "text/x-python",
      "name": "python",
      "nbconvert_exporter": "python",
      "pygments_lexer": "ipython3",
      "version": "3.7.5"
    }
  },
  "cells": [
    {
      "cell_type": "markdown",
      "metadata": {
        "id": "view-in-github",
        "colab_type": "text"
      },
      "source": [
        "<a href=\"https://colab.research.google.com/github/daisuke-shimizu/python-Gakushuin-programming1/blob/main/Programming1_05.ipynb\" target=\"_parent\"><img src=\"https://colab.research.google.com/assets/colab-badge.svg\" alt=\"Open In Colab\"/></a>"
      ]
    },
    {
      "cell_type": "markdown",
      "metadata": {
        "id": "X4ZUuDiTR1Ol"
      },
      "source": [
        "# サンプルプログラム実行上の注意\n",
        "プログラミング上達のコツは、\n",
        "\n",
        "- 短時間に集中してできるだけ大量のプログラムを書くこと\n",
        "- 試行錯誤を行うこと\n",
        "- 他人の書いた（動く）プログラムを読むこと\n",
        "- 更に、自分の目的に合わせてカスタマイズしてみること\n",
        "\n",
        "を日常的に実行することです。\n",
        "しかし、限られた授業時間（予習・復習も含む）内で、これらを十分に実行することは至難です。\n",
        "\n",
        "そこで、\n",
        "この講義資料は、多数のサンプルプログラムを提供して、\n",
        "少しでも不足を補うことができるように作成されています。\n",
        "受講者は、以下の注意を守ってサンプルプログラムをコードセル中で実行することで、\n",
        "より効率の良い学習を心がけて下さい。\n",
        "\n",
        "1. サンプルプログラムは、コピペせず、1行1行自分でタイプして書き写して下さい。\n",
        "コピペでは見逃してしまう、プログラミングの書き方の規則や、プログラミングのコツなど、\n",
        "自分自身でタイプすることで気づくことができます。\n",
        "2. サンプルプログラムを書き写す時は、プログラムの意味を考えるよう努めて下さい。\n",
        "最初は必ずしも最良とは言えないサンプルプログラムを提示して、\n",
        "後で改良した例を示すなど、この講義資料では、良いプログラムを作成する考え方を効率的に学べるよう、\n",
        "いろいろな工夫をしています。\n",
        "3. 意味を理解できない行がある場合には、あまり拘泥せず、先に進んでください。\n",
        "100%理解しないといけないという思い込みは、プログラミングの上達にとって妨げです。\n",
        "理解するための努力は必要ですが、Pythonでできることの範囲は非常に広く、\n",
        "プロのプログラマでも全部は理解していないでしょう。\n",
        "完璧な理解よりも、**動くプログラムを書くことを最優先の目標**として、\n",
        "わからない部分は「おまじない」として受け入れることができると、上達も早くなります。\n",
        "「おまじない」とは、「なぜ効くのかはわからないけれども、使い方は分かっている」という意味です。"
      ]
    },
    {
      "cell_type": "markdown",
      "metadata": {
        "id": "TcHQgEs6-UzQ"
      },
      "source": [
        "# 前回の演習問題の解答例\n",
        "\n",
        "### 演習 4-1\n",
        "欧米では「名前に'r'が含まれない月には牡蠣は食べるな」という。\n",
        "牡蠣の産卵期で脂肪分が落ちておいしくないことが理由である。\n",
        "以下のプログラムを完成させて、「牡蠣を食べてはいけない月」と「牡蠣を食べても良い月」を表示せよ。\n",
        "```python\n",
        "# 演習の解答\n",
        "month = ['January', 'February', 'March', 'April', 'May', 'June', 'July', 'August', 'September', 'October', 'November', 'December']\n",
        "cannot_eat_oister = []\n",
        "can_eat_oister = []\n",
        "# 以下にプログラムを書き加えよ\n",
        "\n",
        "# ここまで\n",
        "print(\"牡蠣を食べてはいけない月は\")\n",
        "print(cannot_eat_oister)\n",
        "print(\"牡蠣を食ても良い月は\")\n",
        "print(can_eat_oister)\n",
        "```\n",
        "### 解答例\n",
        "```python\n",
        "for m in month:\n",
        "    if 'r' in m:\n",
        "        can_eat_oister.append(m)\n",
        "    else:\n",
        "        cannot_eat_oister.append(m)\n",
        "```\n",
        "### 演習 4-2\n",
        "英語では、月名の先頭3文字をとって、省略形とする。例えば、Januaryの省略形は、Janである。\n",
        "```python\n",
        "month = ['January', 'February', 'March', 'April', 'May', 'June', 'July', 'August', 'September', 'October', 'November', 'December']\n",
        "```\n",
        "から、省略形のリスト\n",
        "```python\n",
        "month_abbr = ['Jan', ... ]\n",
        "```\n",
        "を生成するプログラムを、内包表現を用いて作成せよ。\n",
        "\n",
        "### 解答例\n",
        "例えば、リスト`month`の先頭3個の要素を取り出すには、\n",
        "`month[0:3]`とすればよいことは前回学びました。\n",
        "これは、`month[:3]`と省略することも可能です。\n",
        "文字列は文字のリストと考えることができるので、演習の解答例は以下のようになります。\n",
        "\n",
        "```python\n",
        "month_abbr = [m[:3] for m in month]\n",
        "print(month_abbr)\n",
        "```"
      ]
    },
    {
      "cell_type": "markdown",
      "metadata": {
        "id": "Cip6GfRxL80H"
      },
      "source": [
        "# 第５回　関数とモンテカルロシミュレーション\n"
      ]
    },
    {
      "cell_type": "markdown",
      "metadata": {
        "id": "ATiHZya-jalM"
      },
      "source": [
        "## 関数の定義\n",
        "これまでに色々な関数を見てきましたが、全てPythonかライブラリが提供するものでした。\n",
        "一般に、このような関数を**組み込み関数**と呼びます。\n",
        "\n",
        "組み込み関数に対して、自分で新たな関数を定義することもできます。\n",
        "関数の定義は、\n",
        "```python\n",
        "def 関数名(引数):\n",
        "  プログラム行\n",
        "  ：\n",
        "  プログラム行\n",
        "  return 返り値\n",
        "```\n",
        "のようにプログラム中に指定することで定義します。\n",
        "返り値は、入力（引数の値）に対して、関数が返す出力です。\n",
        "簡単な関数を定義してみましょう。\n",
        "```pythoon\n",
        "def my_func(x):\n",
        "  if x < 0.5:\n",
        "    y = x**2\n",
        "  else:\n",
        "    y = 0.25\n",
        "  return y\n",
        "```\n",
        "このプログラムを、下のコードセルに書き写して、Shift+Enterで実行して下さい。\n",
        "今後のセルで、関数`my_func`が利用できるようになります。"
      ]
    },
    {
      "cell_type": "code",
      "metadata": {
        "id": "ZVkkV4LqLvLn"
      },
      "source": [
        "def my_func(x):\n",
        "  if x < 0.5:\n",
        "    y = x **2\n",
        "  else:\n",
        "    y = 0.25\n",
        "  return y"
      ],
      "execution_count": null,
      "outputs": []
    },
    {
      "cell_type": "markdown",
      "metadata": {
        "id": "IYitwrAOm1vH"
      },
      "source": [
        "```python\n",
        "  def my_func(x):\n",
        "```\n",
        "の行以下のインデント（字下げ）した部分（関数定義のスコープ）が、\n",
        "`my_func`と名付けられた関数の定義になります。\n",
        "どんな関数になるか、グラフに描いてみましょう。\n",
        "```python\n",
        "import matplotlib.pyplot as plt\n",
        "x = [n/100 for n in range(100)]\n",
        "y = [my_func(t) for t in x]\n",
        "plt.plot(x, y)\n",
        "plt.show()\n",
        "```"
      ]
    },
    {
      "cell_type": "code",
      "metadata": {
        "colab": {
          "base_uri": "https://localhost:8080/",
          "height": 265
        },
        "id": "7mE3MKHAnOcB",
        "outputId": "48a4d2dd-8da0-47f7-aac5-2b1e4f16b105"
      },
      "source": [
        "import matplotlib.pyplot as plt\n",
        "x = [n/100 for n in range(100)]\n",
        "y = [my_func(t) for t in x]\n",
        "plt.plot(x, y)\n",
        "plt.show()"
      ],
      "execution_count": null,
      "outputs": [
        {
          "output_type": "display_data",
          "data": {
            "image/png": "[encoded data removed]",
            "text/plain": [
              "<Figure size 432x288 with 1 Axes>"
            ]
          },
          "metadata": {
            "tags": []
          }
        }
      ]
    },
    {
      "cell_type": "markdown",
      "metadata": {
        "id": "OGojaOr5oJpy"
      },
      "source": [
        "`my_func()`は次のように定義することもでき、この方が1行だけ短くなります。\n",
        "```python\n",
        "def my_func(x):\n",
        "  if x < 0.5:\n",
        "    return x*x\n",
        "  else:\n",
        "    return 0.25\n",
        "```\n",
        "Pythonは`returm`で始まる文に遭遇すると、その時点で関数の評価を終え、`return`の後に指定され\n",
        "た値を返します。\n",
        "`return`文以降のプログラムは実行しません。\n",
        "\n",
        "少しだけ複雑な例をみてみましょう。\n",
        "次のサンプルプログラムで定義される関数は何の関数か考えて下さい。\n",
        "プログラムを実行して、関数`fact`が返す結果をヒントにすると、理解しやすいかも知れません。\n",
        "\n",
        "```python\n",
        "def fact(n): # nは正の整数\n",
        "    r = 1\n",
        "    for i in range(2, n + 1):\n",
        "        r *= i\n",
        "    return r\n",
        "\n",
        "# 実行例\n",
        "print(fact(1))\n",
        "print(fact(2))\n",
        "print(fact(3))\n",
        "print(fact(4))\n",
        "```"
      ]
    },
    {
      "cell_type": "code",
      "metadata": {
        "colab": {
          "base_uri": "https://localhost:8080/"
        },
        "id": "SzO5Tp1jR1Ov",
        "outputId": "7129c09b-fe21-461a-c078-03e02e5e9551"
      },
      "source": [
        "def fact(n):\n",
        "  r = 1\n",
        "  for i in range(2, n + 1):\n",
        "    r *= i\n",
        "  return r\n",
        "\n",
        "print(fact(1))\n",
        "print(fact(2))\n",
        "print(fact(3))\n",
        "print(fact(4))"
      ],
      "execution_count": null,
      "outputs": [
        {
          "output_type": "stream",
          "text": [
            "1\n",
            "2\n",
            "6\n",
            "24\n"
          ],
          "name": "stdout"
        }
      ]
    },
    {
      "cell_type": "markdown",
      "metadata": {
        "id": "hkzbZxKUR1Ov"
      },
      "source": [
        "関数`fact(n)`は、$n$の階乗（factorization）\n",
        "\n",
        "$$\n",
        "n! = 1 \\cdot 2 \\cdot \\dots \\cdot (n-1) \\cdot n\n",
        "$$\n",
        "\n",
        "を計算します。\n",
        "プログラム中で、関数の返り値は整数オブジェクト`r`に保持されます。\n",
        "```python\n",
        "r = 1\n",
        "```\n",
        "で、`r`の値は1に初期化されます。\n",
        "```python\n",
        "for i in range(2, n+1):\n",
        "```\n",
        "で、$i$の値は$2$から$n$まで変化しますので、\n",
        "`for`文のスコープの中で\n",
        "```python\n",
        "r *= i\n",
        "```\n",
        "を繰り返し実行することで、\n",
        "`r`の値は、\n",
        "$$\n",
        "r = 1\n",
        "$$\n",
        "$$\n",
        "r = 1 \\times 2\n",
        "$$\n",
        "$$\n",
        "r = 1 \\times 2 \\times 3\n",
        "$$\n",
        "$$\n",
        "r = 1 \\times 2 \\times 3 \\times 4\n",
        "$$\n",
        "$$\n",
        "\\vdots\n",
        "$$\n",
        "$$\n",
        "r = 1 \\times 2 \\times 3 \\times 4 \\times\\dots\\times n\n",
        "$$\n",
        "と順次更新され、\n",
        "`for`文のスコープを抜けたあとは、$r = n!$が成り立ちます。\n",
        "\n",
        "ちょっと寄り道ですが、`fact`関数を使って、$1000!$の値を計算してみてください。\n",
        "とんでもない桁数の数が表示されると思います。\n",
        "このように、階乗関数$n!$は、$n$が大きくなると急速に大きくなり、\n",
        "Python以外の多くのプログラミング言語では直ぐに桁溢れエラーを起こしてしまいます。\n",
        "特別な工夫なしに、巨大な数を扱える点もPythonの特長です。"
      ]
    },
    {
      "cell_type": "code",
      "metadata": {
        "colab": {
          "base_uri": "https://localhost:8080/"
        },
        "id": "fCsya-XFR1Ow",
        "outputId": "9139fc1a-3b37-45b3-bdb8-9f908a384cfa"
      },
      "source": [
        "# 1000!を計算せよ\n",
        "print(fact(1000))"
      ],
      "execution_count": null,
      "outputs": [
        {
          "output_type": "stream",
          "text": [
            "402387260077093773543702433923003985719374864210714632543799910429938512398629020592044208486969404800479988610197196058631666872994808558901323829669944590997424504087073759918823627727188732519779505950995276120874975462497043601418278094646496291056393887437886487337119181045825783647849977012476632889835955735432513185323958463075557409114262417474349347553428646576611667797396668820291207379143853719588249808126867838374559731746136085379534524221586593201928090878297308431392844403281231558611036976801357304216168747609675871348312025478589320767169132448426236131412508780208000261683151027341827977704784635868170164365024153691398281264810213092761244896359928705114964975419909342221566832572080821333186116811553615836546984046708975602900950537616475847728421889679646244945160765353408198901385442487984959953319101723355556602139450399736280750137837615307127761926849034352625200015888535147331611702103968175921510907788019393178114194545257223865541461062892187960223838971476088506276862967146674697562911234082439208160153780889893964518263243671616762179168909779911903754031274622289988005195444414282012187361745992642956581746628302955570299024324153181617210465832036786906117260158783520751516284225540265170483304226143974286933061690897968482590125458327168226458066526769958652682272807075781391858178889652208164348344825993266043367660176999612831860788386150279465955131156552036093988180612138558600301435694527224206344631797460594682573103790084024432438465657245014402821885252470935190620929023136493273497565513958720559654228749774011413346962715422845862377387538230483865688976461927383814900140767310446640259899490222221765904339901886018566526485061799702356193897017860040811889729918311021171229845901641921068884387121855646124960798722908519296819372388642614839657382291123125024186649353143970137428531926649875337218940694281434118520158014123344828015051399694290153483077644569099073152433278288269864602789864321139083506217095002597389863554277196742822248757586765752344220207573630569498825087968928162753848863396909959826280956121450994871701244516461260379029309120889086942028510640182154399457156805941872748998094254742173582401063677404595741785160829230135358081840096996372524230560855903700624271243416909004153690105933983835777939410970027753472000000000000000000000000000000000000000000000000000000000000000000000000000000000000000000000000000000000000000000000000000000000000000000000000000000000000000000000000000000000000000000000000000000000000000000000000000000000000000000000000000000000\n"
          ],
          "name": "stdout"
        }
      ]
    },
    {
      "cell_type": "markdown",
      "metadata": {
        "id": "wvFO6qtbR1Ow"
      },
      "source": [
        "関数の引数の個数は、2個以上でも構いません。\n",
        "次の関数は、二つの引数$n$と$m$をとり、皆さんがよく知っている関数です。\n",
        "何の関数か考えてみてください。\n",
        "$n$と$m$は$n \\le m \\le 0$を満たす整数です。\n",
        "実行結果もヒントにして下さい。\n",
        "```python\n",
        "def comb(n, m): #nとmは整数でn≧m≧0\n",
        "  if m == 0:\n",
        "    return 1\n",
        "  else:\n",
        "    r = 1\n",
        "    for i in range(m):\n",
        "      r *= (n-i)/(m-i)\n",
        "    return r\n",
        "\n",
        "# 実行例\n",
        "print(\"comb(4,0) = \", comb(4,0))\n",
        "print(\"comb(4,1) = \", comb(4,1))\n",
        "print(\"comb(4,2) = \", comb(4,2))\n",
        "print(\"comb(4,3) = \", comb(4,3))\n",
        "print(\"comb(4,4) = \", comb(4,4))\n",
        "```"
      ]
    },
    {
      "cell_type": "code",
      "metadata": {
        "id": "HJapJmdmo2aH",
        "colab": {
          "base_uri": "https://localhost:8080/"
        },
        "outputId": "8b920172-cde8-4b2a-91f9-9c6e079ee0aa"
      },
      "source": [
        "def comb(n, m): \n",
        "  if m == 0:\n",
        "    return 1\n",
        "  else:\n",
        "    r = 1\n",
        "    for i in range(m):\n",
        "      r *= (n-i)/(m-i)\n",
        "    return r\n",
        " \n",
        "print(\"comb(4,0) = \", comb(4,0))\n",
        "print(\"comb(4,1) = \", comb(4,1))\n",
        "print(\"comb(4,2) = \", comb(4,2))\n",
        "print(\"comb(4,3) = \", comb(4,3))\n",
        "print(\"comb(4,4) = \", comb(4,4))"
      ],
      "execution_count": null,
      "outputs": [
        {
          "output_type": "stream",
          "text": [
            "comb(4,0) =  1\n",
            "comb(4,1) =  4.0\n",
            "comb(4,2) =  6.0\n",
            "comb(4,3) =  4.0\n",
            "comb(4,4) =  1.0\n"
          ],
          "name": "stdout"
        }
      ]
    },
    {
      "cell_type": "markdown",
      "metadata": {
        "id": "P4aNe0Xmru4N"
      },
      "source": [
        "答えは、組み合わせを求める関数$\\mathrm{comb}(n, m) = {}_n\\mathrm C_m$です。\n",
        "\n",
        "実際、\n",
        "$$\n",
        "{}_n\\mathrm C_m = \\frac{n!}{m!(n-m)!} = \\frac{n\\cdot (n-1) \\cdots (n-m+1)\\cdot (n-m)!}{m\\cdot (m-1)\\cdots 1 \\cdot (n-m)!} = \\frac nm \\cdot \\frac{n-1}{m-1} \\dots \\frac{n-(m-1)}{m-(m-1)}\n",
        "$$\n",
        "が成り立ちます。\n",
        "つまり、$i$を$0$から$m-1$まで１ずつ増やしていく時、$\\displaystyle\\frac{n-i}{m-i}$を順に掛け合わせた値が${}_n\\mathrm C_m$になります。\n",
        "\n",
        "```python\n",
        "for i in range(m):\n",
        "  r *= (n-i)/(m-i)\n",
        "```\n",
        "では、まさに$i$の値は$0, 1, \\dots, m-1$と順に増えて行き、\n",
        "$n-i$は$n, n-1, \\dots, n-m+1$、\n",
        "$m-i$は$m, m-1, \\dots, 1$と減少し、従って、\n",
        "$\\displaystyle\\frac{n-i}{m-i}$は$\\displaystyle\\frac nm, \\frac{n-1}{m-1}, \\dots, \\frac{n-(m-1)}{m-(m-1)} = \\frac {n-m+1}1$\n",
        "と順に変化します。\n",
        "これらの値が順番に$r$にかけかけられますので、\n",
        "最終的には$r$の値は$ {}_n\\mathrm C_m$になります。\n",
        "\n",
        "ただし、$r$の初期値を１にしないといけないので、`for`文の前で`r = 1`で初期化している点に注意してください。\n",
        "\n",
        "次の例では、四分円（円の4分の１）のグラフを描くための関数である`unit_qcirc(x)`のプログラムを書いてもらいます。\n",
        "まず、以下のプログラムで、四分円を別のプログラムで描いてみます。\n",
        "実行結果のグラフから四分円が何かを正確に理解してください。\n",
        "```python\n",
        "import math\n",
        "import matplotlib.pyplot as plt\n",
        "x = [math.cos(math.pi*n/200) for n in range(100)]\n",
        "y = [math.sin(math.pi*n/200) for n in range(100)]\n",
        "plt.figure(figsize=(5,5))\n",
        "plt.title(\"Quarter Unit Circle\")\n",
        "plt.grid()\n",
        "plt.plot(x, y)\n",
        "plt.show()\n",
        "```"
      ]
    },
    {
      "cell_type": "code",
      "metadata": {
        "colab": {
          "base_uri": "https://localhost:8080/",
          "height": 336
        },
        "id": "9vpl7To2mRwJ",
        "outputId": "0ecbac69-393a-49c4-e2fa-c06083096f0c"
      },
      "source": [
        "import math\n",
        "import matplotlib.pyplot as plt\n",
        "x = [math.cos(math.pi*n/200) for n in range(100)]\n",
        "y = [math.sin(math.pi*n/200) for n in range(100)]\n",
        "plt.figure(figsize=(5,5))\n",
        "plt.title(\"Quarter Unit Circle\")\n",
        "plt.grid()\n",
        "plt.plot(x, y)\n",
        "plt.show()"
      ],
      "execution_count": null,
      "outputs": [
        {
          "output_type": "display_data",
          "data": {
            "image/png": "[encoded data removed]",
            "text/plain": [
              "<Figure size 360x360 with 1 Axes>"
            ]
          },
          "metadata": {
            "tags": []
          }
        }
      ]
    },
    {
      "cell_type": "markdown",
      "metadata": {
        "id": "QB1a_PRfb5ss"
      },
      "source": [
        "\n",
        "```python\n",
        "plt.figure(figsize=(5,5))\n",
        "```\n",
        "では、グラフを正方形の領域に描画します。\n",
        "数字を変えて実行して、この行の意味を理解して下さい。\n",
        "\n",
        "以下のプログラムで四分円が描けるように、`unit_qcirc(x)`を定義することが演習5-1の目的です。\n",
        "```pyton\n",
        "import matplotlib.pyplot as plt\n",
        "x = [n/100 for n in range(100)]\n",
        "y = [unit_qcirc(t) for t in x]\n",
        "plt.figure(figsize=(5,5))\n",
        "plt.grid()\n",
        "plt.title(\"Quarter Unit Circle\")\n",
        "plt.plot(x, y)\n",
        "plt.show()\n",
        "```\n",
        "### 演習 5-1\n",
        "\n",
        "引数の`x`では$x$座標（$0 \\le x \\le 1$）を指定する時、\n",
        "`unit_qcirc`関数は対応する四分円上の点の$y$座標を返すように、\n",
        "以下のプログラムを完成せよ。\n",
        "\n",
        "```python\n",
        "def unit_qcirc(x):\n",
        "  y = #　ここに関数の式を書きます\n",
        "  return y\n",
        "```\n",
        "\n",
        "更に、関数`unit_qcirc(x)`を用いて、\n",
        "半径1の四分円を$0\\le x\\le 1$の範囲で描画せよ。\n"
      ]
    },
    {
      "cell_type": "code",
      "metadata": {
        "id": "ooeswvYFfXQF"
      },
      "source": [
        "# 演習 5-１の答え\n",
        "def unit_qcirc(x):\n",
        "  y = math.sqrt(1 - x**2)\n",
        "  return y"
      ],
      "execution_count": null,
      "outputs": []
    },
    {
      "cell_type": "markdown",
      "metadata": {
        "id": "zD9o8p7XVOPI"
      },
      "source": [
        "直下のセルで、`unit_qcirc`関数を使った上記のプログラムで、半径1の四分円を描いてみて下さい。"
      ]
    },
    {
      "cell_type": "code",
      "metadata": {
        "colab": {
          "base_uri": "https://localhost:8080/",
          "height": 336
        },
        "id": "FIdZiZPlVl3V",
        "outputId": "507326c9-78ff-4dac-ea09-3ec0921a0057"
      },
      "source": [
        "import matplotlib.pyplot as plt\n",
        "import math\n",
        "x = [n/100 for n in range(101)]\n",
        "y = [unit_qcirc(t) for t in x]\n",
        "plt.figure(figsize=(5,5))\n",
        "plt.grid()\n",
        "plt.title(\"Quarter Unit Circle\")\n",
        "plt.plot(x, y)\n",
        "plt.show()"
      ],
      "execution_count": null,
      "outputs": [
        {
          "output_type": "display_data",
          "data": {
            "image/png": "[encoded data removed]",
            "text/plain": [
              "<Figure size 360x360 with 1 Axes>"
            ]
          },
          "metadata": {
            "tags": []
          }
        }
      ]
    },
    {
      "cell_type": "markdown",
      "metadata": {
        "id": "odZYSmr97AAz"
      },
      "source": [
        "### 演習 5-2\n",
        "\n",
        "関数`unit_qcirc`のプログラムは、半径を1に固定して、四分円上の点の$y$座標を計算する。\n",
        "半径を固定せず、半径$r$を関数の引数として指定し、\n",
        "半径$r$の四分円を$0<x<r$で与える関数`qcirc(x,r)`を定義せよ。\n",
        "\n",
        "その上で、描画範囲を$0 \\le x \\le r$として、四分円を描画せよ"
      ]
    },
    {
      "cell_type": "code",
      "metadata": {
        "colab": {
          "base_uri": "https://localhost:8080/",
          "height": 655
        },
        "id": "I4yNN6O9mVrJ",
        "outputId": "17ad43c7-9cfd-48ae-c3e0-f70f9593ccd2"
      },
      "source": [
        "# 演習 5-２の答え\n",
        "import matplotlib.pyplot as plt\n",
        "import math\n",
        "def qcirc(x, r):\n",
        "  y = math.sqrt((r - x)*(r + x))\n",
        "  return y\n",
        "\n",
        "r = 3\n",
        "x = [r*n/100 for n in range(101)]\n",
        "y = [qcirc(t, r) for t in x]\n",
        "plt.figure(figsize=(5,5))\n",
        "plt.grid()\n",
        "plt.title(\"Quarter Circle\")\n",
        "plt.plot(x, y)\n",
        "plt.show()\n",
        "\n",
        "R = 7\n",
        "x = [R*n/100 for n in range(101)]\n",
        "y = [qcirc(t, R) for t in x]\n",
        "plt.figure(figsize=(5,5))\n",
        "plt.grid()\n",
        "plt.title(\"Quarter Circle\")\n",
        "plt.plot(x, y)\n",
        "plt.show()"
      ],
      "execution_count": null,
      "outputs": [
        {
          "output_type": "display_data",
          "data": {
            "image/png": "[encoded data removed]",
            "text/plain": [
              "<Figure size 360x360 with 1 Axes>"
            ]
          },
          "metadata": {
            "tags": []
          }
        },
        {
          "output_type": "display_data",
          "data": {
            "image/png": "[encoded data removed]",
            "text/plain": [
              "<Figure size 360x360 with 1 Axes>"
            ]
          },
          "metadata": {
            "tags": []
          }
        }
      ]
    },
    {
      "cell_type": "markdown",
      "metadata": {
        "id": "X3_iD_ndmXqx"
      },
      "source": [
        "# 関数オブジェクト"
      ]
    },
    {
      "cell_type": "markdown",
      "metadata": {
        "id": "KInKxvqJpHwu"
      },
      "source": [
        "`def`で定義した関数は、それ自体をオブジェクトとして取り扱うことができます。\n",
        "これにより、複数の関数に共通な機能を実現することができるようになります。\n",
        "\n",
        "例えば、今まで、いくつかの関数のグラフを描画するプログラムを都度作成しましたが、関数をオブジェクトとして扱うことにより、任意の関数のグラフを描画する共通のプログラムを関数として定義することができます。\n",
        "\n",
        "例えば、関数`draw_graph_proto（f）`は、関数オブジェクト`f`を引数にとって、`f`のグラフを$0<x<1$（両端０と１は含まない）の範囲で描画するプログラムです。\n",
        "\n",
        "```python\n",
        "import matplotlib.pyplot as plt\n",
        "import math\n",
        "def draw_graph_proto(f):\n",
        "  x = [n/100 for n in range(1, 100)]\n",
        "  y = [f(t) for t in x]\n",
        "  plt.plot(x, y)\n",
        "  plt.grid()\n",
        "  plt.show()\n",
        "```\n",
        "\n",
        "復習になりますが、以下を確認して起きます。\n",
        "* `range(1, 100)`：`range(100)`は$0, 1, 2, \\dots, 99$の100個の数からなるリストと同等ですが、始まりの数を指定することができます。\n",
        "`range(a, b)`は$a, a+1, \\dots, b-2, b-1$からなる$b-a$個の数字からなるリストと同等です。\n",
        "* `plt.grid()`はグラフに水平・垂直のグリッド線をひき、座標を読み取りやすくします。\n",
        "* `plt.show()`はグラフを「明示的に」表示します。\n",
        "\n",
        "関数`draw_graph_proto`は、引数に関数オブジェクトを指定することにより、\n",
        "任意の関数のグラフを描いてくれます。\n",
        "複数の関数のグラフを描く際に、同じようなコードを何回も書かなくてよくなるので、\n",
        "効率が良くなります。\n",
        "例えば、冒頭で定義した`my_fun`関数のグラフは、\n",
        "```python\n",
        "draw_graph_proto(my_func)\n",
        "```\n",
        "の一行で描画できる筈です。\n",
        "\n",
        "### 演習 5-3\n",
        "`draw_graph_proto`関数を使って、\n",
        "平方根関数`math.sqrt`と対数関数`math.log`のグラフを描画せよ。"
      ]
    },
    {
      "cell_type": "code",
      "metadata": {
        "colab": {
          "base_uri": "https://localhost:8080/",
          "height": 761
        },
        "id": "ORL61hoUqxzy",
        "outputId": "63150543-44eb-4c88-ada1-c1b62dc0b339"
      },
      "source": [
        "import matplotlib.pyplot as plt\n",
        "import math\n",
        "def draw_graph_proto(f):\n",
        "  x = [n/100 for n in range(1, 100)]\n",
        "  y = [f(t) for t in x]\n",
        "  plt.plot(x, y)\n",
        "  plt.grid()\n",
        "  plt.show()\n",
        "\n",
        "\n",
        "# def my_func(x):\n",
        "#   if x < 0.5:\n",
        "#     y = x **2\n",
        "#   else:\n",
        "#     y = 0.25\n",
        "#   return y\n",
        "\n",
        "draw_graph_proto(my_func)\n",
        "draw_graph_proto(math.sqrt)\n",
        "draw_graph_proto(math.log)"
      ],
      "execution_count": null,
      "outputs": [
        {
          "output_type": "display_data",
          "data": {
            "image/png": "[encoded data removed]",
            "text/plain": [
              "<Figure size 432x288 with 1 Axes>"
            ]
          },
          "metadata": {
            "tags": []
          }
        },
        {
          "output_type": "display_data",
          "data": {
            "image/png": "[encoded data removed]",
            "text/plain": [
              "<Figure size 432x288 with 1 Axes>"
            ]
          },
          "metadata": {
            "tags": []
          }
        },
        {
          "output_type": "display_data",
          "data": {
            "image/png": "[encoded data removed]",
            "text/plain": [
              "<Figure size 432x288 with 1 Axes>"
            ]
          },
          "metadata": {
            "tags": []
          }
        }
      ]
    },
    {
      "cell_type": "markdown",
      "metadata": {
        "id": "dMa9HmTmnxkU"
      },
      "source": [
        "関数`draw_graph_proto`では$0<x<1$の区間の描画に固定されていましたので、\n",
        "任意の区間$a < x < b$に対してグラフを描画できるように、\n",
        "`draw_graph_proto`関数を改良します。\n",
        "その準備として、次の演習問題を考えて見ましょう。\n",
        "\n",
        "### 演習 5-4\n",
        "次のプログラムが計算するリスト`div`は何か？\n",
        "```python\n",
        "a = 1\n",
        "b = 5\n",
        "div = [a + (b-a)*n/10 for n in range(1, 10)]\n",
        "```\n",
        "\n",
        "**ヒント** $s = a + (b - a)t$は、$t=0$で値$a$、$t＝1$で値$b$をとり、$0<t<1$では$a<s<b$の間の値をとります。\n",
        "\n",
        "**ヒント** 内分の公式を覚えている人にとっては、\n",
        "$s = a + (b - a)t = (1 - t)a + tb$と式変形をすると分かりやすいかもしれません。"
      ]
    },
    {
      "cell_type": "markdown",
      "metadata": {
        "id": "QwCDHbLqo3bS"
      },
      "source": [
        "演習 5-4の答えをテキストで書け。"
      ]
    },
    {
      "cell_type": "code",
      "metadata": {
        "colab": {
          "base_uri": "https://localhost:8080/"
        },
        "id": "V1dl6FKdU0aq",
        "outputId": "980c16f3-c10a-41a9-ffec-9c8aacc80565"
      },
      "source": [
        "a = 1\n",
        "b = 5\n",
        "div = [a + (b-a)*n/10 for n in range(1, 10)]\n",
        "print(div)"
      ],
      "execution_count": null,
      "outputs": [
        {
          "output_type": "stream",
          "text": [
            "[1.4, 1.8, 2.2, 2.6, 3.0, 3.4, 3.8, 4.2, 4.6]\n"
          ],
          "name": "stdout"
        }
      ]
    },
    {
      "cell_type": "markdown",
      "metadata": {
        "id": "aKcug3iwT96p"
      },
      "source": [
        "## 点a, 点bを結ぶ直線を10等分する点"
      ]
    },
    {
      "cell_type": "markdown",
      "metadata": {
        "id": "WTyZQrvzTGM6"
      },
      "source": [
        "### 演習 5-5\n",
        "演習 5-4を参考にして、\n",
        "任意の区間$a<x<b$の区間で描画できるよう、関数`draw_graph(f, a, b)`を定義せよ。\n",
        "区間$a < x < b$中に均等間隔で100個の値をとって、\n",
        "その値を$x$座標とするグラフ上の点をプロットする。\n",
        "\n",
        "ただし、プログラムの最初の行は\n",
        "```python\n",
        "def draw_graph(f, a, b):\n",
        "```\n",
        "とせよ。\n"
      ]
    },
    {
      "cell_type": "code",
      "metadata": {
        "colab": {
          "base_uri": "https://localhost:8080/",
          "height": 265
        },
        "id": "LPuKDkfSVOXa",
        "outputId": "b397ea24-05b1-4fd1-e236-4369b2c73cf9"
      },
      "source": [
        "# 演習 5-5の答え\n",
        "import matplotlib.pyplot as plt\n",
        "import math\n",
        "def draw_graph(f, a, b):  # a< b\n",
        "  x = [a + (b-a)*n/100 for n in range(1, 100)]\n",
        "  x.insert(0, a)\n",
        "  x.append(b)\n",
        "  y = [f(t) for t in x]\n",
        "  plt.plot(x, y, marker='|', markersize=20)\n",
        "  plt.grid()\n",
        "  plt.show()\n",
        "\n",
        "def number_line(k):\n",
        "  return k *0\n",
        "\n",
        "draw_graph(number_line, 0, 100)\n"
      ],
      "execution_count": null,
      "outputs": [
        {
          "output_type": "display_data",
          "data": {
            "image/png": "[encoded data removed]",
            "text/plain": [
              "<Figure size 432x288 with 1 Axes>"
            ]
          },
          "metadata": {
            "tags": [],
            "needs_background": "light"
          }
        }
      ]
    },
    {
      "cell_type": "markdown",
      "metadata": {
        "id": "eKrOo34cVjA1"
      },
      "source": [
        "### 演習 5-6\n",
        "関数`draw_graph`を使って、区間$-\\pi<x<\\pi$において、正弦関数`math.sin`と余弦関数`math.cos`を描画せよ。"
      ]
    },
    {
      "cell_type": "code",
      "metadata": {
        "id": "fx7zdEzwV3pT",
        "colab": {
          "base_uri": "https://localhost:8080/",
          "height": 513
        },
        "outputId": "e75ba286-a544-4a5e-df9e-b174a2b15637"
      },
      "source": [
        "# 演習 5-6の答え\n",
        "import math\n",
        "\n",
        "draw_graph(math.sin, -(math.pi), math.pi)\n",
        "draw_graph(math.cos, -(math.pi), math.pi)"
      ],
      "execution_count": null,
      "outputs": [
        {
          "output_type": "display_data",
          "data": {
            "image/png": "[encoded data removed]",
            "text/plain": [
              "<Figure size 432x288 with 1 Axes>"
            ]
          },
          "metadata": {
            "tags": [],
            "needs_background": "light"
          }
        },
        {
          "output_type": "display_data",
          "data": {
            "image/png": "[encoded data removed]",
            "text/plain": [
              "<Figure size 432x288 with 1 Axes>"
            ]
          },
          "metadata": {
            "tags": [],
            "needs_background": "light"
          }
        }
      ]
    },
    {
      "cell_type": "markdown",
      "metadata": {
        "id": "pYxxb1qsu04G"
      },
      "source": [
        "### 演習 5-7\n",
        "区間$a<x<b$で定義される任意の関数$f$に対して、\n",
        "区間$a<x<b$での最大値を近似的に求める関数`maxf`を作成せよ。\n",
        "\n",
        "**ヒント** 関数`draw_gragh`と同様に、区間$a<x<b$中に均等間隔でとった100個の$x$に対して$f(x)$を計算し、その最大値を近似値とせよ。\n",
        "\n",
        "**ヒント** 前講でみたように`max(リスト名)`は、リストに含まれる要素の数値の最大値を返す。\n",
        "例えば、`max([1,2,3])`は、値`3`を返す。"
      ]
    },
    {
      "cell_type": "code",
      "metadata": {
        "id": "TAZUJhykwIQZ",
        "colab": {
          "base_uri": "https://localhost:8080/"
        },
        "outputId": "223ae078-df26-4ed9-c2c2-45557970a6f7"
      },
      "source": [
        "#演習６の解答\n",
        "import math\n",
        "def maxf(f, a, b):  # a< b\n",
        "  x = [a + (b-a)*n/100 for n in range(0, 101)]\n",
        "  y = [f(t) for t in x]\n",
        "  return max(y)\n",
        "\n",
        "def quadratic(x):\n",
        "  return x**2\n",
        "\n",
        "print(maxf(math.sin, -(math.pi), math.pi))\n",
        "print(maxf(math.sin, -1, 1))\n",
        "\n",
        "print(maxf(quadratic, 0, 20))"
      ],
      "execution_count": null,
      "outputs": [
        {
          "output_type": "stream",
          "text": [
            "1.0\n",
            "0.8414709848078965\n",
            "400.0\n"
          ],
          "name": "stdout"
        }
      ]
    },
    {
      "cell_type": "markdown",
      "metadata": {
        "id": "xuwvxIKdwACa"
      },
      "source": [
        "## モンテカルロシミュレーションによる面積の計算\n",
        "積分を勉強していない人もいると思いますが、ここでは、**定積分は関数と$x$軸で囲まれる領域の面積**と理解してください。\n",
        "例えば、\n",
        "このセルの下のプログラムを実行すると、3つの関数\n",
        "* $\\displaystyle\n",
        "f(x) = \\begin{cases} x^2 & 0\\le x\\le \\frac 12\\\\ 0.25 & x\\ge 0.5\\end{cases}\n",
        "$\n",
        "* $\\displaystyle\n",
        "f(x) = \\sqrt x\n",
        "$\n",
        "*$\\displaystyle\n",
        "f(x) = \\frac 1x\n",
        "$\n",
        "に対して、$y=f(x)$、$x$軸、$y$軸に平行な直線$x=0$、及び、$x=1$に囲まれた領域を赤く塗り潰された領域として表示します。\n",
        "この赤色の領域の面積を、定積分で\n",
        "$$\n",
        "S = \\int_0^1 f(x) dx\n",
        "$$\n",
        "と表します。\n",
        "\n",
        "次のサンプルプログラムを実行して見ましょう。\n",
        "```python\n",
        "import matplotlib.pyplot as plt\n",
        "def area(f):\n",
        "  x = [n/100 for n in range(1, 100)]\n",
        "  y = [f(t) for t in x]\n",
        "  y0 = [0 for _ in x]\n",
        "  plt.fill_between(x, y, y0, facecolor='red')\n",
        "  plt.grid()\n",
        "  plt.show()\n",
        "\n",
        "area(my_func)\n",
        "area(math.sqrt)\n",
        "area(lambda x: 1/x)\n",
        "```"
      ]
    },
    {
      "cell_type": "code",
      "metadata": {
        "id": "7L1X724f1uIX",
        "colab": {
          "base_uri": "https://localhost:8080/",
          "height": 761
        },
        "outputId": "db71a071-b85c-47ca-ec64-a76a4a7dcc54"
      },
      "source": [
        "import matplotlib.pyplot as plt\n",
        "def area(f):\n",
        "  x = [n/100 for n in range(1, 100)]\n",
        "  y = [f(t) for t in x]\n",
        "  y0 = [0 for _ in x]\n",
        "  plt.fill_between(x, y, y0, facecolor='red')\n",
        "  plt.grid()\n",
        "  plt.show()\n",
        "\n",
        "area(my_func)\n",
        "area(math.sqrt)\n",
        "area(lambda x: 1/x)\n"
      ],
      "execution_count": null,
      "outputs": [
        {
          "output_type": "display_data",
          "data": {
            "image/png": "[encoded data removed]",
            "text/plain": [
              "<Figure size 432x288 with 1 Axes>"
            ]
          },
          "metadata": {
            "tags": [],
            "needs_background": "light"
          }
        },
        {
          "output_type": "display_data",
          "data": {
            "image/png": "[encoded data removed]",
            "text/plain": [
              "<Figure size 432x288 with 1 Axes>"
            ]
          },
          "metadata": {
            "tags": [],
            "needs_background": "light"
          }
        },
        {
          "output_type": "display_data",
          "data": {
            "image/png": "[encoded data removed]",
            "text/plain": [
              "<Figure size 432x288 with 1 Axes>"
            ]
          },
          "metadata": {
            "tags": [],
            "needs_background": "light"
          }
        }
      ]
    },
    {
      "cell_type": "markdown",
      "metadata": {
        "id": "c5abD3emm2EE"
      },
      "source": [
        "モンテカルロシミュレーションの応用例の一つとして、\n",
        "区間$0 < x < 1$に対する関数の定積分を計算するプログラムを作成しましょう。\n",
        "\n",
        "以下に定義する関数`integral_proto(f、N)`の引数`f`は、$0<x<1$で$0<f(x)<1$を満足する任意の関数オブジェクトとします。\n",
        "例えば、上の３つの関数は、この条件を満たします。\n",
        "\n",
        "`integral_proto()`は、正方形領域$\\{(x, y)\\mid 0<x<1, 0<y<1\\}$の中に\n",
        "**一様ランダムに$N$個の点を発生**させ、\n",
        "領域$y \\le f(x)$であれば赤色で、領域$y > f(x)$であれば青色で、点をプロットします。\n",
        "その上で、次の考え方で定積分\n",
        "$$\n",
        "S = \\int_0^1 f(x) dx\n",
        "$$\n",
        "を計算します。\n",
        "\n",
        "正方形領域の面積は1なので、\n",
        "ランダムに発生させた点が領域$y \\le f(x)$内に存在する確率は、\n",
        "$\\displaystyle\\frac S{\\text{矩形の面積}} = \\frac S1 = S$で与えられます。\n",
        "$S$は領域の面積です。\n",
        "この原理を逆に使うと、確率\n",
        "\n",
        "$$\n",
        "\\frac{\\mbox{$y \\le f(x)$を満たす点$(x,y)$の個数}}N\n",
        "$$\n",
        "\n",
        "をシミュレーションの結果から計算することで、\n",
        "面積$S$を近似的に計算することができるという訳です。\n",
        "```python\n",
        "import random as rnd\n",
        "\n",
        "def integral_proto(f, N):\n",
        "  x = [rnd.random() for n in range(N)] #N個の乱数を0と1の間で発生させリストxに追加\n",
        "  y = [rnd.random() for n in range(N)] #N個の乱数を0と1の間で発生させリストyに追加\n",
        "  lowerX = [] #y = f(x)の下に点のx座標のリスト\n",
        "  lowerY = [] #y = f(x)の下に点のy座標のリスト\n",
        "  upperX = [] #y = f(x)の上に点のx座標のリスト\n",
        "  upperY = [] #y = f(x)の上に点のy座標のリスト\n",
        "  for n in range(N): #(x, y)を(lowerX, lowerY)と(upperX, upperY)に振り分け\n",
        "    if y[n] < f(x[n]): #点(x[n], y[n])が曲線の下にある場合\n",
        "      lowerX.append(x[n]) #lowerXの最後尾にx[n]を追加\n",
        "      lowerY.append(y[n]) #lowerYの最後尾にy[n]を追加\n",
        "    else: #点(x[n], y[n])が曲線の上にある場合\n",
        "      upperX.append(x[n]) #upperXの最後尾にx[n]を追加\n",
        "      upperY.append(y[n]) #upperYの最後尾にy[n]を追加\n",
        "  plt.scatter(lowerX, lowerY, c='red') #(lowerX, lowerY)を赤でプロット\n",
        "  plt.scatter(upperX, upperY, c='blue') #(upperX, upperY)を青でプロット\n",
        "  plt.grid()\n",
        "  plt.show()\n",
        "  return len(lowerX)/N\n",
        "\n",
        "print(\"S = \", integral_proto(my_func, 100))\n",
        "print(\"S = \", integral_proto(math.sqrt, 100))\n",
        "```"
      ]
    },
    {
      "cell_type": "code",
      "metadata": {
        "id": "LKHJI_nfrulc",
        "colab": {
          "base_uri": "https://localhost:8080/",
          "height": 545
        },
        "outputId": "4dda387b-d597-4a65-c27a-e3c896e8c5a5"
      },
      "source": [
        "import random as rnd\n",
        "def integral_proto(f, N):\n",
        "  x = [rnd.random() for n in range(N)]\n",
        "  y = [rnd.random() for n in range(N)]\n",
        "  # print(x)\n",
        "  # print(y)\n",
        "  lowerX = []\n",
        "  lowerY = []\n",
        "  upperX = []\n",
        "  upperY = []\n",
        "\n",
        "  for n in range(N):\n",
        "    # print(f(x[n]))\n",
        "    if y[n] < f(x[n]):\n",
        "      lowerX.append(x[n])\n",
        "      lowerY.append(x[n])\n",
        "    else:\n",
        "      upperX.append(x[n])\n",
        "      upperY.append(y[n])\n",
        "  plt.scatter(lowerX, lowerY, c='red')\n",
        "  plt.scatter(upperX, upperY, c='blue')\n",
        "  plt.grid()\n",
        "  plt.show()\n",
        "  return len(lowerX)/N\n",
        "\n",
        "# def my_func(x):\n",
        "#   if x < 0.5:\n",
        "#     return x*x\n",
        "#   else:\n",
        "#     return 0.25\n",
        "\n",
        "print(\"S =\", integral_proto(my_func, 100))\n",
        "print(\"S =\", integral_proto(math.sqrt, 100))"
      ],
      "execution_count": null,
      "outputs": [
        {
          "output_type": "display_data",
          "data": {
            "image/png": "[encoded data removed]",
            "text/plain": [
              "<Figure size 432x288 with 1 Axes>"
            ]
          },
          "metadata": {
            "tags": [],
            "needs_background": "light"
          }
        },
        {
          "output_type": "stream",
          "text": [
            "S = 0.13\n"
          ],
          "name": "stdout"
        },
        {
          "output_type": "display_data",
          "data": {
            "image/png": "[encoded data removed]",
            "text/plain": [
              "<Figure size 432x288 with 1 Axes>"
            ]
          },
          "metadata": {
            "tags": [],
            "needs_background": "light"
          }
        },
        {
          "output_type": "stream",
          "text": [
            "S = 0.68\n"
          ],
          "name": "stdout"
        }
      ]
    },
    {
      "cell_type": "markdown",
      "metadata": {
        "id": "eqtYjcqcriPb"
      },
      "source": [
        "`integral_proto(f, N)`は、既に学んだ技法だけを使っていますが、復習のために内容を一行ずつみてみます。\n",
        "```\n",
        "  x = [rnd.random() for n in range(N)] #N個の乱数を0と1の間で発生させリストxに追加`\n",
        "```\n",
        "では、内包表現を用いて、$N$個の乱数を生成して、リストにしています。\n",
        "半角文字`#`は、コメントの始まりをします。\n",
        "コメントは、プログラムを読みやすくするためのもので、プログラムの実行時には無視されます。\n",
        "`range(N)`は、$0$から$N-1$まで$N$個の数字を含むリストと同等なオブジェクトです。\n",
        "`for n in range(N)`は、`range(N)`から、0から$N-1$までの順で値を取り出して、`n`という名前をつけます。\n",
        "これで、$N$個の点の$x$座標をランダムに生成したことになります。\n",
        "同様に、\n",
        "```\n",
        "  y = [rnd.random() for n in range(N)] #N個の乱数を0と1の間で発生させリストyに追加\n",
        "```\n",
        "は、$y$座標を$N$個ランダムに生成します。\n",
        "`for`文、\n",
        "```\n",
        "  for n in range(N): #(x, y)を(lowerX, lowerY)と(upperX, upperY)に振り分け\n",
        "```\n",
        "は、内包表現とよく似た機能を持ちますが、\n",
        "複数行にわたるより複雑なプログラムを繰り返し実行することができます。\n",
        "繰り返し実行されるプログラムは、\n",
        "`for`文以下のインデントされた領域（スコープ）に指定します。\n",
        "スコープに指定されたプログラム行（複数）は、\n",
        "`n`を0から$N-1$まで順に取り替えて、$N$回実行されます。\n",
        "```\n",
        "    if y[n] < f(x[n]): #点(x[n], y[n])が曲線の下にある場合\n",
        "      lowerX.append(x[n]) #lowerXの最後尾にx[n]を追加\n",
        "      lowerY.append(y[n]) #lowerYの最後尾にy[n]を追加\n",
        "    else: #点(x[n], y[n])が曲線の下にある場合\n",
        "      upperX.append(x[n]) #upperXの最後尾にx[n]を追加\n",
        "      upperY.append(y[n]) #upperYの最後尾にy[n]を追加\n",
        "```\n",
        "が、スコープに指定されたプログラムです。\n",
        "```\n",
        "      lowerX.append(x[n]) #lowerXの最後尾にx[n]を追加\n",
        "```\n",
        "`append()`はリストの最後尾に括弧内で指定されたオブジェクトを追加する関数です。\n",
        "この行では、$y = f(x)$の曲線より下にある点の$x$座標を、\n",
        "`lowerX`という名前のリストの最後尾に追加しています。\n",
        "\n",
        "`for`ループを最後まで実行すると、$N$個の点を、$y = f(x)$の曲線の上と下に仕分けします。\n",
        "具体的には、\n",
        "`lowerX`、`lowerY`には、$y = f(x)$の曲線の下に位置する点の$x$座標と$y$座標が、\n",
        "`upperX`、`upperY`には、$y = f(x)$の曲線の上に位置する点の$x$座標と$y$座標が、\n",
        "リストとして格納されますので、\n",
        "それぞれを、例えば、`plt.scatter(lowerX, lowerY, c='red')`で、\n",
        "散布図としてプロットすることができます。\n",
        "\n",
        "実行結果を見てみましょう。\n",
        "\n",
        "関数`math.my_func`と`math.sqrt`に対する$S$の値は、それぞれ、\n",
        "$$\n",
        "S_\\mathrm{my\\_func}=\\int_0^{\\frac 12} x^2ds + \\int_{\\frac 12}^1 0.25 \n",
        "= \\frac 13 0.5^3 + 0.125 = \\frac 16 = 0.1667\n",
        "$$\n",
        "$$\n",
        "S_\\mathrm{math.sqrt}=\\int_0^1 \\sqrt x = \\frac 23 = 0.667\n",
        "$$\n",
        "になります。\n",
        "上記のシミュレーションで得られた結果は、これらの値にそれぞれ近いと思いますが、まだ精度が足りないようです。\n",
        "ランダムな試行（ここでは点を発生させること）を繰り返して、何かの値を計算する手法を**モンテカルロシミュレーション**と呼び、シミュレーションでは基本的な手法です。\n",
        "例えば、プロ棋士に勝った人工知能の囲碁プログラムは、強化学習とモンテカルロシミュレーションを基礎的な二つの手法として利用しています。\n",
        "モンテカルロシミュレーションでは、試行回数（この場合は発生させる点の個数）を増やすほど、精度が高くなっていきます。\n",
        "上の例では、点の個数を100個にしましたが、個数を増やして精度が向上することを確認してください。\n",
        "\n",
        "### 演習 5-8\n",
        "プロットする点の個数を増やすと、近似の精度が向上することを確認せよ。"
      ]
    },
    {
      "cell_type": "code",
      "metadata": {
        "id": "RxICgIxuuqGR",
        "colab": {
          "base_uri": "https://localhost:8080/",
          "height": 545
        },
        "outputId": "c9422edc-bc7c-4693-9494-500c405c8aaf"
      },
      "source": [
        "# 演習 5-8の答え\n",
        "def integral_proto(f, N):\n",
        "  x = [rnd.random() for n in range(N)]\n",
        "  y = [rnd.random() for n in range(N)]\n",
        "  lowerX = []\n",
        "  lowerY = []\n",
        "  upperX = []\n",
        "  upperY = []\n",
        "\n",
        "  for n in range(N):\n",
        "    if y[n] < f(x[n]):\n",
        "      lowerX.append(x[n])\n",
        "      lowerY.append(x[n])\n",
        "    else:\n",
        "      upperX.append(x[n])\n",
        "      upperY.append(y[n])\n",
        "  plt.scatter(lowerX, lowerY, c='red')\n",
        "  plt.scatter(upperX, upperY, c='blue')\n",
        "  plt.grid()\n",
        "  plt.show()\n",
        "  return len(lowerX)/N\n",
        "\n",
        "print(\"S =\", integral_proto(my_func, 10000))\n",
        "print(\"S =\", integral_proto(math.sqrt, 10000))"
      ],
      "execution_count": null,
      "outputs": [
        {
          "output_type": "display_data",
          "data": {
            "image/png": "[encoded data removed]",
            "text/plain": [
              "<Figure size 432x288 with 1 Axes>"
            ]
          },
          "metadata": {
            "tags": [],
            "needs_background": "light"
          }
        },
        {
          "output_type": "stream",
          "text": [
            "S = 0.1647\n"
          ],
          "name": "stdout"
        },
        {
          "output_type": "display_data",
          "data": {
            "image/png": "[encoded data removed]",
            "text/plain": [
              "<Figure size 432x288 with 1 Axes>"
            ]
          },
          "metadata": {
            "tags": [],
            "needs_background": "light"
          }
        },
        {
          "output_type": "stream",
          "text": [
            "S = 0.6669\n"
          ],
          "name": "stdout"
        }
      ]
    },
    {
      "cell_type": "markdown",
      "metadata": {
        "id": "cEBWP3hpvfKh"
      },
      "source": [
        "`integral_proto`関数では、一辺が１の正方形領域$\\{(x, y)\\mid 0<x<1, 0<y<1\\}$内に点を発生させて$\\displaystyle\\int_0^1f(x)dx$を計算しているため、関数$f$には、$0<x<1$で$0<f(x)<1$という制限が必要でした。\n",
        "次の演習では、\n",
        "この制限を「$a<x<b$で$f(x)>0$」という制限に緩めて、\n",
        "定積分（領域の面積）を計算する関数`integral(y, a, b, N)`を作成します。\n",
        "つまり、\n",
        "$$\n",
        "\\mathrm{integral}(f, a, b, N) \\approx \\int_a^b f(x)dx\n",
        "$$\n",
        "が成り立つようにすることが目標です。\n",
        "\n",
        "### 演習 5-9\n",
        "関数$f$が「$a<x<b$で$f(x)>0$」という条件を満足する時、\n",
        "区間$a<x<b$で曲線$y = f(x)$と$y=0$が囲む領域の面積を求める関数\n",
        "`integral(f, a, b, N)`を作成せよ。\n",
        "\n",
        "\n",
        "**ヒント** 演習 5-7で作成した`maxf`関数を用いて、関数$f$の区間$a<x<b$での最大値$m = \\max_{a<x<b}f(x)$を求めよ。\n",
        "\n",
        "**ヒント** $a<x<b$及び$0<y<m$の長方形領域の中で一様に点を発生させよ。\n",
        "$a<x<b$を満たす乱数を一様に生成するには、`a + (b-a)*rnd.random()`が使える。\n",
        "`rnd.random()`は、0と1の間で乱数を一様ランダムに発生させる。\n",
        "\n",
        "**ヒント** ランダムに発生させた点$(x, y)$が領域$y<f(x)$に落ちる確率は、$\\displaystyle\\frac{\\text{囲まれた領域の面積}}{矩形の面積}$であるので、$\\displaystyle \\frac S{(b-a)m}$である。\n",
        "従って、$\\displaystyle S = \\frac{\\text{領域内の天の個数}}N\\cdot (b-a)m$になる。\n"
      ]
    },
    {
      "cell_type": "code",
      "metadata": {
        "id": "HHJELoSE0Mo7",
        "colab": {
          "base_uri": "https://localhost:8080/",
          "height": 299
        },
        "outputId": "a52e8107-76b3-48d8-9328-2caeb9dbf672"
      },
      "source": [
        "# 演習 5-9の答え\n",
        "import math\n",
        "import random as rnd\n",
        "\n",
        "def maxf(f, a, b):  # a< b\n",
        "  x = [a + (b-a)*n/100 for n in range(0, 101)]\n",
        "  y = [f(t) for t in x]\n",
        "  return max(y)\n",
        "\n",
        "def quadratic(x):\n",
        "  return x**2\n",
        "\n",
        "def integral(f,a, b, N):\n",
        "  x = [a+(b-a)*rnd.random() for n in range(N)]\n",
        "  y_max = maxf(f, a, b)\n",
        "  y = [y_max*rnd.random() for n in range(N)]\n",
        "  lowerX = []\n",
        "  lowerY = []\n",
        "  upperX = []\n",
        "  upperY = []\n",
        "  print(y_max)\n",
        "\n",
        "  for n in range(N):\n",
        "    if y[n] < f(x[n]):\n",
        "      lowerX.append(x[n])\n",
        "      lowerY.append(x[n])\n",
        "    else:\n",
        "      upperX.append(x[n])\n",
        "      upperY.append(y[n])\n",
        "  plt.scatter(lowerX, lowerY, c='red')\n",
        "  plt.scatter(upperX, upperY, c='blue')\n",
        "  plt.grid()\n",
        "  plt.show()\n",
        "  return len(lowerX)*(b-a)*y_max/N\n",
        "\n",
        "\n",
        "print(integral(quadratic, 0, 4, 100000))"
      ],
      "execution_count": null,
      "outputs": [
        {
          "output_type": "stream",
          "text": [
            "16.0\n"
          ],
          "name": "stdout"
        },
        {
          "output_type": "display_data",
          "data": {
            "image/png": "[encoded data removed]",
            "text/plain": [
              "<Figure size 432x288 with 1 Axes>"
            ]
          },
          "metadata": {
            "tags": [],
            "needs_background": "light"
          }
        },
        {
          "output_type": "stream",
          "text": [
            "21.25696\n"
          ],
          "name": "stdout"
        }
      ]
    },
    {
      "cell_type": "markdown",
      "metadata": {
        "id": "aXdVJgYR0RcU"
      },
      "source": [
        "### 演習 5-10\n",
        "演習 5-２で作成した関数`qcirc(x, r)`と演習 5-9で作成した面積（定積分）を求めるプログラムを利用し、$0 < x < 2$の範囲の半径２の四分円の面積を近似計算せよ。\n",
        "また、値が$\\pi$の近似になることを確認せよ。\n",
        "\n",
        "**ヒント** 四分円の面積は、$0 \\le x \\le 2$の領域で、曲線$y = \\mathrm{qcirc}(x, 2)$より下の領域の面積と等しい。\n",
        "\n",
        "**ヒント** 以下のように関数$f(x)$を定義して、$f$を引数にして、演習７で作成した`integral`関数を呼び出す。\n",
        "```\n",
        "def f(x):\n",
        "  return qcirc(x, 2)\n",
        "```"
      ]
    },
    {
      "cell_type": "code",
      "metadata": {
        "id": "uD97ZL5Q1TlD",
        "colab": {
          "base_uri": "https://localhost:8080/",
          "height": 282
        },
        "outputId": "3f08df5e-de94-404a-c984-8d969d03cb94"
      },
      "source": [
        "# 演習 5-10の答え\n",
        "import matplotlib.pyplot as plt\n",
        "import math\n",
        "import random as rnd\n",
        "\n",
        "def qcirc(x):\n",
        "  y = math.sqrt((2 - x)*(2 + x))\n",
        "  return y\n",
        "\n",
        "def maxf(f, a, b):  # a< b\n",
        "  x = [a + (b-a)*n/100 for n in range(0, 101)]\n",
        "  y = [f(t) for t in x]\n",
        "  return max(y)\n",
        "\n",
        "def integral(f,a, b, N):\n",
        "  x = [a+(b-a)*rnd.random() for n in range(N)]\n",
        "  y_max = maxf(f, a, b)\n",
        "  y = [y_max*rnd.random() for n in range(N)]\n",
        "  lowerX = []\n",
        "  lowerY = []\n",
        "  upperX = []\n",
        "  upperY = []\n",
        "\n",
        "  for n in range(N):\n",
        "    if y[n] < f(x[n]):\n",
        "      lowerX.append(x[n])\n",
        "      lowerY.append(x[n])\n",
        "    else:\n",
        "      upperX.append(x[n])\n",
        "      upperY.append(y[n])\n",
        "  plt.scatter(lowerX, lowerY, c='red')\n",
        "  plt.scatter(upperX, upperY, c='blue')\n",
        "  plt.grid()\n",
        "  plt.show()\n",
        "  return len(lowerX)*(b-a)*y_max/N\n",
        "\n",
        "\n",
        "print(integral(qcirc, 0, 2, 100000))\n"
      ],
      "execution_count": 5,
      "outputs": [
        {
          "output_type": "display_data",
          "data": {
            "image/png": "[encoded data removed]",
            "text/plain": [
              "<Figure size 432x288 with 1 Axes>"
            ]
          },
          "metadata": {
            "tags": [],
            "needs_background": "light"
          }
        },
        {
          "output_type": "stream",
          "text": [
            "3.14472\n"
          ],
          "name": "stdout"
        }
      ]
    }
  ]
}