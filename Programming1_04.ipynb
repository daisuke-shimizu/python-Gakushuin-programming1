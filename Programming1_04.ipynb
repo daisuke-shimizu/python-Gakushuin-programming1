{
  "nbformat": 4,
  "nbformat_minor": 0,
  "metadata": {
    "colab": {
      "name": "Programming1-04.ipynb",
      "provenance": [],
      "collapsed_sections": [],
      "include_colab_link": true
    },
    "kernelspec": {
      "display_name": "Python 3",
      "language": "python",
      "name": "python3"
    },
    "language_info": {
      "codemirror_mode": {
        "name": "ipython",
        "version": 3
      },
      "file_extension": ".py",
      "mimetype": "text/x-python",
      "name": "python",
      "nbconvert_exporter": "python",
      "pygments_lexer": "ipython3",
      "version": "3.7.5"
    }
  },
  "cells": [
    {
      "cell_type": "markdown",
      "metadata": {
        "id": "view-in-github",
        "colab_type": "text"
      },
      "source": [
        "<a href=\"https://colab.research.google.com/github/daisuke-shimizu/python-Gakushuin-programming1/blob/main/Programming1_04.ipynb\" target=\"_parent\"><img src=\"https://colab.research.google.com/assets/colab-badge.svg\" alt=\"Open In Colab\"/></a>"
      ]
    },
    {
      "cell_type": "markdown",
      "metadata": {
        "id": "8zz8394jBuqm"
      },
      "source": [
        "# サンプルプログラム実行上の注意\n",
        "プログラミング上達のコツは、\n",
        "\n",
        "- 短時間に集中してできるだけ大量のプログラムを書くこと\n",
        "- 試行錯誤を行うこと\n",
        "- 他人の書いた（動く）プログラムを読むこと\n",
        "- 更に、自分の目的に合わせてカスタマイズしてみること\n",
        "\n",
        "を日常的に実行することです。\n",
        "しかし、限られた授業時間（予習・復習も含む）内で、これらを十分に実行することは至難です。\n",
        "\n",
        "そこで、\n",
        "この講義資料は、多数のサンプルプログラムを提供して、\n",
        "少しでも不足を補うことができるように作成されています。\n",
        "受講者は、以下の注意を守ってサンプルプログラムをコードセル中で実行することで、\n",
        "より効率の良い学習を心がけて下さい。\n",
        "\n",
        "1. サンプルプログラムは、コピペせず、1行1行自分でタイプして書き写して下さい。\n",
        "コピペでは見逃してしまう、プログラミングの書き方の規則や、プログラミングのコツなど、\n",
        "自分自身でタイプすることで気づくことができます。\n",
        "2. サンプルプログラムを書き写す時は、プログラムの意味を考えるよう努めて下さい。\n",
        "最初は必ずしも最良とは言えないサンプルプログラムを提示して、\n",
        "後で改良した例を示すなど、この講義資料では、良いプログラムを作成する考え方を効率的に学べるよう、\n",
        "いろいろな工夫をしています。\n",
        "3. 意味を理解できない行がある場合には、あまり拘泥せず、先に進んでください。\n",
        "100%理解しないといけないという思い込みは、プログラミングの上達にとって妨げです。\n",
        "理解するための努力は必要ですが、Pythonでできることの範囲は非常に広く、\n",
        "プロのプログラマでも全部は理解していないでしょう。\n",
        "完璧な理解よりも、**動くプログラムを書くことを最優先の目標**として、\n",
        "わからない部分は「おまじない」として受け入れることができると、上達も早くなります。\n",
        "「おまじない」とは、「なぜ効くのかはわからないけれども、使い方は分かっている」という意味です。"
      ]
    },
    {
      "cell_type": "markdown",
      "metadata": {
        "id": "Ix9JqqsAY-HV"
      },
      "source": [
        "# 第4回　リストの操作\n",
        "\n",
        "## 前回の演習の解答例\n",
        "\n",
        "まず、第3回の演習の解答例を示すところから始めます。\n",
        "\n",
        "### 演習 3-1\n",
        "シミュレーションでサイコロをふる回数は6で割り切れるように、600回にしてみました。\n",
        "理想的には全ての目が100回ずつ出るのですが、確率事象なのでばらつきます。\n",
        "何回か実行して、結果が都度違うことを確認して下さい。\n",
        "```python\n",
        "import matplotlib.pyplot as plt\n",
        "import random as rnd\n",
        "one = 0\n",
        "two = 0\n",
        "three = 0\n",
        "four = 0\n",
        "five = 0\n",
        "six = 0\n",
        "for _ in range(600):\n",
        "  role = rnd.choice([1,2,3,4,5,6])\n",
        "  if role == 1:\n",
        "    one += 1\n",
        "  elif role == 2:\n",
        "    two += 1\n",
        "  elif role == 3:\n",
        "    three += 1\n",
        "  elif role == 4:\n",
        "    four += 1\n",
        "  elif role == 5:\n",
        "    five += 1\n",
        "  else:\n",
        "    six += 1\n",
        "plt.bar(range(6), [one, two, three, four, five, six], tick_label=[1, 2, 3, 4, 5, 6])\n",
        "plt.show()\n",
        "```"
      ]
    },
    {
      "cell_type": "code",
      "metadata": {
        "id": "WB45N_V6W3cd",
        "colab": {
          "base_uri": "https://localhost:8080/",
          "height": 265
        },
        "outputId": "7fbbff49-c4c3-4ad4-c3f9-113e1bcf896f"
      },
      "source": [
        "import matplotlib.pyplot as plt\n",
        "import random as rnd\n",
        "one = 0\n",
        "two = 0\n",
        "three = 0\n",
        "four = 0\n",
        "five = 0\n",
        "six = 0\n",
        "for _ in range(600):\n",
        "  role = rnd.choice([1,2,3,4,5,6])\n",
        "  if role == 1:\n",
        "    one += 1\n",
        "  elif role == 2:\n",
        "    two += 1\n",
        "  elif role == 3:\n",
        "    three += 1\n",
        "  elif role == 4:\n",
        "    four += 1\n",
        "  elif role == 5:\n",
        "    five += 1\n",
        "  else:\n",
        "    six += 1\n",
        "plt.bar(range(6), [one, two, three, four, five, six], tick_label=[1,2,3,4,5,6])\n",
        "plt.show()"
      ],
      "execution_count": 2,
      "outputs": [
        {
          "output_type": "display_data",
          "data": {
            "image/png": "[encoded data removed]",
            "text/plain": [
              "<Figure size 432x288 with 1 Axes>"
            ]
          },
          "metadata": {
            "tags": [],
            "needs_background": "light"
          }
        }
      ]
    },
    {
      "cell_type": "markdown",
      "metadata": {
        "id": "46vVM506dB7c"
      },
      "source": [
        "```python\n",
        "for _ in range(600):\n",
        "```\n",
        "の行は、\n",
        "```python\n",
        "for n in range(600):\n",
        "```\n",
        "と変わりはありません。\n",
        "本来は、0から599までの600個の数が順に`n`に代入されるのですが、この`n`はプログラムの中で一切使用されません。\n",
        "名前をつける必要もないので、ダミー記号`_`を代わりに用いたものです。\n",
        "\n",
        "### 演習 3-2\n",
        "演習 3-1の解答例において、\n",
        "- `one`は1の目の出現回数\n",
        "- `two`は2の目の出現回数\n",
        "- `three`は3の目の出現回数\n",
        "- `four`は4の目の出現回数\n",
        "- `five`は5の目の出現回数\n",
        "- `six`は6の目の出現回数\n",
        "を与えます。\n",
        "従って、実験の結果をリストで表すと、`[one, two, three, four, five, six]`となります。\n",
        "一方、フェアなサイコロをシミュレートできているとすると、\n",
        "実験結果の理論値は`[100, 100, 100, 100, 100, 100]`と期待できます。\n",
        "関数`scipy.stats.chisquare()`を使ったカイ二乗検定のやり方を思い出してもらえば、\n",
        "```python\n",
        "import scipy.stats\n",
        "print(scipy.stats.chisquare([one, two, three, four, five, six], [100, 100, 100, 100, 100, 100]))\n",
        "```\n",
        "を実行して、得られる`pvalue`が、例えば、0.05より大きいことを確認できれば、\n",
        "フェアなサイコロをシミュレートできると考えて良いことになります※\n",
        "。\n",
        "直下のコードセルでカイ二乗検定を実行して、結果を確認して下さい。\n",
        "\n",
        "※ この表現は科学的には正確ではありません。\n",
        "**サイコロがフェアではないことを示す証拠（エビデンス）はない**という表現が正確です。"
      ]
    },
    {
      "cell_type": "code",
      "metadata": {
        "id": "aMVqPM1ABuqw",
        "colab": {
          "base_uri": "https://localhost:8080/"
        },
        "outputId": "4329fd46-6e96-459d-8878-5ee8a7e55f15"
      },
      "source": [
        "import scipy.stats\n",
        "print(scipy.stats.chisquare([one, two, three, four, five, six], [100, 100, 100, 100, 100, 100]))"
      ],
      "execution_count": 3,
      "outputs": [
        {
          "output_type": "stream",
          "text": [
            "Power_divergenceResult(statistic=1.4000000000000001, pvalue=0.924313272801667)\n"
          ],
          "name": "stdout"
        }
      ]
    },
    {
      "cell_type": "markdown",
      "metadata": {
        "id": "Mecy-Q6YBuqw"
      },
      "source": [
        "## リストの要素へのアクセス\n",
        "では、この回の資料のテーマである、リストの要素へのアクセスについて見ていきます。\n",
        "\n",
        "演習 3-1の解答例として示したプログラムは、実は、大変要領の悪いプログラムで、\n",
        "もっと短く、スマートにすることができます。\n",
        "そのためには、リストの操作について、学ぶ必要があります。\n",
        "次のプログラムを見てください。\n",
        "同じ機能を実現していますが、随分とすっきりかけていることが分かると思います。\n",
        "```python\n",
        "import matplotlib.pyplot as plt\n",
        "import random as rnd\n",
        "count = [0, 0, 0, 0, 0, 0]\n",
        "for _ in range(600):\n",
        "  role = rnd.choice([1,2,3,4,5,6])\n",
        "  count[role - 1] += 1\n",
        "plt.bar(range(6), count, tick_label=[1, 2, 3, 4, 5, 6])\n",
        "plt.show()\n",
        "```"
      ]
    },
    {
      "cell_type": "code",
      "metadata": {
        "id": "3JXoDdTDYvMr",
        "colab": {
          "base_uri": "https://localhost:8080/",
          "height": 1000
        },
        "outputId": "2fa9774b-0cff-40ba-83d3-eeb906f00b48"
      },
      "source": [
        "import matplotlib.pyplot as plt\n",
        "import random as rnd\n",
        "count = [0,0,0,0,0,0]\n",
        "for _ in range(600):\n",
        "  role = rnd.choice([1,2,3,4,5,6])\n",
        "  count[role - 1] += 1\n",
        "  print(count)\n",
        "plt.bar(range(6), count, tick_label=[1,2,3,4,5,6])\n",
        "plt.show()"
      ],
      "execution_count": 5,
      "outputs": [
        {
          "output_type": "stream",
          "text": [
            "[1, 0, 0, 0, 0, 0]\n",
            "[1, 0, 0, 0, 1, 0]\n",
            "[1, 0, 0, 1, 1, 0]\n",
            "[1, 0, 0, 2, 1, 0]\n",
            "[1, 0, 0, 2, 1, 1]\n",
            "[1, 0, 1, 2, 1, 1]\n",
            "[2, 0, 1, 2, 1, 1]\n",
            "[2, 0, 1, 2, 2, 1]\n",
            "[2, 0, 2, 2, 2, 1]\n",
            "[2, 0, 2, 3, 2, 1]\n",
            "[2, 0, 3, 3, 2, 1]\n",
            "[2, 0, 4, 3, 2, 1]\n",
            "[2, 0, 4, 3, 2, 2]\n",
            "[3, 0, 4, 3, 2, 2]\n",
            "[3, 1, 4, 3, 2, 2]\n",
            "[3, 1, 4, 3, 2, 3]\n",
            "[3, 1, 4, 3, 2, 4]\n",
            "[3, 2, 4, 3, 2, 4]\n",
            "[3, 2, 5, 3, 2, 4]\n",
            "[3, 2, 5, 3, 2, 5]\n",
            "[4, 2, 5, 3, 2, 5]\n",
            "[4, 2, 5, 4, 2, 5]\n",
            "[4, 3, 5, 4, 2, 5]\n",
            "[4, 3, 5, 4, 2, 6]\n",
            "[4, 3, 5, 5, 2, 6]\n",
            "[4, 3, 6, 5, 2, 6]\n",
            "[4, 3, 6, 5, 2, 7]\n",
            "[5, 3, 6, 5, 2, 7]\n",
            "[5, 3, 6, 6, 2, 7]\n",
            "[5, 3, 6, 6, 2, 8]\n",
            "[5, 3, 6, 6, 3, 8]\n",
            "[5, 3, 7, 6, 3, 8]\n",
            "[5, 3, 8, 6, 3, 8]\n",
            "[5, 3, 9, 6, 3, 8]\n",
            "[5, 4, 9, 6, 3, 8]\n",
            "[5, 5, 9, 6, 3, 8]\n",
            "[5, 5, 9, 6, 3, 9]\n",
            "[5, 5, 9, 6, 3, 10]\n",
            "[5, 5, 9, 7, 3, 10]\n",
            "[5, 5, 9, 7, 3, 11]\n",
            "[5, 5, 9, 8, 3, 11]\n",
            "[5, 5, 9, 9, 3, 11]\n",
            "[5, 5, 10, 9, 3, 11]\n",
            "[5, 5, 11, 9, 3, 11]\n",
            "[5, 6, 11, 9, 3, 11]\n",
            "[5, 6, 12, 9, 3, 11]\n",
            "[5, 6, 13, 9, 3, 11]\n",
            "[5, 6, 13, 9, 4, 11]\n",
            "[5, 6, 13, 10, 4, 11]\n",
            "[5, 6, 13, 10, 5, 11]\n",
            "[6, 6, 13, 10, 5, 11]\n",
            "[6, 6, 13, 10, 6, 11]\n",
            "[6, 6, 13, 10, 6, 12]\n",
            "[6, 6, 13, 11, 6, 12]\n",
            "[6, 6, 13, 11, 7, 12]\n",
            "[6, 6, 13, 12, 7, 12]\n",
            "[6, 6, 13, 12, 8, 12]\n",
            "[6, 6, 14, 12, 8, 12]\n",
            "[6, 6, 15, 12, 8, 12]\n",
            "[7, 6, 15, 12, 8, 12]\n",
            "[8, 6, 15, 12, 8, 12]\n",
            "[8, 6, 15, 12, 8, 13]\n",
            "[8, 6, 15, 12, 8, 14]\n",
            "[8, 7, 15, 12, 8, 14]\n",
            "[8, 7, 15, 12, 8, 15]\n",
            "[8, 8, 15, 12, 8, 15]\n",
            "[8, 8, 15, 13, 8, 15]\n",
            "[8, 8, 15, 13, 9, 15]\n",
            "[8, 8, 15, 13, 9, 16]\n",
            "[8, 9, 15, 13, 9, 16]\n",
            "[8, 9, 15, 13, 9, 17]\n",
            "[8, 9, 16, 13, 9, 17]\n",
            "[8, 9, 16, 14, 9, 17]\n",
            "[8, 9, 16, 14, 9, 18]\n",
            "[8, 9, 17, 14, 9, 18]\n",
            "[8, 9, 17, 14, 9, 19]\n",
            "[8, 10, 17, 14, 9, 19]\n",
            "[9, 10, 17, 14, 9, 19]\n",
            "[9, 11, 17, 14, 9, 19]\n",
            "[9, 11, 17, 14, 10, 19]\n",
            "[9, 11, 18, 14, 10, 19]\n",
            "[10, 11, 18, 14, 10, 19]\n",
            "[10, 12, 18, 14, 10, 19]\n",
            "[10, 12, 18, 15, 10, 19]\n",
            "[10, 12, 18, 15, 10, 20]\n",
            "[10, 12, 18, 15, 10, 21]\n",
            "[10, 12, 18, 16, 10, 21]\n",
            "[11, 12, 18, 16, 10, 21]\n",
            "[11, 12, 18, 17, 10, 21]\n",
            "[11, 12, 18, 17, 11, 21]\n",
            "[11, 13, 18, 17, 11, 21]\n",
            "[11, 13, 18, 17, 11, 22]\n",
            "[11, 13, 18, 18, 11, 22]\n",
            "[11, 13, 18, 18, 12, 22]\n",
            "[11, 14, 18, 18, 12, 22]\n",
            "[11, 14, 18, 18, 13, 22]\n",
            "[12, 14, 18, 18, 13, 22]\n",
            "[12, 15, 18, 18, 13, 22]\n",
            "[12, 15, 18, 18, 13, 23]\n",
            "[12, 15, 18, 18, 14, 23]\n",
            "[12, 15, 19, 18, 14, 23]\n",
            "[12, 15, 20, 18, 14, 23]\n",
            "[13, 15, 20, 18, 14, 23]\n",
            "[13, 15, 21, 18, 14, 23]\n",
            "[13, 15, 22, 18, 14, 23]\n",
            "[13, 16, 22, 18, 14, 23]\n",
            "[13, 16, 23, 18, 14, 23]\n",
            "[13, 17, 23, 18, 14, 23]\n",
            "[13, 17, 23, 19, 14, 23]\n",
            "[13, 17, 23, 20, 14, 23]\n",
            "[13, 17, 23, 21, 14, 23]\n",
            "[13, 17, 23, 21, 15, 23]\n",
            "[13, 17, 23, 21, 15, 24]\n",
            "[13, 17, 24, 21, 15, 24]\n",
            "[13, 17, 24, 22, 15, 24]\n",
            "[13, 17, 24, 23, 15, 24]\n",
            "[13, 17, 24, 23, 15, 25]\n",
            "[13, 17, 24, 23, 16, 25]\n",
            "[13, 18, 24, 23, 16, 25]\n",
            "[14, 18, 24, 23, 16, 25]\n",
            "[14, 18, 25, 23, 16, 25]\n",
            "[14, 19, 25, 23, 16, 25]\n",
            "[14, 19, 25, 23, 17, 25]\n",
            "[15, 19, 25, 23, 17, 25]\n",
            "[15, 19, 25, 23, 17, 26]\n",
            "[15, 19, 25, 24, 17, 26]\n",
            "[15, 19, 25, 25, 17, 26]\n",
            "[15, 20, 25, 25, 17, 26]\n",
            "[15, 21, 25, 25, 17, 26]\n",
            "[15, 22, 25, 25, 17, 26]\n",
            "[15, 22, 25, 25, 18, 26]\n",
            "[15, 22, 25, 25, 19, 26]\n",
            "[15, 22, 26, 25, 19, 26]\n",
            "[15, 22, 27, 25, 19, 26]\n",
            "[15, 23, 27, 25, 19, 26]\n",
            "[15, 23, 28, 25, 19, 26]\n",
            "[15, 23, 28, 25, 20, 26]\n",
            "[15, 24, 28, 25, 20, 26]\n",
            "[15, 24, 29, 25, 20, 26]\n",
            "[15, 24, 29, 25, 21, 26]\n",
            "[15, 24, 30, 25, 21, 26]\n",
            "[15, 24, 30, 25, 21, 27]\n",
            "[15, 24, 30, 25, 21, 28]\n",
            "[15, 25, 30, 25, 21, 28]\n",
            "[15, 25, 30, 26, 21, 28]\n",
            "[15, 25, 30, 26, 21, 29]\n",
            "[15, 25, 31, 26, 21, 29]\n",
            "[15, 25, 31, 26, 21, 30]\n",
            "[15, 25, 31, 26, 21, 31]\n",
            "[15, 25, 32, 26, 21, 31]\n",
            "[15, 25, 32, 26, 21, 32]\n",
            "[15, 26, 32, 26, 21, 32]\n",
            "[15, 27, 32, 26, 21, 32]\n",
            "[15, 27, 33, 26, 21, 32]\n",
            "[15, 28, 33, 26, 21, 32]\n",
            "[15, 29, 33, 26, 21, 32]\n",
            "[15, 30, 33, 26, 21, 32]\n",
            "[15, 31, 33, 26, 21, 32]\n",
            "[15, 31, 33, 26, 22, 32]\n",
            "[15, 31, 34, 26, 22, 32]\n",
            "[15, 31, 34, 27, 22, 32]\n",
            "[15, 31, 34, 27, 23, 32]\n",
            "[15, 31, 34, 27, 23, 33]\n",
            "[15, 31, 34, 28, 23, 33]\n",
            "[15, 32, 34, 28, 23, 33]\n",
            "[15, 32, 35, 28, 23, 33]\n",
            "[15, 32, 35, 28, 24, 33]\n",
            "[15, 32, 35, 28, 24, 34]\n",
            "[15, 32, 35, 28, 25, 34]\n",
            "[15, 32, 36, 28, 25, 34]\n",
            "[15, 32, 36, 28, 26, 34]\n",
            "[15, 33, 36, 28, 26, 34]\n",
            "[15, 33, 36, 29, 26, 34]\n",
            "[15, 33, 36, 29, 26, 35]\n",
            "[15, 33, 36, 30, 26, 35]\n",
            "[16, 33, 36, 30, 26, 35]\n",
            "[16, 33, 36, 31, 26, 35]\n",
            "[17, 33, 36, 31, 26, 35]\n",
            "[18, 33, 36, 31, 26, 35]\n",
            "[18, 33, 36, 31, 27, 35]\n",
            "[19, 33, 36, 31, 27, 35]\n",
            "[19, 33, 36, 32, 27, 35]\n",
            "[19, 33, 36, 32, 28, 35]\n",
            "[19, 33, 37, 32, 28, 35]\n",
            "[19, 33, 38, 32, 28, 35]\n",
            "[19, 33, 38, 32, 29, 35]\n",
            "[20, 33, 38, 32, 29, 35]\n",
            "[20, 33, 38, 32, 29, 36]\n",
            "[20, 33, 39, 32, 29, 36]\n",
            "[20, 33, 40, 32, 29, 36]\n",
            "[20, 33, 40, 32, 30, 36]\n",
            "[20, 33, 41, 32, 30, 36]\n",
            "[20, 33, 41, 32, 31, 36]\n",
            "[20, 33, 41, 32, 31, 37]\n",
            "[20, 34, 41, 32, 31, 37]\n",
            "[20, 34, 41, 33, 31, 37]\n",
            "[21, 34, 41, 33, 31, 37]\n",
            "[21, 34, 41, 33, 31, 38]\n",
            "[21, 35, 41, 33, 31, 38]\n",
            "[21, 35, 41, 33, 31, 39]\n",
            "[21, 35, 42, 33, 31, 39]\n",
            "[21, 35, 43, 33, 31, 39]\n",
            "[21, 36, 43, 33, 31, 39]\n",
            "[21, 37, 43, 33, 31, 39]\n",
            "[21, 37, 43, 34, 31, 39]\n",
            "[21, 37, 43, 35, 31, 39]\n",
            "[22, 37, 43, 35, 31, 39]\n",
            "[22, 37, 43, 35, 32, 39]\n",
            "[22, 37, 43, 36, 32, 39]\n",
            "[22, 37, 43, 36, 32, 40]\n",
            "[22, 37, 43, 36, 33, 40]\n",
            "[23, 37, 43, 36, 33, 40]\n",
            "[24, 37, 43, 36, 33, 40]\n",
            "[24, 37, 44, 36, 33, 40]\n",
            "[24, 38, 44, 36, 33, 40]\n",
            "[24, 38, 45, 36, 33, 40]\n",
            "[24, 38, 45, 36, 34, 40]\n",
            "[24, 38, 46, 36, 34, 40]\n",
            "[24, 38, 46, 36, 34, 41]\n",
            "[25, 38, 46, 36, 34, 41]\n",
            "[25, 38, 47, 36, 34, 41]\n",
            "[25, 38, 47, 36, 35, 41]\n",
            "[25, 38, 48, 36, 35, 41]\n",
            "[25, 38, 49, 36, 35, 41]\n",
            "[26, 38, 49, 36, 35, 41]\n",
            "[27, 38, 49, 36, 35, 41]\n",
            "[27, 39, 49, 36, 35, 41]\n",
            "[27, 39, 49, 37, 35, 41]\n",
            "[27, 40, 49, 37, 35, 41]\n",
            "[27, 40, 49, 37, 35, 42]\n",
            "[27, 40, 49, 37, 36, 42]\n",
            "[27, 40, 49, 38, 36, 42]\n",
            "[27, 40, 49, 38, 37, 42]\n",
            "[27, 40, 49, 39, 37, 42]\n",
            "[27, 40, 49, 39, 37, 43]\n",
            "[27, 40, 49, 40, 37, 43]\n",
            "[27, 40, 50, 40, 37, 43]\n",
            "[27, 41, 50, 40, 37, 43]\n",
            "[27, 41, 51, 40, 37, 43]\n",
            "[27, 41, 51, 41, 37, 43]\n",
            "[27, 41, 51, 41, 38, 43]\n",
            "[27, 41, 51, 42, 38, 43]\n",
            "[27, 41, 52, 42, 38, 43]\n",
            "[27, 41, 52, 42, 38, 44]\n",
            "[27, 41, 52, 42, 39, 44]\n",
            "[27, 41, 52, 42, 39, 45]\n",
            "[27, 41, 52, 42, 40, 45]\n",
            "[28, 41, 52, 42, 40, 45]\n",
            "[28, 41, 52, 42, 41, 45]\n",
            "[29, 41, 52, 42, 41, 45]\n",
            "[29, 41, 52, 43, 41, 45]\n",
            "[29, 41, 53, 43, 41, 45]\n",
            "[29, 41, 53, 44, 41, 45]\n",
            "[29, 41, 54, 44, 41, 45]\n",
            "[29, 42, 54, 44, 41, 45]\n",
            "[29, 42, 54, 45, 41, 45]\n",
            "[29, 42, 54, 45, 42, 45]\n",
            "[29, 43, 54, 45, 42, 45]\n",
            "[29, 44, 54, 45, 42, 45]\n",
            "[30, 44, 54, 45, 42, 45]\n",
            "[31, 44, 54, 45, 42, 45]\n",
            "[31, 44, 54, 45, 43, 45]\n",
            "[31, 44, 54, 45, 44, 45]\n",
            "[31, 44, 55, 45, 44, 45]\n",
            "[32, 44, 55, 45, 44, 45]\n",
            "[32, 44, 56, 45, 44, 45]\n",
            "[33, 44, 56, 45, 44, 45]\n",
            "[33, 45, 56, 45, 44, 45]\n",
            "[33, 45, 56, 46, 44, 45]\n",
            "[33, 45, 56, 47, 44, 45]\n",
            "[33, 45, 56, 47, 45, 45]\n",
            "[34, 45, 56, 47, 45, 45]\n",
            "[34, 45, 56, 47, 45, 46]\n",
            "[34, 45, 56, 47, 45, 47]\n",
            "[34, 45, 56, 48, 45, 47]\n",
            "[34, 45, 57, 48, 45, 47]\n",
            "[34, 45, 57, 48, 45, 48]\n",
            "[34, 45, 58, 48, 45, 48]\n",
            "[34, 45, 58, 48, 46, 48]\n",
            "[35, 45, 58, 48, 46, 48]\n",
            "[35, 45, 58, 48, 47, 48]\n",
            "[35, 45, 58, 48, 48, 48]\n",
            "[35, 46, 58, 48, 48, 48]\n",
            "[35, 46, 58, 48, 48, 49]\n",
            "[36, 46, 58, 48, 48, 49]\n",
            "[36, 46, 58, 49, 48, 49]\n",
            "[36, 47, 58, 49, 48, 49]\n",
            "[36, 47, 58, 50, 48, 49]\n",
            "[36, 47, 59, 50, 48, 49]\n",
            "[36, 47, 59, 50, 48, 50]\n",
            "[36, 47, 59, 50, 48, 51]\n",
            "[36, 47, 59, 50, 49, 51]\n",
            "[36, 47, 60, 50, 49, 51]\n",
            "[36, 48, 60, 50, 49, 51]\n",
            "[36, 49, 60, 50, 49, 51]\n",
            "[36, 49, 60, 50, 49, 52]\n",
            "[37, 49, 60, 50, 49, 52]\n",
            "[37, 49, 61, 50, 49, 52]\n",
            "[37, 50, 61, 50, 49, 52]\n",
            "[37, 50, 61, 51, 49, 52]\n",
            "[37, 50, 61, 51, 50, 52]\n",
            "[37, 50, 61, 51, 51, 52]\n",
            "[38, 50, 61, 51, 51, 52]\n",
            "[38, 51, 61, 51, 51, 52]\n",
            "[39, 51, 61, 51, 51, 52]\n",
            "[40, 51, 61, 51, 51, 52]\n",
            "[40, 51, 61, 51, 52, 52]\n",
            "[40, 52, 61, 51, 52, 52]\n",
            "[40, 52, 61, 52, 52, 52]\n",
            "[40, 53, 61, 52, 52, 52]\n",
            "[40, 53, 62, 52, 52, 52]\n",
            "[40, 54, 62, 52, 52, 52]\n",
            "[40, 54, 62, 52, 53, 52]\n",
            "[41, 54, 62, 52, 53, 52]\n",
            "[41, 54, 62, 52, 53, 53]\n",
            "[41, 54, 62, 53, 53, 53]\n",
            "[41, 55, 62, 53, 53, 53]\n",
            "[41, 56, 62, 53, 53, 53]\n",
            "[41, 56, 62, 53, 53, 54]\n",
            "[41, 57, 62, 53, 53, 54]\n",
            "[42, 57, 62, 53, 53, 54]\n",
            "[43, 57, 62, 53, 53, 54]\n",
            "[43, 57, 62, 53, 54, 54]\n",
            "[43, 58, 62, 53, 54, 54]\n",
            "[43, 58, 62, 54, 54, 54]\n",
            "[43, 58, 62, 55, 54, 54]\n",
            "[43, 58, 63, 55, 54, 54]\n",
            "[43, 58, 63, 55, 55, 54]\n",
            "[43, 58, 63, 55, 55, 55]\n",
            "[43, 59, 63, 55, 55, 55]\n",
            "[43, 59, 63, 55, 56, 55]\n",
            "[43, 60, 63, 55, 56, 55]\n",
            "[44, 60, 63, 55, 56, 55]\n",
            "[45, 60, 63, 55, 56, 55]\n",
            "[45, 60, 63, 55, 57, 55]\n",
            "[45, 60, 63, 56, 57, 55]\n",
            "[45, 61, 63, 56, 57, 55]\n",
            "[45, 61, 64, 56, 57, 55]\n",
            "[45, 61, 64, 56, 57, 56]\n",
            "[45, 61, 64, 57, 57, 56]\n",
            "[45, 61, 65, 57, 57, 56]\n",
            "[45, 62, 65, 57, 57, 56]\n",
            "[45, 62, 66, 57, 57, 56]\n",
            "[45, 62, 66, 58, 57, 56]\n",
            "[45, 62, 66, 58, 58, 56]\n",
            "[45, 62, 66, 59, 58, 56]\n",
            "[46, 62, 66, 59, 58, 56]\n",
            "[46, 63, 66, 59, 58, 56]\n",
            "[46, 63, 66, 60, 58, 56]\n",
            "[46, 63, 67, 60, 58, 56]\n",
            "[46, 63, 67, 61, 58, 56]\n",
            "[46, 63, 67, 61, 58, 57]\n",
            "[46, 63, 67, 61, 59, 57]\n",
            "[46, 64, 67, 61, 59, 57]\n",
            "[46, 64, 67, 62, 59, 57]\n",
            "[46, 64, 68, 62, 59, 57]\n",
            "[46, 64, 68, 63, 59, 57]\n",
            "[47, 64, 68, 63, 59, 57]\n",
            "[47, 64, 68, 63, 59, 58]\n",
            "[47, 64, 69, 63, 59, 58]\n",
            "[47, 64, 69, 63, 59, 59]\n",
            "[48, 64, 69, 63, 59, 59]\n",
            "[48, 64, 70, 63, 59, 59]\n",
            "[48, 64, 71, 63, 59, 59]\n",
            "[48, 64, 71, 63, 59, 60]\n",
            "[48, 64, 71, 63, 59, 61]\n",
            "[48, 65, 71, 63, 59, 61]\n",
            "[48, 66, 71, 63, 59, 61]\n",
            "[48, 66, 71, 64, 59, 61]\n",
            "[48, 67, 71, 64, 59, 61]\n",
            "[48, 67, 71, 65, 59, 61]\n",
            "[48, 67, 71, 65, 60, 61]\n",
            "[48, 67, 71, 65, 60, 62]\n",
            "[48, 67, 71, 66, 60, 62]\n",
            "[48, 67, 71, 67, 60, 62]\n",
            "[48, 67, 72, 67, 60, 62]\n",
            "[48, 67, 73, 67, 60, 62]\n",
            "[48, 67, 74, 67, 60, 62]\n",
            "[48, 67, 75, 67, 60, 62]\n",
            "[49, 67, 75, 67, 60, 62]\n",
            "[49, 68, 75, 67, 60, 62]\n",
            "[49, 68, 75, 67, 60, 63]\n",
            "[50, 68, 75, 67, 60, 63]\n",
            "[50, 68, 75, 68, 60, 63]\n",
            "[50, 68, 75, 68, 60, 64]\n",
            "[50, 68, 75, 69, 60, 64]\n",
            "[50, 68, 75, 69, 61, 64]\n",
            "[50, 68, 76, 69, 61, 64]\n",
            "[50, 69, 76, 69, 61, 64]\n",
            "[51, 69, 76, 69, 61, 64]\n",
            "[51, 69, 76, 70, 61, 64]\n",
            "[51, 69, 76, 70, 61, 65]\n",
            "[51, 69, 76, 70, 62, 65]\n",
            "[51, 69, 76, 70, 63, 65]\n",
            "[52, 69, 76, 70, 63, 65]\n",
            "[52, 69, 76, 71, 63, 65]\n",
            "[52, 69, 76, 71, 64, 65]\n",
            "[52, 69, 77, 71, 64, 65]\n",
            "[52, 69, 77, 71, 64, 66]\n",
            "[52, 69, 77, 71, 65, 66]\n",
            "[52, 69, 77, 71, 66, 66]\n",
            "[53, 69, 77, 71, 66, 66]\n",
            "[53, 69, 78, 71, 66, 66]\n",
            "[53, 69, 78, 72, 66, 66]\n",
            "[53, 70, 78, 72, 66, 66]\n",
            "[53, 70, 79, 72, 66, 66]\n",
            "[53, 70, 79, 72, 67, 66]\n",
            "[53, 70, 79, 72, 68, 66]\n",
            "[53, 71, 79, 72, 68, 66]\n",
            "[53, 71, 79, 73, 68, 66]\n",
            "[54, 71, 79, 73, 68, 66]\n",
            "[55, 71, 79, 73, 68, 66]\n",
            "[55, 72, 79, 73, 68, 66]\n",
            "[56, 72, 79, 73, 68, 66]\n",
            "[57, 72, 79, 73, 68, 66]\n",
            "[57, 72, 80, 73, 68, 66]\n",
            "[57, 73, 80, 73, 68, 66]\n",
            "[57, 73, 80, 73, 69, 66]\n",
            "[57, 74, 80, 73, 69, 66]\n",
            "[57, 74, 80, 73, 69, 67]\n",
            "[57, 74, 80, 73, 70, 67]\n",
            "[57, 74, 80, 73, 71, 67]\n",
            "[57, 75, 80, 73, 71, 67]\n",
            "[57, 76, 80, 73, 71, 67]\n",
            "[58, 76, 80, 73, 71, 67]\n",
            "[58, 76, 80, 74, 71, 67]\n",
            "[58, 76, 80, 74, 72, 67]\n",
            "[58, 76, 80, 74, 72, 68]\n",
            "[59, 76, 80, 74, 72, 68]\n",
            "[60, 76, 80, 74, 72, 68]\n",
            "[60, 76, 80, 75, 72, 68]\n",
            "[60, 76, 81, 75, 72, 68]\n",
            "[60, 76, 81, 75, 73, 68]\n",
            "[60, 76, 81, 75, 74, 68]\n",
            "[61, 76, 81, 75, 74, 68]\n",
            "[62, 76, 81, 75, 74, 68]\n",
            "[63, 76, 81, 75, 74, 68]\n",
            "[63, 76, 81, 75, 74, 69]\n",
            "[63, 76, 81, 76, 74, 69]\n",
            "[63, 77, 81, 76, 74, 69]\n",
            "[63, 77, 81, 77, 74, 69]\n",
            "[63, 77, 81, 77, 74, 70]\n",
            "[64, 77, 81, 77, 74, 70]\n",
            "[64, 77, 82, 77, 74, 70]\n",
            "[64, 77, 83, 77, 74, 70]\n",
            "[65, 77, 83, 77, 74, 70]\n",
            "[65, 77, 83, 77, 74, 71]\n",
            "[65, 78, 83, 77, 74, 71]\n",
            "[65, 78, 84, 77, 74, 71]\n",
            "[65, 78, 85, 77, 74, 71]\n",
            "[65, 78, 86, 77, 74, 71]\n",
            "[65, 78, 86, 78, 74, 71]\n",
            "[65, 78, 87, 78, 74, 71]\n",
            "[65, 79, 87, 78, 74, 71]\n",
            "[65, 79, 87, 78, 74, 72]\n",
            "[65, 79, 87, 78, 75, 72]\n",
            "[65, 79, 87, 79, 75, 72]\n",
            "[66, 79, 87, 79, 75, 72]\n",
            "[66, 79, 87, 79, 76, 72]\n",
            "[66, 79, 87, 79, 77, 72]\n",
            "[66, 79, 87, 79, 78, 72]\n",
            "[66, 80, 87, 79, 78, 72]\n",
            "[67, 80, 87, 79, 78, 72]\n",
            "[67, 80, 87, 79, 79, 72]\n",
            "[68, 80, 87, 79, 79, 72]\n",
            "[68, 80, 87, 80, 79, 72]\n",
            "[68, 80, 87, 80, 80, 72]\n",
            "[68, 80, 87, 80, 81, 72]\n",
            "[69, 80, 87, 80, 81, 72]\n",
            "[69, 81, 87, 80, 81, 72]\n",
            "[69, 81, 87, 80, 82, 72]\n",
            "[69, 81, 88, 80, 82, 72]\n",
            "[69, 81, 88, 80, 83, 72]\n",
            "[69, 81, 88, 80, 84, 72]\n",
            "[69, 81, 88, 80, 85, 72]\n",
            "[69, 81, 88, 80, 85, 73]\n",
            "[69, 81, 88, 80, 86, 73]\n",
            "[70, 81, 88, 80, 86, 73]\n",
            "[71, 81, 88, 80, 86, 73]\n",
            "[71, 82, 88, 80, 86, 73]\n",
            "[71, 82, 89, 80, 86, 73]\n",
            "[71, 83, 89, 80, 86, 73]\n",
            "[71, 83, 89, 81, 86, 73]\n",
            "[71, 83, 89, 81, 87, 73]\n",
            "[71, 83, 89, 81, 88, 73]\n",
            "[72, 83, 89, 81, 88, 73]\n",
            "[72, 83, 90, 81, 88, 73]\n",
            "[72, 83, 90, 81, 89, 73]\n",
            "[73, 83, 90, 81, 89, 73]\n",
            "[74, 83, 90, 81, 89, 73]\n",
            "[74, 83, 90, 82, 89, 73]\n",
            "[74, 83, 90, 82, 90, 73]\n",
            "[74, 83, 91, 82, 90, 73]\n",
            "[74, 83, 91, 83, 90, 73]\n",
            "[74, 83, 91, 83, 90, 74]\n",
            "[74, 83, 91, 83, 90, 75]\n",
            "[75, 83, 91, 83, 90, 75]\n",
            "[75, 84, 91, 83, 90, 75]\n",
            "[75, 84, 92, 83, 90, 75]\n",
            "[75, 84, 92, 83, 90, 76]\n",
            "[75, 84, 92, 83, 90, 77]\n",
            "[75, 84, 93, 83, 90, 77]\n",
            "[75, 84, 93, 84, 90, 77]\n",
            "[75, 85, 93, 84, 90, 77]\n",
            "[75, 85, 93, 85, 90, 77]\n",
            "[75, 85, 93, 86, 90, 77]\n",
            "[75, 85, 93, 86, 90, 78]\n",
            "[75, 85, 93, 87, 90, 78]\n",
            "[75, 85, 93, 87, 90, 79]\n",
            "[75, 86, 93, 87, 90, 79]\n",
            "[75, 86, 93, 87, 91, 79]\n",
            "[75, 86, 93, 88, 91, 79]\n",
            "[75, 86, 94, 88, 91, 79]\n",
            "[76, 86, 94, 88, 91, 79]\n",
            "[76, 86, 94, 89, 91, 79]\n",
            "[77, 86, 94, 89, 91, 79]\n",
            "[77, 86, 94, 90, 91, 79]\n",
            "[78, 86, 94, 90, 91, 79]\n",
            "[79, 86, 94, 90, 91, 79]\n",
            "[79, 86, 94, 90, 92, 79]\n",
            "[79, 86, 95, 90, 92, 79]\n",
            "[79, 86, 95, 91, 92, 79]\n",
            "[79, 86, 95, 91, 93, 79]\n",
            "[79, 86, 95, 91, 93, 80]\n",
            "[79, 86, 95, 91, 93, 81]\n",
            "[79, 86, 95, 91, 93, 82]\n",
            "[79, 86, 96, 91, 93, 82]\n",
            "[79, 86, 96, 91, 94, 82]\n",
            "[79, 86, 96, 92, 94, 82]\n",
            "[79, 86, 96, 92, 95, 82]\n",
            "[79, 86, 96, 92, 95, 83]\n",
            "[79, 86, 96, 92, 95, 84]\n",
            "[79, 86, 97, 92, 95, 84]\n",
            "[80, 86, 97, 92, 95, 84]\n",
            "[80, 86, 97, 92, 96, 84]\n",
            "[80, 87, 97, 92, 96, 84]\n",
            "[80, 87, 98, 92, 96, 84]\n",
            "[80, 87, 98, 92, 97, 84]\n",
            "[80, 87, 98, 92, 98, 84]\n",
            "[80, 87, 99, 92, 98, 84]\n",
            "[81, 87, 99, 92, 98, 84]\n",
            "[81, 87, 100, 92, 98, 84]\n",
            "[81, 87, 101, 92, 98, 84]\n",
            "[82, 87, 101, 92, 98, 84]\n",
            "[83, 87, 101, 92, 98, 84]\n",
            "[83, 87, 102, 92, 98, 84]\n",
            "[83, 87, 103, 92, 98, 84]\n",
            "[83, 87, 103, 92, 99, 84]\n",
            "[83, 88, 103, 92, 99, 84]\n",
            "[83, 88, 103, 93, 99, 84]\n",
            "[83, 88, 104, 93, 99, 84]\n",
            "[83, 88, 104, 94, 99, 84]\n",
            "[83, 88, 105, 94, 99, 84]\n",
            "[83, 89, 105, 94, 99, 84]\n",
            "[83, 89, 105, 94, 99, 85]\n",
            "[83, 89, 105, 94, 99, 86]\n",
            "[83, 90, 105, 94, 99, 86]\n",
            "[83, 90, 106, 94, 99, 86]\n",
            "[83, 91, 106, 94, 99, 86]\n",
            "[83, 91, 106, 94, 100, 86]\n",
            "[83, 91, 106, 95, 100, 86]\n",
            "[84, 91, 106, 95, 100, 86]\n",
            "[84, 91, 107, 95, 100, 86]\n",
            "[84, 91, 107, 96, 100, 86]\n",
            "[84, 91, 107, 96, 101, 86]\n",
            "[84, 92, 107, 96, 101, 86]\n",
            "[85, 92, 107, 96, 101, 86]\n",
            "[85, 93, 107, 96, 101, 86]\n",
            "[85, 93, 107, 96, 101, 87]\n",
            "[85, 93, 108, 96, 101, 87]\n",
            "[86, 93, 108, 96, 101, 87]\n",
            "[86, 93, 109, 96, 101, 87]\n",
            "[87, 93, 109, 96, 101, 87]\n",
            "[87, 93, 109, 96, 102, 87]\n",
            "[87, 94, 109, 96, 102, 87]\n",
            "[87, 94, 109, 97, 102, 87]\n",
            "[87, 94, 109, 97, 103, 87]\n",
            "[87, 94, 109, 97, 104, 87]\n",
            "[87, 94, 110, 97, 104, 87]\n",
            "[88, 94, 110, 97, 104, 87]\n",
            "[88, 94, 110, 97, 104, 88]\n",
            "[88, 94, 110, 98, 104, 88]\n",
            "[88, 94, 111, 98, 104, 88]\n",
            "[88, 95, 111, 98, 104, 88]\n",
            "[88, 95, 111, 98, 104, 89]\n",
            "[88, 95, 112, 98, 104, 89]\n",
            "[88, 95, 112, 98, 104, 90]\n",
            "[88, 95, 112, 98, 104, 91]\n",
            "[89, 95, 112, 98, 104, 91]\n",
            "[89, 96, 112, 98, 104, 91]\n",
            "[89, 97, 112, 98, 104, 91]\n",
            "[89, 97, 112, 98, 105, 91]\n",
            "[89, 97, 112, 98, 105, 92]\n",
            "[89, 97, 112, 98, 106, 92]\n",
            "[89, 97, 112, 98, 107, 92]\n",
            "[89, 97, 112, 98, 107, 93]\n",
            "[89, 97, 112, 98, 108, 93]\n",
            "[89, 98, 112, 98, 108, 93]\n",
            "[89, 98, 112, 99, 108, 93]\n",
            "[90, 98, 112, 99, 108, 93]\n"
          ],
          "name": "stdout"
        },
        {
          "output_type": "display_data",
          "data": {
            "image/png": "[encoded data removed]",
            "text/plain": [
              "<Figure size 432x288 with 1 Axes>"
            ]
          },
          "metadata": {
            "tags": [],
            "needs_background": "light"
          }
        }
      ]
    },
    {
      "cell_type": "markdown",
      "metadata": {
        "id": "XGPzz_Deqmmf"
      },
      "source": [
        "リストは要素（オブジェクト）の列です。\n",
        "```python\n",
        "for m in ['January', 'February', 'March', 'April', 'May', 'June', 'July', 'August', 'September', 'October', 'November', 'December']:\n",
        "  print(m)\n",
        "```\n",
        "では、`m`の名前で`'January'`から`'December'`まで、順番に文字列オブジェクトの呼び出し（アクセスし）、\n",
        "`m`の値を表示しています。\n",
        "`for`文を使うと、**先頭から順番に要素にアクセス**します。\n",
        "\n",
        "一方、リストの中の要素には、0から始まる番号が与えられていて、その番号で直接要素を呼び出す（アクセスする）ことができます。\n",
        "**最初の要素は0番目で、1番目でない**ことに注意してください。\n",
        "他のプログラミング言語ではリストを配列と呼びますが、配列の最初の要素を0番と考えるのは、\n",
        "C、C++、Javaなど、多くのプログラミング言語で共通の作法です。\n",
        "\n",
        "この番号を利用して、リスト内の要素に任意の順番でアクセスすることが可能になります。\n",
        "実際、`リスト名[番号]`は、番号が指定するリストの要素を指し示します。\n",
        "次のプログラムを実行して下さい。\n",
        "```python\n",
        "month = ['January', 'February', 'March', 'April', 'May', 'June', 'July', 'August', 'September', 'October', 'November', 'December']\n",
        "print(month[0])\n",
        "print(month[1])\n",
        "print(month[2])\n",
        "print(month[3])\n",
        "print(month[4])\n",
        "print(month[5])\n",
        "print(month[6])\n",
        "print(month[7])\n",
        "print(month[8])\n",
        "print(month[9])\n",
        "print(month[10])\n",
        "print(month[11])\n",
        "```"
      ]
    },
    {
      "cell_type": "code",
      "metadata": {
        "id": "pMIw659geiFi",
        "colab": {
          "base_uri": "https://localhost:8080/"
        },
        "outputId": "c7f6e88a-1fdb-42d5-eebc-8f430a7946fd"
      },
      "source": [
        "month = ['January', 'February', 'March', 'April', 'May', 'June', 'July', 'August', 'September', 'October', 'November', 'December']\n",
        "print(month[0])\n",
        "print(month[1])\n",
        "print(month[2])\n",
        "print(month[3])\n",
        "print(month[4])\n",
        "print(month[5])\n",
        "print(month[6])\n",
        "print(month[7])\n",
        "print(month[8])\n",
        "print(month[9])\n",
        "print(month[10])\n",
        "print(month[11])"
      ],
      "execution_count": 6,
      "outputs": [
        {
          "output_type": "stream",
          "text": [
            "January\n",
            "February\n",
            "March\n",
            "April\n",
            "May\n",
            "June\n",
            "July\n",
            "August\n",
            "September\n",
            "October\n",
            "November\n",
            "December\n"
          ],
          "name": "stdout"
        }
      ]
    },
    {
      "cell_type": "markdown",
      "metadata": {
        "id": "pgv9TMuS3wPb"
      },
      "source": [
        "このプログラムは、次のプログラムとも同じです。\n",
        "```python\n",
        "for n in range(12):\n",
        "  print(month[n])\n",
        "```"
      ]
    },
    {
      "cell_type": "code",
      "metadata": {
        "id": "P7srFON9eoIg",
        "colab": {
          "base_uri": "https://localhost:8080/"
        },
        "outputId": "9666e848-cfb4-415a-cdb7-a19f874e7664"
      },
      "source": [
        "for n in range(12):\n",
        "  print(month[n])"
      ],
      "execution_count": 7,
      "outputs": [
        {
          "output_type": "stream",
          "text": [
            "January\n",
            "February\n",
            "March\n",
            "April\n",
            "May\n",
            "June\n",
            "July\n",
            "August\n",
            "September\n",
            "October\n",
            "November\n",
            "December\n"
          ],
          "name": "stdout"
        }
      ]
    },
    {
      "cell_type": "markdown",
      "metadata": {
        "id": "DkaKwhzqBuqy"
      },
      "source": [
        "`range(12)`が`[0,1,2,3,4,5,6,7,8,9,10.11]`と同等であることがよく分かると思います。\n",
        "\n",
        "次の二つのプログラムを実行してみて、どのような規則で月の名前を表示するか考えてみてください。\n",
        "\n",
        "**プログラム1**\n",
        "```python\n",
        "for n in [3, 4, 5, 6, 7, 8, 9, 10, 11, 0, 1, 2]:\n",
        "    print(month[n])\n",
        "```\n",
        "**プログラム2**\n",
        "```python\n",
        "for n in [3, 7, 11, 1, 0, 6, 5, 2, 4, 9, 10, 8]:\n",
        "    print(month[n])\n",
        "```"
      ]
    },
    {
      "cell_type": "code",
      "metadata": {
        "id": "3lbL3lKdBuqz",
        "colab": {
          "base_uri": "https://localhost:8080/"
        },
        "outputId": "92fa8fe0-8218-47aa-de1e-d1191f387921"
      },
      "source": [
        "for n in [3, 4, 5, 6, 7, 8, 9, 10, 11, 0, 1, 2]:\n",
        "    print(month[n])"
      ],
      "execution_count": 8,
      "outputs": [
        {
          "output_type": "stream",
          "text": [
            "April\n",
            "May\n",
            "June\n",
            "July\n",
            "August\n",
            "September\n",
            "October\n",
            "November\n",
            "December\n",
            "January\n",
            "February\n",
            "March\n"
          ],
          "name": "stdout"
        }
      ]
    },
    {
      "cell_type": "code",
      "metadata": {
        "id": "LqgILfatBuqz",
        "colab": {
          "base_uri": "https://localhost:8080/"
        },
        "outputId": "bb80b658-e415-4ff6-ba78-faddbdc7332c"
      },
      "source": [
        "for n in [3, 7, 11, 1, 0, 6, 5, 2, 4, 9, 10, 8]:\n",
        "    print(month[n])"
      ],
      "execution_count": 9,
      "outputs": [
        {
          "output_type": "stream",
          "text": [
            "April\n",
            "August\n",
            "December\n",
            "February\n",
            "January\n",
            "July\n",
            "June\n",
            "March\n",
            "May\n",
            "October\n",
            "November\n",
            "September\n"
          ],
          "name": "stdout"
        }
      ]
    },
    {
      "cell_type": "markdown",
      "metadata": {
        "id": "0g5NCM7K4aSb"
      },
      "source": [
        "プログラム1は、年度初めの4月から始まって年度末の3月で終わるように、月の名前を表示します。\n",
        "一方、プログラム2は、ABC順で月の名前を表示します。\n",
        "\n",
        "では、先のプログラム\n",
        "```python\n",
        "count = [0, 0, 0, 0, 0, 0]\n",
        "for _ in range(600):\n",
        "  role = rnd.choice([1,2,3,4,5,6])\n",
        "  count[role-1] += 1\n",
        "plt.bar(range(6), count, tick_label=[1, 2, 3, 4, 5, 6])\n",
        "```\n",
        "を詳細に見てみましょう。\n",
        "リスト`count`は、0番から5番までの番号がふられた６つの数字オブジェクトからなり、順に、サイコロの目1〜6までが出た回数を表すカウンタです。\n",
        "```python\n",
        "count = [0, 0, 0, 0, 0, 0, 0]\n",
        "```\n",
        "では、全てのカウンタを初期値0にセットしています。\n",
        "```python\n",
        "for _ in range(600):\n",
        "```\n",
        "により、サイコロをふる回数を600回に設定しています。\n",
        "```python\n",
        "  role = rnd.choice([1,2,3,4,5,6])\n",
        "```\n",
        "ではサイコロを一回ふり、出目に`role`という名前を与えます。\n",
        "リスト`count`の中の要素は0番から番号がふられますので、`role`の出目のカウンタは`count`の中で`role-1`番目の要素になります。\n",
        "例えば、出目1に対応するカウンタは`count[0]`、\n",
        "出目2に対応するカウンタは`count[1]`になります。\n",
        "一般に、\n",
        "`role`の出目のカウンタには`count[role-1]`でアクセスすることができ、\n",
        "カウンタの値を1増やすためには、\n",
        "```python\n",
        "  count[role-1] += 1\n",
        "```\n",
        "を実行すれば良いことになります。\n",
        "\n",
        "次のプログラムの実行してみて、その結果を見ればよく理解できると思います。\n",
        "```python\n",
        "import random as rnd\n",
        "count = [0,0,0,0,0,0]\n",
        "\n",
        "role = rnd.choice([1,2,3,4,5,6])\n",
        "count[role-1] += 1\n",
        "print(\"出目は\", role, \"、現在のカウントは\", count)\n",
        "role = rnd.choice([1,2,3,4,5,6])\n",
        "count[role-1] += 1\n",
        "print(\"出目は\", role, \"、現在のカウントは\", count)\n",
        "role = rnd.choice([1,2,3,4,5,6])\n",
        "count[role-1] += 1\n",
        "print(\"出目は\", role, \"、現在のカウントは\", count)\n",
        "role = rnd.choice([1,2,3,4,5,6])\n",
        "count[role-1] += 1\n",
        "print(\"出目は\", role, \"、現在のカウントは\", count)\n",
        "role = rnd.choice([1,2,3,4,5,6])\n",
        "count[role-1] += 1\n",
        "print(\"出目は\", role, \"、現在のカウントは\", count)\n",
        "role = rnd.choice([1,2,3,4,5,6])\n",
        "count[role-1] += 1\n",
        "print(\"出目は\", role, \"、現在のカウントは\", count)\n",
        "role = rnd.choice([1,2,3,4,5,6])\n",
        "count[role-1] += 1\n",
        "print(\"出目は\", role, \"、現在のカウントは\", count)\n",
        "role = rnd.choice([1,2,3,4,5,6])\n",
        "count[role-1] += 1\n",
        "print(\"出目は\", role, \"、現在のカウントは\", count)\n",
        "```"
      ]
    },
    {
      "cell_type": "code",
      "metadata": {
        "id": "-qaI6LM636_v",
        "colab": {
          "base_uri": "https://localhost:8080/"
        },
        "outputId": "af93eabf-d8eb-44b8-bcd9-a6597a801b38"
      },
      "source": [
        "import random as rnd\n",
        "count = [0,0,0,0,0,0]\n",
        " \n",
        "role = rnd.choice([1,2,3,4,5,6])\n",
        "count[role-1] += 1\n",
        "print(\"出目は\", role, \"、現在のカウントは\", count)\n",
        "role = rnd.choice([1,2,3,4,5,6])\n",
        "count[role-1] += 1\n",
        "print(\"出目は\", role, \"、現在のカウントは\", count)\n",
        "role = rnd.choice([1,2,3,4,5,6])\n",
        "count[role-1] += 1\n",
        "print(\"出目は\", role, \"、現在のカウントは\", count)\n",
        "role = rnd.choice([1,2,3,4,5,6])\n",
        "count[role-1] += 1\n",
        "print(\"出目は\", role, \"、現在のカウントは\", count)\n",
        "role = rnd.choice([1,2,3,4,5,6])\n",
        "count[role-1] += 1\n",
        "print(\"出目は\", role, \"、現在のカウントは\", count)\n",
        "role = rnd.choice([1,2,3,4,5,6])\n",
        "count[role-1] += 1\n",
        "print(\"出目は\", role, \"、現在のカウントは\", count)\n",
        "role = rnd.choice([1,2,3,4,5,6])\n",
        "count[role-1] += 1\n",
        "print(\"出目は\", role, \"、現在のカウントは\", count)\n",
        "role = rnd.choice([1,2,3,4,5,6])\n",
        "count[role-1] += 1\n",
        "print(\"出目は\", role, \"、現在のカウントは\", count)"
      ],
      "execution_count": 14,
      "outputs": [
        {
          "output_type": "stream",
          "text": [
            "出目は 3 、現在のカウントは [0, 0, 1, 0, 0, 0]\n",
            "出目は 3 、現在のカウントは [0, 0, 2, 0, 0, 0]\n",
            "出目は 2 、現在のカウントは [0, 1, 2, 0, 0, 0]\n",
            "出目は 6 、現在のカウントは [0, 1, 2, 0, 0, 1]\n",
            "出目は 2 、現在のカウントは [0, 2, 2, 0, 0, 1]\n",
            "出目は 4 、現在のカウントは [0, 2, 2, 1, 0, 1]\n",
            "出目は 6 、現在のカウントは [0, 2, 2, 1, 0, 2]\n",
            "出目は 6 、現在のカウントは [0, 2, 2, 1, 0, 3]\n"
          ],
          "name": "stdout"
        }
      ]
    },
    {
      "cell_type": "markdown",
      "metadata": {
        "id": "kS5wMplz8Aua"
      },
      "source": [
        "```python\n",
        "plt.bar(range(6), count, tick_label=[1, 2, 3, 4, 5, 6])\n",
        "```\n",
        "は出目の回数を棒グラフ（bar graph、ヒストグラム）で描画するコードです。\n",
        "\n",
        "## リストの長さ（要素の個数）\n",
        "\n",
        "**`len()`が、リストに含まれる要素の個数（長さ）を返す関数**であることを覚えましょう。\n",
        "`month`は12個の要素を含みますので、\n",
        "`range(len(month))`は`range(12)`と同じです。\n",
        "```python\n",
        "month = ['January', 'February', 'March', 'April', 'May', 'June', 'July', 'August', 'September', 'October', 'November', 'December']\n",
        "print(\"monthの要素数は\", len(month))\n",
        "for n in range(len(month)):\n",
        "  print(\"month[\", n, \"] = \", month[n])\n",
        "```"
      ]
    },
    {
      "cell_type": "code",
      "metadata": {
        "id": "DWHCHTPF7U--",
        "colab": {
          "base_uri": "https://localhost:8080/"
        },
        "outputId": "a738a3ab-b382-4d44-b2f1-fa4fb8992804"
      },
      "source": [
        "month = ['January', 'February', 'March', 'April', 'May', 'June', 'July', 'August', 'September', 'October', 'November', 'December']\n",
        "print('monthの要素数は', len(month))\n",
        "for n in range(len(month)):\n",
        "  print(\"month[\", n, \"] = \", month[n])"
      ],
      "execution_count": 16,
      "outputs": [
        {
          "output_type": "stream",
          "text": [
            "monthの要素数は 12\n",
            "month[ 0 ] =  January\n",
            "month[ 1 ] =  February\n",
            "month[ 2 ] =  March\n",
            "month[ 3 ] =  April\n",
            "month[ 4 ] =  May\n",
            "month[ 5 ] =  June\n",
            "month[ 6 ] =  July\n",
            "month[ 7 ] =  August\n",
            "month[ 8 ] =  September\n",
            "month[ 9 ] =  October\n",
            "month[ 10 ] =  November\n",
            "month[ 11 ] =  December\n"
          ],
          "name": "stdout"
        }
      ]
    },
    {
      "cell_type": "markdown",
      "metadata": {
        "id": "uQT7iiSSBuq2"
      },
      "source": [
        "## 部分の取得（スライス）\n",
        "Pythonでは、リストの一部分を簡単に取り出すことができます。\n",
        "このやり方を**スライス**と呼びますが、非常に便利な機能で、Pythonの特長の一つといっても良いでしょう。\n",
        "\n",
        "次のサンプルプログラムを実行すると、理解が早いと思います。\n",
        "```python\n",
        "print(\"month[2] = \", month[2])\n",
        "print(\"month[10] = \", month[10])\n",
        "print(\"month[2:10] = \", month[2:10])\n",
        "print(\"month[2:] = \", month[2:])\n",
        "print(\"month[:10] = \", month[:10])\n",
        "print(\"month[2:10:2] = \", month[2:10:2])\n",
        "print(\"month[2:10:3] = \", month[2:10:3])\n",
        "```\n",
        "* `month[a:b]`は、$a$番目から$b-1$番目の要素までからなる部分リストを取り出します。\n",
        "* $b$が省略される時、`month[a:]`は、$a$番目から最後の要素までからなる部分リストを取り出します。\n",
        "* $a$が省略される時、`month[:b]`は、先頭から$b$番目の要素までからなる部分リストを取り出します。\n",
        "* `month[a:b:c]`は、取り出す要素を$c$個刻みにします。\n"
      ]
    },
    {
      "cell_type": "code",
      "metadata": {
        "id": "AdRmzcQrBuq2",
        "colab": {
          "base_uri": "https://localhost:8080/"
        },
        "outputId": "fc53a5be-9c9e-4dda-f49a-4e4d57a1c3b1"
      },
      "source": [
        "month = ['January', 'February', 'March', 'April', 'May', 'June', 'July', 'August', 'September', 'October', 'November', 'December']\n",
        "print(\"month[2] = \", month[2])\n",
        "print(\"month[10] = \", month[10])\n",
        "print(\"month[2:10] = \", month[2:10])\n",
        "print(\"month[2:] = \", month[2:])\n",
        "print(\"month[:10] = \", month[:10])\n",
        "print(\"month[2:10:2] = \", month[2:10:2])\n",
        "print(\"month[2:10:3] = \", month[2:10:3])"
      ],
      "execution_count": 20,
      "outputs": [
        {
          "output_type": "stream",
          "text": [
            "month[2] =  March\n",
            "month[10] =  November\n",
            "month[2:10] =  ['March', 'April', 'May', 'June', 'July', 'August', 'September', 'October']\n",
            "month[2:] =  ['March', 'April', 'May', 'June', 'July', 'August', 'September', 'October', 'November', 'December']\n",
            "month[:10] =  ['January', 'February', 'March', 'April', 'May', 'June', 'July', 'August', 'September', 'October']\n",
            "month[2:10:2] =  ['March', 'May', 'July', 'September']\n",
            "month[2:10:3] =  ['March', 'June', 'September']\n"
          ],
          "name": "stdout"
        }
      ]
    },
    {
      "cell_type": "markdown",
      "metadata": {
        "id": "b7O-iwy7xgW3"
      },
      "source": [
        "## リストの最後の要素へのアクセス\n",
        "\n",
        "リストの先頭の要素にアクセスするには、`リスト名[0]`で良いですが、最後の要素にアクセスするには、`リスト名[リストの要素数-1]`になります。\n",
        "1を引かなければならないのは、リストの要素の番号は０から始まるので、最後の要素の番号は「リストの要素数ー１」になるからです。\n",
        "```python\n",
        "print(month[0])\n",
        "print(month[len(month)-1])\n",
        "```"
      ]
    },
    {
      "cell_type": "code",
      "metadata": {
        "id": "OO3bs3C01a9m",
        "colab": {
          "base_uri": "https://localhost:8080/"
        },
        "outputId": "266c702e-d330-4c9d-b163-f5311fbe7f90"
      },
      "source": [
        "print(month[0])\n",
        "print(month[len(month)-1])"
      ],
      "execution_count": 21,
      "outputs": [
        {
          "output_type": "stream",
          "text": [
            "January\n",
            "December\n"
          ],
          "name": "stdout"
        }
      ]
    },
    {
      "cell_type": "markdown",
      "metadata": {
        "id": "CSKFVd2X1KiQ"
      },
      "source": [
        "リストの最後の要素にアクセスしなければならない場面は頻繁にありますので、\n",
        "その度に、いちいち`month(len(month)-1]`などと書くのは面倒です。\n",
        "Pythonでは、`リスト名[-1]`で最後の要素にアクセスする簡便な手段を提供しています。\n",
        "```python\n",
        "print(month[-1])\n",
        "print(month[-2])\n",
        "```"
      ]
    },
    {
      "cell_type": "code",
      "metadata": {
        "id": "qJsFchUK2ByS",
        "colab": {
          "base_uri": "https://localhost:8080/"
        },
        "outputId": "22b354b4-d55e-4bc0-f8cd-f48e03a00dd0"
      },
      "source": [
        "print(month[-1])\n",
        "print(month[-12])\n",
        "print(month[-3])"
      ],
      "execution_count": 25,
      "outputs": [
        {
          "output_type": "stream",
          "text": [
            "December\n",
            "January\n",
            "October\n"
          ],
          "name": "stdout"
        }
      ]
    },
    {
      "cell_type": "markdown",
      "metadata": {
        "id": "vQsCLtfW2RQ1"
      },
      "source": [
        "次のプログラムのプログラムを実行する前に、コードを読んで、その動作を予想してください。\n",
        "```python\n",
        "for n in range(len(month)):\n",
        "  print(\"month[\", -n-1, \"] = \", month[-n-1])\n",
        "```"
      ]
    },
    {
      "cell_type": "code",
      "metadata": {
        "id": "aHEgpMmx3Hpk",
        "colab": {
          "base_uri": "https://localhost:8080/"
        },
        "outputId": "87fb3a93-4538-4278-87c4-fba546f1f40c"
      },
      "source": [
        "for n in range(len(month)):\n",
        "  print(\"month[\", -n-1, \"] = \", month[-n-1])"
      ],
      "execution_count": 27,
      "outputs": [
        {
          "output_type": "stream",
          "text": [
            "month[ -1 ] =  December\n",
            "month[ -2 ] =  November\n",
            "month[ -3 ] =  October\n",
            "month[ -4 ] =  September\n",
            "month[ -5 ] =  August\n",
            "month[ -6 ] =  July\n",
            "month[ -7 ] =  June\n",
            "month[ -8 ] =  May\n",
            "month[ -9 ] =  April\n",
            "month[ -10 ] =  March\n",
            "month[ -11 ] =  February\n",
            "month[ -12 ] =  January\n"
          ],
          "name": "stdout"
        }
      ]
    },
    {
      "cell_type": "markdown",
      "metadata": {
        "id": "S730czcJ3bR7"
      },
      "source": [
        "予想はあたりましたか？\n",
        "\n",
        "`for n in range(len(month))`の最初の`n`の値は０です。\n",
        "ですので、最初に`print(month[-1])`が実行されます。\n",
        "`n`の次の値は1ですので、二番目に`print(month[-2])`が実行されます。\n",
        "頭の中で思考実験的にプログラムを実行してみて、プログラムの動作を理解することは、良い訓練になります。\n",
        "\n",
        "## 要素の並べ替え\n",
        "\n",
        "リストの要素を逆順に並べ替えるには、`reversed()`という関数を使うことができます。\n",
        "```python\n",
        "print(list(reversed(month)))\n",
        "```"
      ]
    },
    {
      "cell_type": "code",
      "metadata": {
        "id": "xrHk9Z1o4xX-",
        "colab": {
          "base_uri": "https://localhost:8080/"
        },
        "outputId": "8fda064c-3ec0-4adc-a0c8-631a69243bcf"
      },
      "source": [
        "print(list(reversed(month)))"
      ],
      "execution_count": 28,
      "outputs": [
        {
          "output_type": "stream",
          "text": [
            "['December', 'November', 'October', 'September', 'August', 'July', 'June', 'May', 'April', 'March', 'February', 'January']\n"
          ],
          "name": "stdout"
        }
      ]
    },
    {
      "cell_type": "markdown",
      "metadata": {
        "id": "Qo27sexa6i_U"
      },
      "source": [
        "`reversed(month)`は、`month`の１２個の要素を逆順に並べ替えますが、並べ替えた結果はリストではなく、イテレータ（iterator）という種類のオブジェクトになります。\n",
        "イテレータの機能については、ちょっと高度な内容なので、ここでは触れませんが、今のところ、リストと大体同等と思っておいていただいて問題ありません。イテレータは`list()`関数を使うとリストに変換することができます。\n",
        "\n",
        "次のプログラムを実行してみてください。\n",
        "```python\n",
        "print(\"# reversed(month)はイテレータ（iterator）で、リストではありません。\")\n",
        "print(\"# print(reversed(month))の実行結果：\")\n",
        "print(reversed(month))\n",
        "print() #空行を挿入します\n",
        "\n",
        "print(\"# list(reversed(month))でリストに変換されます。\")\n",
        "print(\"# print(list(reversed(month)))の実行結果：\")\n",
        "print(list(reversed(month)))\n",
        "print()\n",
        "\n",
        "print(\"reversed(month)を実行しても、元のmonthには変更はありません。\")\n",
        "print(\"# print(month)の実行結果：\")\n",
        "print(month)\n",
        "print()\n",
        "\n",
        "print(\"# for文の中ではイテレータもリストも同じ機能を果たします。\")\n",
        "print(\"# for m in reversed(month):\")\n",
        "print(\"#    print(m)\")\n",
        "print(\"# の実行結果：\")\n",
        "for m in reversed(month):\n",
        "  print(m)\n",
        "print()\n",
        "\n",
        "print(\"# list(reversed(month))としても同じです。\")\n",
        "print(\"# for m in list(reversed(month)):\")\n",
        "print(\"#    print(m)\")\n",
        "print(\"# の実行結果：\")\n",
        "for m in list(reversed(month)):\n",
        "  print(m)\n",
        "print()\n",
        "\n",
        "print(\"# range()もリストと同等でも、厳密にはリストではないことを以前にみました。\")\n",
        "print(\"# print(range(12))の実行結果：\")\n",
        "print(range(12))\n",
        "print()\n",
        "\n",
        "print(\"# list(range(12))で、リストに変換することができる点も、同じでした。\")\n",
        "print(\"# print(list(range(12)))の実行結果：\")\n",
        "print(list(range(12)))\n",
        "```"
      ]
    },
    {
      "cell_type": "code",
      "metadata": {
        "id": "7ZV86XQK74WK",
        "colab": {
          "base_uri": "https://localhost:8080/"
        },
        "outputId": "1ff8e9c4-f0f3-41e7-a6d7-0f3650d66a17"
      },
      "source": [
        "print(\"# reversed(month)はイテレータ（iterator）で、リストではありません。\")\n",
        "print(\"# print(reversed(month))の実行結果：\")\n",
        "print(reversed(month))\n",
        "print() #空行を挿入します\n",
        " \n",
        "print(\"# list(reversed(month))でリストに変換されます。\")\n",
        "print(\"# print(list(reversed(month)))の実行結果：\")\n",
        "print(list(reversed(month)))\n",
        "print()\n",
        " \n",
        "print(\"reversed(month)を実行しても、元のmonthには変更はありません。\")\n",
        "print(\"# print(month)の実行結果：\")\n",
        "print(month)\n",
        "print()\n",
        " \n",
        "print(\"# for文の中ではイテレータもリストも同じ機能を果たします。\")\n",
        "print(\"# for m in reversed(month):\")\n",
        "print(\"#    print(m)\")\n",
        "print(\"# の実行結果：\")\n",
        "for m in reversed(month):\n",
        "  print(m)\n",
        "print()\n",
        " \n",
        "print(\"# list(reversed(month))としても同じです。\")\n",
        "print(\"# for m in list(reversed(month)):\")\n",
        "print(\"#    print(m)\")\n",
        "print(\"# の実行結果：\")\n",
        "for m in list(reversed(month)):\n",
        "  print(m)\n",
        "print()\n",
        " \n",
        "print(\"# range()もリストと同等でも、厳密にはリストではないことを以前にみました。\")\n",
        "print(\"# print(range(12))の実行結果：\")\n",
        "print(range(12))\n",
        "print()\n",
        " \n",
        "print(\"# list(range(12))で、リストに変換することができる点も、同じでした。\")\n",
        "print(\"# print(list(range(12)))の実行結果：\")\n",
        "print(list(range(12)))"
      ],
      "execution_count": 29,
      "outputs": [
        {
          "output_type": "stream",
          "text": [
            "# reversed(month)はイテレータ（iterator）で、リストではありません。\n",
            "# print(reversed(month))の実行結果：\n",
            "<list_reverseiterator object at 0x7fb8731e84d0>\n",
            "\n",
            "# list(reversed(month))でリストに変換されます。\n",
            "# print(list(reversed(month)))の実行結果：\n",
            "['December', 'November', 'October', 'September', 'August', 'July', 'June', 'May', 'April', 'March', 'February', 'January']\n",
            "\n",
            "reversed(month)を実行しても、元のmonthには変更はありません。\n",
            "# print(month)の実行結果：\n",
            "['January', 'February', 'March', 'April', 'May', 'June', 'July', 'August', 'September', 'October', 'November', 'December']\n",
            "\n",
            "# for文の中ではイテレータもリストも同じ機能を果たします。\n",
            "# for m in reversed(month):\n",
            "#    print(m)\n",
            "# の実行結果：\n",
            "December\n",
            "November\n",
            "October\n",
            "September\n",
            "August\n",
            "July\n",
            "June\n",
            "May\n",
            "April\n",
            "March\n",
            "February\n",
            "January\n",
            "\n",
            "# list(reversed(month))としても同じです。\n",
            "# for m in list(reversed(month)):\n",
            "#    print(m)\n",
            "# の実行結果：\n",
            "December\n",
            "November\n",
            "October\n",
            "September\n",
            "August\n",
            "July\n",
            "June\n",
            "May\n",
            "April\n",
            "March\n",
            "February\n",
            "January\n",
            "\n",
            "# range()もリストと同等でも、厳密にはリストではないことを以前にみました。\n",
            "# print(range(12))の実行結果：\n",
            "range(0, 12)\n",
            "\n",
            "# list(range(12))で、リストに変換することができる点も、同じでした。\n",
            "# print(list(range(12)))の実行結果：\n",
            "[0, 1, 2, 3, 4, 5, 6, 7, 8, 9, 10, 11]\n"
          ],
          "name": "stdout"
        }
      ]
    },
    {
      "cell_type": "markdown",
      "metadata": {
        "id": "0wFNUskqUvo9"
      },
      "source": [
        "関数`sorted()`を使うと、リストの要素をソートすることもできます。\n",
        "```python\n",
        "print(sorted(month))\n",
        "```"
      ]
    },
    {
      "cell_type": "code",
      "metadata": {
        "id": "TWzS_K-yU1GQ",
        "colab": {
          "base_uri": "https://localhost:8080/"
        },
        "outputId": "c7f1d49f-a6f1-4a82-f470-e5c405d23fb9"
      },
      "source": [
        "print(sorted(month))"
      ],
      "execution_count": 30,
      "outputs": [
        {
          "output_type": "stream",
          "text": [
            "['April', 'August', 'December', 'February', 'January', 'July', 'June', 'March', 'May', 'November', 'October', 'September']\n"
          ],
          "name": "stdout"
        }
      ]
    },
    {
      "cell_type": "markdown",
      "metadata": {
        "id": "Oilk5oSPV6YL"
      },
      "source": [
        "当然、数字からなるリストもソートできます。\n",
        "```python\n",
        "digits = [rnd.choice(range(10)) for _ in range(20)]\n",
        "print(digits)\n",
        "print(sorted(digits))\n",
        "```"
      ]
    },
    {
      "cell_type": "code",
      "metadata": {
        "id": "2ILi_xUjV7sM",
        "colab": {
          "base_uri": "https://localhost:8080/"
        },
        "outputId": "5b372512-69e0-4093-9a36-0251d27f5c2f"
      },
      "source": [
        "digits = [rnd.choice(range(10)) for _ in range(20)]\n",
        "print(digits)\n",
        "print(sorted(digits))"
      ],
      "execution_count": 41,
      "outputs": [
        {
          "output_type": "stream",
          "text": [
            "[3, 7, 2, 0, 7, 8, 0, 5, 1, 0, 7, 5, 9, 4, 6, 9, 6, 6, 9, 4]\n",
            "[0, 0, 0, 1, 2, 3, 4, 4, 5, 5, 6, 6, 6, 7, 7, 7, 8, 9, 9, 9]\n"
          ],
          "name": "stdout"
        }
      ]
    },
    {
      "cell_type": "markdown",
      "metadata": {
        "id": "5MNE4_atW66H"
      },
      "source": [
        "## 要素の追加\n",
        "前回の授業でも学びましたが、リストに要素を追加するには`append()`関数を使います。\n",
        "appendとは、「末尾に追加する」という意味です。\n",
        "```python\n",
        "names = []\n",
        "names.append(\"Alice\")\n",
        "print(names)\n",
        "names.append(\"Bob\")\n",
        "print(names)\n",
        "names.append(\"Charlie\")\n",
        "print(names)\n",
        "```"
      ]
    },
    {
      "cell_type": "code",
      "metadata": {
        "id": "4bJkrMrldSjd",
        "colab": {
          "base_uri": "https://localhost:8080/"
        },
        "outputId": "92371d88-f2c0-4fb1-f364-b59e9cf315d7"
      },
      "source": [
        "names = []\n",
        "names.append(\"Alice\")\n",
        "print(names)\n",
        "names.append(\"Bob\")\n",
        "print(names)\n",
        "names.append(\"Chalie\")\n",
        "print(names)"
      ],
      "execution_count": 42,
      "outputs": [
        {
          "output_type": "stream",
          "text": [
            "['Alice']\n",
            "['Alice', 'Bob']\n",
            "['Alice', 'Bob', 'Chalie']\n"
          ],
          "name": "stdout"
        }
      ]
    },
    {
      "cell_type": "markdown",
      "metadata": {
        "id": "-N_a6r7h_LWT"
      },
      "source": [
        "リスト`names`を逆順に並べ替える`reversed(names)`、\n",
        "リスト`names`の末尾に`Alice`を追加する`names.append(\"Alice\")`、\n",
        "どちらもリスト`names`に関数`reversed()`、`append()`を適用していますが、記法が違います。\n",
        "厳密には、後者はオブジェクト指向の用語で「メソッドを投げる」と言って区別しますが、その違いは分かりにくいと思います。\n",
        "実は、「関数」の実装の仕方が違いの原因なので、理由は一般ユーザにとってはあまり重要ではありません。\n",
        "しかし、どちらの記法で関数を適用するのかは、\n",
        "関数ごとにわかっていなければなりません。\n",
        "\n",
        "このように、一貫性が微妙なあたりが、Pythonの欠点の一つともいえます。\n",
        "特定の関数がどちらの呼び出し方をするか、全部覚えていられないので、自作のプログラムで利用する時は、両方試してみるか、ネット検索で調べるかして下さい。\n",
        "実は、**「自分で試してみる」、「ネットで調べる」習慣をつけることはプログラミングが上達する秘訣**ですので、その点では無駄な労力ではありません。\n"
      ]
    },
    {
      "cell_type": "markdown",
      "metadata": {
        "id": "LMqLq9gtfNOk"
      },
      "source": [
        "## 要素の所属の判定\n",
        "前にも一度みましたが、特定の要素がリストに含まれるか否かは、`要素 in リスト名`の形の論理式で判定することができます。\n",
        "要素がリストに含まれていれば真（True）、含まれていなければ偽(False)が値になります。\n",
        "```python\n",
        "names = [\"Alice\", \"Bob\", \"Charlie\"]\n",
        "print('現在の名前リストは', names)\n",
        "print(\"Alice\" in names)\n",
        "print(\"David\" in names)\n",
        "if \"David\" in names:\n",
        "    print('Davidが含まれているので、Eveを追加')\n",
        "    names.append(\"Eve\")\n",
        "else:\n",
        "    print('Davidが含まれていないので、Davidを追加')\n",
        "    names.append(\"David\")\n",
        "print('現在の名前リストは', names)\n",
        "if \"David\" in names:\n",
        "    print('Davidが含まれているので、Eveを追加')\n",
        "    names.append(\"Eve\")\n",
        "else:\n",
        "    print('Davidが含まれていないので、Davidを追加')\n",
        "    names.append(\"David\")\n",
        "print('現在の名前リストは', names)\n",
        "```"
      ]
    },
    {
      "cell_type": "code",
      "metadata": {
        "id": "6oj0JwJ0fsj3",
        "colab": {
          "base_uri": "https://localhost:8080/"
        },
        "outputId": "fb255807-a15d-4744-a1b7-1b3192bdef28"
      },
      "source": [
        "names = [\"Alice\", \"Bob\", \"Charlie\"]\n",
        "print('現在の名前リストは', names)\n",
        "print(\"Alice\" in names)\n",
        "print(\"David\" in names)\n",
        "\n",
        "if \"David\" in names:\n",
        "  print('Davidが含まれているので、Eveを追加')\n",
        "  names.append(\"Eve\")\n",
        "else:\n",
        "  print('Davidが含まれていないので、Davidを追加')\n",
        "  names.append(\"David\")\n",
        "print('現在の名前リストは', names)\n",
        "\n",
        "if \"David\" in names:\n",
        "  print('Davidが含まれているので、Eveを追加')\n",
        "  names.append(\"Eve\")\n",
        "else:\n",
        "  print('Davidが含まれていないので、Davidを追加')\n",
        "  names.append(\"David\")\n",
        "print('現在の名前リストは', names)"
      ],
      "execution_count": 45,
      "outputs": [
        {
          "output_type": "stream",
          "text": [
            "現在の名前リストは ['Alice', 'Bob', 'Charlie']\n",
            "True\n",
            "False\n",
            "Davidが含まれていないので、Davidを追加\n",
            "現在の名前リストは ['Alice', 'Bob', 'Charlie', 'David']\n",
            "Davidが含まれているので、Eveを追加\n",
            "現在の名前リストは ['Alice', 'Bob', 'Charlie', 'David', 'Eve']\n"
          ],
          "name": "stdout"
        }
      ]
    },
    {
      "cell_type": "markdown",
      "metadata": {
        "id": "5trQXt_Mkp_c"
      },
      "source": [
        "リストには他にもいろいろな機能があります。\n",
        "例えば、「Python　リスト」をキーワードにして、インターネットで検索してみてください。\n",
        "サンプルプログラム付きで多くの記事が見つかると思います。\n",
        "\n",
        "Python自身は他の言語に比べると仕様が小さい（機能が少ない）ですが、ライブラリも含めると、利用できる機能は膨大です。\n",
        "到底覚え切れるものではないし、覚えようとするのはエネルギーの無駄です。\n",
        "**基本を理解して、具体的な機能はインターネットで検索して使い方を調べる**のが、賢い方法です。\n",
        "\n",
        "以下にリストの便利な機能をいくつかサンプルプログラムで示します。\n",
        "```python\n",
        "digits = list(range(10))\n",
        "print(min(digits))\n",
        "print(max(digits))\n",
        "print(sum(digits))\n",
        "\n",
        "import statistics as stats #statisticsは統計を扱うライブラリ\n",
        "print(stats.mean(digits)) #平均\n",
        "print(stats.variance(digits)) #分散\n",
        "print(stats.stdev(digits)) #標準偏差\n",
        "```"
      ]
    },
    {
      "cell_type": "code",
      "metadata": {
        "id": "lV0nbrKTm0rn",
        "colab": {
          "base_uri": "https://localhost:8080/"
        },
        "outputId": "6b854419-1e0e-4fee-88e9-9f5b972b8af1"
      },
      "source": [
        "digits = list(range(10))\n",
        "print(digits)\n",
        "print(min(digits))\n",
        "print(max(digits))\n",
        "print(sum(digits))\n",
        "print('\\n')\n",
        " \n",
        "import statistics as stats\n",
        "print(stats.mean(digits)) #平均\n",
        "print(stats.variance(digits)) #分散\n",
        "print(stats.stdev(digits)) #標準偏差"
      ],
      "execution_count": 49,
      "outputs": [
        {
          "output_type": "stream",
          "text": [
            "[0, 1, 2, 3, 4, 5, 6, 7, 8, 9]\n",
            "0\n",
            "9\n",
            "45\n",
            "\n",
            "\n",
            "4.5\n",
            "9.166666666666666\n",
            "3.0276503540974917\n"
          ],
          "name": "stdout"
        }
      ]
    },
    {
      "cell_type": "markdown",
      "metadata": {
        "id": "gAvg0bT-5_Df"
      },
      "source": [
        "最後に**文字列を文字のリスト**とみなすことができることを見ます。\n",
        "\n",
        "## 文字列\n",
        "実は、文字列オブジェクトは、文字のリストとみなすことができます。\n",
        "次の5つのプログラムを実行してみてください。\n",
        "\n",
        "**プログラム1**\n",
        "```python\n",
        "a = \"April\"\n",
        "print(len(a))\n",
        "```\n",
        "**プログラム2**\n",
        "```python\n",
        "for n in range(len(a)):\n",
        "  print(a[n])\n",
        "```\n",
        "**プログラム3**\n",
        "```python\n",
        "for c in a:\n",
        "  print(c)\n",
        "```\n",
        "**プログラム4**\n",
        "```python\n",
        "print(sorted(a))\n",
        "```\n",
        "**プログラム5**\n",
        "```python\n",
        "print(list(reversed(a)))\n",
        "```"
      ]
    },
    {
      "cell_type": "code",
      "metadata": {
        "id": "GkVBOW-YJeRq",
        "colab": {
          "base_uri": "https://localhost:8080/"
        },
        "outputId": "8a899075-112c-4601-85ee-9216067d709a"
      },
      "source": [
        "a = \"April\"\n",
        "print(len(a))"
      ],
      "execution_count": 51,
      "outputs": [
        {
          "output_type": "stream",
          "text": [
            "5\n"
          ],
          "name": "stdout"
        }
      ]
    },
    {
      "cell_type": "code",
      "metadata": {
        "id": "LiFtmC21Btyi",
        "colab": {
          "base_uri": "https://localhost:8080/"
        },
        "outputId": "dc26415e-55bd-436f-aa41-cc39c340e98f"
      },
      "source": [
        "for n in range(len(a)):\n",
        "  print(a[n])"
      ],
      "execution_count": 52,
      "outputs": [
        {
          "output_type": "stream",
          "text": [
            "A\n",
            "p\n",
            "r\n",
            "i\n",
            "l\n"
          ],
          "name": "stdout"
        }
      ]
    },
    {
      "cell_type": "code",
      "metadata": {
        "id": "NcyGSJphC-bJ",
        "colab": {
          "base_uri": "https://localhost:8080/"
        },
        "outputId": "6828cbdc-aeb6-4177-f6cb-5f6107b87ac5"
      },
      "source": [
        "for c in a:\n",
        "  print(c)"
      ],
      "execution_count": 53,
      "outputs": [
        {
          "output_type": "stream",
          "text": [
            "A\n",
            "p\n",
            "r\n",
            "i\n",
            "l\n"
          ],
          "name": "stdout"
        }
      ]
    },
    {
      "cell_type": "code",
      "metadata": {
        "id": "QzwzeYWqBurB",
        "colab": {
          "base_uri": "https://localhost:8080/"
        },
        "outputId": "a0626563-6e62-479b-e1b7-fc599c3bbc85"
      },
      "source": [
        "print(sorted(a))"
      ],
      "execution_count": 54,
      "outputs": [
        {
          "output_type": "stream",
          "text": [
            "['A', 'i', 'l', 'p', 'r']\n"
          ],
          "name": "stdout"
        }
      ]
    },
    {
      "cell_type": "code",
      "metadata": {
        "id": "fUs1p-4IBurC",
        "colab": {
          "base_uri": "https://localhost:8080/"
        },
        "outputId": "d3d026b7-cbf7-4dcd-c7c4-7e83b102a1cc"
      },
      "source": [
        "print(list(reversed(a)))"
      ],
      "execution_count": 55,
      "outputs": [
        {
          "output_type": "stream",
          "text": [
            "['l', 'i', 'r', 'p', 'A']\n"
          ],
          "name": "stdout"
        }
      ]
    },
    {
      "cell_type": "markdown",
      "metadata": {
        "id": "8Z2OU_kGDHLL"
      },
      "source": [
        "その他にも文字列に適用できるリストの機能はありますが、実行結果は文字列ではなくリストになるものもあります。\n",
        "また、使えない機能もありますので、使うときには試して見てください。\n"
      ]
    },
    {
      "cell_type": "markdown",
      "metadata": {
        "id": "wV_fherVwrwS"
      },
      "source": [
        "## プログラミング1：第4回演習\n",
        "### 演習 4-1\n",
        "欧米では「名前に'r'が含まれない月には牡蠣は食べるな」という。\n",
        "牡蠣の産卵期で脂肪分が落ちておいしくないことが理由である。\n",
        "以下のプログラムを完成させて、「牡蠣を食べてはいけない月」と「牡蠣を食べても良い月」を表示せよ。\n",
        "```python\n",
        "# 演習の解答\n",
        "month = ['January', 'February', 'March', 'April', 'May', 'June', 'July', 'August', 'September', 'October', 'November', 'December']\n",
        "cannot_eat_oister = []\n",
        "can_eat_oister = []\n",
        "# 以下にプログラムを書き加えよ\n",
        "\n",
        "# ここまで\n",
        "print(\"牡蠣を食べてはいけない月は\")\n",
        "print(cannot_eat_oister)\n",
        "print(\"牡蠣を食ても良い月は\")\n",
        "print(can_eat_oister)\n",
        "```"
      ]
    },
    {
      "cell_type": "code",
      "metadata": {
        "id": "yheIlDLNaBKx",
        "colab": {
          "base_uri": "https://localhost:8080/"
        },
        "outputId": "51194b62-5d1d-4027-d700-6d822f7b989c"
      },
      "source": [
        "# 演習の解答\n",
        "month = ['January', 'February', 'March', 'April', 'May', 'June', 'July', 'August', 'September', 'October', 'November', 'December']\n",
        "cannot_eat_oister = []\n",
        "can_eat_oister = []\n",
        "# 以下にプログラムを書き加えよ\n",
        "\n",
        "for m in month:\n",
        "  if('r' in m.lower()):\n",
        "    cannot_eat_oister.append(m)\n",
        "  else:\n",
        "    can_eat_oister.append(m)\n",
        " \n",
        "# ここまで\n",
        "print(\"牡蠣を食べてはいけない月は\")\n",
        "print(cannot_eat_oister)\n",
        "print(\"牡蠣を食ても良い月は\")\n",
        "print(can_eat_oister)"
      ],
      "execution_count": 58,
      "outputs": [
        {
          "output_type": "stream",
          "text": [
            "牡蠣を食べてはいけない月は\n",
            "['January', 'February', 'March', 'April', 'September', 'October', 'November', 'December']\n",
            "牡蠣を食ても良い月は\n",
            "['May', 'June', 'July', 'August']\n"
          ],
          "name": "stdout"
        }
      ]
    },
    {
      "cell_type": "markdown",
      "metadata": {
        "id": "93wrd_3ZKFoj"
      },
      "source": [
        "### 演習 4-2\n",
        "英語では、月名の先頭3文字をとって、省略形とする。例えば、Januaryの省略形は、Janである。\n",
        "```python\n",
        "month = ['January', 'February', 'March', 'April', 'May', 'June', 'July', 'August', 'September', 'October', 'November', 'December']\n",
        "```\n",
        "から、省略形のリスト\n",
        "```python\n",
        "month_abbr = ['Jan', ... ]\n",
        "```\n",
        "を生成するプログラムを、内包表現を用いて作成せよ。"
      ]
    },
    {
      "cell_type": "code",
      "metadata": {
        "id": "6pCYbljH6J_D",
        "colab": {
          "base_uri": "https://localhost:8080/"
        },
        "outputId": "fb21e423-5cd9-4da5-c505-a9b657d9f949"
      },
      "source": [
        "month = ['January', 'February', 'March', 'April', 'May', 'June', 'July', 'August', 'September', 'October', 'November', 'December']\n",
        "month_abbr = []\n",
        "\n",
        "for m in month:\n",
        "  shortened_word = m[:3]\n",
        "  month_abbr.append(shortened_word)\n",
        "print(month_abbr)"
      ],
      "execution_count": 61,
      "outputs": [
        {
          "output_type": "stream",
          "text": [
            "['Jan', 'Feb', 'Mar', 'Apr', 'May', 'Jun', 'Jul', 'Aug', 'Sep', 'Oct', 'Nov', 'Dec']\n"
          ],
          "name": "stdout"
        }
      ]
    }
  ]
}